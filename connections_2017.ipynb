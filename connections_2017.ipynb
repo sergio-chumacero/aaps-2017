{
 "cells": [
  {
   "cell_type": "code",
   "execution_count": 1,
   "metadata": {},
   "outputs": [
    {
     "data": {
      "text/html": [
       "<script>requirejs.config({paths: { 'plotly': ['https://cdn.plot.ly/plotly-latest.min']},});if(!window.Plotly) {{require(['plotly'],function(plotly) {window.Plotly=plotly;});}}</script>"
      ],
      "text/vnd.plotly.v1+html": [
       "<script>requirejs.config({paths: { 'plotly': ['https://cdn.plot.ly/plotly-latest.min']},});if(!window.Plotly) {{require(['plotly'],function(plotly) {window.Plotly=plotly;});}}</script>"
      ]
     },
     "metadata": {},
     "output_type": "display_data"
    }
   ],
   "source": [
    "import plotly.graph_objs as go\n",
    "import pandas as pd\n",
    "import numpy as np\n",
    "import requests\n",
    "from plotly.offline import init_notebook_mode, iplot\n",
    "init_notebook_mode(connected=True)"
   ]
  },
  {
   "cell_type": "code",
   "execution_count": 2,
   "metadata": {},
   "outputs": [],
   "source": [
    "reports_r = requests.get('https://peridash.ml/api/reports')\n",
    "measurements_r = requests.get('https://peridash.ml/api/measurements')\n",
    "epsas_r = requests.get('https://peridash.ml/api/epsas')\n",
    "variables_r = requests.get('https://peridash.ml/api/variables')\n",
    "indicators_r = requests.get('https://peridash.ml/api/indicators')"
   ]
  },
  {
   "cell_type": "code",
   "execution_count": 3,
   "metadata": {},
   "outputs": [],
   "source": [
    "reports_df = pd.read_json(reports_r.text)\n",
    "measurements_df = pd.read_json(measurements_r.text)\n",
    "epsas_df = pd.read_json(epsas_r.text)\n",
    "variables_df = pd.read_json(variables_r.text)\n",
    "indicators_df = pd.read_json(indicators_r.text)\n",
    "\n",
    "complete_reports_df = pd.merge(reports_df, epsas_df, left_on='epsa', right_on='url')\n",
    "complete_measurements_df = pd.merge(measurements_df, epsas_df, left_on='epsa', right_on='url')"
   ]
  },
  {
   "cell_type": "code",
   "execution_count": 4,
   "metadata": {},
   "outputs": [
    {
     "data": {
      "text/html": [
       "<script>requirejs.config({paths: { 'plotly': ['https://cdn.plot.ly/plotly-latest.min']},});if(!window.Plotly) {{require(['plotly'],function(plotly) {window.Plotly=plotly;});}}</script>"
      ],
      "text/vnd.plotly.v1+html": [
       "<script>requirejs.config({paths: { 'plotly': ['https://cdn.plot.ly/plotly-latest.min']},});if(!window.Plotly) {{require(['plotly'],function(plotly) {window.Plotly=plotly;});}}</script>"
      ]
     },
     "metadata": {},
     "output_type": "display_data"
    }
   ],
   "source": [
    "from plotly.offline import iplot, init_notebook_mode\n",
    "init_notebook_mode(connected=True)"
   ]
  },
  {
   "cell_type": "code",
   "execution_count": 5,
   "metadata": {},
   "outputs": [],
   "source": [
    "ind_names = [\n",
    "    'Rendimiento actual de la fuente', 'Uso eficiente del recurso',\n",
    "    'Cobertura de muestras de agua potable',\n",
    "    'Conformidad de los análisis de agua potable realizados',\n",
    "    'Dotación', 'Continuidad por racionamiento', 'Continuidad por corte',\n",
    "    'Cobertura del servicio de agua potable',\n",
    "    'Cobertura del servicio de alcantarillado sanitario',\n",
    "    'Cobertura de micromedición',\n",
    "    'Incidencia extracción de agua cruda subterránea ',\n",
    "    'Índice de tratamiento de agua residual', 'Control de agua residual',\n",
    "    'Capacidad instalada de planta de tratamiento de agua potable',\n",
    "    'Capacidad instalada de planta de tratamiento de agua residual ',\n",
    "    'Presión del servicio de agua potable',\n",
    "    'Índice de agua no contabilizada en producción',\n",
    "    'Índice de agua no contabilizada en la red',\n",
    "    'Densidad de fallas en tuberías de agua potable',\n",
    "    'Densidad de fallas en conexiones de agua potable',\n",
    "    'Densidad de fallas en tuberías de agua residual',\n",
    "    'Densidad de fallas en conexiones de agua residual',\n",
    "    'Índice de operación eficiente', 'Prueba ácida',\n",
    "    'Eficiencia de recaudación', 'Índice de endeudamiento total', 'Tarifa media',\n",
    "    'Costo unitario de operación', 'Índice de ejecución de inversiones',\n",
    "    'Personal calificado', 'Número de empleados por cada 1000 conexiones',\n",
    "    'Atención de reclamos'\n",
    "]\n",
    "ind_units = ['%', '%', '%', '%', 'l/hab/día', 'hr/día', '%', '%', '%', '%',\n",
    "             '%', '%', '%', '%', '%', '%', '%', '%', 'fallas/100km',\n",
    "             'fallas/1000conex.', 'fallas/100km', 'fallas/1000conex.', '%', '-',\n",
    "             '%', '%', '%CUO(Bs.)', '%TM(Bs.)', '%', '%', 'empleados/1000conex.', '%']\n",
    "\n",
    "colors = [\n",
    "    '#1f77b4','#ff7f0e','#2ca02c',\n",
    "    '#d62728', '#9467bd', '#8c564b',\n",
    "    '#e377c2', '#7f7f7f', '#bcbd22','#17becf'\n",
    "]\n",
    "\n",
    "def get_ind_name(ind):\n",
    "    return ind_names[int(ind[3:])-1]\n",
    "\n",
    "def get_ind_unit(ind):\n",
    "    return ind_units[int(ind[3:])-1]"
   ]
  },
  {
   "cell_type": "code",
   "execution_count": 16,
   "metadata": {},
   "outputs": [],
   "source": [
    "crdf = complete_reports_df\n",
    "cmdf = complete_measurements_df\n",
    "\n",
    "categories = list(crdf.category.sort_values().unique())\n",
    "selected_year = 2017\n",
    "\n",
    "selected_vars = ['v17', 'v18']\n",
    "default_cat = 'A'\n",
    "\n",
    "ydf = crdf[crdf.year == selected_year]\n",
    "\n",
    "vdf = variables_df\n",
    "v1_name = vdf[vdf.var_id == int(selected_vars[0][1:])].name.iloc[0]\n",
    "v1_unit = vdf[vdf.var_id == int(selected_vars[0][1:])].unit.iloc[0]\n",
    "v2_name = vdf[vdf.var_id == int(selected_vars[1][1:])].name.iloc[0]\n",
    "v2_unit = vdf[vdf.var_id == int(selected_vars[1][1:])].unit.iloc[0]\n",
    "\n",
    "data = []\n",
    "\n",
    "for i, category in enumerate(categories):\n",
    "    fdf = ydf[ydf.category == category].fillna(0)\n",
    "    total_col = fdf[selected_vars[0]] + fdf[selected_vars[1]]\n",
    "    fdf = fdf.assign(total=total_col).sort_values('total')\n",
    "    visible = True if i == 0 else False\n",
    "\n",
    "    data.append(go.Bar(\n",
    "        x=list(fdf.code),\n",
    "        y=list(fdf[selected_vars[0]]),\n",
    "        text= [f'{str(val)[:-2]}' for val in list(fdf[selected_vars[0]])],\n",
    "        opacity=0.8,  \n",
    "        textposition='auto',\n",
    "        hoverinfo='text',\n",
    "        visible=visible,\n",
    "        name='Agua Potable',\n",
    "    ))\n",
    "    \n",
    "    data.append(go.Bar(\n",
    "        x=list(fdf.code),\n",
    "        y=list(fdf[selected_vars[1]]),\n",
    "        text= [ f'{str(val)[:-2]}' for val in list(fdf[selected_vars[1]])],\n",
    "        opacity=0.8,  \n",
    "        textposition='auto',\n",
    "        hoverinfo='text',\n",
    "        visible=visible,\n",
    "        name='Alcantarillado',\n",
    "    ))\n",
    "\n",
    "def get_visible_list(category):\n",
    "    category_map = dict(A=0, B=1, C=2, D=3)\n",
    "    base_array = [False for i in range(4)]\n",
    "    base_array[category_map[category]] = True\n",
    "    fat_array = [[x] * 2 for x in base_array]\n",
    "    return [x for l in fat_array for x in l]\n",
    "\n",
    "def make_x_axis(category):\n",
    "    return dict(\n",
    "        title=f'EPSAs Categoría {category}',\n",
    "        titlefont=dict(\n",
    "            family='Courier New, monospace',\n",
    "            size=18,\n",
    "            color='#7f7f7f'\n",
    "        )\n",
    "    )\n",
    "\n",
    "def make_y_axis():\n",
    "    return dict(\n",
    "        title=f'Numero de Conexiones',\n",
    "        titlefont=dict(\n",
    "            family='Courier New, monospace',\n",
    "            size=18,\n",
    "            color='#7f7f7f'\n",
    "        )\n",
    "    )\n",
    "\n",
    "updatemenus = [dict(\n",
    "    type= 'buttons',\n",
    "    showactive=True,\n",
    "    active=0,\n",
    "    xanchor='left',\n",
    "    yanchor='top',\n",
    "    direction='right',\n",
    "    x= 0.25,\n",
    "    y= -0.3,\n",
    "    buttons = [dict(\n",
    "        label= f'Categoría {cat}',\n",
    "        method='update',\n",
    "        args = [\n",
    "            {'visible': get_visible_list(cat)},\n",
    "            dict(\n",
    "                title= f'Presión del Servicio de Agua Potable - Categoría {cat}',\n",
    "                xaxis= make_x_axis(cat),\n",
    "            ),\n",
    "        ],\n",
    "    ) for cat in categories]\n",
    ")]\n",
    "\n",
    "layout = go.Layout(\n",
    "    title= 'Conexiones de Agua Potable y Alcantarillado',\n",
    "    xaxis= make_x_axis('A'),\n",
    "    yaxis= make_y_axis(),\n",
    "    hovermode='closest',\n",
    "    updatemenus=updatemenus,\n",
    "    barmode='stack',\n",
    ")\n",
    "\n",
    "fig = go.Figure(data=data, layout=layout)\n",
    "iplot(fig)"
   ]
  },
  {
   "cell_type": "code",
   "execution_count": 103,
   "metadata": {},
   "outputs": [
    {
     "data": {
      "text/html": [
       "<iframe id=\"igraph\" scrolling=\"no\" style=\"border:none;\" seamless=\"seamless\" src=\"https://plot.ly/~sergiochumacero/94.embed\" height=\"525px\" width=\"100%\"></iframe>"
      ],
      "text/plain": [
       "<plotly.tools.PlotlyDisplay object>"
      ]
     },
     "execution_count": 103,
     "metadata": {},
     "output_type": "execute_result"
    }
   ],
   "source": [
    "import plotly.plotly as py\n",
    "py.iplot(fig, filename='connections_2017')"
   ]
  }
 ],
 "metadata": {
  "kernelspec": {
   "display_name": "Python 3",
   "language": "python",
   "name": "python3"
  },
  "language_info": {
   "codemirror_mode": {
    "name": "ipython",
    "version": 3
   },
   "file_extension": ".py",
   "mimetype": "text/x-python",
   "name": "python",
   "nbconvert_exporter": "python",
   "pygments_lexer": "ipython3",
   "version": "3.6.5"
  }
 },
 "nbformat": 4,
 "nbformat_minor": 2
}
