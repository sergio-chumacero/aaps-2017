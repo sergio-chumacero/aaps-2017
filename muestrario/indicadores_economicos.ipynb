{
 "cells": [
  {
   "cell_type": "code",
   "execution_count": 39,
   "metadata": {},
   "outputs": [],
   "source": [
    "import plotly.graph_objs as go\n",
    "import pandas as pd\n",
    "import requests\n",
    "import plotly.plotly as py"
   ]
  },
  {
   "cell_type": "code",
   "execution_count": 2,
   "metadata": {},
   "outputs": [],
   "source": [
    "reports_r = requests.get('https://peridash.ml/api/reports')\n",
    "measurements_r = requests.get('https://peridash.ml/api/measurements')\n",
    "epsas_r = requests.get('https://peridash.ml/api/epsas')\n",
    "variables_r = requests.get('https://peridash.ml/api/variables')\n",
    "indicators_r = requests.get('https://peridash.ml/api/indicators')"
   ]
  },
  {
   "cell_type": "code",
   "execution_count": 3,
   "metadata": {},
   "outputs": [],
   "source": [
    "reports_df = pd.read_json(reports_r.text)\n",
    "measurements_df = pd.read_json(measurements_r.text)\n",
    "epsas_df = pd.read_json(epsas_r.text)\n",
    "variables_df = pd.read_json(variables_r.text)\n",
    "indicators_df = pd.read_json(indicators_r.text)\n",
    "\n",
    "complete_reports_df = pd.merge(reports_df, epsas_df, left_on='epsa', right_on='url')\n",
    "complete_measurements_df = pd.merge(measurements_df, epsas_df, left_on='epsa', right_on='url')"
   ]
  },
  {
   "cell_type": "code",
   "execution_count": 4,
   "metadata": {},
   "outputs": [
    {
     "data": {
      "text/html": [
       "<script>requirejs.config({paths: { 'plotly': ['https://cdn.plot.ly/plotly-latest.min']},});if(!window.Plotly) {{require(['plotly'],function(plotly) {window.Plotly=plotly;});}}</script>"
      ],
      "text/vnd.plotly.v1+html": [
       "<script>requirejs.config({paths: { 'plotly': ['https://cdn.plot.ly/plotly-latest.min']},});if(!window.Plotly) {{require(['plotly'],function(plotly) {window.Plotly=plotly;});}}</script>"
      ]
     },
     "metadata": {},
     "output_type": "display_data"
    }
   ],
   "source": [
    "from plotly.offline import iplot, init_notebook_mode\n",
    "init_notebook_mode(connected=True)"
   ]
  },
  {
   "cell_type": "code",
   "execution_count": 5,
   "metadata": {},
   "outputs": [],
   "source": [
    "ind_names = [\n",
    "    'Rendimiento actual de la fuente', 'Uso eficiente del recurso',\n",
    "    'Cobertura de muestras de agua potable',\n",
    "    'Conformidad de los análisis de agua potable realizados',\n",
    "    'Dotación', 'Continuidad por racionamiento', 'Continuidad por corte',\n",
    "    'Cobertura del servicio de agua potable',\n",
    "    'Cobertura del servicio de alcantarillado sanitario',\n",
    "    'Cobertura de micromedición',\n",
    "    'Incidencia extracción de agua cruda subterránea ',\n",
    "    'Índice de tratamiento de agua residual', 'Control de agua residual',\n",
    "    'Capacidad instalada de planta de tratamiento de agua potable',\n",
    "    'Capacidad instalada de planta de tratamiento de agua residual ',\n",
    "    'Presión del servicio de agua potable',\n",
    "    'Índice de agua no contabilizada en producción',\n",
    "    'Índice de agua no contabilizada en la red',\n",
    "    'Densidad de fallas en tuberías de agua potable',\n",
    "    'Densidad de fallas en conexiones de agua potable',\n",
    "    'Densidad de fallas en tuberías de agua residual',\n",
    "    'Densidad de fallas en conexiones de agua residual',\n",
    "    'Índice de operación eficiente', 'Prueba ácida',\n",
    "    'Eficiencia de recaudación', 'Índice de endeudamiento total', 'Tarifa media',\n",
    "    'Costo unitario de operación', 'Índice de ejecución de inversiones',\n",
    "    'Personal calificado', 'Número de empleados por cada 1000 conexiones',\n",
    "    'Atención de reclamos'\n",
    "]\n",
    "ind_units = ['%', '%', '%', '%', 'l/hab/día', 'hr/día', '%', '%', '%', '%',\n",
    "             '%', '%', '%', '%', '%', '%', '%', '%', 'fallas/100km',\n",
    "             'fallas/1000conex.', 'fallas/100km', 'fallas/1000conex.', '%', '-',\n",
    "             '%', '%', '%CUO(Bs.)', '%TM(Bs.)', '%', '%', 'empleados/1000conex.', '%']\n",
    "\n",
    "colors = [\n",
    "    '#1f77b4','#ff7f0e','#2ca02c',\n",
    "    '#d62728', '#9467bd', '#8c564b',\n",
    "    '#e377c2', '#7f7f7f', '#bcbd22','#17becf'\n",
    "]\n",
    "\n",
    "def get_ind_name(ind):\n",
    "    return ind_names[int(ind[3:])-1]\n",
    "\n",
    "def get_ind_unit(ind):\n",
    "    return ind_units[int(ind[3:])-1]"
   ]
  },
  {
   "cell_type": "code",
   "execution_count": 10,
   "metadata": {},
   "outputs": [],
   "source": [
    "crdf = complete_reports_df\n",
    "cmdf = complete_measurements_df\n",
    "\n",
    "categories = list(crdf.category.sort_values().unique()) # ['A', 'B', 'C', 'D']\n",
    "years = list(crdf.year.sort_values().unique()) # [2014, 2015, 2016, 2017]\n",
    "\n",
    "selected_inds = ['ind23','ind27', 'ind28', 'ind25']\n",
    "\n",
    "default_cat = 'A'\n",
    "default_ind = 'ind23'"
   ]
  },
  {
   "cell_type": "code",
   "execution_count": 68,
   "metadata": {},
   "outputs": [],
   "source": [
    "data = []\n",
    "\n",
    "for cat_i, category in enumerate(categories):\n",
    "    for ind_i, indicator in enumerate(selected_inds):\n",
    "        visible = True if cat_i == 0 and ind_i == 0 else False\n",
    "        \n",
    "        for year_i, year in enumerate(years):\n",
    "        \n",
    "            filtered_df = cmdf[(cmdf.category == category) & (cmdf.year == year)]\n",
    "                    \n",
    "            trace = go.Bar(\n",
    "                x=filtered_df.code,\n",
    "                y=filtered_df[indicator],\n",
    "                name=str(year),\n",
    "                text=get_ind_unit(indicator),\n",
    "                opacity=0.8,\n",
    "                marker=dict(color=colors[year_i]),\n",
    "                visible=visible\n",
    "            )\n",
    "            \n",
    "            data.append(trace)   "
   ]
  },
  {
   "cell_type": "code",
   "execution_count": 69,
   "metadata": {},
   "outputs": [],
   "source": [
    "def get_visible_list(category, indicator):\n",
    "    category_map = dict(A=0, B=1, C=2, D=3)\n",
    "    indicator_map = dict(ind23=0, ind27=1, ind28=2, ind25=3)\n",
    "    \n",
    "    cat_offset = category_map[category]\n",
    "    ind_offset = indicator_map[indicator]\n",
    "    \n",
    "    offset = (cat_offset * 4) + ind_offset\n",
    "    \n",
    "    base_array = [0 for i in range(16)]\n",
    "    base_array[offset] = 1\n",
    "    \n",
    "    big_true = [True for i in range(4)]\n",
    "    big_false = [False for i in range(4)]\n",
    "    \n",
    "    nested_array = [big_true if x == 1 else big_false for x in base_array]\n",
    "    \n",
    "    return [x for l in nested_array for x in l]\n",
    "\n",
    "def make_x_axis(category):\n",
    "    return dict(\n",
    "        title=f'EPSAs Categoría {category}',\n",
    "        titlefont=dict(\n",
    "            family='Courier New, monospace',\n",
    "            size=18,\n",
    "            color='#7f7f7f'\n",
    "        )\n",
    "    )\n",
    "\n",
    "def make_y_axis(ind_code):\n",
    "    return dict(\n",
    "        title=f'Unidad: {get_ind_unit(ind_code)}',\n",
    "        titlefont=dict(\n",
    "            family='Courier New, monospace',\n",
    "            size=18,\n",
    "            color='#7f7f7f'\n",
    "        )\n",
    "    )\n",
    "\n",
    "def make_title(ind_code):\n",
    "    ind_name = get_ind_name(ind_code)\n",
    "    ind_unit = get_ind_unit(ind_code)\n",
    "    ind_param = '(Parámetro óptimo: 65-75%)' if ind_code == 'ind23' else ''\n",
    "    return f'Indicador {ind_code[3:]}: {ind_name} ({ind_unit}) {ind_param}'\n",
    "    \n",
    "\n",
    "def make_shapes(ind_code):\n",
    "    \n",
    "    special_shapes = [dict(\n",
    "        type= 'rect',\n",
    "        xref= 'paper',\n",
    "        yref= 'y',\n",
    "        x0= 0,\n",
    "        y0= 65,\n",
    "        x1=1,\n",
    "        y1= 75,\n",
    "        fillcolor= colors[0],\n",
    "        opacity= 0.2,\n",
    "        line= {'width': 0,}\n",
    "    )]\n",
    "    \n",
    "    return special_shapes if ind_code == 'ind23' else []\n",
    "\n",
    "    \n",
    "drop_x_map = dict(\n",
    "    ind23=0,\n",
    "    ind27=0.25,\n",
    "    ind28=0.5,\n",
    "    ind25=0.75,\n",
    ")\n",
    "\n",
    "def get_label(ind, cat):\n",
    "    name_list = ['IOE', 'TM', 'CUO', 'ER']\n",
    "    ind_map = dict(ind23=0, ind27=1, ind28=2, ind25=3)\n",
    "    return f'{name_list[ind_map[ind]]} - {cat}'"
   ]
  },
  {
   "cell_type": "code",
   "execution_count": 71,
   "metadata": {},
   "outputs": [],
   "source": [
    "updatemenus = [dict(\n",
    "    showactive=True,\n",
    "    active=0,\n",
    "    xanchor='left',\n",
    "    yanchor='top',\n",
    "    direction='up',\n",
    "    x= drop_x_map[ind],\n",
    "    y= -0.5,\n",
    "    buttons = [dict(\n",
    "        label=get_label(ind, cat),\n",
    "        method='update', # modify both data and layout\n",
    "        args = [\n",
    "            {'visible': get_visible_list(cat, ind)}, # data modification\n",
    "            # layout modification\n",
    "            dict(\n",
    "                title= make_title(ind),\n",
    "                xaxis= make_x_axis(cat),\n",
    "                yaxis= make_y_axis(ind),\n",
    "                shapes= make_shapes(ind),\n",
    "            ),\n",
    "        ],\n",
    "    ) for cat in categories]\n",
    ") for ind in selected_inds]"
   ]
  },
  {
   "cell_type": "code",
   "execution_count": 72,
   "metadata": {},
   "outputs": [],
   "source": [
    "layout = go.Layout(\n",
    "    title= make_title(default_ind),\n",
    "    xaxis= make_x_axis(default_cat),\n",
    "    yaxis= make_y_axis(default_ind),\n",
    "    shapes=make_shapes(default_ind),\n",
    "    hovermode='closest',\n",
    "    updatemenus = updatemenus,\n",
    ")"
   ]
  },
  {
   "cell_type": "code",
   "execution_count": 73,
   "metadata": {},
   "outputs": [
    {
     "data": {
      "text/html": [
       "<iframe id=\"igraph\" scrolling=\"no\" style=\"border:none;\" seamless=\"seamless\" src=\"https://plot.ly/~sergiochumacero/92.embed\" height=\"525px\" width=\"100%\"></iframe>"
      ],
      "text/plain": [
       "<plotly.tools.PlotlyDisplay object>"
      ]
     },
     "execution_count": 73,
     "metadata": {},
     "output_type": "execute_result"
    }
   ],
   "source": [
    "fig = go.Figure(data=data, layout=layout)\n",
    "py.iplot(fig, filename='economicos_2017')"
   ]
  }
 ],
 "metadata": {
  "kernelspec": {
   "display_name": "Python 3",
   "language": "python",
   "name": "python3"
  },
  "language_info": {
   "codemirror_mode": {
    "name": "ipython",
    "version": 3
   },
   "file_extension": ".py",
   "mimetype": "text/x-python",
   "name": "python",
   "nbconvert_exporter": "python",
   "pygments_lexer": "ipython3",
   "version": "3.6.5"
  }
 },
 "nbformat": 4,
 "nbformat_minor": 2
}
