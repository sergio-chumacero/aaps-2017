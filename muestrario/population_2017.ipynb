{
 "cells": [
  {
   "cell_type": "markdown",
   "metadata": {},
   "source": [
    "# <span style=\"color:blue\">Población</span>\n",
    "# <span style=\"color:gray\">Animated Scatter Plot</span>\n",
    "\n",
    "<b>Axes:</b>\n",
    "\n",
    "*  <b>x:</b> Porcentaje de población abastecida sobre población total del servicio autorizado\n",
    "*  <b>y:</b> Segregación por Categoría\n",
    "\n",
    "<b>Points:</b> A point for each Epsa. Colored based on the EPSA's categories. Size fixed.\n",
    "\n",
    "<b>Filters:</b> Epsas are split into categories, which can be selected individually for display.\n",
    "\n",
    "<b>Frames:</b> A frame for each year with animation option supporting smooth transitions.\n",
    "\n",
    "<b>Environment:</b> Local with python objects simulating plotly grids for online compatibility. "
   ]
  },
  {
   "cell_type": "markdown",
   "metadata": {},
   "source": [
    "<b>LIBRARY IMPORTS</b>"
   ]
  },
  {
   "cell_type": "code",
   "execution_count": 2,
   "metadata": {},
   "outputs": [
    {
     "data": {
      "text/html": [
       "<script>requirejs.config({paths: { 'plotly': ['https://cdn.plot.ly/plotly-latest.min']},});if(!window.Plotly) {{require(['plotly'],function(plotly) {window.Plotly=plotly;});}}</script>"
      ],
      "text/vnd.plotly.v1+html": [
       "<script>requirejs.config({paths: { 'plotly': ['https://cdn.plot.ly/plotly-latest.min']},});if(!window.Plotly) {{require(['plotly'],function(plotly) {window.Plotly=plotly;});}}</script>"
      ]
     },
     "metadata": {},
     "output_type": "display_data"
    }
   ],
   "source": [
    "import requests\n",
    "import pandas as pd\n",
    "import numpy as np\n",
    "import math\n",
    "from plotly.offline import iplot, init_notebook_mode\n",
    "import plotly.graph_objs as go\n",
    "init_notebook_mode(connected=True)"
   ]
  },
  {
   "cell_type": "code",
   "execution_count": 3,
   "metadata": {},
   "outputs": [],
   "source": [
    "epsas_r = requests.get('https://peridash.ml/api/epsas')"
   ]
  },
  {
   "cell_type": "code",
   "execution_count": 4,
   "metadata": {},
   "outputs": [],
   "source": [
    "epsas_df = pd.read_json(epsas_r.text)"
   ]
  },
  {
   "cell_type": "code",
   "execution_count": 5,
   "metadata": {},
   "outputs": [],
   "source": [
    "with open('epsas.json', 'w') as f:\n",
    "    f.write(epsas_df.to_json())"
   ]
  },
  {
   "cell_type": "markdown",
   "metadata": {},
   "source": [
    "<b>API REQUESTS</b>"
   ]
  },
  {
   "cell_type": "code",
   "execution_count": 3,
   "metadata": {},
   "outputs": [],
   "source": [
    "reports_r = requests.get('https://peridash.ml/api/reports')\n",
    "measurements_r = requests.get('https://peridash.ml/api/measurements')\n",
    "epsas_r = requests.get('https://peridash.ml/api/epsas')\n",
    "variables_r = requests.get('https://peridash.ml/api/variables')\n",
    "indicators_r = requests.get('https://peridash.ml/api/indicators')"
   ]
  },
  {
   "cell_type": "markdown",
   "metadata": {},
   "source": [
    "<b>DATAFRAMES</b>"
   ]
  },
  {
   "cell_type": "code",
   "execution_count": 4,
   "metadata": {},
   "outputs": [],
   "source": [
    "reports_df = pd.read_json(reports_r.text)\n",
    "measurements_df = pd.read_json(measurements_r.text)\n",
    "epsas_df = pd.read_json(epsas_r.text)\n",
    "\n",
    "complete_reports_df = pd.merge(reports_df, epsas_df, left_on='epsa', right_on='url')\n",
    "complete_measurements_df = pd.merge(measurements_df, epsas_df, left_on='epsa', right_on='url')\n",
    "\n",
    "rdf = complete_reports_df\n",
    "mdf = complete_measurements_df\n",
    "vdf = pd.read_json(variables_r.text)\n",
    "idf = pd.read_json(indicators_r.text)"
   ]
  },
  {
   "cell_type": "code",
   "execution_count": 5,
   "metadata": {},
   "outputs": [],
   "source": [
    "ind_names = [\n",
    "    'Rendimiento actual de la fuente', 'Uso eficiente del recurso',\n",
    "    'Cobertura de muestras de agua potable',\n",
    "    'Conformidad de los análisis de agua potable realizados',\n",
    "    'Dotación', 'Continuidad por racionamiento', 'Continuidad por corte',\n",
    "    'Cobertura del servicio de agua potable',\n",
    "    'Cobertura del servicio de alcantarillado sanitario',\n",
    "    'Cobertura de micromedición',\n",
    "    'Incidencia extracción de agua cruda subterránea ',\n",
    "    'Índice de tratamiento de agua residual', 'Control de agua residual',\n",
    "    'Capacidad instalada de planta de tratamiento de agua potable',\n",
    "    'Capacidad instalada de planta de tratamiento de agua residual ',\n",
    "    'Presión del servicio de agua potable',\n",
    "    'Índice de agua no contabilizada en producción',\n",
    "    'Índice de agua no contabilizada en la red',\n",
    "    'Densidad de fallas en tuberías de agua potable',\n",
    "    'Densidad de fallas en conexiones de agua potable',\n",
    "    'Densidad de fallas en tuberías de agua residual',\n",
    "    'Densidad de fallas en conexiones de agua residual',\n",
    "    'Índice de operación eficiente', 'Prueba ácida',\n",
    "    'Eficiencia de recaudación', 'Índice de endeudamiento total', 'Tarifa media',\n",
    "    'Costo unitario de operación', 'Índice de ejecución de inversiones',\n",
    "    'Personal calificado', 'Número de empleados por cada 1000 conexiones',\n",
    "    'Atención de reclamos'\n",
    "]\n",
    "ind_units = ['%', '%', '%', '%', 'l/hab/día', 'hr/día', '%', '%', '%', '%',\n",
    "             '%', '%', '%', '%', '%', '%', '%', '%', 'fallas/100km',\n",
    "             'fallas/1000conex.', 'fallas/100km', 'fallas/1000conex.', '%', '-',\n",
    "             '%', '%', '%CUO(Bs.)', '%TM(Bs.)', '%', '%', 'empleados/1000conex.', '%']\n",
    "\n",
    "colors = [\n",
    "    '#1f77b4','#ff7f0e','#2ca02c',\n",
    "    '#d62728', '#9467bd', '#8c564b',\n",
    "    '#e377c2', '#7f7f7f', '#bcbd22','#17becf'\n",
    "]\n",
    "\n",
    "def get_ind_name(ind):\n",
    "    return ind_names[int(ind[3:])-1]\n",
    "\n",
    "def get_ind_unit(ind):\n",
    "    return ind_units[int(ind[3:])-1]"
   ]
  },
  {
   "cell_type": "code",
   "execution_count": 224,
   "metadata": {},
   "outputs": [
    {
     "data": {
      "text/plain": [
       "['29672.0 - 31245.0 - 32340.0 - 29061.0',\n",
       " '12635.0 - 13267.0 - 15027.0 - 32340.0',\n",
       " '12829.0 - 13429.0 - 14006.0 - nan',\n",
       " '15481.0 - 16255.0 - 16956.0 - 15716.0',\n",
       " '34400.0 - 35122.0 - 35859.56 - 13044.0',\n",
       " '43445.0 - 46138.0 - 48749.0 - 15211.0',\n",
       " '15995.0 - 20415.0 - 23584.23 - 36613.0',\n",
       " '37289.0 - 38035.0 - 38788.0 - 51750.0',\n",
       " '23880.0 - 25462.0 - 26735.0 - 23999.0',\n",
       " '10215.0 - 10573.0 - 10945.0 - 39548.0',\n",
       " '27190.0 - 27494.0 - 28109.87 - 27399.0',\n",
       " '25447.0 - 30239.0 - 32557.0 - 12052.0',\n",
       " '24800.0 - 28971.0 - 28408.0 - 26950.0',\n",
       " '14265.0 - 18402.0 - 18800.0 - 19232.0',\n",
       " '20720.0 - 21248.0 - 15766.0 - 15797.0',\n",
       " '18128.0 - 18491.0 - 19384.0 - 33886.0',\n",
       " '20710.0 - 21381.0 - 21552.0 - 11136.0',\n",
       " '37114.0 - 39080.0 - 18860.0 - 20246.0',\n",
       " '42556.0 - 43284.0 - 21436.0 - 22759.0',\n",
       " '24677.0 - 30000.0 - 43294.0 - 19588.0',\n",
       " '24065.0 - 24259.0 - 31512.0 - 24499.0',\n",
       " '45048.0 - 46489.0 - 26429.0 - 22059.0',\n",
       " '10472.0 - 10535.0 - 24455.0 - 15576.0',\n",
       " '15950.0 - 16939.0 - 47884.0 - 42431.0',\n",
       " '23292.0 - 23000.0 - 10703.0 - 32053.0',\n",
       " '14157.0 - 14582.0 - 18212.0 - 26804.0',\n",
       " '33446.0 - 35205.0 - 28373.0 - 30320.0']"
      ]
     },
     "execution_count": 224,
     "metadata": {},
     "output_type": "execute_result"
    }
   ],
   "source": [
    "selected_var = 'v22'\n",
    "selected_ind = 'ind10'\n",
    "\n",
    "l1 = list(rdf[(rdf.category == 'C') & (rdf.year == 2014)][selected_var])\n",
    "l2 = list(rdf[(rdf.category == 'C') & (rdf.year == 2015)][selected_var])\n",
    "l3 = list(rdf[(rdf.category == 'C') & (rdf.year == 2016)][selected_var])\n",
    "l4 = list(rdf[(rdf.category == 'C') & (rdf.year == 2017)][selected_var])\n",
    "\n",
    "# l1 = list(mdf[(mdf.category == 'C') & (mdf.year == 2014)][selected_ind])\n",
    "# l2 = list(mdf[(mdf.category == 'C') & (mdf.year == 2015)][selected_ind])\n",
    "# l3 = list(mdf[(mdf.category == 'C') & (mdf.year == 2016)][selected_ind])\n",
    "# l4 = list(mdf[(mdf.category == 'C') & (mdf.year == 2017)][selected_ind])\n",
    "\n",
    "[f'{x1} - {x2} - {x3} - {x4}' for x1,x2,x3,x4 in zip(l1,l2,l3,l4)]"
   ]
  },
  {
   "cell_type": "markdown",
   "metadata": {},
   "source": [
    "<b>SETTINGS</b>"
   ]
  },
  {
   "cell_type": "code",
   "execution_count": 18,
   "metadata": {},
   "outputs": [],
   "source": [
    "years = list(rdf.year.sort_values().unique()) # [2014, 2015, 2016, 2017]\n",
    "categories = list(rdf.category.sort_values().unique()) # ['A', 'B', 'C', 'D']\n",
    "# years = list(mdf.year.sort_values().unique()) # [2014, 2015, 2016, 2017]\n",
    "# categories = list(mdf.category.sort_values().unique()) # ['A', 'B', 'C', 'D']\n",
    "\n",
    "plane_dims = ['v22', 'v23']\n",
    "size_dim = 'v22'\n",
    "\n",
    "# plane_dims = ['ind17', 'ind18']\n",
    "# size_dim = 'ind17'\n",
    "\n",
    "xi = int(plane_dims[0][1:]) # 17\n",
    "yi = int(plane_dims[1][1:]) # 18\n",
    "# xi = int(plane_dims[0][3:])\n",
    "# yi = int(plane_dims[1][3:])\n",
    "\n",
    "xname = vdf[vdf.var_id==xi].name.iloc[0] # 'Número total de conexiones de agua potable activas medidas y no medidas'\n",
    "yname = vdf[vdf.var_id==yi].name.iloc[0] # 'Número total de conexiones de alcantarillado sanitario activas '\n",
    "xunit = vdf[vdf.var_id==xi].unit.iloc[0] # 'conex.'\n",
    "yunit = vdf[vdf.var_id==yi].unit.iloc[0] # 'conex.'\n",
    "# xname = ind_names[xi - 1] # 'Índice de agua no contabilizada en producción'\n",
    "# yname = ind_names[yi - 1] # 'Índice de agua no contabilizada en la red'\n",
    "# xunit = ind_units[xi - 1] # '%'\n",
    "# yunit = ind_units[yi - 1] # '%'\n",
    "\n",
    "code_to_cat = {code: cat for code,cat in zip(epsas_df.code, epsas_df.category)}"
   ]
  },
  {
   "cell_type": "markdown",
   "metadata": {},
   "source": [
    "<b>DATA SIMULATED GRID</b>"
   ]
  },
  {
   "cell_type": "code",
   "execution_count": 161,
   "metadata": {},
   "outputs": [],
   "source": [
    "cat_to_y = {cat: len(categories) - i for i,cat in enumerate(categories)}\n",
    "\n",
    "grid_data = {}\n",
    "\n",
    "for year in years:\n",
    "    for category in categories:\n",
    "        frdf = rdf[(rdf.year == year) & (rdf.category == category)]\n",
    "                       \n",
    "        percentages = [x/y * 100 for x,y in zip(frdf.v23, frdf.v22)]\n",
    "        \n",
    "        grid_data[f'{year}_{category}_text'] = [f'{code}<br>{\"%.2f\"%(p)}%<br>Población Abastecida: {a}<br>Población Total: {b}' for code,a,b,p in zip(frdf.code, frdf.v23, frdf.v22,percentages)]\n",
    "        grid_data[f'{year}_{category}_x'] = percentages\n",
    "        grid_data[f'{year}_{category}_y'] = [cat_to_y[code_to_cat[code]] for code in frdf.code]"
   ]
  },
  {
   "cell_type": "markdown",
   "metadata": {},
   "source": [
    "<b>TRACE GENERATOR and BASE DATA</b>"
   ]
  },
  {
   "cell_type": "code",
   "execution_count": 162,
   "metadata": {},
   "outputs": [],
   "source": [
    "def create_trace(year, category):\n",
    "    return dict(\n",
    "        x=[0.0 if math.isnan(x) else x for x in grid_data[f'{year}_{category}_x']],\n",
    "        y=grid_data[f'{year}_{category}_y'],\n",
    "        marker= dict(\n",
    "            symbol='line-ns',\n",
    "            size=25,\n",
    "            opacity=0.7,\n",
    "            line = dict(\n",
    "              color = colors[dict(A=0, B=1, C=2, D=3)[category]],\n",
    "              width = 2\n",
    "            )\n",
    "#             size=[0.0 if math.isnan(x) else x for x in grid_data[f'{year}_{category}_{size_dim}']],\n",
    "#             sizemode='area',\n",
    "#             sizeref=1000,\n",
    "        ),\n",
    "        mode= 'markers',\n",
    "        text= grid_data[f'{year}_{category}_text'],\n",
    "        name= 'Categoría: ' + category,\n",
    "        hoverinfo = 'text',\n",
    "    )\n",
    "\n",
    "base_data = [create_trace(years[0], category) for category in categories]"
   ]
  },
  {
   "cell_type": "markdown",
   "metadata": {},
   "source": [
    "<b>CHART FRAMES</b>"
   ]
  },
  {
   "cell_type": "code",
   "execution_count": 163,
   "metadata": {},
   "outputs": [],
   "source": [
    "def create_frame(year):\n",
    "    frame_data = [create_trace(year, category) for category in categories]\n",
    "    return dict(data=frame_data, name=str(year))\n",
    "\n",
    "frames = [create_frame(year) for year in years]"
   ]
  },
  {
   "cell_type": "markdown",
   "metadata": {},
   "source": [
    "<b>CHART LAYOUT</b>"
   ]
  },
  {
   "cell_type": "code",
   "execution_count": 164,
   "metadata": {},
   "outputs": [
    {
     "data": {
      "application/vnd.plotly.v1+json": {
       "data": [
        {
         "hoverinfo": "text",
         "marker": {
          "line": {
           "color": "#1f77b4",
           "width": 2
          },
          "opacity": 0.7,
          "size": 25,
          "symbol": "line-ns"
         },
         "mode": "markers",
         "name": "Categoría: A",
         "text": [
          "EPSAS<br>91.56%<br>Población Abastecida: 2030273.0<br>Población Total: 2217437.0",
          "SAGUAPAC<br>98.24%<br>Población Abastecida: 1383348.0<br>Población Total: 1408130.0",
          "SEMAPA<br>62.28%<br>Población Abastecida: 351035.0<br>Población Total: 563622.0"
         ],
         "type": "scatter",
         "uid": "3cd24ca8-cf66-11e8-bd70-f0761c9f65e1",
         "x": [
          91.5594445298784,
          98.24007726559337,
          62.28199041201372
         ],
         "y": [
          4,
          4,
          4
         ]
        },
        {
         "hoverinfo": "text",
         "marker": {
          "line": {
           "color": "#ff7f0e",
           "width": 2
          },
          "opacity": 0.7,
          "size": 25,
          "symbol": "line-ns"
         },
         "mode": "markers",
         "name": "Categoría: B",
         "text": [
          "AAPOS<br>94.80%<br>Población Abastecida: 188237.0<br>Población Total: 198560.0",
          "BUSTILLO<br>75.91%<br>Población Abastecida: 38576.0<br>Población Total: 50816.0",
          "CAPAG<br>81.21%<br>Población Abastecida: 42085.0<br>Población Total: 51820.0",
          "COATRI<br>80.42%<br>Población Abastecida: 60106.0<br>Población Total: 74736.0",
          "COOPAGUAS<br>90.79%<br>Población Abastecida: 140192.0<br>Población Total: 154416.0",
          "COOPAPPI<br>93.39%<br>Población Abastecida: 69880.0<br>Población Total: 74830.0",
          "COOPLAN<br>81.98%<br>Población Abastecida: 159998.0<br>Población Total: 195178.0",
          "COSAALT<br>97.87%<br>Población Abastecida: 221870.0<br>Población Total: 226690.0",
          "COSMOL<br>97.65%<br>Población Abastecida: 128810.0<br>Población Total: 131908.0",
          "COSPAIL<br>94.27%<br>Población Abastecida: 87759.0<br>Población Total: 93089.0",
          "ELAPAS<br>88.00%<br>Población Abastecida: 265403.0<br>Población Total: 301592.0",
          "EMAPAS<br>nan%<br>Población Abastecida: nan<br>Población Total: 101427.0",
          "EMAPAV<br>88.00%<br>Población Abastecida: 44040.0<br>Población Total: 50043.0",
          "EMAPYC<br>88.00%<br>Población Abastecida: 59961.0<br>Población Total: 68141.0",
          "EPSA COBIJA<br>76.46%<br>Población Abastecida: 42200.0<br>Población Total: 55193.0",
          "MANCHACO<br>95.77%<br>Población Abastecida: 52303.0<br>Población Total: 54611.0",
          "SAJUBA<br>87.33%<br>Población Abastecida: 86652.0<br>Población Total: 99228.0",
          "SELA<br>93.42%<br>Población Abastecida: 251491.0<br>Población Total: 269191.0"
         ],
         "type": "scatter",
         "uid": "3cd24ca9-cf66-11e8-adf8-f0761c9f65e1",
         "x": [
          94.80106768734892,
          75.91309823677582,
          81.21381705905057,
          80.4244273174909,
          90.78851932442234,
          93.3850060136309,
          81.97542755843385,
          97.87374829061714,
          97.6513933953968,
          94.27429664084907,
          88.00067641051487,
          0,
          88.00431628799232,
          87.99547996066978,
          76.4589712463537,
          95.77374521616524,
          87.32615793929132,
          93.42474302632702
         ],
         "y": [
          3,
          3,
          3,
          3,
          3,
          3,
          3,
          3,
          3,
          3,
          3,
          3,
          3,
          3,
          3,
          3,
          3,
          3
         ]
        },
        {
         "hoverinfo": "text",
         "marker": {
          "line": {
           "color": "#2ca02c",
           "width": 2
          },
          "opacity": 0.7,
          "size": 25,
          "symbol": "line-ns"
         },
         "mode": "markers",
         "name": "Categoría: C",
         "text": [
          "CAPU<br>91.80%<br>Población Abastecida: 27240.0<br>Población Total: 29672.0",
          "COMAYO<br>78.16%<br>Población Abastecida: 9875.0<br>Población Total: 12635.0",
          "COOPAGUAB<br>67.58%<br>Población Abastecida: 8670.0<br>Población Total: 12829.0",
          "COOPLIM<br>90.92%<br>Población Abastecida: 14075.0<br>Población Total: 15481.0",
          "COOSIV<br>70.35%<br>Población Abastecida: 24200.0<br>Población Total: 34400.0",
          "COOSPELCAR<br>82.91%<br>Población Abastecida: 36020.0<br>Población Total: 43445.0",
          "COSAJU<br>54.20%<br>Población Abastecida: 8670.0<br>Población Total: 15995.0",
          "COSAP<br>70.84%<br>Población Abastecida: 26415.0<br>Población Total: 37289.0",
          "COSAPAC<br>96.53%<br>Población Abastecida: 23051.0<br>Población Total: 23880.0",
          "COSAPSI<br>75.62%<br>Población Abastecida: 7725.0<br>Población Total: 10215.0",
          "COSCHAL<br>72.53%<br>Población Abastecida: 19720.0<br>Población Total: 27190.0",
          "COSEPA<br>99.98%<br>Población Abastecida: 25443.0<br>Población Total: 25447.0",
          "COSEPA<br>84.68%<br>Población Abastecida: 21000.0<br>Población Total: 24800.0",
          "COSIMBO<br>88.64%<br>Población Abastecida: 12645.0<br>Población Total: 14265.0",
          "COSMIN<br>87.23%<br>Población Abastecida: 18075.0<br>Población Total: 20720.0",
          "COSMON<br>97.90%<br>Población Abastecida: 17748.0<br>Población Total: 18128.0",
          "COSPHUL<br>96.93%<br>Población Abastecida: 20074.0<br>Población Total: 20710.0",
          "COSPUGEBUL<br>90.13%<br>Población Abastecida: 33450.0<br>Población Total: 37114.0",
          "EMAAB<br>84.13%<br>Población Abastecida: 35803.0<br>Población Total: 42556.0",
          "EMAPA<br>46.54%<br>Población Abastecida: 11485.0<br>Población Total: 24677.0",
          "EMPSAAT<br>95.31%<br>Población Abastecida: 22936.0<br>Población Total: 24065.0",
          "EMSABAV<br>92.85%<br>Población Abastecida: 41828.0<br>Población Total: 45048.0",
          "FLORIDA<br>41.54%<br>Población Abastecida: 4350.0<br>Población Total: 10472.0",
          "LA GUARDIA<br>93.62%<br>Población Abastecida: 14933.0<br>Población Total: 15950.0",
          "LA PORTEÑA<br>98.70%<br>Población Abastecida: 22990.0<br>Población Total: 23292.0",
          "SAMAPAR<br>84.98%<br>Población Abastecida: 12030.0<br>Población Total: 14157.0",
          "SEAPAS<br>96.30%<br>Población Abastecida: 32208.0<br>Población Total: 33446.0"
         ],
         "type": "scatter",
         "uid": "3cd24caa-cf66-11e8-b364-f0761c9f65e1",
         "x": [
          91.80372067942841,
          78.15591610605462,
          67.58126120508223,
          90.91789936050642,
          70.34883720930233,
          82.90942571066866,
          54.20443888715224,
          70.8385851055271,
          96.52847571189281,
          75.62408223201174,
          72.52666421478486,
          99.98428105474123,
          84.67741935483872,
          88.64353312302839,
          87.23455598455598,
          97.90379523389232,
          96.92901979719942,
          90.12771460904241,
          84.13149732117681,
          46.54131377395956,
          95.30853937253272,
          92.85206890427989,
          41.539343009931244,
          93.62382445141066,
          98.7034174823974,
          84.97563043017588,
          96.29851103270944
         ],
         "y": [
          2,
          2,
          2,
          2,
          2,
          2,
          2,
          2,
          2,
          2,
          2,
          2,
          2,
          2,
          2,
          2,
          2,
          2,
          2,
          2,
          2,
          2,
          2,
          2,
          2,
          2,
          2
         ]
        },
        {
         "hoverinfo": "text",
         "marker": {
          "line": {
           "color": "#d62728",
           "width": 2
          },
          "opacity": 0.7,
          "size": 25,
          "symbol": "line-ns"
         },
         "mode": "markers",
         "name": "Categoría: D",
         "text": [
          "CAPSCH<br>81.99%<br>Población Abastecida: 7568.0<br>Población Total: 9230.0",
          "COAPAS VINTO<br>92.05%<br>Población Abastecida: 8238.0<br>Población Total: 8949.0",
          "COOAPASH<br>nan%<br>Población Abastecida: nan<br>Población Total: 7611.0",
          "COSEPFA<br>nan%<br>Población Abastecida: nan<br>Población Total: 6686.0",
          "COSEPP<br>88.57%<br>Población Abastecida: 6045.0<br>Población Total: 6825.0",
          "COSERCA<br>98.37%<br>Población Abastecida: 7431.0<br>Población Total: 7554.0",
          "COSSAJA<br>66.05%<br>Población Abastecida: 6605.0<br>Población Total: 10000.0"
         ],
         "type": "scatter",
         "uid": "3cd24cab-cf66-11e8-826c-f0761c9f65e1",
         "x": [
          81.99349945828818,
          92.05497820985585,
          0,
          0,
          88.57142857142857,
          98.37172359015092,
          66.05
         ],
         "y": [
          1,
          1,
          1,
          1,
          1,
          1,
          1
         ]
        }
       ],
       "frames": [
        {
         "data": [
          {
           "hoverinfo": "text",
           "marker": {
            "line": {
             "color": "#1f77b4",
             "width": 2
            },
            "opacity": 0.7,
            "size": 25,
            "symbol": "line-ns"
           },
           "mode": "markers",
           "name": "Categoría: A",
           "text": [
            "EPSAS<br>91.56%<br>Población Abastecida: 2030273.0<br>Población Total: 2217437.0",
            "SAGUAPAC<br>98.24%<br>Población Abastecida: 1383348.0<br>Población Total: 1408130.0",
            "SEMAPA<br>62.28%<br>Población Abastecida: 351035.0<br>Población Total: 563622.0"
           ],
           "type": "scatter",
           "x": [
            91.5594445298784,
            98.24007726559337,
            62.28199041201372
           ],
           "y": [
            4,
            4,
            4
           ]
          },
          {
           "hoverinfo": "text",
           "marker": {
            "line": {
             "color": "#ff7f0e",
             "width": 2
            },
            "opacity": 0.7,
            "size": 25,
            "symbol": "line-ns"
           },
           "mode": "markers",
           "name": "Categoría: B",
           "text": [
            "AAPOS<br>94.80%<br>Población Abastecida: 188237.0<br>Población Total: 198560.0",
            "BUSTILLO<br>75.91%<br>Población Abastecida: 38576.0<br>Población Total: 50816.0",
            "CAPAG<br>81.21%<br>Población Abastecida: 42085.0<br>Población Total: 51820.0",
            "COATRI<br>80.42%<br>Población Abastecida: 60106.0<br>Población Total: 74736.0",
            "COOPAGUAS<br>90.79%<br>Población Abastecida: 140192.0<br>Población Total: 154416.0",
            "COOPAPPI<br>93.39%<br>Población Abastecida: 69880.0<br>Población Total: 74830.0",
            "COOPLAN<br>81.98%<br>Población Abastecida: 159998.0<br>Población Total: 195178.0",
            "COSAALT<br>97.87%<br>Población Abastecida: 221870.0<br>Población Total: 226690.0",
            "COSMOL<br>97.65%<br>Población Abastecida: 128810.0<br>Población Total: 131908.0",
            "COSPAIL<br>94.27%<br>Población Abastecida: 87759.0<br>Población Total: 93089.0",
            "ELAPAS<br>88.00%<br>Población Abastecida: 265403.0<br>Población Total: 301592.0",
            "EMAPAS<br>nan%<br>Población Abastecida: nan<br>Población Total: 101427.0",
            "EMAPAV<br>88.00%<br>Población Abastecida: 44040.0<br>Población Total: 50043.0",
            "EMAPYC<br>88.00%<br>Población Abastecida: 59961.0<br>Población Total: 68141.0",
            "EPSA COBIJA<br>76.46%<br>Población Abastecida: 42200.0<br>Población Total: 55193.0",
            "MANCHACO<br>95.77%<br>Población Abastecida: 52303.0<br>Población Total: 54611.0",
            "SAJUBA<br>87.33%<br>Población Abastecida: 86652.0<br>Población Total: 99228.0",
            "SELA<br>93.42%<br>Población Abastecida: 251491.0<br>Población Total: 269191.0"
           ],
           "type": "scatter",
           "x": [
            94.80106768734892,
            75.91309823677582,
            81.21381705905057,
            80.4244273174909,
            90.78851932442234,
            93.3850060136309,
            81.97542755843385,
            97.87374829061714,
            97.6513933953968,
            94.27429664084907,
            88.00067641051487,
            0,
            88.00431628799232,
            87.99547996066978,
            76.4589712463537,
            95.77374521616524,
            87.32615793929132,
            93.42474302632702
           ],
           "y": [
            3,
            3,
            3,
            3,
            3,
            3,
            3,
            3,
            3,
            3,
            3,
            3,
            3,
            3,
            3,
            3,
            3,
            3
           ]
          },
          {
           "hoverinfo": "text",
           "marker": {
            "line": {
             "color": "#2ca02c",
             "width": 2
            },
            "opacity": 0.7,
            "size": 25,
            "symbol": "line-ns"
           },
           "mode": "markers",
           "name": "Categoría: C",
           "text": [
            "CAPU<br>91.80%<br>Población Abastecida: 27240.0<br>Población Total: 29672.0",
            "COMAYO<br>78.16%<br>Población Abastecida: 9875.0<br>Población Total: 12635.0",
            "COOPAGUAB<br>67.58%<br>Población Abastecida: 8670.0<br>Población Total: 12829.0",
            "COOPLIM<br>90.92%<br>Población Abastecida: 14075.0<br>Población Total: 15481.0",
            "COOSIV<br>70.35%<br>Población Abastecida: 24200.0<br>Población Total: 34400.0",
            "COOSPELCAR<br>82.91%<br>Población Abastecida: 36020.0<br>Población Total: 43445.0",
            "COSAJU<br>54.20%<br>Población Abastecida: 8670.0<br>Población Total: 15995.0",
            "COSAP<br>70.84%<br>Población Abastecida: 26415.0<br>Población Total: 37289.0",
            "COSAPAC<br>96.53%<br>Población Abastecida: 23051.0<br>Población Total: 23880.0",
            "COSAPSI<br>75.62%<br>Población Abastecida: 7725.0<br>Población Total: 10215.0",
            "COSCHAL<br>72.53%<br>Población Abastecida: 19720.0<br>Población Total: 27190.0",
            "COSEPA<br>99.98%<br>Población Abastecida: 25443.0<br>Población Total: 25447.0",
            "COSEPA<br>84.68%<br>Población Abastecida: 21000.0<br>Población Total: 24800.0",
            "COSIMBO<br>88.64%<br>Población Abastecida: 12645.0<br>Población Total: 14265.0",
            "COSMIN<br>87.23%<br>Población Abastecida: 18075.0<br>Población Total: 20720.0",
            "COSMON<br>97.90%<br>Población Abastecida: 17748.0<br>Población Total: 18128.0",
            "COSPHUL<br>96.93%<br>Población Abastecida: 20074.0<br>Población Total: 20710.0",
            "COSPUGEBUL<br>90.13%<br>Población Abastecida: 33450.0<br>Población Total: 37114.0",
            "EMAAB<br>84.13%<br>Población Abastecida: 35803.0<br>Población Total: 42556.0",
            "EMAPA<br>46.54%<br>Población Abastecida: 11485.0<br>Población Total: 24677.0",
            "EMPSAAT<br>95.31%<br>Población Abastecida: 22936.0<br>Población Total: 24065.0",
            "EMSABAV<br>92.85%<br>Población Abastecida: 41828.0<br>Población Total: 45048.0",
            "FLORIDA<br>41.54%<br>Población Abastecida: 4350.0<br>Población Total: 10472.0",
            "LA GUARDIA<br>93.62%<br>Población Abastecida: 14933.0<br>Población Total: 15950.0",
            "LA PORTEÑA<br>98.70%<br>Población Abastecida: 22990.0<br>Población Total: 23292.0",
            "SAMAPAR<br>84.98%<br>Población Abastecida: 12030.0<br>Población Total: 14157.0",
            "SEAPAS<br>96.30%<br>Población Abastecida: 32208.0<br>Población Total: 33446.0"
           ],
           "type": "scatter",
           "x": [
            91.80372067942841,
            78.15591610605462,
            67.58126120508223,
            90.91789936050642,
            70.34883720930233,
            82.90942571066866,
            54.20443888715224,
            70.8385851055271,
            96.52847571189281,
            75.62408223201174,
            72.52666421478486,
            99.98428105474123,
            84.67741935483872,
            88.64353312302839,
            87.23455598455598,
            97.90379523389232,
            96.92901979719942,
            90.12771460904241,
            84.13149732117681,
            46.54131377395956,
            95.30853937253272,
            92.85206890427989,
            41.539343009931244,
            93.62382445141066,
            98.7034174823974,
            84.97563043017588,
            96.29851103270944
           ],
           "y": [
            2,
            2,
            2,
            2,
            2,
            2,
            2,
            2,
            2,
            2,
            2,
            2,
            2,
            2,
            2,
            2,
            2,
            2,
            2,
            2,
            2,
            2,
            2,
            2,
            2,
            2,
            2
           ]
          },
          {
           "hoverinfo": "text",
           "marker": {
            "line": {
             "color": "#d62728",
             "width": 2
            },
            "opacity": 0.7,
            "size": 25,
            "symbol": "line-ns"
           },
           "mode": "markers",
           "name": "Categoría: D",
           "text": [
            "CAPSCH<br>81.99%<br>Población Abastecida: 7568.0<br>Población Total: 9230.0",
            "COAPAS VINTO<br>92.05%<br>Población Abastecida: 8238.0<br>Población Total: 8949.0",
            "COOAPASH<br>nan%<br>Población Abastecida: nan<br>Población Total: 7611.0",
            "COSEPFA<br>nan%<br>Población Abastecida: nan<br>Población Total: 6686.0",
            "COSEPP<br>88.57%<br>Población Abastecida: 6045.0<br>Población Total: 6825.0",
            "COSERCA<br>98.37%<br>Población Abastecida: 7431.0<br>Población Total: 7554.0",
            "COSSAJA<br>66.05%<br>Población Abastecida: 6605.0<br>Población Total: 10000.0"
           ],
           "type": "scatter",
           "x": [
            81.99349945828818,
            92.05497820985585,
            0,
            0,
            88.57142857142857,
            98.37172359015092,
            66.05
           ],
           "y": [
            1,
            1,
            1,
            1,
            1,
            1,
            1
           ]
          }
         ],
         "name": "2014"
        },
        {
         "data": [
          {
           "hoverinfo": "text",
           "marker": {
            "line": {
             "color": "#1f77b4",
             "width": 2
            },
            "opacity": 0.7,
            "size": 25,
            "symbol": "line-ns"
           },
           "mode": "markers",
           "name": "Categoría: A",
           "text": [
            "EPSAS<br>95.10%<br>Población Abastecida: 2180632.0<br>Población Total: 2292942.0",
            "SAGUAPAC<br>96.62%<br>Población Abastecida: 1435422.0<br>Población Total: 1485577.0",
            "SEMAPA<br>62.33%<br>Población Abastecida: 357035.0<br>Población Total: 572851.0"
           ],
           "type": "scatter",
           "x": [
            95.10192582280756,
            96.62387072497756,
            62.32598005415021
           ],
           "y": [
            4,
            4,
            4
           ]
          },
          {
           "hoverinfo": "text",
           "marker": {
            "line": {
             "color": "#ff7f0e",
             "width": 2
            },
            "opacity": 0.7,
            "size": 25,
            "symbol": "line-ns"
           },
           "mode": "markers",
           "name": "Categoría: B",
           "text": [
            "AAPOS<br>97.27%<br>Población Abastecida: 196515.0<br>Población Total: 202035.0",
            "BUSTILLO<br>73.49%<br>Población Abastecida: 39194.0<br>Población Total: 53331.0",
            "CAPAG<br>82.09%<br>Población Abastecida: 43575.0<br>Población Total: 53084.0",
            "COATRI<br>82.33%<br>Población Abastecida: 61328.0<br>Población Total: 74486.0",
            "COOPAGUAS<br>90.97%<br>Población Abastecida: 145190.0<br>Población Total: 159605.0",
            "COOPAPPI<br>93.90%<br>Población Abastecida: 73780.0<br>Población Total: 78572.0",
            "COOPLAN<br>84.61%<br>Población Abastecida: 171986.0<br>Población Total: 203278.0",
            "COSAALT<br>98.37%<br>Población Abastecida: 230466.0<br>Población Total: 234292.0",
            "COSMOL<br>98.27%<br>Población Abastecida: 133694.0<br>Población Total: 136049.0",
            "COSPAIL<br>92.40%<br>Población Abastecida: 90916.0<br>Población Total: 98389.0",
            "ELAPAS<br>91.12%<br>Población Abastecida: 250645.0<br>Población Total: 275061.0",
            "EMAPAS<br>67.10%<br>Población Abastecida: 71880.0<br>Población Total: 107127.0",
            "EMAPAV<br>89.61%<br>Población Abastecida: 46900.0<br>Población Total: 52340.0",
            "EMAPYC<br>91.57%<br>Población Abastecida: 62926.0<br>Población Total: 68720.0",
            "EPSA COBIJA<br>73.42%<br>Población Abastecida: 42935.0<br>Población Total: 58482.0",
            "MANCHACO<br>94.39%<br>Población Abastecida: 52669.0<br>Población Total: 55802.0",
            "SAJUBA<br>91.44%<br>Población Abastecida: 94008.0<br>Población Total: 102810.0",
            "SELA<br>96.91%<br>Población Abastecida: 267463.0<br>Población Total: 275983.0"
           ],
           "type": "scatter",
           "x": [
            97.26780013364021,
            73.49196527348072,
            82.08688116946726,
            82.33493542410655,
            90.96832805989787,
            93.90113526447081,
            84.60630269876721,
            98.36699503184062,
            98.26900601988989,
            92.40463872993932,
            91.12342353150756,
            67.09793049371306,
            89.60641956438671,
            91.5686845168801,
            73.41575185527171,
            94.38550589584602,
            91.43857601400643,
            96.91285332792238
           ],
           "y": [
            3,
            3,
            3,
            3,
            3,
            3,
            3,
            3,
            3,
            3,
            3,
            3,
            3,
            3,
            3,
            3,
            3,
            3
           ]
          },
          {
           "hoverinfo": "text",
           "marker": {
            "line": {
             "color": "#2ca02c",
             "width": 2
            },
            "opacity": 0.7,
            "size": 25,
            "symbol": "line-ns"
           },
           "mode": "markers",
           "name": "Categoría: C",
           "text": [
            "CAPU<br>87.39%<br>Población Abastecida: 27305.0<br>Población Total: 31245.0",
            "COMAYO<br>84.54%<br>Población Abastecida: 11216.0<br>Población Total: 13267.0",
            "COOPAGUAB<br>67.65%<br>Población Abastecida: 9085.0<br>Población Total: 13429.0",
            "COOPLIM<br>82.10%<br>Población Abastecida: 13345.0<br>Población Total: 16255.0",
            "COOSIV<br>71.42%<br>Población Abastecida: 25085.0<br>Población Total: 35122.0",
            "COOSPELCAR<br>86.11%<br>Población Abastecida: 39730.0<br>Población Total: 46138.0",
            "COSAJU<br>96.44%<br>Población Abastecida: 19688.0<br>Población Total: 20415.0",
            "COSAP<br>74.77%<br>Población Abastecida: 28440.0<br>Población Total: 38035.0",
            "COSAPAC<br>92.59%<br>Población Abastecida: 23576.0<br>Población Total: 25462.0",
            "COSAPSI<br>76.89%<br>Población Abastecida: 8130.0<br>Población Total: 10573.0",
            "COSCHAL<br>72.59%<br>Población Abastecida: 19958.0<br>Población Total: 27494.0",
            "COSEPA<br>74.62%<br>Población Abastecida: 22565.0<br>Población Total: 30239.0",
            "COSEPA<br>99.08%<br>Población Abastecida: 28704.0<br>Población Total: 28971.0",
            "COSIMBO<br>78.93%<br>Población Abastecida: 14525.0<br>Población Total: 18402.0",
            "COSMIN<br>96.39%<br>Población Abastecida: 20482.0<br>Población Total: 21248.0",
            "COSMON<br>98.75%<br>Población Abastecida: 18260.0<br>Población Total: 18491.0",
            "COSPHUL<br>98.66%<br>Población Abastecida: 21095.0<br>Población Total: 21381.0",
            "COSPUGEBUL<br>91.75%<br>Población Abastecida: 35856.0<br>Población Total: 39080.0",
            "EMAAB<br>84.27%<br>Población Abastecida: 36476.0<br>Población Total: 43284.0",
            "EMAPA<br>41.43%<br>Población Abastecida: 12430.0<br>Población Total: 30000.0",
            "EMPSAAT<br>97.59%<br>Población Abastecida: 23674.0<br>Población Total: 24259.0",
            "EMSABAV<br>94.60%<br>Población Abastecida: 43977.0<br>Población Total: 46489.0",
            "FLORIDA<br>50.03%<br>Población Abastecida: 5271.0<br>Población Total: 10535.0",
            "LA GUARDIA<br>92.86%<br>Población Abastecida: 15730.0<br>Población Total: 16939.0",
            "LA PORTEÑA<br>83.83%<br>Población Abastecida: 19280.0<br>Población Total: 23000.0",
            "SAMAPAR<br>95.01%<br>Población Abastecida: 13855.0<br>Población Total: 14582.0",
            "SEAPAS<br>96.37%<br>Población Abastecida: 33928.0<br>Población Total: 35205.0"
           ],
           "type": "scatter",
           "x": [
            87.38998239718356,
            84.54058943242632,
            67.65209620969543,
            82.09781605659798,
            71.4224702465691,
            86.11123152282283,
            96.43889297085477,
            74.7732351781254,
            92.59288351268557,
            76.89397521989974,
            72.59038335636866,
            74.62217665928105,
            99.07838873356116,
            78.93163786544942,
            96.39495481927712,
            98.75074360499703,
            98.66236378092698,
            91.75025588536336,
            84.27132427686905,
            41.43333333333333,
            97.58852384681974,
            94.59657123190432,
            50.033222591362126,
            92.86262471220262,
            83.82608695652173,
            95.01440131669182,
            96.37267433603182
           ],
           "y": [
            2,
            2,
            2,
            2,
            2,
            2,
            2,
            2,
            2,
            2,
            2,
            2,
            2,
            2,
            2,
            2,
            2,
            2,
            2,
            2,
            2,
            2,
            2,
            2,
            2,
            2,
            2
           ]
          },
          {
           "hoverinfo": "text",
           "marker": {
            "line": {
             "color": "#d62728",
             "width": 2
            },
            "opacity": 0.7,
            "size": 25,
            "symbol": "line-ns"
           },
           "mode": "markers",
           "name": "Categoría: D",
           "text": [
            "CAPSCH<br>88.61%<br>Población Abastecida: 8450.0<br>Población Total: 9536.0",
            "COAPAS VINTO<br>94.74%<br>Población Abastecida: 8748.0<br>Población Total: 9234.0",
            "COOAPASH<br>92.29%<br>Población Abastecida: 7265.0<br>Población Total: 7872.0",
            "COSEPFA<br>91.48%<br>Población Abastecida: 7387.0<br>Población Total: 8075.0",
            "COSEPP<br>89.98%<br>Población Abastecida: 6355.0<br>Población Total: 7063.0",
            "COSERCA<br>98.61%<br>Población Abastecida: 7741.0<br>Población Total: 7850.0",
            "COSSAJA<br>77.37%<br>Población Abastecida: 7395.0<br>Población Total: 9558.0"
           ],
           "type": "scatter",
           "x": [
            88.61157718120806,
            94.73684210526315,
            92.28912601626016,
            91.47987616099071,
            89.97593090754637,
            98.61146496815286,
            77.3697426239799
           ],
           "y": [
            1,
            1,
            1,
            1,
            1,
            1,
            1
           ]
          }
         ],
         "name": "2015"
        },
        {
         "data": [
          {
           "hoverinfo": "text",
           "marker": {
            "line": {
             "color": "#1f77b4",
             "width": 2
            },
            "opacity": 0.7,
            "size": 25,
            "symbol": "line-ns"
           },
           "mode": "markers",
           "name": "Categoría: A",
           "text": [
            "EPSAS<br>97.52%<br>Población Abastecida: 2278295.0<br>Población Total: 2336119.0",
            "SAGUAPAC<br>96.91%<br>Población Abastecida: 1489997.0<br>Población Total: 1537572.0",
            "SEMAPA<br>66.67%<br>Población Abastecida: 387786.0<br>Población Total: 581675.0"
           ],
           "type": "scatter",
           "x": [
            97.52478362617659,
            96.9058359543488,
            66.66712511282074
           ],
           "y": [
            4,
            4,
            4
           ]
          },
          {
           "hoverinfo": "text",
           "marker": {
            "line": {
             "color": "#ff7f0e",
             "width": 2
            },
            "opacity": 0.7,
            "size": 25,
            "symbol": "line-ns"
           },
           "mode": "markers",
           "name": "Categoría: B",
           "text": [
            "AAPOS<br>98.05%<br>Población Abastecida: 201553.0<br>Población Total: 205570.0",
            "BUSTILLO<br>84.42%<br>Población Abastecida: 45326.0<br>Población Total: 53692.13",
            "CAPAG<br>81.71%<br>Población Abastecida: 44435.0<br>Población Total: 54380.0",
            "COATRI<br>81.15%<br>Población Abastecida: 61939.0<br>Población Total: 76330.0",
            "COOPAGUAS<br>91.69%<br>Población Abastecida: 150483.2<br>Población Total: 164115.0",
            "COOPAPPI<br>93.98%<br>Población Abastecida: 75615.0<br>Población Total: 80458.0",
            "COOPLAN<br>95.43%<br>Población Abastecida: 156222.0<br>Población Total: 163705.0",
            "COSAALT<br>99.43%<br>Población Abastecida: 239888.0<br>Población Total: 241255.0",
            "COSMOL<br>97.02%<br>Población Abastecida: 139557.0<br>Población Total: 143848.0",
            "COSPAIL<br>93.61%<br>Población Abastecida: 94598.0<br>Población Total: 101060.0",
            "ELAPAS<br>98.83%<br>Población Abastecida: 274769.0<br>Población Total: 278018.0",
            "EMAPAS<br>nan%<br>Población Abastecida: nan<br>Población Total: 113147.0",
            "EMAPAV<br>91.29%<br>Población Abastecida: 49975.0<br>Población Total: 54743.0",
            "EMAPYC<br>91.20%<br>Población Abastecida: 63206.0<br>Población Total: 69304.0",
            "EPSA COBIJA<br>71.62%<br>Población Abastecida: 44430.0<br>Población Total: 62032.0",
            "MANCHACO<br>94.83%<br>Población Abastecida: 54549.0<br>Población Total: 57521.0",
            "SAJUBA<br>90.23%<br>Población Abastecida: 96654.0<br>Población Total: 107124.0",
            "SELA<br>97.53%<br>Población Abastecida: 275860.0<br>Población Total: 282850.0"
           ],
           "type": "scatter",
           "x": [
            98.04592109743639,
            84.4183309546483,
            81.71202648032366,
            81.14633826804663,
            91.69375133290681,
            93.98071043277237,
            95.42897284750008,
            99.43337961907525,
            97.01699015627608,
            93.60577874529982,
            98.83137063067859,
            0,
            91.29021062053596,
            91.20108507445458,
            71.62432293010059,
            94.83319135620035,
            90.22627982524925,
            97.52872547286547
           ],
           "y": [
            3,
            3,
            3,
            3,
            3,
            3,
            3,
            3,
            3,
            3,
            3,
            3,
            3,
            3,
            3,
            3,
            3,
            3
           ]
          },
          {
           "hoverinfo": "text",
           "marker": {
            "line": {
             "color": "#2ca02c",
             "width": 2
            },
            "opacity": 0.7,
            "size": 25,
            "symbol": "line-ns"
           },
           "mode": "markers",
           "name": "Categoría: C",
           "text": [
            "CAPU<br>88.27%<br>Población Abastecida: 28545.0<br>Población Total: 32340.0",
            "COMAYO<br>97.96%<br>Población Abastecida: 14720.0<br>Población Total: 15027.0",
            "COOPAGUAB<br>66.97%<br>Población Abastecida: 9380.0<br>Población Total: 14006.0",
            "COOPLIM<br>83.57%<br>Población Abastecida: 14170.0<br>Población Total: 16956.0",
            "COOSIV<br>71.72%<br>Población Abastecida: 25720.0<br>Población Total: 35859.56",
            "COOSPELCAR<br>92.60%<br>Población Abastecida: 45140.0<br>Población Total: 48749.0",
            "COSAJU<br>90.91%<br>Población Abastecida: 21440.21<br>Población Total: 23584.23",
            "COSAP<br>79.35%<br>Población Abastecida: 30780.0<br>Población Total: 38788.0",
            "COSAPAC<br>92.95%<br>Población Abastecida: 24850.0<br>Población Total: 26735.0",
            "COSAPSI<br>77.80%<br>Población Abastecida: 8515.0<br>Población Total: 10945.0",
            "COSCHAL<br>71.72%<br>Población Abastecida: 20160.8<br>Población Total: 28109.87",
            "COSEPA<br>97.13%<br>Población Abastecida: 31622.0<br>Población Total: 32557.0",
            "COSEPA<br>86.45%<br>Población Abastecida: 24560.0<br>Población Total: 28408.0",
            "COSEPCO<br>48.43%<br>Población Abastecida: 9104.0<br>Población Total: 18800.0",
            "COSEPUR<br>88.57%<br>Población Abastecida: 13963.5<br>Población Total: 15766.0",
            "COSIMBO<br>86.49%<br>Población Abastecida: 16765.0<br>Población Total: 19384.0",
            "COSMIN<br>98.53%<br>Población Abastecida: 21236.0<br>Población Total: 21552.0",
            "COSMON<br>99.66%<br>Población Abastecida: 18796.0<br>Población Total: 18860.0",
            "COSPHUL<br>100.00%<br>Población Abastecida: 21436.0<br>Población Total: 21436.0",
            "COSPUGEBUL<br>87.68%<br>Población Abastecida: 37962.0<br>Población Total: 43294.0",
            "EMAAB<br>91.65%<br>Población Abastecida: 28881.0<br>Población Total: 31512.0",
            "EMAPA<br>48.05%<br>Población Abastecida: 12700.0<br>Población Total: 26429.0",
            "EMPSAAT<br>99.75%<br>Población Abastecida: 24395.0<br>Población Total: 24455.0",
            "EMSABAV<br>89.50%<br>Población Abastecida: 42857.0<br>Población Total: 47884.0",
            "FLORIDA<br>50.93%<br>Población Abastecida: 5451.0<br>Población Total: 10703.0",
            "LA GUARDIA<br>90.84%<br>Población Abastecida: 16544.0<br>Población Total: 18212.0",
            "LA PORTEÑA<br>71.60%<br>Población Abastecida: 20315.0<br>Población Total: 28373.0",
            "SAMAPAR<br>97.53%<br>Población Abastecida: 14635.0<br>Población Total: 15006.0",
            "SEAPAS<br>94.78%<br>Población Abastecida: 35121.0<br>Población Total: 37057.0",
            "SMAPA<br>96.14%<br>Población Abastecida: 30014.0<br>Población Total: 31218.0"
           ],
           "type": "scatter",
           "x": [
            88.26530612244898,
            97.95701071404804,
            66.97129801513637,
            83.56923802783676,
            71.72424870801538,
            92.5967712158198,
            90.9090947637468,
            79.3544395173765,
            92.94931737422854,
            77.79808131566925,
            71.72142738475846,
            97.12811376969623,
            86.45451985356237,
            48.42553191489362,
            88.56716985919067,
            86.48885678910442,
            98.53377876763177,
            99.66065747613997,
            100,
            87.68420566360234,
            91.65079969535415,
            48.05327481175981,
            99.75465140053159,
            89.50171247180687,
            50.92964589367467,
            90.84120360202064,
            71.59976033553026,
            97.52765560442491,
            94.77561594300671,
            96.14325068870524
           ],
           "y": [
            2,
            2,
            2,
            2,
            2,
            2,
            2,
            2,
            2,
            2,
            2,
            2,
            2,
            2,
            2,
            2,
            2,
            2,
            2,
            2,
            2,
            2,
            2,
            2,
            2,
            2,
            2,
            2,
            2,
            2
           ]
          },
          {
           "hoverinfo": "text",
           "marker": {
            "line": {
             "color": "#d62728",
             "width": 2
            },
            "opacity": 0.7,
            "size": 25,
            "symbol": "line-ns"
           },
           "mode": "markers",
           "name": "Categoría: D",
           "text": [
            "ASOAPAL<br>59.80%<br>Población Abastecida: 5095.0<br>Población Total: 8520.0",
            "CAPCHI<br>92.17%<br>Población Abastecida: 4880.0<br>Población Total: 5294.8",
            "CAPSCH<br>90.10%<br>Población Abastecida: 8860.0<br>Población Total: 9834.0",
            "COAPAS VINTO<br>98.61%<br>Población Abastecida: 9384.0<br>Población Total: 9516.0",
            "COLOMI<br>87.87%<br>Población Abastecida: 6420.0<br>Población Total: 7306.0",
            "COOAPASH<br>92.22%<br>Población Abastecida: 7455.0<br>Población Total: 8084.0",
            "COSAJO<br>92.35%<br>Población Abastecida: 3717.0<br>Población Total: 4025.0",
            "COSEPFA<br>92.37%<br>Población Abastecida: 7519.0<br>Población Total: 8140.0",
            "COSEPP<br>89.88%<br>Población Abastecida: 6570.0<br>Población Total: 7310.0",
            "COSERCA<br>96.76%<br>Población Abastecida: 8225.0<br>Población Total: 8500.0",
            "COSSAJA<br>77.85%<br>Población Abastecida: 7760.0<br>Población Total: 9968.0",
            "JASAP<br>92.30%<br>Población Abastecida: 4435.0<br>Población Total: 4805.0",
            "JOROCHITO<br>98.80%<br>Población Abastecida: 4455.0<br>Población Total: 4509.0"
           ],
           "type": "scatter",
           "x": [
            59.80046948356807,
            92.16589861751152,
            90.09558673988204,
            98.61286254728878,
            87.87298111141527,
            92.21919841662543,
            92.34782608695652,
            92.37100737100738,
            89.87688098495212,
            96.76470588235294,
            77.84911717495987,
            92.2996878251821,
            98.80239520958084
           ],
           "y": [
            1,
            1,
            1,
            1,
            1,
            1,
            1,
            1,
            1,
            1,
            1,
            1,
            1
           ]
          }
         ],
         "name": "2016"
        },
        {
         "data": [
          {
           "hoverinfo": "text",
           "marker": {
            "line": {
             "color": "#1f77b4",
             "width": 2
            },
            "opacity": 0.7,
            "size": 25,
            "symbol": "line-ns"
           },
           "mode": "markers",
           "name": "Categoría: A",
           "text": [
            "EPSAS<br>96.47%<br>Población Abastecida: 2292124.0<br>Población Total: 2376065.0",
            "SAGUAPAC<br>97.43%<br>Población Abastecida: 1265071.0<br>Población Total: 1298437.0",
            "SEMAPA<br>65.86%<br>Población Abastecida: 390962.0<br>Población Total: 593599.0"
           ],
           "type": "scatter",
           "x": [
            96.46722627537547,
            97.43029503934346,
            65.86298157510373
           ],
           "y": [
            4,
            4,
            4
           ]
          },
          {
           "hoverinfo": "text",
           "marker": {
            "line": {
             "color": "#ff7f0e",
             "width": 2
            },
            "opacity": 0.7,
            "size": 25,
            "symbol": "line-ns"
           },
           "mode": "markers",
           "name": "Categoría: B",
           "text": [
            "AAPOS<br>99.23%<br>Población Abastecida: 208769.0<br>Población Total: 210395.0",
            "BUSTILLO<br>91.53%<br>Población Abastecida: 50078.0<br>Población Total: 54712.0",
            "CAPAG<br>82.36%<br>Población Abastecida: 45880.0<br>Población Total: 55707.0",
            "COATRI<br>80.86%<br>Población Abastecida: 62374.0<br>Población Total: 77139.0",
            "COOPAGUAS<br>91.52%<br>Población Abastecida: 155328.0<br>Población Total: 169714.0",
            "COOPAPPI<br>93.64%<br>Población Abastecida: 77375.0<br>Población Total: 82630.0",
            "COOPLAN<br>96.45%<br>Población Abastecida: 161597.0<br>Población Total: 167552.0",
            "COSAALT<br>99.31%<br>Población Abastecida: 246702.0<br>Población Total: 248425.0",
            "COSMOL<br>99.13%<br>Población Abastecida: 142819.0<br>Población Total: 144067.0",
            "COSPAIL<br>96.69%<br>Población Abastecida: 82662.0<br>Población Total: 85492.0",
            "ELAPAS<br>98.93%<br>Población Abastecida: 285029.0<br>Población Total: 288122.0",
            "EMAPAS<br>36.03%<br>Población Abastecida: 29610.0<br>Población Total: 82188.0",
            "EMAPAV<br>95.30%<br>Población Abastecida: 47835.0<br>Población Total: 50194.0",
            "EMAPYC<br>94.02%<br>Población Abastecida: 65719.0<br>Población Total: 69896.0",
            "EPSA COBIJA<br>68.47%<br>Población Abastecida: 45060.0<br>Población Total: 65807.0",
            "MANCHACO<br>98.33%<br>Población Abastecida: 59533.0<br>Población Total: 60545.0",
            "SAJUBA<br>92.81%<br>Población Abastecida: 99420.0<br>Población Total: 107124.0",
            "SELA<br>96.49%<br>Población Abastecida: 294840.0<br>Población Total: 305554.0"
           ],
           "type": "scatter",
           "x": [
            99.22716794600632,
            91.53019447287615,
            82.35948803561492,
            80.85922814659251,
            91.52338640300741,
            93.64032433740772,
            96.44587948815891,
            99.30643051222702,
            99.13373638654237,
            96.6897487484209,
            98.92649641471321,
            36.02715724923347,
            95.30023508785911,
            94.02397848231658,
            68.47295880377467,
            98.3285159798497,
            92.80833426683095,
            96.49358214914548
           ],
           "y": [
            3,
            3,
            3,
            3,
            3,
            3,
            3,
            3,
            3,
            3,
            3,
            3,
            3,
            3,
            3,
            3,
            3,
            3
           ]
          },
          {
           "hoverinfo": "text",
           "marker": {
            "line": {
             "color": "#2ca02c",
             "width": 2
            },
            "opacity": 0.7,
            "size": 25,
            "symbol": "line-ns"
           },
           "mode": "markers",
           "name": "Categoría: C",
           "text": [
            "6 DE OCTUBRE<br>86.65%<br>Población Abastecida: 25180.0<br>Población Total: 29061.0",
            "CAPU<br>92.41%<br>Población Abastecida: 29885.0<br>Población Total: 32340.0",
            "COAPASB<br>nan%<br>Población Abastecida: nan<br>Población Total: nan",
            "COMAYO<br>96.88%<br>Población Abastecida: 15225.0<br>Población Total: 15716.0",
            "COOPAGUAB<br>73.90%<br>Población Abastecida: 9640.0<br>Población Total: 13044.0",
            "COOPLIM<br>97.96%<br>Población Abastecida: 14900.0<br>Población Total: 15211.0",
            "COOSIV<br>73.14%<br>Población Abastecida: 26780.0<br>Población Total: 36613.0",
            "COOSPELCAR<br>96.30%<br>Población Abastecida: 49835.0<br>Población Total: 51750.0",
            "COSAJU<br>92.17%<br>Población Abastecida: 22119.0<br>Población Total: 23999.0",
            "COSAP<br>80.47%<br>Población Abastecida: 31825.0<br>Población Total: 39548.0",
            "COSAPAC<br>93.99%<br>Población Abastecida: 25753.0<br>Población Total: 27399.0",
            "COSAPSI<br>73.47%<br>Población Abastecida: 8855.0<br>Población Total: 12052.0",
            "COSCHAL<br>92.00%<br>Población Abastecida: 24794.0<br>Población Total: 26950.0",
            "COSEPCO<br>50.60%<br>Población Abastecida: 9732.0<br>Población Total: 19232.0",
            "COSEPUR<br>91.52%<br>Población Abastecida: 14458.0<br>Población Total: 15797.0",
            "COSEPW<br>97.14%<br>Población Abastecida: 32916.0<br>Población Total: 33886.0",
            "COSFAL<br>97.88%<br>Población Abastecida: 10900.0<br>Población Total: 11136.0",
            "COSIMBO<br>92.41%<br>Población Abastecida: 18710.0<br>Población Total: 20246.0",
            "COSMIN<br>95.87%<br>Población Abastecida: 21818.0<br>Población Total: 22759.0",
            "COSMON<br>98.88%<br>Población Abastecida: 19368.0<br>Población Total: 19588.0",
            "COSPAS<br>43.54%<br>Población Abastecida: 10668.0<br>Población Total: 24499.0",
            "COSPHUL<br>99.33%<br>Población Abastecida: 21912.0<br>Población Total: 22059.0",
            "COSPOL<br>97.07%<br>Población Abastecida: 15120.0<br>Población Total: 15576.0",
            "COSPUGEBUL<br>95.49%<br>Población Abastecida: 40518.0<br>Población Total: 42431.0",
            "EMAAB<br>92.03%<br>Población Abastecida: 29498.0<br>Población Total: 32053.0",
            "EMAPA<br>51.04%<br>Población Abastecida: 13680.0<br>Población Total: 26804.0",
            "EMPSAAT<br>85.98%<br>Población Abastecida: 26068.0<br>Población Total: 30320.0",
            "EMSABAV<br>92.03%<br>Población Abastecida: 44068.0<br>Población Total: 47884.0",
            "FLORIDA<br>51.49%<br>Población Abastecida: 5625.0<br>Población Total: 10924.0",
            "LA GUARDIA<br>89.89%<br>Población Abastecida: 17386.0<br>Población Total: 19341.0",
            "LA PORTEÑA<br>71.94%<br>Población Abastecida: 20900.0<br>Población Total: 29053.0",
            "SAMAPAR<br>98.29%<br>Población Abastecida: 15195.0<br>Población Total: 15459.0",
            "SEAPAS<br>96.58%<br>Población Abastecida: 29868.0<br>Población Total: 30926.0",
            "SEMAPAR<br>38.74%<br>Población Abastecida: 18667.0<br>Población Total: 48187.0",
            "SMAPA<br>99.38%<br>Población Abastecida: 22528.0<br>Población Total: 22668.0"
           ],
           "type": "scatter",
           "x": [
            86.64533223220123,
            92.40878169449599,
            0,
            96.87579536777807,
            73.90371051824593,
            97.95542699362304,
            73.14341900417884,
            96.29951690821255,
            92.16634026417768,
            80.47183169818955,
            93.99248147742618,
            73.47328244274809,
            92,
            50.60316139767055,
            91.52370703298095,
            97.13746089830609,
            97.88074712643679,
            92.41331621060951,
            95.86537194077069,
            98.87686338574638,
            43.544634474876524,
            99.33360533115734,
            97.07241910631741,
            95.4915038533148,
            92.02882725485914,
            51.037158633039844,
            85.97625329815304,
            92.03074095731351,
            51.49212742585134,
            89.89193940334006,
            71.9374935462775,
            98.29225693770618,
            96.57893034986742,
            38.73866395500861,
            99.38238927121934
           ],
           "y": [
            2,
            2,
            2,
            2,
            2,
            2,
            2,
            2,
            2,
            2,
            2,
            2,
            2,
            2,
            2,
            2,
            2,
            2,
            2,
            2,
            2,
            2,
            2,
            2,
            2,
            2,
            2,
            2,
            2,
            2,
            2,
            2,
            2,
            2,
            2
           ]
          },
          {
           "hoverinfo": "text",
           "marker": {
            "line": {
             "color": "#d62728",
             "width": 2
            },
            "opacity": 0.7,
            "size": 25,
            "symbol": "line-ns"
           },
           "mode": "markers",
           "name": "Categoría: D",
           "text": [
            "AGUAYSES<br>93.77%<br>Población Abastecida: 1642.0<br>Población Total: 1751.0",
            "ASOAPAL<br>60.11%<br>Población Abastecida: 5275.0<br>Población Total: 8775.0",
            "CAPCHI<br>93.02%<br>Población Abastecida: 4985.0<br>Población Total: 5359.0",
            "CAPSCH<br>92.39%<br>Población Abastecida: 9370.0<br>Población Total: 10142.0",
            "COAPAS VINTO<br>98.51%<br>Población Abastecida: 9654.0<br>Población Total: 9800.0",
            "COLOMI<br>86.51%<br>Población Abastecida: 6510.0<br>Población Total: 7525.0",
            "COOAPASH<br>91.42%<br>Población Abastecida: 7590.0<br>Población Total: 8302.0",
            "COSAJO<br>90.00%<br>Población Abastecida: 3834.0<br>Población Total: 4260.0",
            "COSEPFA<br>92.98%<br>Población Abastecida: 7628.0<br>Población Total: 8204.0",
            "COSEPP<br>90.15%<br>Población Abastecida: 6710.0<br>Población Total: 7443.0",
            "COSERCA<br>95.95%<br>Población Abastecida: 8348.0<br>Población Total: 8700.0",
            "COSSAJA<br>78.25%<br>Población Abastecida: 8300.0<br>Población Total: 10607.0",
            "JASAP<br>91.91%<br>Población Abastecida: 4535.0<br>Población Total: 4934.0",
            "JOROCHITO<br>97.82%<br>Población Abastecida: 4531.0<br>Población Total: 4632.0"
           ],
           "type": "scatter",
           "x": [
            93.77498572244431,
            60.11396011396012,
            93.02108602351184,
            92.38808913429304,
            98.51020408163265,
            86.51162790697674,
            91.42375331245482,
            90,
            92.97903461725987,
            90.15182050248556,
            95.95402298850576,
            78.25021212406901,
            91.91325496554519,
            97.81951640759931
           ],
           "y": [
            1,
            1,
            1,
            1,
            1,
            1,
            1,
            1,
            1,
            1,
            1,
            1,
            1,
            1
           ]
          }
         ],
         "name": "2017"
        }
       ],
       "layout": {
        "hovermode": "closest",
        "legend": {
         "orientation": "h",
         "x": 0.1,
         "y": 1.1
        },
        "plot_bgcolor": "#dfe8f3",
        "sliders": [
         {
          "active": 1,
          "currentvalue": {
           "font": {
            "size": 20
           },
           "prefix": "Año: ",
           "visible": true,
           "xanchor": "right"
          },
          "len": 0.9,
          "pad": {
           "b": 10,
           "t": 50
          },
          "steps": [
           {
            "args": [
             [
              "2014"
             ],
             {
              "frame": {
               "duration": 1200,
               "redraw": false
              },
              "fromcurrent": false,
              "transition": {
               "duration": 1200,
               "easing": "cubic-in-out"
              }
             }
            ],
            "label": "2014",
            "method": "animate"
           },
           {
            "args": [
             [
              "2015"
             ],
             {
              "frame": {
               "duration": 1200,
               "redraw": false
              },
              "fromcurrent": false,
              "transition": {
               "duration": 1200,
               "easing": "cubic-in-out"
              }
             }
            ],
            "label": "2015",
            "method": "animate"
           },
           {
            "args": [
             [
              "2016"
             ],
             {
              "frame": {
               "duration": 1200,
               "redraw": false
              },
              "fromcurrent": false,
              "transition": {
               "duration": 1200,
               "easing": "cubic-in-out"
              }
             }
            ],
            "label": "2016",
            "method": "animate"
           },
           {
            "args": [
             [
              "2017"
             ],
             {
              "frame": {
               "duration": 1200,
               "redraw": false
              },
              "fromcurrent": false,
              "transition": {
               "duration": 1200,
               "easing": "cubic-in-out"
              }
             }
            ],
            "label": "2017",
            "method": "animate"
           }
          ],
          "x": 0.1,
          "xanchor": "left",
          "y": 0,
          "yanchor": "top"
         }
        ],
        "title": "Población Abastecida",
        "updatemenus": [
         {
          "buttons": [
           {
            "args": [
             [
              "2014",
              "2015",
              "2016",
              "2017"
             ],
             {
              "frame": {
               "duration": 1200,
               "redraw": false
              },
              "fromcurrent": false,
              "transition": {
               "duration": 1200,
               "easing": "cubic-in-out"
              }
             }
            ],
            "label": "Animar",
            "method": "animate"
           }
          ],
          "direction": "left",
          "pad": {
           "r": 10,
           "t": 87
          },
          "showactive": false,
          "type": "buttons",
          "x": 0.1,
          "xanchor": "right",
          "y": 0,
          "yanchor": "top"
         }
        ],
        "width": 1000,
        "xaxis": {
         "autorange": false,
         "dtick": 5,
         "range": [
          35,
          100
         ],
         "tick0": 35,
         "tickmode": "linear",
         "title": "Porcentaje (%): Población Abastecida / Población Total del Área de Servicio * 100"
        },
        "yaxis": {
         "visible": false
        }
       }
      },
      "text/html": [
       "<div id=\"2d2025df-79dd-46db-a270-5e024c9da21a\" style=\"height: 525px; width: 1000px;\" class=\"plotly-graph-div\"></div><script type=\"text/javascript\">require([\"plotly\"], function(Plotly) { window.PLOTLYENV=window.PLOTLYENV || {};window.PLOTLYENV.BASE_URL=\"https://plot.ly\";\n",
       "        Plotly.plot(\n",
       "            '2d2025df-79dd-46db-a270-5e024c9da21a',\n",
       "            [{\"hoverinfo\": \"text\", \"marker\": {\"line\": {\"color\": \"#1f77b4\", \"width\": 2}, \"opacity\": 0.7, \"size\": 25, \"symbol\": \"line-ns\"}, \"mode\": \"markers\", \"name\": \"Categor\\u00eda: A\", \"text\": [\"EPSAS<br>91.56%<br>Poblaci\\u00f3n Abastecida: 2030273.0<br>Poblaci\\u00f3n Total: 2217437.0\", \"SAGUAPAC<br>98.24%<br>Poblaci\\u00f3n Abastecida: 1383348.0<br>Poblaci\\u00f3n Total: 1408130.0\", \"SEMAPA<br>62.28%<br>Poblaci\\u00f3n Abastecida: 351035.0<br>Poblaci\\u00f3n Total: 563622.0\"], \"x\": [91.5594445298784, 98.24007726559337, 62.28199041201372], \"y\": [4, 4, 4], \"type\": \"scatter\", \"uid\": \"3cd24ca8-cf66-11e8-bd70-f0761c9f65e1\"}, {\"hoverinfo\": \"text\", \"marker\": {\"line\": {\"color\": \"#ff7f0e\", \"width\": 2}, \"opacity\": 0.7, \"size\": 25, \"symbol\": \"line-ns\"}, \"mode\": \"markers\", \"name\": \"Categor\\u00eda: B\", \"text\": [\"AAPOS<br>94.80%<br>Poblaci\\u00f3n Abastecida: 188237.0<br>Poblaci\\u00f3n Total: 198560.0\", \"BUSTILLO<br>75.91%<br>Poblaci\\u00f3n Abastecida: 38576.0<br>Poblaci\\u00f3n Total: 50816.0\", \"CAPAG<br>81.21%<br>Poblaci\\u00f3n Abastecida: 42085.0<br>Poblaci\\u00f3n Total: 51820.0\", \"COATRI<br>80.42%<br>Poblaci\\u00f3n Abastecida: 60106.0<br>Poblaci\\u00f3n Total: 74736.0\", \"COOPAGUAS<br>90.79%<br>Poblaci\\u00f3n Abastecida: 140192.0<br>Poblaci\\u00f3n Total: 154416.0\", \"COOPAPPI<br>93.39%<br>Poblaci\\u00f3n Abastecida: 69880.0<br>Poblaci\\u00f3n Total: 74830.0\", \"COOPLAN<br>81.98%<br>Poblaci\\u00f3n Abastecida: 159998.0<br>Poblaci\\u00f3n Total: 195178.0\", \"COSAALT<br>97.87%<br>Poblaci\\u00f3n Abastecida: 221870.0<br>Poblaci\\u00f3n Total: 226690.0\", \"COSMOL<br>97.65%<br>Poblaci\\u00f3n Abastecida: 128810.0<br>Poblaci\\u00f3n Total: 131908.0\", \"COSPAIL<br>94.27%<br>Poblaci\\u00f3n Abastecida: 87759.0<br>Poblaci\\u00f3n Total: 93089.0\", \"ELAPAS<br>88.00%<br>Poblaci\\u00f3n Abastecida: 265403.0<br>Poblaci\\u00f3n Total: 301592.0\", \"EMAPAS<br>nan%<br>Poblaci\\u00f3n Abastecida: nan<br>Poblaci\\u00f3n Total: 101427.0\", \"EMAPAV<br>88.00%<br>Poblaci\\u00f3n Abastecida: 44040.0<br>Poblaci\\u00f3n Total: 50043.0\", \"EMAPYC<br>88.00%<br>Poblaci\\u00f3n Abastecida: 59961.0<br>Poblaci\\u00f3n Total: 68141.0\", \"EPSA COBIJA<br>76.46%<br>Poblaci\\u00f3n Abastecida: 42200.0<br>Poblaci\\u00f3n Total: 55193.0\", \"MANCHACO<br>95.77%<br>Poblaci\\u00f3n Abastecida: 52303.0<br>Poblaci\\u00f3n Total: 54611.0\", \"SAJUBA<br>87.33%<br>Poblaci\\u00f3n Abastecida: 86652.0<br>Poblaci\\u00f3n Total: 99228.0\", \"SELA<br>93.42%<br>Poblaci\\u00f3n Abastecida: 251491.0<br>Poblaci\\u00f3n Total: 269191.0\"], \"x\": [94.80106768734892, 75.91309823677582, 81.21381705905057, 80.4244273174909, 90.78851932442234, 93.3850060136309, 81.97542755843385, 97.87374829061714, 97.6513933953968, 94.27429664084907, 88.00067641051487, 0.0, 88.00431628799232, 87.99547996066978, 76.4589712463537, 95.77374521616524, 87.32615793929132, 93.42474302632702], \"y\": [3, 3, 3, 3, 3, 3, 3, 3, 3, 3, 3, 3, 3, 3, 3, 3, 3, 3], \"type\": \"scatter\", \"uid\": \"3cd24ca9-cf66-11e8-adf8-f0761c9f65e1\"}, {\"hoverinfo\": \"text\", \"marker\": {\"line\": {\"color\": \"#2ca02c\", \"width\": 2}, \"opacity\": 0.7, \"size\": 25, \"symbol\": \"line-ns\"}, \"mode\": \"markers\", \"name\": \"Categor\\u00eda: C\", \"text\": [\"CAPU<br>91.80%<br>Poblaci\\u00f3n Abastecida: 27240.0<br>Poblaci\\u00f3n Total: 29672.0\", \"COMAYO<br>78.16%<br>Poblaci\\u00f3n Abastecida: 9875.0<br>Poblaci\\u00f3n Total: 12635.0\", \"COOPAGUAB<br>67.58%<br>Poblaci\\u00f3n Abastecida: 8670.0<br>Poblaci\\u00f3n Total: 12829.0\", \"COOPLIM<br>90.92%<br>Poblaci\\u00f3n Abastecida: 14075.0<br>Poblaci\\u00f3n Total: 15481.0\", \"COOSIV<br>70.35%<br>Poblaci\\u00f3n Abastecida: 24200.0<br>Poblaci\\u00f3n Total: 34400.0\", \"COOSPELCAR<br>82.91%<br>Poblaci\\u00f3n Abastecida: 36020.0<br>Poblaci\\u00f3n Total: 43445.0\", \"COSAJU<br>54.20%<br>Poblaci\\u00f3n Abastecida: 8670.0<br>Poblaci\\u00f3n Total: 15995.0\", \"COSAP<br>70.84%<br>Poblaci\\u00f3n Abastecida: 26415.0<br>Poblaci\\u00f3n Total: 37289.0\", \"COSAPAC<br>96.53%<br>Poblaci\\u00f3n Abastecida: 23051.0<br>Poblaci\\u00f3n Total: 23880.0\", \"COSAPSI<br>75.62%<br>Poblaci\\u00f3n Abastecida: 7725.0<br>Poblaci\\u00f3n Total: 10215.0\", \"COSCHAL<br>72.53%<br>Poblaci\\u00f3n Abastecida: 19720.0<br>Poblaci\\u00f3n Total: 27190.0\", \"COSEPA<br>99.98%<br>Poblaci\\u00f3n Abastecida: 25443.0<br>Poblaci\\u00f3n Total: 25447.0\", \"COSEPA<br>84.68%<br>Poblaci\\u00f3n Abastecida: 21000.0<br>Poblaci\\u00f3n Total: 24800.0\", \"COSIMBO<br>88.64%<br>Poblaci\\u00f3n Abastecida: 12645.0<br>Poblaci\\u00f3n Total: 14265.0\", \"COSMIN<br>87.23%<br>Poblaci\\u00f3n Abastecida: 18075.0<br>Poblaci\\u00f3n Total: 20720.0\", \"COSMON<br>97.90%<br>Poblaci\\u00f3n Abastecida: 17748.0<br>Poblaci\\u00f3n Total: 18128.0\", \"COSPHUL<br>96.93%<br>Poblaci\\u00f3n Abastecida: 20074.0<br>Poblaci\\u00f3n Total: 20710.0\", \"COSPUGEBUL<br>90.13%<br>Poblaci\\u00f3n Abastecida: 33450.0<br>Poblaci\\u00f3n Total: 37114.0\", \"EMAAB<br>84.13%<br>Poblaci\\u00f3n Abastecida: 35803.0<br>Poblaci\\u00f3n Total: 42556.0\", \"EMAPA<br>46.54%<br>Poblaci\\u00f3n Abastecida: 11485.0<br>Poblaci\\u00f3n Total: 24677.0\", \"EMPSAAT<br>95.31%<br>Poblaci\\u00f3n Abastecida: 22936.0<br>Poblaci\\u00f3n Total: 24065.0\", \"EMSABAV<br>92.85%<br>Poblaci\\u00f3n Abastecida: 41828.0<br>Poblaci\\u00f3n Total: 45048.0\", \"FLORIDA<br>41.54%<br>Poblaci\\u00f3n Abastecida: 4350.0<br>Poblaci\\u00f3n Total: 10472.0\", \"LA GUARDIA<br>93.62%<br>Poblaci\\u00f3n Abastecida: 14933.0<br>Poblaci\\u00f3n Total: 15950.0\", \"LA PORTE\\u00d1A<br>98.70%<br>Poblaci\\u00f3n Abastecida: 22990.0<br>Poblaci\\u00f3n Total: 23292.0\", \"SAMAPAR<br>84.98%<br>Poblaci\\u00f3n Abastecida: 12030.0<br>Poblaci\\u00f3n Total: 14157.0\", \"SEAPAS<br>96.30%<br>Poblaci\\u00f3n Abastecida: 32208.0<br>Poblaci\\u00f3n Total: 33446.0\"], \"x\": [91.80372067942841, 78.15591610605462, 67.58126120508223, 90.91789936050642, 70.34883720930233, 82.90942571066866, 54.20443888715224, 70.8385851055271, 96.52847571189281, 75.62408223201174, 72.52666421478486, 99.98428105474123, 84.67741935483872, 88.64353312302839, 87.23455598455598, 97.90379523389232, 96.92901979719942, 90.12771460904241, 84.13149732117681, 46.54131377395956, 95.30853937253272, 92.85206890427989, 41.539343009931244, 93.62382445141066, 98.7034174823974, 84.97563043017588, 96.29851103270944], \"y\": [2, 2, 2, 2, 2, 2, 2, 2, 2, 2, 2, 2, 2, 2, 2, 2, 2, 2, 2, 2, 2, 2, 2, 2, 2, 2, 2], \"type\": \"scatter\", \"uid\": \"3cd24caa-cf66-11e8-b364-f0761c9f65e1\"}, {\"hoverinfo\": \"text\", \"marker\": {\"line\": {\"color\": \"#d62728\", \"width\": 2}, \"opacity\": 0.7, \"size\": 25, \"symbol\": \"line-ns\"}, \"mode\": \"markers\", \"name\": \"Categor\\u00eda: D\", \"text\": [\"CAPSCH<br>81.99%<br>Poblaci\\u00f3n Abastecida: 7568.0<br>Poblaci\\u00f3n Total: 9230.0\", \"COAPAS VINTO<br>92.05%<br>Poblaci\\u00f3n Abastecida: 8238.0<br>Poblaci\\u00f3n Total: 8949.0\", \"COOAPASH<br>nan%<br>Poblaci\\u00f3n Abastecida: nan<br>Poblaci\\u00f3n Total: 7611.0\", \"COSEPFA<br>nan%<br>Poblaci\\u00f3n Abastecida: nan<br>Poblaci\\u00f3n Total: 6686.0\", \"COSEPP<br>88.57%<br>Poblaci\\u00f3n Abastecida: 6045.0<br>Poblaci\\u00f3n Total: 6825.0\", \"COSERCA<br>98.37%<br>Poblaci\\u00f3n Abastecida: 7431.0<br>Poblaci\\u00f3n Total: 7554.0\", \"COSSAJA<br>66.05%<br>Poblaci\\u00f3n Abastecida: 6605.0<br>Poblaci\\u00f3n Total: 10000.0\"], \"x\": [81.99349945828818, 92.05497820985585, 0.0, 0.0, 88.57142857142857, 98.37172359015092, 66.05], \"y\": [1, 1, 1, 1, 1, 1, 1], \"type\": \"scatter\", \"uid\": \"3cd24cab-cf66-11e8-826c-f0761c9f65e1\"}],\n",
       "            {\"hovermode\": \"closest\", \"legend\": {\"orientation\": \"h\", \"x\": 0.1, \"y\": 1.1}, \"plot_bgcolor\": \"#dfe8f3\", \"sliders\": [{\"active\": 1, \"currentvalue\": {\"font\": {\"size\": 20}, \"prefix\": \"A\\u00f1o: \", \"visible\": true, \"xanchor\": \"right\"}, \"len\": 0.9, \"pad\": {\"b\": 10, \"t\": 50}, \"steps\": [{\"args\": [[\"2014\"], {\"frame\": {\"duration\": 1200, \"redraw\": false}, \"fromcurrent\": false, \"transition\": {\"duration\": 1200, \"easing\": \"cubic-in-out\"}}], \"label\": \"2014\", \"method\": \"animate\"}, {\"args\": [[\"2015\"], {\"frame\": {\"duration\": 1200, \"redraw\": false}, \"fromcurrent\": false, \"transition\": {\"duration\": 1200, \"easing\": \"cubic-in-out\"}}], \"label\": \"2015\", \"method\": \"animate\"}, {\"args\": [[\"2016\"], {\"frame\": {\"duration\": 1200, \"redraw\": false}, \"fromcurrent\": false, \"transition\": {\"duration\": 1200, \"easing\": \"cubic-in-out\"}}], \"label\": \"2016\", \"method\": \"animate\"}, {\"args\": [[\"2017\"], {\"frame\": {\"duration\": 1200, \"redraw\": false}, \"fromcurrent\": false, \"transition\": {\"duration\": 1200, \"easing\": \"cubic-in-out\"}}], \"label\": \"2017\", \"method\": \"animate\"}], \"x\": 0.1, \"xanchor\": \"left\", \"y\": 0, \"yanchor\": \"top\"}], \"title\": \"Poblaci\\u00f3n Abastecida\", \"updatemenus\": [{\"buttons\": [{\"args\": [[\"2014\", \"2015\", \"2016\", \"2017\"], {\"frame\": {\"duration\": 1200, \"redraw\": false}, \"fromcurrent\": false, \"transition\": {\"duration\": 1200, \"easing\": \"cubic-in-out\"}}], \"label\": \"Animar\", \"method\": \"animate\"}], \"direction\": \"left\", \"pad\": {\"r\": 10, \"t\": 87}, \"showactive\": false, \"type\": \"buttons\", \"x\": 0.1, \"xanchor\": \"right\", \"y\": 0, \"yanchor\": \"top\"}], \"width\": 1000, \"xaxis\": {\"autorange\": false, \"dtick\": 5, \"range\": [35, 100], \"tick0\": 35, \"tickmode\": \"linear\", \"title\": \"Porcentaje (%): Poblaci\\u00f3n Abastecida / Poblaci\\u00f3n Total del \\u00c1rea de Servicio * 100\"}, \"yaxis\": {\"visible\": false}},\n",
       "            {\"showLink\": true, \"linkText\": \"Export to plot.ly\"}\n",
       "        ).then(function () {return Plotly.addFrames('2d2025df-79dd-46db-a270-5e024c9da21a',[{\"data\": [{\"hoverinfo\": \"text\", \"marker\": {\"line\": {\"color\": \"#1f77b4\", \"width\": 2}, \"opacity\": 0.7, \"size\": 25, \"symbol\": \"line-ns\"}, \"mode\": \"markers\", \"name\": \"Categor\\u00eda: A\", \"text\": [\"EPSAS<br>91.56%<br>Poblaci\\u00f3n Abastecida: 2030273.0<br>Poblaci\\u00f3n Total: 2217437.0\", \"SAGUAPAC<br>98.24%<br>Poblaci\\u00f3n Abastecida: 1383348.0<br>Poblaci\\u00f3n Total: 1408130.0\", \"SEMAPA<br>62.28%<br>Poblaci\\u00f3n Abastecida: 351035.0<br>Poblaci\\u00f3n Total: 563622.0\"], \"x\": [91.5594445298784, 98.24007726559337, 62.28199041201372], \"y\": [4, 4, 4], \"type\": \"scatter\"}, {\"hoverinfo\": \"text\", \"marker\": {\"line\": {\"color\": \"#ff7f0e\", \"width\": 2}, \"opacity\": 0.7, \"size\": 25, \"symbol\": \"line-ns\"}, \"mode\": \"markers\", \"name\": \"Categor\\u00eda: B\", \"text\": [\"AAPOS<br>94.80%<br>Poblaci\\u00f3n Abastecida: 188237.0<br>Poblaci\\u00f3n Total: 198560.0\", \"BUSTILLO<br>75.91%<br>Poblaci\\u00f3n Abastecida: 38576.0<br>Poblaci\\u00f3n Total: 50816.0\", \"CAPAG<br>81.21%<br>Poblaci\\u00f3n Abastecida: 42085.0<br>Poblaci\\u00f3n Total: 51820.0\", \"COATRI<br>80.42%<br>Poblaci\\u00f3n Abastecida: 60106.0<br>Poblaci\\u00f3n Total: 74736.0\", \"COOPAGUAS<br>90.79%<br>Poblaci\\u00f3n Abastecida: 140192.0<br>Poblaci\\u00f3n Total: 154416.0\", \"COOPAPPI<br>93.39%<br>Poblaci\\u00f3n Abastecida: 69880.0<br>Poblaci\\u00f3n Total: 74830.0\", \"COOPLAN<br>81.98%<br>Poblaci\\u00f3n Abastecida: 159998.0<br>Poblaci\\u00f3n Total: 195178.0\", \"COSAALT<br>97.87%<br>Poblaci\\u00f3n Abastecida: 221870.0<br>Poblaci\\u00f3n Total: 226690.0\", \"COSMOL<br>97.65%<br>Poblaci\\u00f3n Abastecida: 128810.0<br>Poblaci\\u00f3n Total: 131908.0\", \"COSPAIL<br>94.27%<br>Poblaci\\u00f3n Abastecida: 87759.0<br>Poblaci\\u00f3n Total: 93089.0\", \"ELAPAS<br>88.00%<br>Poblaci\\u00f3n Abastecida: 265403.0<br>Poblaci\\u00f3n Total: 301592.0\", \"EMAPAS<br>nan%<br>Poblaci\\u00f3n Abastecida: nan<br>Poblaci\\u00f3n Total: 101427.0\", \"EMAPAV<br>88.00%<br>Poblaci\\u00f3n Abastecida: 44040.0<br>Poblaci\\u00f3n Total: 50043.0\", \"EMAPYC<br>88.00%<br>Poblaci\\u00f3n Abastecida: 59961.0<br>Poblaci\\u00f3n Total: 68141.0\", \"EPSA COBIJA<br>76.46%<br>Poblaci\\u00f3n Abastecida: 42200.0<br>Poblaci\\u00f3n Total: 55193.0\", \"MANCHACO<br>95.77%<br>Poblaci\\u00f3n Abastecida: 52303.0<br>Poblaci\\u00f3n Total: 54611.0\", \"SAJUBA<br>87.33%<br>Poblaci\\u00f3n Abastecida: 86652.0<br>Poblaci\\u00f3n Total: 99228.0\", \"SELA<br>93.42%<br>Poblaci\\u00f3n Abastecida: 251491.0<br>Poblaci\\u00f3n Total: 269191.0\"], \"x\": [94.80106768734892, 75.91309823677582, 81.21381705905057, 80.4244273174909, 90.78851932442234, 93.3850060136309, 81.97542755843385, 97.87374829061714, 97.6513933953968, 94.27429664084907, 88.00067641051487, 0.0, 88.00431628799232, 87.99547996066978, 76.4589712463537, 95.77374521616524, 87.32615793929132, 93.42474302632702], \"y\": [3, 3, 3, 3, 3, 3, 3, 3, 3, 3, 3, 3, 3, 3, 3, 3, 3, 3], \"type\": \"scatter\"}, {\"hoverinfo\": \"text\", \"marker\": {\"line\": {\"color\": \"#2ca02c\", \"width\": 2}, \"opacity\": 0.7, \"size\": 25, \"symbol\": \"line-ns\"}, \"mode\": \"markers\", \"name\": \"Categor\\u00eda: C\", \"text\": [\"CAPU<br>91.80%<br>Poblaci\\u00f3n Abastecida: 27240.0<br>Poblaci\\u00f3n Total: 29672.0\", \"COMAYO<br>78.16%<br>Poblaci\\u00f3n Abastecida: 9875.0<br>Poblaci\\u00f3n Total: 12635.0\", \"COOPAGUAB<br>67.58%<br>Poblaci\\u00f3n Abastecida: 8670.0<br>Poblaci\\u00f3n Total: 12829.0\", \"COOPLIM<br>90.92%<br>Poblaci\\u00f3n Abastecida: 14075.0<br>Poblaci\\u00f3n Total: 15481.0\", \"COOSIV<br>70.35%<br>Poblaci\\u00f3n Abastecida: 24200.0<br>Poblaci\\u00f3n Total: 34400.0\", \"COOSPELCAR<br>82.91%<br>Poblaci\\u00f3n Abastecida: 36020.0<br>Poblaci\\u00f3n Total: 43445.0\", \"COSAJU<br>54.20%<br>Poblaci\\u00f3n Abastecida: 8670.0<br>Poblaci\\u00f3n Total: 15995.0\", \"COSAP<br>70.84%<br>Poblaci\\u00f3n Abastecida: 26415.0<br>Poblaci\\u00f3n Total: 37289.0\", \"COSAPAC<br>96.53%<br>Poblaci\\u00f3n Abastecida: 23051.0<br>Poblaci\\u00f3n Total: 23880.0\", \"COSAPSI<br>75.62%<br>Poblaci\\u00f3n Abastecida: 7725.0<br>Poblaci\\u00f3n Total: 10215.0\", \"COSCHAL<br>72.53%<br>Poblaci\\u00f3n Abastecida: 19720.0<br>Poblaci\\u00f3n Total: 27190.0\", \"COSEPA<br>99.98%<br>Poblaci\\u00f3n Abastecida: 25443.0<br>Poblaci\\u00f3n Total: 25447.0\", \"COSEPA<br>84.68%<br>Poblaci\\u00f3n Abastecida: 21000.0<br>Poblaci\\u00f3n Total: 24800.0\", \"COSIMBO<br>88.64%<br>Poblaci\\u00f3n Abastecida: 12645.0<br>Poblaci\\u00f3n Total: 14265.0\", \"COSMIN<br>87.23%<br>Poblaci\\u00f3n Abastecida: 18075.0<br>Poblaci\\u00f3n Total: 20720.0\", \"COSMON<br>97.90%<br>Poblaci\\u00f3n Abastecida: 17748.0<br>Poblaci\\u00f3n Total: 18128.0\", \"COSPHUL<br>96.93%<br>Poblaci\\u00f3n Abastecida: 20074.0<br>Poblaci\\u00f3n Total: 20710.0\", \"COSPUGEBUL<br>90.13%<br>Poblaci\\u00f3n Abastecida: 33450.0<br>Poblaci\\u00f3n Total: 37114.0\", \"EMAAB<br>84.13%<br>Poblaci\\u00f3n Abastecida: 35803.0<br>Poblaci\\u00f3n Total: 42556.0\", \"EMAPA<br>46.54%<br>Poblaci\\u00f3n Abastecida: 11485.0<br>Poblaci\\u00f3n Total: 24677.0\", \"EMPSAAT<br>95.31%<br>Poblaci\\u00f3n Abastecida: 22936.0<br>Poblaci\\u00f3n Total: 24065.0\", \"EMSABAV<br>92.85%<br>Poblaci\\u00f3n Abastecida: 41828.0<br>Poblaci\\u00f3n Total: 45048.0\", \"FLORIDA<br>41.54%<br>Poblaci\\u00f3n Abastecida: 4350.0<br>Poblaci\\u00f3n Total: 10472.0\", \"LA GUARDIA<br>93.62%<br>Poblaci\\u00f3n Abastecida: 14933.0<br>Poblaci\\u00f3n Total: 15950.0\", \"LA PORTE\\u00d1A<br>98.70%<br>Poblaci\\u00f3n Abastecida: 22990.0<br>Poblaci\\u00f3n Total: 23292.0\", \"SAMAPAR<br>84.98%<br>Poblaci\\u00f3n Abastecida: 12030.0<br>Poblaci\\u00f3n Total: 14157.0\", \"SEAPAS<br>96.30%<br>Poblaci\\u00f3n Abastecida: 32208.0<br>Poblaci\\u00f3n Total: 33446.0\"], \"x\": [91.80372067942841, 78.15591610605462, 67.58126120508223, 90.91789936050642, 70.34883720930233, 82.90942571066866, 54.20443888715224, 70.8385851055271, 96.52847571189281, 75.62408223201174, 72.52666421478486, 99.98428105474123, 84.67741935483872, 88.64353312302839, 87.23455598455598, 97.90379523389232, 96.92901979719942, 90.12771460904241, 84.13149732117681, 46.54131377395956, 95.30853937253272, 92.85206890427989, 41.539343009931244, 93.62382445141066, 98.7034174823974, 84.97563043017588, 96.29851103270944], \"y\": [2, 2, 2, 2, 2, 2, 2, 2, 2, 2, 2, 2, 2, 2, 2, 2, 2, 2, 2, 2, 2, 2, 2, 2, 2, 2, 2], \"type\": \"scatter\"}, {\"hoverinfo\": \"text\", \"marker\": {\"line\": {\"color\": \"#d62728\", \"width\": 2}, \"opacity\": 0.7, \"size\": 25, \"symbol\": \"line-ns\"}, \"mode\": \"markers\", \"name\": \"Categor\\u00eda: D\", \"text\": [\"CAPSCH<br>81.99%<br>Poblaci\\u00f3n Abastecida: 7568.0<br>Poblaci\\u00f3n Total: 9230.0\", \"COAPAS VINTO<br>92.05%<br>Poblaci\\u00f3n Abastecida: 8238.0<br>Poblaci\\u00f3n Total: 8949.0\", \"COOAPASH<br>nan%<br>Poblaci\\u00f3n Abastecida: nan<br>Poblaci\\u00f3n Total: 7611.0\", \"COSEPFA<br>nan%<br>Poblaci\\u00f3n Abastecida: nan<br>Poblaci\\u00f3n Total: 6686.0\", \"COSEPP<br>88.57%<br>Poblaci\\u00f3n Abastecida: 6045.0<br>Poblaci\\u00f3n Total: 6825.0\", \"COSERCA<br>98.37%<br>Poblaci\\u00f3n Abastecida: 7431.0<br>Poblaci\\u00f3n Total: 7554.0\", \"COSSAJA<br>66.05%<br>Poblaci\\u00f3n Abastecida: 6605.0<br>Poblaci\\u00f3n Total: 10000.0\"], \"x\": [81.99349945828818, 92.05497820985585, 0.0, 0.0, 88.57142857142857, 98.37172359015092, 66.05], \"y\": [1, 1, 1, 1, 1, 1, 1], \"type\": \"scatter\"}], \"name\": \"2014\"}, {\"data\": [{\"hoverinfo\": \"text\", \"marker\": {\"line\": {\"color\": \"#1f77b4\", \"width\": 2}, \"opacity\": 0.7, \"size\": 25, \"symbol\": \"line-ns\"}, \"mode\": \"markers\", \"name\": \"Categor\\u00eda: A\", \"text\": [\"EPSAS<br>95.10%<br>Poblaci\\u00f3n Abastecida: 2180632.0<br>Poblaci\\u00f3n Total: 2292942.0\", \"SAGUAPAC<br>96.62%<br>Poblaci\\u00f3n Abastecida: 1435422.0<br>Poblaci\\u00f3n Total: 1485577.0\", \"SEMAPA<br>62.33%<br>Poblaci\\u00f3n Abastecida: 357035.0<br>Poblaci\\u00f3n Total: 572851.0\"], \"x\": [95.10192582280756, 96.62387072497756, 62.32598005415021], \"y\": [4, 4, 4], \"type\": \"scatter\"}, {\"hoverinfo\": \"text\", \"marker\": {\"line\": {\"color\": \"#ff7f0e\", \"width\": 2}, \"opacity\": 0.7, \"size\": 25, \"symbol\": \"line-ns\"}, \"mode\": \"markers\", \"name\": \"Categor\\u00eda: B\", \"text\": [\"AAPOS<br>97.27%<br>Poblaci\\u00f3n Abastecida: 196515.0<br>Poblaci\\u00f3n Total: 202035.0\", \"BUSTILLO<br>73.49%<br>Poblaci\\u00f3n Abastecida: 39194.0<br>Poblaci\\u00f3n Total: 53331.0\", \"CAPAG<br>82.09%<br>Poblaci\\u00f3n Abastecida: 43575.0<br>Poblaci\\u00f3n Total: 53084.0\", \"COATRI<br>82.33%<br>Poblaci\\u00f3n Abastecida: 61328.0<br>Poblaci\\u00f3n Total: 74486.0\", \"COOPAGUAS<br>90.97%<br>Poblaci\\u00f3n Abastecida: 145190.0<br>Poblaci\\u00f3n Total: 159605.0\", \"COOPAPPI<br>93.90%<br>Poblaci\\u00f3n Abastecida: 73780.0<br>Poblaci\\u00f3n Total: 78572.0\", \"COOPLAN<br>84.61%<br>Poblaci\\u00f3n Abastecida: 171986.0<br>Poblaci\\u00f3n Total: 203278.0\", \"COSAALT<br>98.37%<br>Poblaci\\u00f3n Abastecida: 230466.0<br>Poblaci\\u00f3n Total: 234292.0\", \"COSMOL<br>98.27%<br>Poblaci\\u00f3n Abastecida: 133694.0<br>Poblaci\\u00f3n Total: 136049.0\", \"COSPAIL<br>92.40%<br>Poblaci\\u00f3n Abastecida: 90916.0<br>Poblaci\\u00f3n Total: 98389.0\", \"ELAPAS<br>91.12%<br>Poblaci\\u00f3n Abastecida: 250645.0<br>Poblaci\\u00f3n Total: 275061.0\", \"EMAPAS<br>67.10%<br>Poblaci\\u00f3n Abastecida: 71880.0<br>Poblaci\\u00f3n Total: 107127.0\", \"EMAPAV<br>89.61%<br>Poblaci\\u00f3n Abastecida: 46900.0<br>Poblaci\\u00f3n Total: 52340.0\", \"EMAPYC<br>91.57%<br>Poblaci\\u00f3n Abastecida: 62926.0<br>Poblaci\\u00f3n Total: 68720.0\", \"EPSA COBIJA<br>73.42%<br>Poblaci\\u00f3n Abastecida: 42935.0<br>Poblaci\\u00f3n Total: 58482.0\", \"MANCHACO<br>94.39%<br>Poblaci\\u00f3n Abastecida: 52669.0<br>Poblaci\\u00f3n Total: 55802.0\", \"SAJUBA<br>91.44%<br>Poblaci\\u00f3n Abastecida: 94008.0<br>Poblaci\\u00f3n Total: 102810.0\", \"SELA<br>96.91%<br>Poblaci\\u00f3n Abastecida: 267463.0<br>Poblaci\\u00f3n Total: 275983.0\"], \"x\": [97.26780013364021, 73.49196527348072, 82.08688116946726, 82.33493542410655, 90.96832805989787, 93.90113526447081, 84.60630269876721, 98.36699503184062, 98.26900601988989, 92.40463872993932, 91.12342353150756, 67.09793049371306, 89.60641956438671, 91.5686845168801, 73.41575185527171, 94.38550589584602, 91.43857601400643, 96.91285332792238], \"y\": [3, 3, 3, 3, 3, 3, 3, 3, 3, 3, 3, 3, 3, 3, 3, 3, 3, 3], \"type\": \"scatter\"}, {\"hoverinfo\": \"text\", \"marker\": {\"line\": {\"color\": \"#2ca02c\", \"width\": 2}, \"opacity\": 0.7, \"size\": 25, \"symbol\": \"line-ns\"}, \"mode\": \"markers\", \"name\": \"Categor\\u00eda: C\", \"text\": [\"CAPU<br>87.39%<br>Poblaci\\u00f3n Abastecida: 27305.0<br>Poblaci\\u00f3n Total: 31245.0\", \"COMAYO<br>84.54%<br>Poblaci\\u00f3n Abastecida: 11216.0<br>Poblaci\\u00f3n Total: 13267.0\", \"COOPAGUAB<br>67.65%<br>Poblaci\\u00f3n Abastecida: 9085.0<br>Poblaci\\u00f3n Total: 13429.0\", \"COOPLIM<br>82.10%<br>Poblaci\\u00f3n Abastecida: 13345.0<br>Poblaci\\u00f3n Total: 16255.0\", \"COOSIV<br>71.42%<br>Poblaci\\u00f3n Abastecida: 25085.0<br>Poblaci\\u00f3n Total: 35122.0\", \"COOSPELCAR<br>86.11%<br>Poblaci\\u00f3n Abastecida: 39730.0<br>Poblaci\\u00f3n Total: 46138.0\", \"COSAJU<br>96.44%<br>Poblaci\\u00f3n Abastecida: 19688.0<br>Poblaci\\u00f3n Total: 20415.0\", \"COSAP<br>74.77%<br>Poblaci\\u00f3n Abastecida: 28440.0<br>Poblaci\\u00f3n Total: 38035.0\", \"COSAPAC<br>92.59%<br>Poblaci\\u00f3n Abastecida: 23576.0<br>Poblaci\\u00f3n Total: 25462.0\", \"COSAPSI<br>76.89%<br>Poblaci\\u00f3n Abastecida: 8130.0<br>Poblaci\\u00f3n Total: 10573.0\", \"COSCHAL<br>72.59%<br>Poblaci\\u00f3n Abastecida: 19958.0<br>Poblaci\\u00f3n Total: 27494.0\", \"COSEPA<br>74.62%<br>Poblaci\\u00f3n Abastecida: 22565.0<br>Poblaci\\u00f3n Total: 30239.0\", \"COSEPA<br>99.08%<br>Poblaci\\u00f3n Abastecida: 28704.0<br>Poblaci\\u00f3n Total: 28971.0\", \"COSIMBO<br>78.93%<br>Poblaci\\u00f3n Abastecida: 14525.0<br>Poblaci\\u00f3n Total: 18402.0\", \"COSMIN<br>96.39%<br>Poblaci\\u00f3n Abastecida: 20482.0<br>Poblaci\\u00f3n Total: 21248.0\", \"COSMON<br>98.75%<br>Poblaci\\u00f3n Abastecida: 18260.0<br>Poblaci\\u00f3n Total: 18491.0\", \"COSPHUL<br>98.66%<br>Poblaci\\u00f3n Abastecida: 21095.0<br>Poblaci\\u00f3n Total: 21381.0\", \"COSPUGEBUL<br>91.75%<br>Poblaci\\u00f3n Abastecida: 35856.0<br>Poblaci\\u00f3n Total: 39080.0\", \"EMAAB<br>84.27%<br>Poblaci\\u00f3n Abastecida: 36476.0<br>Poblaci\\u00f3n Total: 43284.0\", \"EMAPA<br>41.43%<br>Poblaci\\u00f3n Abastecida: 12430.0<br>Poblaci\\u00f3n Total: 30000.0\", \"EMPSAAT<br>97.59%<br>Poblaci\\u00f3n Abastecida: 23674.0<br>Poblaci\\u00f3n Total: 24259.0\", \"EMSABAV<br>94.60%<br>Poblaci\\u00f3n Abastecida: 43977.0<br>Poblaci\\u00f3n Total: 46489.0\", \"FLORIDA<br>50.03%<br>Poblaci\\u00f3n Abastecida: 5271.0<br>Poblaci\\u00f3n Total: 10535.0\", \"LA GUARDIA<br>92.86%<br>Poblaci\\u00f3n Abastecida: 15730.0<br>Poblaci\\u00f3n Total: 16939.0\", \"LA PORTE\\u00d1A<br>83.83%<br>Poblaci\\u00f3n Abastecida: 19280.0<br>Poblaci\\u00f3n Total: 23000.0\", \"SAMAPAR<br>95.01%<br>Poblaci\\u00f3n Abastecida: 13855.0<br>Poblaci\\u00f3n Total: 14582.0\", \"SEAPAS<br>96.37%<br>Poblaci\\u00f3n Abastecida: 33928.0<br>Poblaci\\u00f3n Total: 35205.0\"], \"x\": [87.38998239718356, 84.54058943242632, 67.65209620969543, 82.09781605659798, 71.4224702465691, 86.11123152282283, 96.43889297085477, 74.7732351781254, 92.59288351268557, 76.89397521989974, 72.59038335636866, 74.62217665928105, 99.07838873356116, 78.93163786544942, 96.39495481927712, 98.75074360499703, 98.66236378092698, 91.75025588536336, 84.27132427686905, 41.43333333333333, 97.58852384681974, 94.59657123190432, 50.033222591362126, 92.86262471220262, 83.82608695652173, 95.01440131669182, 96.37267433603182], \"y\": [2, 2, 2, 2, 2, 2, 2, 2, 2, 2, 2, 2, 2, 2, 2, 2, 2, 2, 2, 2, 2, 2, 2, 2, 2, 2, 2], \"type\": \"scatter\"}, {\"hoverinfo\": \"text\", \"marker\": {\"line\": {\"color\": \"#d62728\", \"width\": 2}, \"opacity\": 0.7, \"size\": 25, \"symbol\": \"line-ns\"}, \"mode\": \"markers\", \"name\": \"Categor\\u00eda: D\", \"text\": [\"CAPSCH<br>88.61%<br>Poblaci\\u00f3n Abastecida: 8450.0<br>Poblaci\\u00f3n Total: 9536.0\", \"COAPAS VINTO<br>94.74%<br>Poblaci\\u00f3n Abastecida: 8748.0<br>Poblaci\\u00f3n Total: 9234.0\", \"COOAPASH<br>92.29%<br>Poblaci\\u00f3n Abastecida: 7265.0<br>Poblaci\\u00f3n Total: 7872.0\", \"COSEPFA<br>91.48%<br>Poblaci\\u00f3n Abastecida: 7387.0<br>Poblaci\\u00f3n Total: 8075.0\", \"COSEPP<br>89.98%<br>Poblaci\\u00f3n Abastecida: 6355.0<br>Poblaci\\u00f3n Total: 7063.0\", \"COSERCA<br>98.61%<br>Poblaci\\u00f3n Abastecida: 7741.0<br>Poblaci\\u00f3n Total: 7850.0\", \"COSSAJA<br>77.37%<br>Poblaci\\u00f3n Abastecida: 7395.0<br>Poblaci\\u00f3n Total: 9558.0\"], \"x\": [88.61157718120806, 94.73684210526315, 92.28912601626016, 91.47987616099071, 89.97593090754637, 98.61146496815286, 77.3697426239799], \"y\": [1, 1, 1, 1, 1, 1, 1], \"type\": \"scatter\"}], \"name\": \"2015\"}, {\"data\": [{\"hoverinfo\": \"text\", \"marker\": {\"line\": {\"color\": \"#1f77b4\", \"width\": 2}, \"opacity\": 0.7, \"size\": 25, \"symbol\": \"line-ns\"}, \"mode\": \"markers\", \"name\": \"Categor\\u00eda: A\", \"text\": [\"EPSAS<br>97.52%<br>Poblaci\\u00f3n Abastecida: 2278295.0<br>Poblaci\\u00f3n Total: 2336119.0\", \"SAGUAPAC<br>96.91%<br>Poblaci\\u00f3n Abastecida: 1489997.0<br>Poblaci\\u00f3n Total: 1537572.0\", \"SEMAPA<br>66.67%<br>Poblaci\\u00f3n Abastecida: 387786.0<br>Poblaci\\u00f3n Total: 581675.0\"], \"x\": [97.52478362617659, 96.9058359543488, 66.66712511282074], \"y\": [4, 4, 4], \"type\": \"scatter\"}, {\"hoverinfo\": \"text\", \"marker\": {\"line\": {\"color\": \"#ff7f0e\", \"width\": 2}, \"opacity\": 0.7, \"size\": 25, \"symbol\": \"line-ns\"}, \"mode\": \"markers\", \"name\": \"Categor\\u00eda: B\", \"text\": [\"AAPOS<br>98.05%<br>Poblaci\\u00f3n Abastecida: 201553.0<br>Poblaci\\u00f3n Total: 205570.0\", \"BUSTILLO<br>84.42%<br>Poblaci\\u00f3n Abastecida: 45326.0<br>Poblaci\\u00f3n Total: 53692.13\", \"CAPAG<br>81.71%<br>Poblaci\\u00f3n Abastecida: 44435.0<br>Poblaci\\u00f3n Total: 54380.0\", \"COATRI<br>81.15%<br>Poblaci\\u00f3n Abastecida: 61939.0<br>Poblaci\\u00f3n Total: 76330.0\", \"COOPAGUAS<br>91.69%<br>Poblaci\\u00f3n Abastecida: 150483.2<br>Poblaci\\u00f3n Total: 164115.0\", \"COOPAPPI<br>93.98%<br>Poblaci\\u00f3n Abastecida: 75615.0<br>Poblaci\\u00f3n Total: 80458.0\", \"COOPLAN<br>95.43%<br>Poblaci\\u00f3n Abastecida: 156222.0<br>Poblaci\\u00f3n Total: 163705.0\", \"COSAALT<br>99.43%<br>Poblaci\\u00f3n Abastecida: 239888.0<br>Poblaci\\u00f3n Total: 241255.0\", \"COSMOL<br>97.02%<br>Poblaci\\u00f3n Abastecida: 139557.0<br>Poblaci\\u00f3n Total: 143848.0\", \"COSPAIL<br>93.61%<br>Poblaci\\u00f3n Abastecida: 94598.0<br>Poblaci\\u00f3n Total: 101060.0\", \"ELAPAS<br>98.83%<br>Poblaci\\u00f3n Abastecida: 274769.0<br>Poblaci\\u00f3n Total: 278018.0\", \"EMAPAS<br>nan%<br>Poblaci\\u00f3n Abastecida: nan<br>Poblaci\\u00f3n Total: 113147.0\", \"EMAPAV<br>91.29%<br>Poblaci\\u00f3n Abastecida: 49975.0<br>Poblaci\\u00f3n Total: 54743.0\", \"EMAPYC<br>91.20%<br>Poblaci\\u00f3n Abastecida: 63206.0<br>Poblaci\\u00f3n Total: 69304.0\", \"EPSA COBIJA<br>71.62%<br>Poblaci\\u00f3n Abastecida: 44430.0<br>Poblaci\\u00f3n Total: 62032.0\", \"MANCHACO<br>94.83%<br>Poblaci\\u00f3n Abastecida: 54549.0<br>Poblaci\\u00f3n Total: 57521.0\", \"SAJUBA<br>90.23%<br>Poblaci\\u00f3n Abastecida: 96654.0<br>Poblaci\\u00f3n Total: 107124.0\", \"SELA<br>97.53%<br>Poblaci\\u00f3n Abastecida: 275860.0<br>Poblaci\\u00f3n Total: 282850.0\"], \"x\": [98.04592109743639, 84.4183309546483, 81.71202648032366, 81.14633826804663, 91.69375133290681, 93.98071043277237, 95.42897284750008, 99.43337961907525, 97.01699015627608, 93.60577874529982, 98.83137063067859, 0.0, 91.29021062053596, 91.20108507445458, 71.62432293010059, 94.83319135620035, 90.22627982524925, 97.52872547286547], \"y\": [3, 3, 3, 3, 3, 3, 3, 3, 3, 3, 3, 3, 3, 3, 3, 3, 3, 3], \"type\": \"scatter\"}, {\"hoverinfo\": \"text\", \"marker\": {\"line\": {\"color\": \"#2ca02c\", \"width\": 2}, \"opacity\": 0.7, \"size\": 25, \"symbol\": \"line-ns\"}, \"mode\": \"markers\", \"name\": \"Categor\\u00eda: C\", \"text\": [\"CAPU<br>88.27%<br>Poblaci\\u00f3n Abastecida: 28545.0<br>Poblaci\\u00f3n Total: 32340.0\", \"COMAYO<br>97.96%<br>Poblaci\\u00f3n Abastecida: 14720.0<br>Poblaci\\u00f3n Total: 15027.0\", \"COOPAGUAB<br>66.97%<br>Poblaci\\u00f3n Abastecida: 9380.0<br>Poblaci\\u00f3n Total: 14006.0\", \"COOPLIM<br>83.57%<br>Poblaci\\u00f3n Abastecida: 14170.0<br>Poblaci\\u00f3n Total: 16956.0\", \"COOSIV<br>71.72%<br>Poblaci\\u00f3n Abastecida: 25720.0<br>Poblaci\\u00f3n Total: 35859.56\", \"COOSPELCAR<br>92.60%<br>Poblaci\\u00f3n Abastecida: 45140.0<br>Poblaci\\u00f3n Total: 48749.0\", \"COSAJU<br>90.91%<br>Poblaci\\u00f3n Abastecida: 21440.21<br>Poblaci\\u00f3n Total: 23584.23\", \"COSAP<br>79.35%<br>Poblaci\\u00f3n Abastecida: 30780.0<br>Poblaci\\u00f3n Total: 38788.0\", \"COSAPAC<br>92.95%<br>Poblaci\\u00f3n Abastecida: 24850.0<br>Poblaci\\u00f3n Total: 26735.0\", \"COSAPSI<br>77.80%<br>Poblaci\\u00f3n Abastecida: 8515.0<br>Poblaci\\u00f3n Total: 10945.0\", \"COSCHAL<br>71.72%<br>Poblaci\\u00f3n Abastecida: 20160.8<br>Poblaci\\u00f3n Total: 28109.87\", \"COSEPA<br>97.13%<br>Poblaci\\u00f3n Abastecida: 31622.0<br>Poblaci\\u00f3n Total: 32557.0\", \"COSEPA<br>86.45%<br>Poblaci\\u00f3n Abastecida: 24560.0<br>Poblaci\\u00f3n Total: 28408.0\", \"COSEPCO<br>48.43%<br>Poblaci\\u00f3n Abastecida: 9104.0<br>Poblaci\\u00f3n Total: 18800.0\", \"COSEPUR<br>88.57%<br>Poblaci\\u00f3n Abastecida: 13963.5<br>Poblaci\\u00f3n Total: 15766.0\", \"COSIMBO<br>86.49%<br>Poblaci\\u00f3n Abastecida: 16765.0<br>Poblaci\\u00f3n Total: 19384.0\", \"COSMIN<br>98.53%<br>Poblaci\\u00f3n Abastecida: 21236.0<br>Poblaci\\u00f3n Total: 21552.0\", \"COSMON<br>99.66%<br>Poblaci\\u00f3n Abastecida: 18796.0<br>Poblaci\\u00f3n Total: 18860.0\", \"COSPHUL<br>100.00%<br>Poblaci\\u00f3n Abastecida: 21436.0<br>Poblaci\\u00f3n Total: 21436.0\", \"COSPUGEBUL<br>87.68%<br>Poblaci\\u00f3n Abastecida: 37962.0<br>Poblaci\\u00f3n Total: 43294.0\", \"EMAAB<br>91.65%<br>Poblaci\\u00f3n Abastecida: 28881.0<br>Poblaci\\u00f3n Total: 31512.0\", \"EMAPA<br>48.05%<br>Poblaci\\u00f3n Abastecida: 12700.0<br>Poblaci\\u00f3n Total: 26429.0\", \"EMPSAAT<br>99.75%<br>Poblaci\\u00f3n Abastecida: 24395.0<br>Poblaci\\u00f3n Total: 24455.0\", \"EMSABAV<br>89.50%<br>Poblaci\\u00f3n Abastecida: 42857.0<br>Poblaci\\u00f3n Total: 47884.0\", \"FLORIDA<br>50.93%<br>Poblaci\\u00f3n Abastecida: 5451.0<br>Poblaci\\u00f3n Total: 10703.0\", \"LA GUARDIA<br>90.84%<br>Poblaci\\u00f3n Abastecida: 16544.0<br>Poblaci\\u00f3n Total: 18212.0\", \"LA PORTE\\u00d1A<br>71.60%<br>Poblaci\\u00f3n Abastecida: 20315.0<br>Poblaci\\u00f3n Total: 28373.0\", \"SAMAPAR<br>97.53%<br>Poblaci\\u00f3n Abastecida: 14635.0<br>Poblaci\\u00f3n Total: 15006.0\", \"SEAPAS<br>94.78%<br>Poblaci\\u00f3n Abastecida: 35121.0<br>Poblaci\\u00f3n Total: 37057.0\", \"SMAPA<br>96.14%<br>Poblaci\\u00f3n Abastecida: 30014.0<br>Poblaci\\u00f3n Total: 31218.0\"], \"x\": [88.26530612244898, 97.95701071404804, 66.97129801513637, 83.56923802783676, 71.72424870801538, 92.5967712158198, 90.9090947637468, 79.3544395173765, 92.94931737422854, 77.79808131566925, 71.72142738475846, 97.12811376969623, 86.45451985356237, 48.42553191489362, 88.56716985919067, 86.48885678910442, 98.53377876763177, 99.66065747613997, 100.0, 87.68420566360234, 91.65079969535415, 48.05327481175981, 99.75465140053159, 89.50171247180687, 50.92964589367467, 90.84120360202064, 71.59976033553026, 97.52765560442491, 94.77561594300671, 96.14325068870524], \"y\": [2, 2, 2, 2, 2, 2, 2, 2, 2, 2, 2, 2, 2, 2, 2, 2, 2, 2, 2, 2, 2, 2, 2, 2, 2, 2, 2, 2, 2, 2], \"type\": \"scatter\"}, {\"hoverinfo\": \"text\", \"marker\": {\"line\": {\"color\": \"#d62728\", \"width\": 2}, \"opacity\": 0.7, \"size\": 25, \"symbol\": \"line-ns\"}, \"mode\": \"markers\", \"name\": \"Categor\\u00eda: D\", \"text\": [\"ASOAPAL<br>59.80%<br>Poblaci\\u00f3n Abastecida: 5095.0<br>Poblaci\\u00f3n Total: 8520.0\", \"CAPCHI<br>92.17%<br>Poblaci\\u00f3n Abastecida: 4880.0<br>Poblaci\\u00f3n Total: 5294.8\", \"CAPSCH<br>90.10%<br>Poblaci\\u00f3n Abastecida: 8860.0<br>Poblaci\\u00f3n Total: 9834.0\", \"COAPAS VINTO<br>98.61%<br>Poblaci\\u00f3n Abastecida: 9384.0<br>Poblaci\\u00f3n Total: 9516.0\", \"COLOMI<br>87.87%<br>Poblaci\\u00f3n Abastecida: 6420.0<br>Poblaci\\u00f3n Total: 7306.0\", \"COOAPASH<br>92.22%<br>Poblaci\\u00f3n Abastecida: 7455.0<br>Poblaci\\u00f3n Total: 8084.0\", \"COSAJO<br>92.35%<br>Poblaci\\u00f3n Abastecida: 3717.0<br>Poblaci\\u00f3n Total: 4025.0\", \"COSEPFA<br>92.37%<br>Poblaci\\u00f3n Abastecida: 7519.0<br>Poblaci\\u00f3n Total: 8140.0\", \"COSEPP<br>89.88%<br>Poblaci\\u00f3n Abastecida: 6570.0<br>Poblaci\\u00f3n Total: 7310.0\", \"COSERCA<br>96.76%<br>Poblaci\\u00f3n Abastecida: 8225.0<br>Poblaci\\u00f3n Total: 8500.0\", \"COSSAJA<br>77.85%<br>Poblaci\\u00f3n Abastecida: 7760.0<br>Poblaci\\u00f3n Total: 9968.0\", \"JASAP<br>92.30%<br>Poblaci\\u00f3n Abastecida: 4435.0<br>Poblaci\\u00f3n Total: 4805.0\", \"JOROCHITO<br>98.80%<br>Poblaci\\u00f3n Abastecida: 4455.0<br>Poblaci\\u00f3n Total: 4509.0\"], \"x\": [59.80046948356807, 92.16589861751152, 90.09558673988204, 98.61286254728878, 87.87298111141527, 92.21919841662543, 92.34782608695652, 92.37100737100738, 89.87688098495212, 96.76470588235294, 77.84911717495987, 92.2996878251821, 98.80239520958084], \"y\": [1, 1, 1, 1, 1, 1, 1, 1, 1, 1, 1, 1, 1], \"type\": \"scatter\"}], \"name\": \"2016\"}, {\"data\": [{\"hoverinfo\": \"text\", \"marker\": {\"line\": {\"color\": \"#1f77b4\", \"width\": 2}, \"opacity\": 0.7, \"size\": 25, \"symbol\": \"line-ns\"}, \"mode\": \"markers\", \"name\": \"Categor\\u00eda: A\", \"text\": [\"EPSAS<br>96.47%<br>Poblaci\\u00f3n Abastecida: 2292124.0<br>Poblaci\\u00f3n Total: 2376065.0\", \"SAGUAPAC<br>97.43%<br>Poblaci\\u00f3n Abastecida: 1265071.0<br>Poblaci\\u00f3n Total: 1298437.0\", \"SEMAPA<br>65.86%<br>Poblaci\\u00f3n Abastecida: 390962.0<br>Poblaci\\u00f3n Total: 593599.0\"], \"x\": [96.46722627537547, 97.43029503934346, 65.86298157510373], \"y\": [4, 4, 4], \"type\": \"scatter\"}, {\"hoverinfo\": \"text\", \"marker\": {\"line\": {\"color\": \"#ff7f0e\", \"width\": 2}, \"opacity\": 0.7, \"size\": 25, \"symbol\": \"line-ns\"}, \"mode\": \"markers\", \"name\": \"Categor\\u00eda: B\", \"text\": [\"AAPOS<br>99.23%<br>Poblaci\\u00f3n Abastecida: 208769.0<br>Poblaci\\u00f3n Total: 210395.0\", \"BUSTILLO<br>91.53%<br>Poblaci\\u00f3n Abastecida: 50078.0<br>Poblaci\\u00f3n Total: 54712.0\", \"CAPAG<br>82.36%<br>Poblaci\\u00f3n Abastecida: 45880.0<br>Poblaci\\u00f3n Total: 55707.0\", \"COATRI<br>80.86%<br>Poblaci\\u00f3n Abastecida: 62374.0<br>Poblaci\\u00f3n Total: 77139.0\", \"COOPAGUAS<br>91.52%<br>Poblaci\\u00f3n Abastecida: 155328.0<br>Poblaci\\u00f3n Total: 169714.0\", \"COOPAPPI<br>93.64%<br>Poblaci\\u00f3n Abastecida: 77375.0<br>Poblaci\\u00f3n Total: 82630.0\", \"COOPLAN<br>96.45%<br>Poblaci\\u00f3n Abastecida: 161597.0<br>Poblaci\\u00f3n Total: 167552.0\", \"COSAALT<br>99.31%<br>Poblaci\\u00f3n Abastecida: 246702.0<br>Poblaci\\u00f3n Total: 248425.0\", \"COSMOL<br>99.13%<br>Poblaci\\u00f3n Abastecida: 142819.0<br>Poblaci\\u00f3n Total: 144067.0\", \"COSPAIL<br>96.69%<br>Poblaci\\u00f3n Abastecida: 82662.0<br>Poblaci\\u00f3n Total: 85492.0\", \"ELAPAS<br>98.93%<br>Poblaci\\u00f3n Abastecida: 285029.0<br>Poblaci\\u00f3n Total: 288122.0\", \"EMAPAS<br>36.03%<br>Poblaci\\u00f3n Abastecida: 29610.0<br>Poblaci\\u00f3n Total: 82188.0\", \"EMAPAV<br>95.30%<br>Poblaci\\u00f3n Abastecida: 47835.0<br>Poblaci\\u00f3n Total: 50194.0\", \"EMAPYC<br>94.02%<br>Poblaci\\u00f3n Abastecida: 65719.0<br>Poblaci\\u00f3n Total: 69896.0\", \"EPSA COBIJA<br>68.47%<br>Poblaci\\u00f3n Abastecida: 45060.0<br>Poblaci\\u00f3n Total: 65807.0\", \"MANCHACO<br>98.33%<br>Poblaci\\u00f3n Abastecida: 59533.0<br>Poblaci\\u00f3n Total: 60545.0\", \"SAJUBA<br>92.81%<br>Poblaci\\u00f3n Abastecida: 99420.0<br>Poblaci\\u00f3n Total: 107124.0\", \"SELA<br>96.49%<br>Poblaci\\u00f3n Abastecida: 294840.0<br>Poblaci\\u00f3n Total: 305554.0\"], \"x\": [99.22716794600632, 91.53019447287615, 82.35948803561492, 80.85922814659251, 91.52338640300741, 93.64032433740772, 96.44587948815891, 99.30643051222702, 99.13373638654237, 96.6897487484209, 98.92649641471321, 36.02715724923347, 95.30023508785911, 94.02397848231658, 68.47295880377467, 98.3285159798497, 92.80833426683095, 96.49358214914548], \"y\": [3, 3, 3, 3, 3, 3, 3, 3, 3, 3, 3, 3, 3, 3, 3, 3, 3, 3], \"type\": \"scatter\"}, {\"hoverinfo\": \"text\", \"marker\": {\"line\": {\"color\": \"#2ca02c\", \"width\": 2}, \"opacity\": 0.7, \"size\": 25, \"symbol\": \"line-ns\"}, \"mode\": \"markers\", \"name\": \"Categor\\u00eda: C\", \"text\": [\"6 DE OCTUBRE<br>86.65%<br>Poblaci\\u00f3n Abastecida: 25180.0<br>Poblaci\\u00f3n Total: 29061.0\", \"CAPU<br>92.41%<br>Poblaci\\u00f3n Abastecida: 29885.0<br>Poblaci\\u00f3n Total: 32340.0\", \"COAPASB<br>nan%<br>Poblaci\\u00f3n Abastecida: nan<br>Poblaci\\u00f3n Total: nan\", \"COMAYO<br>96.88%<br>Poblaci\\u00f3n Abastecida: 15225.0<br>Poblaci\\u00f3n Total: 15716.0\", \"COOPAGUAB<br>73.90%<br>Poblaci\\u00f3n Abastecida: 9640.0<br>Poblaci\\u00f3n Total: 13044.0\", \"COOPLIM<br>97.96%<br>Poblaci\\u00f3n Abastecida: 14900.0<br>Poblaci\\u00f3n Total: 15211.0\", \"COOSIV<br>73.14%<br>Poblaci\\u00f3n Abastecida: 26780.0<br>Poblaci\\u00f3n Total: 36613.0\", \"COOSPELCAR<br>96.30%<br>Poblaci\\u00f3n Abastecida: 49835.0<br>Poblaci\\u00f3n Total: 51750.0\", \"COSAJU<br>92.17%<br>Poblaci\\u00f3n Abastecida: 22119.0<br>Poblaci\\u00f3n Total: 23999.0\", \"COSAP<br>80.47%<br>Poblaci\\u00f3n Abastecida: 31825.0<br>Poblaci\\u00f3n Total: 39548.0\", \"COSAPAC<br>93.99%<br>Poblaci\\u00f3n Abastecida: 25753.0<br>Poblaci\\u00f3n Total: 27399.0\", \"COSAPSI<br>73.47%<br>Poblaci\\u00f3n Abastecida: 8855.0<br>Poblaci\\u00f3n Total: 12052.0\", \"COSCHAL<br>92.00%<br>Poblaci\\u00f3n Abastecida: 24794.0<br>Poblaci\\u00f3n Total: 26950.0\", \"COSEPCO<br>50.60%<br>Poblaci\\u00f3n Abastecida: 9732.0<br>Poblaci\\u00f3n Total: 19232.0\", \"COSEPUR<br>91.52%<br>Poblaci\\u00f3n Abastecida: 14458.0<br>Poblaci\\u00f3n Total: 15797.0\", \"COSEPW<br>97.14%<br>Poblaci\\u00f3n Abastecida: 32916.0<br>Poblaci\\u00f3n Total: 33886.0\", \"COSFAL<br>97.88%<br>Poblaci\\u00f3n Abastecida: 10900.0<br>Poblaci\\u00f3n Total: 11136.0\", \"COSIMBO<br>92.41%<br>Poblaci\\u00f3n Abastecida: 18710.0<br>Poblaci\\u00f3n Total: 20246.0\", \"COSMIN<br>95.87%<br>Poblaci\\u00f3n Abastecida: 21818.0<br>Poblaci\\u00f3n Total: 22759.0\", \"COSMON<br>98.88%<br>Poblaci\\u00f3n Abastecida: 19368.0<br>Poblaci\\u00f3n Total: 19588.0\", \"COSPAS<br>43.54%<br>Poblaci\\u00f3n Abastecida: 10668.0<br>Poblaci\\u00f3n Total: 24499.0\", \"COSPHUL<br>99.33%<br>Poblaci\\u00f3n Abastecida: 21912.0<br>Poblaci\\u00f3n Total: 22059.0\", \"COSPOL<br>97.07%<br>Poblaci\\u00f3n Abastecida: 15120.0<br>Poblaci\\u00f3n Total: 15576.0\", \"COSPUGEBUL<br>95.49%<br>Poblaci\\u00f3n Abastecida: 40518.0<br>Poblaci\\u00f3n Total: 42431.0\", \"EMAAB<br>92.03%<br>Poblaci\\u00f3n Abastecida: 29498.0<br>Poblaci\\u00f3n Total: 32053.0\", \"EMAPA<br>51.04%<br>Poblaci\\u00f3n Abastecida: 13680.0<br>Poblaci\\u00f3n Total: 26804.0\", \"EMPSAAT<br>85.98%<br>Poblaci\\u00f3n Abastecida: 26068.0<br>Poblaci\\u00f3n Total: 30320.0\", \"EMSABAV<br>92.03%<br>Poblaci\\u00f3n Abastecida: 44068.0<br>Poblaci\\u00f3n Total: 47884.0\", \"FLORIDA<br>51.49%<br>Poblaci\\u00f3n Abastecida: 5625.0<br>Poblaci\\u00f3n Total: 10924.0\", \"LA GUARDIA<br>89.89%<br>Poblaci\\u00f3n Abastecida: 17386.0<br>Poblaci\\u00f3n Total: 19341.0\", \"LA PORTE\\u00d1A<br>71.94%<br>Poblaci\\u00f3n Abastecida: 20900.0<br>Poblaci\\u00f3n Total: 29053.0\", \"SAMAPAR<br>98.29%<br>Poblaci\\u00f3n Abastecida: 15195.0<br>Poblaci\\u00f3n Total: 15459.0\", \"SEAPAS<br>96.58%<br>Poblaci\\u00f3n Abastecida: 29868.0<br>Poblaci\\u00f3n Total: 30926.0\", \"SEMAPAR<br>38.74%<br>Poblaci\\u00f3n Abastecida: 18667.0<br>Poblaci\\u00f3n Total: 48187.0\", \"SMAPA<br>99.38%<br>Poblaci\\u00f3n Abastecida: 22528.0<br>Poblaci\\u00f3n Total: 22668.0\"], \"x\": [86.64533223220123, 92.40878169449599, 0.0, 96.87579536777807, 73.90371051824593, 97.95542699362304, 73.14341900417884, 96.29951690821255, 92.16634026417768, 80.47183169818955, 93.99248147742618, 73.47328244274809, 92.0, 50.60316139767055, 91.52370703298095, 97.13746089830609, 97.88074712643679, 92.41331621060951, 95.86537194077069, 98.87686338574638, 43.544634474876524, 99.33360533115734, 97.07241910631741, 95.4915038533148, 92.02882725485914, 51.037158633039844, 85.97625329815304, 92.03074095731351, 51.49212742585134, 89.89193940334006, 71.9374935462775, 98.29225693770618, 96.57893034986742, 38.73866395500861, 99.38238927121934], \"y\": [2, 2, 2, 2, 2, 2, 2, 2, 2, 2, 2, 2, 2, 2, 2, 2, 2, 2, 2, 2, 2, 2, 2, 2, 2, 2, 2, 2, 2, 2, 2, 2, 2, 2, 2], \"type\": \"scatter\"}, {\"hoverinfo\": \"text\", \"marker\": {\"line\": {\"color\": \"#d62728\", \"width\": 2}, \"opacity\": 0.7, \"size\": 25, \"symbol\": \"line-ns\"}, \"mode\": \"markers\", \"name\": \"Categor\\u00eda: D\", \"text\": [\"AGUAYSES<br>93.77%<br>Poblaci\\u00f3n Abastecida: 1642.0<br>Poblaci\\u00f3n Total: 1751.0\", \"ASOAPAL<br>60.11%<br>Poblaci\\u00f3n Abastecida: 5275.0<br>Poblaci\\u00f3n Total: 8775.0\", \"CAPCHI<br>93.02%<br>Poblaci\\u00f3n Abastecida: 4985.0<br>Poblaci\\u00f3n Total: 5359.0\", \"CAPSCH<br>92.39%<br>Poblaci\\u00f3n Abastecida: 9370.0<br>Poblaci\\u00f3n Total: 10142.0\", \"COAPAS VINTO<br>98.51%<br>Poblaci\\u00f3n Abastecida: 9654.0<br>Poblaci\\u00f3n Total: 9800.0\", \"COLOMI<br>86.51%<br>Poblaci\\u00f3n Abastecida: 6510.0<br>Poblaci\\u00f3n Total: 7525.0\", \"COOAPASH<br>91.42%<br>Poblaci\\u00f3n Abastecida: 7590.0<br>Poblaci\\u00f3n Total: 8302.0\", \"COSAJO<br>90.00%<br>Poblaci\\u00f3n Abastecida: 3834.0<br>Poblaci\\u00f3n Total: 4260.0\", \"COSEPFA<br>92.98%<br>Poblaci\\u00f3n Abastecida: 7628.0<br>Poblaci\\u00f3n Total: 8204.0\", \"COSEPP<br>90.15%<br>Poblaci\\u00f3n Abastecida: 6710.0<br>Poblaci\\u00f3n Total: 7443.0\", \"COSERCA<br>95.95%<br>Poblaci\\u00f3n Abastecida: 8348.0<br>Poblaci\\u00f3n Total: 8700.0\", \"COSSAJA<br>78.25%<br>Poblaci\\u00f3n Abastecida: 8300.0<br>Poblaci\\u00f3n Total: 10607.0\", \"JASAP<br>91.91%<br>Poblaci\\u00f3n Abastecida: 4535.0<br>Poblaci\\u00f3n Total: 4934.0\", \"JOROCHITO<br>97.82%<br>Poblaci\\u00f3n Abastecida: 4531.0<br>Poblaci\\u00f3n Total: 4632.0\"], \"x\": [93.77498572244431, 60.11396011396012, 93.02108602351184, 92.38808913429304, 98.51020408163265, 86.51162790697674, 91.42375331245482, 90.0, 92.97903461725987, 90.15182050248556, 95.95402298850576, 78.25021212406901, 91.91325496554519, 97.81951640759931], \"y\": [1, 1, 1, 1, 1, 1, 1, 1, 1, 1, 1, 1, 1, 1], \"type\": \"scatter\"}], \"name\": \"2017\"}]);}).then(function(){Plotly.animate('2d2025df-79dd-46db-a270-5e024c9da21a');})\n",
       "        });</script>"
      ],
      "text/vnd.plotly.v1+html": [
       "<div id=\"2d2025df-79dd-46db-a270-5e024c9da21a\" style=\"height: 525px; width: 1000px;\" class=\"plotly-graph-div\"></div><script type=\"text/javascript\">require([\"plotly\"], function(Plotly) { window.PLOTLYENV=window.PLOTLYENV || {};window.PLOTLYENV.BASE_URL=\"https://plot.ly\";\n",
       "        Plotly.plot(\n",
       "            '2d2025df-79dd-46db-a270-5e024c9da21a',\n",
       "            [{\"hoverinfo\": \"text\", \"marker\": {\"line\": {\"color\": \"#1f77b4\", \"width\": 2}, \"opacity\": 0.7, \"size\": 25, \"symbol\": \"line-ns\"}, \"mode\": \"markers\", \"name\": \"Categor\\u00eda: A\", \"text\": [\"EPSAS<br>91.56%<br>Poblaci\\u00f3n Abastecida: 2030273.0<br>Poblaci\\u00f3n Total: 2217437.0\", \"SAGUAPAC<br>98.24%<br>Poblaci\\u00f3n Abastecida: 1383348.0<br>Poblaci\\u00f3n Total: 1408130.0\", \"SEMAPA<br>62.28%<br>Poblaci\\u00f3n Abastecida: 351035.0<br>Poblaci\\u00f3n Total: 563622.0\"], \"x\": [91.5594445298784, 98.24007726559337, 62.28199041201372], \"y\": [4, 4, 4], \"type\": \"scatter\", \"uid\": \"3cd24ca8-cf66-11e8-bd70-f0761c9f65e1\"}, {\"hoverinfo\": \"text\", \"marker\": {\"line\": {\"color\": \"#ff7f0e\", \"width\": 2}, \"opacity\": 0.7, \"size\": 25, \"symbol\": \"line-ns\"}, \"mode\": \"markers\", \"name\": \"Categor\\u00eda: B\", \"text\": [\"AAPOS<br>94.80%<br>Poblaci\\u00f3n Abastecida: 188237.0<br>Poblaci\\u00f3n Total: 198560.0\", \"BUSTILLO<br>75.91%<br>Poblaci\\u00f3n Abastecida: 38576.0<br>Poblaci\\u00f3n Total: 50816.0\", \"CAPAG<br>81.21%<br>Poblaci\\u00f3n Abastecida: 42085.0<br>Poblaci\\u00f3n Total: 51820.0\", \"COATRI<br>80.42%<br>Poblaci\\u00f3n Abastecida: 60106.0<br>Poblaci\\u00f3n Total: 74736.0\", \"COOPAGUAS<br>90.79%<br>Poblaci\\u00f3n Abastecida: 140192.0<br>Poblaci\\u00f3n Total: 154416.0\", \"COOPAPPI<br>93.39%<br>Poblaci\\u00f3n Abastecida: 69880.0<br>Poblaci\\u00f3n Total: 74830.0\", \"COOPLAN<br>81.98%<br>Poblaci\\u00f3n Abastecida: 159998.0<br>Poblaci\\u00f3n Total: 195178.0\", \"COSAALT<br>97.87%<br>Poblaci\\u00f3n Abastecida: 221870.0<br>Poblaci\\u00f3n Total: 226690.0\", \"COSMOL<br>97.65%<br>Poblaci\\u00f3n Abastecida: 128810.0<br>Poblaci\\u00f3n Total: 131908.0\", \"COSPAIL<br>94.27%<br>Poblaci\\u00f3n Abastecida: 87759.0<br>Poblaci\\u00f3n Total: 93089.0\", \"ELAPAS<br>88.00%<br>Poblaci\\u00f3n Abastecida: 265403.0<br>Poblaci\\u00f3n Total: 301592.0\", \"EMAPAS<br>nan%<br>Poblaci\\u00f3n Abastecida: nan<br>Poblaci\\u00f3n Total: 101427.0\", \"EMAPAV<br>88.00%<br>Poblaci\\u00f3n Abastecida: 44040.0<br>Poblaci\\u00f3n Total: 50043.0\", \"EMAPYC<br>88.00%<br>Poblaci\\u00f3n Abastecida: 59961.0<br>Poblaci\\u00f3n Total: 68141.0\", \"EPSA COBIJA<br>76.46%<br>Poblaci\\u00f3n Abastecida: 42200.0<br>Poblaci\\u00f3n Total: 55193.0\", \"MANCHACO<br>95.77%<br>Poblaci\\u00f3n Abastecida: 52303.0<br>Poblaci\\u00f3n Total: 54611.0\", \"SAJUBA<br>87.33%<br>Poblaci\\u00f3n Abastecida: 86652.0<br>Poblaci\\u00f3n Total: 99228.0\", \"SELA<br>93.42%<br>Poblaci\\u00f3n Abastecida: 251491.0<br>Poblaci\\u00f3n Total: 269191.0\"], \"x\": [94.80106768734892, 75.91309823677582, 81.21381705905057, 80.4244273174909, 90.78851932442234, 93.3850060136309, 81.97542755843385, 97.87374829061714, 97.6513933953968, 94.27429664084907, 88.00067641051487, 0.0, 88.00431628799232, 87.99547996066978, 76.4589712463537, 95.77374521616524, 87.32615793929132, 93.42474302632702], \"y\": [3, 3, 3, 3, 3, 3, 3, 3, 3, 3, 3, 3, 3, 3, 3, 3, 3, 3], \"type\": \"scatter\", \"uid\": \"3cd24ca9-cf66-11e8-adf8-f0761c9f65e1\"}, {\"hoverinfo\": \"text\", \"marker\": {\"line\": {\"color\": \"#2ca02c\", \"width\": 2}, \"opacity\": 0.7, \"size\": 25, \"symbol\": \"line-ns\"}, \"mode\": \"markers\", \"name\": \"Categor\\u00eda: C\", \"text\": [\"CAPU<br>91.80%<br>Poblaci\\u00f3n Abastecida: 27240.0<br>Poblaci\\u00f3n Total: 29672.0\", \"COMAYO<br>78.16%<br>Poblaci\\u00f3n Abastecida: 9875.0<br>Poblaci\\u00f3n Total: 12635.0\", \"COOPAGUAB<br>67.58%<br>Poblaci\\u00f3n Abastecida: 8670.0<br>Poblaci\\u00f3n Total: 12829.0\", \"COOPLIM<br>90.92%<br>Poblaci\\u00f3n Abastecida: 14075.0<br>Poblaci\\u00f3n Total: 15481.0\", \"COOSIV<br>70.35%<br>Poblaci\\u00f3n Abastecida: 24200.0<br>Poblaci\\u00f3n Total: 34400.0\", \"COOSPELCAR<br>82.91%<br>Poblaci\\u00f3n Abastecida: 36020.0<br>Poblaci\\u00f3n Total: 43445.0\", \"COSAJU<br>54.20%<br>Poblaci\\u00f3n Abastecida: 8670.0<br>Poblaci\\u00f3n Total: 15995.0\", \"COSAP<br>70.84%<br>Poblaci\\u00f3n Abastecida: 26415.0<br>Poblaci\\u00f3n Total: 37289.0\", \"COSAPAC<br>96.53%<br>Poblaci\\u00f3n Abastecida: 23051.0<br>Poblaci\\u00f3n Total: 23880.0\", \"COSAPSI<br>75.62%<br>Poblaci\\u00f3n Abastecida: 7725.0<br>Poblaci\\u00f3n Total: 10215.0\", \"COSCHAL<br>72.53%<br>Poblaci\\u00f3n Abastecida: 19720.0<br>Poblaci\\u00f3n Total: 27190.0\", \"COSEPA<br>99.98%<br>Poblaci\\u00f3n Abastecida: 25443.0<br>Poblaci\\u00f3n Total: 25447.0\", \"COSEPA<br>84.68%<br>Poblaci\\u00f3n Abastecida: 21000.0<br>Poblaci\\u00f3n Total: 24800.0\", \"COSIMBO<br>88.64%<br>Poblaci\\u00f3n Abastecida: 12645.0<br>Poblaci\\u00f3n Total: 14265.0\", \"COSMIN<br>87.23%<br>Poblaci\\u00f3n Abastecida: 18075.0<br>Poblaci\\u00f3n Total: 20720.0\", \"COSMON<br>97.90%<br>Poblaci\\u00f3n Abastecida: 17748.0<br>Poblaci\\u00f3n Total: 18128.0\", \"COSPHUL<br>96.93%<br>Poblaci\\u00f3n Abastecida: 20074.0<br>Poblaci\\u00f3n Total: 20710.0\", \"COSPUGEBUL<br>90.13%<br>Poblaci\\u00f3n Abastecida: 33450.0<br>Poblaci\\u00f3n Total: 37114.0\", \"EMAAB<br>84.13%<br>Poblaci\\u00f3n Abastecida: 35803.0<br>Poblaci\\u00f3n Total: 42556.0\", \"EMAPA<br>46.54%<br>Poblaci\\u00f3n Abastecida: 11485.0<br>Poblaci\\u00f3n Total: 24677.0\", \"EMPSAAT<br>95.31%<br>Poblaci\\u00f3n Abastecida: 22936.0<br>Poblaci\\u00f3n Total: 24065.0\", \"EMSABAV<br>92.85%<br>Poblaci\\u00f3n Abastecida: 41828.0<br>Poblaci\\u00f3n Total: 45048.0\", \"FLORIDA<br>41.54%<br>Poblaci\\u00f3n Abastecida: 4350.0<br>Poblaci\\u00f3n Total: 10472.0\", \"LA GUARDIA<br>93.62%<br>Poblaci\\u00f3n Abastecida: 14933.0<br>Poblaci\\u00f3n Total: 15950.0\", \"LA PORTE\\u00d1A<br>98.70%<br>Poblaci\\u00f3n Abastecida: 22990.0<br>Poblaci\\u00f3n Total: 23292.0\", \"SAMAPAR<br>84.98%<br>Poblaci\\u00f3n Abastecida: 12030.0<br>Poblaci\\u00f3n Total: 14157.0\", \"SEAPAS<br>96.30%<br>Poblaci\\u00f3n Abastecida: 32208.0<br>Poblaci\\u00f3n Total: 33446.0\"], \"x\": [91.80372067942841, 78.15591610605462, 67.58126120508223, 90.91789936050642, 70.34883720930233, 82.90942571066866, 54.20443888715224, 70.8385851055271, 96.52847571189281, 75.62408223201174, 72.52666421478486, 99.98428105474123, 84.67741935483872, 88.64353312302839, 87.23455598455598, 97.90379523389232, 96.92901979719942, 90.12771460904241, 84.13149732117681, 46.54131377395956, 95.30853937253272, 92.85206890427989, 41.539343009931244, 93.62382445141066, 98.7034174823974, 84.97563043017588, 96.29851103270944], \"y\": [2, 2, 2, 2, 2, 2, 2, 2, 2, 2, 2, 2, 2, 2, 2, 2, 2, 2, 2, 2, 2, 2, 2, 2, 2, 2, 2], \"type\": \"scatter\", \"uid\": \"3cd24caa-cf66-11e8-b364-f0761c9f65e1\"}, {\"hoverinfo\": \"text\", \"marker\": {\"line\": {\"color\": \"#d62728\", \"width\": 2}, \"opacity\": 0.7, \"size\": 25, \"symbol\": \"line-ns\"}, \"mode\": \"markers\", \"name\": \"Categor\\u00eda: D\", \"text\": [\"CAPSCH<br>81.99%<br>Poblaci\\u00f3n Abastecida: 7568.0<br>Poblaci\\u00f3n Total: 9230.0\", \"COAPAS VINTO<br>92.05%<br>Poblaci\\u00f3n Abastecida: 8238.0<br>Poblaci\\u00f3n Total: 8949.0\", \"COOAPASH<br>nan%<br>Poblaci\\u00f3n Abastecida: nan<br>Poblaci\\u00f3n Total: 7611.0\", \"COSEPFA<br>nan%<br>Poblaci\\u00f3n Abastecida: nan<br>Poblaci\\u00f3n Total: 6686.0\", \"COSEPP<br>88.57%<br>Poblaci\\u00f3n Abastecida: 6045.0<br>Poblaci\\u00f3n Total: 6825.0\", \"COSERCA<br>98.37%<br>Poblaci\\u00f3n Abastecida: 7431.0<br>Poblaci\\u00f3n Total: 7554.0\", \"COSSAJA<br>66.05%<br>Poblaci\\u00f3n Abastecida: 6605.0<br>Poblaci\\u00f3n Total: 10000.0\"], \"x\": [81.99349945828818, 92.05497820985585, 0.0, 0.0, 88.57142857142857, 98.37172359015092, 66.05], \"y\": [1, 1, 1, 1, 1, 1, 1], \"type\": \"scatter\", \"uid\": \"3cd24cab-cf66-11e8-826c-f0761c9f65e1\"}],\n",
       "            {\"hovermode\": \"closest\", \"legend\": {\"orientation\": \"h\", \"x\": 0.1, \"y\": 1.1}, \"plot_bgcolor\": \"#dfe8f3\", \"sliders\": [{\"active\": 1, \"currentvalue\": {\"font\": {\"size\": 20}, \"prefix\": \"A\\u00f1o: \", \"visible\": true, \"xanchor\": \"right\"}, \"len\": 0.9, \"pad\": {\"b\": 10, \"t\": 50}, \"steps\": [{\"args\": [[\"2014\"], {\"frame\": {\"duration\": 1200, \"redraw\": false}, \"fromcurrent\": false, \"transition\": {\"duration\": 1200, \"easing\": \"cubic-in-out\"}}], \"label\": \"2014\", \"method\": \"animate\"}, {\"args\": [[\"2015\"], {\"frame\": {\"duration\": 1200, \"redraw\": false}, \"fromcurrent\": false, \"transition\": {\"duration\": 1200, \"easing\": \"cubic-in-out\"}}], \"label\": \"2015\", \"method\": \"animate\"}, {\"args\": [[\"2016\"], {\"frame\": {\"duration\": 1200, \"redraw\": false}, \"fromcurrent\": false, \"transition\": {\"duration\": 1200, \"easing\": \"cubic-in-out\"}}], \"label\": \"2016\", \"method\": \"animate\"}, {\"args\": [[\"2017\"], {\"frame\": {\"duration\": 1200, \"redraw\": false}, \"fromcurrent\": false, \"transition\": {\"duration\": 1200, \"easing\": \"cubic-in-out\"}}], \"label\": \"2017\", \"method\": \"animate\"}], \"x\": 0.1, \"xanchor\": \"left\", \"y\": 0, \"yanchor\": \"top\"}], \"title\": \"Poblaci\\u00f3n Abastecida\", \"updatemenus\": [{\"buttons\": [{\"args\": [[\"2014\", \"2015\", \"2016\", \"2017\"], {\"frame\": {\"duration\": 1200, \"redraw\": false}, \"fromcurrent\": false, \"transition\": {\"duration\": 1200, \"easing\": \"cubic-in-out\"}}], \"label\": \"Animar\", \"method\": \"animate\"}], \"direction\": \"left\", \"pad\": {\"r\": 10, \"t\": 87}, \"showactive\": false, \"type\": \"buttons\", \"x\": 0.1, \"xanchor\": \"right\", \"y\": 0, \"yanchor\": \"top\"}], \"width\": 1000, \"xaxis\": {\"autorange\": false, \"dtick\": 5, \"range\": [35, 100], \"tick0\": 35, \"tickmode\": \"linear\", \"title\": \"Porcentaje (%): Poblaci\\u00f3n Abastecida / Poblaci\\u00f3n Total del \\u00c1rea de Servicio * 100\"}, \"yaxis\": {\"visible\": false}},\n",
       "            {\"showLink\": true, \"linkText\": \"Export to plot.ly\"}\n",
       "        ).then(function () {return Plotly.addFrames('2d2025df-79dd-46db-a270-5e024c9da21a',[{\"data\": [{\"hoverinfo\": \"text\", \"marker\": {\"line\": {\"color\": \"#1f77b4\", \"width\": 2}, \"opacity\": 0.7, \"size\": 25, \"symbol\": \"line-ns\"}, \"mode\": \"markers\", \"name\": \"Categor\\u00eda: A\", \"text\": [\"EPSAS<br>91.56%<br>Poblaci\\u00f3n Abastecida: 2030273.0<br>Poblaci\\u00f3n Total: 2217437.0\", \"SAGUAPAC<br>98.24%<br>Poblaci\\u00f3n Abastecida: 1383348.0<br>Poblaci\\u00f3n Total: 1408130.0\", \"SEMAPA<br>62.28%<br>Poblaci\\u00f3n Abastecida: 351035.0<br>Poblaci\\u00f3n Total: 563622.0\"], \"x\": [91.5594445298784, 98.24007726559337, 62.28199041201372], \"y\": [4, 4, 4], \"type\": \"scatter\"}, {\"hoverinfo\": \"text\", \"marker\": {\"line\": {\"color\": \"#ff7f0e\", \"width\": 2}, \"opacity\": 0.7, \"size\": 25, \"symbol\": \"line-ns\"}, \"mode\": \"markers\", \"name\": \"Categor\\u00eda: B\", \"text\": [\"AAPOS<br>94.80%<br>Poblaci\\u00f3n Abastecida: 188237.0<br>Poblaci\\u00f3n Total: 198560.0\", \"BUSTILLO<br>75.91%<br>Poblaci\\u00f3n Abastecida: 38576.0<br>Poblaci\\u00f3n Total: 50816.0\", \"CAPAG<br>81.21%<br>Poblaci\\u00f3n Abastecida: 42085.0<br>Poblaci\\u00f3n Total: 51820.0\", \"COATRI<br>80.42%<br>Poblaci\\u00f3n Abastecida: 60106.0<br>Poblaci\\u00f3n Total: 74736.0\", \"COOPAGUAS<br>90.79%<br>Poblaci\\u00f3n Abastecida: 140192.0<br>Poblaci\\u00f3n Total: 154416.0\", \"COOPAPPI<br>93.39%<br>Poblaci\\u00f3n Abastecida: 69880.0<br>Poblaci\\u00f3n Total: 74830.0\", \"COOPLAN<br>81.98%<br>Poblaci\\u00f3n Abastecida: 159998.0<br>Poblaci\\u00f3n Total: 195178.0\", \"COSAALT<br>97.87%<br>Poblaci\\u00f3n Abastecida: 221870.0<br>Poblaci\\u00f3n Total: 226690.0\", \"COSMOL<br>97.65%<br>Poblaci\\u00f3n Abastecida: 128810.0<br>Poblaci\\u00f3n Total: 131908.0\", \"COSPAIL<br>94.27%<br>Poblaci\\u00f3n Abastecida: 87759.0<br>Poblaci\\u00f3n Total: 93089.0\", \"ELAPAS<br>88.00%<br>Poblaci\\u00f3n Abastecida: 265403.0<br>Poblaci\\u00f3n Total: 301592.0\", \"EMAPAS<br>nan%<br>Poblaci\\u00f3n Abastecida: nan<br>Poblaci\\u00f3n Total: 101427.0\", \"EMAPAV<br>88.00%<br>Poblaci\\u00f3n Abastecida: 44040.0<br>Poblaci\\u00f3n Total: 50043.0\", \"EMAPYC<br>88.00%<br>Poblaci\\u00f3n Abastecida: 59961.0<br>Poblaci\\u00f3n Total: 68141.0\", \"EPSA COBIJA<br>76.46%<br>Poblaci\\u00f3n Abastecida: 42200.0<br>Poblaci\\u00f3n Total: 55193.0\", \"MANCHACO<br>95.77%<br>Poblaci\\u00f3n Abastecida: 52303.0<br>Poblaci\\u00f3n Total: 54611.0\", \"SAJUBA<br>87.33%<br>Poblaci\\u00f3n Abastecida: 86652.0<br>Poblaci\\u00f3n Total: 99228.0\", \"SELA<br>93.42%<br>Poblaci\\u00f3n Abastecida: 251491.0<br>Poblaci\\u00f3n Total: 269191.0\"], \"x\": [94.80106768734892, 75.91309823677582, 81.21381705905057, 80.4244273174909, 90.78851932442234, 93.3850060136309, 81.97542755843385, 97.87374829061714, 97.6513933953968, 94.27429664084907, 88.00067641051487, 0.0, 88.00431628799232, 87.99547996066978, 76.4589712463537, 95.77374521616524, 87.32615793929132, 93.42474302632702], \"y\": [3, 3, 3, 3, 3, 3, 3, 3, 3, 3, 3, 3, 3, 3, 3, 3, 3, 3], \"type\": \"scatter\"}, {\"hoverinfo\": \"text\", \"marker\": {\"line\": {\"color\": \"#2ca02c\", \"width\": 2}, \"opacity\": 0.7, \"size\": 25, \"symbol\": \"line-ns\"}, \"mode\": \"markers\", \"name\": \"Categor\\u00eda: C\", \"text\": [\"CAPU<br>91.80%<br>Poblaci\\u00f3n Abastecida: 27240.0<br>Poblaci\\u00f3n Total: 29672.0\", \"COMAYO<br>78.16%<br>Poblaci\\u00f3n Abastecida: 9875.0<br>Poblaci\\u00f3n Total: 12635.0\", \"COOPAGUAB<br>67.58%<br>Poblaci\\u00f3n Abastecida: 8670.0<br>Poblaci\\u00f3n Total: 12829.0\", \"COOPLIM<br>90.92%<br>Poblaci\\u00f3n Abastecida: 14075.0<br>Poblaci\\u00f3n Total: 15481.0\", \"COOSIV<br>70.35%<br>Poblaci\\u00f3n Abastecida: 24200.0<br>Poblaci\\u00f3n Total: 34400.0\", \"COOSPELCAR<br>82.91%<br>Poblaci\\u00f3n Abastecida: 36020.0<br>Poblaci\\u00f3n Total: 43445.0\", \"COSAJU<br>54.20%<br>Poblaci\\u00f3n Abastecida: 8670.0<br>Poblaci\\u00f3n Total: 15995.0\", \"COSAP<br>70.84%<br>Poblaci\\u00f3n Abastecida: 26415.0<br>Poblaci\\u00f3n Total: 37289.0\", \"COSAPAC<br>96.53%<br>Poblaci\\u00f3n Abastecida: 23051.0<br>Poblaci\\u00f3n Total: 23880.0\", \"COSAPSI<br>75.62%<br>Poblaci\\u00f3n Abastecida: 7725.0<br>Poblaci\\u00f3n Total: 10215.0\", \"COSCHAL<br>72.53%<br>Poblaci\\u00f3n Abastecida: 19720.0<br>Poblaci\\u00f3n Total: 27190.0\", \"COSEPA<br>99.98%<br>Poblaci\\u00f3n Abastecida: 25443.0<br>Poblaci\\u00f3n Total: 25447.0\", \"COSEPA<br>84.68%<br>Poblaci\\u00f3n Abastecida: 21000.0<br>Poblaci\\u00f3n Total: 24800.0\", \"COSIMBO<br>88.64%<br>Poblaci\\u00f3n Abastecida: 12645.0<br>Poblaci\\u00f3n Total: 14265.0\", \"COSMIN<br>87.23%<br>Poblaci\\u00f3n Abastecida: 18075.0<br>Poblaci\\u00f3n Total: 20720.0\", \"COSMON<br>97.90%<br>Poblaci\\u00f3n Abastecida: 17748.0<br>Poblaci\\u00f3n Total: 18128.0\", \"COSPHUL<br>96.93%<br>Poblaci\\u00f3n Abastecida: 20074.0<br>Poblaci\\u00f3n Total: 20710.0\", \"COSPUGEBUL<br>90.13%<br>Poblaci\\u00f3n Abastecida: 33450.0<br>Poblaci\\u00f3n Total: 37114.0\", \"EMAAB<br>84.13%<br>Poblaci\\u00f3n Abastecida: 35803.0<br>Poblaci\\u00f3n Total: 42556.0\", \"EMAPA<br>46.54%<br>Poblaci\\u00f3n Abastecida: 11485.0<br>Poblaci\\u00f3n Total: 24677.0\", \"EMPSAAT<br>95.31%<br>Poblaci\\u00f3n Abastecida: 22936.0<br>Poblaci\\u00f3n Total: 24065.0\", \"EMSABAV<br>92.85%<br>Poblaci\\u00f3n Abastecida: 41828.0<br>Poblaci\\u00f3n Total: 45048.0\", \"FLORIDA<br>41.54%<br>Poblaci\\u00f3n Abastecida: 4350.0<br>Poblaci\\u00f3n Total: 10472.0\", \"LA GUARDIA<br>93.62%<br>Poblaci\\u00f3n Abastecida: 14933.0<br>Poblaci\\u00f3n Total: 15950.0\", \"LA PORTE\\u00d1A<br>98.70%<br>Poblaci\\u00f3n Abastecida: 22990.0<br>Poblaci\\u00f3n Total: 23292.0\", \"SAMAPAR<br>84.98%<br>Poblaci\\u00f3n Abastecida: 12030.0<br>Poblaci\\u00f3n Total: 14157.0\", \"SEAPAS<br>96.30%<br>Poblaci\\u00f3n Abastecida: 32208.0<br>Poblaci\\u00f3n Total: 33446.0\"], \"x\": [91.80372067942841, 78.15591610605462, 67.58126120508223, 90.91789936050642, 70.34883720930233, 82.90942571066866, 54.20443888715224, 70.8385851055271, 96.52847571189281, 75.62408223201174, 72.52666421478486, 99.98428105474123, 84.67741935483872, 88.64353312302839, 87.23455598455598, 97.90379523389232, 96.92901979719942, 90.12771460904241, 84.13149732117681, 46.54131377395956, 95.30853937253272, 92.85206890427989, 41.539343009931244, 93.62382445141066, 98.7034174823974, 84.97563043017588, 96.29851103270944], \"y\": [2, 2, 2, 2, 2, 2, 2, 2, 2, 2, 2, 2, 2, 2, 2, 2, 2, 2, 2, 2, 2, 2, 2, 2, 2, 2, 2], \"type\": \"scatter\"}, {\"hoverinfo\": \"text\", \"marker\": {\"line\": {\"color\": \"#d62728\", \"width\": 2}, \"opacity\": 0.7, \"size\": 25, \"symbol\": \"line-ns\"}, \"mode\": \"markers\", \"name\": \"Categor\\u00eda: D\", \"text\": [\"CAPSCH<br>81.99%<br>Poblaci\\u00f3n Abastecida: 7568.0<br>Poblaci\\u00f3n Total: 9230.0\", \"COAPAS VINTO<br>92.05%<br>Poblaci\\u00f3n Abastecida: 8238.0<br>Poblaci\\u00f3n Total: 8949.0\", \"COOAPASH<br>nan%<br>Poblaci\\u00f3n Abastecida: nan<br>Poblaci\\u00f3n Total: 7611.0\", \"COSEPFA<br>nan%<br>Poblaci\\u00f3n Abastecida: nan<br>Poblaci\\u00f3n Total: 6686.0\", \"COSEPP<br>88.57%<br>Poblaci\\u00f3n Abastecida: 6045.0<br>Poblaci\\u00f3n Total: 6825.0\", \"COSERCA<br>98.37%<br>Poblaci\\u00f3n Abastecida: 7431.0<br>Poblaci\\u00f3n Total: 7554.0\", \"COSSAJA<br>66.05%<br>Poblaci\\u00f3n Abastecida: 6605.0<br>Poblaci\\u00f3n Total: 10000.0\"], \"x\": [81.99349945828818, 92.05497820985585, 0.0, 0.0, 88.57142857142857, 98.37172359015092, 66.05], \"y\": [1, 1, 1, 1, 1, 1, 1], \"type\": \"scatter\"}], \"name\": \"2014\"}, {\"data\": [{\"hoverinfo\": \"text\", \"marker\": {\"line\": {\"color\": \"#1f77b4\", \"width\": 2}, \"opacity\": 0.7, \"size\": 25, \"symbol\": \"line-ns\"}, \"mode\": \"markers\", \"name\": \"Categor\\u00eda: A\", \"text\": [\"EPSAS<br>95.10%<br>Poblaci\\u00f3n Abastecida: 2180632.0<br>Poblaci\\u00f3n Total: 2292942.0\", \"SAGUAPAC<br>96.62%<br>Poblaci\\u00f3n Abastecida: 1435422.0<br>Poblaci\\u00f3n Total: 1485577.0\", \"SEMAPA<br>62.33%<br>Poblaci\\u00f3n Abastecida: 357035.0<br>Poblaci\\u00f3n Total: 572851.0\"], \"x\": [95.10192582280756, 96.62387072497756, 62.32598005415021], \"y\": [4, 4, 4], \"type\": \"scatter\"}, {\"hoverinfo\": \"text\", \"marker\": {\"line\": {\"color\": \"#ff7f0e\", \"width\": 2}, \"opacity\": 0.7, \"size\": 25, \"symbol\": \"line-ns\"}, \"mode\": \"markers\", \"name\": \"Categor\\u00eda: B\", \"text\": [\"AAPOS<br>97.27%<br>Poblaci\\u00f3n Abastecida: 196515.0<br>Poblaci\\u00f3n Total: 202035.0\", \"BUSTILLO<br>73.49%<br>Poblaci\\u00f3n Abastecida: 39194.0<br>Poblaci\\u00f3n Total: 53331.0\", \"CAPAG<br>82.09%<br>Poblaci\\u00f3n Abastecida: 43575.0<br>Poblaci\\u00f3n Total: 53084.0\", \"COATRI<br>82.33%<br>Poblaci\\u00f3n Abastecida: 61328.0<br>Poblaci\\u00f3n Total: 74486.0\", \"COOPAGUAS<br>90.97%<br>Poblaci\\u00f3n Abastecida: 145190.0<br>Poblaci\\u00f3n Total: 159605.0\", \"COOPAPPI<br>93.90%<br>Poblaci\\u00f3n Abastecida: 73780.0<br>Poblaci\\u00f3n Total: 78572.0\", \"COOPLAN<br>84.61%<br>Poblaci\\u00f3n Abastecida: 171986.0<br>Poblaci\\u00f3n Total: 203278.0\", \"COSAALT<br>98.37%<br>Poblaci\\u00f3n Abastecida: 230466.0<br>Poblaci\\u00f3n Total: 234292.0\", \"COSMOL<br>98.27%<br>Poblaci\\u00f3n Abastecida: 133694.0<br>Poblaci\\u00f3n Total: 136049.0\", \"COSPAIL<br>92.40%<br>Poblaci\\u00f3n Abastecida: 90916.0<br>Poblaci\\u00f3n Total: 98389.0\", \"ELAPAS<br>91.12%<br>Poblaci\\u00f3n Abastecida: 250645.0<br>Poblaci\\u00f3n Total: 275061.0\", \"EMAPAS<br>67.10%<br>Poblaci\\u00f3n Abastecida: 71880.0<br>Poblaci\\u00f3n Total: 107127.0\", \"EMAPAV<br>89.61%<br>Poblaci\\u00f3n Abastecida: 46900.0<br>Poblaci\\u00f3n Total: 52340.0\", \"EMAPYC<br>91.57%<br>Poblaci\\u00f3n Abastecida: 62926.0<br>Poblaci\\u00f3n Total: 68720.0\", \"EPSA COBIJA<br>73.42%<br>Poblaci\\u00f3n Abastecida: 42935.0<br>Poblaci\\u00f3n Total: 58482.0\", \"MANCHACO<br>94.39%<br>Poblaci\\u00f3n Abastecida: 52669.0<br>Poblaci\\u00f3n Total: 55802.0\", \"SAJUBA<br>91.44%<br>Poblaci\\u00f3n Abastecida: 94008.0<br>Poblaci\\u00f3n Total: 102810.0\", \"SELA<br>96.91%<br>Poblaci\\u00f3n Abastecida: 267463.0<br>Poblaci\\u00f3n Total: 275983.0\"], \"x\": [97.26780013364021, 73.49196527348072, 82.08688116946726, 82.33493542410655, 90.96832805989787, 93.90113526447081, 84.60630269876721, 98.36699503184062, 98.26900601988989, 92.40463872993932, 91.12342353150756, 67.09793049371306, 89.60641956438671, 91.5686845168801, 73.41575185527171, 94.38550589584602, 91.43857601400643, 96.91285332792238], \"y\": [3, 3, 3, 3, 3, 3, 3, 3, 3, 3, 3, 3, 3, 3, 3, 3, 3, 3], \"type\": \"scatter\"}, {\"hoverinfo\": \"text\", \"marker\": {\"line\": {\"color\": \"#2ca02c\", \"width\": 2}, \"opacity\": 0.7, \"size\": 25, \"symbol\": \"line-ns\"}, \"mode\": \"markers\", \"name\": \"Categor\\u00eda: C\", \"text\": [\"CAPU<br>87.39%<br>Poblaci\\u00f3n Abastecida: 27305.0<br>Poblaci\\u00f3n Total: 31245.0\", \"COMAYO<br>84.54%<br>Poblaci\\u00f3n Abastecida: 11216.0<br>Poblaci\\u00f3n Total: 13267.0\", \"COOPAGUAB<br>67.65%<br>Poblaci\\u00f3n Abastecida: 9085.0<br>Poblaci\\u00f3n Total: 13429.0\", \"COOPLIM<br>82.10%<br>Poblaci\\u00f3n Abastecida: 13345.0<br>Poblaci\\u00f3n Total: 16255.0\", \"COOSIV<br>71.42%<br>Poblaci\\u00f3n Abastecida: 25085.0<br>Poblaci\\u00f3n Total: 35122.0\", \"COOSPELCAR<br>86.11%<br>Poblaci\\u00f3n Abastecida: 39730.0<br>Poblaci\\u00f3n Total: 46138.0\", \"COSAJU<br>96.44%<br>Poblaci\\u00f3n Abastecida: 19688.0<br>Poblaci\\u00f3n Total: 20415.0\", \"COSAP<br>74.77%<br>Poblaci\\u00f3n Abastecida: 28440.0<br>Poblaci\\u00f3n Total: 38035.0\", \"COSAPAC<br>92.59%<br>Poblaci\\u00f3n Abastecida: 23576.0<br>Poblaci\\u00f3n Total: 25462.0\", \"COSAPSI<br>76.89%<br>Poblaci\\u00f3n Abastecida: 8130.0<br>Poblaci\\u00f3n Total: 10573.0\", \"COSCHAL<br>72.59%<br>Poblaci\\u00f3n Abastecida: 19958.0<br>Poblaci\\u00f3n Total: 27494.0\", \"COSEPA<br>74.62%<br>Poblaci\\u00f3n Abastecida: 22565.0<br>Poblaci\\u00f3n Total: 30239.0\", \"COSEPA<br>99.08%<br>Poblaci\\u00f3n Abastecida: 28704.0<br>Poblaci\\u00f3n Total: 28971.0\", \"COSIMBO<br>78.93%<br>Poblaci\\u00f3n Abastecida: 14525.0<br>Poblaci\\u00f3n Total: 18402.0\", \"COSMIN<br>96.39%<br>Poblaci\\u00f3n Abastecida: 20482.0<br>Poblaci\\u00f3n Total: 21248.0\", \"COSMON<br>98.75%<br>Poblaci\\u00f3n Abastecida: 18260.0<br>Poblaci\\u00f3n Total: 18491.0\", \"COSPHUL<br>98.66%<br>Poblaci\\u00f3n Abastecida: 21095.0<br>Poblaci\\u00f3n Total: 21381.0\", \"COSPUGEBUL<br>91.75%<br>Poblaci\\u00f3n Abastecida: 35856.0<br>Poblaci\\u00f3n Total: 39080.0\", \"EMAAB<br>84.27%<br>Poblaci\\u00f3n Abastecida: 36476.0<br>Poblaci\\u00f3n Total: 43284.0\", \"EMAPA<br>41.43%<br>Poblaci\\u00f3n Abastecida: 12430.0<br>Poblaci\\u00f3n Total: 30000.0\", \"EMPSAAT<br>97.59%<br>Poblaci\\u00f3n Abastecida: 23674.0<br>Poblaci\\u00f3n Total: 24259.0\", \"EMSABAV<br>94.60%<br>Poblaci\\u00f3n Abastecida: 43977.0<br>Poblaci\\u00f3n Total: 46489.0\", \"FLORIDA<br>50.03%<br>Poblaci\\u00f3n Abastecida: 5271.0<br>Poblaci\\u00f3n Total: 10535.0\", \"LA GUARDIA<br>92.86%<br>Poblaci\\u00f3n Abastecida: 15730.0<br>Poblaci\\u00f3n Total: 16939.0\", \"LA PORTE\\u00d1A<br>83.83%<br>Poblaci\\u00f3n Abastecida: 19280.0<br>Poblaci\\u00f3n Total: 23000.0\", \"SAMAPAR<br>95.01%<br>Poblaci\\u00f3n Abastecida: 13855.0<br>Poblaci\\u00f3n Total: 14582.0\", \"SEAPAS<br>96.37%<br>Poblaci\\u00f3n Abastecida: 33928.0<br>Poblaci\\u00f3n Total: 35205.0\"], \"x\": [87.38998239718356, 84.54058943242632, 67.65209620969543, 82.09781605659798, 71.4224702465691, 86.11123152282283, 96.43889297085477, 74.7732351781254, 92.59288351268557, 76.89397521989974, 72.59038335636866, 74.62217665928105, 99.07838873356116, 78.93163786544942, 96.39495481927712, 98.75074360499703, 98.66236378092698, 91.75025588536336, 84.27132427686905, 41.43333333333333, 97.58852384681974, 94.59657123190432, 50.033222591362126, 92.86262471220262, 83.82608695652173, 95.01440131669182, 96.37267433603182], \"y\": [2, 2, 2, 2, 2, 2, 2, 2, 2, 2, 2, 2, 2, 2, 2, 2, 2, 2, 2, 2, 2, 2, 2, 2, 2, 2, 2], \"type\": \"scatter\"}, {\"hoverinfo\": \"text\", \"marker\": {\"line\": {\"color\": \"#d62728\", \"width\": 2}, \"opacity\": 0.7, \"size\": 25, \"symbol\": \"line-ns\"}, \"mode\": \"markers\", \"name\": \"Categor\\u00eda: D\", \"text\": [\"CAPSCH<br>88.61%<br>Poblaci\\u00f3n Abastecida: 8450.0<br>Poblaci\\u00f3n Total: 9536.0\", \"COAPAS VINTO<br>94.74%<br>Poblaci\\u00f3n Abastecida: 8748.0<br>Poblaci\\u00f3n Total: 9234.0\", \"COOAPASH<br>92.29%<br>Poblaci\\u00f3n Abastecida: 7265.0<br>Poblaci\\u00f3n Total: 7872.0\", \"COSEPFA<br>91.48%<br>Poblaci\\u00f3n Abastecida: 7387.0<br>Poblaci\\u00f3n Total: 8075.0\", \"COSEPP<br>89.98%<br>Poblaci\\u00f3n Abastecida: 6355.0<br>Poblaci\\u00f3n Total: 7063.0\", \"COSERCA<br>98.61%<br>Poblaci\\u00f3n Abastecida: 7741.0<br>Poblaci\\u00f3n Total: 7850.0\", \"COSSAJA<br>77.37%<br>Poblaci\\u00f3n Abastecida: 7395.0<br>Poblaci\\u00f3n Total: 9558.0\"], \"x\": [88.61157718120806, 94.73684210526315, 92.28912601626016, 91.47987616099071, 89.97593090754637, 98.61146496815286, 77.3697426239799], \"y\": [1, 1, 1, 1, 1, 1, 1], \"type\": \"scatter\"}], \"name\": \"2015\"}, {\"data\": [{\"hoverinfo\": \"text\", \"marker\": {\"line\": {\"color\": \"#1f77b4\", \"width\": 2}, \"opacity\": 0.7, \"size\": 25, \"symbol\": \"line-ns\"}, \"mode\": \"markers\", \"name\": \"Categor\\u00eda: A\", \"text\": [\"EPSAS<br>97.52%<br>Poblaci\\u00f3n Abastecida: 2278295.0<br>Poblaci\\u00f3n Total: 2336119.0\", \"SAGUAPAC<br>96.91%<br>Poblaci\\u00f3n Abastecida: 1489997.0<br>Poblaci\\u00f3n Total: 1537572.0\", \"SEMAPA<br>66.67%<br>Poblaci\\u00f3n Abastecida: 387786.0<br>Poblaci\\u00f3n Total: 581675.0\"], \"x\": [97.52478362617659, 96.9058359543488, 66.66712511282074], \"y\": [4, 4, 4], \"type\": \"scatter\"}, {\"hoverinfo\": \"text\", \"marker\": {\"line\": {\"color\": \"#ff7f0e\", \"width\": 2}, \"opacity\": 0.7, \"size\": 25, \"symbol\": \"line-ns\"}, \"mode\": \"markers\", \"name\": \"Categor\\u00eda: B\", \"text\": [\"AAPOS<br>98.05%<br>Poblaci\\u00f3n Abastecida: 201553.0<br>Poblaci\\u00f3n Total: 205570.0\", \"BUSTILLO<br>84.42%<br>Poblaci\\u00f3n Abastecida: 45326.0<br>Poblaci\\u00f3n Total: 53692.13\", \"CAPAG<br>81.71%<br>Poblaci\\u00f3n Abastecida: 44435.0<br>Poblaci\\u00f3n Total: 54380.0\", \"COATRI<br>81.15%<br>Poblaci\\u00f3n Abastecida: 61939.0<br>Poblaci\\u00f3n Total: 76330.0\", \"COOPAGUAS<br>91.69%<br>Poblaci\\u00f3n Abastecida: 150483.2<br>Poblaci\\u00f3n Total: 164115.0\", \"COOPAPPI<br>93.98%<br>Poblaci\\u00f3n Abastecida: 75615.0<br>Poblaci\\u00f3n Total: 80458.0\", \"COOPLAN<br>95.43%<br>Poblaci\\u00f3n Abastecida: 156222.0<br>Poblaci\\u00f3n Total: 163705.0\", \"COSAALT<br>99.43%<br>Poblaci\\u00f3n Abastecida: 239888.0<br>Poblaci\\u00f3n Total: 241255.0\", \"COSMOL<br>97.02%<br>Poblaci\\u00f3n Abastecida: 139557.0<br>Poblaci\\u00f3n Total: 143848.0\", \"COSPAIL<br>93.61%<br>Poblaci\\u00f3n Abastecida: 94598.0<br>Poblaci\\u00f3n Total: 101060.0\", \"ELAPAS<br>98.83%<br>Poblaci\\u00f3n Abastecida: 274769.0<br>Poblaci\\u00f3n Total: 278018.0\", \"EMAPAS<br>nan%<br>Poblaci\\u00f3n Abastecida: nan<br>Poblaci\\u00f3n Total: 113147.0\", \"EMAPAV<br>91.29%<br>Poblaci\\u00f3n Abastecida: 49975.0<br>Poblaci\\u00f3n Total: 54743.0\", \"EMAPYC<br>91.20%<br>Poblaci\\u00f3n Abastecida: 63206.0<br>Poblaci\\u00f3n Total: 69304.0\", \"EPSA COBIJA<br>71.62%<br>Poblaci\\u00f3n Abastecida: 44430.0<br>Poblaci\\u00f3n Total: 62032.0\", \"MANCHACO<br>94.83%<br>Poblaci\\u00f3n Abastecida: 54549.0<br>Poblaci\\u00f3n Total: 57521.0\", \"SAJUBA<br>90.23%<br>Poblaci\\u00f3n Abastecida: 96654.0<br>Poblaci\\u00f3n Total: 107124.0\", \"SELA<br>97.53%<br>Poblaci\\u00f3n Abastecida: 275860.0<br>Poblaci\\u00f3n Total: 282850.0\"], \"x\": [98.04592109743639, 84.4183309546483, 81.71202648032366, 81.14633826804663, 91.69375133290681, 93.98071043277237, 95.42897284750008, 99.43337961907525, 97.01699015627608, 93.60577874529982, 98.83137063067859, 0.0, 91.29021062053596, 91.20108507445458, 71.62432293010059, 94.83319135620035, 90.22627982524925, 97.52872547286547], \"y\": [3, 3, 3, 3, 3, 3, 3, 3, 3, 3, 3, 3, 3, 3, 3, 3, 3, 3], \"type\": \"scatter\"}, {\"hoverinfo\": \"text\", \"marker\": {\"line\": {\"color\": \"#2ca02c\", \"width\": 2}, \"opacity\": 0.7, \"size\": 25, \"symbol\": \"line-ns\"}, \"mode\": \"markers\", \"name\": \"Categor\\u00eda: C\", \"text\": [\"CAPU<br>88.27%<br>Poblaci\\u00f3n Abastecida: 28545.0<br>Poblaci\\u00f3n Total: 32340.0\", \"COMAYO<br>97.96%<br>Poblaci\\u00f3n Abastecida: 14720.0<br>Poblaci\\u00f3n Total: 15027.0\", \"COOPAGUAB<br>66.97%<br>Poblaci\\u00f3n Abastecida: 9380.0<br>Poblaci\\u00f3n Total: 14006.0\", \"COOPLIM<br>83.57%<br>Poblaci\\u00f3n Abastecida: 14170.0<br>Poblaci\\u00f3n Total: 16956.0\", \"COOSIV<br>71.72%<br>Poblaci\\u00f3n Abastecida: 25720.0<br>Poblaci\\u00f3n Total: 35859.56\", \"COOSPELCAR<br>92.60%<br>Poblaci\\u00f3n Abastecida: 45140.0<br>Poblaci\\u00f3n Total: 48749.0\", \"COSAJU<br>90.91%<br>Poblaci\\u00f3n Abastecida: 21440.21<br>Poblaci\\u00f3n Total: 23584.23\", \"COSAP<br>79.35%<br>Poblaci\\u00f3n Abastecida: 30780.0<br>Poblaci\\u00f3n Total: 38788.0\", \"COSAPAC<br>92.95%<br>Poblaci\\u00f3n Abastecida: 24850.0<br>Poblaci\\u00f3n Total: 26735.0\", \"COSAPSI<br>77.80%<br>Poblaci\\u00f3n Abastecida: 8515.0<br>Poblaci\\u00f3n Total: 10945.0\", \"COSCHAL<br>71.72%<br>Poblaci\\u00f3n Abastecida: 20160.8<br>Poblaci\\u00f3n Total: 28109.87\", \"COSEPA<br>97.13%<br>Poblaci\\u00f3n Abastecida: 31622.0<br>Poblaci\\u00f3n Total: 32557.0\", \"COSEPA<br>86.45%<br>Poblaci\\u00f3n Abastecida: 24560.0<br>Poblaci\\u00f3n Total: 28408.0\", \"COSEPCO<br>48.43%<br>Poblaci\\u00f3n Abastecida: 9104.0<br>Poblaci\\u00f3n Total: 18800.0\", \"COSEPUR<br>88.57%<br>Poblaci\\u00f3n Abastecida: 13963.5<br>Poblaci\\u00f3n Total: 15766.0\", \"COSIMBO<br>86.49%<br>Poblaci\\u00f3n Abastecida: 16765.0<br>Poblaci\\u00f3n Total: 19384.0\", \"COSMIN<br>98.53%<br>Poblaci\\u00f3n Abastecida: 21236.0<br>Poblaci\\u00f3n Total: 21552.0\", \"COSMON<br>99.66%<br>Poblaci\\u00f3n Abastecida: 18796.0<br>Poblaci\\u00f3n Total: 18860.0\", \"COSPHUL<br>100.00%<br>Poblaci\\u00f3n Abastecida: 21436.0<br>Poblaci\\u00f3n Total: 21436.0\", \"COSPUGEBUL<br>87.68%<br>Poblaci\\u00f3n Abastecida: 37962.0<br>Poblaci\\u00f3n Total: 43294.0\", \"EMAAB<br>91.65%<br>Poblaci\\u00f3n Abastecida: 28881.0<br>Poblaci\\u00f3n Total: 31512.0\", \"EMAPA<br>48.05%<br>Poblaci\\u00f3n Abastecida: 12700.0<br>Poblaci\\u00f3n Total: 26429.0\", \"EMPSAAT<br>99.75%<br>Poblaci\\u00f3n Abastecida: 24395.0<br>Poblaci\\u00f3n Total: 24455.0\", \"EMSABAV<br>89.50%<br>Poblaci\\u00f3n Abastecida: 42857.0<br>Poblaci\\u00f3n Total: 47884.0\", \"FLORIDA<br>50.93%<br>Poblaci\\u00f3n Abastecida: 5451.0<br>Poblaci\\u00f3n Total: 10703.0\", \"LA GUARDIA<br>90.84%<br>Poblaci\\u00f3n Abastecida: 16544.0<br>Poblaci\\u00f3n Total: 18212.0\", \"LA PORTE\\u00d1A<br>71.60%<br>Poblaci\\u00f3n Abastecida: 20315.0<br>Poblaci\\u00f3n Total: 28373.0\", \"SAMAPAR<br>97.53%<br>Poblaci\\u00f3n Abastecida: 14635.0<br>Poblaci\\u00f3n Total: 15006.0\", \"SEAPAS<br>94.78%<br>Poblaci\\u00f3n Abastecida: 35121.0<br>Poblaci\\u00f3n Total: 37057.0\", \"SMAPA<br>96.14%<br>Poblaci\\u00f3n Abastecida: 30014.0<br>Poblaci\\u00f3n Total: 31218.0\"], \"x\": [88.26530612244898, 97.95701071404804, 66.97129801513637, 83.56923802783676, 71.72424870801538, 92.5967712158198, 90.9090947637468, 79.3544395173765, 92.94931737422854, 77.79808131566925, 71.72142738475846, 97.12811376969623, 86.45451985356237, 48.42553191489362, 88.56716985919067, 86.48885678910442, 98.53377876763177, 99.66065747613997, 100.0, 87.68420566360234, 91.65079969535415, 48.05327481175981, 99.75465140053159, 89.50171247180687, 50.92964589367467, 90.84120360202064, 71.59976033553026, 97.52765560442491, 94.77561594300671, 96.14325068870524], \"y\": [2, 2, 2, 2, 2, 2, 2, 2, 2, 2, 2, 2, 2, 2, 2, 2, 2, 2, 2, 2, 2, 2, 2, 2, 2, 2, 2, 2, 2, 2], \"type\": \"scatter\"}, {\"hoverinfo\": \"text\", \"marker\": {\"line\": {\"color\": \"#d62728\", \"width\": 2}, \"opacity\": 0.7, \"size\": 25, \"symbol\": \"line-ns\"}, \"mode\": \"markers\", \"name\": \"Categor\\u00eda: D\", \"text\": [\"ASOAPAL<br>59.80%<br>Poblaci\\u00f3n Abastecida: 5095.0<br>Poblaci\\u00f3n Total: 8520.0\", \"CAPCHI<br>92.17%<br>Poblaci\\u00f3n Abastecida: 4880.0<br>Poblaci\\u00f3n Total: 5294.8\", \"CAPSCH<br>90.10%<br>Poblaci\\u00f3n Abastecida: 8860.0<br>Poblaci\\u00f3n Total: 9834.0\", \"COAPAS VINTO<br>98.61%<br>Poblaci\\u00f3n Abastecida: 9384.0<br>Poblaci\\u00f3n Total: 9516.0\", \"COLOMI<br>87.87%<br>Poblaci\\u00f3n Abastecida: 6420.0<br>Poblaci\\u00f3n Total: 7306.0\", \"COOAPASH<br>92.22%<br>Poblaci\\u00f3n Abastecida: 7455.0<br>Poblaci\\u00f3n Total: 8084.0\", \"COSAJO<br>92.35%<br>Poblaci\\u00f3n Abastecida: 3717.0<br>Poblaci\\u00f3n Total: 4025.0\", \"COSEPFA<br>92.37%<br>Poblaci\\u00f3n Abastecida: 7519.0<br>Poblaci\\u00f3n Total: 8140.0\", \"COSEPP<br>89.88%<br>Poblaci\\u00f3n Abastecida: 6570.0<br>Poblaci\\u00f3n Total: 7310.0\", \"COSERCA<br>96.76%<br>Poblaci\\u00f3n Abastecida: 8225.0<br>Poblaci\\u00f3n Total: 8500.0\", \"COSSAJA<br>77.85%<br>Poblaci\\u00f3n Abastecida: 7760.0<br>Poblaci\\u00f3n Total: 9968.0\", \"JASAP<br>92.30%<br>Poblaci\\u00f3n Abastecida: 4435.0<br>Poblaci\\u00f3n Total: 4805.0\", \"JOROCHITO<br>98.80%<br>Poblaci\\u00f3n Abastecida: 4455.0<br>Poblaci\\u00f3n Total: 4509.0\"], \"x\": [59.80046948356807, 92.16589861751152, 90.09558673988204, 98.61286254728878, 87.87298111141527, 92.21919841662543, 92.34782608695652, 92.37100737100738, 89.87688098495212, 96.76470588235294, 77.84911717495987, 92.2996878251821, 98.80239520958084], \"y\": [1, 1, 1, 1, 1, 1, 1, 1, 1, 1, 1, 1, 1], \"type\": \"scatter\"}], \"name\": \"2016\"}, {\"data\": [{\"hoverinfo\": \"text\", \"marker\": {\"line\": {\"color\": \"#1f77b4\", \"width\": 2}, \"opacity\": 0.7, \"size\": 25, \"symbol\": \"line-ns\"}, \"mode\": \"markers\", \"name\": \"Categor\\u00eda: A\", \"text\": [\"EPSAS<br>96.47%<br>Poblaci\\u00f3n Abastecida: 2292124.0<br>Poblaci\\u00f3n Total: 2376065.0\", \"SAGUAPAC<br>97.43%<br>Poblaci\\u00f3n Abastecida: 1265071.0<br>Poblaci\\u00f3n Total: 1298437.0\", \"SEMAPA<br>65.86%<br>Poblaci\\u00f3n Abastecida: 390962.0<br>Poblaci\\u00f3n Total: 593599.0\"], \"x\": [96.46722627537547, 97.43029503934346, 65.86298157510373], \"y\": [4, 4, 4], \"type\": \"scatter\"}, {\"hoverinfo\": \"text\", \"marker\": {\"line\": {\"color\": \"#ff7f0e\", \"width\": 2}, \"opacity\": 0.7, \"size\": 25, \"symbol\": \"line-ns\"}, \"mode\": \"markers\", \"name\": \"Categor\\u00eda: B\", \"text\": [\"AAPOS<br>99.23%<br>Poblaci\\u00f3n Abastecida: 208769.0<br>Poblaci\\u00f3n Total: 210395.0\", \"BUSTILLO<br>91.53%<br>Poblaci\\u00f3n Abastecida: 50078.0<br>Poblaci\\u00f3n Total: 54712.0\", \"CAPAG<br>82.36%<br>Poblaci\\u00f3n Abastecida: 45880.0<br>Poblaci\\u00f3n Total: 55707.0\", \"COATRI<br>80.86%<br>Poblaci\\u00f3n Abastecida: 62374.0<br>Poblaci\\u00f3n Total: 77139.0\", \"COOPAGUAS<br>91.52%<br>Poblaci\\u00f3n Abastecida: 155328.0<br>Poblaci\\u00f3n Total: 169714.0\", \"COOPAPPI<br>93.64%<br>Poblaci\\u00f3n Abastecida: 77375.0<br>Poblaci\\u00f3n Total: 82630.0\", \"COOPLAN<br>96.45%<br>Poblaci\\u00f3n Abastecida: 161597.0<br>Poblaci\\u00f3n Total: 167552.0\", \"COSAALT<br>99.31%<br>Poblaci\\u00f3n Abastecida: 246702.0<br>Poblaci\\u00f3n Total: 248425.0\", \"COSMOL<br>99.13%<br>Poblaci\\u00f3n Abastecida: 142819.0<br>Poblaci\\u00f3n Total: 144067.0\", \"COSPAIL<br>96.69%<br>Poblaci\\u00f3n Abastecida: 82662.0<br>Poblaci\\u00f3n Total: 85492.0\", \"ELAPAS<br>98.93%<br>Poblaci\\u00f3n Abastecida: 285029.0<br>Poblaci\\u00f3n Total: 288122.0\", \"EMAPAS<br>36.03%<br>Poblaci\\u00f3n Abastecida: 29610.0<br>Poblaci\\u00f3n Total: 82188.0\", \"EMAPAV<br>95.30%<br>Poblaci\\u00f3n Abastecida: 47835.0<br>Poblaci\\u00f3n Total: 50194.0\", \"EMAPYC<br>94.02%<br>Poblaci\\u00f3n Abastecida: 65719.0<br>Poblaci\\u00f3n Total: 69896.0\", \"EPSA COBIJA<br>68.47%<br>Poblaci\\u00f3n Abastecida: 45060.0<br>Poblaci\\u00f3n Total: 65807.0\", \"MANCHACO<br>98.33%<br>Poblaci\\u00f3n Abastecida: 59533.0<br>Poblaci\\u00f3n Total: 60545.0\", \"SAJUBA<br>92.81%<br>Poblaci\\u00f3n Abastecida: 99420.0<br>Poblaci\\u00f3n Total: 107124.0\", \"SELA<br>96.49%<br>Poblaci\\u00f3n Abastecida: 294840.0<br>Poblaci\\u00f3n Total: 305554.0\"], \"x\": [99.22716794600632, 91.53019447287615, 82.35948803561492, 80.85922814659251, 91.52338640300741, 93.64032433740772, 96.44587948815891, 99.30643051222702, 99.13373638654237, 96.6897487484209, 98.92649641471321, 36.02715724923347, 95.30023508785911, 94.02397848231658, 68.47295880377467, 98.3285159798497, 92.80833426683095, 96.49358214914548], \"y\": [3, 3, 3, 3, 3, 3, 3, 3, 3, 3, 3, 3, 3, 3, 3, 3, 3, 3], \"type\": \"scatter\"}, {\"hoverinfo\": \"text\", \"marker\": {\"line\": {\"color\": \"#2ca02c\", \"width\": 2}, \"opacity\": 0.7, \"size\": 25, \"symbol\": \"line-ns\"}, \"mode\": \"markers\", \"name\": \"Categor\\u00eda: C\", \"text\": [\"6 DE OCTUBRE<br>86.65%<br>Poblaci\\u00f3n Abastecida: 25180.0<br>Poblaci\\u00f3n Total: 29061.0\", \"CAPU<br>92.41%<br>Poblaci\\u00f3n Abastecida: 29885.0<br>Poblaci\\u00f3n Total: 32340.0\", \"COAPASB<br>nan%<br>Poblaci\\u00f3n Abastecida: nan<br>Poblaci\\u00f3n Total: nan\", \"COMAYO<br>96.88%<br>Poblaci\\u00f3n Abastecida: 15225.0<br>Poblaci\\u00f3n Total: 15716.0\", \"COOPAGUAB<br>73.90%<br>Poblaci\\u00f3n Abastecida: 9640.0<br>Poblaci\\u00f3n Total: 13044.0\", \"COOPLIM<br>97.96%<br>Poblaci\\u00f3n Abastecida: 14900.0<br>Poblaci\\u00f3n Total: 15211.0\", \"COOSIV<br>73.14%<br>Poblaci\\u00f3n Abastecida: 26780.0<br>Poblaci\\u00f3n Total: 36613.0\", \"COOSPELCAR<br>96.30%<br>Poblaci\\u00f3n Abastecida: 49835.0<br>Poblaci\\u00f3n Total: 51750.0\", \"COSAJU<br>92.17%<br>Poblaci\\u00f3n Abastecida: 22119.0<br>Poblaci\\u00f3n Total: 23999.0\", \"COSAP<br>80.47%<br>Poblaci\\u00f3n Abastecida: 31825.0<br>Poblaci\\u00f3n Total: 39548.0\", \"COSAPAC<br>93.99%<br>Poblaci\\u00f3n Abastecida: 25753.0<br>Poblaci\\u00f3n Total: 27399.0\", \"COSAPSI<br>73.47%<br>Poblaci\\u00f3n Abastecida: 8855.0<br>Poblaci\\u00f3n Total: 12052.0\", \"COSCHAL<br>92.00%<br>Poblaci\\u00f3n Abastecida: 24794.0<br>Poblaci\\u00f3n Total: 26950.0\", \"COSEPCO<br>50.60%<br>Poblaci\\u00f3n Abastecida: 9732.0<br>Poblaci\\u00f3n Total: 19232.0\", \"COSEPUR<br>91.52%<br>Poblaci\\u00f3n Abastecida: 14458.0<br>Poblaci\\u00f3n Total: 15797.0\", \"COSEPW<br>97.14%<br>Poblaci\\u00f3n Abastecida: 32916.0<br>Poblaci\\u00f3n Total: 33886.0\", \"COSFAL<br>97.88%<br>Poblaci\\u00f3n Abastecida: 10900.0<br>Poblaci\\u00f3n Total: 11136.0\", \"COSIMBO<br>92.41%<br>Poblaci\\u00f3n Abastecida: 18710.0<br>Poblaci\\u00f3n Total: 20246.0\", \"COSMIN<br>95.87%<br>Poblaci\\u00f3n Abastecida: 21818.0<br>Poblaci\\u00f3n Total: 22759.0\", \"COSMON<br>98.88%<br>Poblaci\\u00f3n Abastecida: 19368.0<br>Poblaci\\u00f3n Total: 19588.0\", \"COSPAS<br>43.54%<br>Poblaci\\u00f3n Abastecida: 10668.0<br>Poblaci\\u00f3n Total: 24499.0\", \"COSPHUL<br>99.33%<br>Poblaci\\u00f3n Abastecida: 21912.0<br>Poblaci\\u00f3n Total: 22059.0\", \"COSPOL<br>97.07%<br>Poblaci\\u00f3n Abastecida: 15120.0<br>Poblaci\\u00f3n Total: 15576.0\", \"COSPUGEBUL<br>95.49%<br>Poblaci\\u00f3n Abastecida: 40518.0<br>Poblaci\\u00f3n Total: 42431.0\", \"EMAAB<br>92.03%<br>Poblaci\\u00f3n Abastecida: 29498.0<br>Poblaci\\u00f3n Total: 32053.0\", \"EMAPA<br>51.04%<br>Poblaci\\u00f3n Abastecida: 13680.0<br>Poblaci\\u00f3n Total: 26804.0\", \"EMPSAAT<br>85.98%<br>Poblaci\\u00f3n Abastecida: 26068.0<br>Poblaci\\u00f3n Total: 30320.0\", \"EMSABAV<br>92.03%<br>Poblaci\\u00f3n Abastecida: 44068.0<br>Poblaci\\u00f3n Total: 47884.0\", \"FLORIDA<br>51.49%<br>Poblaci\\u00f3n Abastecida: 5625.0<br>Poblaci\\u00f3n Total: 10924.0\", \"LA GUARDIA<br>89.89%<br>Poblaci\\u00f3n Abastecida: 17386.0<br>Poblaci\\u00f3n Total: 19341.0\", \"LA PORTE\\u00d1A<br>71.94%<br>Poblaci\\u00f3n Abastecida: 20900.0<br>Poblaci\\u00f3n Total: 29053.0\", \"SAMAPAR<br>98.29%<br>Poblaci\\u00f3n Abastecida: 15195.0<br>Poblaci\\u00f3n Total: 15459.0\", \"SEAPAS<br>96.58%<br>Poblaci\\u00f3n Abastecida: 29868.0<br>Poblaci\\u00f3n Total: 30926.0\", \"SEMAPAR<br>38.74%<br>Poblaci\\u00f3n Abastecida: 18667.0<br>Poblaci\\u00f3n Total: 48187.0\", \"SMAPA<br>99.38%<br>Poblaci\\u00f3n Abastecida: 22528.0<br>Poblaci\\u00f3n Total: 22668.0\"], \"x\": [86.64533223220123, 92.40878169449599, 0.0, 96.87579536777807, 73.90371051824593, 97.95542699362304, 73.14341900417884, 96.29951690821255, 92.16634026417768, 80.47183169818955, 93.99248147742618, 73.47328244274809, 92.0, 50.60316139767055, 91.52370703298095, 97.13746089830609, 97.88074712643679, 92.41331621060951, 95.86537194077069, 98.87686338574638, 43.544634474876524, 99.33360533115734, 97.07241910631741, 95.4915038533148, 92.02882725485914, 51.037158633039844, 85.97625329815304, 92.03074095731351, 51.49212742585134, 89.89193940334006, 71.9374935462775, 98.29225693770618, 96.57893034986742, 38.73866395500861, 99.38238927121934], \"y\": [2, 2, 2, 2, 2, 2, 2, 2, 2, 2, 2, 2, 2, 2, 2, 2, 2, 2, 2, 2, 2, 2, 2, 2, 2, 2, 2, 2, 2, 2, 2, 2, 2, 2, 2], \"type\": \"scatter\"}, {\"hoverinfo\": \"text\", \"marker\": {\"line\": {\"color\": \"#d62728\", \"width\": 2}, \"opacity\": 0.7, \"size\": 25, \"symbol\": \"line-ns\"}, \"mode\": \"markers\", \"name\": \"Categor\\u00eda: D\", \"text\": [\"AGUAYSES<br>93.77%<br>Poblaci\\u00f3n Abastecida: 1642.0<br>Poblaci\\u00f3n Total: 1751.0\", \"ASOAPAL<br>60.11%<br>Poblaci\\u00f3n Abastecida: 5275.0<br>Poblaci\\u00f3n Total: 8775.0\", \"CAPCHI<br>93.02%<br>Poblaci\\u00f3n Abastecida: 4985.0<br>Poblaci\\u00f3n Total: 5359.0\", \"CAPSCH<br>92.39%<br>Poblaci\\u00f3n Abastecida: 9370.0<br>Poblaci\\u00f3n Total: 10142.0\", \"COAPAS VINTO<br>98.51%<br>Poblaci\\u00f3n Abastecida: 9654.0<br>Poblaci\\u00f3n Total: 9800.0\", \"COLOMI<br>86.51%<br>Poblaci\\u00f3n Abastecida: 6510.0<br>Poblaci\\u00f3n Total: 7525.0\", \"COOAPASH<br>91.42%<br>Poblaci\\u00f3n Abastecida: 7590.0<br>Poblaci\\u00f3n Total: 8302.0\", \"COSAJO<br>90.00%<br>Poblaci\\u00f3n Abastecida: 3834.0<br>Poblaci\\u00f3n Total: 4260.0\", \"COSEPFA<br>92.98%<br>Poblaci\\u00f3n Abastecida: 7628.0<br>Poblaci\\u00f3n Total: 8204.0\", \"COSEPP<br>90.15%<br>Poblaci\\u00f3n Abastecida: 6710.0<br>Poblaci\\u00f3n Total: 7443.0\", \"COSERCA<br>95.95%<br>Poblaci\\u00f3n Abastecida: 8348.0<br>Poblaci\\u00f3n Total: 8700.0\", \"COSSAJA<br>78.25%<br>Poblaci\\u00f3n Abastecida: 8300.0<br>Poblaci\\u00f3n Total: 10607.0\", \"JASAP<br>91.91%<br>Poblaci\\u00f3n Abastecida: 4535.0<br>Poblaci\\u00f3n Total: 4934.0\", \"JOROCHITO<br>97.82%<br>Poblaci\\u00f3n Abastecida: 4531.0<br>Poblaci\\u00f3n Total: 4632.0\"], \"x\": [93.77498572244431, 60.11396011396012, 93.02108602351184, 92.38808913429304, 98.51020408163265, 86.51162790697674, 91.42375331245482, 90.0, 92.97903461725987, 90.15182050248556, 95.95402298850576, 78.25021212406901, 91.91325496554519, 97.81951640759931], \"y\": [1, 1, 1, 1, 1, 1, 1, 1, 1, 1, 1, 1, 1, 1], \"type\": \"scatter\"}], \"name\": \"2017\"}]);}).then(function(){Plotly.animate('2d2025df-79dd-46db-a270-5e024c9da21a');})\n",
       "        });</script>"
      ]
     },
     "metadata": {},
     "output_type": "display_data"
    }
   ],
   "source": [
    "animation_settings = dict(\n",
    "    frame = dict(duration=1200, redraw=False),\n",
    "    fromcurrent = False,\n",
    "    transition = dict(duration=1200, easing='cubic-in-out'),\n",
    ")\n",
    "\n",
    "def make_step(year):\n",
    "    return dict(\n",
    "        method = 'animate',  \n",
    "        args = [[year], animation_settings],\n",
    "        label= year\n",
    "    )\n",
    "steps = [make_step(str(year)) for year in years] \n",
    "\n",
    "sliders = [dict(\n",
    "    active = 1,\n",
    "    currentvalue = {\n",
    "        'prefix': 'Año: ',\n",
    "        'font': {'size': 20},\n",
    "        'visible': True,\n",
    "        'xanchor': 'right'\n",
    "    },\n",
    "    steps = steps,\n",
    "    yanchor= 'top',\n",
    "    xanchor= 'left',\n",
    "    pad= {'b': 10, 't': 50},\n",
    "    len= 0.9,\n",
    "    x= 0.1,\n",
    "    y= 0,\n",
    ")]\n",
    "\n",
    "updatemenus = [dict(\n",
    "    buttons= [dict(\n",
    "        args= [[str(y) for y in years], animation_settings],\n",
    "        label= 'Animar',\n",
    "        method= 'animate',\n",
    "    )],\n",
    "    direction= 'left',\n",
    "    pad= dict(r=10, t=87),\n",
    "    showactive= False,\n",
    "    type= 'buttons',\n",
    "    x= 0.1,\n",
    "    y= 0,\n",
    "    xanchor= 'right',\n",
    "    yanchor= 'top',\n",
    ")]\n",
    "\n",
    "layout = go.Layout(\n",
    "    title='Población Abastecida',\n",
    "    hovermode='closest',\n",
    "    width=1000,\n",
    "    legend=dict(x=.1, y=1.1, orientation='h'),\n",
    "    xaxis=dict(\n",
    "        title='Porcentaje (%): Población Abastecida / Población Total del Área de Servicio * 100',\n",
    "        range=[35,100],\n",
    "        autorange=False,\n",
    "        tickmode='linear',\n",
    "        tick0 = 35,\n",
    "        dtick = 5,\n",
    "    ),\n",
    "    yaxis=dict(visible=False),\n",
    "#     xaxis={'title':f'Variable {str(xi)}: {xname} ({xunit})'},\n",
    "#     yaxis={'title':f'Variable {str(yi)}: {yname} ({yunit})'},\n",
    "    plot_bgcolor='#dfe8f3',\n",
    "    sliders= sliders,\n",
    "    updatemenus = updatemenus,\n",
    ")\n",
    "\n",
    "figure = go.Figure(data=base_data, frames=frames, layout=layout)\n",
    "iplot(figure)"
   ]
  }
 ],
 "metadata": {
  "kernelspec": {
   "display_name": "Python 3",
   "language": "python",
   "name": "python3"
  },
  "language_info": {
   "codemirror_mode": {
    "name": "ipython",
    "version": 3
   },
   "file_extension": ".py",
   "mimetype": "text/x-python",
   "name": "python",
   "nbconvert_exporter": "python",
   "pygments_lexer": "ipython3",
   "version": "3.6.5"
  }
 },
 "nbformat": 4,
 "nbformat_minor": 2
}
