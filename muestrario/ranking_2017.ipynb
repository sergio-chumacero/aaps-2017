{
 "cells": [
  {
   "cell_type": "code",
   "execution_count": 200,
   "metadata": {},
   "outputs": [],
   "source": [
    "from plotly.offline import init_notebook_mode, iplot\n",
    "import plotly.graph_objs as go\n",
    "import pandas as pd\n",
    "import requests\n",
    "import math"
   ]
  },
  {
   "cell_type": "code",
   "execution_count": 75,
   "metadata": {},
   "outputs": [],
   "source": [
    "reports_r = requests.get('https://peridash.ml/api/reports')\n",
    "measurements_r = requests.get('https://peridash.ml/api/measurements')\n",
    "epsas_r = requests.get('https://peridash.ml/api/epsas')\n",
    "variables_r = requests.get('https://peridash.ml/api/variables')\n",
    "indicators_r = requests.get('https://peridash.ml/api/indicators')"
   ]
  },
  {
   "cell_type": "code",
   "execution_count": 76,
   "metadata": {},
   "outputs": [],
   "source": [
    "reports_df = pd.read_json(reports_r.text)\n",
    "measurements_df = pd.read_json(measurements_r.text)\n",
    "epsas_df = pd.read_json(epsas_r.text)\n",
    "variables_df = pd.read_json(variables_r.text)\n",
    "indicators_df = pd.read_json(indicators_r.text)\n",
    "\n",
    "complete_reports_df = pd.merge(reports_df, epsas_df, left_on='epsa', right_on='url')\n",
    "complete_measurements_df = pd.merge(measurements_df, epsas_df, left_on='epsa', right_on='url')"
   ]
  },
  {
   "cell_type": "code",
   "execution_count": 3,
   "metadata": {},
   "outputs": [
    {
     "data": {
      "text/html": [
       "<script>requirejs.config({paths: { 'plotly': ['https://cdn.plot.ly/plotly-latest.min']},});if(!window.Plotly) {{require(['plotly'],function(plotly) {window.Plotly=plotly;});}}</script>"
      ],
      "text/vnd.plotly.v1+html": [
       "<script>requirejs.config({paths: { 'plotly': ['https://cdn.plot.ly/plotly-latest.min']},});if(!window.Plotly) {{require(['plotly'],function(plotly) {window.Plotly=plotly;});}}</script>"
      ]
     },
     "metadata": {},
     "output_type": "display_data"
    }
   ],
   "source": [
    "init_notebook_mode(connected=True)"
   ]
  },
  {
   "cell_type": "code",
   "execution_count": 77,
   "metadata": {},
   "outputs": [],
   "source": [
    "ind_names = [\n",
    "    'Rendimiento actual de la fuente', 'Uso eficiente del recurso',\n",
    "    'Cobertura de muestras de agua potable',\n",
    "    'Conformidad de los análisis de agua potable realizados',\n",
    "    'Dotación', 'Continuidad por racionamiento', 'Continuidad por corte',\n",
    "    'Cobertura del servicio de agua potable',\n",
    "    'Cobertura del servicio de alcantarillado sanitario',\n",
    "    'Cobertura de micromedición',\n",
    "    'Incidencia extracción de agua cruda subterránea ',\n",
    "    'Índice de tratamiento de agua residual', 'Control de agua residual',\n",
    "    'Capacidad instalada de planta de tratamiento de agua potable',\n",
    "    'Capacidad instalada de planta de tratamiento de agua residual ',\n",
    "    'Presión del servicio de agua potable',\n",
    "    'Índice de agua no contabilizada en producción',\n",
    "    'Índice de agua no contabilizada en la red',\n",
    "    'Densidad de fallas en tuberías de agua potable',\n",
    "    'Densidad de fallas en conexiones de agua potable',\n",
    "    'Densidad de fallas en tuberías de agua residual',\n",
    "    'Densidad de fallas en conexiones de agua residual',\n",
    "    'Índice de operación eficiente', 'Prueba ácida',\n",
    "    'Eficiencia de recaudación', 'Índice de endeudamiento total', 'Tarifa media',\n",
    "    'Costo unitario de operación', 'Índice de ejecución de inversiones',\n",
    "    'Personal calificado', 'Número de empleados por cada 1000 conexiones',\n",
    "    'Atención de reclamos'\n",
    "]\n",
    "ind_units = ['%', '%', '%', '%', 'l/hab/día', 'hr/día', '%', '%', '%', '%',\n",
    "             '%', '%', '%', '%', '%', '%', '%', '%', 'fallas/100km',\n",
    "             'fallas/1000conex.', 'fallas/100km', 'fallas/1000conex.', '%', '-',\n",
    "             '%', '%', '%CUO(Bs.)', '%TM(Bs.)', '%', '%', 'empleados/1000conex.', '%']\n",
    "\n",
    "colors = [\n",
    "    '#1f77b4','#ff7f0e','#2ca02c',\n",
    "    '#d62728', '#9467bd', '#8c564b',\n",
    "    '#e377c2', '#7f7f7f', '#bcbd22','#17becf'\n",
    "]\n",
    "\n",
    "def get_ind_name(ind):\n",
    "    return ind_names[int(ind[3:])-1]\n",
    "\n",
    "def get_ind_unit(ind):\n",
    "    return ind_units[int(ind[3:])-1]"
   ]
  },
  {
   "cell_type": "code",
   "execution_count": 205,
   "metadata": {},
   "outputs": [],
   "source": [
    "num_indicators = 32\n",
    "cmdf = complete_measurements_df\n",
    "ind_list = [f'ind{i+1}' for i in range(num_indicators)]\n",
    "\n",
    "def get_data_rating(epsa_code, year):\n",
    "    values = list(cmdf[(cmdf.year == year) & (cmdf.code == epsa_code)][ind_list].iloc[0])\n",
    "    num_reported = sum([0 if math.isnan(val) else 1 for val in values])\n",
    "    return num_reported / num_indicators * 100"
   ]
  },
  {
   "cell_type": "code",
   "execution_count": 254,
   "metadata": {},
   "outputs": [],
   "source": [
    "selected_category = 'B'\n",
    "cmdf = complete_measurements_df\n",
    "filtered_df = cmdf[cmdf.category == selected_category]\n",
    "epsa_codes = list(filtered_df.code.unique())\n",
    "years = list(filtered_df.sort_values('year').year.unique())\n",
    "\n",
    "scat1 = go.Scatter(\n",
    "    x= [2014] * len(epsa_codes),\n",
    "    y= list(filtered_df[filtered_df.year == 2014].ind1),\n",
    "    text= epsa_codes,\n",
    "    mode='markers+text',\n",
    "    showlegend=False,\n",
    ")\n",
    "\n",
    "data = [scat1]\n",
    "\n",
    "for epsa_code in epsa_codes:\n",
    "    line_trace = go.Scatter(\n",
    "        x= years,\n",
    "        y= [get_data_rating(epsa_code, year) for year in years],\n",
    "#         y= list(filtered_df[filtered_df.code == epsa_code].sort_values('year').ind1),\n",
    "        mode='lines',\n",
    "        name=epsa_code,\n",
    "#         hoverinfo='none',\n",
    "    )\n",
    "    data.append(line_trace)"
   ]
  },
  {
   "cell_type": "code",
   "execution_count": 251,
   "metadata": {},
   "outputs": [],
   "source": [
    "layout = dict(\n",
    "    xaxis= dict(\n",
    "        title='Años',\n",
    "        range=[2013.8, 2017.2],\n",
    "        autorange= False,\n",
    "        dtick=1,\n",
    "    ),\n",
    "    yaxis= dict(\n",
    "        title='Porcentaje de variables reportadas (%)',\n",
    "#         dtick=1,\n",
    "#         range=[50,100],\n",
    "#         autorange=False,\n",
    "    ),\n",
    "    title= f'Ranking EPSAS - Porcentaje de variables reportadas<br>Categoría {selected_category}',\n",
    "    updatemenus= [dict(\n",
    "        x=0,\n",
    "        y=0,\n",
    "        type= 'buttons',\n",
    "        buttons=[dict(\n",
    "            label='Animar',\n",
    "            method='animate',\n",
    "            args= [None],\n",
    "        )],\n",
    "    )],\n",
    "    hovermode='closest',\n",
    ")"
   ]
  },
  {
   "cell_type": "code",
   "execution_count": 252,
   "metadata": {},
   "outputs": [],
   "source": [
    "# frames = [\n",
    "#     {'data': [go.Scatter(x=[1, 2], y=[1, 2], text=['A', 'B'])]},\n",
    "#     {'data': [go.Scatter(x=[1, 4], y=[1, 4], text=['A', 'B'])]},\n",
    "#     {'data': [go.Scatter(x=[3, 4], y=[3, 4], text=['A', 'B'])]},\n",
    "# ]\n",
    "\n",
    "\n",
    "colors = [\n",
    "    '#1f77b4', '#ff7f0e','#2ca02c',\n",
    "    '#d62728', '#9467bd', '#8c564b',\n",
    "    '#e377c2', '#7f7f7f', '#bcbd22','#17becf'\n",
    "]\n",
    "\n",
    "colors = colors * 3\n",
    "\n",
    "frames = [{'data': [go.Scatter(\n",
    "    x=[year]*len(epsa_codes),\n",
    "    y=[get_data_rating(epsa_code, year) for epsa_code in epsa_codes],\n",
    "#     y=list(filtered_df[filtered_df.year == year].ind1),\n",
    "    text=epsa_codes,\n",
    "    textposition='top center',\n",
    "    mode='markers',\n",
    "    marker=dict(symbol='circle', size=20, color=colors[1:]),\n",
    ")]} for year in years]"
   ]
  },
  {
   "cell_type": "code",
   "execution_count": 255,
   "metadata": {},
   "outputs": [
    {
     "data": {
      "application/vnd.plotly.v1+json": {
       "data": [
        {
         "mode": "markers+text",
         "showlegend": false,
         "text": [
          "AAPOS",
          "BUSTILLO",
          "CAPAG",
          "COATRI",
          "COOPAGUAS",
          "COOPAPPI",
          "COOPLAN",
          "COSAALT",
          "COSMOL",
          "COSPAIL",
          "ELAPAS",
          "EMAPAS",
          "EMAPAV",
          "EMAPYC",
          "EPSA COBIJA",
          "MANCHACO",
          "SAJUBA",
          "SELA"
         ],
         "type": "scatter",
         "uid": "6a4a0134-cc11-11e8-9539-f0761c9f65e1",
         "x": [
          2014,
          2014,
          2014,
          2014,
          2014,
          2014,
          2014,
          2014,
          2014,
          2014,
          2014,
          2014,
          2014,
          2014,
          2014,
          2014,
          2014,
          2014
         ],
         "y": [
          98.7,
          61.36,
          35.12,
          116.57,
          88.59,
          133.44,
          80.72,
          62.09,
          56.11,
          61.84,
          68.5,
          null,
          55.48,
          49.56,
          84.83,
          25.52,
          57.23,
          62.53
         ]
        },
        {
         "mode": "lines",
         "name": "AAPOS",
         "type": "scatter",
         "uid": "6a4a0135-cc11-11e8-94c7-f0761c9f65e1",
         "x": [
          2014,
          2015,
          2016,
          2017
         ],
         "y": [
          78.125,
          78.125,
          81.25,
          75
         ]
        },
        {
         "mode": "lines",
         "name": "BUSTILLO",
         "type": "scatter",
         "uid": "6a4a0136-cc11-11e8-b080-f0761c9f65e1",
         "x": [
          2014,
          2015,
          2016,
          2017
         ],
         "y": [
          46.875,
          46.875,
          75,
          68.75
         ]
        },
        {
         "mode": "lines",
         "name": "CAPAG",
         "type": "scatter",
         "uid": "6a4a0137-cc11-11e8-b918-f0761c9f65e1",
         "x": [
          2014,
          2015,
          2016,
          2017
         ],
         "y": [
          68.75,
          75,
          78.125,
          75
         ]
        },
        {
         "mode": "lines",
         "name": "COATRI",
         "type": "scatter",
         "uid": "6a4a0138-cc11-11e8-b08b-f0761c9f65e1",
         "x": [
          2014,
          2015,
          2016,
          2017
         ],
         "y": [
          93.75,
          100,
          96.875,
          96.875
         ]
        },
        {
         "mode": "lines",
         "name": "COOPAGUAS",
         "type": "scatter",
         "uid": "6a4a0139-cc11-11e8-9423-f0761c9f65e1",
         "x": [
          2014,
          2015,
          2016,
          2017
         ],
         "y": [
          96.875,
          93.75,
          96.875,
          96.875
         ]
        },
        {
         "mode": "lines",
         "name": "COOPAPPI",
         "type": "scatter",
         "uid": "6a4a2840-cc11-11e8-ac86-f0761c9f65e1",
         "x": [
          2014,
          2015,
          2016,
          2017
         ],
         "y": [
          78.125,
          81.25,
          68.75,
          78.125
         ]
        },
        {
         "mode": "lines",
         "name": "COOPLAN",
         "type": "scatter",
         "uid": "6a4a2841-cc11-11e8-8d88-f0761c9f65e1",
         "x": [
          2014,
          2015,
          2016,
          2017
         ],
         "y": [
          78.125,
          78.125,
          78.125,
          75
         ]
        },
        {
         "mode": "lines",
         "name": "COSAALT",
         "type": "scatter",
         "uid": "6a4a2842-cc11-11e8-92c8-f0761c9f65e1",
         "x": [
          2014,
          2015,
          2016,
          2017
         ],
         "y": [
          100,
          100,
          100,
          100
         ]
        },
        {
         "mode": "lines",
         "name": "COSMOL",
         "type": "scatter",
         "uid": "6a4a2843-cc11-11e8-aa42-f0761c9f65e1",
         "x": [
          2014,
          2015,
          2016,
          2017
         ],
         "y": [
          96.875,
          84.375,
          90.625,
          93.75
         ]
        },
        {
         "mode": "lines",
         "name": "COSPAIL",
         "type": "scatter",
         "uid": "6a4a2844-cc11-11e8-b4ed-f0761c9f65e1",
         "x": [
          2014,
          2015,
          2016,
          2017
         ],
         "y": [
          87.5,
          84.375,
          87.5,
          90.625
         ]
        },
        {
         "mode": "lines",
         "name": "ELAPAS",
         "type": "scatter",
         "uid": "6a4a2845-cc11-11e8-85f0-f0761c9f65e1",
         "x": [
          2014,
          2015,
          2016,
          2017
         ],
         "y": [
          90.625,
          90.625,
          96.875,
          96.875
         ]
        },
        {
         "mode": "lines",
         "name": "EMAPAS",
         "type": "scatter",
         "uid": "6a4a2846-cc11-11e8-b1ec-f0761c9f65e1",
         "x": [
          2014,
          2015,
          2016,
          2017
         ],
         "y": [
          31.25,
          46.875,
          40.625,
          93.75
         ]
        },
        {
         "mode": "lines",
         "name": "EMAPAV",
         "type": "scatter",
         "uid": "6a4a2847-cc11-11e8-8e48-f0761c9f65e1",
         "x": [
          2014,
          2015,
          2016,
          2017
         ],
         "y": [
          81.25,
          84.375,
          78.125,
          81.25
         ]
        },
        {
         "mode": "lines",
         "name": "EMAPYC",
         "type": "scatter",
         "uid": "6a4a2848-cc11-11e8-90ca-f0761c9f65e1",
         "x": [
          2014,
          2015,
          2016,
          2017
         ],
         "y": [
          81.25,
          87.5,
          96.875,
          96.875
         ]
        },
        {
         "mode": "lines",
         "name": "EPSA COBIJA",
         "type": "scatter",
         "uid": "6a4a2849-cc11-11e8-8e76-f0761c9f65e1",
         "x": [
          2014,
          2015,
          2016,
          2017
         ],
         "y": [
          68.75,
          56.25,
          65.625,
          65.625
         ]
        },
        {
         "mode": "lines",
         "name": "MANCHACO",
         "type": "scatter",
         "uid": "6a4a284a-cc11-11e8-b88a-f0761c9f65e1",
         "x": [
          2014,
          2015,
          2016,
          2017
         ],
         "y": [
          93.75,
          31.25,
          96.875,
          96.875
         ]
        },
        {
         "mode": "lines",
         "name": "SAJUBA",
         "type": "scatter",
         "uid": "6a4a284b-cc11-11e8-8e81-f0761c9f65e1",
         "x": [
          2014,
          2015,
          2016,
          2017
         ],
         "y": [
          78.125,
          78.125,
          78.125,
          68.75
         ]
        },
        {
         "mode": "lines",
         "name": "SELA",
         "type": "scatter",
         "uid": "6a4a284c-cc11-11e8-ae0b-f0761c9f65e1",
         "x": [
          2014,
          2015,
          2016,
          2017
         ],
         "y": [
          78.125,
          78.125,
          78.125,
          78.125
         ]
        }
       ],
       "frames": [
        {
         "data": [
          {
           "marker": {
            "color": [
             "#ff7f0e",
             "#2ca02c",
             "#d62728",
             "#9467bd",
             "#8c564b",
             "#e377c2",
             "#7f7f7f",
             "#bcbd22",
             "#17becf",
             "#1f77b4",
             "#ff7f0e",
             "#2ca02c",
             "#d62728",
             "#9467bd",
             "#8c564b",
             "#e377c2",
             "#7f7f7f",
             "#bcbd22",
             "#17becf",
             "#1f77b4",
             "#ff7f0e",
             "#2ca02c",
             "#d62728",
             "#9467bd",
             "#8c564b",
             "#e377c2",
             "#7f7f7f",
             "#bcbd22",
             "#17becf"
            ],
            "size": 20,
            "symbol": "circle"
           },
           "mode": "markers",
           "text": [
            "AAPOS",
            "BUSTILLO",
            "CAPAG",
            "COATRI",
            "COOPAGUAS",
            "COOPAPPI",
            "COOPLAN",
            "COSAALT",
            "COSMOL",
            "COSPAIL",
            "ELAPAS",
            "EMAPAS",
            "EMAPAV",
            "EMAPYC",
            "EPSA COBIJA",
            "MANCHACO",
            "SAJUBA",
            "SELA"
           ],
           "textposition": "top center",
           "type": "scatter",
           "x": [
            2014,
            2014,
            2014,
            2014,
            2014,
            2014,
            2014,
            2014,
            2014,
            2014,
            2014,
            2014,
            2014,
            2014,
            2014,
            2014,
            2014,
            2014
           ],
           "y": [
            78.125,
            46.875,
            68.75,
            93.75,
            96.875,
            78.125,
            78.125,
            100,
            96.875,
            87.5,
            90.625,
            31.25,
            81.25,
            81.25,
            68.75,
            93.75,
            78.125,
            78.125
           ]
          }
         ]
        },
        {
         "data": [
          {
           "marker": {
            "color": [
             "#ff7f0e",
             "#2ca02c",
             "#d62728",
             "#9467bd",
             "#8c564b",
             "#e377c2",
             "#7f7f7f",
             "#bcbd22",
             "#17becf",
             "#1f77b4",
             "#ff7f0e",
             "#2ca02c",
             "#d62728",
             "#9467bd",
             "#8c564b",
             "#e377c2",
             "#7f7f7f",
             "#bcbd22",
             "#17becf",
             "#1f77b4",
             "#ff7f0e",
             "#2ca02c",
             "#d62728",
             "#9467bd",
             "#8c564b",
             "#e377c2",
             "#7f7f7f",
             "#bcbd22",
             "#17becf"
            ],
            "size": 20,
            "symbol": "circle"
           },
           "mode": "markers",
           "text": [
            "AAPOS",
            "BUSTILLO",
            "CAPAG",
            "COATRI",
            "COOPAGUAS",
            "COOPAPPI",
            "COOPLAN",
            "COSAALT",
            "COSMOL",
            "COSPAIL",
            "ELAPAS",
            "EMAPAS",
            "EMAPAV",
            "EMAPYC",
            "EPSA COBIJA",
            "MANCHACO",
            "SAJUBA",
            "SELA"
           ],
           "textposition": "top center",
           "type": "scatter",
           "x": [
            2015,
            2015,
            2015,
            2015,
            2015,
            2015,
            2015,
            2015,
            2015,
            2015,
            2015,
            2015,
            2015,
            2015,
            2015,
            2015,
            2015,
            2015
           ],
           "y": [
            78.125,
            46.875,
            75,
            100,
            93.75,
            81.25,
            78.125,
            100,
            84.375,
            84.375,
            90.625,
            46.875,
            84.375,
            87.5,
            56.25,
            31.25,
            78.125,
            78.125
           ]
          }
         ]
        },
        {
         "data": [
          {
           "marker": {
            "color": [
             "#ff7f0e",
             "#2ca02c",
             "#d62728",
             "#9467bd",
             "#8c564b",
             "#e377c2",
             "#7f7f7f",
             "#bcbd22",
             "#17becf",
             "#1f77b4",
             "#ff7f0e",
             "#2ca02c",
             "#d62728",
             "#9467bd",
             "#8c564b",
             "#e377c2",
             "#7f7f7f",
             "#bcbd22",
             "#17becf",
             "#1f77b4",
             "#ff7f0e",
             "#2ca02c",
             "#d62728",
             "#9467bd",
             "#8c564b",
             "#e377c2",
             "#7f7f7f",
             "#bcbd22",
             "#17becf"
            ],
            "size": 20,
            "symbol": "circle"
           },
           "mode": "markers",
           "text": [
            "AAPOS",
            "BUSTILLO",
            "CAPAG",
            "COATRI",
            "COOPAGUAS",
            "COOPAPPI",
            "COOPLAN",
            "COSAALT",
            "COSMOL",
            "COSPAIL",
            "ELAPAS",
            "EMAPAS",
            "EMAPAV",
            "EMAPYC",
            "EPSA COBIJA",
            "MANCHACO",
            "SAJUBA",
            "SELA"
           ],
           "textposition": "top center",
           "type": "scatter",
           "x": [
            2016,
            2016,
            2016,
            2016,
            2016,
            2016,
            2016,
            2016,
            2016,
            2016,
            2016,
            2016,
            2016,
            2016,
            2016,
            2016,
            2016,
            2016
           ],
           "y": [
            81.25,
            75,
            78.125,
            96.875,
            96.875,
            68.75,
            78.125,
            100,
            90.625,
            87.5,
            96.875,
            40.625,
            78.125,
            96.875,
            65.625,
            96.875,
            78.125,
            78.125
           ]
          }
         ]
        },
        {
         "data": [
          {
           "marker": {
            "color": [
             "#ff7f0e",
             "#2ca02c",
             "#d62728",
             "#9467bd",
             "#8c564b",
             "#e377c2",
             "#7f7f7f",
             "#bcbd22",
             "#17becf",
             "#1f77b4",
             "#ff7f0e",
             "#2ca02c",
             "#d62728",
             "#9467bd",
             "#8c564b",
             "#e377c2",
             "#7f7f7f",
             "#bcbd22",
             "#17becf",
             "#1f77b4",
             "#ff7f0e",
             "#2ca02c",
             "#d62728",
             "#9467bd",
             "#8c564b",
             "#e377c2",
             "#7f7f7f",
             "#bcbd22",
             "#17becf"
            ],
            "size": 20,
            "symbol": "circle"
           },
           "mode": "markers",
           "text": [
            "AAPOS",
            "BUSTILLO",
            "CAPAG",
            "COATRI",
            "COOPAGUAS",
            "COOPAPPI",
            "COOPLAN",
            "COSAALT",
            "COSMOL",
            "COSPAIL",
            "ELAPAS",
            "EMAPAS",
            "EMAPAV",
            "EMAPYC",
            "EPSA COBIJA",
            "MANCHACO",
            "SAJUBA",
            "SELA"
           ],
           "textposition": "top center",
           "type": "scatter",
           "x": [
            2017,
            2017,
            2017,
            2017,
            2017,
            2017,
            2017,
            2017,
            2017,
            2017,
            2017,
            2017,
            2017,
            2017,
            2017,
            2017,
            2017,
            2017
           ],
           "y": [
            75,
            68.75,
            75,
            96.875,
            96.875,
            78.125,
            75,
            100,
            93.75,
            90.625,
            96.875,
            93.75,
            81.25,
            96.875,
            65.625,
            96.875,
            68.75,
            78.125
           ]
          }
         ]
        }
       ],
       "layout": {
        "hovermode": "closest",
        "title": "Ranking EPSAS - Porcentaje de variables reportadas<br>Categoría B",
        "updatemenus": [
         {
          "buttons": [
           {
            "args": [
             null
            ],
            "label": "Animar",
            "method": "animate"
           }
          ],
          "type": "buttons",
          "x": 0,
          "y": 0
         }
        ],
        "xaxis": {
         "autorange": false,
         "dtick": 1,
         "range": [
          2013.8,
          2017.2
         ],
         "title": "Años"
        },
        "yaxis": {
         "title": "Porcentaje de variables reportadas (%)"
        }
       }
      },
      "text/html": [
       "<div id=\"96d1c79b-480e-40b0-b3c6-967249014335\" style=\"height: 525px; width: 100%;\" class=\"plotly-graph-div\"></div><script type=\"text/javascript\">require([\"plotly\"], function(Plotly) { window.PLOTLYENV=window.PLOTLYENV || {};window.PLOTLYENV.BASE_URL=\"https://plot.ly\";\n",
       "        Plotly.plot(\n",
       "            '96d1c79b-480e-40b0-b3c6-967249014335',\n",
       "            [{\"mode\": \"markers+text\", \"showlegend\": false, \"text\": [\"AAPOS\", \"BUSTILLO\", \"CAPAG\", \"COATRI\", \"COOPAGUAS\", \"COOPAPPI\", \"COOPLAN\", \"COSAALT\", \"COSMOL\", \"COSPAIL\", \"ELAPAS\", \"EMAPAS\", \"EMAPAV\", \"EMAPYC\", \"EPSA COBIJA\", \"MANCHACO\", \"SAJUBA\", \"SELA\"], \"x\": [2014, 2014, 2014, 2014, 2014, 2014, 2014, 2014, 2014, 2014, 2014, 2014, 2014, 2014, 2014, 2014, 2014, 2014], \"y\": [98.7, 61.36, 35.12, 116.57, 88.59, 133.44, 80.72, 62.09, 56.11, 61.84, 68.5, null, 55.48, 49.56, 84.83, 25.52, 57.23, 62.53], \"type\": \"scatter\", \"uid\": \"6a4a0134-cc11-11e8-9539-f0761c9f65e1\"}, {\"mode\": \"lines\", \"name\": \"AAPOS\", \"x\": [2014, 2015, 2016, 2017], \"y\": [78.125, 78.125, 81.25, 75.0], \"type\": \"scatter\", \"uid\": \"6a4a0135-cc11-11e8-94c7-f0761c9f65e1\"}, {\"mode\": \"lines\", \"name\": \"BUSTILLO\", \"x\": [2014, 2015, 2016, 2017], \"y\": [46.875, 46.875, 75.0, 68.75], \"type\": \"scatter\", \"uid\": \"6a4a0136-cc11-11e8-b080-f0761c9f65e1\"}, {\"mode\": \"lines\", \"name\": \"CAPAG\", \"x\": [2014, 2015, 2016, 2017], \"y\": [68.75, 75.0, 78.125, 75.0], \"type\": \"scatter\", \"uid\": \"6a4a0137-cc11-11e8-b918-f0761c9f65e1\"}, {\"mode\": \"lines\", \"name\": \"COATRI\", \"x\": [2014, 2015, 2016, 2017], \"y\": [93.75, 100.0, 96.875, 96.875], \"type\": \"scatter\", \"uid\": \"6a4a0138-cc11-11e8-b08b-f0761c9f65e1\"}, {\"mode\": \"lines\", \"name\": \"COOPAGUAS\", \"x\": [2014, 2015, 2016, 2017], \"y\": [96.875, 93.75, 96.875, 96.875], \"type\": \"scatter\", \"uid\": \"6a4a0139-cc11-11e8-9423-f0761c9f65e1\"}, {\"mode\": \"lines\", \"name\": \"COOPAPPI\", \"x\": [2014, 2015, 2016, 2017], \"y\": [78.125, 81.25, 68.75, 78.125], \"type\": \"scatter\", \"uid\": \"6a4a2840-cc11-11e8-ac86-f0761c9f65e1\"}, {\"mode\": \"lines\", \"name\": \"COOPLAN\", \"x\": [2014, 2015, 2016, 2017], \"y\": [78.125, 78.125, 78.125, 75.0], \"type\": \"scatter\", \"uid\": \"6a4a2841-cc11-11e8-8d88-f0761c9f65e1\"}, {\"mode\": \"lines\", \"name\": \"COSAALT\", \"x\": [2014, 2015, 2016, 2017], \"y\": [100.0, 100.0, 100.0, 100.0], \"type\": \"scatter\", \"uid\": \"6a4a2842-cc11-11e8-92c8-f0761c9f65e1\"}, {\"mode\": \"lines\", \"name\": \"COSMOL\", \"x\": [2014, 2015, 2016, 2017], \"y\": [96.875, 84.375, 90.625, 93.75], \"type\": \"scatter\", \"uid\": \"6a4a2843-cc11-11e8-aa42-f0761c9f65e1\"}, {\"mode\": \"lines\", \"name\": \"COSPAIL\", \"x\": [2014, 2015, 2016, 2017], \"y\": [87.5, 84.375, 87.5, 90.625], \"type\": \"scatter\", \"uid\": \"6a4a2844-cc11-11e8-b4ed-f0761c9f65e1\"}, {\"mode\": \"lines\", \"name\": \"ELAPAS\", \"x\": [2014, 2015, 2016, 2017], \"y\": [90.625, 90.625, 96.875, 96.875], \"type\": \"scatter\", \"uid\": \"6a4a2845-cc11-11e8-85f0-f0761c9f65e1\"}, {\"mode\": \"lines\", \"name\": \"EMAPAS\", \"x\": [2014, 2015, 2016, 2017], \"y\": [31.25, 46.875, 40.625, 93.75], \"type\": \"scatter\", \"uid\": \"6a4a2846-cc11-11e8-b1ec-f0761c9f65e1\"}, {\"mode\": \"lines\", \"name\": \"EMAPAV\", \"x\": [2014, 2015, 2016, 2017], \"y\": [81.25, 84.375, 78.125, 81.25], \"type\": \"scatter\", \"uid\": \"6a4a2847-cc11-11e8-8e48-f0761c9f65e1\"}, {\"mode\": \"lines\", \"name\": \"EMAPYC\", \"x\": [2014, 2015, 2016, 2017], \"y\": [81.25, 87.5, 96.875, 96.875], \"type\": \"scatter\", \"uid\": \"6a4a2848-cc11-11e8-90ca-f0761c9f65e1\"}, {\"mode\": \"lines\", \"name\": \"EPSA COBIJA\", \"x\": [2014, 2015, 2016, 2017], \"y\": [68.75, 56.25, 65.625, 65.625], \"type\": \"scatter\", \"uid\": \"6a4a2849-cc11-11e8-8e76-f0761c9f65e1\"}, {\"mode\": \"lines\", \"name\": \"MANCHACO\", \"x\": [2014, 2015, 2016, 2017], \"y\": [93.75, 31.25, 96.875, 96.875], \"type\": \"scatter\", \"uid\": \"6a4a284a-cc11-11e8-b88a-f0761c9f65e1\"}, {\"mode\": \"lines\", \"name\": \"SAJUBA\", \"x\": [2014, 2015, 2016, 2017], \"y\": [78.125, 78.125, 78.125, 68.75], \"type\": \"scatter\", \"uid\": \"6a4a284b-cc11-11e8-8e81-f0761c9f65e1\"}, {\"mode\": \"lines\", \"name\": \"SELA\", \"x\": [2014, 2015, 2016, 2017], \"y\": [78.125, 78.125, 78.125, 78.125], \"type\": \"scatter\", \"uid\": \"6a4a284c-cc11-11e8-ae0b-f0761c9f65e1\"}],\n",
       "            {\"hovermode\": \"closest\", \"title\": \"Ranking EPSAS - Porcentaje de variables reportadas<br>Categor\\u00eda B\", \"updatemenus\": [{\"buttons\": [{\"args\": [null], \"label\": \"Animar\", \"method\": \"animate\"}], \"type\": \"buttons\", \"x\": 0, \"y\": 0}], \"xaxis\": {\"autorange\": false, \"dtick\": 1, \"range\": [2013.8, 2017.2], \"title\": \"A\\u00f1os\"}, \"yaxis\": {\"title\": \"Porcentaje de variables reportadas (%)\"}},\n",
       "            {\"showLink\": true, \"linkText\": \"Export to plot.ly\"}\n",
       "        ).then(function () {return Plotly.addFrames('96d1c79b-480e-40b0-b3c6-967249014335',[{\"data\": [{\"marker\": {\"color\": [\"#ff7f0e\", \"#2ca02c\", \"#d62728\", \"#9467bd\", \"#8c564b\", \"#e377c2\", \"#7f7f7f\", \"#bcbd22\", \"#17becf\", \"#1f77b4\", \"#ff7f0e\", \"#2ca02c\", \"#d62728\", \"#9467bd\", \"#8c564b\", \"#e377c2\", \"#7f7f7f\", \"#bcbd22\", \"#17becf\", \"#1f77b4\", \"#ff7f0e\", \"#2ca02c\", \"#d62728\", \"#9467bd\", \"#8c564b\", \"#e377c2\", \"#7f7f7f\", \"#bcbd22\", \"#17becf\"], \"size\": 20, \"symbol\": \"circle\"}, \"mode\": \"markers\", \"text\": [\"AAPOS\", \"BUSTILLO\", \"CAPAG\", \"COATRI\", \"COOPAGUAS\", \"COOPAPPI\", \"COOPLAN\", \"COSAALT\", \"COSMOL\", \"COSPAIL\", \"ELAPAS\", \"EMAPAS\", \"EMAPAV\", \"EMAPYC\", \"EPSA COBIJA\", \"MANCHACO\", \"SAJUBA\", \"SELA\"], \"textposition\": \"top center\", \"x\": [2014, 2014, 2014, 2014, 2014, 2014, 2014, 2014, 2014, 2014, 2014, 2014, 2014, 2014, 2014, 2014, 2014, 2014], \"y\": [78.125, 46.875, 68.75, 93.75, 96.875, 78.125, 78.125, 100.0, 96.875, 87.5, 90.625, 31.25, 81.25, 81.25, 68.75, 93.75, 78.125, 78.125], \"type\": \"scatter\"}]}, {\"data\": [{\"marker\": {\"color\": [\"#ff7f0e\", \"#2ca02c\", \"#d62728\", \"#9467bd\", \"#8c564b\", \"#e377c2\", \"#7f7f7f\", \"#bcbd22\", \"#17becf\", \"#1f77b4\", \"#ff7f0e\", \"#2ca02c\", \"#d62728\", \"#9467bd\", \"#8c564b\", \"#e377c2\", \"#7f7f7f\", \"#bcbd22\", \"#17becf\", \"#1f77b4\", \"#ff7f0e\", \"#2ca02c\", \"#d62728\", \"#9467bd\", \"#8c564b\", \"#e377c2\", \"#7f7f7f\", \"#bcbd22\", \"#17becf\"], \"size\": 20, \"symbol\": \"circle\"}, \"mode\": \"markers\", \"text\": [\"AAPOS\", \"BUSTILLO\", \"CAPAG\", \"COATRI\", \"COOPAGUAS\", \"COOPAPPI\", \"COOPLAN\", \"COSAALT\", \"COSMOL\", \"COSPAIL\", \"ELAPAS\", \"EMAPAS\", \"EMAPAV\", \"EMAPYC\", \"EPSA COBIJA\", \"MANCHACO\", \"SAJUBA\", \"SELA\"], \"textposition\": \"top center\", \"x\": [2015, 2015, 2015, 2015, 2015, 2015, 2015, 2015, 2015, 2015, 2015, 2015, 2015, 2015, 2015, 2015, 2015, 2015], \"y\": [78.125, 46.875, 75.0, 100.0, 93.75, 81.25, 78.125, 100.0, 84.375, 84.375, 90.625, 46.875, 84.375, 87.5, 56.25, 31.25, 78.125, 78.125], \"type\": \"scatter\"}]}, {\"data\": [{\"marker\": {\"color\": [\"#ff7f0e\", \"#2ca02c\", \"#d62728\", \"#9467bd\", \"#8c564b\", \"#e377c2\", \"#7f7f7f\", \"#bcbd22\", \"#17becf\", \"#1f77b4\", \"#ff7f0e\", \"#2ca02c\", \"#d62728\", \"#9467bd\", \"#8c564b\", \"#e377c2\", \"#7f7f7f\", \"#bcbd22\", \"#17becf\", \"#1f77b4\", \"#ff7f0e\", \"#2ca02c\", \"#d62728\", \"#9467bd\", \"#8c564b\", \"#e377c2\", \"#7f7f7f\", \"#bcbd22\", \"#17becf\"], \"size\": 20, \"symbol\": \"circle\"}, \"mode\": \"markers\", \"text\": [\"AAPOS\", \"BUSTILLO\", \"CAPAG\", \"COATRI\", \"COOPAGUAS\", \"COOPAPPI\", \"COOPLAN\", \"COSAALT\", \"COSMOL\", \"COSPAIL\", \"ELAPAS\", \"EMAPAS\", \"EMAPAV\", \"EMAPYC\", \"EPSA COBIJA\", \"MANCHACO\", \"SAJUBA\", \"SELA\"], \"textposition\": \"top center\", \"x\": [2016, 2016, 2016, 2016, 2016, 2016, 2016, 2016, 2016, 2016, 2016, 2016, 2016, 2016, 2016, 2016, 2016, 2016], \"y\": [81.25, 75.0, 78.125, 96.875, 96.875, 68.75, 78.125, 100.0, 90.625, 87.5, 96.875, 40.625, 78.125, 96.875, 65.625, 96.875, 78.125, 78.125], \"type\": \"scatter\"}]}, {\"data\": [{\"marker\": {\"color\": [\"#ff7f0e\", \"#2ca02c\", \"#d62728\", \"#9467bd\", \"#8c564b\", \"#e377c2\", \"#7f7f7f\", \"#bcbd22\", \"#17becf\", \"#1f77b4\", \"#ff7f0e\", \"#2ca02c\", \"#d62728\", \"#9467bd\", \"#8c564b\", \"#e377c2\", \"#7f7f7f\", \"#bcbd22\", \"#17becf\", \"#1f77b4\", \"#ff7f0e\", \"#2ca02c\", \"#d62728\", \"#9467bd\", \"#8c564b\", \"#e377c2\", \"#7f7f7f\", \"#bcbd22\", \"#17becf\"], \"size\": 20, \"symbol\": \"circle\"}, \"mode\": \"markers\", \"text\": [\"AAPOS\", \"BUSTILLO\", \"CAPAG\", \"COATRI\", \"COOPAGUAS\", \"COOPAPPI\", \"COOPLAN\", \"COSAALT\", \"COSMOL\", \"COSPAIL\", \"ELAPAS\", \"EMAPAS\", \"EMAPAV\", \"EMAPYC\", \"EPSA COBIJA\", \"MANCHACO\", \"SAJUBA\", \"SELA\"], \"textposition\": \"top center\", \"x\": [2017, 2017, 2017, 2017, 2017, 2017, 2017, 2017, 2017, 2017, 2017, 2017, 2017, 2017, 2017, 2017, 2017, 2017], \"y\": [75.0, 68.75, 75.0, 96.875, 96.875, 78.125, 75.0, 100.0, 93.75, 90.625, 96.875, 93.75, 81.25, 96.875, 65.625, 96.875, 68.75, 78.125], \"type\": \"scatter\"}]}]);}).then(function(){Plotly.animate('96d1c79b-480e-40b0-b3c6-967249014335');})\n",
       "        });</script>"
      ],
      "text/vnd.plotly.v1+html": [
       "<div id=\"96d1c79b-480e-40b0-b3c6-967249014335\" style=\"height: 525px; width: 100%;\" class=\"plotly-graph-div\"></div><script type=\"text/javascript\">require([\"plotly\"], function(Plotly) { window.PLOTLYENV=window.PLOTLYENV || {};window.PLOTLYENV.BASE_URL=\"https://plot.ly\";\n",
       "        Plotly.plot(\n",
       "            '96d1c79b-480e-40b0-b3c6-967249014335',\n",
       "            [{\"mode\": \"markers+text\", \"showlegend\": false, \"text\": [\"AAPOS\", \"BUSTILLO\", \"CAPAG\", \"COATRI\", \"COOPAGUAS\", \"COOPAPPI\", \"COOPLAN\", \"COSAALT\", \"COSMOL\", \"COSPAIL\", \"ELAPAS\", \"EMAPAS\", \"EMAPAV\", \"EMAPYC\", \"EPSA COBIJA\", \"MANCHACO\", \"SAJUBA\", \"SELA\"], \"x\": [2014, 2014, 2014, 2014, 2014, 2014, 2014, 2014, 2014, 2014, 2014, 2014, 2014, 2014, 2014, 2014, 2014, 2014], \"y\": [98.7, 61.36, 35.12, 116.57, 88.59, 133.44, 80.72, 62.09, 56.11, 61.84, 68.5, null, 55.48, 49.56, 84.83, 25.52, 57.23, 62.53], \"type\": \"scatter\", \"uid\": \"6a4a0134-cc11-11e8-9539-f0761c9f65e1\"}, {\"mode\": \"lines\", \"name\": \"AAPOS\", \"x\": [2014, 2015, 2016, 2017], \"y\": [78.125, 78.125, 81.25, 75.0], \"type\": \"scatter\", \"uid\": \"6a4a0135-cc11-11e8-94c7-f0761c9f65e1\"}, {\"mode\": \"lines\", \"name\": \"BUSTILLO\", \"x\": [2014, 2015, 2016, 2017], \"y\": [46.875, 46.875, 75.0, 68.75], \"type\": \"scatter\", \"uid\": \"6a4a0136-cc11-11e8-b080-f0761c9f65e1\"}, {\"mode\": \"lines\", \"name\": \"CAPAG\", \"x\": [2014, 2015, 2016, 2017], \"y\": [68.75, 75.0, 78.125, 75.0], \"type\": \"scatter\", \"uid\": \"6a4a0137-cc11-11e8-b918-f0761c9f65e1\"}, {\"mode\": \"lines\", \"name\": \"COATRI\", \"x\": [2014, 2015, 2016, 2017], \"y\": [93.75, 100.0, 96.875, 96.875], \"type\": \"scatter\", \"uid\": \"6a4a0138-cc11-11e8-b08b-f0761c9f65e1\"}, {\"mode\": \"lines\", \"name\": \"COOPAGUAS\", \"x\": [2014, 2015, 2016, 2017], \"y\": [96.875, 93.75, 96.875, 96.875], \"type\": \"scatter\", \"uid\": \"6a4a0139-cc11-11e8-9423-f0761c9f65e1\"}, {\"mode\": \"lines\", \"name\": \"COOPAPPI\", \"x\": [2014, 2015, 2016, 2017], \"y\": [78.125, 81.25, 68.75, 78.125], \"type\": \"scatter\", \"uid\": \"6a4a2840-cc11-11e8-ac86-f0761c9f65e1\"}, {\"mode\": \"lines\", \"name\": \"COOPLAN\", \"x\": [2014, 2015, 2016, 2017], \"y\": [78.125, 78.125, 78.125, 75.0], \"type\": \"scatter\", \"uid\": \"6a4a2841-cc11-11e8-8d88-f0761c9f65e1\"}, {\"mode\": \"lines\", \"name\": \"COSAALT\", \"x\": [2014, 2015, 2016, 2017], \"y\": [100.0, 100.0, 100.0, 100.0], \"type\": \"scatter\", \"uid\": \"6a4a2842-cc11-11e8-92c8-f0761c9f65e1\"}, {\"mode\": \"lines\", \"name\": \"COSMOL\", \"x\": [2014, 2015, 2016, 2017], \"y\": [96.875, 84.375, 90.625, 93.75], \"type\": \"scatter\", \"uid\": \"6a4a2843-cc11-11e8-aa42-f0761c9f65e1\"}, {\"mode\": \"lines\", \"name\": \"COSPAIL\", \"x\": [2014, 2015, 2016, 2017], \"y\": [87.5, 84.375, 87.5, 90.625], \"type\": \"scatter\", \"uid\": \"6a4a2844-cc11-11e8-b4ed-f0761c9f65e1\"}, {\"mode\": \"lines\", \"name\": \"ELAPAS\", \"x\": [2014, 2015, 2016, 2017], \"y\": [90.625, 90.625, 96.875, 96.875], \"type\": \"scatter\", \"uid\": \"6a4a2845-cc11-11e8-85f0-f0761c9f65e1\"}, {\"mode\": \"lines\", \"name\": \"EMAPAS\", \"x\": [2014, 2015, 2016, 2017], \"y\": [31.25, 46.875, 40.625, 93.75], \"type\": \"scatter\", \"uid\": \"6a4a2846-cc11-11e8-b1ec-f0761c9f65e1\"}, {\"mode\": \"lines\", \"name\": \"EMAPAV\", \"x\": [2014, 2015, 2016, 2017], \"y\": [81.25, 84.375, 78.125, 81.25], \"type\": \"scatter\", \"uid\": \"6a4a2847-cc11-11e8-8e48-f0761c9f65e1\"}, {\"mode\": \"lines\", \"name\": \"EMAPYC\", \"x\": [2014, 2015, 2016, 2017], \"y\": [81.25, 87.5, 96.875, 96.875], \"type\": \"scatter\", \"uid\": \"6a4a2848-cc11-11e8-90ca-f0761c9f65e1\"}, {\"mode\": \"lines\", \"name\": \"EPSA COBIJA\", \"x\": [2014, 2015, 2016, 2017], \"y\": [68.75, 56.25, 65.625, 65.625], \"type\": \"scatter\", \"uid\": \"6a4a2849-cc11-11e8-8e76-f0761c9f65e1\"}, {\"mode\": \"lines\", \"name\": \"MANCHACO\", \"x\": [2014, 2015, 2016, 2017], \"y\": [93.75, 31.25, 96.875, 96.875], \"type\": \"scatter\", \"uid\": \"6a4a284a-cc11-11e8-b88a-f0761c9f65e1\"}, {\"mode\": \"lines\", \"name\": \"SAJUBA\", \"x\": [2014, 2015, 2016, 2017], \"y\": [78.125, 78.125, 78.125, 68.75], \"type\": \"scatter\", \"uid\": \"6a4a284b-cc11-11e8-8e81-f0761c9f65e1\"}, {\"mode\": \"lines\", \"name\": \"SELA\", \"x\": [2014, 2015, 2016, 2017], \"y\": [78.125, 78.125, 78.125, 78.125], \"type\": \"scatter\", \"uid\": \"6a4a284c-cc11-11e8-ae0b-f0761c9f65e1\"}],\n",
       "            {\"hovermode\": \"closest\", \"title\": \"Ranking EPSAS - Porcentaje de variables reportadas<br>Categor\\u00eda B\", \"updatemenus\": [{\"buttons\": [{\"args\": [null], \"label\": \"Animar\", \"method\": \"animate\"}], \"type\": \"buttons\", \"x\": 0, \"y\": 0}], \"xaxis\": {\"autorange\": false, \"dtick\": 1, \"range\": [2013.8, 2017.2], \"title\": \"A\\u00f1os\"}, \"yaxis\": {\"title\": \"Porcentaje de variables reportadas (%)\"}},\n",
       "            {\"showLink\": true, \"linkText\": \"Export to plot.ly\"}\n",
       "        ).then(function () {return Plotly.addFrames('96d1c79b-480e-40b0-b3c6-967249014335',[{\"data\": [{\"marker\": {\"color\": [\"#ff7f0e\", \"#2ca02c\", \"#d62728\", \"#9467bd\", \"#8c564b\", \"#e377c2\", \"#7f7f7f\", \"#bcbd22\", \"#17becf\", \"#1f77b4\", \"#ff7f0e\", \"#2ca02c\", \"#d62728\", \"#9467bd\", \"#8c564b\", \"#e377c2\", \"#7f7f7f\", \"#bcbd22\", \"#17becf\", \"#1f77b4\", \"#ff7f0e\", \"#2ca02c\", \"#d62728\", \"#9467bd\", \"#8c564b\", \"#e377c2\", \"#7f7f7f\", \"#bcbd22\", \"#17becf\"], \"size\": 20, \"symbol\": \"circle\"}, \"mode\": \"markers\", \"text\": [\"AAPOS\", \"BUSTILLO\", \"CAPAG\", \"COATRI\", \"COOPAGUAS\", \"COOPAPPI\", \"COOPLAN\", \"COSAALT\", \"COSMOL\", \"COSPAIL\", \"ELAPAS\", \"EMAPAS\", \"EMAPAV\", \"EMAPYC\", \"EPSA COBIJA\", \"MANCHACO\", \"SAJUBA\", \"SELA\"], \"textposition\": \"top center\", \"x\": [2014, 2014, 2014, 2014, 2014, 2014, 2014, 2014, 2014, 2014, 2014, 2014, 2014, 2014, 2014, 2014, 2014, 2014], \"y\": [78.125, 46.875, 68.75, 93.75, 96.875, 78.125, 78.125, 100.0, 96.875, 87.5, 90.625, 31.25, 81.25, 81.25, 68.75, 93.75, 78.125, 78.125], \"type\": \"scatter\"}]}, {\"data\": [{\"marker\": {\"color\": [\"#ff7f0e\", \"#2ca02c\", \"#d62728\", \"#9467bd\", \"#8c564b\", \"#e377c2\", \"#7f7f7f\", \"#bcbd22\", \"#17becf\", \"#1f77b4\", \"#ff7f0e\", \"#2ca02c\", \"#d62728\", \"#9467bd\", \"#8c564b\", \"#e377c2\", \"#7f7f7f\", \"#bcbd22\", \"#17becf\", \"#1f77b4\", \"#ff7f0e\", \"#2ca02c\", \"#d62728\", \"#9467bd\", \"#8c564b\", \"#e377c2\", \"#7f7f7f\", \"#bcbd22\", \"#17becf\"], \"size\": 20, \"symbol\": \"circle\"}, \"mode\": \"markers\", \"text\": [\"AAPOS\", \"BUSTILLO\", \"CAPAG\", \"COATRI\", \"COOPAGUAS\", \"COOPAPPI\", \"COOPLAN\", \"COSAALT\", \"COSMOL\", \"COSPAIL\", \"ELAPAS\", \"EMAPAS\", \"EMAPAV\", \"EMAPYC\", \"EPSA COBIJA\", \"MANCHACO\", \"SAJUBA\", \"SELA\"], \"textposition\": \"top center\", \"x\": [2015, 2015, 2015, 2015, 2015, 2015, 2015, 2015, 2015, 2015, 2015, 2015, 2015, 2015, 2015, 2015, 2015, 2015], \"y\": [78.125, 46.875, 75.0, 100.0, 93.75, 81.25, 78.125, 100.0, 84.375, 84.375, 90.625, 46.875, 84.375, 87.5, 56.25, 31.25, 78.125, 78.125], \"type\": \"scatter\"}]}, {\"data\": [{\"marker\": {\"color\": [\"#ff7f0e\", \"#2ca02c\", \"#d62728\", \"#9467bd\", \"#8c564b\", \"#e377c2\", \"#7f7f7f\", \"#bcbd22\", \"#17becf\", \"#1f77b4\", \"#ff7f0e\", \"#2ca02c\", \"#d62728\", \"#9467bd\", \"#8c564b\", \"#e377c2\", \"#7f7f7f\", \"#bcbd22\", \"#17becf\", \"#1f77b4\", \"#ff7f0e\", \"#2ca02c\", \"#d62728\", \"#9467bd\", \"#8c564b\", \"#e377c2\", \"#7f7f7f\", \"#bcbd22\", \"#17becf\"], \"size\": 20, \"symbol\": \"circle\"}, \"mode\": \"markers\", \"text\": [\"AAPOS\", \"BUSTILLO\", \"CAPAG\", \"COATRI\", \"COOPAGUAS\", \"COOPAPPI\", \"COOPLAN\", \"COSAALT\", \"COSMOL\", \"COSPAIL\", \"ELAPAS\", \"EMAPAS\", \"EMAPAV\", \"EMAPYC\", \"EPSA COBIJA\", \"MANCHACO\", \"SAJUBA\", \"SELA\"], \"textposition\": \"top center\", \"x\": [2016, 2016, 2016, 2016, 2016, 2016, 2016, 2016, 2016, 2016, 2016, 2016, 2016, 2016, 2016, 2016, 2016, 2016], \"y\": [81.25, 75.0, 78.125, 96.875, 96.875, 68.75, 78.125, 100.0, 90.625, 87.5, 96.875, 40.625, 78.125, 96.875, 65.625, 96.875, 78.125, 78.125], \"type\": \"scatter\"}]}, {\"data\": [{\"marker\": {\"color\": [\"#ff7f0e\", \"#2ca02c\", \"#d62728\", \"#9467bd\", \"#8c564b\", \"#e377c2\", \"#7f7f7f\", \"#bcbd22\", \"#17becf\", \"#1f77b4\", \"#ff7f0e\", \"#2ca02c\", \"#d62728\", \"#9467bd\", \"#8c564b\", \"#e377c2\", \"#7f7f7f\", \"#bcbd22\", \"#17becf\", \"#1f77b4\", \"#ff7f0e\", \"#2ca02c\", \"#d62728\", \"#9467bd\", \"#8c564b\", \"#e377c2\", \"#7f7f7f\", \"#bcbd22\", \"#17becf\"], \"size\": 20, \"symbol\": \"circle\"}, \"mode\": \"markers\", \"text\": [\"AAPOS\", \"BUSTILLO\", \"CAPAG\", \"COATRI\", \"COOPAGUAS\", \"COOPAPPI\", \"COOPLAN\", \"COSAALT\", \"COSMOL\", \"COSPAIL\", \"ELAPAS\", \"EMAPAS\", \"EMAPAV\", \"EMAPYC\", \"EPSA COBIJA\", \"MANCHACO\", \"SAJUBA\", \"SELA\"], \"textposition\": \"top center\", \"x\": [2017, 2017, 2017, 2017, 2017, 2017, 2017, 2017, 2017, 2017, 2017, 2017, 2017, 2017, 2017, 2017, 2017, 2017], \"y\": [75.0, 68.75, 75.0, 96.875, 96.875, 78.125, 75.0, 100.0, 93.75, 90.625, 96.875, 93.75, 81.25, 96.875, 65.625, 96.875, 68.75, 78.125], \"type\": \"scatter\"}]}]);}).then(function(){Plotly.animate('96d1c79b-480e-40b0-b3c6-967249014335');})\n",
       "        });</script>"
      ]
     },
     "metadata": {},
     "output_type": "display_data"
    }
   ],
   "source": [
    "fig = go.Figure(data=data, layout=layout, frames=frames)\n",
    "iplot(fig)"
   ]
  },
  {
   "cell_type": "code",
   "execution_count": 256,
   "metadata": {},
   "outputs": [
    {
     "data": {
      "text/html": [
       "<iframe id=\"igraph\" scrolling=\"no\" style=\"border:none;\" seamless=\"seamless\" src=\"https://plot.ly/~sergiochumacero/73.embed\" height=\"525px\" width=\"100%\"></iframe>"
      ],
      "text/plain": [
       "<plotly.tools.PlotlyDisplay object>"
      ]
     },
     "execution_count": 256,
     "metadata": {},
     "output_type": "execute_result"
    }
   ],
   "source": [
    "import plotly.plotly as py\n",
    "\n",
    "py.iplot(fig, filename='ranking_datos')"
   ]
  }
 ],
 "metadata": {
  "kernelspec": {
   "display_name": "Python 3",
   "language": "python",
   "name": "python3"
  },
  "language_info": {
   "codemirror_mode": {
    "name": "ipython",
    "version": 3
   },
   "file_extension": ".py",
   "mimetype": "text/x-python",
   "name": "python",
   "nbconvert_exporter": "python",
   "pygments_lexer": "ipython3",
   "version": "3.6.5"
  }
 },
 "nbformat": 4,
 "nbformat_minor": 2
}
