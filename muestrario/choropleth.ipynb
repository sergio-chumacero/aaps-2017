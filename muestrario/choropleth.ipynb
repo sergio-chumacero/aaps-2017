{
 "cells": [
  {
   "cell_type": "markdown",
   "metadata": {},
   "source": [
    "# Custom Choropleth Maps with Plotly/Mapbox\n",
    "\n",
    "\n",
    "The next project is to create a choropleth map using the polygons of the supply areas.\n",
    "\n",
    "Like always we start by retrieving the information we need. In this case, we can get it directly from our REST API in the geojson format."
   ]
  },
  {
   "cell_type": "code",
   "execution_count": 1,
   "metadata": {},
   "outputs": [],
   "source": [
    "import requests\n",
    "\n",
    "supply_r = requests.get('https://peridash.ml/api/supply-areas/')"
   ]
  },
  {
   "cell_type": "markdown",
   "metadata": {},
   "source": [
    "Let's test a sample choropleth map to get used to the process."
   ]
  },
  {
   "cell_type": "code",
   "execution_count": 7,
   "metadata": {},
   "outputs": [],
   "source": [
    "import plotly.plotly as py\n",
    "import pandas as pd\n",
    "\n",
    "df = pd.read_csv('https://raw.githubusercontent.com/plotly/datasets/master/2011_us_ag_exports.csv')\n",
    "\n",
    "for col in df.columns:\n",
    "    df[col] = df[col].astype(str)\n",
    "\n",
    "scl = [[0.0, 'rgb(242,240,247)'],[0.2, 'rgb(218,218,235)'],[0.4, 'rgb(188,189,220)'],\\\n",
    "            [0.6, 'rgb(158,154,200)'],[0.8, 'rgb(117,107,177)'],[1.0, 'rgb(84,39,143)']]\n",
    "\n",
    "df['text'] = df['state'] + '<br>' +\\\n",
    "    'Beef '+df['beef']+' Dairy '+df['dairy']+'<br>'+\\\n",
    "    'Fruits '+df['total fruits']+' Veggies ' + df['total veggies']+'<br>'+\\\n",
    "    'Wheat '+df['wheat']+' Corn '+df['corn']\n",
    "\n",
    "data = [ dict(\n",
    "        type='choropleth',\n",
    "        colorscale = scl,\n",
    "        autocolorscale = False,\n",
    "        locations = df['code'],\n",
    "        z = df['total exports'].astype(float),\n",
    "        locationmode = 'USA-states',\n",
    "        text = df['text'],\n",
    "        marker = dict(\n",
    "            line = dict (\n",
    "                color = 'rgb(255,255,255)',\n",
    "                width = 2\n",
    "            ) ),\n",
    "        colorbar = dict(\n",
    "            title = \"Millions USD\")\n",
    "        ) ]\n",
    "\n",
    "layout = dict(\n",
    "        title = '2011 US Agriculture Exports by State<br>(Hover for breakdown)',\n",
    "        geo = dict(\n",
    "            scope='usa',\n",
    "            projection=dict( type='albers usa' ),\n",
    "            showlakes = True,\n",
    "            lakecolor = 'rgb(255, 255, 255)'),\n",
    "             )\n",
    "    \n",
    "fig = dict( data=data, layout=layout )"
   ]
  },
  {
   "cell_type": "markdown",
   "metadata": {},
   "source": [
    "Notice that we have to use the online library of plotly to create these maps. I still haven't figured out how to create maps in an offline manner. It probably is not possible, as we require information from external servers like the polygons of the US or the map tiles from mapbox, and this information is constantly being updated, so is not part of the plotly library.  "
   ]
  },
  {
   "cell_type": "code",
   "execution_count": 9,
   "metadata": {},
   "outputs": [
    {
     "data": {
      "text/html": [
       "<iframe id=\"igraph\" scrolling=\"no\" style=\"border:none;\" seamless=\"seamless\" src=\"https://plot.ly/~sergiochumacero/47.embed\" height=\"525px\" width=\"100%\"></iframe>"
      ],
      "text/plain": [
       "<plotly.tools.PlotlyDisplay object>"
      ]
     },
     "execution_count": 9,
     "metadata": {},
     "output_type": "execute_result"
    }
   ],
   "source": [
    "py.iplot(fig, filename='test-map')"
   ]
  },
  {
   "cell_type": "markdown",
   "metadata": {},
   "source": [
    "Now that's a good looking map! However, to achieve this we rely on predefined maps (in this case of the US). For our map, we would like to define the boundary polygons ourselves, using our own geojson polygons. We also would like map tiles like the ones provided by mapbox.\n",
    "\n",
    "But first things first. Let's convert our raw file to a python json object for easy handling."
   ]
  },
  {
   "cell_type": "code",
   "execution_count": 10,
   "metadata": {},
   "outputs": [],
   "source": [
    "import json\n",
    "\n",
    "supply_json = json.loads(supply_r.text)"
   ]
  },
  {
   "cell_type": "markdown",
   "metadata": {},
   "source": [
    "Now, if we want to control the coloring for each supply area individually, we need to split the geojson."
   ]
  },
  {
   "cell_type": "code",
   "execution_count": 22,
   "metadata": {},
   "outputs": [],
   "source": [
    "epsa_jsons = []\n",
    "\n",
    "for feature in supply_json['features']:\n",
    "    epsa_json = dict(\n",
    "        type='FeatureCollection',\n",
    "        features=[feature]\n",
    "    )\n",
    "    epsa_jsons.append(epsa_json)"
   ]
  },
  {
   "cell_type": "markdown",
   "metadata": {},
   "source": [
    "With the individual jsons in place, we can now create a layer for each. These layers will then be placed over the mapbox tiles to complete the map. \n",
    "\n",
    "For the moment, the colouring will just cycle through a list of predefined colors, but if the map works out properly, it would be nice to color the supply-areas based on the values of some variable/indicator of the corresponding EPSA. To do this, we need to access the variables/indicators tables using the EPSA code as key.   "
   ]
  },
  {
   "cell_type": "code",
   "execution_count": 31,
   "metadata": {},
   "outputs": [
    {
     "data": {
      "text/plain": [
       "'CAPAG'"
      ]
     },
     "execution_count": 31,
     "metadata": {},
     "output_type": "execute_result"
    }
   ],
   "source": [
    "# Example of accessing the EPSA code through the corresponding geojson.\n",
    "\n",
    "epsa_jsons[0]['features'][0]['properties']['code']"
   ]
  },
  {
   "cell_type": "markdown",
   "metadata": {},
   "source": [
    "We need to define a color array specifying the color of each supply area."
   ]
  },
  {
   "cell_type": "code",
   "execution_count": 48,
   "metadata": {},
   "outputs": [],
   "source": [
    "# colors = ['some_initial_value' for k in epsa_jsons]\n",
    "\n",
    "base_colors = [\n",
    "    'rgb(171, 99, 250)',\n",
    "    'rgb(230, 99, 250)',\n",
    "    'rgb(99, 110, 250)',\n",
    "    'rgb(25, 211, 243)',\n",
    "]\n",
    "\n",
    "# colors = [ej['features'][0]['properties']['code'] for ej in epsa_jsons]\n",
    "colors = [base_colors[k%4] for k in range(len(epsa_jsons))]\n",
    "\n",
    "# for k, epsa_json in enumerate(epsa_jsons):\n",
    "# #     colors[k] = epsa_jsons[k]['features'][0]['properties']['code']\n",
    "#     colors[k] = base_colors[k%4]"
   ]
  },
  {
   "cell_type": "markdown",
   "metadata": {},
   "source": [
    "Now we can create our layers. Each layer is a dictionary of type 'geojson'."
   ]
  },
  {
   "cell_type": "code",
   "execution_count": 46,
   "metadata": {},
   "outputs": [],
   "source": [
    "layers=[dict(\n",
    "    sourcetype = 'geojson',\n",
    "    source = epsa_jsons[k],\n",
    "    below = \"water\",\n",
    "    type = 'fill',   \n",
    "    color = colors[k],\n",
    "    opacity = 0.8\n",
    ") for k in range(len(epsa_jsons))]"
   ]
  },
  {
   "cell_type": "markdown",
   "metadata": {},
   "source": [
    "Good. With our layers properly defined we can start departing from basic python objects and start thinking in terms of plotly and mapbox.\n",
    "\n",
    "Not quite yet! Unfortunately plotly does not offer hover functionality for polygons. But we do want the map to display some information when we are hovering near a supply area. How do we do this?\n",
    "Here's one solution: Plotly does offer hover functionality for points. So, if we can place invisible points inside our polygons, we can add hover functionality for those and it will seem as if the hover functionality would be there for the polygons.\n",
    "\n",
    "If our polygons were convex, we could just take median values and ensure the point will be inside the polygons (and even in the center). But in our case the polygons are not convex, so we need to work around this difficulty. This is the idea:\n",
    "\n",
    "1. Take a polygon and place a bounding rectangle around it. \n",
    "2. Generate random points inside the recatangle.\n",
    "3. Filter those points, that lie inside the polygon.\n",
    "\n",
    "To do this, we used the geometry library 'Shapely' and generated a bunch of points for each polygon. Let's load those points! "
   ]
  },
  {
   "cell_type": "code",
   "execution_count": 51,
   "metadata": {},
   "outputs": [],
   "source": [
    "with open('points.json', encoding='utf8') as f:\n",
    "    points_json = json.load(f)"
   ]
  },
  {
   "cell_type": "markdown",
   "metadata": {},
   "source": [
    "With the points generated, we can create lists of longitudes, latitudes and texts to specify our scattermap."
   ]
  },
  {
   "cell_type": "code",
   "execution_count": 59,
   "metadata": {},
   "outputs": [],
   "source": [
    "p_lats = []\n",
    "p_lons = []\n",
    "p_texts = []\n",
    "\n",
    "for code in list(points_json.keys()):\n",
    "    epsa_p = points_json[code]\n",
    "    n = len(epsa_p['lats'])\n",
    "    p_lats += epsa_p['lats']\n",
    "    p_lons += epsa_p['lons']\n",
    "    p_texts += [epsa_p['text'] for k in range(n)]"
   ]
  },
  {
   "cell_type": "markdown",
   "metadata": {},
   "source": [
    "Great! Now we can fill a scattermapbox layer with these coordinates and specify the corresponding text. Note that we set the opacity of the markers to zero, that way they won't show in the map."
   ]
  },
  {
   "cell_type": "code",
   "execution_count": 69,
   "metadata": {},
   "outputs": [
    {
     "data": {
      "text/plain": [
       "30"
      ]
     },
     "execution_count": 69,
     "metadata": {},
     "output_type": "execute_result"
    }
   ],
   "source": [
    "len(points_json['CAPAG']['lons'])"
   ]
  },
  {
   "cell_type": "code",
   "execution_count": 70,
   "metadata": {},
   "outputs": [],
   "source": [
    "p_colors = []\n",
    "for color in colors:\n",
    "    p_colors += [color for k in range(30)]\n",
    "    \n",
    "\n",
    "scatter_dict = dict(\n",
    "    type = 'scattermapbox',\n",
    "    mode = 'markers',\n",
    "    \n",
    "    lat = p_lats, \n",
    "    lon = p_lons,\n",
    "    text = p_texts,\n",
    "    \n",
    "    marker = dict(\n",
    "        size = 50,\n",
    "        opacity = 0,\n",
    "        color= p_colors\n",
    "    ),\n",
    "    showlegend = False,\n",
    "    hoverinfo = 'text',\n",
    ")"
   ]
  },
  {
   "cell_type": "markdown",
   "metadata": {},
   "source": [
    "Ok, now we should have everything we need. All that's left to do is specify our figure, sign in to plotly and request our map!"
   ]
  },
  {
   "cell_type": "code",
   "execution_count": 71,
   "metadata": {},
   "outputs": [],
   "source": [
    "mapbox_access_token = 'pk.eyJ1Ijoic2VyZ2lvLWNodW1hY2Vyby1maSIsImEiOiJjamswOTUzeHkwMDk0M3dvNnJoeTByZGlpIn0.3mmjpLwDrIUcdJTowlCd1A'\n",
    "\n",
    "layout = dict(\n",
    "    title = 'Áreas de Cobertura de las EPSA Reguladas',\n",
    "    font = dict(family='Balto'),\n",
    "    autosize = False,\n",
    "    width = 1200,\n",
    "    height = 700,\n",
    "    hovermode = 'closest',\n",
    "\n",
    "    mapbox = dict(\n",
    "        accesstoken = mapbox_access_token,\n",
    "        layers = layers,\n",
    "        bearing = 0,\n",
    "        center = dict(\n",
    "            lat = -17.833763, \n",
    "            lon = -65.540431,\n",
    "        ),\n",
    "        pitch = 0,\n",
    "        zoom = 5,\n",
    "        style = 'light'\n",
    "    ) \n",
    ")\n",
    "\n",
    "fig = dict(data=[scatter_dict], layout=layout)"
   ]
  },
  {
   "cell_type": "markdown",
   "metadata": {},
   "source": [
    "Congratulations! Now try adjusting the following improvements:\n",
    "\n",
    "- make the map bigger (done)\n",
    "- make the color of the hover text match the color of the polygon (not working for some reason, I'll probably have to make the color definition dynamic anyways if we want to make a choropleth map.)\n",
    "- extract the code out of the text in the point information and use it to collect specific variable/indicator information to color the polygons accordingly"
   ]
  },
  {
   "cell_type": "code",
   "execution_count": 74,
   "metadata": {},
   "outputs": [
    {
     "name": "stderr",
     "output_type": "stream",
     "text": [
      "c:\\users\\sergio\\projects\\presentations\\muestrario\\venv\\lib\\site-packages\\plotly\\tools.py:1424: UserWarning:\n",
      "\n",
      "Looks like you used a newline character: '\\n'.\n",
      "\n",
      "Plotly uses a subset of HTML escape characters\n",
      "to do things like newline (<br>), bold (<b></b>),\n",
      "italics (<i></i>), etc. Your newline characters \n",
      "have been converted to '<br>' so they will show \n",
      "up right on your Plotly figure!\n",
      "\n"
     ]
    },
    {
     "data": {
      "text/html": [
       "<iframe id=\"igraph\" scrolling=\"no\" style=\"border:none;\" seamless=\"seamless\" src=\"https://plot.ly/~sergiochumacero/49.embed\" height=\"700px\" width=\"1100px\"></iframe>"
      ],
      "text/plain": [
       "<plotly.tools.PlotlyDisplay object>"
      ]
     },
     "execution_count": 74,
     "metadata": {},
     "output_type": "execute_result"
    }
   ],
   "source": [
    "import plotly.plotly as py\n",
    "py.iplot(fig, filename='mapa-coberturas')"
   ]
  },
  {
   "cell_type": "markdown",
   "metadata": {},
   "source": [
    "Ok, now let's try to color the polygons according to some indicator/variable. For this lets pull the data from our REST API and generate a dataframe."
   ]
  },
  {
   "cell_type": "code",
   "execution_count": 80,
   "metadata": {},
   "outputs": [],
   "source": [
    "import requests\n",
    "import pandas as pd\n",
    "\n",
    "measurements_r = requests.get('https://peridash.ml/api/measurements/')\n",
    "epsas_r = requests.get('https://peridash.ml/api/epsas/')\n",
    "\n",
    "measurements_df = pd.read_json(measurements_r.text)\n",
    "epsas_df = pd.read_json(epsas_r.text)\n",
    "\n",
    "df = pd.merge(measurements_df, epsas_df, left_on='epsa', right_on='url')"
   ]
  },
  {
   "cell_type": "code",
   "execution_count": 87,
   "metadata": {},
   "outputs": [
    {
     "data": {
      "text/plain": [
       "81.71"
      ]
     },
     "execution_count": 87,
     "metadata": {},
     "output_type": "execute_result"
    }
   ],
   "source": [
    "val = df[(df.code == 'CAPAG') & (df.year == 2016)].ind8.iloc[0]\n",
    "float(val)"
   ]
  }
 ],
 "metadata": {
  "kernelspec": {
   "display_name": "Python 3",
   "language": "python",
   "name": "python3"
  },
  "language_info": {
   "codemirror_mode": {
    "name": "ipython",
    "version": 3
   },
   "file_extension": ".py",
   "mimetype": "text/x-python",
   "name": "python",
   "nbconvert_exporter": "python",
   "pygments_lexer": "ipython3",
   "version": "3.6.5"
  }
 },
 "nbformat": 4,
 "nbformat_minor": 2
}
