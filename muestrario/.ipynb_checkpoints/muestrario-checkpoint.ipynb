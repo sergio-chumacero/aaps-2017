{
 "cells": [
  {
   "cell_type": "markdown",
   "metadata": {},
   "source": [
    "First off, we import the necessary libraries."
   ]
  },
  {
   "cell_type": "code",
   "execution_count": 16,
   "metadata": {},
   "outputs": [],
   "source": [
    "import plotly.plotly as py # Cloud Interaction with Plotly\n",
    "import plotly.graph_objs as go # Graph objects like tables and plots\n",
    "import plotly.figure_factory as ff # For creating nice looking tables\n",
    "import pandas as pd # For handling our data frames\n",
    "#import numpy as np # For stadistic functions\n",
    "import requests # For making requests to our API"
   ]
  },
  {
   "cell_type": "markdown",
   "metadata": {},
   "source": [
    "Now, we retrieve our data by making calls to our API."
   ]
  },
  {
   "cell_type": "code",
   "execution_count": 7,
   "metadata": {},
   "outputs": [],
   "source": [
    "reports_r = requests.get('https://peridash.ml/api/reports')\n",
    "measurements_r = requests.get('https://peridash.ml/api/measurements')\n",
    "epsas_r = requests.get('https://peridash.ml/api/epsas')"
   ]
  },
  {
   "cell_type": "markdown",
   "metadata": {},
   "source": [
    "With our data retrieved in a JSON format, we can build our Pandas dataframes."
   ]
  },
  {
   "cell_type": "code",
   "execution_count": 8,
   "metadata": {},
   "outputs": [],
   "source": [
    "reports_df = pd.read_json(reports_r.text)\n",
    "measurements_df = pd.read_json(measurements_r.text)\n",
    "epsas_df = pd.read_json(epsas_r.text)"
   ]
  },
  {
   "cell_type": "code",
   "execution_count": 36,
   "metadata": {},
   "outputs": [],
   "source": [
    "variables_r = requests.get('https://peridash.ml/api/variables')\n",
    "indicators_r = requests.get('https://peridash.ml/api/indicators')\n",
    "\n",
    "variables_df = pd.read_json(variables_r.text)\n",
    "indicators_df = pd.read_json(indicators_r.text)"
   ]
  },
  {
   "cell_type": "markdown",
   "metadata": {},
   "source": [
    "The tables need to be merged based on key columns."
   ]
  },
  {
   "cell_type": "code",
   "execution_count": 9,
   "metadata": {},
   "outputs": [],
   "source": [
    "complete_reports_df = pd.merge(reports_df, epsas_df, left_on='epsa', right_on='url')\n",
    "complete_measurements_df = pd.merge(measurements_df, epsas_df, left_on='epsa', right_on='url')"
   ]
  },
  {
   "cell_type": "markdown",
   "metadata": {},
   "source": [
    "Now we can build the final dataframes for display by:\n",
    "- choosing the fields to be displayed\n",
    "- setting their order in the table\n",
    "- filtering the rows based on their values\n",
    "- replacing column values for readability\n",
    "- changing the column names\n",
    "\n",
    "We will also append a row calculating the standard deviation of the variable/indicator values among all rows."
   ]
  },
  {
   "cell_type": "code",
   "execution_count": 10,
   "metadata": {},
   "outputs": [],
   "source": [
    "state_map = {\n",
    "    'LP': 'La Paz',\n",
    "    'SC': 'Santa Cruz',\n",
    "    'PO': 'Potosí',\n",
    "    'BE': 'Beni',\n",
    "    'TA': 'Tarija',\n",
    "    'CH': 'Chuquisaca',\n",
    "    'CO': 'Cochabamba',\n",
    "    'OR': 'Oruro',\n",
    "    'PA': 'Pando',\n",
    "}\n",
    "\n",
    "r_df_cols1 = ['code', 'category', 'state', 'year', 'v1', 'v2', 'v3']\n",
    "r_df_cols2 = ['sigla', 'categoría', 'departamento', 'año', 'v1', 'v2', 'v3']\n",
    "\n",
    "r_df = complete_reports_df.filter(items=r_df_cols1)\n",
    "r_df = r_df[(r_df.category == 'B') & (r_df.year == 2016)]\n",
    "r_df['state'] = r_df['state'].map(state_map)\n",
    "\n",
    "r_avg_row = ['PROMEDIO', '-', '-', 0, r_df.v1.mean(), r_df.v2.mean(), r_df.v3.mean()]\n",
    "r_std_row = ['DESVIACIÓN ESTÁNDAR', '-', '-', 0, r_df.v1.std(), r_df.v2.std(), r_df.v3.std()]\n",
    "r_extra_rows = pd.DataFrame([r_avg_row, r_std_row], columns=r_df_cols1)\n",
    "r_df = r_df.append(r_extra_rows)\n",
    "r_df.columns = r_df_cols2\n",
    "\n",
    "\n",
    "m_df_cols1 = ['code', 'category', 'state', 'year', 'ind1', 'ind2', 'ind3']\n",
    "m_df_cols2 = ['sigla', 'categoría', 'departamento', 'año', 'ind1', 'ind2', 'ind3']\n",
    "\n",
    "m_df = complete_measurements_df.filter(items=m_df_cols1)\n",
    "m_df = m_df[(m_df.state == 'SC') & (m_df.year == 2016)]\n",
    "m_df['state'] = m_df['state'].map(state_map)\n",
    "\n",
    "m_avg_row = ['PROMEDIO', '-', '-', 0, m_df.ind1.mean(), m_df.ind2.mean(), m_df.ind3.mean()]\n",
    "m_std_row = ['DESVIACÍON ESTÁNDAR', '-', '-', 0, m_df.ind1.std(), m_df.ind2.std(), m_df.ind3.std()]\n",
    "m_extra_rows = pd.DataFrame([m_avg_row, m_std_row], columns=m_df_cols1)\n",
    "m_df = m_df.append(m_extra_rows)\n",
    "m_df.columns = m_df_cols2"
   ]
  },
  {
   "cell_type": "markdown",
   "metadata": {},
   "source": [
    "Finally we can create our tables using figure factory."
   ]
  },
  {
   "cell_type": "code",
   "execution_count": 11,
   "metadata": {},
   "outputs": [],
   "source": [
    "reports_table = ff.create_table(r_df)\n",
    "measurements_table = ff.create_table(m_df)"
   ]
  },
  {
   "cell_type": "markdown",
   "metadata": {},
   "source": [
    "And pass them to plotly for rendering."
   ]
  },
  {
   "cell_type": "code",
   "execution_count": 12,
   "metadata": {},
   "outputs": [
    {
     "data": {
      "text/html": [
       "<iframe id=\"igraph\" scrolling=\"no\" style=\"border:none;\" seamless=\"seamless\" src=\"https://plot.ly/~sergiochumacero/12.embed\" height=\"680px\" width=\"100%\"></iframe>"
      ],
      "text/plain": [
       "<plotly.tools.PlotlyDisplay object>"
      ]
     },
     "execution_count": 12,
     "metadata": {},
     "output_type": "execute_result"
    }
   ],
   "source": [
    "py.iplot(reports_table, filename='reports_table')"
   ]
  },
  {
   "cell_type": "code",
   "execution_count": 13,
   "metadata": {},
   "outputs": [
    {
     "data": {
      "text/html": [
       "<iframe id=\"igraph\" scrolling=\"no\" style=\"border:none;\" seamless=\"seamless\" src=\"https://plot.ly/~sergiochumacero/14.embed\" height=\"1130px\" width=\"100%\"></iframe>"
      ],
      "text/plain": [
       "<plotly.tools.PlotlyDisplay object>"
      ]
     },
     "execution_count": 13,
     "metadata": {},
     "output_type": "execute_result"
    }
   ],
   "source": [
    "py.iplot(measurements_table, filename='measurements_table')"
   ]
  },
  {
   "cell_type": "markdown",
   "metadata": {},
   "source": [
    "$$ \n",
    "\\begin{equation} \\label{eq1}\n",
    "\\begin{split}\n",
    "ind1 &= \\frac{V_1}{V_8} \\cdot 365 \\cdot 24 \\cdot 100 \\\\\n",
    "ind2 &= \\frac{V_6}{V_1} \\cdot 100 \\\\\n",
    "ind3 &= \\frac{V_{12}}{V_{13}} \\cdot 100 \\\\\n",
    "ind4 &= \\frac{V_{14}}{V_{15}} \\cdot 100 \\\\\n",
    "ind5 &= \\frac{V_4 \\cdot 1000}{V_{18} \\cdot V_{21} \\cdot 365} \\\\\n",
    "ind6 &= (1-\\frac{V_{28}}{V_{27}\\cdot V_{18}}) \\cdot 24\\\\\n",
    "ind7 &= (1-\\frac{V_{29}}{V_{27}\\cdot V_{18}}) \\cdot 100\\\\\n",
    "ind8 &= \\frac{V_{18}\\cdot V_{21}}{V_{23}} \\cdot 100 \\\\\n",
    "ind9 &= \\frac{V_{19}\\cdot V_{22}}{V_{23}} \\cdot 100 \\\\\n",
    "ind10 &= \\frac{V_{20}}{V_{18}} \\cdot 100\\\\\n",
    "ind11 &= \\frac{V_3}{V_9 \\cdot 24 \\cdot 365} \\cdot 100 \\\\\n",
    "ind12 &= \\frac{V_7 \\cdot 10}{V_6 \\cdot 8} \\cdot 100 \\\\\n",
    "ind13 &= \\frac{V_{16}}{V_{17}} \\cdot 100 \\\\\n",
    "ind14 &= \\frac{V_5}{V_{10} \\cdot 24 \\cdot 365} \\cdot 100 \\\\\n",
    "ind15 &= \\frac{V_7}{V_{11} \\cdot 24 \\cdot 365} \\cdot 100 \\\\\n",
    "ind16 &= \\frac{V_{45}}{V_{46}} \\cdot 100 \\\\\n",
    "ind17 &= (1 - \\frac{V_4}{V_1}) \\cdot 100 \\\\\n",
    "ind18 &= (1 - \\frac{V_6}{V_4}) \\cdot 100 \\\\\n",
    "ind19 &= \\frac{V_{47}}{V_{49}} * 100 \\\\\n",
    "ind20 &= \\frac{V_{48}}{V_{18}} \\cdot 1000 \\\\\n",
    "ind21 &= \\frac{V_{50}}{V_{52}} \\cdot 100 \\\\\n",
    "ind22 &= \\frac{V_{51}}{V_{19}} \\cdot 1000 \\\\\n",
    "ind23 &= \\frac{V_{37}}{V_{35}} \\cdot 100 \\\\\n",
    "ind24 &= \\frac{V_{30}}{V_{33}} \\\\\n",
    "ind25 &= (1 - \\frac{V_{32}}{V_{37}}) \\cdot 100 \\\\\n",
    "ind26 &=  \\frac{V_{33}+V_{34}}{V_3} \\cdot 100 \\\\\n",
    "ind27 &= \\frac{V_{36}}{V_6} \\\\\n",
    "ind28 &= \\frac{V_{38}}{V_6} \\\\\n",
    "ind29 &= \\frac{V_{39}}{V_{40}} \\cdot 100 \\\\\n",
    "ind30 &= \\frac{V_{41}}{V_{42}} \\cdot 100 \\\\\n",
    "ind31 &= \\frac{V_{42}}{V_{18}} \\cdot 1000 \\\\\n",
    "ind32 &= \\frac{V_{43}}{V_{44}} * 100 \\\\\n",
    "\\end{split}\n",
    "\\end{equation}\n",
    "$$"
   ]
  },
  {
   "cell_type": "markdown",
   "metadata": {},
   "source": [
    "Let's try to use plotly tables instead of figure factory tables.\n",
    "These tables have the advantage of allowing for user interaction like switching columns.\n",
    "They also allow for more configuration."
   ]
  },
  {
   "cell_type": "code",
   "execution_count": 31,
   "metadata": {},
   "outputs": [],
   "source": [
    "r_trace = go.Table(\n",
    "    header=dict(values=list(r_df.columns),\n",
    "                line = dict(color='#8C8E8F'),\n",
    "                fill = dict(color='#a1c3d1'),\n",
    "                align = ['left'] * 5),\n",
    "    cells=dict(values=[r_df['sigla'],r_df['categoría'], r_df['departamento'], r_df['año'], r_df['v1'], r_df['v2'], r_df['v3']],\n",
    "               line = dict(color='#7D7F80'),\n",
    "               fill = dict(color='#EDFAFF'),\n",
    "               align = ['left'] * 5))\n",
    "\n",
    "r_data = [r_trace] \n",
    "\n",
    "m_trace = go.Table(\n",
    "    header=dict(values=list(m_df.columns),\n",
    "                line = dict(color='#8C8E8F'),\n",
    "                fill = dict(color='#a1c3d1'),\n",
    "                align = ['left'] * 5),\n",
    "    cells=dict(values=[m_df['sigla'],m_df['categoría'], m_df['departamento'], m_df['año'], m_df['ind1'], m_df['ind2'], m_df['ind3']],\n",
    "               line = dict(color='#7D7F80'),\n",
    "               fill = dict(color='#EDFAFF'),\n",
    "               align = ['left'] * 5))\n",
    "\n",
    "m_data = [m_trace] "
   ]
  },
  {
   "cell_type": "code",
   "execution_count": 30,
   "metadata": {},
   "outputs": [
    {
     "data": {
      "text/html": [
       "<iframe id=\"igraph\" scrolling=\"no\" style=\"border:none;\" seamless=\"seamless\" src=\"https://plot.ly/~sergiochumacero/18.embed\" height=\"525px\" width=\"100%\"></iframe>"
      ],
      "text/plain": [
       "<plotly.tools.PlotlyDisplay object>"
      ]
     },
     "execution_count": 30,
     "metadata": {},
     "output_type": "execute_result"
    }
   ],
   "source": [
    "py.iplot(r_data, filename = 'reports_py_table')"
   ]
  },
  {
   "cell_type": "code",
   "execution_count": 32,
   "metadata": {},
   "outputs": [
    {
     "data": {
      "text/html": [
       "<iframe id=\"igraph\" scrolling=\"no\" style=\"border:none;\" seamless=\"seamless\" src=\"https://plot.ly/~sergiochumacero/20.embed\" height=\"525px\" width=\"100%\"></iframe>"
      ],
      "text/plain": [
       "<plotly.tools.PlotlyDisplay object>"
      ]
     },
     "execution_count": 32,
     "metadata": {},
     "output_type": "execute_result"
    }
   ],
   "source": [
    "py.iplot(m_data, filename = 'measurements_py_table')"
   ]
  },
  {
   "cell_type": "markdown",
   "metadata": {},
   "source": [
    "Let's try to recreate the plots from <a href=\"https://peridash.ml/\">the live dash site</a>."
   ]
  },
  {
   "cell_type": "markdown",
   "metadata": {},
   "source": [
    "Like the scatter plot:"
   ]
  },
  {
   "cell_type": "code",
   "execution_count": 55,
   "metadata": {},
   "outputs": [
    {
     "data": {
      "text/html": [
       "<iframe id=\"igraph\" scrolling=\"no\" style=\"border:none;\" seamless=\"seamless\" src=\"https://plot.ly/~sergiochumacero/22.embed\" height=\"525px\" width=\"100%\"></iframe>"
      ],
      "text/plain": [
       "<plotly.tools.PlotlyDisplay object>"
      ]
     },
     "execution_count": 55,
     "metadata": {},
     "output_type": "execute_result"
    }
   ],
   "source": [
    "year_df = complete_reports_df[complete_reports_df.year == 2016]\n",
    "#year_df2 = complete_measurements_df[complete_measurements_df.year == 2016]\n",
    "\n",
    "traces = []\n",
    "\n",
    "first_var_id = 3\n",
    "second_var_id = 22\n",
    "\n",
    "for category in ['A', 'B', 'C', 'D']:\n",
    "    cat_df = year_df[year_df.category == category]\n",
    "    #cat_df2 = year_df2[year_df2.category == category]\n",
    "    \n",
    "    x_list = cat_df['v' + str(first_var_id)]\n",
    "    x_label = vdf[vdf.var_id == first_var_id]['name'].values[0]\n",
    "    x_unit = vdf[vdf.var_id == first_var_id]['unit'].values[0]\n",
    "    \n",
    "    y_list = cat_df['v' + str(second_var_id)]\n",
    "    y_label = vdf[vdf.var_id == second_var_id]['name'].values[0]\n",
    "    y_unit = vdf[vdf.var_id == second_var_id]['unit'].values[0]\n",
    "\n",
    "    scatter = go.Scatter(\n",
    "        x=x_list, y=y_list,\n",
    "        text=cat_df.code,\n",
    "        mode='markers',\n",
    "        marker=dict(\n",
    "            size=15,\n",
    "            line=dict(width=0.5, color='white')\n",
    "        ),\n",
    "        opacity=0.7,\n",
    "        name=f'Categoría {category}'\n",
    "    )\n",
    "    \n",
    "    traces.append(scatter)\n",
    "    \n",
    "py.iplot(traces, filename='variables_scatter_plot')"
   ]
  },
  {
   "cell_type": "markdown",
   "metadata": {},
   "source": [
    "or the bar diagram:"
   ]
  },
  {
   "cell_type": "code",
   "execution_count": 61,
   "metadata": {},
   "outputs": [
    {
     "name": "stderr",
     "output_type": "stream",
     "text": [
      "c:\\users\\sergio\\projects\\presentations\\muestrario\\venv\\lib\\site-packages\\ipykernel_launcher.py:60: UserWarning:\n",
      "\n",
      "Boolean Series key will be reindexed to match DataFrame index.\n",
      "\n"
     ]
    },
    {
     "ename": "IndexingError",
     "evalue": "Unalignable boolean Series provided as indexer (index of the boolean Series and of the indexed object do not match",
     "output_type": "error",
     "traceback": [
      "\u001b[1;31m---------------------------------------------------------------------------\u001b[0m",
      "\u001b[1;31mIndexingError\u001b[0m                             Traceback (most recent call last)",
      "\u001b[1;32m<ipython-input-61-0f40023be98e>\u001b[0m in \u001b[0;36m<module>\u001b[1;34m()\u001b[0m\n\u001b[0;32m     67\u001b[0m         \u001b[0mopacity\u001b[0m\u001b[1;33m=\u001b[0m\u001b[1;36m0.8\u001b[0m\u001b[1;33m,\u001b[0m\u001b[1;33m\u001b[0m\u001b[0m\n\u001b[0;32m     68\u001b[0m     ) for var in selected_vars\n\u001b[1;32m---> 69\u001b[1;33m \u001b[1;33m]\u001b[0m \u001b[1;33m+\u001b[0m \u001b[1;33m[\u001b[0m\u001b[1;33m\u001b[0m\u001b[0m\n\u001b[0m\u001b[0;32m     70\u001b[0m     go.Bar(\n\u001b[0;32m     71\u001b[0m         \u001b[0mx\u001b[0m\u001b[1;33m=\u001b[0m\u001b[0mselected_epsa\u001b[0m\u001b[1;33m,\u001b[0m\u001b[1;33m\u001b[0m\u001b[0m\n",
      "\u001b[1;32m<ipython-input-61-0f40023be98e>\u001b[0m in \u001b[0;36m<listcomp>\u001b[1;34m(.0)\u001b[0m\n\u001b[0;32m     58\u001b[0m         \u001b[0mname\u001b[0m\u001b[1;33m=\u001b[0m\u001b[1;34mf'{get_var_name(var)} ({get_var_unit(var)})'\u001b[0m\u001b[1;33m,\u001b[0m\u001b[1;33m\u001b[0m\u001b[0m\n\u001b[0;32m     59\u001b[0m         \u001b[0mopacity\u001b[0m\u001b[1;33m=\u001b[0m\u001b[1;36m0.8\u001b[0m\u001b[1;33m\u001b[0m\u001b[0m\n\u001b[1;32m---> 60\u001b[1;33m     ) for var in selected_vars\n\u001b[0m\u001b[0;32m     61\u001b[0m \u001b[1;33m]\u001b[0m \u001b[1;33m+\u001b[0m \u001b[1;33m[\u001b[0m\u001b[1;33m\u001b[0m\u001b[0m\n\u001b[0;32m     62\u001b[0m     go.Bar(\n",
      "\u001b[1;32mc:\\users\\sergio\\projects\\presentations\\muestrario\\venv\\lib\\site-packages\\pandas\\core\\frame.py\u001b[0m in \u001b[0;36m__getitem__\u001b[1;34m(self, key)\u001b[0m\n\u001b[0;32m   2680\u001b[0m         \u001b[1;32mif\u001b[0m \u001b[0misinstance\u001b[0m\u001b[1;33m(\u001b[0m\u001b[0mkey\u001b[0m\u001b[1;33m,\u001b[0m \u001b[1;33m(\u001b[0m\u001b[0mSeries\u001b[0m\u001b[1;33m,\u001b[0m \u001b[0mnp\u001b[0m\u001b[1;33m.\u001b[0m\u001b[0mndarray\u001b[0m\u001b[1;33m,\u001b[0m \u001b[0mIndex\u001b[0m\u001b[1;33m,\u001b[0m \u001b[0mlist\u001b[0m\u001b[1;33m)\u001b[0m\u001b[1;33m)\u001b[0m\u001b[1;33m:\u001b[0m\u001b[1;33m\u001b[0m\u001b[0m\n\u001b[0;32m   2681\u001b[0m             \u001b[1;31m# either boolean or fancy integer index\u001b[0m\u001b[1;33m\u001b[0m\u001b[1;33m\u001b[0m\u001b[0m\n\u001b[1;32m-> 2682\u001b[1;33m             \u001b[1;32mreturn\u001b[0m \u001b[0mself\u001b[0m\u001b[1;33m.\u001b[0m\u001b[0m_getitem_array\u001b[0m\u001b[1;33m(\u001b[0m\u001b[0mkey\u001b[0m\u001b[1;33m)\u001b[0m\u001b[1;33m\u001b[0m\u001b[0m\n\u001b[0m\u001b[0;32m   2683\u001b[0m         \u001b[1;32melif\u001b[0m \u001b[0misinstance\u001b[0m\u001b[1;33m(\u001b[0m\u001b[0mkey\u001b[0m\u001b[1;33m,\u001b[0m \u001b[0mDataFrame\u001b[0m\u001b[1;33m)\u001b[0m\u001b[1;33m:\u001b[0m\u001b[1;33m\u001b[0m\u001b[0m\n\u001b[0;32m   2684\u001b[0m             \u001b[1;32mreturn\u001b[0m \u001b[0mself\u001b[0m\u001b[1;33m.\u001b[0m\u001b[0m_getitem_frame\u001b[0m\u001b[1;33m(\u001b[0m\u001b[0mkey\u001b[0m\u001b[1;33m)\u001b[0m\u001b[1;33m\u001b[0m\u001b[0m\n",
      "\u001b[1;32mc:\\users\\sergio\\projects\\presentations\\muestrario\\venv\\lib\\site-packages\\pandas\\core\\frame.py\u001b[0m in \u001b[0;36m_getitem_array\u001b[1;34m(self, key)\u001b[0m\n\u001b[0;32m   2720\u001b[0m             \u001b[1;31m# check_bool_indexer will throw exception if Series key cannot\u001b[0m\u001b[1;33m\u001b[0m\u001b[1;33m\u001b[0m\u001b[0m\n\u001b[0;32m   2721\u001b[0m             \u001b[1;31m# be reindexed to match DataFrame rows\u001b[0m\u001b[1;33m\u001b[0m\u001b[1;33m\u001b[0m\u001b[0m\n\u001b[1;32m-> 2722\u001b[1;33m             \u001b[0mkey\u001b[0m \u001b[1;33m=\u001b[0m \u001b[0mcheck_bool_indexer\u001b[0m\u001b[1;33m(\u001b[0m\u001b[0mself\u001b[0m\u001b[1;33m.\u001b[0m\u001b[0mindex\u001b[0m\u001b[1;33m,\u001b[0m \u001b[0mkey\u001b[0m\u001b[1;33m)\u001b[0m\u001b[1;33m\u001b[0m\u001b[0m\n\u001b[0m\u001b[0;32m   2723\u001b[0m             \u001b[0mindexer\u001b[0m \u001b[1;33m=\u001b[0m \u001b[0mkey\u001b[0m\u001b[1;33m.\u001b[0m\u001b[0mnonzero\u001b[0m\u001b[1;33m(\u001b[0m\u001b[1;33m)\u001b[0m\u001b[1;33m[\u001b[0m\u001b[1;36m0\u001b[0m\u001b[1;33m]\u001b[0m\u001b[1;33m\u001b[0m\u001b[0m\n\u001b[0;32m   2724\u001b[0m             \u001b[1;32mreturn\u001b[0m \u001b[0mself\u001b[0m\u001b[1;33m.\u001b[0m\u001b[0m_take\u001b[0m\u001b[1;33m(\u001b[0m\u001b[0mindexer\u001b[0m\u001b[1;33m,\u001b[0m \u001b[0maxis\u001b[0m\u001b[1;33m=\u001b[0m\u001b[1;36m0\u001b[0m\u001b[1;33m)\u001b[0m\u001b[1;33m\u001b[0m\u001b[0m\n",
      "\u001b[1;32mc:\\users\\sergio\\projects\\presentations\\muestrario\\venv\\lib\\site-packages\\pandas\\core\\indexing.py\u001b[0m in \u001b[0;36mcheck_bool_indexer\u001b[1;34m(ax, key)\u001b[0m\n\u001b[0;32m   2354\u001b[0m         \u001b[0mmask\u001b[0m \u001b[1;33m=\u001b[0m \u001b[0misna\u001b[0m\u001b[1;33m(\u001b[0m\u001b[0mresult\u001b[0m\u001b[1;33m.\u001b[0m\u001b[0m_values\u001b[0m\u001b[1;33m)\u001b[0m\u001b[1;33m\u001b[0m\u001b[0m\n\u001b[0;32m   2355\u001b[0m         \u001b[1;32mif\u001b[0m \u001b[0mmask\u001b[0m\u001b[1;33m.\u001b[0m\u001b[0many\u001b[0m\u001b[1;33m(\u001b[0m\u001b[1;33m)\u001b[0m\u001b[1;33m:\u001b[0m\u001b[1;33m\u001b[0m\u001b[0m\n\u001b[1;32m-> 2356\u001b[1;33m             raise IndexingError('Unalignable boolean Series provided as '\n\u001b[0m\u001b[0;32m   2357\u001b[0m                                 \u001b[1;34m'indexer (index of the boolean Series and of '\u001b[0m\u001b[1;33m\u001b[0m\u001b[0m\n\u001b[0;32m   2358\u001b[0m                                 'the indexed object do not match')\n",
      "\u001b[1;31mIndexingError\u001b[0m: Unalignable boolean Series provided as indexer (index of the boolean Series and of the indexed object do not match"
     ]
    }
   ],
   "source": [
    "selected_epsa =  epsas_df.code\n",
    "ydf14 = complete_reports_df[complete_reports_df.year == 2014]\n",
    "ydf15 = complete_reports_df[complete_reports_df.year == 2015]\n",
    "ydf16 = complete_reports_df[complete_reports_df.year == 2016]\n",
    "\n",
    "ydf2 = complete_measurements_df[complete_measurements_df.year == 2016]\n",
    "selected_vars = ['v1']\n",
    "selected_inds = ['ind1']\n",
    "\n",
    "def get_var_name(var):\n",
    "    return vdf[vdf.var_id == int(var[1:])]['name'].values[0]\n",
    "\n",
    "def get_var_unit(var):\n",
    "    return vdf[vdf.var_id == int(var[1:])]['unit'].values[0]\n",
    "\n",
    "def get_ind_name(ind):\n",
    "    return ind_names[int(ind[3:])]\n",
    "\n",
    "def get_ind_unit(ind):\n",
    "    return ind_units[int(ind[3:])]\n",
    "\n",
    "ind_names = [\n",
    "    'Rendimiento actual de la fuente', 'Uso eficiente del recurso',\n",
    "    'Cobertura de muestras de agua potable',\n",
    "    'Conformidad de los análisis de agua potable realizados',\n",
    "    'Dotación', 'Continuidad por racionamiento', 'Continuidad por corte',\n",
    "    'Cobertura del servicio de agua potable',\n",
    "    'Cobertura del servicio de alcantarillado sanitario',\n",
    "    'Cobertura de micromedición',\n",
    "    'Incidencia extracción de agua cruda subterránea ',\n",
    "    'Índice de tratamiento de agua residual', 'Control de agua residual',\n",
    "    'Capacidad instalada de planta de tratamiento de agua potable',\n",
    "    'Capacidad instalada de planta de tratamiento de agua residual ',\n",
    "    'Presión del servicio de agua potable',\n",
    "    'Índice de agua no contabilizada en producción',\n",
    "    'Índice de agua no contabilizada en la red',\n",
    "    'Densidad de fallas en tuberías de agua potable',\n",
    "    'Densidad de fallas en conexiones de agua potable',\n",
    "    'Densidad de fallas en tuberías de agua residual',\n",
    "    'Densidad de fallas en conexiones de agua residual',\n",
    "    'Índice de operación eficiente', 'Prueba ácida',\n",
    "    'Eficiencia de recaudación', 'Índice de endeudamiento total', 'Tarifa media',\n",
    "    'Costo unitario de operación', 'Índice de ejecución de inversiones',\n",
    "    'Personal calificado', 'Número de empleados por cada 1000 conexiones',\n",
    "    'Atención de reclamos'\n",
    "]\n",
    "ind_units = ['%', '%', '%', '%', 'l/hab/día', 'hr/día', '%', '%', '%', '%',\n",
    "             '%', '%', '%', '%', '%', '%', '%', '%', 'fallas/100km',\n",
    "             'fallas/1000conex.', 'fallas/100km', 'fallas/1000conex.', '%', '-',\n",
    "             '%', '%', '%CUO(Bs.)', '%TM(Bs.)', '%', '%', 'empleados/1000conex.', '%']\n",
    "\n",
    "\n",
    "data=[\n",
    "    go.Bar(\n",
    "        x=selected_epsa,\n",
    "        y=ydf14[ydf.code.isin(selected_epsa)][var],\n",
    "        text=var,\n",
    "        name=f'{get_var_name(var)} ({get_var_unit(var)})',\n",
    "        opacity=0.8\n",
    "    ) for var in selected_vars\n",
    "] + [\n",
    "    go.Bar(\n",
    "        x=selected_epsa,\n",
    "        y=ydf15[ydf2.code.isin(selected_epsa)][var],\n",
    "        text=var,\n",
    "        name=f'{get_ind_name(ind)} ({get_ind_unit(ind)})',\n",
    "        opacity=0.8,\n",
    "    ) for var in selected_vars\n",
    "]\n",
    "\n",
    "\n",
    "py.iplot(data, filename='bar_plot')"
   ]
  },
  {
   "cell_type": "markdown",
   "metadata": {},
   "source": [
    "Now we can create a plotly dashboard programmatically and publish it to the cloud."
   ]
  },
  {
   "cell_type": "code",
   "execution_count": 51,
   "metadata": {},
   "outputs": [
    {
     "data": {
      "text/plain": [
       "'https://plot.ly/~sergiochumacero/17/muestrario-aaps/'"
      ]
     },
     "execution_count": 51,
     "metadata": {},
     "output_type": "execute_result"
    }
   ],
   "source": [
    "import plotly.dashboard_objs as dashboard\n",
    "\n",
    "import IPython.display\n",
    "from IPython.display import Image\n",
    "\n",
    "my_dboard = dashboard.Dashboard()\n",
    "\n",
    "my_dboard['settings']['title'] = 'Muestrario AAPS'\n",
    "my_dboard['settings']['logoUrl'] = 'https://images.plot.ly/language-icons/api-home/python-logo.png'\n",
    "var_scatter_box = {\n",
    "    'type': 'box',\n",
    "    'boxType': 'plot',\n",
    "    'fileId': 'sergiochumacero:22',\n",
    "    'shareKey': None,\n",
    "    'title': 'Tabla de Variables'\n",
    "}\n",
    "\n",
    "reports_table_box = {\n",
    "    'type': 'box',\n",
    "    'boxType': 'plot',\n",
    "    'fileId': 'sergiochumacero:18',\n",
    "    'shareKey': None,\n",
    "    'title': 'Tabla de Variables'\n",
    "}\n",
    "\n",
    "measurements_table_box = {\n",
    "    'type': 'box',\n",
    "    'boxType': 'plot',\n",
    "    'fileId': 'sergiochumacero:20',\n",
    "    'shareKey': None,\n",
    "    'title': 'Tabla de Indicadores'\n",
    "}\n",
    "\n",
    "my_dboard.insert(var_scatter_box)\n",
    "my_dboard.insert(reports_table_box, 'below', 1)\n",
    "my_dboard.insert(measurements_table_box, 'below', 2)\n",
    "# my_dboard.get_preview()\n",
    "\n",
    "my_dboard['settings']['links'] = []\n",
    "my_dboard['settings']['links'].append({'title': 'Link al portal Peridash', 'url': 'https://peridash.ml/'})\n",
    "my_dboard['settings']['links'].append({'title': 'Link al portal de la AAPS ', 'url': 'http://http://www.aaps.gob.bo/'})\n",
    "\n",
    "# my_dboard['settings']['foregroundColor'] = '#000000'\n",
    "# my_dboard['settings']['backgroundColor'] = '#adcaea'\n",
    "# my_dboard['settings']['headerForegroundColor'] = '#ffffff'\n",
    "# my_dboard['settings']['headerBackgroundColor'] = '#D232C8'\n",
    "# my_dboard['settings']['boxBackgroundColor'] = '#ffffff'\n",
    "# my_dboard['settings']['boxBorderColor'] = '#000000'\n",
    "# my_dboard['settings']['boxHeaderBackgroundColor'] = '#ffffff'\n",
    "\n",
    "py.dashboard_ops.upload(my_dboard, 'My First Dashboard with Python')"
   ]
  }
 ],
 "metadata": {
  "kernelspec": {
   "display_name": "Python 3",
   "language": "python",
   "name": "python3"
  },
  "language_info": {
   "codemirror_mode": {
    "name": "ipython",
    "version": 3
   },
   "file_extension": ".py",
   "mimetype": "text/x-python",
   "name": "python",
   "nbconvert_exporter": "python",
   "pygments_lexer": "ipython3",
   "version": "3.6.5"
  }
 },
 "nbformat": 4,
 "nbformat_minor": 2
}
