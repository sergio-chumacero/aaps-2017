{
 "cells": [
  {
   "cell_type": "markdown",
   "metadata": {},
   "source": [
    "# EPSA Animated Plot\n",
    "\n",
    "Let's work on creating our animated scatter plot.\n",
    "\n",
    "The idea is to add a slider for the years to the scatter plot as well as 'stop/start' buttons together with smooth transitions of the dots resulting in a powerful animation showing the development of the EPSA over the years with respect to two indicators/variables. In the process we may add a third dimension in the form of the size of the dots corresponding to a different meassurement. Let's also don't forget the color of the dots will correspond to the category of the EPSA.\n",
    "\n",
    "#### Plotly Offline\n",
    "\n",
    "The use of plotly's servers is limited both by the hour and the day, based on number of requests, so it is better to work offline to generate the code and once you are satisfied with the results, commit them to the cloud. To do this is necessary to import a couple packages from **plotly.offline**."
   ]
  },
  {
   "cell_type": "code",
   "execution_count": 6,
   "metadata": {},
   "outputs": [
    {
     "name": "stdout",
     "output_type": "stream",
     "text": [
      "3.1.1\n"
     ]
    },
    {
     "data": {
      "text/html": [
       "<script>requirejs.config({paths: { 'plotly': ['https://cdn.plot.ly/plotly-latest.min']},});if(!window.Plotly) {{require(['plotly'],function(plotly) {window.Plotly=plotly;});}}</script>"
      ],
      "text/vnd.plotly.v1+html": [
       "<script>requirejs.config({paths: { 'plotly': ['https://cdn.plot.ly/plotly-latest.min']},});if(!window.Plotly) {{require(['plotly'],function(plotly) {window.Plotly=plotly;});}}</script>"
      ]
     },
     "metadata": {},
     "output_type": "display_data"
    }
   ],
   "source": [
    "from plotly import __version__\n",
    "from plotly.offline import download_plotlyjs, init_notebook_mode, plot, iplot\n",
    "import plotly.graph_objs as go\n",
    "\n",
    "print (__version__) # requires version >= 1.9.0\n",
    "\n",
    "init_notebook_mode(connected=True)\n",
    "# iplot([{\"x\": [1, 2, 3], \"y\": [3, 1, 6]}])"
   ]
  },
  {
   "cell_type": "markdown",
   "metadata": {},
   "source": [
    "#### Collecting the Data\n",
    "\n",
    "As always, we should start by getting our data ready for usage.\n",
    "In this case, this process involves retrieving the data from our API and building the dataframes."
   ]
  },
  {
   "cell_type": "code",
   "execution_count": 7,
   "metadata": {},
   "outputs": [],
   "source": [
    "import requests\n",
    "import pandas as pd\n",
    "\n",
    "# API requests\n",
    "reports_r = requests.get('https://peridash.ml/api/reports')\n",
    "measurements_r = requests.get('https://peridash.ml/api/measurements')\n",
    "epsas_r = requests.get('https://peridash.ml/api/epsas')\n",
    "\n",
    "# Builiding the Dataframes\n",
    "reports_df = pd.read_json(reports_r.text)\n",
    "measurements_df = pd.read_json(measurements_r.text)\n",
    "epsas_df = pd.read_json(epsas_r.text)\n",
    "\n",
    "# Merging the Tables\n",
    "complete_reports_df = pd.merge(reports_df, epsas_df, left_on='epsa', right_on='url')\n",
    "complete_measurements_df = pd.merge(measurements_df, epsas_df, left_on='epsa', right_on='url')"
   ]
  },
  {
   "cell_type": "markdown",
   "metadata": {},
   "source": [
    "#### Crating the Grid\n",
    "\n",
    "Next, we should create the **Plotly Grid** that will feed our animated plot. A plotly grid consists of multiple columns with unique headers. It's basically a simple way to organize lists of values for usage. The structure of the headers is important, as these will be used to access the columns later on.\n",
    "\n",
    "**Note**: As it turns out Grid only works with plotly online, also icreate_animations is not a part of plotly.offline. So for offline animations we have to use a work-around using pandas for feeding the data and use iplot instead."
   ]
  },
  {
   "cell_type": "code",
   "execution_count": 8,
   "metadata": {},
   "outputs": [],
   "source": [
    "from plotly.grid_objs import Grid, Column\n",
    "\n",
    "years = ['2014', '2015', '2016',]\n",
    "categories = ['A', 'B', 'C', 'D']\n",
    "variables = ['v3', 'v7', 'v22']\n",
    "\n",
    "df = complete_reports_df\n",
    "\n",
    "columns = []\n",
    "\n",
    "for year in years:\n",
    "    for category in categories:\n",
    "        filtered_df = df[(df.year == int(year)) & (df.category == category)]\n",
    "        \n",
    "        for var in variables:\n",
    "            column_name = f'{year}_{category}_{var}'\n",
    "            column_data = list(filtered_df[var])\n",
    "            column = Column(column_data, column_name)\n",
    "            columns.append(column)\n",
    "        \n",
    "grid = Grid(columns)"
   ]
  },
  {
   "cell_type": "markdown",
   "metadata": {},
   "source": [
    "#### Creating the Figure\n",
    "\n",
    "With the grid in place, it's time to define the figure that will be used for generating the plot. Plotly is *declarative* in nature, which basically means that all we need to do is specify what we want, feed the data and let plotly work its magic. Tools of the declarative type have the advantage of being very high level, thus doing a lot of work for us, but for this to happen we have to familiarize ourselves with the specifics of the system at hand in contrast to lower level tools which allow for more flexibility.\n",
    "\n",
    "The basic structure of the a figure is the following:"
   ]
  },
  {
   "cell_type": "code",
   "execution_count": 29,
   "metadata": {},
   "outputs": [],
   "source": [
    "figure = {\n",
    "    'data': [],\n",
    "    'frames': [],\n",
    "    'layout': {},\n",
    "}"
   ]
  },
  {
   "cell_type": "markdown",
   "metadata": {},
   "source": [
    "A figure is a dictionary where:\n",
    "\n",
    "The key **data** is a list of dictionaries with references to the values for the x and y dimensions. It also contains information about the type of the data (in our case 'markers') as well as some styling information."
   ]
  },
  {
   "cell_type": "code",
   "execution_count": 30,
   "metadata": {},
   "outputs": [],
   "source": [
    "custom_colors = {\n",
    "    'A': 'rgb(171, 99, 250)',\n",
    "    'B': 'rgb(230, 99, 250)',\n",
    "    'C': 'rgb(99, 110, 250)',\n",
    "    'D': 'rgb(25, 211, 243)',\n",
    "#     'Oceania': 'rgb(50, 170, 255)'\n",
    "}\n",
    "\n",
    "for category in categories:\n",
    "    data_dict = {\n",
    "        'xsrc': grid.get_column_reference(f'2014_{category}_v3'),\n",
    "        'ysrc': grid.get_column_reference(f'2014_{category}_v7'),\n",
    "        'mode': 'markers',\n",
    "#         'marker': {\n",
    "# #             'sizemode': 'area',\n",
    "# #             'sizeref': 200000,\n",
    "# #             'sizesrc': grid.get_column_reference(f'2014_{category}_v22'),\n",
    "#             'color': custom_colors[category]\n",
    "#         },\n",
    "    }\n",
    "    figure['data'].append(data_dict)"
   ]
  },
  {
   "cell_type": "markdown",
   "metadata": {},
   "source": [
    "The key **frames** is a list of dictionaries, each one similar to a 'data' dictionary. These are going to be the steps of the animation."
   ]
  },
  {
   "cell_type": "code",
   "execution_count": 25,
   "metadata": {},
   "outputs": [],
   "source": [
    "def create_frame(year):\n",
    "    frame_data = []\n",
    "    for category in categories:\n",
    "        year_cat_dict = {\n",
    "            'xsrc': grid.get_column_reference(f'{year}_{category}_v3'),\n",
    "            'ysrc': grid.get_column_reference(f'{year}_{category}_v7'),\n",
    "            'mode': 'markers',\n",
    "            'marker': {\n",
    "                'color': custom_colors[category]\n",
    "            }\n",
    "        }\n",
    "        frame_data.append(year_cat_dict)\n",
    "        \n",
    "    return dict(data=frame_data)\n",
    "\n",
    "figure['frames'] = [create_frame(year) for year in ['2014', '2015', '2016']]"
   ]
  },
  {
   "cell_type": "markdown",
   "metadata": {},
   "source": [
    "Finally, the key **layout** is a dictonary specifying different layout settings like title, ranges, labels and buttons."
   ]
  },
  {
   "cell_type": "code",
   "execution_count": 26,
   "metadata": {},
   "outputs": [],
   "source": [
    "figure['layout'] = dict(\n",
    "    title='Variables a través de los años',\n",
    "    updatemenus= [{\n",
    "        'buttons': [{\n",
    "            'args': [None],\n",
    "            'label': 'Play',\n",
    "            'method': 'animate',\n",
    "        }],\n",
    "        'showactive': False,\n",
    "        'type': 'buttons',\n",
    "    }]\n",
    ")"
   ]
  },
  {
   "cell_type": "markdown",
   "metadata": {},
   "source": [
    "To create the plot online, all we need to do now is run the following command."
   ]
  },
  {
   "cell_type": "code",
   "execution_count": 33,
   "metadata": {},
   "outputs": [
    {
     "data": {
      "application/vnd.plotly.v1+json": {
       "data": [
        {
         "mode": "markers",
         "type": "scatter",
         "uid": "39f9f2f6-b3ce-11e8-aea8-f0761c9f65e1",
         "xsrc": "",
         "ysrc": ""
        },
        {
         "mode": "markers",
         "type": "scatter",
         "uid": "39f9f2f7-b3ce-11e8-9611-f0761c9f65e1",
         "xsrc": "",
         "ysrc": ""
        },
        {
         "mode": "markers",
         "type": "scatter",
         "uid": "39f9f2f8-b3ce-11e8-924c-f0761c9f65e1",
         "xsrc": "",
         "ysrc": ""
        },
        {
         "mode": "markers",
         "type": "scatter",
         "uid": "39f9f2f9-b3ce-11e8-b735-f0761c9f65e1",
         "xsrc": "",
         "ysrc": ""
        }
       ],
       "layout": {}
      },
      "text/html": [
       "<div id=\"6b0c27fb-6e23-4e54-a7d5-2b3146824cc3\" style=\"height: 525px; width: 100%;\" class=\"plotly-graph-div\"></div><script type=\"text/javascript\">require([\"plotly\"], function(Plotly) { window.PLOTLYENV=window.PLOTLYENV || {};window.PLOTLYENV.BASE_URL=\"https://plot.ly\";\n",
       "        Plotly.plot(\n",
       "            '6b0c27fb-6e23-4e54-a7d5-2b3146824cc3',\n",
       "            [{\"mode\": \"markers\", \"xsrc\": \"\", \"ysrc\": \"\", \"type\": \"scatter\", \"uid\": \"39f9f2f6-b3ce-11e8-aea8-f0761c9f65e1\"}, {\"mode\": \"markers\", \"xsrc\": \"\", \"ysrc\": \"\", \"type\": \"scatter\", \"uid\": \"39f9f2f7-b3ce-11e8-9611-f0761c9f65e1\"}, {\"mode\": \"markers\", \"xsrc\": \"\", \"ysrc\": \"\", \"type\": \"scatter\", \"uid\": \"39f9f2f8-b3ce-11e8-924c-f0761c9f65e1\"}, {\"mode\": \"markers\", \"xsrc\": \"\", \"ysrc\": \"\", \"type\": \"scatter\", \"uid\": \"39f9f2f9-b3ce-11e8-b735-f0761c9f65e1\"}],\n",
       "            {},\n",
       "            {\"showLink\": true, \"linkText\": \"Export to plot.ly\"}\n",
       "        ).then(function () {return Plotly.addFrames('6b0c27fb-6e23-4e54-a7d5-2b3146824cc3',{});}).then(function(){Plotly.animate('6b0c27fb-6e23-4e54-a7d5-2b3146824cc3');})\n",
       "        });</script>"
      ],
      "text/vnd.plotly.v1+html": [
       "<div id=\"6b0c27fb-6e23-4e54-a7d5-2b3146824cc3\" style=\"height: 525px; width: 100%;\" class=\"plotly-graph-div\"></div><script type=\"text/javascript\">require([\"plotly\"], function(Plotly) { window.PLOTLYENV=window.PLOTLYENV || {};window.PLOTLYENV.BASE_URL=\"https://plot.ly\";\n",
       "        Plotly.plot(\n",
       "            '6b0c27fb-6e23-4e54-a7d5-2b3146824cc3',\n",
       "            [{\"mode\": \"markers\", \"xsrc\": \"\", \"ysrc\": \"\", \"type\": \"scatter\", \"uid\": \"39f9f2f6-b3ce-11e8-aea8-f0761c9f65e1\"}, {\"mode\": \"markers\", \"xsrc\": \"\", \"ysrc\": \"\", \"type\": \"scatter\", \"uid\": \"39f9f2f7-b3ce-11e8-9611-f0761c9f65e1\"}, {\"mode\": \"markers\", \"xsrc\": \"\", \"ysrc\": \"\", \"type\": \"scatter\", \"uid\": \"39f9f2f8-b3ce-11e8-924c-f0761c9f65e1\"}, {\"mode\": \"markers\", \"xsrc\": \"\", \"ysrc\": \"\", \"type\": \"scatter\", \"uid\": \"39f9f2f9-b3ce-11e8-b735-f0761c9f65e1\"}],\n",
       "            {},\n",
       "            {\"showLink\": true, \"linkText\": \"Export to plot.ly\"}\n",
       "        ).then(function () {return Plotly.addFrames('6b0c27fb-6e23-4e54-a7d5-2b3146824cc3',{});}).then(function(){Plotly.animate('6b0c27fb-6e23-4e54-a7d5-2b3146824cc3');})\n",
       "        });</script>"
      ]
     },
     "metadata": {},
     "output_type": "display_data"
    }
   ],
   "source": [
    "import plotly.plotly as py\n",
    "py.iplot(figure, filename='variables_scatter_plot')"
   ]
  },
  {
   "cell_type": "markdown",
   "metadata": {},
   "source": [
    "But before commiting our plot to the cloud, we will create an offline version to tinker around and experiment without worrying about the server API request limit.\n",
    "\n",
    "The first step for this is to use a raw dictionary instead of a plotly grid."
   ]
  },
  {
   "cell_type": "code",
   "execution_count": 78,
   "metadata": {},
   "outputs": [],
   "source": [
    "years = ['2014', '2015', '2016',]\n",
    "categories = ['A', 'B', 'C', 'D']\n",
    "variables = ['v3', 'v7', 'v22']\n",
    "\n",
    "custom_colors = {\n",
    "    'A': 'rgb(171, 99, 250)',\n",
    "    'B': 'rgb(230, 99, 250)',\n",
    "    'C': 'rgb(99, 110, 250)',\n",
    "    'D': 'rgb(25, 211, 243)',\n",
    "#     'Oceania': 'rgb(50, 170, 255)'\n",
    "}\n",
    "\n",
    "df = complete_reports_df\n",
    "\n",
    "# columns = []\n",
    "\n",
    "grid_data = {}\n",
    "\n",
    "for year in years:\n",
    "    for category in categories:\n",
    "        filtered_df = df[(df.year == int(year)) & (df.category == category)]\n",
    "        \n",
    "        for var in variables:\n",
    "            column_name = f'{year}_{category}_{var}'\n",
    "            column_data = list(filtered_df[var])\n",
    "            grid_data[column_name] = column_data\n",
    "#             columns.append(column_name)\n",
    "#             column = Column(column_data, column_name)\n",
    "#             columns.append(column)\n",
    "        \n",
    "# pandas_grid = pd.DataFrame(pandas_grid_data, columns=columns)"
   ]
  },
  {
   "cell_type": "markdown",
   "metadata": {},
   "source": [
    "Now we can modify our figure definition to use the data of the raw dictionary instead of grid references."
   ]
  },
  {
   "cell_type": "code",
   "execution_count": 79,
   "metadata": {},
   "outputs": [],
   "source": [
    "figure = {\n",
    "    'data': [],\n",
    "    'frames': [],\n",
    "    'layout': {},\n",
    "}\n",
    "\n",
    "for category in categories:\n",
    "    data_dict = {\n",
    "        'x': grid_data[f'2014_{category}_v3'],\n",
    "        'y': grid_data[f'2014_{category}_v7'],\n",
    "        'mode': 'markers',\n",
    "        'marker': {\n",
    "            'color': custom_colors[category]\n",
    "        },\n",
    "        'marker': {\n",
    "            'sizemode': 'area',\n",
    "            'sizeref': 1400,\n",
    "            'size': grid_data[f'2014_{category}_v22'],\n",
    "            'color': custom_colors[category]\n",
    "        },\n",
    "    }\n",
    "    figure['data'].append(data_dict)\n",
    "    \n",
    "def create_frame(year):\n",
    "    frame_data = []\n",
    "    for category in categories:\n",
    "        year_cat_dict = {\n",
    "            'x': grid_data[f'{year}_{category}_v3'],\n",
    "            'y': grid_data[f'{year}_{category}_v7'],\n",
    "            'mode': 'markers',\n",
    "            'marker': {\n",
    "                'color': custom_colors[category]\n",
    "            }\n",
    "        }\n",
    "        frame_data.append(year_cat_dict)\n",
    "        \n",
    "    return dict(data=frame_data)\n",
    "\n",
    "figure['frames'] = [create_frame(year) for year in ['2014', '2015', '2016']]\n",
    "\n",
    "\n",
    "figure['layout'] = dict(\n",
    "    title='Variables a través de los años',\n",
    "    updatemenus= [{\n",
    "        'buttons': [{\n",
    "            'args': [None],\n",
    "            'label': 'Play',\n",
    "            'method': 'animate',\n",
    "        }],\n",
    "        'showactive': False,\n",
    "        'type': 'buttons',\n",
    "    }]\n",
    ")"
   ]
  },
  {
   "cell_type": "markdown",
   "metadata": {},
   "source": [
    "Now we can plot our animated plot using 'iplot' offline! Success! Now we can tinker with styling all we want."
   ]
  },
  {
   "cell_type": "code",
   "execution_count": 80,
   "metadata": {},
   "outputs": [
    {
     "data": {
      "application/vnd.plotly.v1+json": {
       "data": [
        {
         "marker": {
          "color": "rgb(25, 211, 243)",
          "size": [
           2217437,
           1408130,
           563622
          ],
          "sizemode": "area",
          "sizeref": 1400
         },
         "mode": "markers",
         "type": "scatter",
         "uid": "acff7040-b3d4-11e8-94d0-f0761c9f65e1",
         "x": [
          74836680,
          70660663,
          29559736.14
         ],
         "y": [
          11767,
          9784.8,
          3964.93
         ]
        },
        {
         "marker": {
          "color": "rgb(99, 110, 250)",
          "size": [
           198560,
           50816,
           51820,
           74736,
           154416,
           74830,
           195178,
           226690,
           131908,
           93089,
           301592,
           101427,
           50043,
           68141,
           55193,
           54611,
           99228,
           269191
          ],
          "sizemode": "area",
          "sizeref": 1400
         },
         "mode": "markers",
         "type": "scatter",
         "uid": "acff7041-b3d4-11e8-a012-f0761c9f65e1",
         "x": [
          9443501.2,
          1786963,
          1927200,
          3126989,
          7427191,
          4847703.63,
          6363799,
          15781087.58,
          6856509.02,
          3783505.91,
          9178866,
          null,
          1102217,
          3049154,
          2995920,
          3688625.48,
          3975603.4,
          11027404.74
         ],
         "y": [
          1242,
          332.46,
          720,
          424.8,
          957.02,
          414.72,
          900,
          3073.75,
          1395,
          698.4,
          1695.6,
          319,
          226.8,
          715.32,
          403.2,
          1649.84,
          793,
          2023.92
         ]
        },
        {
         "marker": {
          "color": "rgb(230, 99, 250)",
          "size": [
           29672,
           12635,
           12829,
           15481,
           34400,
           43445,
           15995,
           37289,
           23880,
           10215,
           27190,
           24800,
           25447,
           14265,
           20720,
           18128,
           20710,
           37114,
           42556,
           24677,
           24065,
           45048,
           10472,
           15950,
           23292,
           14157,
           33446
          ],
          "sizemode": "area",
          "sizeref": 1400
         },
         "mode": "markers",
         "type": "scatter",
         "uid": "acff7042-b3d4-11e8-b4b2-f0761c9f65e1",
         "x": [
          476461.44,
          null,
          405016.56,
          387584,
          1311160.18,
          1563349,
          null,
          1629399,
          1684839.43,
          506328,
          1010727.5,
          null,
          1538736,
          null,
          830839.98,
          592722,
          1044104.6,
          1126494,
          2579803.2,
          null,
          null,
          1867122.86,
          null,
          652186.2,
          null,
          null,
          1225569.32
         ],
         "y": [
          138.4,
          null,
          136.8,
          162.4,
          247.68,
          342,
          null,
          280.8,
          572.4,
          64.8,
          127.01,
          null,
          313.2,
          null,
          267.12,
          null,
          387.86,
          null,
          518.4,
          null,
          null,
          295.2,
          null,
          69.48,
          null,
          null,
          162
         ]
        },
        {
         "marker": {
          "color": "rgb(171, 99, 250)",
          "size": [
           9230,
           8949,
           7611,
           6686,
           6825,
           7554,
           10000
          ],
          "sizemode": "area",
          "sizeref": 1400
         },
         "mode": "markers",
         "type": "scatter",
         "uid": "acff7043-b3d4-11e8-a6d6-f0761c9f65e1",
         "x": [
          null,
          137429.1,
          null,
          null,
          null,
          null,
          null
         ],
         "y": [
          null,
          58.1,
          null,
          null,
          86.69,
          null,
          null
         ]
        }
       ],
       "frames": [
        {
         "data": [
          {
           "marker": {
            "color": "rgb(25, 211, 243)"
           },
           "mode": "markers",
           "type": "scatter",
           "x": [
            74836680,
            70660663,
            29559736.14
           ],
           "y": [
            11767,
            9784.8,
            3964.93
           ]
          },
          {
           "marker": {
            "color": "rgb(99, 110, 250)"
           },
           "mode": "markers",
           "type": "scatter",
           "x": [
            9443501.2,
            1786963,
            1927200,
            3126989,
            7427191,
            4847703.63,
            6363799,
            15781087.58,
            6856509.02,
            3783505.91,
            9178866,
            null,
            1102217,
            3049154,
            2995920,
            3688625.48,
            3975603.4,
            11027404.74
           ],
           "y": [
            1242,
            332.46,
            720,
            424.8,
            957.02,
            414.72,
            900,
            3073.75,
            1395,
            698.4,
            1695.6,
            319,
            226.8,
            715.32,
            403.2,
            1649.84,
            793,
            2023.92
           ]
          },
          {
           "marker": {
            "color": "rgb(230, 99, 250)"
           },
           "mode": "markers",
           "type": "scatter",
           "x": [
            476461.44,
            null,
            405016.56,
            387584,
            1311160.18,
            1563349,
            null,
            1629399,
            1684839.43,
            506328,
            1010727.5,
            null,
            1538736,
            null,
            830839.98,
            592722,
            1044104.6,
            1126494,
            2579803.2,
            null,
            null,
            1867122.86,
            null,
            652186.2,
            null,
            null,
            1225569.32
           ],
           "y": [
            138.4,
            null,
            136.8,
            162.4,
            247.68,
            342,
            null,
            280.8,
            572.4,
            64.8,
            127.01,
            null,
            313.2,
            null,
            267.12,
            null,
            387.86,
            null,
            518.4,
            null,
            null,
            295.2,
            null,
            69.48,
            null,
            null,
            162
           ]
          },
          {
           "marker": {
            "color": "rgb(171, 99, 250)"
           },
           "mode": "markers",
           "type": "scatter",
           "x": [
            null,
            137429.1,
            null,
            null,
            null,
            null,
            null
           ],
           "y": [
            null,
            58.1,
            null,
            null,
            86.69,
            null,
            null
           ]
          }
         ]
        },
        {
         "data": [
          {
           "marker": {
            "color": "rgb(25, 211, 243)"
           },
           "mode": "markers",
           "type": "scatter",
           "x": [
            77330993,
            73129325,
            28373209.12
           ],
           "y": [
            11767,
            9784.8,
            3964.93
           ]
          },
          {
           "marker": {
            "color": "rgb(99, 110, 250)"
           },
           "mode": "markers",
           "type": "scatter",
           "x": [
            9490852.8,
            2246279.04,
            2215639,
            2960171,
            7881284,
            4058522.45,
            6542079,
            14315726.74,
            7804258.24,
            3938716.18,
            10400068,
            1453411.8,
            1260274,
            3049370.51,
            3006326,
            null,
            3942185.17,
            11311977
           ],
           "y": [
            1242,
            379.41,
            720,
            424.8,
            2263,
            414.72,
            899.99,
            3073.75,
            1278,
            698.4,
            1695.6,
            434.92,
            226.8,
            715.32,
            403.2,
            null,
            799.2,
            2023.92
           ]
          },
          {
           "marker": {
            "color": "rgb(230, 99, 250)"
           },
           "mode": "markers",
           "type": "scatter",
           "x": [
            649956.96,
            null,
            395176,
            405526,
            1318757,
            2204500.35,
            740613,
            1713984,
            null,
            452404.41,
            1055415.6,
            1480734,
            null,
            409521.6,
            926727,
            692049,
            1033140.52,
            1275096.34,
            2317896,
            null,
            1174716,
            1651972.45,
            null,
            702187.25,
            763413.12,
            788400,
            861837
           ],
           "y": [
            138.4,
            null,
            136.8,
            162.4,
            247.68,
            365.4,
            176.4,
            280.8,
            572.4,
            64.8,
            127.01,
            313.2,
            null,
            194.4,
            267.12,
            null,
            387.86,
            247.5,
            518.4,
            72,
            145.62,
            295.2,
            73.8,
            69.48,
            313.2,
            104.22,
            162
           ]
          },
          {
           "marker": {
            "color": "rgb(171, 99, 250)"
           },
           "mode": "markers",
           "type": "scatter",
           "x": [
            null,
            147559.53,
            null,
            210468.67,
            197373.95,
            null,
            321141.6
           ],
           "y": [
            null,
            58.1,
            397.76,
            28.04,
            86.69,
            null,
            79.2
           ]
          }
         ]
        },
        {
         "data": [
          {
           "marker": {
            "color": "rgb(25, 211, 243)"
           },
           "mode": "markers",
           "type": "scatter",
           "x": [
            76911778,
            74796574,
            22908181.39
           ],
           "y": [
            13014,
            9784.8,
            3964.93
           ]
          },
          {
           "marker": {
            "color": "rgb(99, 110, 250)"
           },
           "mode": "markers",
           "type": "scatter",
           "x": [
            7870795.2,
            1721213.71,
            2166790,
            2837270,
            7990485,
            3922140.58,
            6635334,
            14447528.16,
            7779911.2,
            4257545,
            11293211,
            1155698,
            1118359,
            3089024.4,
            2918160,
            4162752,
            4246325.6,
            11507094
           ],
           "y": [
            1400.4,
            379,
            720,
            424.8,
            2263,
            414.72,
            900,
            3073.75,
            1278,
            698.4,
            1695.6,
            434.92,
            226.8,
            715.32,
            403,
            1995.48,
            645.2,
            2023.92
           ]
          },
          {
           "marker": {
            "color": "rgb(230, 99, 250)"
           },
           "mode": "markers",
           "type": "scatter",
           "x": [
            627830,
            750000,
            402567.19,
            428145,
            1445775,
            2047609,
            801124,
            1882527,
            2325768,
            415205.2,
            1072638.6,
            null,
            1604515,
            258574,
            1013504,
            534999.6,
            951041,
            713463,
            1005508.8,
            1327935.8,
            2903785,
            339841.44,
            1062816,
            1686005.45,
            303912,
            680767,
            961812,
            889315,
            925562,
            527703.42
           ],
           "y": [
            138.4,
            72,
            93.6,
            158.4,
            248,
            267.6,
            176,
            280.8,
            572.4,
            64.8,
            127.01,
            null,
            313.2,
            63,
            127.8,
            194.4,
            267.12,
            84.6,
            253.58,
            247.5,
            518.4,
            72,
            145.62,
            295.2,
            142.2,
            69.48,
            313.2,
            104.22,
            162,
            104.4
           ]
          },
          {
           "marker": {
            "color": "rgb(171, 99, 250)"
           },
           "mode": "markers",
           "type": "scatter",
           "x": [
            null,
            null,
            null,
            133546.28,
            null,
            null,
            161618,
            214976.16,
            164371.64,
            500803,
            488808,
            null,
            251806
           ],
           "y": [
            24.34,
            null,
            406.8,
            58.1,
            39.6,
            397.76,
            25.2,
            32.4,
            86.69,
            45,
            61.2,
            64.8,
            18
           ]
          }
         ]
        }
       ],
       "layout": {
        "title": "Variables a través de los años",
        "updatemenus": [
         {
          "buttons": [
           {
            "args": [
             null
            ],
            "label": "Play",
            "method": "animate"
           }
          ],
          "showactive": false,
          "type": "buttons"
         }
        ]
       }
      },
      "text/html": [
       "<div id=\"c22ce6c6-8d11-4f22-b4db-b8268f3cf7ef\" style=\"height: 525px; width: 100%;\" class=\"plotly-graph-div\"></div><script type=\"text/javascript\">require([\"plotly\"], function(Plotly) { window.PLOTLYENV=window.PLOTLYENV || {};window.PLOTLYENV.BASE_URL=\"https://plot.ly\";\n",
       "        Plotly.plot(\n",
       "            'c22ce6c6-8d11-4f22-b4db-b8268f3cf7ef',\n",
       "            [{\"marker\": {\"color\": \"rgb(25, 211, 243)\", \"size\": [2217437.0, 1408130.0, 563622.0], \"sizemode\": \"area\", \"sizeref\": 1400}, \"mode\": \"markers\", \"x\": [74836680.0, 70660663.0, 29559736.14], \"y\": [11767.0, 9784.8, 3964.93], \"type\": \"scatter\", \"uid\": \"ad153ef0-b3d4-11e8-a994-f0761c9f65e1\"}, {\"marker\": {\"color\": \"rgb(99, 110, 250)\", \"size\": [198560.0, 50816.0, 51820.0, 74736.0, 154416.0, 74830.0, 195178.0, 226690.0, 131908.0, 93089.0, 301592.0, 101427.0, 50043.0, 68141.0, 55193.0, 54611.0, 99228.0, 269191.0], \"sizemode\": \"area\", \"sizeref\": 1400}, \"mode\": \"markers\", \"x\": [9443501.2, 1786963.0, 1927200.0, 3126989.0, 7427191.0, 4847703.63, 6363799.0, 15781087.58, 6856509.02, 3783505.91, 9178866.0, null, 1102217.0, 3049154.0, 2995920.0, 3688625.48, 3975603.4, 11027404.74], \"y\": [1242.0, 332.46, 720.0, 424.8, 957.02, 414.72, 900.0, 3073.75, 1395.0, 698.4, 1695.6, 319.0, 226.8, 715.32, 403.2, 1649.84, 793.0, 2023.92], \"type\": \"scatter\", \"uid\": \"ad153ef1-b3d4-11e8-92fe-f0761c9f65e1\"}, {\"marker\": {\"color\": \"rgb(230, 99, 250)\", \"size\": [29672.0, 12635.0, 12829.0, 15481.0, 34400.0, 43445.0, 15995.0, 37289.0, 23880.0, 10215.0, 27190.0, 24800.0, 25447.0, 14265.0, 20720.0, 18128.0, 20710.0, 37114.0, 42556.0, 24677.0, 24065.0, 45048.0, 10472.0, 15950.0, 23292.0, 14157.0, 33446.0], \"sizemode\": \"area\", \"sizeref\": 1400}, \"mode\": \"markers\", \"x\": [476461.44, null, 405016.56, 387584.0, 1311160.18, 1563349.0, null, 1629399.0, 1684839.43, 506328.0, 1010727.5, null, 1538736.0, null, 830839.98, 592722.0, 1044104.6, 1126494.0, 2579803.2, null, null, 1867122.86, null, 652186.2, null, null, 1225569.32], \"y\": [138.4, null, 136.8, 162.4, 247.68, 342.0, null, 280.8, 572.4, 64.8, 127.01, null, 313.2, null, 267.12, null, 387.86, null, 518.4, null, null, 295.2, null, 69.48, null, null, 162.0], \"type\": \"scatter\", \"uid\": \"ad153ef2-b3d4-11e8-964e-f0761c9f65e1\"}, {\"marker\": {\"color\": \"rgb(171, 99, 250)\", \"size\": [9230.0, 8949.0, 7611.0, 6686.0, 6825.0, 7554.0, 10000.0], \"sizemode\": \"area\", \"sizeref\": 1400}, \"mode\": \"markers\", \"x\": [null, 137429.1, null, null, null, null, null], \"y\": [null, 58.1, null, null, 86.69, null, null], \"type\": \"scatter\", \"uid\": \"ad153ef3-b3d4-11e8-ac54-f0761c9f65e1\"}],\n",
       "            {\"title\": \"Variables a trav\\u00e9s de los a\\u00f1os\", \"updatemenus\": [{\"buttons\": [{\"args\": [null], \"label\": \"Play\", \"method\": \"animate\"}], \"showactive\": false, \"type\": \"buttons\"}]},\n",
       "            {\"showLink\": true, \"linkText\": \"Export to plot.ly\"}\n",
       "        ).then(function () {return Plotly.addFrames('c22ce6c6-8d11-4f22-b4db-b8268f3cf7ef',[{\"data\": [{\"marker\": {\"color\": \"rgb(25, 211, 243)\"}, \"mode\": \"markers\", \"x\": [74836680.0, 70660663.0, 29559736.14], \"y\": [11767.0, 9784.8, 3964.93], \"type\": \"scatter\"}, {\"marker\": {\"color\": \"rgb(99, 110, 250)\"}, \"mode\": \"markers\", \"x\": [9443501.2, 1786963.0, 1927200.0, 3126989.0, 7427191.0, 4847703.63, 6363799.0, 15781087.58, 6856509.02, 3783505.91, 9178866.0, null, 1102217.0, 3049154.0, 2995920.0, 3688625.48, 3975603.4, 11027404.74], \"y\": [1242.0, 332.46, 720.0, 424.8, 957.02, 414.72, 900.0, 3073.75, 1395.0, 698.4, 1695.6, 319.0, 226.8, 715.32, 403.2, 1649.84, 793.0, 2023.92], \"type\": \"scatter\"}, {\"marker\": {\"color\": \"rgb(230, 99, 250)\"}, \"mode\": \"markers\", \"x\": [476461.44, null, 405016.56, 387584.0, 1311160.18, 1563349.0, null, 1629399.0, 1684839.43, 506328.0, 1010727.5, null, 1538736.0, null, 830839.98, 592722.0, 1044104.6, 1126494.0, 2579803.2, null, null, 1867122.86, null, 652186.2, null, null, 1225569.32], \"y\": [138.4, null, 136.8, 162.4, 247.68, 342.0, null, 280.8, 572.4, 64.8, 127.01, null, 313.2, null, 267.12, null, 387.86, null, 518.4, null, null, 295.2, null, 69.48, null, null, 162.0], \"type\": \"scatter\"}, {\"marker\": {\"color\": \"rgb(171, 99, 250)\"}, \"mode\": \"markers\", \"x\": [null, 137429.1, null, null, null, null, null], \"y\": [null, 58.1, null, null, 86.69, null, null], \"type\": \"scatter\"}]}, {\"data\": [{\"marker\": {\"color\": \"rgb(25, 211, 243)\"}, \"mode\": \"markers\", \"x\": [77330993.0, 73129325.0, 28373209.12], \"y\": [11767.0, 9784.8, 3964.93], \"type\": \"scatter\"}, {\"marker\": {\"color\": \"rgb(99, 110, 250)\"}, \"mode\": \"markers\", \"x\": [9490852.8, 2246279.04, 2215639.0, 2960171.0, 7881284.0, 4058522.45, 6542079.0, 14315726.74, 7804258.24, 3938716.18, 10400068.0, 1453411.8, 1260274.0, 3049370.51, 3006326.0, null, 3942185.17, 11311977.0], \"y\": [1242.0, 379.41, 720.0, 424.8, 2263.0, 414.72, 899.99, 3073.75, 1278.0, 698.4, 1695.6, 434.92, 226.8, 715.32, 403.2, null, 799.2, 2023.92], \"type\": \"scatter\"}, {\"marker\": {\"color\": \"rgb(230, 99, 250)\"}, \"mode\": \"markers\", \"x\": [649956.96, null, 395176.0, 405526.0, 1318757.0, 2204500.35, 740613.0, 1713984.0, null, 452404.41, 1055415.6, 1480734.0, null, 409521.6, 926727.0, 692049.0, 1033140.52, 1275096.34, 2317896.0, null, 1174716.0, 1651972.45, null, 702187.25, 763413.12, 788400.0, 861837.0], \"y\": [138.4, null, 136.8, 162.4, 247.68, 365.4, 176.4, 280.8, 572.4, 64.8, 127.01, 313.2, null, 194.4, 267.12, null, 387.86, 247.5, 518.4, 72.0, 145.62, 295.2, 73.8, 69.48, 313.2, 104.22, 162.0], \"type\": \"scatter\"}, {\"marker\": {\"color\": \"rgb(171, 99, 250)\"}, \"mode\": \"markers\", \"x\": [null, 147559.53, null, 210468.67, 197373.95, null, 321141.6], \"y\": [null, 58.1, 397.76, 28.04, 86.69, null, 79.2], \"type\": \"scatter\"}]}, {\"data\": [{\"marker\": {\"color\": \"rgb(25, 211, 243)\"}, \"mode\": \"markers\", \"x\": [76911778.0, 74796574.0, 22908181.39], \"y\": [13014.0, 9784.8, 3964.93], \"type\": \"scatter\"}, {\"marker\": {\"color\": \"rgb(99, 110, 250)\"}, \"mode\": \"markers\", \"x\": [7870795.2, 1721213.71, 2166790.0, 2837270.0, 7990485.0, 3922140.58, 6635334.0, 14447528.16, 7779911.2, 4257545.0, 11293211.0, 1155698.0, 1118359.0, 3089024.4, 2918160.0, 4162752.0, 4246325.6, 11507094.0], \"y\": [1400.4, 379.0, 720.0, 424.8, 2263.0, 414.72, 900.0, 3073.75, 1278.0, 698.4, 1695.6, 434.92, 226.8, 715.32, 403.0, 1995.48, 645.2, 2023.92], \"type\": \"scatter\"}, {\"marker\": {\"color\": \"rgb(230, 99, 250)\"}, \"mode\": \"markers\", \"x\": [627830.0, 750000.0, 402567.19, 428145.0, 1445775.0, 2047609.0, 801124.0, 1882527.0, 2325768.0, 415205.2, 1072638.6, null, 1604515.0, 258574.0, 1013504.0, 534999.6, 951041.0, 713463.0, 1005508.8, 1327935.8, 2903785.0, 339841.44, 1062816.0, 1686005.45, 303912.0, 680767.0, 961812.0, 889315.0, 925562.0, 527703.42], \"y\": [138.4, 72.0, 93.6, 158.4, 248.0, 267.6, 176.0, 280.8, 572.4, 64.8, 127.01, null, 313.2, 63.0, 127.8, 194.4, 267.12, 84.6, 253.58, 247.5, 518.4, 72.0, 145.62, 295.2, 142.2, 69.48, 313.2, 104.22, 162.0, 104.4], \"type\": \"scatter\"}, {\"marker\": {\"color\": \"rgb(171, 99, 250)\"}, \"mode\": \"markers\", \"x\": [null, null, null, 133546.28, null, null, 161618.0, 214976.16, 164371.64, 500803.0, 488808.0, null, 251806.0], \"y\": [24.34, null, 406.8, 58.1, 39.6, 397.76, 25.2, 32.4, 86.69, 45.0, 61.2, 64.8, 18.0], \"type\": \"scatter\"}]}]);}).then(function(){Plotly.animate('c22ce6c6-8d11-4f22-b4db-b8268f3cf7ef');})\n",
       "        });</script>"
      ],
      "text/vnd.plotly.v1+html": [
       "<div id=\"c22ce6c6-8d11-4f22-b4db-b8268f3cf7ef\" style=\"height: 525px; width: 100%;\" class=\"plotly-graph-div\"></div><script type=\"text/javascript\">require([\"plotly\"], function(Plotly) { window.PLOTLYENV=window.PLOTLYENV || {};window.PLOTLYENV.BASE_URL=\"https://plot.ly\";\n",
       "        Plotly.plot(\n",
       "            'c22ce6c6-8d11-4f22-b4db-b8268f3cf7ef',\n",
       "            [{\"marker\": {\"color\": \"rgb(25, 211, 243)\", \"size\": [2217437.0, 1408130.0, 563622.0], \"sizemode\": \"area\", \"sizeref\": 1400}, \"mode\": \"markers\", \"x\": [74836680.0, 70660663.0, 29559736.14], \"y\": [11767.0, 9784.8, 3964.93], \"type\": \"scatter\", \"uid\": \"ad153ef0-b3d4-11e8-a994-f0761c9f65e1\"}, {\"marker\": {\"color\": \"rgb(99, 110, 250)\", \"size\": [198560.0, 50816.0, 51820.0, 74736.0, 154416.0, 74830.0, 195178.0, 226690.0, 131908.0, 93089.0, 301592.0, 101427.0, 50043.0, 68141.0, 55193.0, 54611.0, 99228.0, 269191.0], \"sizemode\": \"area\", \"sizeref\": 1400}, \"mode\": \"markers\", \"x\": [9443501.2, 1786963.0, 1927200.0, 3126989.0, 7427191.0, 4847703.63, 6363799.0, 15781087.58, 6856509.02, 3783505.91, 9178866.0, null, 1102217.0, 3049154.0, 2995920.0, 3688625.48, 3975603.4, 11027404.74], \"y\": [1242.0, 332.46, 720.0, 424.8, 957.02, 414.72, 900.0, 3073.75, 1395.0, 698.4, 1695.6, 319.0, 226.8, 715.32, 403.2, 1649.84, 793.0, 2023.92], \"type\": \"scatter\", \"uid\": \"ad153ef1-b3d4-11e8-92fe-f0761c9f65e1\"}, {\"marker\": {\"color\": \"rgb(230, 99, 250)\", \"size\": [29672.0, 12635.0, 12829.0, 15481.0, 34400.0, 43445.0, 15995.0, 37289.0, 23880.0, 10215.0, 27190.0, 24800.0, 25447.0, 14265.0, 20720.0, 18128.0, 20710.0, 37114.0, 42556.0, 24677.0, 24065.0, 45048.0, 10472.0, 15950.0, 23292.0, 14157.0, 33446.0], \"sizemode\": \"area\", \"sizeref\": 1400}, \"mode\": \"markers\", \"x\": [476461.44, null, 405016.56, 387584.0, 1311160.18, 1563349.0, null, 1629399.0, 1684839.43, 506328.0, 1010727.5, null, 1538736.0, null, 830839.98, 592722.0, 1044104.6, 1126494.0, 2579803.2, null, null, 1867122.86, null, 652186.2, null, null, 1225569.32], \"y\": [138.4, null, 136.8, 162.4, 247.68, 342.0, null, 280.8, 572.4, 64.8, 127.01, null, 313.2, null, 267.12, null, 387.86, null, 518.4, null, null, 295.2, null, 69.48, null, null, 162.0], \"type\": \"scatter\", \"uid\": \"ad153ef2-b3d4-11e8-964e-f0761c9f65e1\"}, {\"marker\": {\"color\": \"rgb(171, 99, 250)\", \"size\": [9230.0, 8949.0, 7611.0, 6686.0, 6825.0, 7554.0, 10000.0], \"sizemode\": \"area\", \"sizeref\": 1400}, \"mode\": \"markers\", \"x\": [null, 137429.1, null, null, null, null, null], \"y\": [null, 58.1, null, null, 86.69, null, null], \"type\": \"scatter\", \"uid\": \"ad153ef3-b3d4-11e8-ac54-f0761c9f65e1\"}],\n",
       "            {\"title\": \"Variables a trav\\u00e9s de los a\\u00f1os\", \"updatemenus\": [{\"buttons\": [{\"args\": [null], \"label\": \"Play\", \"method\": \"animate\"}], \"showactive\": false, \"type\": \"buttons\"}]},\n",
       "            {\"showLink\": true, \"linkText\": \"Export to plot.ly\"}\n",
       "        ).then(function () {return Plotly.addFrames('c22ce6c6-8d11-4f22-b4db-b8268f3cf7ef',[{\"data\": [{\"marker\": {\"color\": \"rgb(25, 211, 243)\"}, \"mode\": \"markers\", \"x\": [74836680.0, 70660663.0, 29559736.14], \"y\": [11767.0, 9784.8, 3964.93], \"type\": \"scatter\"}, {\"marker\": {\"color\": \"rgb(99, 110, 250)\"}, \"mode\": \"markers\", \"x\": [9443501.2, 1786963.0, 1927200.0, 3126989.0, 7427191.0, 4847703.63, 6363799.0, 15781087.58, 6856509.02, 3783505.91, 9178866.0, null, 1102217.0, 3049154.0, 2995920.0, 3688625.48, 3975603.4, 11027404.74], \"y\": [1242.0, 332.46, 720.0, 424.8, 957.02, 414.72, 900.0, 3073.75, 1395.0, 698.4, 1695.6, 319.0, 226.8, 715.32, 403.2, 1649.84, 793.0, 2023.92], \"type\": \"scatter\"}, {\"marker\": {\"color\": \"rgb(230, 99, 250)\"}, \"mode\": \"markers\", \"x\": [476461.44, null, 405016.56, 387584.0, 1311160.18, 1563349.0, null, 1629399.0, 1684839.43, 506328.0, 1010727.5, null, 1538736.0, null, 830839.98, 592722.0, 1044104.6, 1126494.0, 2579803.2, null, null, 1867122.86, null, 652186.2, null, null, 1225569.32], \"y\": [138.4, null, 136.8, 162.4, 247.68, 342.0, null, 280.8, 572.4, 64.8, 127.01, null, 313.2, null, 267.12, null, 387.86, null, 518.4, null, null, 295.2, null, 69.48, null, null, 162.0], \"type\": \"scatter\"}, {\"marker\": {\"color\": \"rgb(171, 99, 250)\"}, \"mode\": \"markers\", \"x\": [null, 137429.1, null, null, null, null, null], \"y\": [null, 58.1, null, null, 86.69, null, null], \"type\": \"scatter\"}]}, {\"data\": [{\"marker\": {\"color\": \"rgb(25, 211, 243)\"}, \"mode\": \"markers\", \"x\": [77330993.0, 73129325.0, 28373209.12], \"y\": [11767.0, 9784.8, 3964.93], \"type\": \"scatter\"}, {\"marker\": {\"color\": \"rgb(99, 110, 250)\"}, \"mode\": \"markers\", \"x\": [9490852.8, 2246279.04, 2215639.0, 2960171.0, 7881284.0, 4058522.45, 6542079.0, 14315726.74, 7804258.24, 3938716.18, 10400068.0, 1453411.8, 1260274.0, 3049370.51, 3006326.0, null, 3942185.17, 11311977.0], \"y\": [1242.0, 379.41, 720.0, 424.8, 2263.0, 414.72, 899.99, 3073.75, 1278.0, 698.4, 1695.6, 434.92, 226.8, 715.32, 403.2, null, 799.2, 2023.92], \"type\": \"scatter\"}, {\"marker\": {\"color\": \"rgb(230, 99, 250)\"}, \"mode\": \"markers\", \"x\": [649956.96, null, 395176.0, 405526.0, 1318757.0, 2204500.35, 740613.0, 1713984.0, null, 452404.41, 1055415.6, 1480734.0, null, 409521.6, 926727.0, 692049.0, 1033140.52, 1275096.34, 2317896.0, null, 1174716.0, 1651972.45, null, 702187.25, 763413.12, 788400.0, 861837.0], \"y\": [138.4, null, 136.8, 162.4, 247.68, 365.4, 176.4, 280.8, 572.4, 64.8, 127.01, 313.2, null, 194.4, 267.12, null, 387.86, 247.5, 518.4, 72.0, 145.62, 295.2, 73.8, 69.48, 313.2, 104.22, 162.0], \"type\": \"scatter\"}, {\"marker\": {\"color\": \"rgb(171, 99, 250)\"}, \"mode\": \"markers\", \"x\": [null, 147559.53, null, 210468.67, 197373.95, null, 321141.6], \"y\": [null, 58.1, 397.76, 28.04, 86.69, null, 79.2], \"type\": \"scatter\"}]}, {\"data\": [{\"marker\": {\"color\": \"rgb(25, 211, 243)\"}, \"mode\": \"markers\", \"x\": [76911778.0, 74796574.0, 22908181.39], \"y\": [13014.0, 9784.8, 3964.93], \"type\": \"scatter\"}, {\"marker\": {\"color\": \"rgb(99, 110, 250)\"}, \"mode\": \"markers\", \"x\": [7870795.2, 1721213.71, 2166790.0, 2837270.0, 7990485.0, 3922140.58, 6635334.0, 14447528.16, 7779911.2, 4257545.0, 11293211.0, 1155698.0, 1118359.0, 3089024.4, 2918160.0, 4162752.0, 4246325.6, 11507094.0], \"y\": [1400.4, 379.0, 720.0, 424.8, 2263.0, 414.72, 900.0, 3073.75, 1278.0, 698.4, 1695.6, 434.92, 226.8, 715.32, 403.0, 1995.48, 645.2, 2023.92], \"type\": \"scatter\"}, {\"marker\": {\"color\": \"rgb(230, 99, 250)\"}, \"mode\": \"markers\", \"x\": [627830.0, 750000.0, 402567.19, 428145.0, 1445775.0, 2047609.0, 801124.0, 1882527.0, 2325768.0, 415205.2, 1072638.6, null, 1604515.0, 258574.0, 1013504.0, 534999.6, 951041.0, 713463.0, 1005508.8, 1327935.8, 2903785.0, 339841.44, 1062816.0, 1686005.45, 303912.0, 680767.0, 961812.0, 889315.0, 925562.0, 527703.42], \"y\": [138.4, 72.0, 93.6, 158.4, 248.0, 267.6, 176.0, 280.8, 572.4, 64.8, 127.01, null, 313.2, 63.0, 127.8, 194.4, 267.12, 84.6, 253.58, 247.5, 518.4, 72.0, 145.62, 295.2, 142.2, 69.48, 313.2, 104.22, 162.0, 104.4], \"type\": \"scatter\"}, {\"marker\": {\"color\": \"rgb(171, 99, 250)\"}, \"mode\": \"markers\", \"x\": [null, null, null, 133546.28, null, null, 161618.0, 214976.16, 164371.64, 500803.0, 488808.0, null, 251806.0], \"y\": [24.34, null, 406.8, 58.1, 39.6, 397.76, 25.2, 32.4, 86.69, 45.0, 61.2, 64.8, 18.0], \"type\": \"scatter\"}]}]);}).then(function(){Plotly.animate('c22ce6c6-8d11-4f22-b4db-b8268f3cf7ef');})\n",
       "        });</script>"
      ]
     },
     "metadata": {},
     "output_type": "display_data"
    }
   ],
   "source": [
    "iplot(figure)"
   ]
  }
 ],
 "metadata": {
  "kernelspec": {
   "display_name": "Python 3",
   "language": "python",
   "name": "python3"
  },
  "language_info": {
   "codemirror_mode": {
    "name": "ipython",
    "version": 3
   },
   "file_extension": ".py",
   "mimetype": "text/x-python",
   "name": "python",
   "nbconvert_exporter": "python",
   "pygments_lexer": "ipython3",
   "version": "3.6.5"
  }
 },
 "nbformat": 4,
 "nbformat_minor": 2
}
