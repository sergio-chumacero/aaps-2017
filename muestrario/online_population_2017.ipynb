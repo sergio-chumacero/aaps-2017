{
 "cells": [
  {
   "cell_type": "code",
   "execution_count": 21,
   "metadata": {},
   "outputs": [],
   "source": [
    "import requests\n",
    "import pandas as pd\n",
    "import numpy as np\n",
    "import math\n",
    "import plotly.graph_objs as go\n",
    "from plotly.grid_objs import Grid, Column\n",
    "import plotly.plotly as py"
   ]
  },
  {
   "cell_type": "code",
   "execution_count": 2,
   "metadata": {},
   "outputs": [],
   "source": [
    "reports_r = requests.get('https://peridash.ml/api/reports')\n",
    "measurements_r = requests.get('https://peridash.ml/api/measurements')\n",
    "epsas_r = requests.get('https://peridash.ml/api/epsas')\n",
    "variables_r = requests.get('https://peridash.ml/api/variables')\n",
    "indicators_r = requests.get('https://peridash.ml/api/indicators')"
   ]
  },
  {
   "cell_type": "code",
   "execution_count": 3,
   "metadata": {},
   "outputs": [],
   "source": [
    "reports_df = pd.read_json(reports_r.text)\n",
    "measurements_df = pd.read_json(measurements_r.text)\n",
    "epsas_df = pd.read_json(epsas_r.text)\n",
    "\n",
    "complete_reports_df = pd.merge(reports_df, epsas_df, left_on='epsa', right_on='url')\n",
    "complete_measurements_df = pd.merge(measurements_df, epsas_df, left_on='epsa', right_on='url')\n",
    "\n",
    "rdf = complete_reports_df\n",
    "mdf = complete_measurements_df\n",
    "vdf = pd.read_json(variables_r.text)\n",
    "idf = pd.read_json(indicators_r.text)"
   ]
  },
  {
   "cell_type": "code",
   "execution_count": 4,
   "metadata": {},
   "outputs": [],
   "source": [
    "ind_names = [\n",
    "    'Rendimiento actual de la fuente', 'Uso eficiente del recurso',\n",
    "    'Cobertura de muestras de agua potable',\n",
    "    'Conformidad de los análisis de agua potable realizados',\n",
    "    'Dotación', 'Continuidad por racionamiento', 'Continuidad por corte',\n",
    "    'Cobertura del servicio de agua potable',\n",
    "    'Cobertura del servicio de alcantarillado sanitario',\n",
    "    'Cobertura de micromedición',\n",
    "    'Incidencia extracción de agua cruda subterránea ',\n",
    "    'Índice de tratamiento de agua residual', 'Control de agua residual',\n",
    "    'Capacidad instalada de planta de tratamiento de agua potable',\n",
    "    'Capacidad instalada de planta de tratamiento de agua residual ',\n",
    "    'Presión del servicio de agua potable',\n",
    "    'Índice de agua no contabilizada en producción',\n",
    "    'Índice de agua no contabilizada en la red',\n",
    "    'Densidad de fallas en tuberías de agua potable',\n",
    "    'Densidad de fallas en conexiones de agua potable',\n",
    "    'Densidad de fallas en tuberías de agua residual',\n",
    "    'Densidad de fallas en conexiones de agua residual',\n",
    "    'Índice de operación eficiente', 'Prueba ácida',\n",
    "    'Eficiencia de recaudación', 'Índice de endeudamiento total', 'Tarifa media',\n",
    "    'Costo unitario de operación', 'Índice de ejecución de inversiones',\n",
    "    'Personal calificado', 'Número de empleados por cada 1000 conexiones',\n",
    "    'Atención de reclamos'\n",
    "]\n",
    "ind_units = ['%', '%', '%', '%', 'l/hab/día', 'hr/día', '%', '%', '%', '%',\n",
    "             '%', '%', '%', '%', '%', '%', '%', '%', 'fallas/100km',\n",
    "             'fallas/1000conex.', 'fallas/100km', 'fallas/1000conex.', '%', '-',\n",
    "             '%', '%', '%CUO(Bs.)', '%TM(Bs.)', '%', '%', 'empleados/1000conex.', '%']\n",
    "\n",
    "colors = [\n",
    "    '#1f77b4','#ff7f0e','#2ca02c',\n",
    "    '#d62728', '#9467bd', '#8c564b',\n",
    "    '#e377c2', '#7f7f7f', '#bcbd22','#17becf'\n",
    "]\n",
    "\n",
    "def get_ind_name(ind):\n",
    "    return ind_names[int(ind[3:])-1]\n",
    "\n",
    "def get_ind_unit(ind):\n",
    "    return ind_units[int(ind[3:])-1]"
   ]
  },
  {
   "cell_type": "code",
   "execution_count": 5,
   "metadata": {},
   "outputs": [],
   "source": [
    "years = list(rdf.year.sort_values().unique()) # [2014, 2015, 2016, 2017]\n",
    "categories = list(rdf.category.sort_values().unique()) # ['A', 'B', 'C', 'D']\n",
    "\n",
    "plane_dims = ['v22', 'v23']\n",
    "size_dim = 'v22'\n",
    "\n",
    "xi = int(plane_dims[0][1:]) # 17\n",
    "yi = int(plane_dims[1][1:]) # 18\n",
    "\n",
    "xname = vdf[vdf.var_id==xi].name.iloc[0] # 'Número total de conexiones de agua potable activas medidas y no medidas'\n",
    "yname = vdf[vdf.var_id==yi].name.iloc[0] # 'Número total de conexiones de alcantarillado sanitario activas '\n",
    "xunit = vdf[vdf.var_id==xi].unit.iloc[0] # 'conex.'\n",
    "yunit = vdf[vdf.var_id==yi].unit.iloc[0] # 'conex.'\n",
    "\n",
    "code_to_cat = {code: cat for code,cat in zip(epsas_df.code, epsas_df.category)}"
   ]
  },
  {
   "cell_type": "code",
   "execution_count": 12,
   "metadata": {},
   "outputs": [
    {
     "data": {
      "text/plain": [
       "'https://plot.ly/~sergiochumacero/84/'"
      ]
     },
     "execution_count": 12,
     "metadata": {},
     "output_type": "execute_result"
    }
   ],
   "source": [
    "cat_to_y = {cat: len(categories) - i for i,cat in enumerate(categories)}\n",
    "\n",
    "columns = []\n",
    "\n",
    "for year in years:\n",
    "    for category in categories:\n",
    "        frdf = rdf[(rdf.year == year) & (rdf.category == category)]\n",
    "                       \n",
    "        percentages = [x/y * 100 for x,y in zip(frdf.v23, frdf.v22)]\n",
    "        \n",
    "        column_name1 = f'{year}_{category}_text'\n",
    "        column_data1 = [f'{code}<br>{\"%.2f\"%(p)}%<br>Población Abastecida: {a}<br>Población Total: {b}' for code,a,b,p in zip(frdf.code, frdf.v23, frdf.v22,percentages)]\n",
    "        column1 = Column(column_data1, column_name1)\n",
    "        \n",
    "        column_name2 = f'{year}_{category}_x'\n",
    "        column_data2 = percentages\n",
    "        column2 = Column(column_data2, column_name2)\n",
    "        \n",
    "        column_name3 = f'{year}_{category}_y'\n",
    "        column_data3 = [cat_to_y[code_to_cat[code]] for code in frdf.code]\n",
    "        column3 = Column(column_data3, column_name3)\n",
    "        \n",
    "        columns += [column1, column2, column3]\n",
    "\n",
    "grid = Grid(columns)\n",
    "py.grid_ops.upload(grid, 'population_2017')"
   ]
  },
  {
   "cell_type": "code",
   "execution_count": 13,
   "metadata": {},
   "outputs": [],
   "source": [
    "def create_trace(year, category):\n",
    "    return dict(\n",
    "        xsrc= grid.get_column_reference(f'{year}_{category}_x'),\n",
    "        ysrc= grid.get_column_reference(f'{year}_{category}_y'),\n",
    "        marker= dict(\n",
    "            symbol='line-ns',\n",
    "            size=25,\n",
    "            opacity=0.7,\n",
    "            line = dict(\n",
    "              color = colors[dict(A=0, B=1, C=2, D=3)[category]],\n",
    "              width = 2\n",
    "            )\n",
    "#             size=[0.0 if math.isnan(x) else x for x in grid_data[f'{year}_{category}_{size_dim}']],\n",
    "#             sizemode='area',\n",
    "#             sizeref=1000,\n",
    "        ),\n",
    "        mode= 'markers',\n",
    "        textsrc= grid.get_column_reference(f'{year}_{category}_text'),\n",
    "        name= 'Categoría: ' + category,\n",
    "        hoverinfo = 'text',\n",
    "    )\n",
    "\n",
    "base_data = [create_trace(years[0], category) for category in categories]"
   ]
  },
  {
   "cell_type": "code",
   "execution_count": 14,
   "metadata": {},
   "outputs": [],
   "source": [
    "def create_frame(year):\n",
    "    frame_data = [create_trace(year, category) for category in categories]\n",
    "    return dict(data=frame_data, name=str(year))\n",
    "\n",
    "frames = [create_frame(year) for year in years]"
   ]
  },
  {
   "cell_type": "code",
   "execution_count": 22,
   "metadata": {},
   "outputs": [],
   "source": [
    "animation_settings = dict(\n",
    "    frame = dict(duration=1200, redraw=False),\n",
    "    fromcurrent = False,\n",
    "    transition = dict(duration=1200, easing='cubic-in-out'),\n",
    ")\n",
    "\n",
    "def make_step(year):\n",
    "    return dict(\n",
    "        method = 'animate',  \n",
    "        args = [[year], animation_settings],\n",
    "        label= year\n",
    "    )\n",
    "steps = [make_step(str(year)) for year in years] \n",
    "\n",
    "sliders = [dict(\n",
    "    active = 1,\n",
    "    currentvalue = {\n",
    "        'prefix': 'Año: ',\n",
    "        'font': {'size': 20},\n",
    "        'visible': True,\n",
    "        'xanchor': 'right'\n",
    "    },\n",
    "    steps = steps,\n",
    "    yanchor= 'top',\n",
    "    xanchor= 'left',\n",
    "    pad= {'b': 10, 't': 50},\n",
    "    len= 0.9,\n",
    "    x= 0.1,\n",
    "    y= 0,\n",
    ")]\n",
    "\n",
    "updatemenus = [dict(\n",
    "    buttons= [dict(\n",
    "        args= [[str(y) for y in years], animation_settings],\n",
    "        label= 'Animar',\n",
    "        method= 'animate',\n",
    "    )],\n",
    "    direction= 'left',\n",
    "    pad= dict(r=10, t=87),\n",
    "    showactive= False,\n",
    "    type= 'buttons',\n",
    "    x= 0.1,\n",
    "    y= 0,\n",
    "    xanchor= 'right',\n",
    "    yanchor= 'top',\n",
    ")]\n",
    "\n",
    "layout = go.Layout(\n",
    "    title='Población Abastecida',\n",
    "    hovermode='y',\n",
    "    width=1000,\n",
    "    legend=dict(x=.1, y=1.1, orientation='h'),\n",
    "    xaxis=dict(\n",
    "        title='Porcentaje (%): Población Abastecida / Población Total del Área de Servicio * 100',\n",
    "        range=[35,100],\n",
    "        autorange=False,\n",
    "        tickmode='linear',\n",
    "        tick0 = 35,\n",
    "        dtick = 5,\n",
    "    ),\n",
    "    yaxis=dict(visible=False),\n",
    "#     xaxis={'title':f'Variable {str(xi)}: {xname} ({xunit})'},\n",
    "#     yaxis={'title':f'Variable {str(yi)}: {yname} ({yunit})'},\n",
    "    plot_bgcolor='#dfe8f3',\n",
    "    sliders= sliders,\n",
    "    updatemenus = updatemenus,\n",
    ")"
   ]
  },
  {
   "cell_type": "code",
   "execution_count": 23,
   "metadata": {},
   "outputs": [],
   "source": [
    "figure = go.Figure(data=base_data, frames=frames, layout=layout)"
   ]
  },
  {
   "cell_type": "code",
   "execution_count": 26,
   "metadata": {},
   "outputs": [
    {
     "ename": "PlotlyRequestError",
     "evalue": "Hi there, you've reached the threshold of 100 combined image exports and chart saves per 24h period. If you need to raise your daily limit, please consider upgrading to a paid plan\n(see: https://plot.ly/products/cloud ).",
     "output_type": "error",
     "traceback": [
      "\u001b[1;31m---------------------------------------------------------------------------\u001b[0m",
      "\u001b[1;31mPlotlyRequestError\u001b[0m                        Traceback (most recent call last)",
      "\u001b[1;32m<ipython-input-26-fb686ff54f47>\u001b[0m in \u001b[0;36m<module>\u001b[1;34m()\u001b[0m\n\u001b[1;32m----> 1\u001b[1;33m \u001b[0mpy\u001b[0m\u001b[1;33m.\u001b[0m\u001b[0micreate_animations\u001b[0m\u001b[1;33m(\u001b[0m\u001b[0mfigure\u001b[0m\u001b[1;33m,\u001b[0m \u001b[0mfilename\u001b[0m\u001b[1;33m=\u001b[0m\u001b[1;34m'populations_2017'\u001b[0m\u001b[1;33m)\u001b[0m\u001b[1;33m\u001b[0m\u001b[0m\n\u001b[0m",
      "\u001b[1;32mc:\\users\\sergio\\projects\\presentations\\muestrario\\venv\\lib\\site-packages\\plotly\\plotly\\plotly.py\u001b[0m in \u001b[0;36micreate_animations\u001b[1;34m(figure, filename, sharing, auto_open)\u001b[0m\n\u001b[0;32m   1850\u001b[0m     \u001b[0mcreate_animations\u001b[0m\u001b[0;31m`\u001b[0m \u001b[0mDoc\u001b[0m \u001b[0mString\u001b[0m \u001b[1;32mfor\u001b[0m \u001b[0mparam\u001b[0m \u001b[0mdescriptions\u001b[0m\u001b[1;33m.\u001b[0m\u001b[1;33m\u001b[0m\u001b[0m\n\u001b[0;32m   1851\u001b[0m     \"\"\"\n\u001b[1;32m-> 1852\u001b[1;33m     \u001b[0murl\u001b[0m \u001b[1;33m=\u001b[0m \u001b[0mcreate_animations\u001b[0m\u001b[1;33m(\u001b[0m\u001b[0mfigure\u001b[0m\u001b[1;33m,\u001b[0m \u001b[0mfilename\u001b[0m\u001b[1;33m,\u001b[0m \u001b[0msharing\u001b[0m\u001b[1;33m,\u001b[0m \u001b[0mauto_open\u001b[0m\u001b[1;33m)\u001b[0m\u001b[1;33m\u001b[0m\u001b[0m\n\u001b[0m\u001b[0;32m   1853\u001b[0m \u001b[1;33m\u001b[0m\u001b[0m\n\u001b[0;32m   1854\u001b[0m     \u001b[1;32mif\u001b[0m \u001b[0misinstance\u001b[0m\u001b[1;33m(\u001b[0m\u001b[0mfigure\u001b[0m\u001b[1;33m,\u001b[0m \u001b[0mdict\u001b[0m\u001b[1;33m)\u001b[0m\u001b[1;33m:\u001b[0m\u001b[1;33m\u001b[0m\u001b[0m\n",
      "\u001b[1;32mc:\\users\\sergio\\projects\\presentations\\muestrario\\venv\\lib\\site-packages\\plotly\\plotly\\plotly.py\u001b[0m in \u001b[0;36mcreate_animations\u001b[1;34m(figure, filename, sharing, auto_open)\u001b[0m\n\u001b[0;32m   1828\u001b[0m         )\n\u001b[0;32m   1829\u001b[0m \u001b[1;33m\u001b[0m\u001b[0m\n\u001b[1;32m-> 1830\u001b[1;33m     \u001b[0mresponse\u001b[0m \u001b[1;33m=\u001b[0m \u001b[0mv2\u001b[0m\u001b[1;33m.\u001b[0m\u001b[0mplots\u001b[0m\u001b[1;33m.\u001b[0m\u001b[0mcreate\u001b[0m\u001b[1;33m(\u001b[0m\u001b[0mbody\u001b[0m\u001b[1;33m)\u001b[0m\u001b[1;33m\u001b[0m\u001b[0m\n\u001b[0m\u001b[0;32m   1831\u001b[0m     \u001b[0mparsed_content\u001b[0m \u001b[1;33m=\u001b[0m \u001b[0mresponse\u001b[0m\u001b[1;33m.\u001b[0m\u001b[0mjson\u001b[0m\u001b[1;33m(\u001b[0m\u001b[1;33m)\u001b[0m\u001b[1;33m\u001b[0m\u001b[0m\n\u001b[0;32m   1832\u001b[0m \u001b[1;33m\u001b[0m\u001b[0m\n",
      "\u001b[1;32mc:\\users\\sergio\\projects\\presentations\\muestrario\\venv\\lib\\site-packages\\plotly\\api\\v2\\plots.py\u001b[0m in \u001b[0;36mcreate\u001b[1;34m(body)\u001b[0m\n\u001b[0;32m     16\u001b[0m     \"\"\"\n\u001b[0;32m     17\u001b[0m     \u001b[0murl\u001b[0m \u001b[1;33m=\u001b[0m \u001b[0mbuild_url\u001b[0m\u001b[1;33m(\u001b[0m\u001b[0mRESOURCE\u001b[0m\u001b[1;33m)\u001b[0m\u001b[1;33m\u001b[0m\u001b[0m\n\u001b[1;32m---> 18\u001b[1;33m     \u001b[1;32mreturn\u001b[0m \u001b[0mrequest\u001b[0m\u001b[1;33m(\u001b[0m\u001b[1;34m'post'\u001b[0m\u001b[1;33m,\u001b[0m \u001b[0murl\u001b[0m\u001b[1;33m,\u001b[0m \u001b[0mjson\u001b[0m\u001b[1;33m=\u001b[0m\u001b[0mbody\u001b[0m\u001b[1;33m)\u001b[0m\u001b[1;33m\u001b[0m\u001b[0m\n\u001b[0m\u001b[0;32m     19\u001b[0m \u001b[1;33m\u001b[0m\u001b[0m\n\u001b[0;32m     20\u001b[0m \u001b[1;33m\u001b[0m\u001b[0m\n",
      "\u001b[1;32mc:\\users\\sergio\\projects\\presentations\\muestrario\\venv\\lib\\site-packages\\retrying.py\u001b[0m in \u001b[0;36mwrapped_f\u001b[1;34m(*args, **kw)\u001b[0m\n\u001b[0;32m     47\u001b[0m             \u001b[1;33m@\u001b[0m\u001b[0msix\u001b[0m\u001b[1;33m.\u001b[0m\u001b[0mwraps\u001b[0m\u001b[1;33m(\u001b[0m\u001b[0mf\u001b[0m\u001b[1;33m)\u001b[0m\u001b[1;33m\u001b[0m\u001b[0m\n\u001b[0;32m     48\u001b[0m             \u001b[1;32mdef\u001b[0m \u001b[0mwrapped_f\u001b[0m\u001b[1;33m(\u001b[0m\u001b[1;33m*\u001b[0m\u001b[0margs\u001b[0m\u001b[1;33m,\u001b[0m \u001b[1;33m**\u001b[0m\u001b[0mkw\u001b[0m\u001b[1;33m)\u001b[0m\u001b[1;33m:\u001b[0m\u001b[1;33m\u001b[0m\u001b[0m\n\u001b[1;32m---> 49\u001b[1;33m                 \u001b[1;32mreturn\u001b[0m \u001b[0mRetrying\u001b[0m\u001b[1;33m(\u001b[0m\u001b[1;33m*\u001b[0m\u001b[0mdargs\u001b[0m\u001b[1;33m,\u001b[0m \u001b[1;33m**\u001b[0m\u001b[0mdkw\u001b[0m\u001b[1;33m)\u001b[0m\u001b[1;33m.\u001b[0m\u001b[0mcall\u001b[0m\u001b[1;33m(\u001b[0m\u001b[0mf\u001b[0m\u001b[1;33m,\u001b[0m \u001b[1;33m*\u001b[0m\u001b[0margs\u001b[0m\u001b[1;33m,\u001b[0m \u001b[1;33m**\u001b[0m\u001b[0mkw\u001b[0m\u001b[1;33m)\u001b[0m\u001b[1;33m\u001b[0m\u001b[0m\n\u001b[0m\u001b[0;32m     50\u001b[0m \u001b[1;33m\u001b[0m\u001b[0m\n\u001b[0;32m     51\u001b[0m             \u001b[1;32mreturn\u001b[0m \u001b[0mwrapped_f\u001b[0m\u001b[1;33m\u001b[0m\u001b[0m\n",
      "\u001b[1;32mc:\\users\\sergio\\projects\\presentations\\muestrario\\venv\\lib\\site-packages\\retrying.py\u001b[0m in \u001b[0;36mcall\u001b[1;34m(self, fn, *args, **kwargs)\u001b[0m\n\u001b[0;32m    210\u001b[0m                 \u001b[1;32mif\u001b[0m \u001b[1;32mnot\u001b[0m \u001b[0mself\u001b[0m\u001b[1;33m.\u001b[0m\u001b[0m_wrap_exception\u001b[0m \u001b[1;32mand\u001b[0m \u001b[0mattempt\u001b[0m\u001b[1;33m.\u001b[0m\u001b[0mhas_exception\u001b[0m\u001b[1;33m:\u001b[0m\u001b[1;33m\u001b[0m\u001b[0m\n\u001b[0;32m    211\u001b[0m                     \u001b[1;31m# get() on an attempt with an exception should cause it to be raised, but raise just in case\u001b[0m\u001b[1;33m\u001b[0m\u001b[1;33m\u001b[0m\u001b[0m\n\u001b[1;32m--> 212\u001b[1;33m                     \u001b[1;32mraise\u001b[0m \u001b[0mattempt\u001b[0m\u001b[1;33m.\u001b[0m\u001b[0mget\u001b[0m\u001b[1;33m(\u001b[0m\u001b[1;33m)\u001b[0m\u001b[1;33m\u001b[0m\u001b[0m\n\u001b[0m\u001b[0;32m    213\u001b[0m                 \u001b[1;32melse\u001b[0m\u001b[1;33m:\u001b[0m\u001b[1;33m\u001b[0m\u001b[0m\n\u001b[0;32m    214\u001b[0m                     \u001b[1;32mraise\u001b[0m \u001b[0mRetryError\u001b[0m\u001b[1;33m(\u001b[0m\u001b[0mattempt\u001b[0m\u001b[1;33m)\u001b[0m\u001b[1;33m\u001b[0m\u001b[0m\n",
      "\u001b[1;32mc:\\users\\sergio\\projects\\presentations\\muestrario\\venv\\lib\\site-packages\\retrying.py\u001b[0m in \u001b[0;36mget\u001b[1;34m(self, wrap_exception)\u001b[0m\n\u001b[0;32m    245\u001b[0m                 \u001b[1;32mraise\u001b[0m \u001b[0mRetryError\u001b[0m\u001b[1;33m(\u001b[0m\u001b[0mself\u001b[0m\u001b[1;33m)\u001b[0m\u001b[1;33m\u001b[0m\u001b[0m\n\u001b[0;32m    246\u001b[0m             \u001b[1;32melse\u001b[0m\u001b[1;33m:\u001b[0m\u001b[1;33m\u001b[0m\u001b[0m\n\u001b[1;32m--> 247\u001b[1;33m                 \u001b[0msix\u001b[0m\u001b[1;33m.\u001b[0m\u001b[0mreraise\u001b[0m\u001b[1;33m(\u001b[0m\u001b[0mself\u001b[0m\u001b[1;33m.\u001b[0m\u001b[0mvalue\u001b[0m\u001b[1;33m[\u001b[0m\u001b[1;36m0\u001b[0m\u001b[1;33m]\u001b[0m\u001b[1;33m,\u001b[0m \u001b[0mself\u001b[0m\u001b[1;33m.\u001b[0m\u001b[0mvalue\u001b[0m\u001b[1;33m[\u001b[0m\u001b[1;36m1\u001b[0m\u001b[1;33m]\u001b[0m\u001b[1;33m,\u001b[0m \u001b[0mself\u001b[0m\u001b[1;33m.\u001b[0m\u001b[0mvalue\u001b[0m\u001b[1;33m[\u001b[0m\u001b[1;36m2\u001b[0m\u001b[1;33m]\u001b[0m\u001b[1;33m)\u001b[0m\u001b[1;33m\u001b[0m\u001b[0m\n\u001b[0m\u001b[0;32m    248\u001b[0m         \u001b[1;32melse\u001b[0m\u001b[1;33m:\u001b[0m\u001b[1;33m\u001b[0m\u001b[0m\n\u001b[0;32m    249\u001b[0m             \u001b[1;32mreturn\u001b[0m \u001b[0mself\u001b[0m\u001b[1;33m.\u001b[0m\u001b[0mvalue\u001b[0m\u001b[1;33m\u001b[0m\u001b[0m\n",
      "\u001b[1;32mc:\\users\\sergio\\projects\\presentations\\muestrario\\venv\\lib\\site-packages\\six.py\u001b[0m in \u001b[0;36mreraise\u001b[1;34m(tp, value, tb)\u001b[0m\n\u001b[0;32m    691\u001b[0m             \u001b[1;32mif\u001b[0m \u001b[0mvalue\u001b[0m\u001b[1;33m.\u001b[0m\u001b[0m__traceback__\u001b[0m \u001b[1;32mis\u001b[0m \u001b[1;32mnot\u001b[0m \u001b[0mtb\u001b[0m\u001b[1;33m:\u001b[0m\u001b[1;33m\u001b[0m\u001b[0m\n\u001b[0;32m    692\u001b[0m                 \u001b[1;32mraise\u001b[0m \u001b[0mvalue\u001b[0m\u001b[1;33m.\u001b[0m\u001b[0mwith_traceback\u001b[0m\u001b[1;33m(\u001b[0m\u001b[0mtb\u001b[0m\u001b[1;33m)\u001b[0m\u001b[1;33m\u001b[0m\u001b[0m\n\u001b[1;32m--> 693\u001b[1;33m             \u001b[1;32mraise\u001b[0m \u001b[0mvalue\u001b[0m\u001b[1;33m\u001b[0m\u001b[0m\n\u001b[0m\u001b[0;32m    694\u001b[0m         \u001b[1;32mfinally\u001b[0m\u001b[1;33m:\u001b[0m\u001b[1;33m\u001b[0m\u001b[0m\n\u001b[0;32m    695\u001b[0m             \u001b[0mvalue\u001b[0m \u001b[1;33m=\u001b[0m \u001b[1;32mNone\u001b[0m\u001b[1;33m\u001b[0m\u001b[0m\n",
      "\u001b[1;32mc:\\users\\sergio\\projects\\presentations\\muestrario\\venv\\lib\\site-packages\\retrying.py\u001b[0m in \u001b[0;36mcall\u001b[1;34m(self, fn, *args, **kwargs)\u001b[0m\n\u001b[0;32m    198\u001b[0m         \u001b[1;32mwhile\u001b[0m \u001b[1;32mTrue\u001b[0m\u001b[1;33m:\u001b[0m\u001b[1;33m\u001b[0m\u001b[0m\n\u001b[0;32m    199\u001b[0m             \u001b[1;32mtry\u001b[0m\u001b[1;33m:\u001b[0m\u001b[1;33m\u001b[0m\u001b[0m\n\u001b[1;32m--> 200\u001b[1;33m                 \u001b[0mattempt\u001b[0m \u001b[1;33m=\u001b[0m \u001b[0mAttempt\u001b[0m\u001b[1;33m(\u001b[0m\u001b[0mfn\u001b[0m\u001b[1;33m(\u001b[0m\u001b[1;33m*\u001b[0m\u001b[0margs\u001b[0m\u001b[1;33m,\u001b[0m \u001b[1;33m**\u001b[0m\u001b[0mkwargs\u001b[0m\u001b[1;33m)\u001b[0m\u001b[1;33m,\u001b[0m \u001b[0mattempt_number\u001b[0m\u001b[1;33m,\u001b[0m \u001b[1;32mFalse\u001b[0m\u001b[1;33m)\u001b[0m\u001b[1;33m\u001b[0m\u001b[0m\n\u001b[0m\u001b[0;32m    201\u001b[0m             \u001b[1;32mexcept\u001b[0m\u001b[1;33m:\u001b[0m\u001b[1;33m\u001b[0m\u001b[0m\n\u001b[0;32m    202\u001b[0m                 \u001b[0mtb\u001b[0m \u001b[1;33m=\u001b[0m \u001b[0msys\u001b[0m\u001b[1;33m.\u001b[0m\u001b[0mexc_info\u001b[0m\u001b[1;33m(\u001b[0m\u001b[1;33m)\u001b[0m\u001b[1;33m\u001b[0m\u001b[0m\n",
      "\u001b[1;32mc:\\users\\sergio\\projects\\presentations\\muestrario\\venv\\lib\\site-packages\\plotly\\api\\v2\\utils.py\u001b[0m in \u001b[0;36mrequest\u001b[1;34m(method, url, **kwargs)\u001b[0m\n\u001b[0;32m    153\u001b[0m         \u001b[0mcontent\u001b[0m \u001b[1;33m=\u001b[0m \u001b[0mresponse\u001b[0m\u001b[1;33m.\u001b[0m\u001b[0mcontent\u001b[0m \u001b[1;32mif\u001b[0m \u001b[0mresponse\u001b[0m \u001b[1;32melse\u001b[0m \u001b[1;34m'No content'\u001b[0m\u001b[1;33m\u001b[0m\u001b[0m\n\u001b[0;32m    154\u001b[0m         \u001b[1;32mraise\u001b[0m \u001b[0mexceptions\u001b[0m\u001b[1;33m.\u001b[0m\u001b[0mPlotlyRequestError\u001b[0m\u001b[1;33m(\u001b[0m\u001b[0mmessage\u001b[0m\u001b[1;33m,\u001b[0m \u001b[0mstatus_code\u001b[0m\u001b[1;33m,\u001b[0m \u001b[0mcontent\u001b[0m\u001b[1;33m)\u001b[0m\u001b[1;33m\u001b[0m\u001b[0m\n\u001b[1;32m--> 155\u001b[1;33m     \u001b[0mvalidate_response\u001b[0m\u001b[1;33m(\u001b[0m\u001b[0mresponse\u001b[0m\u001b[1;33m)\u001b[0m\u001b[1;33m\u001b[0m\u001b[0m\n\u001b[0m\u001b[0;32m    156\u001b[0m     \u001b[1;32mreturn\u001b[0m \u001b[0mresponse\u001b[0m\u001b[1;33m\u001b[0m\u001b[0m\n",
      "\u001b[1;32mc:\\users\\sergio\\projects\\presentations\\muestrario\\venv\\lib\\site-packages\\plotly\\api\\v2\\utils.py\u001b[0m in \u001b[0;36mvalidate_response\u001b[1;34m(response)\u001b[0m\n\u001b[0;32m     77\u001b[0m         \u001b[0mmessage\u001b[0m \u001b[1;33m=\u001b[0m \u001b[0mcontent\u001b[0m \u001b[1;32mif\u001b[0m \u001b[0mcontent\u001b[0m \u001b[1;32melse\u001b[0m \u001b[1;34m'No Content'\u001b[0m\u001b[1;33m\u001b[0m\u001b[0m\n\u001b[0;32m     78\u001b[0m \u001b[1;33m\u001b[0m\u001b[0m\n\u001b[1;32m---> 79\u001b[1;33m     \u001b[1;32mraise\u001b[0m \u001b[0mexceptions\u001b[0m\u001b[1;33m.\u001b[0m\u001b[0mPlotlyRequestError\u001b[0m\u001b[1;33m(\u001b[0m\u001b[0mmessage\u001b[0m\u001b[1;33m,\u001b[0m \u001b[0mstatus_code\u001b[0m\u001b[1;33m,\u001b[0m \u001b[0mcontent\u001b[0m\u001b[1;33m)\u001b[0m\u001b[1;33m\u001b[0m\u001b[0m\n\u001b[0m\u001b[0;32m     80\u001b[0m \u001b[1;33m\u001b[0m\u001b[0m\n\u001b[0;32m     81\u001b[0m \u001b[1;33m\u001b[0m\u001b[0m\n",
      "\u001b[1;31mPlotlyRequestError\u001b[0m: Hi there, you've reached the threshold of 100 combined image exports and chart saves per 24h period. If you need to raise your daily limit, please consider upgrading to a paid plan\n(see: https://plot.ly/products/cloud )."
     ]
    }
   ],
   "source": [
    "py.icreate_animations(figure, filename='populations_2017')"
   ]
  }
 ],
 "metadata": {
  "kernelspec": {
   "display_name": "Python 3",
   "language": "python",
   "name": "python3"
  },
  "language_info": {
   "codemirror_mode": {
    "name": "ipython",
    "version": 3
   },
   "file_extension": ".py",
   "mimetype": "text/x-python",
   "name": "python",
   "nbconvert_exporter": "python",
   "pygments_lexer": "ipython3",
   "version": "3.6.5"
  }
 },
 "nbformat": 4,
 "nbformat_minor": 2
}
