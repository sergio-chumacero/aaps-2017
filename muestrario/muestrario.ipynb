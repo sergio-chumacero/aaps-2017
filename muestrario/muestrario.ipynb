{
 "cells": [
  {
   "cell_type": "markdown",
   "metadata": {},
   "source": [
    "First off, we import the necessary libraries."
   ]
  },
  {
   "cell_type": "code",
   "execution_count": 16,
   "metadata": {},
   "outputs": [],
   "source": [
    "import plotly.plotly as py # Cloud Interaction with Plotly\n",
    "import plotly.graph_objs as go # Graph objects like tables and plots\n",
    "import plotly.figure_factory as ff # For creating nice looking tables\n",
    "import pandas as pd # For handling our data frames\n",
    "#import numpy as np # For stadistic functions\n",
    "import requests # For making requests to our API"
   ]
  },
  {
   "cell_type": "markdown",
   "metadata": {},
   "source": [
    "Now, we retrieve our data by making calls to our API."
   ]
  },
  {
   "cell_type": "code",
   "execution_count": 7,
   "metadata": {},
   "outputs": [],
   "source": [
    "reports_r = requests.get('https://peridash.ml/api/reports')\n",
    "measurements_r = requests.get('https://peridash.ml/api/measurements')\n",
    "epsas_r = requests.get('https://peridash.ml/api/epsas')"
   ]
  },
  {
   "cell_type": "markdown",
   "metadata": {},
   "source": [
    "With our data retrieved in a JSON format, we can build our Pandas dataframes."
   ]
  },
  {
   "cell_type": "code",
   "execution_count": 8,
   "metadata": {},
   "outputs": [],
   "source": [
    "reports_df = pd.read_json(reports_r.text)\n",
    "measurements_df = pd.read_json(measurements_r.text)\n",
    "epsas_df = pd.read_json(epsas_r.text)"
   ]
  },
  {
   "cell_type": "code",
   "execution_count": 36,
   "metadata": {},
   "outputs": [],
   "source": [
    "variables_r = requests.get('https://peridash.ml/api/variables')\n",
    "indicators_r = requests.get('https://peridash.ml/api/indicators')\n",
    "\n",
    "variables_df = pd.read_json(variables_r.text)\n",
    "indicators_df = pd.read_json(indicators_r.text)"
   ]
  },
  {
   "cell_type": "markdown",
   "metadata": {},
   "source": [
    "The tables need to be merged based on key columns."
   ]
  },
  {
   "cell_type": "code",
   "execution_count": 9,
   "metadata": {},
   "outputs": [],
   "source": [
    "complete_reports_df = pd.merge(reports_df, epsas_df, left_on='epsa', right_on='url')\n",
    "complete_measurements_df = pd.merge(measurements_df, epsas_df, left_on='epsa', right_on='url')"
   ]
  },
  {
   "cell_type": "markdown",
   "metadata": {},
   "source": [
    "Now we can build the final dataframes for display by:\n",
    "- choosing the fields to be displayed\n",
    "- setting their order in the table\n",
    "- filtering the rows based on their values\n",
    "- replacing column values for readability\n",
    "- changing the column names\n",
    "\n",
    "We will also append a row calculating the standard deviation of the variable/indicator values among all rows."
   ]
  },
  {
   "cell_type": "code",
   "execution_count": 10,
   "metadata": {},
   "outputs": [],
   "source": [
    "state_map = {\n",
    "    'LP': 'La Paz',\n",
    "    'SC': 'Santa Cruz',\n",
    "    'PO': 'Potosí',\n",
    "    'BE': 'Beni',\n",
    "    'TA': 'Tarija',\n",
    "    'CH': 'Chuquisaca',\n",
    "    'CO': 'Cochabamba',\n",
    "    'OR': 'Oruro',\n",
    "    'PA': 'Pando',\n",
    "}\n",
    "\n",
    "r_df_cols1 = ['code', 'category', 'state', 'year', 'v1', 'v2', 'v3']\n",
    "r_df_cols2 = ['sigla', 'categoría', 'departamento', 'año', 'v1', 'v2', 'v3']\n",
    "\n",
    "r_df = complete_reports_df.filter(items=r_df_cols1)\n",
    "r_df = r_df[(r_df.category == 'B') & (r_df.year == 2016)]\n",
    "r_df['state'] = r_df['state'].map(state_map)\n",
    "\n",
    "r_avg_row = ['PROMEDIO', '-', '-', 0, r_df.v1.mean(), r_df.v2.mean(), r_df.v3.mean()]\n",
    "r_std_row = ['DESVIACIÓN ESTÁNDAR', '-', '-', 0, r_df.v1.std(), r_df.v2.std(), r_df.v3.std()]\n",
    "r_extra_rows = pd.DataFrame([r_avg_row, r_std_row], columns=r_df_cols1)\n",
    "r_df = r_df.append(r_extra_rows)\n",
    "r_df.columns = r_df_cols2\n",
    "\n",
    "\n",
    "m_df_cols1 = ['code', 'category', 'state', 'year', 'ind1', 'ind2', 'ind3']\n",
    "m_df_cols2 = ['sigla', 'categoría', 'departamento', 'año', 'ind1', 'ind2', 'ind3']\n",
    "\n",
    "m_df = complete_measurements_df.filter(items=m_df_cols1)\n",
    "m_df = m_df[(m_df.state == 'SC') & (m_df.year == 2016)]\n",
    "m_df['state'] = m_df['state'].map(state_map)\n",
    "\n",
    "m_avg_row = ['PROMEDIO', '-', '-', 0, m_df.ind1.mean(), m_df.ind2.mean(), m_df.ind3.mean()]\n",
    "m_std_row = ['DESVIACÍON ESTÁNDAR', '-', '-', 0, m_df.ind1.std(), m_df.ind2.std(), m_df.ind3.std()]\n",
    "m_extra_rows = pd.DataFrame([m_avg_row, m_std_row], columns=m_df_cols1)\n",
    "m_df = m_df.append(m_extra_rows)\n",
    "m_df.columns = m_df_cols2"
   ]
  },
  {
   "cell_type": "markdown",
   "metadata": {},
   "source": [
    "Finally we can create our tables using figure factory."
   ]
  },
  {
   "cell_type": "code",
   "execution_count": 11,
   "metadata": {},
   "outputs": [],
   "source": [
    "reports_table = ff.create_table(r_df)\n",
    "measurements_table = ff.create_table(m_df)"
   ]
  },
  {
   "cell_type": "markdown",
   "metadata": {},
   "source": [
    "And pass them to plotly for rendering."
   ]
  },
  {
   "cell_type": "code",
   "execution_count": 12,
   "metadata": {},
   "outputs": [
    {
     "data": {
      "text/html": [
       "<iframe id=\"igraph\" scrolling=\"no\" style=\"border:none;\" seamless=\"seamless\" src=\"https://plot.ly/~sergiochumacero/12.embed\" height=\"680px\" width=\"100%\"></iframe>"
      ],
      "text/plain": [
       "<plotly.tools.PlotlyDisplay object>"
      ]
     },
     "execution_count": 12,
     "metadata": {},
     "output_type": "execute_result"
    }
   ],
   "source": [
    "py.iplot(reports_table, filename='reports_table')"
   ]
  },
  {
   "cell_type": "code",
   "execution_count": 13,
   "metadata": {},
   "outputs": [
    {
     "data": {
      "text/html": [
       "<iframe id=\"igraph\" scrolling=\"no\" style=\"border:none;\" seamless=\"seamless\" src=\"https://plot.ly/~sergiochumacero/14.embed\" height=\"1130px\" width=\"100%\"></iframe>"
      ],
      "text/plain": [
       "<plotly.tools.PlotlyDisplay object>"
      ]
     },
     "execution_count": 13,
     "metadata": {},
     "output_type": "execute_result"
    }
   ],
   "source": [
    "py.iplot(measurements_table, filename='measurements_table')"
   ]
  },
  {
   "cell_type": "markdown",
   "metadata": {},
   "source": [
    "$$ \n",
    "\\begin{equation} \\label{eq1}\n",
    "\\begin{split}\n",
    "ind1 &= \\frac{V_1}{V_8} \\cdot 365 \\cdot 24 \\cdot 100 \\\\\n",
    "ind2 &= \\frac{V_6}{V_1} \\cdot 100 \\\\\n",
    "ind3 &= \\frac{V_{12}}{V_{13}} \\cdot 100 \\\\\n",
    "ind4 &= \\frac{V_{14}}{V_{15}} \\cdot 100 \\\\\n",
    "ind5 &= \\frac{V_4 \\cdot 1000}{V_{18} \\cdot V_{21} \\cdot 365} \\\\\n",
    "ind6 &= (1-\\frac{V_{28}}{V_{27}\\cdot V_{18}}) \\cdot 24\\\\\n",
    "ind7 &= (1-\\frac{V_{29}}{V_{27}\\cdot V_{18}}) \\cdot 100\\\\\n",
    "ind8 &= \\frac{V_{18}\\cdot V_{21}}{V_{23}} \\cdot 100 \\\\\n",
    "ind9 &= \\frac{V_{19}\\cdot V_{22}}{V_{23}} \\cdot 100 \\\\\n",
    "ind10 &= \\frac{V_{20}}{V_{18}} \\cdot 100\\\\\n",
    "ind11 &= \\frac{V_3}{V_9 \\cdot 24 \\cdot 365} \\cdot 100 \\\\\n",
    "ind12 &= \\frac{V_7 \\cdot 10}{V_6 \\cdot 8} \\cdot 100 \\\\\n",
    "ind13 &= \\frac{V_{16}}{V_{17}} \\cdot 100 \\\\\n",
    "ind14 &= \\frac{V_5}{V_{10} \\cdot 24 \\cdot 365} \\cdot 100 \\\\\n",
    "ind15 &= \\frac{V_7}{V_{11} \\cdot 24 \\cdot 365} \\cdot 100 \\\\\n",
    "ind16 &= \\frac{V_{45}}{V_{46}} \\cdot 100 \\\\\n",
    "ind17 &= (1 - \\frac{V_4}{V_1}) \\cdot 100 \\\\\n",
    "ind18 &= (1 - \\frac{V_6}{V_4}) \\cdot 100 \\\\\n",
    "ind19 &= \\frac{V_{47}}{V_{49}} * 100 \\\\\n",
    "ind20 &= \\frac{V_{48}}{V_{18}} \\cdot 1000 \\\\\n",
    "ind21 &= \\frac{V_{50}}{V_{52}} \\cdot 100 \\\\\n",
    "ind22 &= \\frac{V_{51}}{V_{19}} \\cdot 1000 \\\\\n",
    "ind23 &= \\frac{V_{37}}{V_{35}} \\cdot 100 \\\\\n",
    "ind24 &= \\frac{V_{30}}{V_{33}} \\\\\n",
    "ind25 &= (1 - \\frac{V_{32}}{V_{37}}) \\cdot 100 \\\\\n",
    "ind26 &=  \\frac{V_{33}+V_{34}}{V_3} \\cdot 100 \\\\\n",
    "ind27 &= \\frac{V_{36}}{V_6} \\\\\n",
    "ind28 &= \\frac{V_{38}}{V_6} \\\\\n",
    "ind29 &= \\frac{V_{39}}{V_{40}} \\cdot 100 \\\\\n",
    "ind30 &= \\frac{V_{41}}{V_{42}} \\cdot 100 \\\\\n",
    "ind31 &= \\frac{V_{42}}{V_{18}} \\cdot 1000 \\\\\n",
    "ind32 &= \\frac{V_{43}}{V_{44}} * 100 \\\\\n",
    "\\end{split}\n",
    "\\end{equation}\n",
    "$$"
   ]
  },
  {
   "cell_type": "markdown",
   "metadata": {},
   "source": [
    "Let's try to use plotly tables instead of figure factory tables.\n",
    "These tables have the advantage of allowing for user interaction like switching columns.\n",
    "They also allow for more configuration."
   ]
  },
  {
   "cell_type": "code",
   "execution_count": 31,
   "metadata": {},
   "outputs": [],
   "source": [
    "r_trace = go.Table(\n",
    "    header=dict(values=list(r_df.columns),\n",
    "                line = dict(color='#8C8E8F'),\n",
    "                fill = dict(color='#a1c3d1'),\n",
    "                align = ['left'] * 5),\n",
    "    cells=dict(values=[r_df['sigla'],r_df['categoría'], r_df['departamento'], r_df['año'], r_df['v1'], r_df['v2'], r_df['v3']],\n",
    "               line = dict(color='#7D7F80'),\n",
    "               fill = dict(color='#EDFAFF'),\n",
    "               align = ['left'] * 5))\n",
    "\n",
    "r_data = [r_trace] \n",
    "\n",
    "m_trace = go.Table(\n",
    "    header=dict(values=list(m_df.columns),\n",
    "                line = dict(color='#8C8E8F'),\n",
    "                fill = dict(color='#a1c3d1'),\n",
    "                align = ['left'] * 5),\n",
    "    cells=dict(values=[m_df['sigla'],m_df['categoría'], m_df['departamento'], m_df['año'], m_df['ind1'], m_df['ind2'], m_df['ind3']],\n",
    "               line = dict(color='#7D7F80'),\n",
    "               fill = dict(color='#EDFAFF'),\n",
    "               align = ['left'] * 5))\n",
    "\n",
    "m_data = [m_trace] "
   ]
  },
  {
   "cell_type": "code",
   "execution_count": 30,
   "metadata": {},
   "outputs": [
    {
     "data": {
      "text/html": [
       "<iframe id=\"igraph\" scrolling=\"no\" style=\"border:none;\" seamless=\"seamless\" src=\"https://plot.ly/~sergiochumacero/18.embed\" height=\"525px\" width=\"100%\"></iframe>"
      ],
      "text/plain": [
       "<plotly.tools.PlotlyDisplay object>"
      ]
     },
     "execution_count": 30,
     "metadata": {},
     "output_type": "execute_result"
    }
   ],
   "source": [
    "py.iplot(r_data, filename = 'reports_py_table')"
   ]
  },
  {
   "cell_type": "code",
   "execution_count": 32,
   "metadata": {},
   "outputs": [
    {
     "data": {
      "text/html": [
       "<iframe id=\"igraph\" scrolling=\"no\" style=\"border:none;\" seamless=\"seamless\" src=\"https://plot.ly/~sergiochumacero/20.embed\" height=\"525px\" width=\"100%\"></iframe>"
      ],
      "text/plain": [
       "<plotly.tools.PlotlyDisplay object>"
      ]
     },
     "execution_count": 32,
     "metadata": {},
     "output_type": "execute_result"
    }
   ],
   "source": [
    "py.iplot(m_data, filename = 'measurements_py_table')"
   ]
  },
  {
   "cell_type": "markdown",
   "metadata": {},
   "source": [
    "Let's try to recreate the plots from <a href=\"https://peridash.ml/\">the live dash site</a>."
   ]
  },
  {
   "cell_type": "markdown",
   "metadata": {},
   "source": [
    "Like the scatter plot:"
   ]
  },
  {
   "cell_type": "code",
   "execution_count": 142,
   "metadata": {},
   "outputs": [
    {
     "name": "stderr",
     "output_type": "stream",
     "text": [
      "c:\\users\\sergio\\projects\\presentations\\muestrario\\venv\\lib\\site-packages\\plotly\\graph_objs\\_deprecations.py:39: DeprecationWarning:\n",
      "\n",
      "plotly.graph_objs.Data is deprecated.\n",
      "Please replace it with a list or tuple of instances of the following types\n",
      "  - plotly.graph_objs.Scatter\n",
      "  - plotly.graph_objs.Bar\n",
      "  - plotly.graph_objs.Area\n",
      "  - plotly.graph_objs.Histogram\n",
      "  - etc.\n",
      "\n",
      "\n"
     ]
    },
    {
     "data": {
      "text/html": [
       "<iframe id=\"igraph\" scrolling=\"no\" style=\"border:none;\" seamless=\"seamless\" src=\"https://plot.ly/~sergiochumacero/22.embed\" height=\"525px\" width=\"100%\"></iframe>"
      ],
      "text/plain": [
       "<plotly.tools.PlotlyDisplay object>"
      ]
     },
     "execution_count": 142,
     "metadata": {},
     "output_type": "execute_result"
    }
   ],
   "source": [
    "year_df = complete_reports_df[complete_reports_df.year == 2016]\n",
    "#year_df2 = complete_measurements_df[complete_measurements_df.year == 2016]\n",
    "\n",
    "traces = []\n",
    "\n",
    "first_var_id = 3\n",
    "second_var_id = 22\n",
    "\n",
    "for category in ['A', 'B', 'C', 'D']:\n",
    "    cat_df = year_df[year_df.category == category]\n",
    "    #cat_df2 = year_df2[year_df2.category == category]\n",
    "    \n",
    "    x_list = cat_df['v' + str(first_var_id)]\n",
    "    x_label = vdf[vdf.var_id == first_var_id]['name'].values[0]\n",
    "    x_unit = vdf[vdf.var_id == first_var_id]['unit'].values[0]\n",
    "    \n",
    "    y_list = cat_df['v' + str(second_var_id)]\n",
    "    y_label = vdf[vdf.var_id == second_var_id]['name'].values[0]\n",
    "    y_unit = vdf[vdf.var_id == second_var_id]['unit'].values[0]\n",
    "\n",
    "    scatter = go.Scatter(\n",
    "        x=x_list, y=y_list,\n",
    "        text=cat_df.code,\n",
    "        mode='markers',\n",
    "        marker=dict(\n",
    "            size=15,\n",
    "            line=dict(width=0.5, color='white')\n",
    "        ),\n",
    "        opacity=0.7,\n",
    "        name=f'Categoría {category}'\n",
    "    )\n",
    "    \n",
    "    traces.append(scatter)\n",
    "    \n",
    "data=go.Data(traces)\n",
    "layout = go.Layout(\n",
    "    xaxis=dict(\n",
    "        title=f'Volumen de Agua Potable Producido (m3/periodo)',\n",
    "        autorange=True\n",
    "    ),\n",
    "    yaxis=dict(\n",
    "        title=f'Población Toal (hab)',\n",
    "        autorange=True\n",
    "    ),\n",
    "    legend=dict(x=0, y=1),\n",
    "#             margin={'l': 60, 'b': 40, 't': 40, 'r': 10},\n",
    "#     dragmode='lasso',\n",
    ")\n",
    "    \n",
    "figure=go.Figure(data=data,layout=layout)\n",
    "py.iplot(figure, filename='variables_scatter_plot')"
   ]
  },
  {
   "cell_type": "markdown",
   "metadata": {},
   "source": [
    "or the bar diagram:"
   ]
  },
  {
   "cell_type": "code",
   "execution_count": 95,
   "metadata": {},
   "outputs": [
    {
     "data": {
      "text/html": [
       "<iframe id=\"igraph\" scrolling=\"no\" style=\"border:none;\" seamless=\"seamless\" src=\"https://plot.ly/~sergiochumacero/24.embed\" height=\"525px\" width=\"100%\"></iframe>"
      ],
      "text/plain": [
       "<plotly.tools.PlotlyDisplay object>"
      ]
     },
     "execution_count": 95,
     "metadata": {},
     "output_type": "execute_result"
    }
   ],
   "source": [
    "selected_epsa =  epsas_df.code\n",
    "\n",
    "crdf = complete_reports_df\n",
    "cmdf = complete_measurements_df\n",
    "\n",
    "ydf14 = crdf[(crdf.year == 2014) & (crdf.category == 'B')]\n",
    "ydf15 = crdf[(crdf.year == 2015) & (crdf.category == 'B')]\n",
    "ydf16 = crdf[(crdf.year == 2016) & (crdf.category == 'B')]\n",
    "\n",
    "ydf214 = cmdf[(cmdf.year == 2014) & (cmdf.category == 'B')]\n",
    "ydf215 = cmdf[(cmdf.year == 2015) & (cmdf.category == 'B')]\n",
    "ydf216 = cmdf[(cmdf.year == 2016) & (cmdf.category == 'B')]\n",
    "\n",
    "selected_vars = ['v1']\n",
    "selected_inds = ['ind1']\n",
    "\n",
    "def get_var_name(var):\n",
    "    return vdf[vdf.var_id == int(var[1:])]['name'].values[0]\n",
    "\n",
    "def get_var_unit(var):\n",
    "    return vdf[vdf.var_id == int(var[1:])]['unit'].values[0]\n",
    "\n",
    "def get_ind_name(ind):\n",
    "    return ind_names[int(ind[3:])]\n",
    "\n",
    "def get_ind_unit(ind):\n",
    "    return ind_units[int(ind[3:])]\n",
    "\n",
    "ind_names = [\n",
    "    'Rendimiento actual de la fuente', 'Uso eficiente del recurso',\n",
    "    'Cobertura de muestras de agua potable',\n",
    "    'Conformidad de los análisis de agua potable realizados',\n",
    "    'Dotación', 'Continuidad por racionamiento', 'Continuidad por corte',\n",
    "    'Cobertura del servicio de agua potable',\n",
    "    'Cobertura del servicio de alcantarillado sanitario',\n",
    "    'Cobertura de micromedición',\n",
    "    'Incidencia extracción de agua cruda subterránea ',\n",
    "    'Índice de tratamiento de agua residual', 'Control de agua residual',\n",
    "    'Capacidad instalada de planta de tratamiento de agua potable',\n",
    "    'Capacidad instalada de planta de tratamiento de agua residual ',\n",
    "    'Presión del servicio de agua potable',\n",
    "    'Índice de agua no contabilizada en producción',\n",
    "    'Índice de agua no contabilizada en la red',\n",
    "    'Densidad de fallas en tuberías de agua potable',\n",
    "    'Densidad de fallas en conexiones de agua potable',\n",
    "    'Densidad de fallas en tuberías de agua residual',\n",
    "    'Densidad de fallas en conexiones de agua residual',\n",
    "    'Índice de operación eficiente', 'Prueba ácida',\n",
    "    'Eficiencia de recaudación', 'Índice de endeudamiento total', 'Tarifa media',\n",
    "    'Costo unitario de operación', 'Índice de ejecución de inversiones',\n",
    "    'Personal calificado', 'Número de empleados por cada 1000 conexiones',\n",
    "    'Atención de reclamos'\n",
    "]\n",
    "ind_units = ['%', '%', '%', '%', 'l/hab/día', 'hr/día', '%', '%', '%', '%',\n",
    "             '%', '%', '%', '%', '%', '%', '%', '%', 'fallas/100km',\n",
    "             'fallas/1000conex.', 'fallas/100km', 'fallas/1000conex.', '%', '-',\n",
    "             '%', '%', '%CUO(Bs.)', '%TM(Bs.)', '%', '%', 'empleados/1000conex.', '%']\n",
    "\n",
    "\n",
    "data=[\n",
    "    go.Bar(\n",
    "        x=selected_epsa,\n",
    "        y=ydf214[ydf214.code.isin(selected_epsa)]['ind1'],\n",
    "        text='ind1',\n",
    "        #name=f'{get_ind_name(\"ind1\")} ({get_ind_unit(\"ind1\")})',\n",
    "        name='2014',\n",
    "        opacity=0.8\n",
    "    )\n",
    "] + [\n",
    "    go.Bar(\n",
    "        x=selected_epsa,\n",
    "        y=ydf215[ydf215.code.isin(selected_epsa)]['ind1'],\n",
    "        text='ind1',\n",
    "        #name=f'{get_ind_name(\"ind1\")} ({get_ind_unit(\"ind1\")})',\n",
    "        name='2015',\n",
    "        opacity=0.8,\n",
    "    )\n",
    "] + [\n",
    "    go.Bar(\n",
    "        x=selected_epsa,\n",
    "        y=ydf216[ydf216.code.isin(selected_epsa)]['ind1'],\n",
    "        text='ind1',\n",
    "        #name=f'{get_ind_name(\"ind1\")} ({get_ind_unit(\"idn1\")})',\n",
    "        name='2016',\n",
    "        opacity=0.8,\n",
    "    )\n",
    "]\n",
    "\n",
    "\n",
    "py.iplot(data, filename='bar_plot')"
   ]
  },
  {
   "cell_type": "code",
   "execution_count": 73,
   "metadata": {},
   "outputs": [
    {
     "data": {
      "text/plain": [
       "156   NaN\n",
       "157   NaN\n",
       "158   NaN\n",
       "Name: v1, dtype: float64"
      ]
     },
     "execution_count": 73,
     "metadata": {},
     "output_type": "execute_result"
    }
   ],
   "source": [
    "crdf[crdf.code=='SAGUAPAC'].v1"
   ]
  },
  {
   "cell_type": "markdown",
   "metadata": {},
   "source": [
    "Now we can create a plotly dashboard programmatically and publish it to the cloud."
   ]
  },
  {
   "cell_type": "code",
   "execution_count": 9,
   "metadata": {},
   "outputs": [
    {
     "data": {
      "text/plain": [
       "'https://plot.ly/~sergiochumacero/17/muestrario-aaps/'"
      ]
     },
     "execution_count": 9,
     "metadata": {},
     "output_type": "execute_result"
    }
   ],
   "source": [
    "import plotly.dashboard_objs as dashboard\n",
    "import plotly.plotly as py\n",
    "\n",
    "import IPython.display\n",
    "from IPython.display import Image\n",
    "\n",
    "my_dboard = dashboard.Dashboard()\n",
    "\n",
    "my_dboard['settings']['title'] = 'Muestrario AAPS'\n",
    "my_dboard['settings']['logoUrl'] = 'https://images.plot.ly/language-icons/api-home/python-logo.png'\n",
    "\n",
    "general_text = \"\"\"\n",
    "## Paneles de Control\n",
    "\n",
    "Este es un panel de control. Usa el mismo estilo de herramientas usadas para generar diagramas interactivos en la pagina\n",
    "[Peridash](https://peridash.ml), y nos permite mostrar información seleccionada en forma gráficas/tablas acompañadas\n",
    "de texto. Podemos armar la estructura de la página poscicionando cajas de texto, diagramas/tablas e inclusive otras páginas web.\n",
    "Si bien los diagramas y tablas son interacivos de manera individual, estos no pueden interactuar entre ellos como en la página principal,\n",
    "ya que esto requiere de una lógica más compleja y de un mayor control que sólo un servidor dedicado nos puede ofrecer.\n",
    "El objetivo de los paneles de control es la presentación rápida y guiada de resultados y datos recaudados. Esta página\n",
    "recoge los datos ofrecidos por la aplicación Peridash a través de su interfaz programática (API) para generar las visualizaciones.\n",
    "\"\"\"\n",
    "\n",
    "bar_text = '''\n",
    "## Diagramas de Barra \n",
    "\n",
    "En el panel de control podemos mostrar diagramas de barras. Como fue propuesto durante la presentación,\n",
    "es posible mostrar los valores de variables/indicadores de una o varias EPSA a lo largo de los años.\n",
    "\n",
    "#### Selección de EPSA\n",
    "Podemos escoger las EPSA de manera arbitraria, una a una o de acuerdo a su categoría, departamento, etc. \n",
    "\n",
    "#### Selección de Variables/Indicadores\n",
    "Podemos escoger uno o varios variable/indicadores para mostrar y/o comparar sus valores.\n",
    "\n",
    "En el ejemplo de la derecha vemos los valores del indicador \"Uso eficiente del recurso (%)\" de las EPSA de categoría B\n",
    "a lo largo de los años.\n",
    "'''\n",
    "\n",
    "scatter_text = '''\n",
    "## Diagramas de Dispersión\n",
    "\n",
    "Otra opción para la presentación de datos son los diagramas de dispersión. Estos tienen la ventaja de aprovechar el espacio\n",
    "de manera más eficiente y por tanto permiten la visualización de varias dimensiones simultáneamente. Es por esto que \n",
    "los diagramas de dispersión son útiles para cruzar variables. En el ejemplo de abajo vemos los valores de todas las EPSA\n",
    "del año 2016 con respecto a las variables 3 (Volumen de agua potable producido) y 22 (Población Total).\n",
    "'''\n",
    "\n",
    "table_text = '''\n",
    "## Tablas\n",
    "\n",
    "También podemos mostrar la información recogida de la aplicación Peridash en forma de tablas. Este tipo de tablas también cuentan\n",
    "con cierto nivel de interacción. Por ejemplo, las columnas pueden ser reordenadas a gusto arrastrandolas hacia los lados desde la \n",
    "cabeza de cada columna.\n",
    "'''\n",
    "\n",
    "animated_text = '''\n",
    "### Diagramas Animados\n",
    "\n",
    "En el siguiente diagrama añadimos una dimensión de información extra expresada en el tamaño de los puntos de cada EPSA. Su tamaño corresponde\n",
    "a la población total del área de servicio autorizado (variable 22). Además incluimos un slider de los años junto con una ligera animación de \n",
    "transición para poder seguir el progreso de las variables/indicadores a través de los años.\n",
    "'''\n",
    "\n",
    "general_text_box = {\n",
    "    'type': 'box',\n",
    "    'boxType': 'text',\n",
    "    'text': general_text,\n",
    "    'title': 'Información General'\n",
    "}\n",
    "\n",
    "bar_text_box = {\n",
    "    'type': 'box',\n",
    "    'boxType': 'text',\n",
    "    'text': bar_text,\n",
    "    'title': 'Información acerca de Diagramas de Barra'\n",
    "}\n",
    "\n",
    "bar_plot_box = {\n",
    "    'type': 'box',\n",
    "    'boxType': 'plot',\n",
    "    'fileId': 'sergiochumacero:24',\n",
    "    'shareKey': None,\n",
    "    'title': 'Diagrama de Barra'\n",
    "}\n",
    "\n",
    "scatter_text_box = {\n",
    "    'type': 'box',\n",
    "    'boxType': 'text',\n",
    "    'text': scatter_text,\n",
    "    'title': 'Información acerca de Diagramas de Dispersión'\n",
    "}\n",
    "\n",
    "var_scatter_box = {\n",
    "    'type': 'box',\n",
    "    'boxType': 'plot',\n",
    "    'fileId': 'sergiochumacero:22',\n",
    "    'shareKey': None,\n",
    "    'title': 'Diagrama de Dispersión'\n",
    "}\n",
    "\n",
    "table_text_box = {\n",
    "    'type': 'box',\n",
    "    'boxType': 'text',\n",
    "    'text': table_text,\n",
    "    'title': 'Información acerca de Tablas'\n",
    "}\n",
    "\n",
    "reports_table_box = {\n",
    "    'type': 'box',\n",
    "    'boxType': 'plot',\n",
    "    'fileId': 'sergiochumacero:18',\n",
    "    'shareKey': None,\n",
    "    'title': 'Tabla de Variables'\n",
    "}\n",
    "\n",
    "measurements_table_box = {\n",
    "    'type': 'box',\n",
    "    'boxType': 'plot',\n",
    "    'fileId': 'sergiochumacero:20',\n",
    "    'shareKey': None,\n",
    "    'title': 'Tabla de Indicadores'\n",
    "}\n",
    "\n",
    "animated_plot_box = {\n",
    "    'type': 'box',\n",
    "    'boxType': 'plot',\n",
    "    'fileId': 'sergiochumacero:46',\n",
    "    'shareKey': None,\n",
    "    'title': 'Diagrama Animado'\n",
    "}\n",
    "\n",
    "animated_text_box = {\n",
    "    'type':  'box',\n",
    "    'boxType': 'text',\n",
    "    'text': animated_text,\n",
    "    'title': 'Información acerca de diagramas animados.'\n",
    "}\n",
    "\n",
    "\n",
    "my_dboard.insert(general_text_box)\n",
    "my_dboard.insert(animated_text_box, 'below', 1, fill_percent=80)\n",
    "my_dboard.insert(animated_plot_box, 'below', 2, fill_percent=80)\n",
    "my_dboard.insert(bar_plot_box, 'below', 3, fill_percent=80)\n",
    "my_dboard.insert(scatter_text_box, 'below',4, fill_percent=80)\n",
    "my_dboard.insert(var_scatter_box, 'below', 5, fill_percent=80)\n",
    "my_dboard.insert(reports_table_box, 'below', 6, fill_percent=80)\n",
    "my_dboard.insert(measurements_table_box, 'below',7, fill_percent=60)\n",
    "\n",
    "my_dboard.insert(table_text_box, 'right', 7, fill_percent=30)\n",
    "my_dboard.insert(bar_text_box, 'left', 4, fill_percent=35)\n",
    "\n",
    "\n",
    "my_dboard['settings']['links'] = []\n",
    "my_dboard['settings']['links'].append({'title': 'Link al portal Peridash', 'url': 'https://peridash.ml/'})\n",
    "my_dboard['settings']['links'].append({'title': 'Link al portal de la AAPS ', 'url': 'http://http://www.aaps.gob.bo/'})\n",
    "\n",
    "# my_dboard['settings']['foregroundColor'] = '#000000'\n",
    "# my_dboard['settings']['backgroundColor'] = '#adcaea'\n",
    "# my_dboard['settings']['headerForegroundColor'] = '#ffffff'\n",
    "# my_dboard['settings']['headerBackgroundColor'] = '#D232C8'\n",
    "# my_dboard['settings']['boxBackgroundColor'] = '#ffffff'\n",
    "# my_dboard['settings']['boxBorderColor'] = '#000000'\n",
    "# my_dboard['settings']['boxHeaderBackgroundColor'] = '#ffffff'\n",
    "\n",
    "# my_dboard.get_preview()\n",
    "py.dashboard_ops.upload(my_dboard, 'My First Dashboard with Python')"
   ]
  },
  {
   "cell_type": "markdown",
   "metadata": {},
   "source": [
    "Alright, that's a start. Now let's get explorative and expand our horizon a bit. The next challenge is to create an animation with slider. The idea is to add a slider for the years to the scatter plot as well as 'stop/start' buttons together with smooth transitions of the dots resulting in a powerful animation showing the development of the EPSA over the years with respect to two indicators/variables. In the process we may add a third dimension in the form of the size of the dots corresponding to a different meassurement. Let's also don't forget the color of the dots will correspond to the category of the EPSA.\n",
    "\n",
    "First, let's create a grid."
   ]
  },
  {
   "cell_type": "code",
   "execution_count": 188,
   "metadata": {},
   "outputs": [
    {
     "ename": "KeyboardInterrupt",
     "evalue": "",
     "output_type": "error",
     "traceback": [
      "\u001b[1;31m---------------------------------------------------------------------------\u001b[0m",
      "\u001b[1;31mKeyboardInterrupt\u001b[0m                         Traceback (most recent call last)",
      "\u001b[1;32m<ipython-input-188-eb1deb2b2390>\u001b[0m in \u001b[0;36m<module>\u001b[1;34m()\u001b[0m\n\u001b[0;32m     22\u001b[0m \u001b[0mgrid\u001b[0m \u001b[1;33m=\u001b[0m \u001b[0mGrid\u001b[0m\u001b[1;33m(\u001b[0m\u001b[0mcolumns\u001b[0m\u001b[1;33m)\u001b[0m\u001b[1;33m\u001b[0m\u001b[0m\n\u001b[0;32m     23\u001b[0m \u001b[1;33m\u001b[0m\u001b[0m\n\u001b[1;32m---> 24\u001b[1;33m \u001b[0mpy\u001b[0m\u001b[1;33m.\u001b[0m\u001b[0mgrid_ops\u001b[0m\u001b[1;33m.\u001b[0m\u001b[0mupload\u001b[0m\u001b[1;33m(\u001b[0m\u001b[0mgrid\u001b[0m\u001b[1;33m,\u001b[0m \u001b[1;34m'var_animation_grid'\u001b[0m\u001b[1;33m+\u001b[0m\u001b[0mstr\u001b[0m\u001b[1;33m(\u001b[0m\u001b[0mtime\u001b[0m\u001b[1;33m.\u001b[0m\u001b[0mtime\u001b[0m\u001b[1;33m)\u001b[0m\u001b[1;33m)\u001b[0m\u001b[1;33m\u001b[0m\u001b[0m\n\u001b[0m",
      "\u001b[1;32mc:\\users\\sergio\\projects\\presentations\\muestrario\\venv\\lib\\site-packages\\plotly\\plotly\\plotly.py\u001b[0m in \u001b[0;36mupload\u001b[1;34m(cls, grid, filename, world_readable, auto_open, meta)\u001b[0m\n\u001b[0;32m   1031\u001b[0m             \u001b[0mpayload\u001b[0m\u001b[1;33m[\u001b[0m\u001b[1;34m'parent_path'\u001b[0m\u001b[1;33m]\u001b[0m \u001b[1;33m=\u001b[0m \u001b[0mparent_path\u001b[0m\u001b[1;33m\u001b[0m\u001b[0m\n\u001b[0;32m   1032\u001b[0m \u001b[1;33m\u001b[0m\u001b[0m\n\u001b[1;32m-> 1033\u001b[1;33m         \u001b[0mresponse\u001b[0m \u001b[1;33m=\u001b[0m \u001b[0mv2\u001b[0m\u001b[1;33m.\u001b[0m\u001b[0mgrids\u001b[0m\u001b[1;33m.\u001b[0m\u001b[0mcreate\u001b[0m\u001b[1;33m(\u001b[0m\u001b[0mpayload\u001b[0m\u001b[1;33m)\u001b[0m\u001b[1;33m\u001b[0m\u001b[0m\n\u001b[0m\u001b[0;32m   1034\u001b[0m \u001b[1;33m\u001b[0m\u001b[0m\n\u001b[0;32m   1035\u001b[0m         \u001b[0mparsed_content\u001b[0m \u001b[1;33m=\u001b[0m \u001b[0mresponse\u001b[0m\u001b[1;33m.\u001b[0m\u001b[0mjson\u001b[0m\u001b[1;33m(\u001b[0m\u001b[1;33m)\u001b[0m\u001b[1;33m\u001b[0m\u001b[0m\n",
      "\u001b[1;32mc:\\users\\sergio\\projects\\presentations\\muestrario\\venv\\lib\\site-packages\\plotly\\api\\v2\\grids.py\u001b[0m in \u001b[0;36mcreate\u001b[1;34m(body)\u001b[0m\n\u001b[0;32m     16\u001b[0m     \"\"\"\n\u001b[0;32m     17\u001b[0m     \u001b[0murl\u001b[0m \u001b[1;33m=\u001b[0m \u001b[0mbuild_url\u001b[0m\u001b[1;33m(\u001b[0m\u001b[0mRESOURCE\u001b[0m\u001b[1;33m)\u001b[0m\u001b[1;33m\u001b[0m\u001b[0m\n\u001b[1;32m---> 18\u001b[1;33m     \u001b[1;32mreturn\u001b[0m \u001b[0mrequest\u001b[0m\u001b[1;33m(\u001b[0m\u001b[1;34m'post'\u001b[0m\u001b[1;33m,\u001b[0m \u001b[0murl\u001b[0m\u001b[1;33m,\u001b[0m \u001b[0mjson\u001b[0m\u001b[1;33m=\u001b[0m\u001b[0mbody\u001b[0m\u001b[1;33m)\u001b[0m\u001b[1;33m\u001b[0m\u001b[0m\n\u001b[0m\u001b[0;32m     19\u001b[0m \u001b[1;33m\u001b[0m\u001b[0m\n\u001b[0;32m     20\u001b[0m \u001b[1;33m\u001b[0m\u001b[0m\n",
      "\u001b[1;32mc:\\users\\sergio\\projects\\presentations\\muestrario\\venv\\lib\\site-packages\\retrying.py\u001b[0m in \u001b[0;36mwrapped_f\u001b[1;34m(*args, **kw)\u001b[0m\n\u001b[0;32m     47\u001b[0m             \u001b[1;33m@\u001b[0m\u001b[0msix\u001b[0m\u001b[1;33m.\u001b[0m\u001b[0mwraps\u001b[0m\u001b[1;33m(\u001b[0m\u001b[0mf\u001b[0m\u001b[1;33m)\u001b[0m\u001b[1;33m\u001b[0m\u001b[0m\n\u001b[0;32m     48\u001b[0m             \u001b[1;32mdef\u001b[0m \u001b[0mwrapped_f\u001b[0m\u001b[1;33m(\u001b[0m\u001b[1;33m*\u001b[0m\u001b[0margs\u001b[0m\u001b[1;33m,\u001b[0m \u001b[1;33m**\u001b[0m\u001b[0mkw\u001b[0m\u001b[1;33m)\u001b[0m\u001b[1;33m:\u001b[0m\u001b[1;33m\u001b[0m\u001b[0m\n\u001b[1;32m---> 49\u001b[1;33m                 \u001b[1;32mreturn\u001b[0m \u001b[0mRetrying\u001b[0m\u001b[1;33m(\u001b[0m\u001b[1;33m*\u001b[0m\u001b[0mdargs\u001b[0m\u001b[1;33m,\u001b[0m \u001b[1;33m**\u001b[0m\u001b[0mdkw\u001b[0m\u001b[1;33m)\u001b[0m\u001b[1;33m.\u001b[0m\u001b[0mcall\u001b[0m\u001b[1;33m(\u001b[0m\u001b[0mf\u001b[0m\u001b[1;33m,\u001b[0m \u001b[1;33m*\u001b[0m\u001b[0margs\u001b[0m\u001b[1;33m,\u001b[0m \u001b[1;33m**\u001b[0m\u001b[0mkw\u001b[0m\u001b[1;33m)\u001b[0m\u001b[1;33m\u001b[0m\u001b[0m\n\u001b[0m\u001b[0;32m     50\u001b[0m \u001b[1;33m\u001b[0m\u001b[0m\n\u001b[0;32m     51\u001b[0m             \u001b[1;32mreturn\u001b[0m \u001b[0mwrapped_f\u001b[0m\u001b[1;33m\u001b[0m\u001b[0m\n",
      "\u001b[1;32mc:\\users\\sergio\\projects\\presentations\\muestrario\\venv\\lib\\site-packages\\retrying.py\u001b[0m in \u001b[0;36mcall\u001b[1;34m(self, fn, *args, **kwargs)\u001b[0m\n\u001b[0;32m    218\u001b[0m                     \u001b[0mjitter\u001b[0m \u001b[1;33m=\u001b[0m \u001b[0mrandom\u001b[0m\u001b[1;33m.\u001b[0m\u001b[0mrandom\u001b[0m\u001b[1;33m(\u001b[0m\u001b[1;33m)\u001b[0m \u001b[1;33m*\u001b[0m \u001b[0mself\u001b[0m\u001b[1;33m.\u001b[0m\u001b[0m_wait_jitter_max\u001b[0m\u001b[1;33m\u001b[0m\u001b[0m\n\u001b[0;32m    219\u001b[0m                     \u001b[0msleep\u001b[0m \u001b[1;33m=\u001b[0m \u001b[0msleep\u001b[0m \u001b[1;33m+\u001b[0m \u001b[0mmax\u001b[0m\u001b[1;33m(\u001b[0m\u001b[1;36m0\u001b[0m\u001b[1;33m,\u001b[0m \u001b[0mjitter\u001b[0m\u001b[1;33m)\u001b[0m\u001b[1;33m\u001b[0m\u001b[0m\n\u001b[1;32m--> 220\u001b[1;33m                 \u001b[0mtime\u001b[0m\u001b[1;33m.\u001b[0m\u001b[0msleep\u001b[0m\u001b[1;33m(\u001b[0m\u001b[0msleep\u001b[0m \u001b[1;33m/\u001b[0m \u001b[1;36m1000.0\u001b[0m\u001b[1;33m)\u001b[0m\u001b[1;33m\u001b[0m\u001b[0m\n\u001b[0m\u001b[0;32m    221\u001b[0m \u001b[1;33m\u001b[0m\u001b[0m\n\u001b[0;32m    222\u001b[0m             \u001b[0mattempt_number\u001b[0m \u001b[1;33m+=\u001b[0m \u001b[1;36m1\u001b[0m\u001b[1;33m\u001b[0m\u001b[0m\n",
      "\u001b[1;31mKeyboardInterrupt\u001b[0m: "
     ]
    }
   ],
   "source": [
    "from plotly.grid_objs import Grid, Column\n",
    "import time\n",
    "\n",
    "years = ['2014', '2015', '2016',]\n",
    "categories = ['A', 'B', 'C', 'D']\n",
    "variables = ['v3', 'v7', 'v22']\n",
    "\n",
    "df = complete_reports_df\n",
    "\n",
    "columns = []\n",
    "\n",
    "for year in years:\n",
    "    for category in categories:\n",
    "        filtered_df = df[(df.year == int(year)) & (df.category == category)]\n",
    "        \n",
    "        for var in variables:\n",
    "            column_name = f'{year}_{category}_{var}'\n",
    "            column_data = list(filtered_df[var])\n",
    "            column = Column(column_data, column_name)\n",
    "            columns.append(column)\n",
    "        \n",
    "grid = Grid(columns)\n",
    "\n",
    "py.grid_ops.upload(grid, 'var_animation_grid'+str(time.time))"
   ]
  },
  {
   "cell_type": "markdown",
   "metadata": {},
   "source": [
    "Now let's create the figure based on the grid."
   ]
  },
  {
   "cell_type": "code",
   "execution_count": 190,
   "metadata": {},
   "outputs": [
    {
     "data": {
      "text/html": [
       "<script>requirejs.config({paths: { 'plotly': ['https://cdn.plot.ly/plotly-latest.min']},});if(!window.Plotly) {{require(['plotly'],function(plotly) {window.Plotly=plotly;});}}</script>"
      ],
      "text/vnd.plotly.v1+html": [
       "<script>requirejs.config({paths: { 'plotly': ['https://cdn.plot.ly/plotly-latest.min']},});if(!window.Plotly) {{require(['plotly'],function(plotly) {window.Plotly=plotly;});}}</script>"
      ]
     },
     "metadata": {},
     "output_type": "display_data"
    },
    {
     "ename": "KeyboardInterrupt",
     "evalue": "",
     "output_type": "error",
     "traceback": [
      "\u001b[1;31m---------------------------------------------------------------------------\u001b[0m",
      "\u001b[1;31mKeyboardInterrupt\u001b[0m                         Traceback (most recent call last)",
      "\u001b[1;32m<ipython-input-190-a3ba85be3b8f>\u001b[0m in \u001b[0;36m<module>\u001b[1;34m()\u001b[0m\n\u001b[0;32m     63\u001b[0m \u001b[0mfigure\u001b[0m\u001b[1;33m[\u001b[0m\u001b[1;34m'frames'\u001b[0m\u001b[1;33m]\u001b[0m \u001b[1;33m=\u001b[0m \u001b[1;33m[\u001b[0m\u001b[0mcreate_frame\u001b[0m\u001b[1;33m(\u001b[0m\u001b[0myear\u001b[0m\u001b[1;33m)\u001b[0m \u001b[1;32mfor\u001b[0m \u001b[0myear\u001b[0m \u001b[1;32min\u001b[0m \u001b[1;33m[\u001b[0m\u001b[1;34m'2014'\u001b[0m\u001b[1;33m,\u001b[0m \u001b[1;34m'2015'\u001b[0m\u001b[1;33m,\u001b[0m \u001b[1;34m'2016'\u001b[0m\u001b[1;33m]\u001b[0m\u001b[1;33m]\u001b[0m\u001b[1;33m\u001b[0m\u001b[0m\n\u001b[0;32m     64\u001b[0m \u001b[1;33m\u001b[0m\u001b[0m\n\u001b[1;32m---> 65\u001b[1;33m \u001b[0mpy\u001b[0m\u001b[1;33m.\u001b[0m\u001b[0micreate_animations\u001b[0m\u001b[1;33m(\u001b[0m\u001b[0mfigure\u001b[0m\u001b[1;33m,\u001b[0m \u001b[1;34m'var_animation'\u001b[0m\u001b[1;33m)\u001b[0m\u001b[1;33m\u001b[0m\u001b[0m\n\u001b[0m",
      "\u001b[1;32mc:\\users\\sergio\\projects\\presentations\\muestrario\\venv\\lib\\site-packages\\plotly\\plotly\\plotly.py\u001b[0m in \u001b[0;36micreate_animations\u001b[1;34m(figure, filename, sharing, auto_open)\u001b[0m\n\u001b[0;32m   1850\u001b[0m     \u001b[0mcreate_animations\u001b[0m\u001b[0;31m`\u001b[0m \u001b[0mDoc\u001b[0m \u001b[0mString\u001b[0m \u001b[1;32mfor\u001b[0m \u001b[0mparam\u001b[0m \u001b[0mdescriptions\u001b[0m\u001b[1;33m.\u001b[0m\u001b[1;33m\u001b[0m\u001b[0m\n\u001b[0;32m   1851\u001b[0m     \"\"\"\n\u001b[1;32m-> 1852\u001b[1;33m     \u001b[0murl\u001b[0m \u001b[1;33m=\u001b[0m \u001b[0mcreate_animations\u001b[0m\u001b[1;33m(\u001b[0m\u001b[0mfigure\u001b[0m\u001b[1;33m,\u001b[0m \u001b[0mfilename\u001b[0m\u001b[1;33m,\u001b[0m \u001b[0msharing\u001b[0m\u001b[1;33m,\u001b[0m \u001b[0mauto_open\u001b[0m\u001b[1;33m)\u001b[0m\u001b[1;33m\u001b[0m\u001b[0m\n\u001b[0m\u001b[0;32m   1853\u001b[0m \u001b[1;33m\u001b[0m\u001b[0m\n\u001b[0;32m   1854\u001b[0m     \u001b[1;32mif\u001b[0m \u001b[0misinstance\u001b[0m\u001b[1;33m(\u001b[0m\u001b[0mfigure\u001b[0m\u001b[1;33m,\u001b[0m \u001b[0mdict\u001b[0m\u001b[1;33m)\u001b[0m\u001b[1;33m:\u001b[0m\u001b[1;33m\u001b[0m\u001b[0m\n",
      "\u001b[1;32mc:\\users\\sergio\\projects\\presentations\\muestrario\\venv\\lib\\site-packages\\plotly\\plotly\\plotly.py\u001b[0m in \u001b[0;36mcreate_animations\u001b[1;34m(figure, filename, sharing, auto_open)\u001b[0m\n\u001b[0;32m   1828\u001b[0m         )\n\u001b[0;32m   1829\u001b[0m \u001b[1;33m\u001b[0m\u001b[0m\n\u001b[1;32m-> 1830\u001b[1;33m     \u001b[0mresponse\u001b[0m \u001b[1;33m=\u001b[0m \u001b[0mv2\u001b[0m\u001b[1;33m.\u001b[0m\u001b[0mplots\u001b[0m\u001b[1;33m.\u001b[0m\u001b[0mcreate\u001b[0m\u001b[1;33m(\u001b[0m\u001b[0mbody\u001b[0m\u001b[1;33m)\u001b[0m\u001b[1;33m\u001b[0m\u001b[0m\n\u001b[0m\u001b[0;32m   1831\u001b[0m     \u001b[0mparsed_content\u001b[0m \u001b[1;33m=\u001b[0m \u001b[0mresponse\u001b[0m\u001b[1;33m.\u001b[0m\u001b[0mjson\u001b[0m\u001b[1;33m(\u001b[0m\u001b[1;33m)\u001b[0m\u001b[1;33m\u001b[0m\u001b[0m\n\u001b[0;32m   1832\u001b[0m \u001b[1;33m\u001b[0m\u001b[0m\n",
      "\u001b[1;32mc:\\users\\sergio\\projects\\presentations\\muestrario\\venv\\lib\\site-packages\\plotly\\api\\v2\\plots.py\u001b[0m in \u001b[0;36mcreate\u001b[1;34m(body)\u001b[0m\n\u001b[0;32m     16\u001b[0m     \"\"\"\n\u001b[0;32m     17\u001b[0m     \u001b[0murl\u001b[0m \u001b[1;33m=\u001b[0m \u001b[0mbuild_url\u001b[0m\u001b[1;33m(\u001b[0m\u001b[0mRESOURCE\u001b[0m\u001b[1;33m)\u001b[0m\u001b[1;33m\u001b[0m\u001b[0m\n\u001b[1;32m---> 18\u001b[1;33m     \u001b[1;32mreturn\u001b[0m \u001b[0mrequest\u001b[0m\u001b[1;33m(\u001b[0m\u001b[1;34m'post'\u001b[0m\u001b[1;33m,\u001b[0m \u001b[0murl\u001b[0m\u001b[1;33m,\u001b[0m \u001b[0mjson\u001b[0m\u001b[1;33m=\u001b[0m\u001b[0mbody\u001b[0m\u001b[1;33m)\u001b[0m\u001b[1;33m\u001b[0m\u001b[0m\n\u001b[0m\u001b[0;32m     19\u001b[0m \u001b[1;33m\u001b[0m\u001b[0m\n\u001b[0;32m     20\u001b[0m \u001b[1;33m\u001b[0m\u001b[0m\n",
      "\u001b[1;32mc:\\users\\sergio\\projects\\presentations\\muestrario\\venv\\lib\\site-packages\\retrying.py\u001b[0m in \u001b[0;36mwrapped_f\u001b[1;34m(*args, **kw)\u001b[0m\n\u001b[0;32m     47\u001b[0m             \u001b[1;33m@\u001b[0m\u001b[0msix\u001b[0m\u001b[1;33m.\u001b[0m\u001b[0mwraps\u001b[0m\u001b[1;33m(\u001b[0m\u001b[0mf\u001b[0m\u001b[1;33m)\u001b[0m\u001b[1;33m\u001b[0m\u001b[0m\n\u001b[0;32m     48\u001b[0m             \u001b[1;32mdef\u001b[0m \u001b[0mwrapped_f\u001b[0m\u001b[1;33m(\u001b[0m\u001b[1;33m*\u001b[0m\u001b[0margs\u001b[0m\u001b[1;33m,\u001b[0m \u001b[1;33m**\u001b[0m\u001b[0mkw\u001b[0m\u001b[1;33m)\u001b[0m\u001b[1;33m:\u001b[0m\u001b[1;33m\u001b[0m\u001b[0m\n\u001b[1;32m---> 49\u001b[1;33m                 \u001b[1;32mreturn\u001b[0m \u001b[0mRetrying\u001b[0m\u001b[1;33m(\u001b[0m\u001b[1;33m*\u001b[0m\u001b[0mdargs\u001b[0m\u001b[1;33m,\u001b[0m \u001b[1;33m**\u001b[0m\u001b[0mdkw\u001b[0m\u001b[1;33m)\u001b[0m\u001b[1;33m.\u001b[0m\u001b[0mcall\u001b[0m\u001b[1;33m(\u001b[0m\u001b[0mf\u001b[0m\u001b[1;33m,\u001b[0m \u001b[1;33m*\u001b[0m\u001b[0margs\u001b[0m\u001b[1;33m,\u001b[0m \u001b[1;33m**\u001b[0m\u001b[0mkw\u001b[0m\u001b[1;33m)\u001b[0m\u001b[1;33m\u001b[0m\u001b[0m\n\u001b[0m\u001b[0;32m     50\u001b[0m \u001b[1;33m\u001b[0m\u001b[0m\n\u001b[0;32m     51\u001b[0m             \u001b[1;32mreturn\u001b[0m \u001b[0mwrapped_f\u001b[0m\u001b[1;33m\u001b[0m\u001b[0m\n",
      "\u001b[1;32mc:\\users\\sergio\\projects\\presentations\\muestrario\\venv\\lib\\site-packages\\retrying.py\u001b[0m in \u001b[0;36mcall\u001b[1;34m(self, fn, *args, **kwargs)\u001b[0m\n\u001b[0;32m    218\u001b[0m                     \u001b[0mjitter\u001b[0m \u001b[1;33m=\u001b[0m \u001b[0mrandom\u001b[0m\u001b[1;33m.\u001b[0m\u001b[0mrandom\u001b[0m\u001b[1;33m(\u001b[0m\u001b[1;33m)\u001b[0m \u001b[1;33m*\u001b[0m \u001b[0mself\u001b[0m\u001b[1;33m.\u001b[0m\u001b[0m_wait_jitter_max\u001b[0m\u001b[1;33m\u001b[0m\u001b[0m\n\u001b[0;32m    219\u001b[0m                     \u001b[0msleep\u001b[0m \u001b[1;33m=\u001b[0m \u001b[0msleep\u001b[0m \u001b[1;33m+\u001b[0m \u001b[0mmax\u001b[0m\u001b[1;33m(\u001b[0m\u001b[1;36m0\u001b[0m\u001b[1;33m,\u001b[0m \u001b[0mjitter\u001b[0m\u001b[1;33m)\u001b[0m\u001b[1;33m\u001b[0m\u001b[0m\n\u001b[1;32m--> 220\u001b[1;33m                 \u001b[0mtime\u001b[0m\u001b[1;33m.\u001b[0m\u001b[0msleep\u001b[0m\u001b[1;33m(\u001b[0m\u001b[0msleep\u001b[0m \u001b[1;33m/\u001b[0m \u001b[1;36m1000.0\u001b[0m\u001b[1;33m)\u001b[0m\u001b[1;33m\u001b[0m\u001b[0m\n\u001b[0m\u001b[0;32m    221\u001b[0m \u001b[1;33m\u001b[0m\u001b[0m\n\u001b[0;32m    222\u001b[0m             \u001b[0mattempt_number\u001b[0m \u001b[1;33m+=\u001b[0m \u001b[1;36m1\u001b[0m\u001b[1;33m\u001b[0m\u001b[0m\n",
      "\u001b[1;31mKeyboardInterrupt\u001b[0m: "
     ]
    }
   ],
   "source": [
    "categories = ['A', 'B', 'C', 'D']\n",
    "years = ['2014', '2015', '2016']\n",
    "\n",
    "custom_colors = {\n",
    "    'A': 'rgb(171, 99, 250)',\n",
    "    'B': 'rgb(230, 99, 250)',\n",
    "    'C': 'rgb(99, 110, 250)',\n",
    "    'D': 'rgb(25, 211, 243)',\n",
    "#     'Oceania': 'rgb(50, 170, 255)'\n",
    "}\n",
    "\n",
    "figure = {\n",
    "    'data': [],\n",
    "    'layout': {'title': 'Variables a través de los años',\n",
    "#                'xaxis': {'range': [0, 2], 'autorange': False},\n",
    "#                'yaxis': {'range': [0, 2], 'autorange': False},\n",
    "               'updatemenus': [{\n",
    "                   'buttons': [\n",
    "                       {\n",
    "                        'args': [None],\n",
    "                        'label': 'Play',\n",
    "                        'method': 'animate'\n",
    "                       }, \n",
    "               ],\n",
    "#                'pad': {'r': 10, 't': 87},\n",
    "               'showactive': False,\n",
    "               'type': 'buttons'\n",
    "                }]},\n",
    "    'frames': [],\n",
    "}\n",
    "\n",
    "for category in categories:\n",
    "    data_dict = {\n",
    "        'xsrc': grid.get_column_reference(f'2014_{category}_v3'),\n",
    "        'ysrc': grid.get_column_reference(f'2014_{category}_v7'),\n",
    "        'mode': 'markers',\n",
    "#         'marker': {\n",
    "#             'sizemode': 'area',\n",
    "#             'sizeref': 200000,\n",
    "#             'sizesrc': grid.get_column_reference(f'2014_{category}_v22'),\n",
    "            'color': custom_colors[category]\n",
    "#         },\n",
    "    }\n",
    "    figure['data'].append(data_dict)\n",
    "    \n",
    "def create_frame(year):\n",
    "    frame_dict = {\n",
    "        'data': []\n",
    "    }\n",
    "    for category in categories:\n",
    "        year_cat_dict = {\n",
    "            'xsrc': grid.get_column_reference(f'{year}_{category}_v3'),\n",
    "            'ysrc': grid.get_column_reference(f'{year}_{category}_v7'),\n",
    "            'mode': 'markers',\n",
    "        }\n",
    "        frame_dict['data'].append(year_cat_dict)\n",
    "        \n",
    "    return frame_dict\n",
    "\n",
    "figure['frames'] = [create_frame(year) for year in ['2014', '2015', '2016']]\n",
    "\n",
    "py.icreate_animations(figure, 'var_animation')"
   ]
  }
 ],
 "metadata": {
  "kernelspec": {
   "display_name": "Python 3",
   "language": "python",
   "name": "python3"
  },
  "language_info": {
   "codemirror_mode": {
    "name": "ipython",
    "version": 3
   },
   "file_extension": ".py",
   "mimetype": "text/x-python",
   "name": "python",
   "nbconvert_exporter": "python",
   "pygments_lexer": "ipython3",
   "version": "3.6.5"
  }
 },
 "nbformat": 4,
 "nbformat_minor": 2
}
