{
 "cells": [
  {
   "cell_type": "code",
   "execution_count": 2,
   "metadata": {},
   "outputs": [],
   "source": [
    "import plotly.graph_objs as go\n",
    "import pandas as pd\n",
    "import requests"
   ]
  },
  {
   "cell_type": "code",
   "execution_count": 3,
   "metadata": {},
   "outputs": [],
   "source": [
    "reports_r = requests.get('https://peridash.ml/api/reports')\n",
    "measurements_r = requests.get('https://peridash.ml/api/measurements')\n",
    "epsas_r = requests.get('https://peridash.ml/api/epsas')\n",
    "variables_r = requests.get('https://peridash.ml/api/variables')\n",
    "indicators_r = requests.get('https://peridash.ml/api/indicators')"
   ]
  },
  {
   "cell_type": "code",
   "execution_count": 4,
   "metadata": {},
   "outputs": [],
   "source": [
    "reports_df = pd.read_json(reports_r.text)\n",
    "measurements_df = pd.read_json(measurements_r.text)\n",
    "epsas_df = pd.read_json(epsas_r.text)\n",
    "variables_df = pd.read_json(variables_r.text)\n",
    "indicators_df = pd.read_json(indicators_r.text)\n",
    "\n",
    "complete_reports_df = pd.merge(reports_df, epsas_df, left_on='epsa', right_on='url')\n",
    "complete_measurements_df = pd.merge(measurements_df, epsas_df, left_on='epsa', right_on='url')"
   ]
  },
  {
   "cell_type": "code",
   "execution_count": 5,
   "metadata": {},
   "outputs": [
    {
     "data": {
      "text/html": [
       "<script>requirejs.config({paths: { 'plotly': ['https://cdn.plot.ly/plotly-latest.min']},});if(!window.Plotly) {{require(['plotly'],function(plotly) {window.Plotly=plotly;});}}</script>"
      ],
      "text/vnd.plotly.v1+html": [
       "<script>requirejs.config({paths: { 'plotly': ['https://cdn.plot.ly/plotly-latest.min']},});if(!window.Plotly) {{require(['plotly'],function(plotly) {window.Plotly=plotly;});}}</script>"
      ]
     },
     "metadata": {},
     "output_type": "display_data"
    }
   ],
   "source": [
    "from plotly.offline import iplot, init_notebook_mode\n",
    "init_notebook_mode(connected=True)"
   ]
  },
  {
   "cell_type": "code",
   "execution_count": 6,
   "metadata": {},
   "outputs": [],
   "source": [
    "ind_names = [\n",
    "    'Rendimiento actual de la fuente', 'Uso eficiente del recurso',\n",
    "    'Cobertura de muestras de agua potable',\n",
    "    'Conformidad de los análisis de agua potable realizados',\n",
    "    'Dotación', 'Continuidad por racionamiento', 'Continuidad por corte',\n",
    "    'Cobertura del servicio de agua potable',\n",
    "    'Cobertura del servicio de alcantarillado sanitario',\n",
    "    'Cobertura de micromedición',\n",
    "    'Incidencia extracción de agua cruda subterránea ',\n",
    "    'Índice de tratamiento de agua residual', 'Control de agua residual',\n",
    "    'Capacidad instalada de planta de tratamiento de agua potable',\n",
    "    'Capacidad instalada de planta de tratamiento de agua residual ',\n",
    "    'Presión del servicio de agua potable',\n",
    "    'Índice de agua no contabilizada en producción',\n",
    "    'Índice de agua no contabilizada en la red',\n",
    "    'Densidad de fallas en tuberías de agua potable',\n",
    "    'Densidad de fallas en conexiones de agua potable',\n",
    "    'Densidad de fallas en tuberías de agua residual',\n",
    "    'Densidad de fallas en conexiones de agua residual',\n",
    "    'Índice de operación eficiente', 'Prueba ácida',\n",
    "    'Eficiencia de recaudación', 'Índice de endeudamiento total', 'Tarifa media',\n",
    "    'Costo unitario de operación', 'Índice de ejecución de inversiones',\n",
    "    'Personal calificado', 'Número de empleados por cada 1000 conexiones',\n",
    "    'Atención de reclamos'\n",
    "]\n",
    "ind_units = ['%', '%', '%', '%', 'l/hab/día', 'hr/día', '%', '%', '%', '%',\n",
    "             '%', '%', '%', '%', '%', '%', '%', '%', 'fallas/100km',\n",
    "             'fallas/1000conex.', 'fallas/100km', 'fallas/1000conex.', '%', '-',\n",
    "             '%', '%', '%CUO(Bs.)', '%TM(Bs.)', '%', '%', 'empleados/1000conex.', '%']\n",
    "\n",
    "colors = [\n",
    "    '#1f77b4','#ff7f0e','#2ca02c',\n",
    "    '#d62728', '#9467bd', '#8c564b',\n",
    "    '#e377c2', '#7f7f7f', '#bcbd22','#17becf'\n",
    "]\n",
    "\n",
    "def get_ind_name(ind):\n",
    "    return ind_names[int(ind[3:])-1]\n",
    "\n",
    "def get_ind_unit(ind):\n",
    "    return ind_units[int(ind[3:])-1]"
   ]
  },
  {
   "cell_type": "code",
   "execution_count": 7,
   "metadata": {},
   "outputs": [
    {
     "data": {
      "application/vnd.plotly.v1+json": {
       "data": [
        {
         "domain": {
          "x": [
           0,
           0.3
          ]
         },
         "hole": 0.4,
         "hoverinfo": "label+value+percent+name",
         "labels": [
          "COSAPAC",
          "COSAPSI",
          "EMAPAV",
          "EPSAS"
         ],
         "name": "v1",
         "textposition": "inside",
         "type": "pie",
         "uid": "68c89318-d08c-11e8-aeb8-f0761c9f65e1",
         "values": [
          4367936,
          292372,
          null,
          72946163
         ],
         "visible": true
        },
        {
         "domain": {
          "x": [
           0.32,
           0.62
          ]
         },
         "hole": 0.4,
         "hoverinfo": "label+value+percent+name",
         "labels": [
          "COSAPAC",
          "COSAPSI",
          "EMAPAV",
          "EPSAS"
         ],
         "name": "v2",
         "textposition": "inside",
         "type": "pie",
         "uid": "68c89319-d08c-11e8-aa35-f0761c9f65e1",
         "values": [
          null,
          176249,
          1233970,
          9959827
         ],
         "visible": true
        },
        {
         "domain": {
          "x": [
           0.64,
           0.94
          ]
         },
         "hole": 0.4,
         "hoverinfo": "label+value+percent+name",
         "labels": [
          "COSAPAC",
          "COSAPSI",
          "EMAPAV",
          "EPSAS"
         ],
         "name": "v3",
         "textposition": "inside",
         "type": "pie",
         "uid": "68c8931a-d08c-11e8-b44f-f0761c9f65e1",
         "values": [
          null,
          468621,
          1233970,
          74107562
         ],
         "visible": true
        },
        {
         "domain": {
          "x": [
           0,
           0.3
          ]
         },
         "hole": 0.4,
         "hoverinfo": "label+value+percent+name",
         "labels": [
          "6 DE OCTUBRE",
          "AGUAYSES",
          "CAPCHI",
          "COMAYO",
          "COOPAGUAB",
          "COOPAGUAS",
          "COOPAPPI",
          "COOPLAN",
          "COOPLIM",
          "COOSIV",
          "COOSPELCAR",
          "COSAJO",
          "COSAJU",
          "COSAP",
          "COSCHAL",
          "COSEPCO",
          "COSEPFA",
          "COSEPUR",
          "COSEPW",
          "COSFAL",
          "COSIMBO",
          "COSMIN",
          "COSMOL",
          "COSMON",
          "COSPAIL",
          "COSPAS",
          "COSPHUL",
          "COSPOL",
          "COSPUGEBUL",
          "COSSAJA",
          "FLORIDA",
          "JOROCHITO",
          "LA GUARDIA",
          "LA PORTEÑA",
          "SAGUAPAC",
          "SAJUBA",
          "SEAPAS"
         ],
         "name": "v1",
         "textposition": "inside",
         "type": "pie",
         "uid": "68c8931b-d08c-11e8-97ff-f0761c9f65e1",
         "values": [
          790840,
          null,
          null,
          342144,
          null,
          null,
          null,
          null,
          null,
          1340260,
          null,
          null,
          null,
          null,
          null,
          331407,
          null,
          1105920,
          null,
          null,
          null,
          null,
          null,
          743934.26,
          null,
          401497.12,
          null,
          null,
          null,
          562460,
          567648,
          null,
          null,
          null,
          null,
          null,
          null
         ],
         "visible": false
        },
        {
         "domain": {
          "x": [
           0.32,
           0.62
          ]
         },
         "hole": 0.4,
         "hoverinfo": "label+value+percent+name",
         "labels": [
          "6 DE OCTUBRE",
          "AGUAYSES",
          "CAPCHI",
          "COMAYO",
          "COOPAGUAB",
          "COOPAGUAS",
          "COOPAPPI",
          "COOPLAN",
          "COOPLIM",
          "COOSIV",
          "COOSPELCAR",
          "COSAJO",
          "COSAJU",
          "COSAP",
          "COSCHAL",
          "COSEPCO",
          "COSEPFA",
          "COSEPUR",
          "COSEPW",
          "COSFAL",
          "COSIMBO",
          "COSMIN",
          "COSMOL",
          "COSMON",
          "COSPAIL",
          "COSPAS",
          "COSPHUL",
          "COSPOL",
          "COSPUGEBUL",
          "COSSAJA",
          "FLORIDA",
          "JOROCHITO",
          "LA GUARDIA",
          "LA PORTEÑA",
          "SAGUAPAC",
          "SAJUBA",
          "SEAPAS"
         ],
         "name": "v2",
         "textposition": "inside",
         "type": "pie",
         "uid": "68c8931c-d08c-11e8-b995-f0761c9f65e1",
         "values": [
          531163,
          160408,
          220752,
          486720,
          387543.17,
          8047333.76,
          4015805.43,
          7014731,
          458612.51,
          127575.96,
          2405086.41,
          139207,
          761444,
          1717569.69,
          1056428.2,
          124416,
          196877.52,
          null,
          1779657,
          908544,
          775179.05,
          1139027,
          7088707,
          null,
          4449983,
          null,
          1151278.13,
          863778,
          1410890.54,
          null,
          90782.11,
          195998.51,
          680581,
          1002801.6,
          75323702,
          4500655.42,
          956721
         ],
         "visible": false
        },
        {
         "domain": {
          "x": [
           0.64,
           0.94
          ]
         },
         "hole": 0.4,
         "hoverinfo": "label+value+percent+name",
         "labels": [
          "6 DE OCTUBRE",
          "AGUAYSES",
          "CAPCHI",
          "COMAYO",
          "COOPAGUAB",
          "COOPAGUAS",
          "COOPAPPI",
          "COOPLAN",
          "COOPLIM",
          "COOSIV",
          "COOSPELCAR",
          "COSAJO",
          "COSAJU",
          "COSAP",
          "COSCHAL",
          "COSEPCO",
          "COSEPFA",
          "COSEPUR",
          "COSEPW",
          "COSFAL",
          "COSIMBO",
          "COSMIN",
          "COSMOL",
          "COSMON",
          "COSPAIL",
          "COSPAS",
          "COSPHUL",
          "COSPOL",
          "COSPUGEBUL",
          "COSSAJA",
          "FLORIDA",
          "JOROCHITO",
          "LA GUARDIA",
          "LA PORTEÑA",
          "SAGUAPAC",
          "SAJUBA",
          "SEAPAS"
         ],
         "name": "v3",
         "textposition": "inside",
         "type": "pie",
         "uid": "68c8931d-d08c-11e8-a689-f0761c9f65e1",
         "values": [
          1322003,
          160408,
          220752,
          786096,
          387543.17,
          8047333.76,
          4015805.43,
          7014731,
          458612.51,
          1266200.76,
          2405086.41,
          139207,
          761444,
          1717569.69,
          1056428.2,
          331407,
          196877.52,
          1010448,
          1779657,
          908544,
          775179.05,
          1139027,
          7088707,
          601275,
          4449983,
          387384,
          1151278.13,
          863778,
          1410890.54,
          517934,
          567648,
          195998.51,
          680581,
          1002801.6,
          74444931,
          4500655.42,
          956721
         ],
         "visible": false
        },
        {
         "domain": {
          "x": [
           0,
           0.3
          ]
         },
         "hole": 0.4,
         "hoverinfo": "label+value+percent+name",
         "labels": [
          "ASOAPAL",
          "CAPSCH",
          "COLOMI",
          "COOAPASH",
          "EMAPAS",
          "JASAP",
          "SEMAPA"
         ],
         "name": "v1",
         "textposition": "inside",
         "type": "pie",
         "uid": "68c8931e-d08c-11e8-a08a-f0761c9f65e1",
         "values": [
          178178,
          950000,
          292688.64,
          385673,
          411720,
          512460,
          14018295.52
         ],
         "visible": false
        },
        {
         "domain": {
          "x": [
           0.32,
           0.62
          ]
         },
         "hole": 0.4,
         "hoverinfo": "label+value+percent+name",
         "labels": [
          "ASOAPAL",
          "CAPSCH",
          "COLOMI",
          "COOAPASH",
          "EMAPAS",
          "JASAP",
          "SEMAPA"
         ],
         "name": "v2",
         "textposition": "inside",
         "type": "pie",
         "uid": "68c8931f-d08c-11e8-be22-f0761c9f65e1",
         "values": [
          null,
          1753581.6,
          null,
          null,
          954237.79,
          null,
          13104567.78
         ],
         "visible": false
        },
        {
         "domain": {
          "x": [
           0.64,
           0.94
          ]
         },
         "hole": 0.4,
         "hoverinfo": "label+value+percent+name",
         "labels": [
          "ASOAPAL",
          "CAPSCH",
          "COLOMI",
          "COOAPASH",
          "EMAPAS",
          "JASAP",
          "SEMAPA"
         ],
         "name": "v3",
         "textposition": "inside",
         "type": "pie",
         "uid": "68c89320-d08c-11e8-873b-f0761c9f65e1",
         "values": [
          null,
          2703581.6,
          null,
          null,
          1337137.39,
          null,
          20937334.63
         ],
         "visible": false
        },
        {
         "domain": {
          "x": [
           0,
           0.3
          ]
         },
         "hole": 0.4,
         "hoverinfo": "label+value+percent+name",
         "labels": [
          "AAPOS",
          "BUSTILLO",
          "CAPU",
          "EMPSAAT",
          "EMSABAV"
         ],
         "name": "v1",
         "textposition": "inside",
         "type": "pie",
         "uid": "68c89321-d08c-11e8-a0d3-f0761c9f65e1",
         "values": [
          7215070,
          2024913.6,
          831797.76,
          330275.23,
          671448.9
         ],
         "visible": false
        },
        {
         "domain": {
          "x": [
           0.32,
           0.62
          ]
         },
         "hole": 0.4,
         "hoverinfo": "label+value+percent+name",
         "labels": [
          "AAPOS",
          "BUSTILLO",
          "CAPU",
          "EMPSAAT",
          "EMSABAV"
         ],
         "name": "v2",
         "textposition": "inside",
         "type": "pie",
         "uid": "68c89322-d08c-11e8-8da6-f0761c9f65e1",
         "values": [
          null,
          null,
          10135,
          655603.02,
          772852.64
         ],
         "visible": false
        },
        {
         "domain": {
          "x": [
           0.64,
           0.94
          ]
         },
         "hole": 0.4,
         "hoverinfo": "label+value+percent+name",
         "labels": [
          "AAPOS",
          "BUSTILLO",
          "CAPU",
          "EMPSAAT",
          "EMSABAV"
         ],
         "name": "v3",
         "textposition": "inside",
         "type": "pie",
         "uid": "68c89323-d08c-11e8-8158-f0761c9f65e1",
         "values": [
          6054358,
          1793212.56,
          815161.8,
          985878.25,
          1154474.47
         ],
         "visible": false
        },
        {
         "domain": {
          "x": [
           0,
           0.3
          ]
         },
         "hole": 0.4,
         "hoverinfo": "label+value+percent+name",
         "labels": [
          "CAPAG",
          "COAPASB",
          "COATRI",
          "SAMAPAR",
          "SEMAPAR"
         ],
         "name": "v1",
         "textposition": "inside",
         "type": "pie",
         "uid": "68c89324-d08c-11e8-9406-f0761c9f65e1",
         "values": [
          2207520,
          null,
          null,
          797860.8,
          null
         ],
         "visible": false
        },
        {
         "domain": {
          "x": [
           0.32,
           0.62
          ]
         },
         "hole": 0.4,
         "hoverinfo": "label+value+percent+name",
         "labels": [
          "CAPAG",
          "COAPASB",
          "COATRI",
          "SAMAPAR",
          "SEMAPAR"
         ],
         "name": "v2",
         "textposition": "inside",
         "type": "pie",
         "uid": "68c89325-d08c-11e8-8c4b-f0761c9f65e1",
         "values": [
          null,
          null,
          2940448,
          null,
          1018540
         ],
         "visible": false
        },
        {
         "domain": {
          "x": [
           0.64,
           0.94
          ]
         },
         "hole": 0.4,
         "hoverinfo": "label+value+percent+name",
         "labels": [
          "CAPAG",
          "COAPASB",
          "COATRI",
          "SAMAPAR",
          "SEMAPAR"
         ],
         "name": "v3",
         "textposition": "inside",
         "type": "pie",
         "uid": "68c89326-d08c-11e8-b06d-f0761c9f65e1",
         "values": [
          2048810,
          null,
          2466628,
          797860.8,
          856792
         ],
         "visible": false
        },
        {
         "domain": {
          "x": [
           0,
           0.3
          ]
         },
         "hole": 0.4,
         "hoverinfo": "label+value+percent+name",
         "labels": [
          "COSAALT",
          "EMAAB",
          "EMAPYC",
          "MANCHACO"
         ],
         "name": "v1",
         "textposition": "inside",
         "type": "pie",
         "uid": "68c89327-d08c-11e8-b7e2-f0761c9f65e1",
         "values": [
          9711232.67,
          3117624,
          707401.08,
          2922090.6
         ],
         "visible": false
        },
        {
         "domain": {
          "x": [
           0.32,
           0.62
          ]
         },
         "hole": 0.4,
         "hoverinfo": "label+value+percent+name",
         "labels": [
          "COSAALT",
          "EMAAB",
          "EMAPYC",
          "MANCHACO"
         ],
         "name": "v2",
         "textposition": "inside",
         "type": "pie",
         "uid": "68c89328-d08c-11e8-99f2-f0761c9f65e1",
         "values": [
          6435782,
          null,
          2346234.78,
          1870680.58
         ],
         "visible": false
        },
        {
         "domain": {
          "x": [
           0.64,
           0.94
          ]
         },
         "hole": 0.4,
         "hoverinfo": "label+value+percent+name",
         "labels": [
          "COSAALT",
          "EMAAB",
          "EMAPYC",
          "MANCHACO"
         ],
         "name": "v3",
         "textposition": "inside",
         "type": "pie",
         "uid": "68c89329-d08c-11e8-aa0f-f0761c9f65e1",
         "values": [
          15137888.91,
          2842650,
          3014919.2,
          4589729.42
         ],
         "visible": false
        },
        {
         "domain": {
          "x": [
           0,
           0.3
          ]
         },
         "hole": 0.4,
         "hoverinfo": "label+value+percent+name",
         "labels": [
          "COSEPP",
          "COSERCA",
          "ELAPAS"
         ],
         "name": "v1",
         "textposition": "inside",
         "type": "pie",
         "uid": "68c8932a-d08c-11e8-9167-f0761c9f65e1",
         "values": [
          116949.3,
          431748,
          11435946.39
         ],
         "visible": false
        },
        {
         "domain": {
          "x": [
           0.32,
           0.62
          ]
         },
         "hole": 0.4,
         "hoverinfo": "label+value+percent+name",
         "labels": [
          "COSEPP",
          "COSERCA",
          "ELAPAS"
         ],
         "name": "v2",
         "textposition": "inside",
         "type": "pie",
         "uid": "68c8932b-d08c-11e8-a40a-f0761c9f65e1",
         "values": [
          13196,
          982.8,
          null
         ],
         "visible": false
        },
        {
         "domain": {
          "x": [
           0.64,
           0.94
          ]
         },
         "hole": 0.4,
         "hoverinfo": "label+value+percent+name",
         "labels": [
          "COSEPP",
          "COSERCA",
          "ELAPAS"
         ],
         "name": "v3",
         "textposition": "inside",
         "type": "pie",
         "uid": "68c8932c-d08c-11e8-859a-f0761c9f65e1",
         "values": [
          128725.39,
          416730.8,
          10852426.39
         ],
         "visible": false
        },
        {
         "domain": {
          "x": [
           0,
           0.3
          ]
         },
         "hole": 0.4,
         "hoverinfo": "label+value+percent+name",
         "labels": [
          "EPSA COBIJA"
         ],
         "name": "v1",
         "textposition": "inside",
         "type": "pie",
         "uid": "68c8932d-d08c-11e8-bf70-f0761c9f65e1",
         "values": [
          3153600
         ],
         "visible": false
        },
        {
         "domain": {
          "x": [
           0.32,
           0.62
          ]
         },
         "hole": 0.4,
         "hoverinfo": "label+value+percent+name",
         "labels": [
          "EPSA COBIJA"
         ],
         "name": "v2",
         "textposition": "inside",
         "type": "pie",
         "uid": "68c8932e-d08c-11e8-9aa8-f0761c9f65e1",
         "values": [
          null
         ],
         "visible": false
        },
        {
         "domain": {
          "x": [
           0.64,
           0.94
          ]
         },
         "hole": 0.4,
         "hoverinfo": "label+value+percent+name",
         "labels": [
          "EPSA COBIJA"
         ],
         "name": "v3",
         "textposition": "inside",
         "type": "pie",
         "uid": "68c8932f-d08c-11e8-aa9e-f0761c9f65e1",
         "values": [
          2838240
         ],
         "visible": false
        },
        {
         "domain": {
          "x": [
           0,
           0.3
          ]
         },
         "hole": 0.4,
         "hoverinfo": "label+value+percent+name",
         "labels": [
          "COAPAS VINTO",
          "EMAPA",
          "SELA",
          "SMAPA"
         ],
         "name": "v1",
         "textposition": "inside",
         "type": "pie",
         "uid": "68c89330-d08c-11e8-bd5c-f0761c9f65e1",
         "values": [
          85480,
          243349.92,
          472628,
          194585.76
         ],
         "visible": false
        },
        {
         "domain": {
          "x": [
           0.32,
           0.62
          ]
         },
         "hole": 0.4,
         "hoverinfo": "label+value+percent+name",
         "labels": [
          "COAPAS VINTO",
          "EMAPA",
          "SELA",
          "SMAPA"
         ],
         "name": "v2",
         "textposition": "inside",
         "type": "pie",
         "uid": "68c89331-d08c-11e8-97c3-f0761c9f65e1",
         "values": [
          37805.99,
          151404.48,
          11341903.32,
          330436.79
         ],
         "visible": false
        },
        {
         "domain": {
          "x": [
           0.64,
           0.94
          ]
         },
         "hole": 0.4,
         "hoverinfo": "label+value+percent+name",
         "labels": [
          "COAPAS VINTO",
          "EMAPA",
          "SELA",
          "SMAPA"
         ],
         "name": "v3",
         "textposition": "inside",
         "type": "pie",
         "uid": "68c89332-d08c-11e8-90dd-f0761c9f65e1",
         "values": [
          123285.99,
          394754.4,
          11716724,
          525022.55
         ],
         "visible": false
        }
       ],
       "layout": {
        "annotations": [
         {
          "font": {
           "size": 20
          },
          "showarrow": false,
          "text": "V1",
          "x": 0.13,
          "y": 0.5
         },
         {
          "font": {
           "size": 20
          },
          "showarrow": false,
          "text": "V2",
          "x": 0.47,
          "y": 0.5
         },
         {
          "font": {
           "size": 20
          },
          "showarrow": false,
          "text": "V3",
          "x": 0.81,
          "y": 0.5
         },
         {
          "font": {
           "size": 20
          },
          "showarrow": false,
          "text": "Fuentes<br>Superficiales",
          "x": 0.07,
          "y": 0
         },
         {
          "font": {
           "size": 20
          },
          "showarrow": false,
          "text": "Fuentes<br>Subterráneas",
          "x": 0.48,
          "y": 0
         },
         {
          "font": {
           "size": 20
          },
          "showarrow": false,
          "text": "Volumen AP<br>Producido",
          "x": 0.87,
          "y": 0
         }
        ],
        "title": "<b>V1</b>: Volumen de agua cruda extraído de la(s) fuente(s) superficial(es)(m3/periodo)<br><b>V2</b>: Volumen de agua cruda extraído de la(s) fuente(s) subterránea(s) (m3/periodo)<br><b>V3</b>: Volumen de agua potable producido (Planta de tratamiento y/o tanque de desinfección)(m3/periodo)",
        "titlefont": {
         "size": 15
        },
        "updatemenus": [
         {
          "active": 0,
          "buttons": [
           {
            "args": [
             {
              "visible": [
               true,
               true,
               true,
               false,
               false,
               false,
               false,
               false,
               false,
               false,
               false,
               false,
               false,
               false,
               false,
               false,
               false,
               false,
               false,
               false,
               false,
               false,
               false,
               false,
               false,
               false,
               false
              ]
             },
             {}
            ],
            "label": "La Paz",
            "method": "update"
           },
           {
            "args": [
             {
              "visible": [
               false,
               false,
               false,
               true,
               true,
               true,
               false,
               false,
               false,
               false,
               false,
               false,
               false,
               false,
               false,
               false,
               false,
               false,
               false,
               false,
               false,
               false,
               false,
               false,
               false,
               false,
               false
              ]
             },
             {}
            ],
            "label": "Santa Cruz",
            "method": "update"
           },
           {
            "args": [
             {
              "visible": [
               false,
               false,
               false,
               false,
               false,
               false,
               true,
               true,
               true,
               false,
               false,
               false,
               false,
               false,
               false,
               false,
               false,
               false,
               false,
               false,
               false,
               false,
               false,
               false,
               false,
               false,
               false
              ]
             },
             {}
            ],
            "label": "Cochabamba",
            "method": "update"
           },
           {
            "args": [
             {
              "visible": [
               false,
               false,
               false,
               false,
               false,
               false,
               false,
               false,
               false,
               true,
               true,
               true,
               false,
               false,
               false,
               false,
               false,
               false,
               false,
               false,
               false,
               false,
               false,
               false,
               false,
               false,
               false
              ]
             },
             {}
            ],
            "label": "Potosí",
            "method": "update"
           },
           {
            "args": [
             {
              "visible": [
               false,
               false,
               false,
               false,
               false,
               false,
               false,
               false,
               false,
               false,
               false,
               false,
               true,
               true,
               true,
               false,
               false,
               false,
               false,
               false,
               false,
               false,
               false,
               false,
               false,
               false,
               false
              ]
             },
             {}
            ],
            "label": "Beni",
            "method": "update"
           },
           {
            "args": [
             {
              "visible": [
               false,
               false,
               false,
               false,
               false,
               false,
               false,
               false,
               false,
               false,
               false,
               false,
               false,
               false,
               false,
               true,
               true,
               true,
               false,
               false,
               false,
               false,
               false,
               false,
               false,
               false,
               false
              ]
             },
             {}
            ],
            "label": "Tarija",
            "method": "update"
           },
           {
            "args": [
             {
              "visible": [
               false,
               false,
               false,
               false,
               false,
               false,
               false,
               false,
               false,
               false,
               false,
               false,
               false,
               false,
               false,
               true,
               true,
               true,
               false,
               false,
               false,
               false,
               false,
               false,
               false,
               false,
               false
              ]
             },
             {}
            ],
            "label": "Chuquisaca",
            "method": "update"
           },
           {
            "args": [
             {
              "visible": [
               false,
               false,
               false,
               false,
               false,
               false,
               false,
               false,
               false,
               false,
               false,
               false,
               false,
               false,
               false,
               false,
               false,
               false,
               false,
               false,
               false,
               true,
               true,
               true,
               false,
               false,
               false
              ]
             },
             {}
            ],
            "label": "Pando",
            "method": "update"
           },
           {
            "args": [
             {
              "visible": [
               false,
               false,
               false,
               false,
               false,
               false,
               false,
               false,
               false,
               false,
               false,
               false,
               false,
               false,
               false,
               false,
               false,
               false,
               false,
               false,
               false,
               false,
               false,
               false,
               true,
               true,
               true
              ]
             },
             {}
            ],
            "label": "Oruro",
            "method": "update"
           }
          ],
          "direction": "up",
          "x": 0.4,
          "xanchor": "left",
          "y": -0.05,
          "yanchor": "top"
         }
        ]
       }
      },
      "text/html": [
       "<div id=\"3d6168f1-c2dd-42b8-ab31-59e868fa3bfe\" style=\"height: 525px; width: 100%;\" class=\"plotly-graph-div\"></div><script type=\"text/javascript\">require([\"plotly\"], function(Plotly) { window.PLOTLYENV=window.PLOTLYENV || {};window.PLOTLYENV.BASE_URL=\"https://plot.ly\";\n",
       "        Plotly.plot(\n",
       "            '3d6168f1-c2dd-42b8-ab31-59e868fa3bfe',\n",
       "            [{\"domain\": {\"x\": [0, 0.3]}, \"hole\": 0.4, \"hoverinfo\": \"label+value+percent+name\", \"labels\": [\"COSAPAC\", \"COSAPSI\", \"EMAPAV\", \"EPSAS\"], \"name\": \"v1\", \"textposition\": \"inside\", \"values\": [4367936.0, 292372.0, null, 72946163.0], \"visible\": true, \"type\": \"pie\", \"uid\": \"68c89318-d08c-11e8-aeb8-f0761c9f65e1\"}, {\"domain\": {\"x\": [0.32, 0.62]}, \"hole\": 0.4, \"hoverinfo\": \"label+value+percent+name\", \"labels\": [\"COSAPAC\", \"COSAPSI\", \"EMAPAV\", \"EPSAS\"], \"name\": \"v2\", \"textposition\": \"inside\", \"values\": [null, 176249.0, 1233970.0, 9959827.0], \"visible\": true, \"type\": \"pie\", \"uid\": \"68c89319-d08c-11e8-aa35-f0761c9f65e1\"}, {\"domain\": {\"x\": [0.64, 0.94]}, \"hole\": 0.4, \"hoverinfo\": \"label+value+percent+name\", \"labels\": [\"COSAPAC\", \"COSAPSI\", \"EMAPAV\", \"EPSAS\"], \"name\": \"v3\", \"textposition\": \"inside\", \"values\": [null, 468621.0, 1233970.0, 74107562.0], \"visible\": true, \"type\": \"pie\", \"uid\": \"68c8931a-d08c-11e8-b44f-f0761c9f65e1\"}, {\"domain\": {\"x\": [0, 0.3]}, \"hole\": 0.4, \"hoverinfo\": \"label+value+percent+name\", \"labels\": [\"6 DE OCTUBRE\", \"AGUAYSES\", \"CAPCHI\", \"COMAYO\", \"COOPAGUAB\", \"COOPAGUAS\", \"COOPAPPI\", \"COOPLAN\", \"COOPLIM\", \"COOSIV\", \"COOSPELCAR\", \"COSAJO\", \"COSAJU\", \"COSAP\", \"COSCHAL\", \"COSEPCO\", \"COSEPFA\", \"COSEPUR\", \"COSEPW\", \"COSFAL\", \"COSIMBO\", \"COSMIN\", \"COSMOL\", \"COSMON\", \"COSPAIL\", \"COSPAS\", \"COSPHUL\", \"COSPOL\", \"COSPUGEBUL\", \"COSSAJA\", \"FLORIDA\", \"JOROCHITO\", \"LA GUARDIA\", \"LA PORTE\\u00d1A\", \"SAGUAPAC\", \"SAJUBA\", \"SEAPAS\"], \"name\": \"v1\", \"textposition\": \"inside\", \"values\": [790840.0, null, null, 342144.0, null, null, null, null, null, 1340260.0, null, null, null, null, null, 331407.0, null, 1105920.0, null, null, null, null, null, 743934.26, null, 401497.12, null, null, null, 562460.0, 567648.0, null, null, null, null, null, null], \"visible\": false, \"type\": \"pie\", \"uid\": \"68c8931b-d08c-11e8-97ff-f0761c9f65e1\"}, {\"domain\": {\"x\": [0.32, 0.62]}, \"hole\": 0.4, \"hoverinfo\": \"label+value+percent+name\", \"labels\": [\"6 DE OCTUBRE\", \"AGUAYSES\", \"CAPCHI\", \"COMAYO\", \"COOPAGUAB\", \"COOPAGUAS\", \"COOPAPPI\", \"COOPLAN\", \"COOPLIM\", \"COOSIV\", \"COOSPELCAR\", \"COSAJO\", \"COSAJU\", \"COSAP\", \"COSCHAL\", \"COSEPCO\", \"COSEPFA\", \"COSEPUR\", \"COSEPW\", \"COSFAL\", \"COSIMBO\", \"COSMIN\", \"COSMOL\", \"COSMON\", \"COSPAIL\", \"COSPAS\", \"COSPHUL\", \"COSPOL\", \"COSPUGEBUL\", \"COSSAJA\", \"FLORIDA\", \"JOROCHITO\", \"LA GUARDIA\", \"LA PORTE\\u00d1A\", \"SAGUAPAC\", \"SAJUBA\", \"SEAPAS\"], \"name\": \"v2\", \"textposition\": \"inside\", \"values\": [531163.0, 160408.0, 220752.0, 486720.0, 387543.17, 8047333.76, 4015805.43, 7014731.0, 458612.51, 127575.96, 2405086.41, 139207.0, 761444.0, 1717569.69, 1056428.2, 124416.0, 196877.52, null, 1779657.0, 908544.0, 775179.05, 1139027.0, 7088707.0, null, 4449983.0, null, 1151278.13, 863778.0, 1410890.54, null, 90782.11, 195998.51, 680581.0, 1002801.6, 75323702.0, 4500655.42, 956721.0], \"visible\": false, \"type\": \"pie\", \"uid\": \"68c8931c-d08c-11e8-b995-f0761c9f65e1\"}, {\"domain\": {\"x\": [0.64, 0.94]}, \"hole\": 0.4, \"hoverinfo\": \"label+value+percent+name\", \"labels\": [\"6 DE OCTUBRE\", \"AGUAYSES\", \"CAPCHI\", \"COMAYO\", \"COOPAGUAB\", \"COOPAGUAS\", \"COOPAPPI\", \"COOPLAN\", \"COOPLIM\", \"COOSIV\", \"COOSPELCAR\", \"COSAJO\", \"COSAJU\", \"COSAP\", \"COSCHAL\", \"COSEPCO\", \"COSEPFA\", \"COSEPUR\", \"COSEPW\", \"COSFAL\", \"COSIMBO\", \"COSMIN\", \"COSMOL\", \"COSMON\", \"COSPAIL\", \"COSPAS\", \"COSPHUL\", \"COSPOL\", \"COSPUGEBUL\", \"COSSAJA\", \"FLORIDA\", \"JOROCHITO\", \"LA GUARDIA\", \"LA PORTE\\u00d1A\", \"SAGUAPAC\", \"SAJUBA\", \"SEAPAS\"], \"name\": \"v3\", \"textposition\": \"inside\", \"values\": [1322003.0, 160408.0, 220752.0, 786096.0, 387543.17, 8047333.76, 4015805.43, 7014731.0, 458612.51, 1266200.76, 2405086.41, 139207.0, 761444.0, 1717569.69, 1056428.2, 331407.0, 196877.52, 1010448.0, 1779657.0, 908544.0, 775179.05, 1139027.0, 7088707.0, 601275.0, 4449983.0, 387384.0, 1151278.13, 863778.0, 1410890.54, 517934.0, 567648.0, 195998.51, 680581.0, 1002801.6, 74444931.0, 4500655.42, 956721.0], \"visible\": false, \"type\": \"pie\", \"uid\": \"68c8931d-d08c-11e8-a689-f0761c9f65e1\"}, {\"domain\": {\"x\": [0, 0.3]}, \"hole\": 0.4, \"hoverinfo\": \"label+value+percent+name\", \"labels\": [\"ASOAPAL\", \"CAPSCH\", \"COLOMI\", \"COOAPASH\", \"EMAPAS\", \"JASAP\", \"SEMAPA\"], \"name\": \"v1\", \"textposition\": \"inside\", \"values\": [178178.0, 950000.0, 292688.64, 385673.0, 411720.0, 512460.0, 14018295.52], \"visible\": false, \"type\": \"pie\", \"uid\": \"68c8931e-d08c-11e8-a08a-f0761c9f65e1\"}, {\"domain\": {\"x\": [0.32, 0.62]}, \"hole\": 0.4, \"hoverinfo\": \"label+value+percent+name\", \"labels\": [\"ASOAPAL\", \"CAPSCH\", \"COLOMI\", \"COOAPASH\", \"EMAPAS\", \"JASAP\", \"SEMAPA\"], \"name\": \"v2\", \"textposition\": \"inside\", \"values\": [null, 1753581.6, null, null, 954237.79, null, 13104567.78], \"visible\": false, \"type\": \"pie\", \"uid\": \"68c8931f-d08c-11e8-be22-f0761c9f65e1\"}, {\"domain\": {\"x\": [0.64, 0.94]}, \"hole\": 0.4, \"hoverinfo\": \"label+value+percent+name\", \"labels\": [\"ASOAPAL\", \"CAPSCH\", \"COLOMI\", \"COOAPASH\", \"EMAPAS\", \"JASAP\", \"SEMAPA\"], \"name\": \"v3\", \"textposition\": \"inside\", \"values\": [null, 2703581.6, null, null, 1337137.39, null, 20937334.63], \"visible\": false, \"type\": \"pie\", \"uid\": \"68c89320-d08c-11e8-873b-f0761c9f65e1\"}, {\"domain\": {\"x\": [0, 0.3]}, \"hole\": 0.4, \"hoverinfo\": \"label+value+percent+name\", \"labels\": [\"AAPOS\", \"BUSTILLO\", \"CAPU\", \"EMPSAAT\", \"EMSABAV\"], \"name\": \"v1\", \"textposition\": \"inside\", \"values\": [7215070.0, 2024913.6, 831797.76, 330275.23, 671448.9], \"visible\": false, \"type\": \"pie\", \"uid\": \"68c89321-d08c-11e8-a0d3-f0761c9f65e1\"}, {\"domain\": {\"x\": [0.32, 0.62]}, \"hole\": 0.4, \"hoverinfo\": \"label+value+percent+name\", \"labels\": [\"AAPOS\", \"BUSTILLO\", \"CAPU\", \"EMPSAAT\", \"EMSABAV\"], \"name\": \"v2\", \"textposition\": \"inside\", \"values\": [null, null, 10135.0, 655603.02, 772852.64], \"visible\": false, \"type\": \"pie\", \"uid\": \"68c89322-d08c-11e8-8da6-f0761c9f65e1\"}, {\"domain\": {\"x\": [0.64, 0.94]}, \"hole\": 0.4, \"hoverinfo\": \"label+value+percent+name\", \"labels\": [\"AAPOS\", \"BUSTILLO\", \"CAPU\", \"EMPSAAT\", \"EMSABAV\"], \"name\": \"v3\", \"textposition\": \"inside\", \"values\": [6054358.0, 1793212.56, 815161.8, 985878.25, 1154474.47], \"visible\": false, \"type\": \"pie\", \"uid\": \"68c89323-d08c-11e8-8158-f0761c9f65e1\"}, {\"domain\": {\"x\": [0, 0.3]}, \"hole\": 0.4, \"hoverinfo\": \"label+value+percent+name\", \"labels\": [\"CAPAG\", \"COAPASB\", \"COATRI\", \"SAMAPAR\", \"SEMAPAR\"], \"name\": \"v1\", \"textposition\": \"inside\", \"values\": [2207520.0, null, null, 797860.8, null], \"visible\": false, \"type\": \"pie\", \"uid\": \"68c89324-d08c-11e8-9406-f0761c9f65e1\"}, {\"domain\": {\"x\": [0.32, 0.62]}, \"hole\": 0.4, \"hoverinfo\": \"label+value+percent+name\", \"labels\": [\"CAPAG\", \"COAPASB\", \"COATRI\", \"SAMAPAR\", \"SEMAPAR\"], \"name\": \"v2\", \"textposition\": \"inside\", \"values\": [null, null, 2940448.0, null, 1018540.0], \"visible\": false, \"type\": \"pie\", \"uid\": \"68c89325-d08c-11e8-8c4b-f0761c9f65e1\"}, {\"domain\": {\"x\": [0.64, 0.94]}, \"hole\": 0.4, \"hoverinfo\": \"label+value+percent+name\", \"labels\": [\"CAPAG\", \"COAPASB\", \"COATRI\", \"SAMAPAR\", \"SEMAPAR\"], \"name\": \"v3\", \"textposition\": \"inside\", \"values\": [2048810.0, null, 2466628.0, 797860.8, 856792.0], \"visible\": false, \"type\": \"pie\", \"uid\": \"68c89326-d08c-11e8-b06d-f0761c9f65e1\"}, {\"domain\": {\"x\": [0, 0.3]}, \"hole\": 0.4, \"hoverinfo\": \"label+value+percent+name\", \"labels\": [\"COSAALT\", \"EMAAB\", \"EMAPYC\", \"MANCHACO\"], \"name\": \"v1\", \"textposition\": \"inside\", \"values\": [9711232.67, 3117624.0, 707401.08, 2922090.6], \"visible\": false, \"type\": \"pie\", \"uid\": \"68c89327-d08c-11e8-b7e2-f0761c9f65e1\"}, {\"domain\": {\"x\": [0.32, 0.62]}, \"hole\": 0.4, \"hoverinfo\": \"label+value+percent+name\", \"labels\": [\"COSAALT\", \"EMAAB\", \"EMAPYC\", \"MANCHACO\"], \"name\": \"v2\", \"textposition\": \"inside\", \"values\": [6435782.0, null, 2346234.78, 1870680.58], \"visible\": false, \"type\": \"pie\", \"uid\": \"68c89328-d08c-11e8-99f2-f0761c9f65e1\"}, {\"domain\": {\"x\": [0.64, 0.94]}, \"hole\": 0.4, \"hoverinfo\": \"label+value+percent+name\", \"labels\": [\"COSAALT\", \"EMAAB\", \"EMAPYC\", \"MANCHACO\"], \"name\": \"v3\", \"textposition\": \"inside\", \"values\": [15137888.91, 2842650.0, 3014919.2, 4589729.42], \"visible\": false, \"type\": \"pie\", \"uid\": \"68c89329-d08c-11e8-aa0f-f0761c9f65e1\"}, {\"domain\": {\"x\": [0, 0.3]}, \"hole\": 0.4, \"hoverinfo\": \"label+value+percent+name\", \"labels\": [\"COSEPP\", \"COSERCA\", \"ELAPAS\"], \"name\": \"v1\", \"textposition\": \"inside\", \"values\": [116949.3, 431748.0, 11435946.39], \"visible\": false, \"type\": \"pie\", \"uid\": \"68c8932a-d08c-11e8-9167-f0761c9f65e1\"}, {\"domain\": {\"x\": [0.32, 0.62]}, \"hole\": 0.4, \"hoverinfo\": \"label+value+percent+name\", \"labels\": [\"COSEPP\", \"COSERCA\", \"ELAPAS\"], \"name\": \"v2\", \"textposition\": \"inside\", \"values\": [13196.0, 982.8, null], \"visible\": false, \"type\": \"pie\", \"uid\": \"68c8932b-d08c-11e8-a40a-f0761c9f65e1\"}, {\"domain\": {\"x\": [0.64, 0.94]}, \"hole\": 0.4, \"hoverinfo\": \"label+value+percent+name\", \"labels\": [\"COSEPP\", \"COSERCA\", \"ELAPAS\"], \"name\": \"v3\", \"textposition\": \"inside\", \"values\": [128725.39, 416730.8, 10852426.39], \"visible\": false, \"type\": \"pie\", \"uid\": \"68c8932c-d08c-11e8-859a-f0761c9f65e1\"}, {\"domain\": {\"x\": [0, 0.3]}, \"hole\": 0.4, \"hoverinfo\": \"label+value+percent+name\", \"labels\": [\"EPSA COBIJA\"], \"name\": \"v1\", \"textposition\": \"inside\", \"values\": [3153600.0], \"visible\": false, \"type\": \"pie\", \"uid\": \"68c8932d-d08c-11e8-bf70-f0761c9f65e1\"}, {\"domain\": {\"x\": [0.32, 0.62]}, \"hole\": 0.4, \"hoverinfo\": \"label+value+percent+name\", \"labels\": [\"EPSA COBIJA\"], \"name\": \"v2\", \"textposition\": \"inside\", \"values\": [null], \"visible\": false, \"type\": \"pie\", \"uid\": \"68c8932e-d08c-11e8-9aa8-f0761c9f65e1\"}, {\"domain\": {\"x\": [0.64, 0.94]}, \"hole\": 0.4, \"hoverinfo\": \"label+value+percent+name\", \"labels\": [\"EPSA COBIJA\"], \"name\": \"v3\", \"textposition\": \"inside\", \"values\": [2838240.0], \"visible\": false, \"type\": \"pie\", \"uid\": \"68c8932f-d08c-11e8-aa9e-f0761c9f65e1\"}, {\"domain\": {\"x\": [0, 0.3]}, \"hole\": 0.4, \"hoverinfo\": \"label+value+percent+name\", \"labels\": [\"COAPAS VINTO\", \"EMAPA\", \"SELA\", \"SMAPA\"], \"name\": \"v1\", \"textposition\": \"inside\", \"values\": [85480.0, 243349.92, 472628.0, 194585.76], \"visible\": false, \"type\": \"pie\", \"uid\": \"68c89330-d08c-11e8-bd5c-f0761c9f65e1\"}, {\"domain\": {\"x\": [0.32, 0.62]}, \"hole\": 0.4, \"hoverinfo\": \"label+value+percent+name\", \"labels\": [\"COAPAS VINTO\", \"EMAPA\", \"SELA\", \"SMAPA\"], \"name\": \"v2\", \"textposition\": \"inside\", \"values\": [37805.99, 151404.48, 11341903.32, 330436.79], \"visible\": false, \"type\": \"pie\", \"uid\": \"68c89331-d08c-11e8-97c3-f0761c9f65e1\"}, {\"domain\": {\"x\": [0.64, 0.94]}, \"hole\": 0.4, \"hoverinfo\": \"label+value+percent+name\", \"labels\": [\"COAPAS VINTO\", \"EMAPA\", \"SELA\", \"SMAPA\"], \"name\": \"v3\", \"textposition\": \"inside\", \"values\": [123285.99, 394754.4, 11716724.0, 525022.55], \"visible\": false, \"type\": \"pie\", \"uid\": \"68c89332-d08c-11e8-90dd-f0761c9f65e1\"}],\n",
       "            {\"annotations\": [{\"font\": {\"size\": 20}, \"showarrow\": false, \"text\": \"V1\", \"x\": 0.13, \"y\": 0.5}, {\"font\": {\"size\": 20}, \"showarrow\": false, \"text\": \"V2\", \"x\": 0.47, \"y\": 0.5}, {\"font\": {\"size\": 20}, \"showarrow\": false, \"text\": \"V3\", \"x\": 0.81, \"y\": 0.5}, {\"font\": {\"size\": 20}, \"showarrow\": false, \"text\": \"Fuentes<br>Superficiales\", \"x\": 0.07, \"y\": 0}, {\"font\": {\"size\": 20}, \"showarrow\": false, \"text\": \"Fuentes<br>Subterr\\u00e1neas\", \"x\": 0.48, \"y\": 0}, {\"font\": {\"size\": 20}, \"showarrow\": false, \"text\": \"Volumen AP<br>Producido\", \"x\": 0.87, \"y\": 0}], \"title\": \"<b>V1</b>: Volumen de agua cruda extra\\u00eddo de la(s) fuente(s) superficial(es)(m3/periodo)<br><b>V2</b>: Volumen de agua cruda extra\\u00eddo de la(s) fuente(s) subterr\\u00e1nea(s) (m3/periodo)<br><b>V3</b>: Volumen de agua potable producido (Planta de tratamiento y/o tanque de desinfecci\\u00f3n)(m3/periodo)\", \"titlefont\": {\"size\": 15}, \"updatemenus\": [{\"active\": 0, \"buttons\": [{\"args\": [{\"visible\": [true, true, true, false, false, false, false, false, false, false, false, false, false, false, false, false, false, false, false, false, false, false, false, false, false, false, false]}, {}], \"label\": \"La Paz\", \"method\": \"update\"}, {\"args\": [{\"visible\": [false, false, false, true, true, true, false, false, false, false, false, false, false, false, false, false, false, false, false, false, false, false, false, false, false, false, false]}, {}], \"label\": \"Santa Cruz\", \"method\": \"update\"}, {\"args\": [{\"visible\": [false, false, false, false, false, false, true, true, true, false, false, false, false, false, false, false, false, false, false, false, false, false, false, false, false, false, false]}, {}], \"label\": \"Cochabamba\", \"method\": \"update\"}, {\"args\": [{\"visible\": [false, false, false, false, false, false, false, false, false, true, true, true, false, false, false, false, false, false, false, false, false, false, false, false, false, false, false]}, {}], \"label\": \"Potos\\u00ed\", \"method\": \"update\"}, {\"args\": [{\"visible\": [false, false, false, false, false, false, false, false, false, false, false, false, true, true, true, false, false, false, false, false, false, false, false, false, false, false, false]}, {}], \"label\": \"Beni\", \"method\": \"update\"}, {\"args\": [{\"visible\": [false, false, false, false, false, false, false, false, false, false, false, false, false, false, false, true, true, true, false, false, false, false, false, false, false, false, false]}, {}], \"label\": \"Tarija\", \"method\": \"update\"}, {\"args\": [{\"visible\": [false, false, false, false, false, false, false, false, false, false, false, false, false, false, false, true, true, true, false, false, false, false, false, false, false, false, false]}, {}], \"label\": \"Chuquisaca\", \"method\": \"update\"}, {\"args\": [{\"visible\": [false, false, false, false, false, false, false, false, false, false, false, false, false, false, false, false, false, false, false, false, false, true, true, true, false, false, false]}, {}], \"label\": \"Pando\", \"method\": \"update\"}, {\"args\": [{\"visible\": [false, false, false, false, false, false, false, false, false, false, false, false, false, false, false, false, false, false, false, false, false, false, false, false, true, true, true]}, {}], \"label\": \"Oruro\", \"method\": \"update\"}], \"direction\": \"up\", \"x\": 0.4, \"xanchor\": \"left\", \"y\": -0.05, \"yanchor\": \"top\"}]},\n",
       "            {\"showLink\": true, \"linkText\": \"Export to plot.ly\"}\n",
       "        ).then(function () {return Plotly.addFrames('3d6168f1-c2dd-42b8-ab31-59e868fa3bfe',{});}).then(function(){Plotly.animate('3d6168f1-c2dd-42b8-ab31-59e868fa3bfe');})\n",
       "        });</script>"
      ],
      "text/vnd.plotly.v1+html": [
       "<div id=\"3d6168f1-c2dd-42b8-ab31-59e868fa3bfe\" style=\"height: 525px; width: 100%;\" class=\"plotly-graph-div\"></div><script type=\"text/javascript\">require([\"plotly\"], function(Plotly) { window.PLOTLYENV=window.PLOTLYENV || {};window.PLOTLYENV.BASE_URL=\"https://plot.ly\";\n",
       "        Plotly.plot(\n",
       "            '3d6168f1-c2dd-42b8-ab31-59e868fa3bfe',\n",
       "            [{\"domain\": {\"x\": [0, 0.3]}, \"hole\": 0.4, \"hoverinfo\": \"label+value+percent+name\", \"labels\": [\"COSAPAC\", \"COSAPSI\", \"EMAPAV\", \"EPSAS\"], \"name\": \"v1\", \"textposition\": \"inside\", \"values\": [4367936.0, 292372.0, null, 72946163.0], \"visible\": true, \"type\": \"pie\", \"uid\": \"68c89318-d08c-11e8-aeb8-f0761c9f65e1\"}, {\"domain\": {\"x\": [0.32, 0.62]}, \"hole\": 0.4, \"hoverinfo\": \"label+value+percent+name\", \"labels\": [\"COSAPAC\", \"COSAPSI\", \"EMAPAV\", \"EPSAS\"], \"name\": \"v2\", \"textposition\": \"inside\", \"values\": [null, 176249.0, 1233970.0, 9959827.0], \"visible\": true, \"type\": \"pie\", \"uid\": \"68c89319-d08c-11e8-aa35-f0761c9f65e1\"}, {\"domain\": {\"x\": [0.64, 0.94]}, \"hole\": 0.4, \"hoverinfo\": \"label+value+percent+name\", \"labels\": [\"COSAPAC\", \"COSAPSI\", \"EMAPAV\", \"EPSAS\"], \"name\": \"v3\", \"textposition\": \"inside\", \"values\": [null, 468621.0, 1233970.0, 74107562.0], \"visible\": true, \"type\": \"pie\", \"uid\": \"68c8931a-d08c-11e8-b44f-f0761c9f65e1\"}, {\"domain\": {\"x\": [0, 0.3]}, \"hole\": 0.4, \"hoverinfo\": \"label+value+percent+name\", \"labels\": [\"6 DE OCTUBRE\", \"AGUAYSES\", \"CAPCHI\", \"COMAYO\", \"COOPAGUAB\", \"COOPAGUAS\", \"COOPAPPI\", \"COOPLAN\", \"COOPLIM\", \"COOSIV\", \"COOSPELCAR\", \"COSAJO\", \"COSAJU\", \"COSAP\", \"COSCHAL\", \"COSEPCO\", \"COSEPFA\", \"COSEPUR\", \"COSEPW\", \"COSFAL\", \"COSIMBO\", \"COSMIN\", \"COSMOL\", \"COSMON\", \"COSPAIL\", \"COSPAS\", \"COSPHUL\", \"COSPOL\", \"COSPUGEBUL\", \"COSSAJA\", \"FLORIDA\", \"JOROCHITO\", \"LA GUARDIA\", \"LA PORTE\\u00d1A\", \"SAGUAPAC\", \"SAJUBA\", \"SEAPAS\"], \"name\": \"v1\", \"textposition\": \"inside\", \"values\": [790840.0, null, null, 342144.0, null, null, null, null, null, 1340260.0, null, null, null, null, null, 331407.0, null, 1105920.0, null, null, null, null, null, 743934.26, null, 401497.12, null, null, null, 562460.0, 567648.0, null, null, null, null, null, null], \"visible\": false, \"type\": \"pie\", \"uid\": \"68c8931b-d08c-11e8-97ff-f0761c9f65e1\"}, {\"domain\": {\"x\": [0.32, 0.62]}, \"hole\": 0.4, \"hoverinfo\": \"label+value+percent+name\", \"labels\": [\"6 DE OCTUBRE\", \"AGUAYSES\", \"CAPCHI\", \"COMAYO\", \"COOPAGUAB\", \"COOPAGUAS\", \"COOPAPPI\", \"COOPLAN\", \"COOPLIM\", \"COOSIV\", \"COOSPELCAR\", \"COSAJO\", \"COSAJU\", \"COSAP\", \"COSCHAL\", \"COSEPCO\", \"COSEPFA\", \"COSEPUR\", \"COSEPW\", \"COSFAL\", \"COSIMBO\", \"COSMIN\", \"COSMOL\", \"COSMON\", \"COSPAIL\", \"COSPAS\", \"COSPHUL\", \"COSPOL\", \"COSPUGEBUL\", \"COSSAJA\", \"FLORIDA\", \"JOROCHITO\", \"LA GUARDIA\", \"LA PORTE\\u00d1A\", \"SAGUAPAC\", \"SAJUBA\", \"SEAPAS\"], \"name\": \"v2\", \"textposition\": \"inside\", \"values\": [531163.0, 160408.0, 220752.0, 486720.0, 387543.17, 8047333.76, 4015805.43, 7014731.0, 458612.51, 127575.96, 2405086.41, 139207.0, 761444.0, 1717569.69, 1056428.2, 124416.0, 196877.52, null, 1779657.0, 908544.0, 775179.05, 1139027.0, 7088707.0, null, 4449983.0, null, 1151278.13, 863778.0, 1410890.54, null, 90782.11, 195998.51, 680581.0, 1002801.6, 75323702.0, 4500655.42, 956721.0], \"visible\": false, \"type\": \"pie\", \"uid\": \"68c8931c-d08c-11e8-b995-f0761c9f65e1\"}, {\"domain\": {\"x\": [0.64, 0.94]}, \"hole\": 0.4, \"hoverinfo\": \"label+value+percent+name\", \"labels\": [\"6 DE OCTUBRE\", \"AGUAYSES\", \"CAPCHI\", \"COMAYO\", \"COOPAGUAB\", \"COOPAGUAS\", \"COOPAPPI\", \"COOPLAN\", \"COOPLIM\", \"COOSIV\", \"COOSPELCAR\", \"COSAJO\", \"COSAJU\", \"COSAP\", \"COSCHAL\", \"COSEPCO\", \"COSEPFA\", \"COSEPUR\", \"COSEPW\", \"COSFAL\", \"COSIMBO\", \"COSMIN\", \"COSMOL\", \"COSMON\", \"COSPAIL\", \"COSPAS\", \"COSPHUL\", \"COSPOL\", \"COSPUGEBUL\", \"COSSAJA\", \"FLORIDA\", \"JOROCHITO\", \"LA GUARDIA\", \"LA PORTE\\u00d1A\", \"SAGUAPAC\", \"SAJUBA\", \"SEAPAS\"], \"name\": \"v3\", \"textposition\": \"inside\", \"values\": [1322003.0, 160408.0, 220752.0, 786096.0, 387543.17, 8047333.76, 4015805.43, 7014731.0, 458612.51, 1266200.76, 2405086.41, 139207.0, 761444.0, 1717569.69, 1056428.2, 331407.0, 196877.52, 1010448.0, 1779657.0, 908544.0, 775179.05, 1139027.0, 7088707.0, 601275.0, 4449983.0, 387384.0, 1151278.13, 863778.0, 1410890.54, 517934.0, 567648.0, 195998.51, 680581.0, 1002801.6, 74444931.0, 4500655.42, 956721.0], \"visible\": false, \"type\": \"pie\", \"uid\": \"68c8931d-d08c-11e8-a689-f0761c9f65e1\"}, {\"domain\": {\"x\": [0, 0.3]}, \"hole\": 0.4, \"hoverinfo\": \"label+value+percent+name\", \"labels\": [\"ASOAPAL\", \"CAPSCH\", \"COLOMI\", \"COOAPASH\", \"EMAPAS\", \"JASAP\", \"SEMAPA\"], \"name\": \"v1\", \"textposition\": \"inside\", \"values\": [178178.0, 950000.0, 292688.64, 385673.0, 411720.0, 512460.0, 14018295.52], \"visible\": false, \"type\": \"pie\", \"uid\": \"68c8931e-d08c-11e8-a08a-f0761c9f65e1\"}, {\"domain\": {\"x\": [0.32, 0.62]}, \"hole\": 0.4, \"hoverinfo\": \"label+value+percent+name\", \"labels\": [\"ASOAPAL\", \"CAPSCH\", \"COLOMI\", \"COOAPASH\", \"EMAPAS\", \"JASAP\", \"SEMAPA\"], \"name\": \"v2\", \"textposition\": \"inside\", \"values\": [null, 1753581.6, null, null, 954237.79, null, 13104567.78], \"visible\": false, \"type\": \"pie\", \"uid\": \"68c8931f-d08c-11e8-be22-f0761c9f65e1\"}, {\"domain\": {\"x\": [0.64, 0.94]}, \"hole\": 0.4, \"hoverinfo\": \"label+value+percent+name\", \"labels\": [\"ASOAPAL\", \"CAPSCH\", \"COLOMI\", \"COOAPASH\", \"EMAPAS\", \"JASAP\", \"SEMAPA\"], \"name\": \"v3\", \"textposition\": \"inside\", \"values\": [null, 2703581.6, null, null, 1337137.39, null, 20937334.63], \"visible\": false, \"type\": \"pie\", \"uid\": \"68c89320-d08c-11e8-873b-f0761c9f65e1\"}, {\"domain\": {\"x\": [0, 0.3]}, \"hole\": 0.4, \"hoverinfo\": \"label+value+percent+name\", \"labels\": [\"AAPOS\", \"BUSTILLO\", \"CAPU\", \"EMPSAAT\", \"EMSABAV\"], \"name\": \"v1\", \"textposition\": \"inside\", \"values\": [7215070.0, 2024913.6, 831797.76, 330275.23, 671448.9], \"visible\": false, \"type\": \"pie\", \"uid\": \"68c89321-d08c-11e8-a0d3-f0761c9f65e1\"}, {\"domain\": {\"x\": [0.32, 0.62]}, \"hole\": 0.4, \"hoverinfo\": \"label+value+percent+name\", \"labels\": [\"AAPOS\", \"BUSTILLO\", \"CAPU\", \"EMPSAAT\", \"EMSABAV\"], \"name\": \"v2\", \"textposition\": \"inside\", \"values\": [null, null, 10135.0, 655603.02, 772852.64], \"visible\": false, \"type\": \"pie\", \"uid\": \"68c89322-d08c-11e8-8da6-f0761c9f65e1\"}, {\"domain\": {\"x\": [0.64, 0.94]}, \"hole\": 0.4, \"hoverinfo\": \"label+value+percent+name\", \"labels\": [\"AAPOS\", \"BUSTILLO\", \"CAPU\", \"EMPSAAT\", \"EMSABAV\"], \"name\": \"v3\", \"textposition\": \"inside\", \"values\": [6054358.0, 1793212.56, 815161.8, 985878.25, 1154474.47], \"visible\": false, \"type\": \"pie\", \"uid\": \"68c89323-d08c-11e8-8158-f0761c9f65e1\"}, {\"domain\": {\"x\": [0, 0.3]}, \"hole\": 0.4, \"hoverinfo\": \"label+value+percent+name\", \"labels\": [\"CAPAG\", \"COAPASB\", \"COATRI\", \"SAMAPAR\", \"SEMAPAR\"], \"name\": \"v1\", \"textposition\": \"inside\", \"values\": [2207520.0, null, null, 797860.8, null], \"visible\": false, \"type\": \"pie\", \"uid\": \"68c89324-d08c-11e8-9406-f0761c9f65e1\"}, {\"domain\": {\"x\": [0.32, 0.62]}, \"hole\": 0.4, \"hoverinfo\": \"label+value+percent+name\", \"labels\": [\"CAPAG\", \"COAPASB\", \"COATRI\", \"SAMAPAR\", \"SEMAPAR\"], \"name\": \"v2\", \"textposition\": \"inside\", \"values\": [null, null, 2940448.0, null, 1018540.0], \"visible\": false, \"type\": \"pie\", \"uid\": \"68c89325-d08c-11e8-8c4b-f0761c9f65e1\"}, {\"domain\": {\"x\": [0.64, 0.94]}, \"hole\": 0.4, \"hoverinfo\": \"label+value+percent+name\", \"labels\": [\"CAPAG\", \"COAPASB\", \"COATRI\", \"SAMAPAR\", \"SEMAPAR\"], \"name\": \"v3\", \"textposition\": \"inside\", \"values\": [2048810.0, null, 2466628.0, 797860.8, 856792.0], \"visible\": false, \"type\": \"pie\", \"uid\": \"68c89326-d08c-11e8-b06d-f0761c9f65e1\"}, {\"domain\": {\"x\": [0, 0.3]}, \"hole\": 0.4, \"hoverinfo\": \"label+value+percent+name\", \"labels\": [\"COSAALT\", \"EMAAB\", \"EMAPYC\", \"MANCHACO\"], \"name\": \"v1\", \"textposition\": \"inside\", \"values\": [9711232.67, 3117624.0, 707401.08, 2922090.6], \"visible\": false, \"type\": \"pie\", \"uid\": \"68c89327-d08c-11e8-b7e2-f0761c9f65e1\"}, {\"domain\": {\"x\": [0.32, 0.62]}, \"hole\": 0.4, \"hoverinfo\": \"label+value+percent+name\", \"labels\": [\"COSAALT\", \"EMAAB\", \"EMAPYC\", \"MANCHACO\"], \"name\": \"v2\", \"textposition\": \"inside\", \"values\": [6435782.0, null, 2346234.78, 1870680.58], \"visible\": false, \"type\": \"pie\", \"uid\": \"68c89328-d08c-11e8-99f2-f0761c9f65e1\"}, {\"domain\": {\"x\": [0.64, 0.94]}, \"hole\": 0.4, \"hoverinfo\": \"label+value+percent+name\", \"labels\": [\"COSAALT\", \"EMAAB\", \"EMAPYC\", \"MANCHACO\"], \"name\": \"v3\", \"textposition\": \"inside\", \"values\": [15137888.91, 2842650.0, 3014919.2, 4589729.42], \"visible\": false, \"type\": \"pie\", \"uid\": \"68c89329-d08c-11e8-aa0f-f0761c9f65e1\"}, {\"domain\": {\"x\": [0, 0.3]}, \"hole\": 0.4, \"hoverinfo\": \"label+value+percent+name\", \"labels\": [\"COSEPP\", \"COSERCA\", \"ELAPAS\"], \"name\": \"v1\", \"textposition\": \"inside\", \"values\": [116949.3, 431748.0, 11435946.39], \"visible\": false, \"type\": \"pie\", \"uid\": \"68c8932a-d08c-11e8-9167-f0761c9f65e1\"}, {\"domain\": {\"x\": [0.32, 0.62]}, \"hole\": 0.4, \"hoverinfo\": \"label+value+percent+name\", \"labels\": [\"COSEPP\", \"COSERCA\", \"ELAPAS\"], \"name\": \"v2\", \"textposition\": \"inside\", \"values\": [13196.0, 982.8, null], \"visible\": false, \"type\": \"pie\", \"uid\": \"68c8932b-d08c-11e8-a40a-f0761c9f65e1\"}, {\"domain\": {\"x\": [0.64, 0.94]}, \"hole\": 0.4, \"hoverinfo\": \"label+value+percent+name\", \"labels\": [\"COSEPP\", \"COSERCA\", \"ELAPAS\"], \"name\": \"v3\", \"textposition\": \"inside\", \"values\": [128725.39, 416730.8, 10852426.39], \"visible\": false, \"type\": \"pie\", \"uid\": \"68c8932c-d08c-11e8-859a-f0761c9f65e1\"}, {\"domain\": {\"x\": [0, 0.3]}, \"hole\": 0.4, \"hoverinfo\": \"label+value+percent+name\", \"labels\": [\"EPSA COBIJA\"], \"name\": \"v1\", \"textposition\": \"inside\", \"values\": [3153600.0], \"visible\": false, \"type\": \"pie\", \"uid\": \"68c8932d-d08c-11e8-bf70-f0761c9f65e1\"}, {\"domain\": {\"x\": [0.32, 0.62]}, \"hole\": 0.4, \"hoverinfo\": \"label+value+percent+name\", \"labels\": [\"EPSA COBIJA\"], \"name\": \"v2\", \"textposition\": \"inside\", \"values\": [null], \"visible\": false, \"type\": \"pie\", \"uid\": \"68c8932e-d08c-11e8-9aa8-f0761c9f65e1\"}, {\"domain\": {\"x\": [0.64, 0.94]}, \"hole\": 0.4, \"hoverinfo\": \"label+value+percent+name\", \"labels\": [\"EPSA COBIJA\"], \"name\": \"v3\", \"textposition\": \"inside\", \"values\": [2838240.0], \"visible\": false, \"type\": \"pie\", \"uid\": \"68c8932f-d08c-11e8-aa9e-f0761c9f65e1\"}, {\"domain\": {\"x\": [0, 0.3]}, \"hole\": 0.4, \"hoverinfo\": \"label+value+percent+name\", \"labels\": [\"COAPAS VINTO\", \"EMAPA\", \"SELA\", \"SMAPA\"], \"name\": \"v1\", \"textposition\": \"inside\", \"values\": [85480.0, 243349.92, 472628.0, 194585.76], \"visible\": false, \"type\": \"pie\", \"uid\": \"68c89330-d08c-11e8-bd5c-f0761c9f65e1\"}, {\"domain\": {\"x\": [0.32, 0.62]}, \"hole\": 0.4, \"hoverinfo\": \"label+value+percent+name\", \"labels\": [\"COAPAS VINTO\", \"EMAPA\", \"SELA\", \"SMAPA\"], \"name\": \"v2\", \"textposition\": \"inside\", \"values\": [37805.99, 151404.48, 11341903.32, 330436.79], \"visible\": false, \"type\": \"pie\", \"uid\": \"68c89331-d08c-11e8-97c3-f0761c9f65e1\"}, {\"domain\": {\"x\": [0.64, 0.94]}, \"hole\": 0.4, \"hoverinfo\": \"label+value+percent+name\", \"labels\": [\"COAPAS VINTO\", \"EMAPA\", \"SELA\", \"SMAPA\"], \"name\": \"v3\", \"textposition\": \"inside\", \"values\": [123285.99, 394754.4, 11716724.0, 525022.55], \"visible\": false, \"type\": \"pie\", \"uid\": \"68c89332-d08c-11e8-90dd-f0761c9f65e1\"}],\n",
       "            {\"annotations\": [{\"font\": {\"size\": 20}, \"showarrow\": false, \"text\": \"V1\", \"x\": 0.13, \"y\": 0.5}, {\"font\": {\"size\": 20}, \"showarrow\": false, \"text\": \"V2\", \"x\": 0.47, \"y\": 0.5}, {\"font\": {\"size\": 20}, \"showarrow\": false, \"text\": \"V3\", \"x\": 0.81, \"y\": 0.5}, {\"font\": {\"size\": 20}, \"showarrow\": false, \"text\": \"Fuentes<br>Superficiales\", \"x\": 0.07, \"y\": 0}, {\"font\": {\"size\": 20}, \"showarrow\": false, \"text\": \"Fuentes<br>Subterr\\u00e1neas\", \"x\": 0.48, \"y\": 0}, {\"font\": {\"size\": 20}, \"showarrow\": false, \"text\": \"Volumen AP<br>Producido\", \"x\": 0.87, \"y\": 0}], \"title\": \"<b>V1</b>: Volumen de agua cruda extra\\u00eddo de la(s) fuente(s) superficial(es)(m3/periodo)<br><b>V2</b>: Volumen de agua cruda extra\\u00eddo de la(s) fuente(s) subterr\\u00e1nea(s) (m3/periodo)<br><b>V3</b>: Volumen de agua potable producido (Planta de tratamiento y/o tanque de desinfecci\\u00f3n)(m3/periodo)\", \"titlefont\": {\"size\": 15}, \"updatemenus\": [{\"active\": 0, \"buttons\": [{\"args\": [{\"visible\": [true, true, true, false, false, false, false, false, false, false, false, false, false, false, false, false, false, false, false, false, false, false, false, false, false, false, false]}, {}], \"label\": \"La Paz\", \"method\": \"update\"}, {\"args\": [{\"visible\": [false, false, false, true, true, true, false, false, false, false, false, false, false, false, false, false, false, false, false, false, false, false, false, false, false, false, false]}, {}], \"label\": \"Santa Cruz\", \"method\": \"update\"}, {\"args\": [{\"visible\": [false, false, false, false, false, false, true, true, true, false, false, false, false, false, false, false, false, false, false, false, false, false, false, false, false, false, false]}, {}], \"label\": \"Cochabamba\", \"method\": \"update\"}, {\"args\": [{\"visible\": [false, false, false, false, false, false, false, false, false, true, true, true, false, false, false, false, false, false, false, false, false, false, false, false, false, false, false]}, {}], \"label\": \"Potos\\u00ed\", \"method\": \"update\"}, {\"args\": [{\"visible\": [false, false, false, false, false, false, false, false, false, false, false, false, true, true, true, false, false, false, false, false, false, false, false, false, false, false, false]}, {}], \"label\": \"Beni\", \"method\": \"update\"}, {\"args\": [{\"visible\": [false, false, false, false, false, false, false, false, false, false, false, false, false, false, false, true, true, true, false, false, false, false, false, false, false, false, false]}, {}], \"label\": \"Tarija\", \"method\": \"update\"}, {\"args\": [{\"visible\": [false, false, false, false, false, false, false, false, false, false, false, false, false, false, false, true, true, true, false, false, false, false, false, false, false, false, false]}, {}], \"label\": \"Chuquisaca\", \"method\": \"update\"}, {\"args\": [{\"visible\": [false, false, false, false, false, false, false, false, false, false, false, false, false, false, false, false, false, false, false, false, false, true, true, true, false, false, false]}, {}], \"label\": \"Pando\", \"method\": \"update\"}, {\"args\": [{\"visible\": [false, false, false, false, false, false, false, false, false, false, false, false, false, false, false, false, false, false, false, false, false, false, false, false, true, true, true]}, {}], \"label\": \"Oruro\", \"method\": \"update\"}], \"direction\": \"up\", \"x\": 0.4, \"xanchor\": \"left\", \"y\": -0.05, \"yanchor\": \"top\"}]},\n",
       "            {\"showLink\": true, \"linkText\": \"Export to plot.ly\"}\n",
       "        ).then(function () {return Plotly.addFrames('3d6168f1-c2dd-42b8-ab31-59e868fa3bfe',{});}).then(function(){Plotly.animate('3d6168f1-c2dd-42b8-ab31-59e868fa3bfe');})\n",
       "        });</script>"
      ]
     },
     "metadata": {},
     "output_type": "display_data"
    }
   ],
   "source": [
    "crdf = complete_reports_df\n",
    "\n",
    "category = 'A'\n",
    "state = 'SC'\n",
    "\n",
    "variables = ['v1', 'v2', 'v3']\n",
    "states = ['LP', 'SC', 'CO', 'PO', 'BE', 'TA', 'CH', 'PA', 'OR']\n",
    "\n",
    "state_name_map = {\n",
    "    'LP': 'La Paz',\n",
    "    'SC': 'Santa Cruz',\n",
    "    'CO': 'Cochabamba',\n",
    "    'PO': 'Potosí',\n",
    "    'BE': 'Beni',\n",
    "    'TA': 'Tarija',\n",
    "    'CH': 'Chuquisaca',\n",
    "    'PA': 'Pando',\n",
    "    'OR': 'Oruro', \n",
    "}\n",
    "\n",
    "def get_domain(var):\n",
    "    if var == 'v1':\n",
    "        return {\"x\": [0, .30]}\n",
    "    if var == 'v2':\n",
    "        return {\"x\": [.32, .62]}\n",
    "    else:\n",
    "        return {\"x\": [.64, .94]}\n",
    "        \n",
    "def get_visible_list(state):\n",
    "    state_map = {'LP': 0, 'SC': 1, 'CO': 2, \n",
    "                 'PO': 3, 'BE': 4, 'TA': 5,\n",
    "                 'CH': 5, 'PA': 7, 'OR': 8}\n",
    "    \n",
    "    offset = state_map[state]\n",
    "    \n",
    "    base_array = [0 for i in range(9)]\n",
    "    base_array[offset] = 1\n",
    "    \n",
    "    big_true = [True for i in range(3)]\n",
    "    big_false = [False for i in range(3)]\n",
    "    \n",
    "    nested_array = [big_true if x == 1 else big_false for x in base_array]\n",
    "    \n",
    "    return [x for l in nested_array for x in l]\n",
    "\n",
    "data = []\n",
    "\n",
    "for state in states:\n",
    "    filtered_df = crdf[(crdf.state == state) & (crdf.year == 2017)]\n",
    "    visible = True if state == 'LP' else False\n",
    "    for var in variables:\n",
    "        data.append(dict(\n",
    "            values=list(filtered_df[var]),\n",
    "            labels=list(filtered_df.code),\n",
    "            type='pie',\n",
    "            hole=.4,\n",
    "            textposition='inside',\n",
    "            name=var,\n",
    "            domain=get_domain(var),\n",
    "            hoverinfo='label+value+percent+name',\n",
    "            visible=visible,\n",
    "        ))\n",
    "\n",
    "\n",
    "var1 = variables_df[variables_df.var_id == 1]\n",
    "var2 = variables_df[variables_df.var_id == 2]\n",
    "var3 = variables_df[variables_df.var_id == 3]\n",
    "\n",
    "v1name = var1.name.iloc[0]\n",
    "v2name = var2.name.iloc[0]\n",
    "v3name = var3.name.iloc[0]\n",
    "\n",
    "v1unit = var1.unit.iloc[0]\n",
    "v2unit = var2.unit.iloc[0]\n",
    "v3unit = var3.unit.iloc[0]\n",
    "\n",
    "updatemenus = [dict(\n",
    "    active=0,\n",
    "    xanchor='left',\n",
    "    yanchor='top',\n",
    "    direction='up',\n",
    "    x= .4,\n",
    "    y= -0.05,\n",
    "    buttons = [dict(\n",
    "        label=f'{state_name_map[state]}',\n",
    "        method='update', # modify both data and layout\n",
    "        args = [\n",
    "            {'visible': get_visible_list(state)}, # data modification\n",
    "            # layout modification\n",
    "            dict(\n",
    "#                 title= make_title(ind),\n",
    "#                 xaxis= make_x_axis(cat),\n",
    "#                 yaxis= make_y_axis(ind),\n",
    "#                 shapes= make_shapes(ind),\n",
    "            ),\n",
    "        ],\n",
    "    ) for state in states]\n",
    ")]\n",
    "\n",
    "\n",
    "layout = dict(\n",
    "    updatemenus = updatemenus,\n",
    "    title = f'<b>V1</b>: {v1name}({v1unit})<br><b>V2</b>: {v2name}({v2unit})<br><b>V3</b>: {v3name}({v3unit})',\n",
    "    titlefont = dict(size=15),\n",
    "    annotations = [dict(\n",
    "        font=dict(size=20),\n",
    "        showarrow=False,\n",
    "        text='V1',\n",
    "        x=0.13,\n",
    "        y=0.5,\n",
    "    ), dict(\n",
    "        font=dict(size=20),\n",
    "        showarrow=False,\n",
    "        text='V2',\n",
    "        x=0.47,\n",
    "        y=0.5,\n",
    "    ), dict(\n",
    "        font=dict(size=20),\n",
    "        showarrow=False,\n",
    "        text='V3',\n",
    "        x=0.81,\n",
    "        y=0.5,\n",
    "    ), dict(\n",
    "        font=dict(size=20),\n",
    "        showarrow=False,\n",
    "        text='Fuentes<br>Superficiales',\n",
    "        x=0.07,\n",
    "        y=0,\n",
    "    ), dict(\n",
    "        font=dict(size=20),\n",
    "        showarrow=False,\n",
    "        text='Fuentes<br>Subterráneas',\n",
    "        x=0.48,\n",
    "        y=0,\n",
    "    ), dict(\n",
    "        font=dict(size=20),\n",
    "        showarrow=False,\n",
    "        text='Volumen AP<br>Producido',\n",
    "        x=0.87,\n",
    "        y=0,\n",
    "    )]\n",
    ")\n",
    "\n",
    "fig = go.Figure(data=data, layout=layout)\n",
    "iplot(fig)"
   ]
  },
  {
   "cell_type": "code",
   "execution_count": 8,
   "metadata": {
    "slideshow": {
     "slide_type": "slide"
    }
   },
   "outputs": [
    {
     "data": {
      "text/html": [
       "<iframe id=\"igraph\" scrolling=\"no\" style=\"border:none;\" seamless=\"seamless\" src=\"https://plot.ly/~sergiochumacero/80.embed\" height=\"525px\" width=\"100%\"></iframe>"
      ],
      "text/plain": [
       "<plotly.tools.PlotlyDisplay object>"
      ]
     },
     "execution_count": 8,
     "metadata": {},
     "output_type": "execute_result"
    }
   ],
   "source": [
    "import plotly.plotly as py\n",
    "\n",
    "py.iplot(fig, filename='volumen1_2017')"
   ]
  },
  {
   "cell_type": "code",
   "execution_count": 9,
   "metadata": {},
   "outputs": [
    {
     "data": {
      "application/vnd.plotly.v1+json": {
       "data": [
        {
         "domain": {
          "x": [
           0,
           0.3
          ]
         },
         "hole": 0.4,
         "hoverinfo": "label+value+percent+name",
         "labels": [
          "COSAPAC",
          "COSAPSI",
          "EMAPAV",
          "EPSAS"
         ],
         "name": "v4",
         "textposition": "inside",
         "type": "pie",
         "uid": "75c06778-d08c-11e8-b7a9-f0761c9f65e1",
         "values": [
          3974821,
          null,
          null,
          74107562
         ],
         "visible": true
        },
        {
         "domain": {
          "x": [
           0.32,
           0.62
          ]
         },
         "hole": 0.4,
         "hoverinfo": "label+value+percent+name",
         "labels": [
          "COSAPAC",
          "COSAPSI",
          "EMAPAV",
          "EPSAS"
         ],
         "name": "v5",
         "textposition": "inside",
         "type": "pie",
         "uid": "75c06779-d08c-11e8-9b8b-f0761c9f65e1",
         "values": [
          2511648,
          359433,
          947706,
          50989110
         ],
         "visible": true
        },
        {
         "domain": {
          "x": [
           0.64,
           0.94
          ]
         },
         "hole": 0.4,
         "hoverinfo": "label+value+percent+name",
         "labels": [
          "COSAPAC",
          "COSAPSI",
          "EMAPAV",
          "EPSAS"
         ],
         "name": "v6",
         "textposition": "inside",
         "type": "pie",
         "uid": "75c0677a-d08c-11e8-9d3d-f0761c9f65e1",
         "values": [
          2488320,
          null,
          null,
          12806400
         ],
         "visible": true
        },
        {
         "domain": {
          "x": [
           0,
           0.3
          ]
         },
         "hole": 0.4,
         "hoverinfo": "label+value+percent+name",
         "labels": [
          "6 DE OCTUBRE",
          "AGUAYSES",
          "CAPCHI",
          "COMAYO",
          "COOPAGUAB",
          "COOPAGUAS",
          "COOPAPPI",
          "COOPLAN",
          "COOPLIM",
          "COOSIV",
          "COOSPELCAR",
          "COSAJO",
          "COSAJU",
          "COSAP",
          "COSCHAL",
          "COSEPCO",
          "COSEPFA",
          "COSEPUR",
          "COSEPW",
          "COSFAL",
          "COSIMBO",
          "COSMIN",
          "COSMOL",
          "COSMON",
          "COSPAIL",
          "COSPAS",
          "COSPHUL",
          "COSPOL",
          "COSPUGEBUL",
          "COSSAJA",
          "FLORIDA",
          "JOROCHITO",
          "LA GUARDIA",
          "LA PORTEÑA",
          "SAGUAPAC",
          "SAJUBA",
          "SEAPAS"
         ],
         "name": "v4",
         "textposition": "inside",
         "type": "pie",
         "uid": "75c0677b-d08c-11e8-b9ea-f0761c9f65e1",
         "values": [
          790840,
          null,
          null,
          null,
          null,
          null,
          null,
          null,
          null,
          1138624.8,
          null,
          null,
          null,
          null,
          null,
          331407,
          null,
          1010448,
          null,
          null,
          null,
          null,
          null,
          601275,
          null,
          null,
          null,
          null,
          null,
          517934,
          311040,
          null,
          null,
          null,
          null,
          null,
          null
         ],
         "visible": false
        },
        {
         "domain": {
          "x": [
           0.32,
           0.62
          ]
         },
         "hole": 0.4,
         "hoverinfo": "label+value+percent+name",
         "labels": [
          "6 DE OCTUBRE",
          "AGUAYSES",
          "CAPCHI",
          "COMAYO",
          "COOPAGUAB",
          "COOPAGUAS",
          "COOPAPPI",
          "COOPLAN",
          "COOPLIM",
          "COOSIV",
          "COOSPELCAR",
          "COSAJO",
          "COSAJU",
          "COSAP",
          "COSCHAL",
          "COSEPCO",
          "COSEPFA",
          "COSEPUR",
          "COSEPW",
          "COSFAL",
          "COSIMBO",
          "COSMIN",
          "COSMOL",
          "COSMON",
          "COSPAIL",
          "COSPAS",
          "COSPHUL",
          "COSPOL",
          "COSPUGEBUL",
          "COSSAJA",
          "FLORIDA",
          "JOROCHITO",
          "LA GUARDIA",
          "LA PORTEÑA",
          "SAGUAPAC",
          "SAJUBA",
          "SEAPAS"
         ],
         "name": "v5",
         "textposition": "inside",
         "type": "pie",
         "uid": "75c0677c-d08c-11e8-8961-f0761c9f65e1",
         "values": [
          953274,
          121755,
          124103,
          560000,
          291237,
          6692738,
          3300345,
          6081134,
          416884,
          1173087,
          1549465,
          122208,
          655409,
          1336120,
          926741,
          313181,
          193379,
          667525,
          1256756,
          301575,
          516427,
          707252,
          5196232,
          513717,
          3765127,
          262387,
          960074,
          763096,
          1199669,
          313181,
          327605,
          145184,
          646348,
          680453,
          62099378,
          3242927,
          852818
         ],
         "visible": false
        },
        {
         "domain": {
          "x": [
           0.64,
           0.94
          ]
         },
         "hole": 0.4,
         "hoverinfo": "label+value+percent+name",
         "labels": [
          "6 DE OCTUBRE",
          "AGUAYSES",
          "CAPCHI",
          "COMAYO",
          "COOPAGUAB",
          "COOPAGUAS",
          "COOPAPPI",
          "COOPLAN",
          "COOPLIM",
          "COOSIV",
          "COOSPELCAR",
          "COSAJO",
          "COSAJU",
          "COSAP",
          "COSCHAL",
          "COSEPCO",
          "COSEPFA",
          "COSEPUR",
          "COSEPW",
          "COSFAL",
          "COSIMBO",
          "COSMIN",
          "COSMOL",
          "COSMON",
          "COSPAIL",
          "COSPAS",
          "COSPHUL",
          "COSPOL",
          "COSPUGEBUL",
          "COSSAJA",
          "FLORIDA",
          "JOROCHITO",
          "LA GUARDIA",
          "LA PORTEÑA",
          "SAGUAPAC",
          "SAJUBA",
          "SEAPAS"
         ],
         "name": "v6",
         "textposition": "inside",
         "type": "pie",
         "uid": "75c0677d-d08c-11e8-be57-f0761c9f65e1",
         "values": [
          null,
          null,
          null,
          250000,
          null,
          4256186,
          null,
          null,
          null,
          133597,
          null,
          null,
          null,
          null,
          371750,
          null,
          null,
          314150.4,
          null,
          null,
          null,
          455169.6,
          4131476.28,
          464849.4,
          1702182,
          null,
          null,
          401821.2,
          341640,
          null,
          61685,
          null,
          327542,
          null,
          51850440,
          null,
          466127.05
         ],
         "visible": false
        },
        {
         "domain": {
          "x": [
           0,
           0.3
          ]
         },
         "hole": 0.4,
         "hoverinfo": "label+value+percent+name",
         "labels": [
          "ASOAPAL",
          "CAPSCH",
          "COLOMI",
          "COOAPASH",
          "EMAPAS",
          "JASAP",
          "SEMAPA"
         ],
         "name": "v4",
         "textposition": "inside",
         "type": "pie",
         "uid": "75c0677e-d08c-11e8-bbb8-f0761c9f65e1",
         "values": [
          null,
          null,
          null,
          null,
          382899.6,
          null,
          11628869.76
         ],
         "visible": false
        },
        {
         "domain": {
          "x": [
           0.32,
           0.62
          ]
         },
         "hole": 0.4,
         "hoverinfo": "label+value+percent+name",
         "labels": [
          "ASOAPAL",
          "CAPSCH",
          "COLOMI",
          "COOAPASH",
          "EMAPAS",
          "JASAP",
          "SEMAPA"
         ],
         "name": "v5",
         "textposition": "inside",
         "type": "pie",
         "uid": "75c0677f-d08c-11e8-aba0-f0761c9f65e1",
         "values": [
          101624,
          703272,
          null,
          null,
          755868,
          null,
          13584591
         ],
         "visible": false
        },
        {
         "domain": {
          "x": [
           0.64,
           0.94
          ]
         },
         "hole": 0.4,
         "hoverinfo": "label+value+percent+name",
         "labels": [
          "ASOAPAL",
          "CAPSCH",
          "COLOMI",
          "COOAPASH",
          "EMAPAS",
          "JASAP",
          "SEMAPA"
         ],
         "name": "v6",
         "textposition": "inside",
         "type": "pie",
         "uid": "75c06780-d08c-11e8-9193-f0761c9f65e1",
         "values": [
          null,
          204984,
          276825,
          188340,
          857779.2,
          18720,
          9943778.05
         ],
         "visible": false
        },
        {
         "domain": {
          "x": [
           0,
           0.3
          ]
         },
         "hole": 0.4,
         "hoverinfo": "label+value+percent+name",
         "labels": [
          "AAPOS",
          "BUSTILLO",
          "CAPU",
          "EMPSAAT",
          "EMSABAV"
         ],
         "name": "v4",
         "textposition": "inside",
         "type": "pie",
         "uid": "75c06781-d08c-11e8-bb32-f0761c9f65e1",
         "values": [
          6054358,
          null,
          null,
          126144,
          381621.82
         ],
         "visible": false
        },
        {
         "domain": {
          "x": [
           0.32,
           0.62
          ]
         },
         "hole": 0.4,
         "hoverinfo": "label+value+percent+name",
         "labels": [
          "AAPOS",
          "BUSTILLO",
          "CAPU",
          "EMPSAAT",
          "EMSABAV"
         ],
         "name": "v5",
         "textposition": "inside",
         "type": "pie",
         "uid": "75c06782-d08c-11e8-9fe9-f0761c9f65e1",
         "values": [
          5873400,
          1165588.16,
          601472,
          884286,
          914631
         ],
         "visible": false
        },
        {
         "domain": {
          "x": [
           0.64,
           0.94
          ]
         },
         "hole": 0.4,
         "hoverinfo": "label+value+percent+name",
         "labels": [
          "AAPOS",
          "BUSTILLO",
          "CAPU",
          "EMPSAAT",
          "EMSABAV"
         ],
         "name": "v6",
         "textposition": "inside",
         "type": "pie",
         "uid": "75c06783-d08c-11e8-b73f-f0761c9f65e1",
         "values": [
          null,
          null,
          null,
          2661638.4,
          353203.2
         ],
         "visible": false
        },
        {
         "domain": {
          "x": [
           0,
           0.3
          ]
         },
         "hole": 0.4,
         "hoverinfo": "label+value+percent+name",
         "labels": [
          "CAPAG",
          "COAPASB",
          "COATRI",
          "SAMAPAR",
          "SEMAPAR"
         ],
         "name": "v4",
         "textposition": "inside",
         "type": "pie",
         "uid": "75c06784-d08c-11e8-b150-f0761c9f65e1",
         "values": [
          2048810,
          null,
          1982032,
          null,
          null
         ],
         "visible": false
        },
        {
         "domain": {
          "x": [
           0.32,
           0.62
          ]
         },
         "hole": 0.4,
         "hoverinfo": "label+value+percent+name",
         "labels": [
          "CAPAG",
          "COAPASB",
          "COATRI",
          "SAMAPAR",
          "SEMAPAR"
         ],
         "name": "v5",
         "textposition": "inside",
         "type": "pie",
         "uid": "75c06785-d08c-11e8-9774-f0761c9f65e1",
         "values": [
          1758478,
          null,
          1573583,
          592415,
          550637
         ],
         "visible": false
        },
        {
         "domain": {
          "x": [
           0.64,
           0.94
          ]
         },
         "hole": 0.4,
         "hoverinfo": "label+value+percent+name",
         "labels": [
          "CAPAG",
          "COAPASB",
          "COATRI",
          "SAMAPAR",
          "SEMAPAR"
         ],
         "name": "v6",
         "textposition": "inside",
         "type": "pie",
         "uid": "75c06786-d08c-11e8-a27a-f0761c9f65e1",
         "values": [
          null,
          null,
          2650636.8,
          null,
          null
         ],
         "visible": false
        },
        {
         "domain": {
          "x": [
           0,
           0.3
          ]
         },
         "hole": 0.4,
         "hoverinfo": "label+value+percent+name",
         "labels": [
          "COSAALT",
          "EMAAB",
          "EMAPYC",
          "MANCHACO"
         ],
         "name": "v4",
         "textposition": "inside",
         "type": "pie",
         "uid": "75c06787-d08c-11e8-8a30-f0761c9f65e1",
         "values": [
          8702106.91,
          2842650,
          668563.2,
          2663761.28
         ],
         "visible": false
        },
        {
         "domain": {
          "x": [
           0.32,
           0.62
          ]
         },
         "hole": 0.4,
         "hoverinfo": "label+value+percent+name",
         "labels": [
          "COSAALT",
          "EMAAB",
          "EMAPYC",
          "MANCHACO"
         ],
         "name": "v5",
         "textposition": "inside",
         "type": "pie",
         "uid": "75c06788-d08c-11e8-a349-f0761c9f65e1",
         "values": [
          9548672.39,
          2245693,
          2253266.18,
          3034068
         ],
         "visible": false
        },
        {
         "domain": {
          "x": [
           0.64,
           0.94
          ]
         },
         "hole": 0.4,
         "hoverinfo": "label+value+percent+name",
         "labels": [
          "COSAALT",
          "EMAAB",
          "EMAPYC",
          "MANCHACO"
         ],
         "name": "v6",
         "textposition": "inside",
         "type": "pie",
         "uid": "75c06789-d08c-11e8-a3a7-f0761c9f65e1",
         "values": [
          9523872,
          1705590,
          2113858.08,
          1928669.79
         ],
         "visible": false
        },
        {
         "domain": {
          "x": [
           0,
           0.3
          ]
         },
         "hole": 0.4,
         "hoverinfo": "label+value+percent+name",
         "labels": [
          "COSEPP",
          "COSERCA",
          "ELAPAS"
         ],
         "name": "v4",
         "textposition": "inside",
         "type": "pie",
         "uid": "75c0678a-d08c-11e8-ab54-f0761c9f65e1",
         "values": [
          null,
          268167,
          10649119.39
         ],
         "visible": false
        },
        {
         "domain": {
          "x": [
           0.32,
           0.62
          ]
         },
         "hole": 0.4,
         "hoverinfo": "label+value+percent+name",
         "labels": [
          "COSEPP",
          "COSERCA",
          "ELAPAS"
         ],
         "name": "v5",
         "textposition": "inside",
         "type": "pie",
         "uid": "75c0678b-d08c-11e8-b277-f0761c9f65e1",
         "values": [
          119645,
          321277,
          8988303
         ],
         "visible": false
        },
        {
         "domain": {
          "x": [
           0.64,
           0.94
          ]
         },
         "hole": 0.4,
         "hoverinfo": "label+value+percent+name",
         "labels": [
          "COSEPP",
          "COSERCA",
          "ELAPAS"
         ],
         "name": "v6",
         "textposition": "inside",
         "type": "pie",
         "uid": "75c0678c-d08c-11e8-bb81-f0761c9f65e1",
         "values": [
          null,
          null,
          4376380.72
         ],
         "visible": false
        },
        {
         "domain": {
          "x": [
           0,
           0.3
          ]
         },
         "hole": 0.4,
         "hoverinfo": "label+value+percent+name",
         "labels": [
          "EPSA COBIJA"
         ],
         "name": "v4",
         "textposition": "inside",
         "type": "pie",
         "uid": "75c0678d-d08c-11e8-a27a-f0761c9f65e1",
         "values": [
          2838240
         ],
         "visible": false
        },
        {
         "domain": {
          "x": [
           0.32,
           0.62
          ]
         },
         "hole": 0.4,
         "hoverinfo": "label+value+percent+name",
         "labels": [
          "EPSA COBIJA"
         ],
         "name": "v5",
         "textposition": "inside",
         "type": "pie",
         "uid": "75c0678e-d08c-11e8-965e-f0761c9f65e1",
         "values": [
          2010966.8
         ],
         "visible": false
        },
        {
         "domain": {
          "x": [
           0.64,
           0.94
          ]
         },
         "hole": 0.4,
         "hoverinfo": "label+value+percent+name",
         "labels": [
          "EPSA COBIJA"
         ],
         "name": "v6",
         "textposition": "inside",
         "type": "pie",
         "uid": "75c0678f-d08c-11e8-9974-f0761c9f65e1",
         "values": [
          null
         ],
         "visible": false
        },
        {
         "domain": {
          "x": [
           0,
           0.3
          ]
         },
         "hole": 0.4,
         "hoverinfo": "label+value+percent+name",
         "labels": [
          "COAPAS VINTO",
          "EMAPA",
          "SELA",
          "SMAPA"
         ],
         "name": "v4",
         "textposition": "inside",
         "type": "pie",
         "uid": "75c06790-d08c-11e8-b5d0-f0761c9f65e1",
         "values": [
          null,
          243349.92,
          null,
          null
         ],
         "visible": false
        },
        {
         "domain": {
          "x": [
           0.32,
           0.62
          ]
         },
         "hole": 0.4,
         "hoverinfo": "label+value+percent+name",
         "labels": [
          "COAPAS VINTO",
          "EMAPA",
          "SELA",
          "SMAPA"
         ],
         "name": "v5",
         "textposition": "inside",
         "type": "pie",
         "uid": "75c06791-d08c-11e8-850a-f0761c9f65e1",
         "values": [
          108060,
          268396,
          7679524,
          null
         ],
         "visible": false
        },
        {
         "domain": {
          "x": [
           0.64,
           0.94
          ]
         },
         "hole": 0.4,
         "hoverinfo": "label+value+percent+name",
         "labels": [
          "COAPAS VINTO",
          "EMAPA",
          "SELA",
          "SMAPA"
         ],
         "name": "v6",
         "textposition": "inside",
         "type": "pie",
         "uid": "75c06792-d08c-11e8-88b1-f0761c9f65e1",
         "values": [
          null,
          null,
          null,
          null
         ],
         "visible": false
        }
       ],
       "layout": {
        "annotations": [
         {
          "font": {
           "size": 20
          },
          "showarrow": false,
          "text": "V4",
          "x": 0.13,
          "y": 0.5
         },
         {
          "font": {
           "size": 20
          },
          "showarrow": false,
          "text": "V5",
          "x": 0.47,
          "y": 0.5
         },
         {
          "font": {
           "size": 20
          },
          "showarrow": false,
          "text": "V6",
          "x": 0.81,
          "y": 0.5
         },
         {
          "font": {
           "size": 20
          },
          "showarrow": false,
          "text": "AP en planta de<br>tratamiento",
          "x": 0.07,
          "y": 0
         },
         {
          "font": {
           "size": 20
          },
          "showarrow": false,
          "text": "AP<br>Facturado",
          "x": 0.48,
          "y": 0
         },
         {
          "font": {
           "size": 20
          },
          "showarrow": false,
          "text": "Agua<br>Residual",
          "x": 0.87,
          "y": 0
         }
        ],
        "title": "<b>V4</b>: Volumen de agua potable tratada en planta de tratamiento(m3/periodo)<br><b>V5</b>: Volumen de agua potable facturado(m3/periodo)<br><b>V6</b>: Volumen tratado de agua residual(m3/periodo)",
        "titlefont": {
         "size": 15
        },
        "updatemenus": [
         {
          "active": 0,
          "buttons": [
           {
            "args": [
             {
              "visible": [
               true,
               true,
               true,
               false,
               false,
               false,
               false,
               false,
               false,
               false,
               false,
               false,
               false,
               false,
               false,
               false,
               false,
               false,
               false,
               false,
               false,
               false,
               false,
               false,
               false,
               false,
               false
              ]
             },
             {}
            ],
            "label": "La Paz",
            "method": "update"
           },
           {
            "args": [
             {
              "visible": [
               false,
               false,
               false,
               true,
               true,
               true,
               false,
               false,
               false,
               false,
               false,
               false,
               false,
               false,
               false,
               false,
               false,
               false,
               false,
               false,
               false,
               false,
               false,
               false,
               false,
               false,
               false
              ]
             },
             {}
            ],
            "label": "Santa Cruz",
            "method": "update"
           },
           {
            "args": [
             {
              "visible": [
               false,
               false,
               false,
               false,
               false,
               false,
               true,
               true,
               true,
               false,
               false,
               false,
               false,
               false,
               false,
               false,
               false,
               false,
               false,
               false,
               false,
               false,
               false,
               false,
               false,
               false,
               false
              ]
             },
             {}
            ],
            "label": "Cochabamba",
            "method": "update"
           },
           {
            "args": [
             {
              "visible": [
               false,
               false,
               false,
               false,
               false,
               false,
               false,
               false,
               false,
               true,
               true,
               true,
               false,
               false,
               false,
               false,
               false,
               false,
               false,
               false,
               false,
               false,
               false,
               false,
               false,
               false,
               false
              ]
             },
             {}
            ],
            "label": "Potosí",
            "method": "update"
           },
           {
            "args": [
             {
              "visible": [
               false,
               false,
               false,
               false,
               false,
               false,
               false,
               false,
               false,
               false,
               false,
               false,
               true,
               true,
               true,
               false,
               false,
               false,
               false,
               false,
               false,
               false,
               false,
               false,
               false,
               false,
               false
              ]
             },
             {}
            ],
            "label": "Beni",
            "method": "update"
           },
           {
            "args": [
             {
              "visible": [
               false,
               false,
               false,
               false,
               false,
               false,
               false,
               false,
               false,
               false,
               false,
               false,
               false,
               false,
               false,
               true,
               true,
               true,
               false,
               false,
               false,
               false,
               false,
               false,
               false,
               false,
               false
              ]
             },
             {}
            ],
            "label": "Tarija",
            "method": "update"
           },
           {
            "args": [
             {
              "visible": [
               false,
               false,
               false,
               false,
               false,
               false,
               false,
               false,
               false,
               false,
               false,
               false,
               false,
               false,
               false,
               true,
               true,
               true,
               false,
               false,
               false,
               false,
               false,
               false,
               false,
               false,
               false
              ]
             },
             {}
            ],
            "label": "Chuquisaca",
            "method": "update"
           },
           {
            "args": [
             {
              "visible": [
               false,
               false,
               false,
               false,
               false,
               false,
               false,
               false,
               false,
               false,
               false,
               false,
               false,
               false,
               false,
               false,
               false,
               false,
               false,
               false,
               false,
               true,
               true,
               true,
               false,
               false,
               false
              ]
             },
             {}
            ],
            "label": "Pando",
            "method": "update"
           },
           {
            "args": [
             {
              "visible": [
               false,
               false,
               false,
               false,
               false,
               false,
               false,
               false,
               false,
               false,
               false,
               false,
               false,
               false,
               false,
               false,
               false,
               false,
               false,
               false,
               false,
               false,
               false,
               false,
               true,
               true,
               true
              ]
             },
             {}
            ],
            "label": "Oruro",
            "method": "update"
           }
          ],
          "direction": "up",
          "x": 0.4,
          "xanchor": "left",
          "y": -0.05,
          "yanchor": "top"
         }
        ]
       }
      },
      "text/html": [
       "<div id=\"4cdc9796-7413-4158-959b-12e96839fcb2\" style=\"height: 525px; width: 100%;\" class=\"plotly-graph-div\"></div><script type=\"text/javascript\">require([\"plotly\"], function(Plotly) { window.PLOTLYENV=window.PLOTLYENV || {};window.PLOTLYENV.BASE_URL=\"https://plot.ly\";\n",
       "        Plotly.plot(\n",
       "            '4cdc9796-7413-4158-959b-12e96839fcb2',\n",
       "            [{\"domain\": {\"x\": [0, 0.3]}, \"hole\": 0.4, \"hoverinfo\": \"label+value+percent+name\", \"labels\": [\"COSAPAC\", \"COSAPSI\", \"EMAPAV\", \"EPSAS\"], \"name\": \"v4\", \"textposition\": \"inside\", \"values\": [3974821.0, null, null, 74107562.0], \"visible\": true, \"type\": \"pie\", \"uid\": \"75c06778-d08c-11e8-b7a9-f0761c9f65e1\"}, {\"domain\": {\"x\": [0.32, 0.62]}, \"hole\": 0.4, \"hoverinfo\": \"label+value+percent+name\", \"labels\": [\"COSAPAC\", \"COSAPSI\", \"EMAPAV\", \"EPSAS\"], \"name\": \"v5\", \"textposition\": \"inside\", \"values\": [2511648.0, 359433.0, 947706.0, 50989110.0], \"visible\": true, \"type\": \"pie\", \"uid\": \"75c06779-d08c-11e8-9b8b-f0761c9f65e1\"}, {\"domain\": {\"x\": [0.64, 0.94]}, \"hole\": 0.4, \"hoverinfo\": \"label+value+percent+name\", \"labels\": [\"COSAPAC\", \"COSAPSI\", \"EMAPAV\", \"EPSAS\"], \"name\": \"v6\", \"textposition\": \"inside\", \"values\": [2488320.0, null, null, 12806400.0], \"visible\": true, \"type\": \"pie\", \"uid\": \"75c0677a-d08c-11e8-9d3d-f0761c9f65e1\"}, {\"domain\": {\"x\": [0, 0.3]}, \"hole\": 0.4, \"hoverinfo\": \"label+value+percent+name\", \"labels\": [\"6 DE OCTUBRE\", \"AGUAYSES\", \"CAPCHI\", \"COMAYO\", \"COOPAGUAB\", \"COOPAGUAS\", \"COOPAPPI\", \"COOPLAN\", \"COOPLIM\", \"COOSIV\", \"COOSPELCAR\", \"COSAJO\", \"COSAJU\", \"COSAP\", \"COSCHAL\", \"COSEPCO\", \"COSEPFA\", \"COSEPUR\", \"COSEPW\", \"COSFAL\", \"COSIMBO\", \"COSMIN\", \"COSMOL\", \"COSMON\", \"COSPAIL\", \"COSPAS\", \"COSPHUL\", \"COSPOL\", \"COSPUGEBUL\", \"COSSAJA\", \"FLORIDA\", \"JOROCHITO\", \"LA GUARDIA\", \"LA PORTE\\u00d1A\", \"SAGUAPAC\", \"SAJUBA\", \"SEAPAS\"], \"name\": \"v4\", \"textposition\": \"inside\", \"values\": [790840.0, null, null, null, null, null, null, null, null, 1138624.8, null, null, null, null, null, 331407.0, null, 1010448.0, null, null, null, null, null, 601275.0, null, null, null, null, null, 517934.0, 311040.0, null, null, null, null, null, null], \"visible\": false, \"type\": \"pie\", \"uid\": \"75c0677b-d08c-11e8-b9ea-f0761c9f65e1\"}, {\"domain\": {\"x\": [0.32, 0.62]}, \"hole\": 0.4, \"hoverinfo\": \"label+value+percent+name\", \"labels\": [\"6 DE OCTUBRE\", \"AGUAYSES\", \"CAPCHI\", \"COMAYO\", \"COOPAGUAB\", \"COOPAGUAS\", \"COOPAPPI\", \"COOPLAN\", \"COOPLIM\", \"COOSIV\", \"COOSPELCAR\", \"COSAJO\", \"COSAJU\", \"COSAP\", \"COSCHAL\", \"COSEPCO\", \"COSEPFA\", \"COSEPUR\", \"COSEPW\", \"COSFAL\", \"COSIMBO\", \"COSMIN\", \"COSMOL\", \"COSMON\", \"COSPAIL\", \"COSPAS\", \"COSPHUL\", \"COSPOL\", \"COSPUGEBUL\", \"COSSAJA\", \"FLORIDA\", \"JOROCHITO\", \"LA GUARDIA\", \"LA PORTE\\u00d1A\", \"SAGUAPAC\", \"SAJUBA\", \"SEAPAS\"], \"name\": \"v5\", \"textposition\": \"inside\", \"values\": [953274.0, 121755.0, 124103.0, 560000.0, 291237.0, 6692738.0, 3300345.0, 6081134.0, 416884.0, 1173087.0, 1549465.0, 122208.0, 655409.0, 1336120.0, 926741.0, 313181.0, 193379.0, 667525.0, 1256756.0, 301575.0, 516427.0, 707252.0, 5196232.0, 513717.0, 3765127.0, 262387.0, 960074.0, 763096.0, 1199669.0, 313181.0, 327605.0, 145184.0, 646348.0, 680453.0, 62099378.0, 3242927.0, 852818.0], \"visible\": false, \"type\": \"pie\", \"uid\": \"75c0677c-d08c-11e8-8961-f0761c9f65e1\"}, {\"domain\": {\"x\": [0.64, 0.94]}, \"hole\": 0.4, \"hoverinfo\": \"label+value+percent+name\", \"labels\": [\"6 DE OCTUBRE\", \"AGUAYSES\", \"CAPCHI\", \"COMAYO\", \"COOPAGUAB\", \"COOPAGUAS\", \"COOPAPPI\", \"COOPLAN\", \"COOPLIM\", \"COOSIV\", \"COOSPELCAR\", \"COSAJO\", \"COSAJU\", \"COSAP\", \"COSCHAL\", \"COSEPCO\", \"COSEPFA\", \"COSEPUR\", \"COSEPW\", \"COSFAL\", \"COSIMBO\", \"COSMIN\", \"COSMOL\", \"COSMON\", \"COSPAIL\", \"COSPAS\", \"COSPHUL\", \"COSPOL\", \"COSPUGEBUL\", \"COSSAJA\", \"FLORIDA\", \"JOROCHITO\", \"LA GUARDIA\", \"LA PORTE\\u00d1A\", \"SAGUAPAC\", \"SAJUBA\", \"SEAPAS\"], \"name\": \"v6\", \"textposition\": \"inside\", \"values\": [null, null, null, 250000.0, null, 4256186.0, null, null, null, 133597.0, null, null, null, null, 371750.0, null, null, 314150.4, null, null, null, 455169.6, 4131476.28, 464849.4, 1702182.0, null, null, 401821.2, 341640.0, null, 61685.0, null, 327542.0, null, 51850440.0, null, 466127.05], \"visible\": false, \"type\": \"pie\", \"uid\": \"75c0677d-d08c-11e8-be57-f0761c9f65e1\"}, {\"domain\": {\"x\": [0, 0.3]}, \"hole\": 0.4, \"hoverinfo\": \"label+value+percent+name\", \"labels\": [\"ASOAPAL\", \"CAPSCH\", \"COLOMI\", \"COOAPASH\", \"EMAPAS\", \"JASAP\", \"SEMAPA\"], \"name\": \"v4\", \"textposition\": \"inside\", \"values\": [null, null, null, null, 382899.6, null, 11628869.76], \"visible\": false, \"type\": \"pie\", \"uid\": \"75c0677e-d08c-11e8-bbb8-f0761c9f65e1\"}, {\"domain\": {\"x\": [0.32, 0.62]}, \"hole\": 0.4, \"hoverinfo\": \"label+value+percent+name\", \"labels\": [\"ASOAPAL\", \"CAPSCH\", \"COLOMI\", \"COOAPASH\", \"EMAPAS\", \"JASAP\", \"SEMAPA\"], \"name\": \"v5\", \"textposition\": \"inside\", \"values\": [101624.0, 703272.0, null, null, 755868.0, null, 13584591.0], \"visible\": false, \"type\": \"pie\", \"uid\": \"75c0677f-d08c-11e8-aba0-f0761c9f65e1\"}, {\"domain\": {\"x\": [0.64, 0.94]}, \"hole\": 0.4, \"hoverinfo\": \"label+value+percent+name\", \"labels\": [\"ASOAPAL\", \"CAPSCH\", \"COLOMI\", \"COOAPASH\", \"EMAPAS\", \"JASAP\", \"SEMAPA\"], \"name\": \"v6\", \"textposition\": \"inside\", \"values\": [null, 204984.0, 276825.0, 188340.0, 857779.2, 18720.0, 9943778.05], \"visible\": false, \"type\": \"pie\", \"uid\": \"75c06780-d08c-11e8-9193-f0761c9f65e1\"}, {\"domain\": {\"x\": [0, 0.3]}, \"hole\": 0.4, \"hoverinfo\": \"label+value+percent+name\", \"labels\": [\"AAPOS\", \"BUSTILLO\", \"CAPU\", \"EMPSAAT\", \"EMSABAV\"], \"name\": \"v4\", \"textposition\": \"inside\", \"values\": [6054358.0, null, null, 126144.0, 381621.82], \"visible\": false, \"type\": \"pie\", \"uid\": \"75c06781-d08c-11e8-bb32-f0761c9f65e1\"}, {\"domain\": {\"x\": [0.32, 0.62]}, \"hole\": 0.4, \"hoverinfo\": \"label+value+percent+name\", \"labels\": [\"AAPOS\", \"BUSTILLO\", \"CAPU\", \"EMPSAAT\", \"EMSABAV\"], \"name\": \"v5\", \"textposition\": \"inside\", \"values\": [5873400.0, 1165588.16, 601472.0, 884286.0, 914631.0], \"visible\": false, \"type\": \"pie\", \"uid\": \"75c06782-d08c-11e8-9fe9-f0761c9f65e1\"}, {\"domain\": {\"x\": [0.64, 0.94]}, \"hole\": 0.4, \"hoverinfo\": \"label+value+percent+name\", \"labels\": [\"AAPOS\", \"BUSTILLO\", \"CAPU\", \"EMPSAAT\", \"EMSABAV\"], \"name\": \"v6\", \"textposition\": \"inside\", \"values\": [null, null, null, 2661638.4, 353203.2], \"visible\": false, \"type\": \"pie\", \"uid\": \"75c06783-d08c-11e8-b73f-f0761c9f65e1\"}, {\"domain\": {\"x\": [0, 0.3]}, \"hole\": 0.4, \"hoverinfo\": \"label+value+percent+name\", \"labels\": [\"CAPAG\", \"COAPASB\", \"COATRI\", \"SAMAPAR\", \"SEMAPAR\"], \"name\": \"v4\", \"textposition\": \"inside\", \"values\": [2048810.0, null, 1982032.0, null, null], \"visible\": false, \"type\": \"pie\", \"uid\": \"75c06784-d08c-11e8-b150-f0761c9f65e1\"}, {\"domain\": {\"x\": [0.32, 0.62]}, \"hole\": 0.4, \"hoverinfo\": \"label+value+percent+name\", \"labels\": [\"CAPAG\", \"COAPASB\", \"COATRI\", \"SAMAPAR\", \"SEMAPAR\"], \"name\": \"v5\", \"textposition\": \"inside\", \"values\": [1758478.0, null, 1573583.0, 592415.0, 550637.0], \"visible\": false, \"type\": \"pie\", \"uid\": \"75c06785-d08c-11e8-9774-f0761c9f65e1\"}, {\"domain\": {\"x\": [0.64, 0.94]}, \"hole\": 0.4, \"hoverinfo\": \"label+value+percent+name\", \"labels\": [\"CAPAG\", \"COAPASB\", \"COATRI\", \"SAMAPAR\", \"SEMAPAR\"], \"name\": \"v6\", \"textposition\": \"inside\", \"values\": [null, null, 2650636.8, null, null], \"visible\": false, \"type\": \"pie\", \"uid\": \"75c06786-d08c-11e8-a27a-f0761c9f65e1\"}, {\"domain\": {\"x\": [0, 0.3]}, \"hole\": 0.4, \"hoverinfo\": \"label+value+percent+name\", \"labels\": [\"COSAALT\", \"EMAAB\", \"EMAPYC\", \"MANCHACO\"], \"name\": \"v4\", \"textposition\": \"inside\", \"values\": [8702106.91, 2842650.0, 668563.2, 2663761.28], \"visible\": false, \"type\": \"pie\", \"uid\": \"75c06787-d08c-11e8-8a30-f0761c9f65e1\"}, {\"domain\": {\"x\": [0.32, 0.62]}, \"hole\": 0.4, \"hoverinfo\": \"label+value+percent+name\", \"labels\": [\"COSAALT\", \"EMAAB\", \"EMAPYC\", \"MANCHACO\"], \"name\": \"v5\", \"textposition\": \"inside\", \"values\": [9548672.39, 2245693.0, 2253266.18, 3034068.0], \"visible\": false, \"type\": \"pie\", \"uid\": \"75c06788-d08c-11e8-a349-f0761c9f65e1\"}, {\"domain\": {\"x\": [0.64, 0.94]}, \"hole\": 0.4, \"hoverinfo\": \"label+value+percent+name\", \"labels\": [\"COSAALT\", \"EMAAB\", \"EMAPYC\", \"MANCHACO\"], \"name\": \"v6\", \"textposition\": \"inside\", \"values\": [9523872.0, 1705590.0, 2113858.08, 1928669.79], \"visible\": false, \"type\": \"pie\", \"uid\": \"75c06789-d08c-11e8-a3a7-f0761c9f65e1\"}, {\"domain\": {\"x\": [0, 0.3]}, \"hole\": 0.4, \"hoverinfo\": \"label+value+percent+name\", \"labels\": [\"COSEPP\", \"COSERCA\", \"ELAPAS\"], \"name\": \"v4\", \"textposition\": \"inside\", \"values\": [null, 268167.0, 10649119.39], \"visible\": false, \"type\": \"pie\", \"uid\": \"75c0678a-d08c-11e8-ab54-f0761c9f65e1\"}, {\"domain\": {\"x\": [0.32, 0.62]}, \"hole\": 0.4, \"hoverinfo\": \"label+value+percent+name\", \"labels\": [\"COSEPP\", \"COSERCA\", \"ELAPAS\"], \"name\": \"v5\", \"textposition\": \"inside\", \"values\": [119645.0, 321277.0, 8988303.0], \"visible\": false, \"type\": \"pie\", \"uid\": \"75c0678b-d08c-11e8-b277-f0761c9f65e1\"}, {\"domain\": {\"x\": [0.64, 0.94]}, \"hole\": 0.4, \"hoverinfo\": \"label+value+percent+name\", \"labels\": [\"COSEPP\", \"COSERCA\", \"ELAPAS\"], \"name\": \"v6\", \"textposition\": \"inside\", \"values\": [null, null, 4376380.72], \"visible\": false, \"type\": \"pie\", \"uid\": \"75c0678c-d08c-11e8-bb81-f0761c9f65e1\"}, {\"domain\": {\"x\": [0, 0.3]}, \"hole\": 0.4, \"hoverinfo\": \"label+value+percent+name\", \"labels\": [\"EPSA COBIJA\"], \"name\": \"v4\", \"textposition\": \"inside\", \"values\": [2838240.0], \"visible\": false, \"type\": \"pie\", \"uid\": \"75c0678d-d08c-11e8-a27a-f0761c9f65e1\"}, {\"domain\": {\"x\": [0.32, 0.62]}, \"hole\": 0.4, \"hoverinfo\": \"label+value+percent+name\", \"labels\": [\"EPSA COBIJA\"], \"name\": \"v5\", \"textposition\": \"inside\", \"values\": [2010966.8], \"visible\": false, \"type\": \"pie\", \"uid\": \"75c0678e-d08c-11e8-965e-f0761c9f65e1\"}, {\"domain\": {\"x\": [0.64, 0.94]}, \"hole\": 0.4, \"hoverinfo\": \"label+value+percent+name\", \"labels\": [\"EPSA COBIJA\"], \"name\": \"v6\", \"textposition\": \"inside\", \"values\": [null], \"visible\": false, \"type\": \"pie\", \"uid\": \"75c0678f-d08c-11e8-9974-f0761c9f65e1\"}, {\"domain\": {\"x\": [0, 0.3]}, \"hole\": 0.4, \"hoverinfo\": \"label+value+percent+name\", \"labels\": [\"COAPAS VINTO\", \"EMAPA\", \"SELA\", \"SMAPA\"], \"name\": \"v4\", \"textposition\": \"inside\", \"values\": [null, 243349.92, null, null], \"visible\": false, \"type\": \"pie\", \"uid\": \"75c06790-d08c-11e8-b5d0-f0761c9f65e1\"}, {\"domain\": {\"x\": [0.32, 0.62]}, \"hole\": 0.4, \"hoverinfo\": \"label+value+percent+name\", \"labels\": [\"COAPAS VINTO\", \"EMAPA\", \"SELA\", \"SMAPA\"], \"name\": \"v5\", \"textposition\": \"inside\", \"values\": [108060.0, 268396.0, 7679524.0, null], \"visible\": false, \"type\": \"pie\", \"uid\": \"75c06791-d08c-11e8-850a-f0761c9f65e1\"}, {\"domain\": {\"x\": [0.64, 0.94]}, \"hole\": 0.4, \"hoverinfo\": \"label+value+percent+name\", \"labels\": [\"COAPAS VINTO\", \"EMAPA\", \"SELA\", \"SMAPA\"], \"name\": \"v6\", \"textposition\": \"inside\", \"values\": [null, null, null, null], \"visible\": false, \"type\": \"pie\", \"uid\": \"75c06792-d08c-11e8-88b1-f0761c9f65e1\"}],\n",
       "            {\"annotations\": [{\"font\": {\"size\": 20}, \"showarrow\": false, \"text\": \"V4\", \"x\": 0.13, \"y\": 0.5}, {\"font\": {\"size\": 20}, \"showarrow\": false, \"text\": \"V5\", \"x\": 0.47, \"y\": 0.5}, {\"font\": {\"size\": 20}, \"showarrow\": false, \"text\": \"V6\", \"x\": 0.81, \"y\": 0.5}, {\"font\": {\"size\": 20}, \"showarrow\": false, \"text\": \"AP en planta de<br>tratamiento\", \"x\": 0.07, \"y\": 0}, {\"font\": {\"size\": 20}, \"showarrow\": false, \"text\": \"AP<br>Facturado\", \"x\": 0.48, \"y\": 0}, {\"font\": {\"size\": 20}, \"showarrow\": false, \"text\": \"Agua<br>Residual\", \"x\": 0.87, \"y\": 0}], \"title\": \"<b>V4</b>: Volumen de agua potable tratada en planta de tratamiento(m3/periodo)<br><b>V5</b>: Volumen de agua potable facturado(m3/periodo)<br><b>V6</b>: Volumen tratado de agua residual(m3/periodo)\", \"titlefont\": {\"size\": 15}, \"updatemenus\": [{\"active\": 0, \"buttons\": [{\"args\": [{\"visible\": [true, true, true, false, false, false, false, false, false, false, false, false, false, false, false, false, false, false, false, false, false, false, false, false, false, false, false]}, {}], \"label\": \"La Paz\", \"method\": \"update\"}, {\"args\": [{\"visible\": [false, false, false, true, true, true, false, false, false, false, false, false, false, false, false, false, false, false, false, false, false, false, false, false, false, false, false]}, {}], \"label\": \"Santa Cruz\", \"method\": \"update\"}, {\"args\": [{\"visible\": [false, false, false, false, false, false, true, true, true, false, false, false, false, false, false, false, false, false, false, false, false, false, false, false, false, false, false]}, {}], \"label\": \"Cochabamba\", \"method\": \"update\"}, {\"args\": [{\"visible\": [false, false, false, false, false, false, false, false, false, true, true, true, false, false, false, false, false, false, false, false, false, false, false, false, false, false, false]}, {}], \"label\": \"Potos\\u00ed\", \"method\": \"update\"}, {\"args\": [{\"visible\": [false, false, false, false, false, false, false, false, false, false, false, false, true, true, true, false, false, false, false, false, false, false, false, false, false, false, false]}, {}], \"label\": \"Beni\", \"method\": \"update\"}, {\"args\": [{\"visible\": [false, false, false, false, false, false, false, false, false, false, false, false, false, false, false, true, true, true, false, false, false, false, false, false, false, false, false]}, {}], \"label\": \"Tarija\", \"method\": \"update\"}, {\"args\": [{\"visible\": [false, false, false, false, false, false, false, false, false, false, false, false, false, false, false, true, true, true, false, false, false, false, false, false, false, false, false]}, {}], \"label\": \"Chuquisaca\", \"method\": \"update\"}, {\"args\": [{\"visible\": [false, false, false, false, false, false, false, false, false, false, false, false, false, false, false, false, false, false, false, false, false, true, true, true, false, false, false]}, {}], \"label\": \"Pando\", \"method\": \"update\"}, {\"args\": [{\"visible\": [false, false, false, false, false, false, false, false, false, false, false, false, false, false, false, false, false, false, false, false, false, false, false, false, true, true, true]}, {}], \"label\": \"Oruro\", \"method\": \"update\"}], \"direction\": \"up\", \"x\": 0.4, \"xanchor\": \"left\", \"y\": -0.05, \"yanchor\": \"top\"}]},\n",
       "            {\"showLink\": true, \"linkText\": \"Export to plot.ly\"}\n",
       "        ).then(function () {return Plotly.addFrames('4cdc9796-7413-4158-959b-12e96839fcb2',{});}).then(function(){Plotly.animate('4cdc9796-7413-4158-959b-12e96839fcb2');})\n",
       "        });</script>"
      ],
      "text/vnd.plotly.v1+html": [
       "<div id=\"4cdc9796-7413-4158-959b-12e96839fcb2\" style=\"height: 525px; width: 100%;\" class=\"plotly-graph-div\"></div><script type=\"text/javascript\">require([\"plotly\"], function(Plotly) { window.PLOTLYENV=window.PLOTLYENV || {};window.PLOTLYENV.BASE_URL=\"https://plot.ly\";\n",
       "        Plotly.plot(\n",
       "            '4cdc9796-7413-4158-959b-12e96839fcb2',\n",
       "            [{\"domain\": {\"x\": [0, 0.3]}, \"hole\": 0.4, \"hoverinfo\": \"label+value+percent+name\", \"labels\": [\"COSAPAC\", \"COSAPSI\", \"EMAPAV\", \"EPSAS\"], \"name\": \"v4\", \"textposition\": \"inside\", \"values\": [3974821.0, null, null, 74107562.0], \"visible\": true, \"type\": \"pie\", \"uid\": \"75c06778-d08c-11e8-b7a9-f0761c9f65e1\"}, {\"domain\": {\"x\": [0.32, 0.62]}, \"hole\": 0.4, \"hoverinfo\": \"label+value+percent+name\", \"labels\": [\"COSAPAC\", \"COSAPSI\", \"EMAPAV\", \"EPSAS\"], \"name\": \"v5\", \"textposition\": \"inside\", \"values\": [2511648.0, 359433.0, 947706.0, 50989110.0], \"visible\": true, \"type\": \"pie\", \"uid\": \"75c06779-d08c-11e8-9b8b-f0761c9f65e1\"}, {\"domain\": {\"x\": [0.64, 0.94]}, \"hole\": 0.4, \"hoverinfo\": \"label+value+percent+name\", \"labels\": [\"COSAPAC\", \"COSAPSI\", \"EMAPAV\", \"EPSAS\"], \"name\": \"v6\", \"textposition\": \"inside\", \"values\": [2488320.0, null, null, 12806400.0], \"visible\": true, \"type\": \"pie\", \"uid\": \"75c0677a-d08c-11e8-9d3d-f0761c9f65e1\"}, {\"domain\": {\"x\": [0, 0.3]}, \"hole\": 0.4, \"hoverinfo\": \"label+value+percent+name\", \"labels\": [\"6 DE OCTUBRE\", \"AGUAYSES\", \"CAPCHI\", \"COMAYO\", \"COOPAGUAB\", \"COOPAGUAS\", \"COOPAPPI\", \"COOPLAN\", \"COOPLIM\", \"COOSIV\", \"COOSPELCAR\", \"COSAJO\", \"COSAJU\", \"COSAP\", \"COSCHAL\", \"COSEPCO\", \"COSEPFA\", \"COSEPUR\", \"COSEPW\", \"COSFAL\", \"COSIMBO\", \"COSMIN\", \"COSMOL\", \"COSMON\", \"COSPAIL\", \"COSPAS\", \"COSPHUL\", \"COSPOL\", \"COSPUGEBUL\", \"COSSAJA\", \"FLORIDA\", \"JOROCHITO\", \"LA GUARDIA\", \"LA PORTE\\u00d1A\", \"SAGUAPAC\", \"SAJUBA\", \"SEAPAS\"], \"name\": \"v4\", \"textposition\": \"inside\", \"values\": [790840.0, null, null, null, null, null, null, null, null, 1138624.8, null, null, null, null, null, 331407.0, null, 1010448.0, null, null, null, null, null, 601275.0, null, null, null, null, null, 517934.0, 311040.0, null, null, null, null, null, null], \"visible\": false, \"type\": \"pie\", \"uid\": \"75c0677b-d08c-11e8-b9ea-f0761c9f65e1\"}, {\"domain\": {\"x\": [0.32, 0.62]}, \"hole\": 0.4, \"hoverinfo\": \"label+value+percent+name\", \"labels\": [\"6 DE OCTUBRE\", \"AGUAYSES\", \"CAPCHI\", \"COMAYO\", \"COOPAGUAB\", \"COOPAGUAS\", \"COOPAPPI\", \"COOPLAN\", \"COOPLIM\", \"COOSIV\", \"COOSPELCAR\", \"COSAJO\", \"COSAJU\", \"COSAP\", \"COSCHAL\", \"COSEPCO\", \"COSEPFA\", \"COSEPUR\", \"COSEPW\", \"COSFAL\", \"COSIMBO\", \"COSMIN\", \"COSMOL\", \"COSMON\", \"COSPAIL\", \"COSPAS\", \"COSPHUL\", \"COSPOL\", \"COSPUGEBUL\", \"COSSAJA\", \"FLORIDA\", \"JOROCHITO\", \"LA GUARDIA\", \"LA PORTE\\u00d1A\", \"SAGUAPAC\", \"SAJUBA\", \"SEAPAS\"], \"name\": \"v5\", \"textposition\": \"inside\", \"values\": [953274.0, 121755.0, 124103.0, 560000.0, 291237.0, 6692738.0, 3300345.0, 6081134.0, 416884.0, 1173087.0, 1549465.0, 122208.0, 655409.0, 1336120.0, 926741.0, 313181.0, 193379.0, 667525.0, 1256756.0, 301575.0, 516427.0, 707252.0, 5196232.0, 513717.0, 3765127.0, 262387.0, 960074.0, 763096.0, 1199669.0, 313181.0, 327605.0, 145184.0, 646348.0, 680453.0, 62099378.0, 3242927.0, 852818.0], \"visible\": false, \"type\": \"pie\", \"uid\": \"75c0677c-d08c-11e8-8961-f0761c9f65e1\"}, {\"domain\": {\"x\": [0.64, 0.94]}, \"hole\": 0.4, \"hoverinfo\": \"label+value+percent+name\", \"labels\": [\"6 DE OCTUBRE\", \"AGUAYSES\", \"CAPCHI\", \"COMAYO\", \"COOPAGUAB\", \"COOPAGUAS\", \"COOPAPPI\", \"COOPLAN\", \"COOPLIM\", \"COOSIV\", \"COOSPELCAR\", \"COSAJO\", \"COSAJU\", \"COSAP\", \"COSCHAL\", \"COSEPCO\", \"COSEPFA\", \"COSEPUR\", \"COSEPW\", \"COSFAL\", \"COSIMBO\", \"COSMIN\", \"COSMOL\", \"COSMON\", \"COSPAIL\", \"COSPAS\", \"COSPHUL\", \"COSPOL\", \"COSPUGEBUL\", \"COSSAJA\", \"FLORIDA\", \"JOROCHITO\", \"LA GUARDIA\", \"LA PORTE\\u00d1A\", \"SAGUAPAC\", \"SAJUBA\", \"SEAPAS\"], \"name\": \"v6\", \"textposition\": \"inside\", \"values\": [null, null, null, 250000.0, null, 4256186.0, null, null, null, 133597.0, null, null, null, null, 371750.0, null, null, 314150.4, null, null, null, 455169.6, 4131476.28, 464849.4, 1702182.0, null, null, 401821.2, 341640.0, null, 61685.0, null, 327542.0, null, 51850440.0, null, 466127.05], \"visible\": false, \"type\": \"pie\", \"uid\": \"75c0677d-d08c-11e8-be57-f0761c9f65e1\"}, {\"domain\": {\"x\": [0, 0.3]}, \"hole\": 0.4, \"hoverinfo\": \"label+value+percent+name\", \"labels\": [\"ASOAPAL\", \"CAPSCH\", \"COLOMI\", \"COOAPASH\", \"EMAPAS\", \"JASAP\", \"SEMAPA\"], \"name\": \"v4\", \"textposition\": \"inside\", \"values\": [null, null, null, null, 382899.6, null, 11628869.76], \"visible\": false, \"type\": \"pie\", \"uid\": \"75c0677e-d08c-11e8-bbb8-f0761c9f65e1\"}, {\"domain\": {\"x\": [0.32, 0.62]}, \"hole\": 0.4, \"hoverinfo\": \"label+value+percent+name\", \"labels\": [\"ASOAPAL\", \"CAPSCH\", \"COLOMI\", \"COOAPASH\", \"EMAPAS\", \"JASAP\", \"SEMAPA\"], \"name\": \"v5\", \"textposition\": \"inside\", \"values\": [101624.0, 703272.0, null, null, 755868.0, null, 13584591.0], \"visible\": false, \"type\": \"pie\", \"uid\": \"75c0677f-d08c-11e8-aba0-f0761c9f65e1\"}, {\"domain\": {\"x\": [0.64, 0.94]}, \"hole\": 0.4, \"hoverinfo\": \"label+value+percent+name\", \"labels\": [\"ASOAPAL\", \"CAPSCH\", \"COLOMI\", \"COOAPASH\", \"EMAPAS\", \"JASAP\", \"SEMAPA\"], \"name\": \"v6\", \"textposition\": \"inside\", \"values\": [null, 204984.0, 276825.0, 188340.0, 857779.2, 18720.0, 9943778.05], \"visible\": false, \"type\": \"pie\", \"uid\": \"75c06780-d08c-11e8-9193-f0761c9f65e1\"}, {\"domain\": {\"x\": [0, 0.3]}, \"hole\": 0.4, \"hoverinfo\": \"label+value+percent+name\", \"labels\": [\"AAPOS\", \"BUSTILLO\", \"CAPU\", \"EMPSAAT\", \"EMSABAV\"], \"name\": \"v4\", \"textposition\": \"inside\", \"values\": [6054358.0, null, null, 126144.0, 381621.82], \"visible\": false, \"type\": \"pie\", \"uid\": \"75c06781-d08c-11e8-bb32-f0761c9f65e1\"}, {\"domain\": {\"x\": [0.32, 0.62]}, \"hole\": 0.4, \"hoverinfo\": \"label+value+percent+name\", \"labels\": [\"AAPOS\", \"BUSTILLO\", \"CAPU\", \"EMPSAAT\", \"EMSABAV\"], \"name\": \"v5\", \"textposition\": \"inside\", \"values\": [5873400.0, 1165588.16, 601472.0, 884286.0, 914631.0], \"visible\": false, \"type\": \"pie\", \"uid\": \"75c06782-d08c-11e8-9fe9-f0761c9f65e1\"}, {\"domain\": {\"x\": [0.64, 0.94]}, \"hole\": 0.4, \"hoverinfo\": \"label+value+percent+name\", \"labels\": [\"AAPOS\", \"BUSTILLO\", \"CAPU\", \"EMPSAAT\", \"EMSABAV\"], \"name\": \"v6\", \"textposition\": \"inside\", \"values\": [null, null, null, 2661638.4, 353203.2], \"visible\": false, \"type\": \"pie\", \"uid\": \"75c06783-d08c-11e8-b73f-f0761c9f65e1\"}, {\"domain\": {\"x\": [0, 0.3]}, \"hole\": 0.4, \"hoverinfo\": \"label+value+percent+name\", \"labels\": [\"CAPAG\", \"COAPASB\", \"COATRI\", \"SAMAPAR\", \"SEMAPAR\"], \"name\": \"v4\", \"textposition\": \"inside\", \"values\": [2048810.0, null, 1982032.0, null, null], \"visible\": false, \"type\": \"pie\", \"uid\": \"75c06784-d08c-11e8-b150-f0761c9f65e1\"}, {\"domain\": {\"x\": [0.32, 0.62]}, \"hole\": 0.4, \"hoverinfo\": \"label+value+percent+name\", \"labels\": [\"CAPAG\", \"COAPASB\", \"COATRI\", \"SAMAPAR\", \"SEMAPAR\"], \"name\": \"v5\", \"textposition\": \"inside\", \"values\": [1758478.0, null, 1573583.0, 592415.0, 550637.0], \"visible\": false, \"type\": \"pie\", \"uid\": \"75c06785-d08c-11e8-9774-f0761c9f65e1\"}, {\"domain\": {\"x\": [0.64, 0.94]}, \"hole\": 0.4, \"hoverinfo\": \"label+value+percent+name\", \"labels\": [\"CAPAG\", \"COAPASB\", \"COATRI\", \"SAMAPAR\", \"SEMAPAR\"], \"name\": \"v6\", \"textposition\": \"inside\", \"values\": [null, null, 2650636.8, null, null], \"visible\": false, \"type\": \"pie\", \"uid\": \"75c06786-d08c-11e8-a27a-f0761c9f65e1\"}, {\"domain\": {\"x\": [0, 0.3]}, \"hole\": 0.4, \"hoverinfo\": \"label+value+percent+name\", \"labels\": [\"COSAALT\", \"EMAAB\", \"EMAPYC\", \"MANCHACO\"], \"name\": \"v4\", \"textposition\": \"inside\", \"values\": [8702106.91, 2842650.0, 668563.2, 2663761.28], \"visible\": false, \"type\": \"pie\", \"uid\": \"75c06787-d08c-11e8-8a30-f0761c9f65e1\"}, {\"domain\": {\"x\": [0.32, 0.62]}, \"hole\": 0.4, \"hoverinfo\": \"label+value+percent+name\", \"labels\": [\"COSAALT\", \"EMAAB\", \"EMAPYC\", \"MANCHACO\"], \"name\": \"v5\", \"textposition\": \"inside\", \"values\": [9548672.39, 2245693.0, 2253266.18, 3034068.0], \"visible\": false, \"type\": \"pie\", \"uid\": \"75c06788-d08c-11e8-a349-f0761c9f65e1\"}, {\"domain\": {\"x\": [0.64, 0.94]}, \"hole\": 0.4, \"hoverinfo\": \"label+value+percent+name\", \"labels\": [\"COSAALT\", \"EMAAB\", \"EMAPYC\", \"MANCHACO\"], \"name\": \"v6\", \"textposition\": \"inside\", \"values\": [9523872.0, 1705590.0, 2113858.08, 1928669.79], \"visible\": false, \"type\": \"pie\", \"uid\": \"75c06789-d08c-11e8-a3a7-f0761c9f65e1\"}, {\"domain\": {\"x\": [0, 0.3]}, \"hole\": 0.4, \"hoverinfo\": \"label+value+percent+name\", \"labels\": [\"COSEPP\", \"COSERCA\", \"ELAPAS\"], \"name\": \"v4\", \"textposition\": \"inside\", \"values\": [null, 268167.0, 10649119.39], \"visible\": false, \"type\": \"pie\", \"uid\": \"75c0678a-d08c-11e8-ab54-f0761c9f65e1\"}, {\"domain\": {\"x\": [0.32, 0.62]}, \"hole\": 0.4, \"hoverinfo\": \"label+value+percent+name\", \"labels\": [\"COSEPP\", \"COSERCA\", \"ELAPAS\"], \"name\": \"v5\", \"textposition\": \"inside\", \"values\": [119645.0, 321277.0, 8988303.0], \"visible\": false, \"type\": \"pie\", \"uid\": \"75c0678b-d08c-11e8-b277-f0761c9f65e1\"}, {\"domain\": {\"x\": [0.64, 0.94]}, \"hole\": 0.4, \"hoverinfo\": \"label+value+percent+name\", \"labels\": [\"COSEPP\", \"COSERCA\", \"ELAPAS\"], \"name\": \"v6\", \"textposition\": \"inside\", \"values\": [null, null, 4376380.72], \"visible\": false, \"type\": \"pie\", \"uid\": \"75c0678c-d08c-11e8-bb81-f0761c9f65e1\"}, {\"domain\": {\"x\": [0, 0.3]}, \"hole\": 0.4, \"hoverinfo\": \"label+value+percent+name\", \"labels\": [\"EPSA COBIJA\"], \"name\": \"v4\", \"textposition\": \"inside\", \"values\": [2838240.0], \"visible\": false, \"type\": \"pie\", \"uid\": \"75c0678d-d08c-11e8-a27a-f0761c9f65e1\"}, {\"domain\": {\"x\": [0.32, 0.62]}, \"hole\": 0.4, \"hoverinfo\": \"label+value+percent+name\", \"labels\": [\"EPSA COBIJA\"], \"name\": \"v5\", \"textposition\": \"inside\", \"values\": [2010966.8], \"visible\": false, \"type\": \"pie\", \"uid\": \"75c0678e-d08c-11e8-965e-f0761c9f65e1\"}, {\"domain\": {\"x\": [0.64, 0.94]}, \"hole\": 0.4, \"hoverinfo\": \"label+value+percent+name\", \"labels\": [\"EPSA COBIJA\"], \"name\": \"v6\", \"textposition\": \"inside\", \"values\": [null], \"visible\": false, \"type\": \"pie\", \"uid\": \"75c0678f-d08c-11e8-9974-f0761c9f65e1\"}, {\"domain\": {\"x\": [0, 0.3]}, \"hole\": 0.4, \"hoverinfo\": \"label+value+percent+name\", \"labels\": [\"COAPAS VINTO\", \"EMAPA\", \"SELA\", \"SMAPA\"], \"name\": \"v4\", \"textposition\": \"inside\", \"values\": [null, 243349.92, null, null], \"visible\": false, \"type\": \"pie\", \"uid\": \"75c06790-d08c-11e8-b5d0-f0761c9f65e1\"}, {\"domain\": {\"x\": [0.32, 0.62]}, \"hole\": 0.4, \"hoverinfo\": \"label+value+percent+name\", \"labels\": [\"COAPAS VINTO\", \"EMAPA\", \"SELA\", \"SMAPA\"], \"name\": \"v5\", \"textposition\": \"inside\", \"values\": [108060.0, 268396.0, 7679524.0, null], \"visible\": false, \"type\": \"pie\", \"uid\": \"75c06791-d08c-11e8-850a-f0761c9f65e1\"}, {\"domain\": {\"x\": [0.64, 0.94]}, \"hole\": 0.4, \"hoverinfo\": \"label+value+percent+name\", \"labels\": [\"COAPAS VINTO\", \"EMAPA\", \"SELA\", \"SMAPA\"], \"name\": \"v6\", \"textposition\": \"inside\", \"values\": [null, null, null, null], \"visible\": false, \"type\": \"pie\", \"uid\": \"75c06792-d08c-11e8-88b1-f0761c9f65e1\"}],\n",
       "            {\"annotations\": [{\"font\": {\"size\": 20}, \"showarrow\": false, \"text\": \"V4\", \"x\": 0.13, \"y\": 0.5}, {\"font\": {\"size\": 20}, \"showarrow\": false, \"text\": \"V5\", \"x\": 0.47, \"y\": 0.5}, {\"font\": {\"size\": 20}, \"showarrow\": false, \"text\": \"V6\", \"x\": 0.81, \"y\": 0.5}, {\"font\": {\"size\": 20}, \"showarrow\": false, \"text\": \"AP en planta de<br>tratamiento\", \"x\": 0.07, \"y\": 0}, {\"font\": {\"size\": 20}, \"showarrow\": false, \"text\": \"AP<br>Facturado\", \"x\": 0.48, \"y\": 0}, {\"font\": {\"size\": 20}, \"showarrow\": false, \"text\": \"Agua<br>Residual\", \"x\": 0.87, \"y\": 0}], \"title\": \"<b>V4</b>: Volumen de agua potable tratada en planta de tratamiento(m3/periodo)<br><b>V5</b>: Volumen de agua potable facturado(m3/periodo)<br><b>V6</b>: Volumen tratado de agua residual(m3/periodo)\", \"titlefont\": {\"size\": 15}, \"updatemenus\": [{\"active\": 0, \"buttons\": [{\"args\": [{\"visible\": [true, true, true, false, false, false, false, false, false, false, false, false, false, false, false, false, false, false, false, false, false, false, false, false, false, false, false]}, {}], \"label\": \"La Paz\", \"method\": \"update\"}, {\"args\": [{\"visible\": [false, false, false, true, true, true, false, false, false, false, false, false, false, false, false, false, false, false, false, false, false, false, false, false, false, false, false]}, {}], \"label\": \"Santa Cruz\", \"method\": \"update\"}, {\"args\": [{\"visible\": [false, false, false, false, false, false, true, true, true, false, false, false, false, false, false, false, false, false, false, false, false, false, false, false, false, false, false]}, {}], \"label\": \"Cochabamba\", \"method\": \"update\"}, {\"args\": [{\"visible\": [false, false, false, false, false, false, false, false, false, true, true, true, false, false, false, false, false, false, false, false, false, false, false, false, false, false, false]}, {}], \"label\": \"Potos\\u00ed\", \"method\": \"update\"}, {\"args\": [{\"visible\": [false, false, false, false, false, false, false, false, false, false, false, false, true, true, true, false, false, false, false, false, false, false, false, false, false, false, false]}, {}], \"label\": \"Beni\", \"method\": \"update\"}, {\"args\": [{\"visible\": [false, false, false, false, false, false, false, false, false, false, false, false, false, false, false, true, true, true, false, false, false, false, false, false, false, false, false]}, {}], \"label\": \"Tarija\", \"method\": \"update\"}, {\"args\": [{\"visible\": [false, false, false, false, false, false, false, false, false, false, false, false, false, false, false, true, true, true, false, false, false, false, false, false, false, false, false]}, {}], \"label\": \"Chuquisaca\", \"method\": \"update\"}, {\"args\": [{\"visible\": [false, false, false, false, false, false, false, false, false, false, false, false, false, false, false, false, false, false, false, false, false, true, true, true, false, false, false]}, {}], \"label\": \"Pando\", \"method\": \"update\"}, {\"args\": [{\"visible\": [false, false, false, false, false, false, false, false, false, false, false, false, false, false, false, false, false, false, false, false, false, false, false, false, true, true, true]}, {}], \"label\": \"Oruro\", \"method\": \"update\"}], \"direction\": \"up\", \"x\": 0.4, \"xanchor\": \"left\", \"y\": -0.05, \"yanchor\": \"top\"}]},\n",
       "            {\"showLink\": true, \"linkText\": \"Export to plot.ly\"}\n",
       "        ).then(function () {return Plotly.addFrames('4cdc9796-7413-4158-959b-12e96839fcb2',{});}).then(function(){Plotly.animate('4cdc9796-7413-4158-959b-12e96839fcb2');})\n",
       "        });</script>"
      ]
     },
     "metadata": {},
     "output_type": "display_data"
    }
   ],
   "source": [
    "crdf = complete_reports_df\n",
    "\n",
    "category = 'A'\n",
    "state = 'SC'\n",
    "\n",
    "variables = ['v4', 'v5', 'v6']\n",
    "states = ['LP', 'SC', 'CO', 'PO', 'BE', 'TA', 'CH', 'PA', 'OR']\n",
    "\n",
    "state_name_map = {\n",
    "    'LP': 'La Paz',\n",
    "    'SC': 'Santa Cruz',\n",
    "    'CO': 'Cochabamba',\n",
    "    'PO': 'Potosí',\n",
    "    'BE': 'Beni',\n",
    "    'TA': 'Tarija',\n",
    "    'CH': 'Chuquisaca',\n",
    "    'PA': 'Pando',\n",
    "    'OR': 'Oruro', \n",
    "}\n",
    "\n",
    "def get_domain(var):\n",
    "    if var == 'v4':\n",
    "        return {\"x\": [0, .30]}\n",
    "    if var == 'v5':\n",
    "        return {\"x\": [.32, .62]}\n",
    "    else:\n",
    "        return {\"x\": [.64, .94]}\n",
    "        \n",
    "def get_visible_list(state):\n",
    "    state_map = {'LP': 0, 'SC': 1, 'CO': 2, \n",
    "                 'PO': 3, 'BE': 4, 'TA': 5,\n",
    "                 'CH': 5, 'PA': 7, 'OR': 8}\n",
    "    \n",
    "    offset = state_map[state]\n",
    "    \n",
    "    base_array = [0 for i in range(9)]\n",
    "    base_array[offset] = 1\n",
    "    \n",
    "    big_true = [True for i in range(3)]\n",
    "    big_false = [False for i in range(3)]\n",
    "    \n",
    "    nested_array = [big_true if x == 1 else big_false for x in base_array]\n",
    "    \n",
    "    return [x for l in nested_array for x in l]\n",
    "\n",
    "data = []\n",
    "\n",
    "for state in states:\n",
    "    filtered_df = crdf[(crdf.state == state) & (crdf.year == 2017)]\n",
    "    visible = True if state == 'LP' else False\n",
    "    for var in variables:\n",
    "        data.append(dict(\n",
    "            values=list(filtered_df[var]),\n",
    "            labels=list(filtered_df.code),\n",
    "            type='pie',\n",
    "            hole=.4,\n",
    "            textposition='inside',\n",
    "            name=var,\n",
    "            domain=get_domain(var),\n",
    "            hoverinfo='label+value+percent+name',\n",
    "            visible=visible,\n",
    "        ))\n",
    "\n",
    "\n",
    "var4 = variables_df[variables_df.var_id == 4]\n",
    "var5 = variables_df[variables_df.var_id == 5]\n",
    "var6 = variables_df[variables_df.var_id == 6]\n",
    "\n",
    "v4name = var4.name.iloc[0]\n",
    "v5name = var5.name.iloc[0]\n",
    "v6name = var6.name.iloc[0]\n",
    "\n",
    "v4unit = var4.unit.iloc[0]\n",
    "v5unit = var5.unit.iloc[0]\n",
    "v6unit = var6.unit.iloc[0]\n",
    "\n",
    "updatemenus = [dict(\n",
    "    active=0,\n",
    "    xanchor='left',\n",
    "    yanchor='top',\n",
    "    direction='up',\n",
    "    x= .4,\n",
    "    y= -0.05,\n",
    "    buttons = [dict(\n",
    "        label=f'{state_name_map[state]}',\n",
    "        method='update', # modify both data and layout\n",
    "        args = [\n",
    "            {'visible': get_visible_list(state)}, # data modification\n",
    "            # layout modification\n",
    "            dict(\n",
    "#                 title= make_title(ind),\n",
    "#                 xaxis= make_x_axis(cat),\n",
    "#                 yaxis= make_y_axis(ind),\n",
    "#                 shapes= make_shapes(ind),\n",
    "            ),\n",
    "        ],\n",
    "    ) for state in states]\n",
    ")]\n",
    "\n",
    "\n",
    "layout = dict(\n",
    "    updatemenus = updatemenus,\n",
    "    title = f'<b>V4</b>: {v4name}({v4unit})<br><b>V5</b>: {v5name}({v5unit})<br><b>V6</b>: {v6name}({v6unit})',\n",
    "    titlefont = dict(size=15),\n",
    "    annotations = [dict(\n",
    "        font=dict(size=20),\n",
    "        showarrow=False,\n",
    "        text='V4',\n",
    "        x=0.13,\n",
    "        y=0.5,\n",
    "    ), dict(\n",
    "        font=dict(size=20),\n",
    "        showarrow=False,\n",
    "        text='V5',\n",
    "        x=0.47,\n",
    "        y=0.5,\n",
    "    ), dict(\n",
    "        font=dict(size=20),\n",
    "        showarrow=False,\n",
    "        text='V6',\n",
    "        x=0.81,\n",
    "        y=0.5,\n",
    "    ), dict(\n",
    "        font=dict(size=20),\n",
    "        showarrow=False,\n",
    "        text='AP en planta de<br>tratamiento',\n",
    "        x=0.07,\n",
    "        y=0,\n",
    "    ), dict(\n",
    "        font=dict(size=20),\n",
    "        showarrow=False,\n",
    "        text='AP<br>Facturado',\n",
    "        x=0.48,\n",
    "        y=0,\n",
    "    ), dict(\n",
    "        font=dict(size=20),\n",
    "        showarrow=False,\n",
    "        text='Agua<br>Residual',\n",
    "        x=0.87,\n",
    "        y=0,\n",
    "    )]\n",
    ")\n",
    "\n",
    "fig = go.Figure(data=data, layout=layout)\n",
    "iplot(fig)"
   ]
  },
  {
   "cell_type": "code",
   "execution_count": 10,
   "metadata": {},
   "outputs": [
    {
     "data": {
      "text/html": [
       "<iframe id=\"igraph\" scrolling=\"no\" style=\"border:none;\" seamless=\"seamless\" src=\"https://plot.ly/~sergiochumacero/82.embed\" height=\"525px\" width=\"100%\"></iframe>"
      ],
      "text/plain": [
       "<plotly.tools.PlotlyDisplay object>"
      ]
     },
     "execution_count": 10,
     "metadata": {},
     "output_type": "execute_result"
    }
   ],
   "source": [
    "py.iplot(fig, filename='volumen2_2017')"
   ]
  }
 ],
 "metadata": {
  "celltoolbar": "Slideshow",
  "kernelspec": {
   "display_name": "Python 3",
   "language": "python",
   "name": "python3"
  },
  "language_info": {
   "codemirror_mode": {
    "name": "ipython",
    "version": 3
   },
   "file_extension": ".py",
   "mimetype": "text/x-python",
   "name": "python",
   "nbconvert_exporter": "python",
   "pygments_lexer": "ipython3",
   "version": "3.6.5"
  }
 },
 "nbformat": 4,
 "nbformat_minor": 2
}
