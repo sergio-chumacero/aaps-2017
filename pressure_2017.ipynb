{
 "cells": [
  {
   "cell_type": "code",
   "execution_count": 91,
   "metadata": {},
   "outputs": [
    {
     "data": {
      "text/html": [
       "<script>requirejs.config({paths: { 'plotly': ['https://cdn.plot.ly/plotly-latest.min']},});if(!window.Plotly) {{require(['plotly'],function(plotly) {window.Plotly=plotly;});}}</script>"
      ],
      "text/vnd.plotly.v1+html": [
       "<script>requirejs.config({paths: { 'plotly': ['https://cdn.plot.ly/plotly-latest.min']},});if(!window.Plotly) {{require(['plotly'],function(plotly) {window.Plotly=plotly;});}}</script>"
      ]
     },
     "metadata": {},
     "output_type": "display_data"
    }
   ],
   "source": [
    "import plotly.graph_objs as go\n",
    "import pandas as pd\n",
    "import numpy as np\n",
    "import requests\n",
    "from plotly.offline import init_notebook_mode, iplot\n",
    "init_notebook_mode(connected=True)\n",
    "\n",
    "reports_r = requests.get('https://peridash.ml/api/reports')\n",
    "measurements_r = requests.get('https://peridash.ml/api/measurements')\n",
    "epsas_r = requests.get('https://peridash.ml/api/epsas')\n",
    "variables_r = requests.get('https://peridash.ml/api/variables')\n",
    "indicators_r = requests.get('https://peridash.ml/api/indicators')\n",
    "\n",
    "reports_df = pd.read_json(reports_r.text)\n",
    "measurements_df = pd.read_json(measurements_r.text)\n",
    "epsas_df = pd.read_json(epsas_r.text)\n",
    "variables_df = pd.read_json(variables_r.text)\n",
    "indicators_df = pd.read_json(indicators_r.text)\n",
    "\n",
    "complete_reports_df = pd.merge(reports_df, epsas_df, left_on='epsa', right_on='url')\n",
    "complete_measurements_df = pd.merge(measurements_df, epsas_df, left_on='epsa', right_on='url')\n",
    "\n",
    "ind_names = [\n",
    "    'Rendimiento actual de la fuente', 'Uso eficiente del recurso',\n",
    "    'Cobertura de muestras de agua potable',\n",
    "    'Conformidad de los análisis de agua potable realizados',\n",
    "    'Dotación', 'Continuidad por racionamiento', 'Continuidad por corte',\n",
    "    'Cobertura del servicio de agua potable',\n",
    "    'Cobertura del servicio de alcantarillado sanitario',\n",
    "    'Cobertura de micromedición',\n",
    "    'Incidencia extracción de agua cruda subterránea ',\n",
    "    'Índice de tratamiento de agua residual', 'Control de agua residual',\n",
    "    'Capacidad instalada de planta de tratamiento de agua potable',\n",
    "    'Capacidad instalada de planta de tratamiento de agua residual ',\n",
    "    'Presión del servicio de agua potable',\n",
    "    'Índice de agua no contabilizada en producción',\n",
    "    'Índice de agua no contabilizada en la red',\n",
    "    'Densidad de fallas en tuberías de agua potable',\n",
    "    'Densidad de fallas en conexiones de agua potable',\n",
    "    'Densidad de fallas en tuberías de agua residual',\n",
    "    'Densidad de fallas en conexiones de agua residual',\n",
    "    'Índice de operación eficiente', 'Prueba ácida',\n",
    "    'Eficiencia de recaudación', 'Índice de endeudamiento total', 'Tarifa media',\n",
    "    'Costo unitario de operación', 'Índice de ejecución de inversiones',\n",
    "    'Personal calificado', 'Número de empleados por cada 1000 conexiones',\n",
    "    'Atención de reclamos'\n",
    "]\n",
    "ind_units = ['%', '%', '%', '%', 'l/hab/día', 'hr/día', '%', '%', '%', '%',\n",
    "             '%', '%', '%', '%', '%', '%', '%', '%', 'fallas/100km',\n",
    "             'fallas/1000conex.', 'fallas/100km', 'fallas/1000conex.', '%', '-',\n",
    "             '%', '%', '%CUO(Bs.)', '%TM(Bs.)', '%', '%', 'empleados/1000conex.', '%']\n",
    "\n",
    "colors = [\n",
    "    '#1f77b4','#ff7f0e','#2ca02c',\n",
    "    '#d62728', '#9467bd', '#8c564b',\n",
    "    '#e377c2', '#7f7f7f', '#bcbd22','#17becf'\n",
    "]\n",
    "\n",
    "def get_ind_name(ind):\n",
    "    return ind_names[int(ind[3:])-1]\n",
    "\n",
    "def get_ind_unit(ind):\n",
    "    return ind_units[int(ind[3:])-1]"
   ]
  },
  {
   "cell_type": "code",
   "execution_count": 182,
   "metadata": {},
   "outputs": [
    {
     "data": {
      "application/vnd.plotly.v1+json": {
       "data": [
        {
         "hoverinfo": "text",
         "opacity": 0.8,
         "text": [
          "SEMAPA<br>4.83%",
          "EPSAS<br>88.24%",
          "SAGUAPAC<br>96.88%"
         ],
         "textposition": "auto",
         "type": "bar",
         "uid": "4fce4d76-d223-11e8-8cef-f0761c9f65e1",
         "visible": true,
         "x": [
          "SEMAPA",
          "EPSAS",
          "SAGUAPAC"
         ],
         "y": [
          4.83,
          88.24,
          96.88
         ]
        },
        {
         "hoverinfo": "text",
         "opacity": 0.8,
         "text": [
          "COOPAPPI<br>35.09%",
          "EMAPAS<br>60.0%",
          "EMAPYC<br>61.9%",
          "SAJUBA<br>72.22%",
          "COSMOL<br>73.39%",
          "MANCHACO<br>80.33%",
          "ELAPAS<br>85.29%",
          "SELA<br>87.22%",
          "COSAALT<br>89.53%",
          "COOPLAN<br>98.89%",
          "CAPAG<br>100.0%",
          "COOPAGUAS<br>100.0%",
          "COSPAIL<br>100.0%",
          "EMAPAV<br>100.0%"
         ],
         "textposition": "auto",
         "type": "bar",
         "uid": "4fce4d77-d223-11e8-b5ad-f0761c9f65e1",
         "visible": false,
         "x": [
          "COOPAPPI",
          "EMAPAS",
          "EMAPYC",
          "SAJUBA",
          "COSMOL",
          "MANCHACO",
          "ELAPAS",
          "SELA",
          "COSAALT",
          "COOPLAN",
          "CAPAG",
          "COOPAGUAS",
          "COSPAIL",
          "EMAPAV"
         ],
         "y": [
          35.09,
          60,
          61.9,
          72.22,
          73.39,
          80.33,
          85.29,
          87.22,
          89.53,
          98.89,
          100,
          100,
          100,
          100
         ]
        },
        {
         "hoverinfo": "text",
         "opacity": 0.8,
         "text": [
          "COSFAL<br>0.0%",
          "SMAPA<br>25.0%",
          "CAPU<br>47.92%",
          "COSMON<br>75.0%",
          "COOSPELCAR<br>81.0%",
          "EMAPA<br>81.25%",
          "EMSABAV<br>88.89%",
          "COSPAS<br>90.0%",
          "COMAYO<br>91.67%",
          "SEAPAS<br>93.48%",
          "LA GUARDIA<br>94.83%",
          "COSPUGEBUL<br>100.0%",
          "COSPOL<br>100.0%",
          "COSPHUL<br>100.0%",
          "COOPLIM<br>100.0%",
          "COSEPW<br>100.0%",
          "COSEPUR<br>100.0%",
          "COSEPCO<br>100.0%",
          "COSCHAL<br>100.0%",
          "COSAPSI<br>100.0%",
          "COSAJU<br>100.0%",
          "COOSIV<br>100.0%",
          "COSMIN<br>100.0%",
          "COSIMBO<br>100.0%"
         ],
         "textposition": "auto",
         "type": "bar",
         "uid": "4fce4d78-d223-11e8-bd5e-f0761c9f65e1",
         "visible": false,
         "x": [
          "COSFAL",
          "SMAPA",
          "CAPU",
          "COSMON",
          "COOSPELCAR",
          "EMAPA",
          "EMSABAV",
          "COSPAS",
          "COMAYO",
          "SEAPAS",
          "LA GUARDIA",
          "COSPUGEBUL",
          "COSPOL",
          "COSPHUL",
          "COOPLIM",
          "COSEPW",
          "COSEPUR",
          "COSEPCO",
          "COSCHAL",
          "COSAPSI",
          "COSAJU",
          "COOSIV",
          "COSMIN",
          "COSIMBO"
         ],
         "y": [
          0,
          25,
          47.92,
          75,
          81,
          81.25,
          88.89,
          90,
          91.67,
          93.48,
          94.83,
          100,
          100,
          100,
          100,
          100,
          100,
          100,
          100,
          100,
          100,
          100,
          100,
          100
         ]
        },
        {
         "hoverinfo": "text",
         "opacity": 0.8,
         "text": [
          "CAPSCH<br>0.0%",
          "COOAPASH<br>0.0%",
          "AGUAYSES<br>75.0%",
          "COSEPFA<br>75.0%",
          "JOROCHITO<br>75.0%",
          "COLOMI<br>100.0%",
          "COSAJO<br>100.0%"
         ],
         "textposition": "auto",
         "type": "bar",
         "uid": "4fce4d79-d223-11e8-9303-f0761c9f65e1",
         "visible": false,
         "x": [
          "CAPSCH",
          "COOAPASH",
          "AGUAYSES",
          "COSEPFA",
          "JOROCHITO",
          "COLOMI",
          "COSAJO"
         ],
         "y": [
          0,
          0,
          75,
          75,
          75,
          100,
          100
         ]
        }
       ],
       "layout": {
        "hovermode": "closest",
        "paper_bgcolor": "rgb(248, 248, 255)",
        "plot_bgcolor": "rgb(248, 248, 255)",
        "title": "Presión del Servicio de Agua Potable - Categoría A",
        "updatemenus": [
         {
          "active": 0,
          "buttons": [
           {
            "args": [
             {
              "visible": [
               true,
               false,
               false,
               false
              ]
             },
             {
              "title": "Presión del Servicio de Agua Potable - Categoría A",
              "xaxis": {
               "title": "EPSAs Categoría A",
               "titlefont": {
                "color": "#7f7f7f",
                "family": "Courier New, monospace",
                "size": 18
               }
              }
             }
            ],
            "label": "Categoría A",
            "method": "update"
           },
           {
            "args": [
             {
              "visible": [
               false,
               true,
               false,
               false
              ]
             },
             {
              "title": "Presión del Servicio de Agua Potable - Categoría B",
              "xaxis": {
               "title": "EPSAs Categoría B",
               "titlefont": {
                "color": "#7f7f7f",
                "family": "Courier New, monospace",
                "size": 18
               }
              }
             }
            ],
            "label": "Categoría B",
            "method": "update"
           },
           {
            "args": [
             {
              "visible": [
               false,
               false,
               true,
               false
              ]
             },
             {
              "title": "Presión del Servicio de Agua Potable - Categoría C",
              "xaxis": {
               "title": "EPSAs Categoría C",
               "titlefont": {
                "color": "#7f7f7f",
                "family": "Courier New, monospace",
                "size": 18
               }
              }
             }
            ],
            "label": "Categoría C",
            "method": "update"
           },
           {
            "args": [
             {
              "visible": [
               false,
               false,
               false,
               true
              ]
             },
             {
              "title": "Presión del Servicio de Agua Potable - Categoría D",
              "xaxis": {
               "title": "EPSAs Categoría D",
               "titlefont": {
                "color": "#7f7f7f",
                "family": "Courier New, monospace",
                "size": 18
               }
              }
             }
            ],
            "label": "Categoría D",
            "method": "update"
           }
          ],
          "direction": "right",
          "showactive": true,
          "type": "buttons",
          "x": 0.25,
          "xanchor": "left",
          "y": -0.3,
          "yanchor": "top"
         }
        ],
        "xaxis": {
         "title": "EPSAs Categoría A",
         "titlefont": {
          "color": "#7f7f7f",
          "family": "Courier New, monospace",
          "size": 18
         }
        },
        "yaxis": {
         "title": "Presión del servicio de AP (%)",
         "titlefont": {
          "color": "#7f7f7f",
          "family": "Courier New, monospace",
          "size": 18
         }
        }
       }
      },
      "text/html": [
       "<div id=\"66e73ca8-61df-4195-9ed9-2912bf287ff6\" style=\"height: 525px; width: 100%;\" class=\"plotly-graph-div\"></div><script type=\"text/javascript\">require([\"plotly\"], function(Plotly) { window.PLOTLYENV=window.PLOTLYENV || {};window.PLOTLYENV.BASE_URL=\"https://plot.ly\";\n",
       "        Plotly.plot(\n",
       "            '66e73ca8-61df-4195-9ed9-2912bf287ff6',\n",
       "            [{\"hoverinfo\": \"text\", \"opacity\": 0.8, \"text\": [\"SEMAPA<br>4.83%\", \"EPSAS<br>88.24%\", \"SAGUAPAC<br>96.88%\"], \"textposition\": \"auto\", \"visible\": true, \"x\": [\"SEMAPA\", \"EPSAS\", \"SAGUAPAC\"], \"y\": [4.83, 88.24, 96.88], \"type\": \"bar\", \"uid\": \"4fce4d76-d223-11e8-8cef-f0761c9f65e1\"}, {\"hoverinfo\": \"text\", \"opacity\": 0.8, \"text\": [\"COOPAPPI<br>35.09%\", \"EMAPAS<br>60.0%\", \"EMAPYC<br>61.9%\", \"SAJUBA<br>72.22%\", \"COSMOL<br>73.39%\", \"MANCHACO<br>80.33%\", \"ELAPAS<br>85.29%\", \"SELA<br>87.22%\", \"COSAALT<br>89.53%\", \"COOPLAN<br>98.89%\", \"CAPAG<br>100.0%\", \"COOPAGUAS<br>100.0%\", \"COSPAIL<br>100.0%\", \"EMAPAV<br>100.0%\"], \"textposition\": \"auto\", \"visible\": false, \"x\": [\"COOPAPPI\", \"EMAPAS\", \"EMAPYC\", \"SAJUBA\", \"COSMOL\", \"MANCHACO\", \"ELAPAS\", \"SELA\", \"COSAALT\", \"COOPLAN\", \"CAPAG\", \"COOPAGUAS\", \"COSPAIL\", \"EMAPAV\"], \"y\": [35.09, 60.0, 61.9, 72.22, 73.39, 80.33, 85.29, 87.22, 89.53, 98.89, 100.0, 100.0, 100.0, 100.0], \"type\": \"bar\", \"uid\": \"4fce4d77-d223-11e8-b5ad-f0761c9f65e1\"}, {\"hoverinfo\": \"text\", \"opacity\": 0.8, \"text\": [\"COSFAL<br>0.0%\", \"SMAPA<br>25.0%\", \"CAPU<br>47.92%\", \"COSMON<br>75.0%\", \"COOSPELCAR<br>81.0%\", \"EMAPA<br>81.25%\", \"EMSABAV<br>88.89%\", \"COSPAS<br>90.0%\", \"COMAYO<br>91.67%\", \"SEAPAS<br>93.48%\", \"LA GUARDIA<br>94.83%\", \"COSPUGEBUL<br>100.0%\", \"COSPOL<br>100.0%\", \"COSPHUL<br>100.0%\", \"COOPLIM<br>100.0%\", \"COSEPW<br>100.0%\", \"COSEPUR<br>100.0%\", \"COSEPCO<br>100.0%\", \"COSCHAL<br>100.0%\", \"COSAPSI<br>100.0%\", \"COSAJU<br>100.0%\", \"COOSIV<br>100.0%\", \"COSMIN<br>100.0%\", \"COSIMBO<br>100.0%\"], \"textposition\": \"auto\", \"visible\": false, \"x\": [\"COSFAL\", \"SMAPA\", \"CAPU\", \"COSMON\", \"COOSPELCAR\", \"EMAPA\", \"EMSABAV\", \"COSPAS\", \"COMAYO\", \"SEAPAS\", \"LA GUARDIA\", \"COSPUGEBUL\", \"COSPOL\", \"COSPHUL\", \"COOPLIM\", \"COSEPW\", \"COSEPUR\", \"COSEPCO\", \"COSCHAL\", \"COSAPSI\", \"COSAJU\", \"COOSIV\", \"COSMIN\", \"COSIMBO\"], \"y\": [0.0, 25.0, 47.92, 75.0, 81.0, 81.25, 88.89, 90.0, 91.67, 93.48, 94.83, 100.0, 100.0, 100.0, 100.0, 100.0, 100.0, 100.0, 100.0, 100.0, 100.0, 100.0, 100.0, 100.0], \"type\": \"bar\", \"uid\": \"4fce4d78-d223-11e8-bd5e-f0761c9f65e1\"}, {\"hoverinfo\": \"text\", \"opacity\": 0.8, \"text\": [\"CAPSCH<br>0.0%\", \"COOAPASH<br>0.0%\", \"AGUAYSES<br>75.0%\", \"COSEPFA<br>75.0%\", \"JOROCHITO<br>75.0%\", \"COLOMI<br>100.0%\", \"COSAJO<br>100.0%\"], \"textposition\": \"auto\", \"visible\": false, \"x\": [\"CAPSCH\", \"COOAPASH\", \"AGUAYSES\", \"COSEPFA\", \"JOROCHITO\", \"COLOMI\", \"COSAJO\"], \"y\": [0.0, 0.0, 75.0, 75.0, 75.0, 100.0, 100.0], \"type\": \"bar\", \"uid\": \"4fce4d79-d223-11e8-9303-f0761c9f65e1\"}],\n",
       "            {\"hovermode\": \"closest\", \"paper_bgcolor\": \"rgb(248, 248, 255)\", \"plot_bgcolor\": \"rgb(248, 248, 255)\", \"title\": \"Presi\\u00f3n del Servicio de Agua Potable - Categor\\u00eda A\", \"updatemenus\": [{\"active\": 0, \"buttons\": [{\"args\": [{\"visible\": [true, false, false, false]}, {\"title\": \"Presi\\u00f3n del Servicio de Agua Potable - Categor\\u00eda A\", \"xaxis\": {\"title\": \"EPSAs Categor\\u00eda A\", \"titlefont\": {\"family\": \"Courier New, monospace\", \"size\": 18, \"color\": \"#7f7f7f\"}}}], \"label\": \"Categor\\u00eda A\", \"method\": \"update\"}, {\"args\": [{\"visible\": [false, true, false, false]}, {\"title\": \"Presi\\u00f3n del Servicio de Agua Potable - Categor\\u00eda B\", \"xaxis\": {\"title\": \"EPSAs Categor\\u00eda B\", \"titlefont\": {\"family\": \"Courier New, monospace\", \"size\": 18, \"color\": \"#7f7f7f\"}}}], \"label\": \"Categor\\u00eda B\", \"method\": \"update\"}, {\"args\": [{\"visible\": [false, false, true, false]}, {\"title\": \"Presi\\u00f3n del Servicio de Agua Potable - Categor\\u00eda C\", \"xaxis\": {\"title\": \"EPSAs Categor\\u00eda C\", \"titlefont\": {\"family\": \"Courier New, monospace\", \"size\": 18, \"color\": \"#7f7f7f\"}}}], \"label\": \"Categor\\u00eda C\", \"method\": \"update\"}, {\"args\": [{\"visible\": [false, false, false, true]}, {\"title\": \"Presi\\u00f3n del Servicio de Agua Potable - Categor\\u00eda D\", \"xaxis\": {\"title\": \"EPSAs Categor\\u00eda D\", \"titlefont\": {\"family\": \"Courier New, monospace\", \"size\": 18, \"color\": \"#7f7f7f\"}}}], \"label\": \"Categor\\u00eda D\", \"method\": \"update\"}], \"direction\": \"right\", \"showactive\": true, \"type\": \"buttons\", \"x\": 0.25, \"xanchor\": \"left\", \"y\": -0.3, \"yanchor\": \"top\"}], \"xaxis\": {\"title\": \"EPSAs Categor\\u00eda A\", \"titlefont\": {\"color\": \"#7f7f7f\", \"family\": \"Courier New, monospace\", \"size\": 18}}, \"yaxis\": {\"title\": \"Presi\\u00f3n del servicio de AP (%)\", \"titlefont\": {\"color\": \"#7f7f7f\", \"family\": \"Courier New, monospace\", \"size\": 18}}},\n",
       "            {\"showLink\": true, \"linkText\": \"Export to plot.ly\"}\n",
       "        ).then(function () {return Plotly.addFrames('66e73ca8-61df-4195-9ed9-2912bf287ff6',{});}).then(function(){Plotly.animate('66e73ca8-61df-4195-9ed9-2912bf287ff6');})\n",
       "        });</script>"
      ],
      "text/vnd.plotly.v1+html": [
       "<div id=\"66e73ca8-61df-4195-9ed9-2912bf287ff6\" style=\"height: 525px; width: 100%;\" class=\"plotly-graph-div\"></div><script type=\"text/javascript\">require([\"plotly\"], function(Plotly) { window.PLOTLYENV=window.PLOTLYENV || {};window.PLOTLYENV.BASE_URL=\"https://plot.ly\";\n",
       "        Plotly.plot(\n",
       "            '66e73ca8-61df-4195-9ed9-2912bf287ff6',\n",
       "            [{\"hoverinfo\": \"text\", \"opacity\": 0.8, \"text\": [\"SEMAPA<br>4.83%\", \"EPSAS<br>88.24%\", \"SAGUAPAC<br>96.88%\"], \"textposition\": \"auto\", \"visible\": true, \"x\": [\"SEMAPA\", \"EPSAS\", \"SAGUAPAC\"], \"y\": [4.83, 88.24, 96.88], \"type\": \"bar\", \"uid\": \"4fce4d76-d223-11e8-8cef-f0761c9f65e1\"}, {\"hoverinfo\": \"text\", \"opacity\": 0.8, \"text\": [\"COOPAPPI<br>35.09%\", \"EMAPAS<br>60.0%\", \"EMAPYC<br>61.9%\", \"SAJUBA<br>72.22%\", \"COSMOL<br>73.39%\", \"MANCHACO<br>80.33%\", \"ELAPAS<br>85.29%\", \"SELA<br>87.22%\", \"COSAALT<br>89.53%\", \"COOPLAN<br>98.89%\", \"CAPAG<br>100.0%\", \"COOPAGUAS<br>100.0%\", \"COSPAIL<br>100.0%\", \"EMAPAV<br>100.0%\"], \"textposition\": \"auto\", \"visible\": false, \"x\": [\"COOPAPPI\", \"EMAPAS\", \"EMAPYC\", \"SAJUBA\", \"COSMOL\", \"MANCHACO\", \"ELAPAS\", \"SELA\", \"COSAALT\", \"COOPLAN\", \"CAPAG\", \"COOPAGUAS\", \"COSPAIL\", \"EMAPAV\"], \"y\": [35.09, 60.0, 61.9, 72.22, 73.39, 80.33, 85.29, 87.22, 89.53, 98.89, 100.0, 100.0, 100.0, 100.0], \"type\": \"bar\", \"uid\": \"4fce4d77-d223-11e8-b5ad-f0761c9f65e1\"}, {\"hoverinfo\": \"text\", \"opacity\": 0.8, \"text\": [\"COSFAL<br>0.0%\", \"SMAPA<br>25.0%\", \"CAPU<br>47.92%\", \"COSMON<br>75.0%\", \"COOSPELCAR<br>81.0%\", \"EMAPA<br>81.25%\", \"EMSABAV<br>88.89%\", \"COSPAS<br>90.0%\", \"COMAYO<br>91.67%\", \"SEAPAS<br>93.48%\", \"LA GUARDIA<br>94.83%\", \"COSPUGEBUL<br>100.0%\", \"COSPOL<br>100.0%\", \"COSPHUL<br>100.0%\", \"COOPLIM<br>100.0%\", \"COSEPW<br>100.0%\", \"COSEPUR<br>100.0%\", \"COSEPCO<br>100.0%\", \"COSCHAL<br>100.0%\", \"COSAPSI<br>100.0%\", \"COSAJU<br>100.0%\", \"COOSIV<br>100.0%\", \"COSMIN<br>100.0%\", \"COSIMBO<br>100.0%\"], \"textposition\": \"auto\", \"visible\": false, \"x\": [\"COSFAL\", \"SMAPA\", \"CAPU\", \"COSMON\", \"COOSPELCAR\", \"EMAPA\", \"EMSABAV\", \"COSPAS\", \"COMAYO\", \"SEAPAS\", \"LA GUARDIA\", \"COSPUGEBUL\", \"COSPOL\", \"COSPHUL\", \"COOPLIM\", \"COSEPW\", \"COSEPUR\", \"COSEPCO\", \"COSCHAL\", \"COSAPSI\", \"COSAJU\", \"COOSIV\", \"COSMIN\", \"COSIMBO\"], \"y\": [0.0, 25.0, 47.92, 75.0, 81.0, 81.25, 88.89, 90.0, 91.67, 93.48, 94.83, 100.0, 100.0, 100.0, 100.0, 100.0, 100.0, 100.0, 100.0, 100.0, 100.0, 100.0, 100.0, 100.0], \"type\": \"bar\", \"uid\": \"4fce4d78-d223-11e8-bd5e-f0761c9f65e1\"}, {\"hoverinfo\": \"text\", \"opacity\": 0.8, \"text\": [\"CAPSCH<br>0.0%\", \"COOAPASH<br>0.0%\", \"AGUAYSES<br>75.0%\", \"COSEPFA<br>75.0%\", \"JOROCHITO<br>75.0%\", \"COLOMI<br>100.0%\", \"COSAJO<br>100.0%\"], \"textposition\": \"auto\", \"visible\": false, \"x\": [\"CAPSCH\", \"COOAPASH\", \"AGUAYSES\", \"COSEPFA\", \"JOROCHITO\", \"COLOMI\", \"COSAJO\"], \"y\": [0.0, 0.0, 75.0, 75.0, 75.0, 100.0, 100.0], \"type\": \"bar\", \"uid\": \"4fce4d79-d223-11e8-9303-f0761c9f65e1\"}],\n",
       "            {\"hovermode\": \"closest\", \"paper_bgcolor\": \"rgb(248, 248, 255)\", \"plot_bgcolor\": \"rgb(248, 248, 255)\", \"title\": \"Presi\\u00f3n del Servicio de Agua Potable - Categor\\u00eda A\", \"updatemenus\": [{\"active\": 0, \"buttons\": [{\"args\": [{\"visible\": [true, false, false, false]}, {\"title\": \"Presi\\u00f3n del Servicio de Agua Potable - Categor\\u00eda A\", \"xaxis\": {\"title\": \"EPSAs Categor\\u00eda A\", \"titlefont\": {\"family\": \"Courier New, monospace\", \"size\": 18, \"color\": \"#7f7f7f\"}}}], \"label\": \"Categor\\u00eda A\", \"method\": \"update\"}, {\"args\": [{\"visible\": [false, true, false, false]}, {\"title\": \"Presi\\u00f3n del Servicio de Agua Potable - Categor\\u00eda B\", \"xaxis\": {\"title\": \"EPSAs Categor\\u00eda B\", \"titlefont\": {\"family\": \"Courier New, monospace\", \"size\": 18, \"color\": \"#7f7f7f\"}}}], \"label\": \"Categor\\u00eda B\", \"method\": \"update\"}, {\"args\": [{\"visible\": [false, false, true, false]}, {\"title\": \"Presi\\u00f3n del Servicio de Agua Potable - Categor\\u00eda C\", \"xaxis\": {\"title\": \"EPSAs Categor\\u00eda C\", \"titlefont\": {\"family\": \"Courier New, monospace\", \"size\": 18, \"color\": \"#7f7f7f\"}}}], \"label\": \"Categor\\u00eda C\", \"method\": \"update\"}, {\"args\": [{\"visible\": [false, false, false, true]}, {\"title\": \"Presi\\u00f3n del Servicio de Agua Potable - Categor\\u00eda D\", \"xaxis\": {\"title\": \"EPSAs Categor\\u00eda D\", \"titlefont\": {\"family\": \"Courier New, monospace\", \"size\": 18, \"color\": \"#7f7f7f\"}}}], \"label\": \"Categor\\u00eda D\", \"method\": \"update\"}], \"direction\": \"right\", \"showactive\": true, \"type\": \"buttons\", \"x\": 0.25, \"xanchor\": \"left\", \"y\": -0.3, \"yanchor\": \"top\"}], \"xaxis\": {\"title\": \"EPSAs Categor\\u00eda A\", \"titlefont\": {\"color\": \"#7f7f7f\", \"family\": \"Courier New, monospace\", \"size\": 18}}, \"yaxis\": {\"title\": \"Presi\\u00f3n del servicio de AP (%)\", \"titlefont\": {\"color\": \"#7f7f7f\", \"family\": \"Courier New, monospace\", \"size\": 18}}},\n",
       "            {\"showLink\": true, \"linkText\": \"Export to plot.ly\"}\n",
       "        ).then(function () {return Plotly.addFrames('66e73ca8-61df-4195-9ed9-2912bf287ff6',{});}).then(function(){Plotly.animate('66e73ca8-61df-4195-9ed9-2912bf287ff6');})\n",
       "        });</script>"
      ]
     },
     "metadata": {},
     "output_type": "display_data"
    }
   ],
   "source": [
    "crdf = complete_reports_df\n",
    "cmdf = complete_measurements_df\n",
    "\n",
    "categories = list(crdf.category.sort_values().unique()) # ['A', 'B', 'C', 'D']\n",
    "selected_year = 2017\n",
    "\n",
    "selected_ind = 'ind16'\n",
    "default_cat = 'A'\n",
    "\n",
    "ydf = cmdf[cmdf.year == selected_year]\n",
    "\n",
    "data = []\n",
    "\n",
    "for i, category in enumerate(categories):\n",
    "    fdf1 = ydf[ydf.category == category]\n",
    "    fdf = fdf1[np.isfinite(fdf1[selected_ind])].sort_values(selected_ind)\n",
    "    visible = True if i == 0 else False\n",
    "    data.append(go.Bar(\n",
    "        x=list(fdf.code),\n",
    "        y=list(fdf[selected_ind]),\n",
    "        text= [f'{code}<br>' + str(val) + get_ind_unit(selected_ind) for code,val in zip(list(fdf.code),list(fdf[selected_ind]))],\n",
    "        opacity=0.8,  \n",
    "        textposition='auto',\n",
    "        hoverinfo='text',\n",
    "        visible=visible,\n",
    "    ))\n",
    "\n",
    "def get_visible_list(category):\n",
    "    category_map = dict(A=0, B=1, C=2, D=3)\n",
    "    base_array = [False for i in range(4)]\n",
    "    base_array[category_map[category]] = True\n",
    "    return base_array\n",
    "\n",
    "def make_x_axis(category):\n",
    "    return dict(\n",
    "        title=f'EPSAs Categoría {category}',\n",
    "        titlefont=dict(\n",
    "            family='Courier New, monospace',\n",
    "            size=18,\n",
    "            color='#7f7f7f'\n",
    "        )\n",
    "    )\n",
    "\n",
    "def make_y_axis():\n",
    "    return dict(\n",
    "        title=f'Presión del servicio de AP ({get_ind_unit(selected_ind)})',\n",
    "        titlefont=dict(\n",
    "            family='Courier New, monospace',\n",
    "            size=18,\n",
    "            color='#7f7f7f'\n",
    "        )\n",
    "    )\n",
    "\n",
    "updatemenus = [dict(\n",
    "    type= 'buttons',\n",
    "    showactive=True,\n",
    "    active=0,\n",
    "    xanchor='left',\n",
    "    yanchor='top',\n",
    "    direction='right',\n",
    "    x= 0.25,\n",
    "    y= -0.3,\n",
    "    buttons = [dict(\n",
    "        label= f'Categoría {cat}',\n",
    "        method='update', # modify both data and layout\n",
    "        args = [\n",
    "            {'visible': get_visible_list(cat)}, # data modification\n",
    "            dict(\n",
    "                title= f'Presión del Servicio de Agua Potable - Categoría {cat}',\n",
    "                xaxis= make_x_axis(cat),\n",
    "            ),\n",
    "        ],\n",
    "    ) for cat in categories]\n",
    ")]\n",
    "\n",
    "layout = go.Layout(\n",
    "    title= 'Presión del Servicio de Agua Potable - Categoría A',\n",
    "    xaxis= make_x_axis('A'),\n",
    "    yaxis= make_y_axis(),\n",
    "    hovermode='closest',\n",
    "    updatemenus=updatemenus,\n",
    "    paper_bgcolor='rgb(248, 248, 255)',\n",
    "    plot_bgcolor='rgb(248, 248, 255)',\n",
    ")\n",
    "\n",
    "fig = go.Figure(data=data, layout=layout)\n",
    "iplot(fig)"
   ]
  },
  {
   "cell_type": "code",
   "execution_count": 183,
   "metadata": {},
   "outputs": [
    {
     "data": {
      "text/html": [
       "<iframe id=\"igraph\" scrolling=\"no\" style=\"border:none;\" seamless=\"seamless\" src=\"https://plot.ly/~sergiochumacero/96.embed\" height=\"525px\" width=\"100%\"></iframe>"
      ],
      "text/plain": [
       "<plotly.tools.PlotlyDisplay object>"
      ]
     },
     "execution_count": 183,
     "metadata": {},
     "output_type": "execute_result"
    }
   ],
   "source": [
    "import plotly.plotly as py\n",
    "py.iplot(fig, filename='pressure_2017')"
   ]
  }
 ],
 "metadata": {
  "kernelspec": {
   "display_name": "Python 3",
   "language": "python",
   "name": "python3"
  },
  "language_info": {
   "codemirror_mode": {
    "name": "ipython",
    "version": 3
   },
   "file_extension": ".py",
   "mimetype": "text/x-python",
   "name": "python",
   "nbconvert_exporter": "python",
   "pygments_lexer": "ipython3",
   "version": "3.6.5"
  }
 },
 "nbformat": 4,
 "nbformat_minor": 2
}
