{
 "cells": [
  {
   "cell_type": "code",
   "execution_count": 1,
   "metadata": {},
   "outputs": [],
   "source": [
    "import plotly.graph_objs as go\n",
    "import pandas as pd\n",
    "import requests\n",
    "import math\n",
    "import numpy as np\n",
    "from plotly.grid_objs import Grid, Column\n",
    "import plotly.plotly as py"
   ]
  },
  {
   "cell_type": "code",
   "execution_count": 2,
   "metadata": {},
   "outputs": [],
   "source": [
    "reports_r = requests.get('https://peridash.ml/api/reports')\n",
    "measurements_r = requests.get('https://peridash.ml/api/measurements')\n",
    "epsas_r = requests.get('https://peridash.ml/api/epsas')\n",
    "variables_r = requests.get('https://peridash.ml/api/variables')\n",
    "indicators_r = requests.get('https://peridash.ml/api/indicators')"
   ]
  },
  {
   "cell_type": "code",
   "execution_count": 3,
   "metadata": {},
   "outputs": [],
   "source": [
    "reports_df = pd.read_json(reports_r.text)\n",
    "measurements_df = pd.read_json(measurements_r.text)\n",
    "epsas_df = pd.read_json(epsas_r.text)\n",
    "variables_df = pd.read_json(variables_r.text)\n",
    "indicators_df = pd.read_json(indicators_r.text)\n",
    "\n",
    "complete_reports_df = pd.merge(reports_df, epsas_df, left_on='epsa', right_on='url')\n",
    "complete_measurements_df = pd.merge(measurements_df, epsas_df, left_on='epsa', right_on='url')"
   ]
  },
  {
   "cell_type": "code",
   "execution_count": 4,
   "metadata": {},
   "outputs": [],
   "source": [
    "ind_names = [\n",
    "    'Rendimiento actual de la fuente', 'Uso eficiente del recurso',\n",
    "    'Cobertura de muestras de agua potable',\n",
    "    'Conformidad de los análisis de agua potable realizados',\n",
    "    'Dotación', 'Continuidad por racionamiento', 'Continuidad por corte',\n",
    "    'Cobertura del servicio de agua potable',\n",
    "    'Cobertura del servicio de alcantarillado sanitario',\n",
    "    'Cobertura de micromedición',\n",
    "    'Incidencia extracción de agua cruda subterránea ',\n",
    "    'Índice de tratamiento de agua residual', 'Control de agua residual',\n",
    "    'Capacidad instalada de planta de tratamiento de agua potable',\n",
    "    'Capacidad instalada de planta de tratamiento de agua residual ',\n",
    "    'Presión del servicio de agua potable',\n",
    "    'Índice de agua no contabilizada en producción',\n",
    "    'Índice de agua no contabilizada en la red',\n",
    "    'Densidad de fallas en tuberías de agua potable',\n",
    "    'Densidad de fallas en conexiones de agua potable',\n",
    "    'Densidad de fallas en tuberías de agua residual',\n",
    "    'Densidad de fallas en conexiones de agua residual',\n",
    "    'Índice de operación eficiente', 'Prueba ácida',\n",
    "    'Eficiencia de recaudación', 'Índice de endeudamiento total', 'Tarifa media',\n",
    "    'Costo unitario de operación', 'Índice de ejecución de inversiones',\n",
    "    'Personal calificado', 'Número de empleados por cada 1000 conexiones',\n",
    "    'Atención de reclamos'\n",
    "]\n",
    "ind_units = ['%', '%', '%', '%', 'l/hab/día', 'hr/día', '%', '%', '%', '%',\n",
    "             '%', '%', '%', '%', '%', '%', '%', '%', 'fallas/100km',\n",
    "             'fallas/1000conex.', 'fallas/100km', 'fallas/1000conex.', '%', '-',\n",
    "             '%', '%', '%CUO(Bs.)', '%TM(Bs.)', '%', '%', 'empleados/1000conex.', '%']\n",
    "\n",
    "colors = [\n",
    "    '#1f77b4','#ff7f0e','#2ca02c',\n",
    "    '#d62728', '#9467bd', '#8c564b',\n",
    "    '#e377c2', '#7f7f7f', '#bcbd22','#17becf'\n",
    "]\n",
    "\n",
    "def get_ind_name(ind):\n",
    "    return ind_names[int(ind[3:])-1]\n",
    "\n",
    "def get_ind_unit(ind):\n",
    "    return ind_units[int(ind[3:])-1]"
   ]
  },
  {
   "cell_type": "code",
   "execution_count": 37,
   "metadata": {},
   "outputs": [],
   "source": [
    "num_indicators = 32\n",
    "cmdf = complete_measurements_df\n",
    "ind_list = [f'ind{i+1}' for i in range(num_indicators)]\n",
    "\n",
    "selected_category = 'B'\n",
    "cmdf = complete_measurements_df\n",
    "filtered_df = cmdf[cmdf.category == selected_category]\n",
    "epsa_codes = list(filtered_df.code.unique())\n",
    "years = list(filtered_df.sort_values('year').year.unique())\n",
    "\n",
    "def get_data_rating(epsa_code, year):\n",
    "    values = list(cmdf[(cmdf.year == year) & (cmdf.code == epsa_code)][ind_list].iloc[0])\n",
    "    num_reported = sum([0 if math.isnan(val) else 1 for val in values])\n",
    "    return num_reported / num_indicators * 100"
   ]
  },
  {
   "cell_type": "code",
   "execution_count": 42,
   "metadata": {},
   "outputs": [
    {
     "data": {
      "text/plain": [
       "'https://plot.ly/~sergiochumacero/90/'"
      ]
     },
     "execution_count": 42,
     "metadata": {},
     "output_type": "execute_result"
    }
   ],
   "source": [
    "colors = [\n",
    "    '#1f77b4', '#ff7f0e','#2ca02c',\n",
    "    '#d62728', '#9467bd', '#8c564b',\n",
    "    '#e377c2', '#7f7f7f', '#bcbd22','#17becf'\n",
    "]\n",
    "\n",
    "colors = colors * 3\n",
    "\n",
    "columns = [\n",
    "    Column(epsa_codes, 'epsa_codes'),\n",
    "    Column(years, 'years'),\n",
    "    Column(colors[1:], 'colors')\n",
    "]\n",
    "\n",
    "for year in years:\n",
    "    column_name1 = f'{year}_x'\n",
    "    column_data1 =  [year] * len(epsa_codes)\n",
    "    column1 = Column(column_data1, column_name1)\n",
    "    \n",
    "    column_name2 = f'{year}_y'\n",
    "    column_data2 = [get_data_rating(epsa_code, year) for epsa_code in epsa_codes]\n",
    "    column2 = Column(column_data2, column_name2)\n",
    "    \n",
    "    columns += [column1, column2]\n",
    "    \n",
    "for epsa_code in epsa_codes:\n",
    "    \n",
    "    column_name3 = f'{epsa_code}_y'\n",
    "    column_data3 = [get_data_rating(epsa_code, year) for year in years]\n",
    "    column3 = Column(column_data3, column_name3)\n",
    "    \n",
    "    columns.append(column3)\n",
    "    \n",
    "grid = Grid(columns)\n",
    "py.grid_ops.upload(grid, 'data_ranking_2017')"
   ]
  },
  {
   "cell_type": "code",
   "execution_count": 43,
   "metadata": {},
   "outputs": [],
   "source": [
    "data = [go.Scatter(\n",
    "    xsrc= grid.get_column_reference(f'2014_x'),\n",
    "    ysrc= grid.get_column_reference(f'2014_y'),\n",
    "    textsrc= grid.get_column_reference('epsa_codes'),\n",
    "    mode='markers+text',\n",
    "    showlegend=False,\n",
    ")]\n",
    "\n",
    "for epsa_code in epsa_codes:\n",
    "    line_trace = go.Scatter(\n",
    "        xsrc= grid.get_column_reference('years'),\n",
    "        ysrc= grid.get_column_reference(f'{epsa_code}_y'),\n",
    "        mode='lines',\n",
    "        name=epsa_code,\n",
    "    )\n",
    "    data.append(line_trace)"
   ]
  },
  {
   "cell_type": "code",
   "execution_count": 44,
   "metadata": {},
   "outputs": [],
   "source": [
    "animation_settings = dict(\n",
    "    frame = dict(duration=1200, redraw=False),\n",
    "    fromcurrent = False,\n",
    "    transition = dict(duration=1200, easing='cubic-in-out'),\n",
    ")\n",
    "\n",
    "layout = dict(\n",
    "    xaxis= dict(\n",
    "        title='Años',\n",
    "        range=[2013.8, 2017.2],\n",
    "        autorange= False,\n",
    "        dtick=1,\n",
    "    ),\n",
    "    yaxis= dict(\n",
    "        title='Porcentaje de variables reportadas (%)',\n",
    "#         dtick=1,\n",
    "#         range=[50,100],\n",
    "#         autorange=False,\n",
    "    ),\n",
    "    title= f'Ranking EPSAS - Porcentaje de variables reportadas<br>Categoría {selected_category}',\n",
    "    updatemenus= [dict(\n",
    "        x=0,\n",
    "        y=0,\n",
    "        type= 'buttons',\n",
    "        buttons=[dict(\n",
    "            label='Animar',\n",
    "            method='animate',\n",
    "            args= [None],\n",
    "        )],\n",
    "    )],\n",
    "    hovermode='closest',\n",
    "#     updatemenus = [dict(\n",
    "#         buttons= [dict(\n",
    "#             args= [[str(y) for y in years], animation_settings],\n",
    "#             label= 'Animar',\n",
    "#             method= 'animate',\n",
    "#         )],\n",
    "#         direction= 'left',\n",
    "#         pad= dict(r=10, t=87),\n",
    "#         showactive= False,\n",
    "#         type= 'buttons',\n",
    "#         x= 0.1,\n",
    "#         y= 0,\n",
    "#         xanchor= 'right',\n",
    "#         yanchor= 'top',\n",
    "#     )]\n",
    ")"
   ]
  },
  {
   "cell_type": "code",
   "execution_count": 46,
   "metadata": {},
   "outputs": [],
   "source": [
    "frames = [{'data': [go.Scatter(\n",
    "    xsrc=grid.get_column_reference(f'{year}_x'),\n",
    "    ysrc=grid.get_column_reference(f'{year}_y'),\n",
    "    textsrc=grid.get_column_reference('epsa_codes'),\n",
    "    textposition='top center',\n",
    "    mode='markers',\n",
    "    marker=dict(\n",
    "        symbol='circle',\n",
    "        size=20,\n",
    "        colorsrc=grid.get_column_reference('colors')),\n",
    ")]} for year in years]\n",
    "\n",
    "fig = go.Figure(data=data, layout=layout, frames=frames)"
   ]
  },
  {
   "cell_type": "code",
   "execution_count": 47,
   "metadata": {},
   "outputs": [
    {
     "data": {
      "text/html": [
       "<iframe id=\"igraph\" scrolling=\"no\" style=\"border:none;\" seamless=\"seamless\" src=\"https://plot.ly/~sergiochumacero/91.embed\" height=\"525px\" width=\"100%\"></iframe>"
      ],
      "text/plain": [
       "<plotly.tools.PlotlyDisplay object>"
      ]
     },
     "execution_count": 47,
     "metadata": {},
     "output_type": "execute_result"
    }
   ],
   "source": [
    "py.icreate_animations(fig, filename='data_rankings_2017')"
   ]
  }
 ],
 "metadata": {
  "kernelspec": {
   "display_name": "Python 3",
   "language": "python",
   "name": "python3"
  },
  "language_info": {
   "codemirror_mode": {
    "name": "ipython",
    "version": 3
   },
   "file_extension": ".py",
   "mimetype": "text/x-python",
   "name": "python",
   "nbconvert_exporter": "python",
   "pygments_lexer": "ipython3",
   "version": "3.6.5"
  }
 },
 "nbformat": 4,
 "nbformat_minor": 2
}
