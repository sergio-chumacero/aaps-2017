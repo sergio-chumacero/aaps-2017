{
 "cells": [
  {
   "cell_type": "code",
   "execution_count": 1,
   "metadata": {
    "slideshow": {
     "slide_type": "skip"
    }
   },
   "outputs": [],
   "source": [
    "from plotly.offline import init_notebook_mode, iplot\n",
    "import plotly.graph_objs as go\n",
    "import pandas as pd\n",
    "import requests\n",
    "import math\n",
    "import numpy as np"
   ]
  },
  {
   "cell_type": "code",
   "execution_count": 75,
   "metadata": {},
   "outputs": [
    {
     "data": {
      "text/html": [
       "<script>\n",
       "code_show=true; \n",
       "function code_toggle() {\n",
       " if (code_show){\n",
       " $('div.input').hide();\n",
       " } else {\n",
       " $('div.input').show();\n",
       " }\n",
       " code_show = !code_show\n",
       "} \n",
       "$( document ).ready(code_toggle);\n",
       "</script>\n",
       "The raw code for this IPython notebook is by default hidden for easier reading.\n",
       "To toggle on/off the raw code, click <a href=\"javascript:code_toggle()\">here</a>."
      ],
      "text/plain": [
       "<IPython.core.display.HTML object>"
      ]
     },
     "execution_count": 75,
     "metadata": {},
     "output_type": "execute_result"
    }
   ],
   "source": [
    "from IPython.display import HTML\n",
    "\n",
    "HTML('''<script>\n",
    "code_show=true; \n",
    "function code_toggle() {\n",
    " if (code_show){\n",
    " $('div.input').hide();\n",
    " } else {\n",
    " $('div.input').show();\n",
    " }\n",
    " code_show = !code_show\n",
    "} \n",
    "$( document ).ready(code_toggle);\n",
    "</script>\n",
    "The raw code for this IPython notebook is by default hidden for easier reading.\n",
    "To toggle on/off the raw code, click <a href=\"javascript:code_toggle()\">here</a>.''')"
   ]
  },
  {
   "cell_type": "code",
   "execution_count": 72,
   "metadata": {},
   "outputs": [
    {
     "data": {
      "text/html": [
       "<style>\n",
       "    @font-face {\n",
       "        font-family: \"Computer Modern\";\n",
       "        src: url('http://9dbb143991406a7c655e-aa5fcb0a5a4ec34cff238a2d56ca4144.r56.cf5.rackcdn.com/cmunss.otf');\n",
       "    }\n",
       "    @font-face {\n",
       "        font-family: \"Computer Modern\";\n",
       "        font-weight: bold;\n",
       "        src: url('http://9dbb143991406a7c655e-aa5fcb0a5a4ec34cff238a2d56ca4144.r56.cf5.rackcdn.com/cmunsx.otf');\n",
       "    }\n",
       "    @font-face {\n",
       "        font-family: \"Computer Modern\";\n",
       "        font-style: oblique;\n",
       "        src: url('http://9dbb143991406a7c655e-aa5fcb0a5a4ec34cff238a2d56ca4144.r56.cf5.rackcdn.com/cmunsi.otf');\n",
       "    }\n",
       "    @font-face {\n",
       "        font-family: \"Computer Modern\";\n",
       "        font-weight: bold;\n",
       "        font-style: oblique;\n",
       "        src: url('http://9dbb143991406a7c655e-aa5fcb0a5a4ec34cff238a2d56ca4144.r56.cf5.rackcdn.com/cmunso.otf');\n",
       "    }\n",
       "    div.cell{\n",
       "        width:\"100%\";\n",
       "        margin-left:0% !important;\n",
       "        margin-right:auto;\n",
       "    }\n",
       "    h1 {\n",
       "        font-family: Helvetica, serif;\n",
       "    }\n",
       "    h4{\n",
       "        margin-top:12px;\n",
       "        margin-bottom: 3px;\n",
       "       }\n",
       "    div.text_cell_render{\n",
       "        font-family: Computer Modern, \"Helvetica Neue\", Arial, Helvetica, Geneva, sans-serif;\n",
       "        line-height: 145%;\n",
       "        font-size: 130%;\n",
       "        width:800px;\n",
       "        margin-left:auto;\n",
       "        margin-right:auto;\n",
       "    }\n",
       "    .CodeMirror{\n",
       "            font-family: \"Source Code Pro\", source-code-pro,Consolas, monospace;\n",
       "    }\n",
       "    .prompt{\n",
       "        display: None;\n",
       "    }\n",
       "    .text_cell_render h5 {\n",
       "        font-weight: 300;\n",
       "        font-size: 22pt;\n",
       "        color: #4057A1;\n",
       "        font-style: italic;\n",
       "        margin-bottom: .5em;\n",
       "        margin-top: 0.5em;\n",
       "        display: block;\n",
       "    }\n",
       "    \n",
       "    .warning{\n",
       "        color: rgb( 240, 20, 20 )\n",
       "        }  \n",
       "</style>\n",
       "<script>\n",
       "    MathJax.Hub.Config({\n",
       "                        TeX: {\n",
       "                           extensions: [\"AMSmath.js\"]\n",
       "                           },\n",
       "                tex2jax: {\n",
       "                    inlineMath: [ ['$','$'], [\"\\\\(\",\"\\\\)\"] ],\n",
       "                    displayMath: [ ['$$','$$'], [\"\\\\[\",\"\\\\]\"] ]\n",
       "                },\n",
       "                displayAlign: 'center', // Change this to 'center' to center equations.\n",
       "                \"HTML-CSS\": {\n",
       "                    styles: {'.MathJax_Display': {\"margin\": 4}}\n",
       "                }\n",
       "        });\n",
       "</script>"
      ],
      "text/plain": [
       "<IPython.core.display.HTML object>"
      ]
     },
     "execution_count": 72,
     "metadata": {},
     "output_type": "execute_result"
    }
   ],
   "source": [
    "from IPython.core.display import HTML\n",
    "def css_styling():\n",
    "    styles = open(\"custom.css\", \"r\").read() #or edit path to custom.css\n",
    "    return HTML(styles)\n",
    "css_styling()"
   ]
  },
  {
   "cell_type": "code",
   "execution_count": 2,
   "metadata": {
    "slideshow": {
     "slide_type": "skip"
    }
   },
   "outputs": [],
   "source": [
    "reports_r = requests.get('https://peridash.ml/api/reports')\n",
    "measurements_r = requests.get('https://peridash.ml/api/measurements')\n",
    "epsas_r = requests.get('https://peridash.ml/api/epsas')\n",
    "variables_r = requests.get('https://peridash.ml/api/variables')\n",
    "indicators_r = requests.get('https://peridash.ml/api/indicators')"
   ]
  },
  {
   "cell_type": "code",
   "execution_count": 3,
   "metadata": {
    "slideshow": {
     "slide_type": "skip"
    }
   },
   "outputs": [],
   "source": [
    "reports_df = pd.read_json(reports_r.text)\n",
    "measurements_df = pd.read_json(measurements_r.text)\n",
    "epsas_df = pd.read_json(epsas_r.text)\n",
    "variables_df = pd.read_json(variables_r.text)\n",
    "indicators_df = pd.read_json(indicators_r.text)\n",
    "\n",
    "complete_reports_df = pd.merge(reports_df, epsas_df, left_on='epsa', right_on='url')\n",
    "complete_measurements_df = pd.merge(measurements_df, epsas_df, left_on='epsa', right_on='url')"
   ]
  },
  {
   "cell_type": "code",
   "execution_count": 4,
   "metadata": {
    "slideshow": {
     "slide_type": "skip"
    }
   },
   "outputs": [
    {
     "data": {
      "text/html": [
       "<script>requirejs.config({paths: { 'plotly': ['https://cdn.plot.ly/plotly-latest.min']},});if(!window.Plotly) {{require(['plotly'],function(plotly) {window.Plotly=plotly;});}}</script>"
      ],
      "text/vnd.plotly.v1+html": [
       "<script>requirejs.config({paths: { 'plotly': ['https://cdn.plot.ly/plotly-latest.min']},});if(!window.Plotly) {{require(['plotly'],function(plotly) {window.Plotly=plotly;});}}</script>"
      ]
     },
     "metadata": {},
     "output_type": "display_data"
    }
   ],
   "source": [
    "init_notebook_mode(connected=True)"
   ]
  },
  {
   "cell_type": "code",
   "execution_count": 5,
   "metadata": {
    "slideshow": {
     "slide_type": "skip"
    }
   },
   "outputs": [],
   "source": [
    "ind_names = [\n",
    "    'Rendimiento actual de la fuente', 'Uso eficiente del recurso',\n",
    "    'Cobertura de muestras de agua potable',\n",
    "    'Conformidad de los análisis de agua potable realizados',\n",
    "    'Dotación', 'Continuidad por racionamiento', 'Continuidad por corte',\n",
    "    'Cobertura del servicio de agua potable',\n",
    "    'Cobertura del servicio de alcantarillado sanitario',\n",
    "    'Cobertura de micromedición',\n",
    "    'Incidencia extracción de agua cruda subterránea ',\n",
    "    'Índice de tratamiento de agua residual', 'Control de agua residual',\n",
    "    'Capacidad instalada de planta de tratamiento de agua potable',\n",
    "    'Capacidad instalada de planta de tratamiento de agua residual ',\n",
    "    'Presión del servicio de agua potable',\n",
    "    'Índice de agua no contabilizada en producción',\n",
    "    'Índice de agua no contabilizada en la red',\n",
    "    'Densidad de fallas en tuberías de agua potable',\n",
    "    'Densidad de fallas en conexiones de agua potable',\n",
    "    'Densidad de fallas en tuberías de agua residual',\n",
    "    'Densidad de fallas en conexiones de agua residual',\n",
    "    'Índice de operación eficiente', 'Prueba ácida',\n",
    "    'Eficiencia de recaudación', 'Índice de endeudamiento total', 'Tarifa media',\n",
    "    'Costo unitario de operación', 'Índice de ejecución de inversiones',\n",
    "    'Personal calificado', 'Número de empleados por cada 1000 conexiones',\n",
    "    'Atención de reclamos'\n",
    "]\n",
    "ind_units = ['%', '%', '%', '%', 'l/hab/día', 'hr/día', '%', '%', '%', '%',\n",
    "             '%', '%', '%', '%', '%', '%', '%', '%', 'fallas/100km',\n",
    "             'fallas/1000conex.', 'fallas/100km', 'fallas/1000conex.', '%', '-',\n",
    "             '%', '%', '%CUO(Bs.)', '%TM(Bs.)', '%', '%', 'empleados/1000conex.', '%']\n",
    "\n",
    "colors = [\n",
    "    '#1f77b4','#ff7f0e','#2ca02c',\n",
    "    '#d62728', '#9467bd', '#8c564b',\n",
    "    '#e377c2', '#7f7f7f', '#bcbd22','#17becf'\n",
    "]\n",
    "\n",
    "def get_ind_name(ind):\n",
    "    return ind_names[int(ind[3:])-1]\n",
    "\n",
    "def get_ind_unit(ind):\n",
    "    return ind_units[int(ind[3:])-1]"
   ]
  },
  {
   "cell_type": "code",
   "execution_count": null,
   "metadata": {
    "slideshow": {
     "slide_type": "skip"
    }
   },
   "outputs": [],
   "source": [
    "crdf = complete_reports_df\n",
    "cmdf = complete_measurements_df\n",
    "\n",
    "category = 'A'\n",
    "state = 'SC'\n",
    "\n",
    "variables = ['v1', 'v2', 'v3']\n",
    "states = ['LP', 'SC', 'CO', 'PO', 'BE', 'TA', 'CH', 'PA', 'OR']\n",
    "\n",
    "state_name_map = {\n",
    "    'LP': 'La Paz',\n",
    "    'SC': 'Santa Cruz',\n",
    "    'CO': 'Cochabamba',\n",
    "    'PO': 'Potosí',\n",
    "    'BE': 'Beni',\n",
    "    'TA': 'Tarija',\n",
    "    'CH': 'Chuquisaca',\n",
    "    'PA': 'Pando',\n",
    "    'OR': 'Oruro', \n",
    "}\n",
    "\n",
    "def get_domain(var):\n",
    "    if var == 'v1':\n",
    "        return {\"x\": [0, .30]}\n",
    "    if var == 'v2':\n",
    "        return {\"x\": [.32, .62]}\n",
    "    else:\n",
    "        return {\"x\": [.64, .94]}\n",
    "        \n",
    "def get_visible_list(state):\n",
    "    state_map = {'LP': 0, 'SC': 1, 'CO': 2, \n",
    "                 'PO': 3, 'BE': 4, 'TA': 5,\n",
    "                 'CH': 5, 'PA': 7, 'OR': 8}\n",
    "    \n",
    "    offset = state_map[state]\n",
    "    \n",
    "    base_array = [0 for i in range(9)]\n",
    "    base_array[offset] = 1\n",
    "    \n",
    "    big_true = [True for i in range(3)]\n",
    "    big_false = [False for i in range(3)]\n",
    "    \n",
    "    nested_array = [big_true if x == 1 else big_false for x in base_array]\n",
    "    \n",
    "    return [x for l in nested_array for x in l]\n",
    "\n",
    "data = []\n",
    "\n",
    "for state in states:\n",
    "    filtered_df = crdf[(crdf.state == state) & (crdf.year == 2017)]\n",
    "    visible = True if state == 'LP' else False\n",
    "    for var in variables:\n",
    "        data.append(dict(\n",
    "            values=list(filtered_df[var]),\n",
    "            labels=list(filtered_df.code),\n",
    "            type='pie',\n",
    "            hole=.4,\n",
    "            textposition='inside',\n",
    "            name=var,\n",
    "            domain=get_domain(var),\n",
    "            hoverinfo='label+value+percent+name',\n",
    "            visible=visible,\n",
    "        ))\n",
    "        \n",
    "var1 = variables_df[variables_df.var_id == 1]\n",
    "var2 = variables_df[variables_df.var_id == 2]\n",
    "var3 = variables_df[variables_df.var_id == 3]\n",
    "\n",
    "v1name = var1.name.iloc[0]\n",
    "v2name = var2.name.iloc[0]\n",
    "v3name = var3.name.iloc[0]\n",
    "\n",
    "v1unit = var1.unit.iloc[0]\n",
    "v2unit = var2.unit.iloc[0]\n",
    "v3unit = var3.unit.iloc[0]\n",
    "\n",
    "updatemenus = [dict(\n",
    "    active=0,\n",
    "    xanchor='left',\n",
    "    yanchor='top',\n",
    "    direction='up',\n",
    "    x= .4,\n",
    "    y= -0.05,\n",
    "    buttons = [dict(\n",
    "        label=f'{state_name_map[state]}',\n",
    "        method='update', # modify both data and layout\n",
    "        args = [\n",
    "            {'visible': get_visible_list(state)}, # data modification\n",
    "            # layout modification\n",
    "            dict(\n",
    "#                 title= make_title(ind),\n",
    "#                 xaxis= make_x_axis(cat),\n",
    "#                 yaxis= make_y_axis(ind),\n",
    "#                 shapes= make_shapes(ind),\n",
    "            ),\n",
    "        ],\n",
    "    ) for state in states]\n",
    ")]\n",
    "\n",
    "\n",
    "layout = dict(\n",
    "    updatemenus = updatemenus,\n",
    "    title = f'<b>V1</b>: {v1name}({v1unit})<br><b>V2</b>: {v2name}({v2unit})<br><b>V3</b>: {v3name}({v3unit})',\n",
    "    titlefont = dict(size=15),\n",
    "    annotations = [dict(\n",
    "        font=dict(size=20),\n",
    "        showarrow=False,\n",
    "        text='V1',\n",
    "        x=0.13,\n",
    "        y=0.5,\n",
    "    ), dict(\n",
    "        font=dict(size=20),\n",
    "        showarrow=False,\n",
    "        text='V2',\n",
    "        x=0.47,\n",
    "        y=0.5,\n",
    "    ), dict(\n",
    "        font=dict(size=20),\n",
    "        showarrow=False,\n",
    "        text='V3',\n",
    "        x=0.81,\n",
    "        y=0.5,\n",
    "    ), dict(\n",
    "        font=dict(size=20),\n",
    "        showarrow=False,\n",
    "        text='Fuentes<br>Superficiales',\n",
    "        x=0.07,\n",
    "        y=0,\n",
    "    ), dict(\n",
    "        font=dict(size=20),\n",
    "        showarrow=False,\n",
    "        text='Fuentes<br>Subterráneas',\n",
    "        x=0.48,\n",
    "        y=0,\n",
    "    ), dict(\n",
    "        font=dict(size=20),\n",
    "        showarrow=False,\n",
    "        text='Volumen AP<br>Producido',\n",
    "        x=0.87,\n",
    "        y=0,\n",
    "    )]\n",
    ")\n",
    "\n",
    "fig1 = go.Figure(data=data, layout=layout)"
   ]
  },
  {
   "cell_type": "code",
   "execution_count": 15,
   "metadata": {
    "slideshow": {
     "slide_type": "slide"
    }
   },
   "outputs": [
    {
     "data": {
      "application/vnd.plotly.v1+json": {
       "data": [
        {
         "domain": {
          "x": [
           0,
           0.3
          ]
         },
         "hole": 0.4,
         "hoverinfo": "label+value+percent+name",
         "labels": [
          "COSAPAC",
          "COSAPSI",
          "EMAPAV",
          "EPSAS"
         ],
         "name": "v1",
         "textposition": "inside",
         "type": "pie",
         "uid": "2558b710-cc9b-11e8-9709-f0761c9f65e1",
         "values": [
          4367936,
          292372,
          null,
          72946163
         ],
         "visible": true
        },
        {
         "domain": {
          "x": [
           0.32,
           0.62
          ]
         },
         "hole": 0.4,
         "hoverinfo": "label+value+percent+name",
         "labels": [
          "COSAPAC",
          "COSAPSI",
          "EMAPAV",
          "EPSAS"
         ],
         "name": "v2",
         "textposition": "inside",
         "type": "pie",
         "uid": "2558b711-cc9b-11e8-a301-f0761c9f65e1",
         "values": [
          null,
          176249,
          1233970,
          9959827
         ],
         "visible": true
        },
        {
         "domain": {
          "x": [
           0.64,
           0.94
          ]
         },
         "hole": 0.4,
         "hoverinfo": "label+value+percent+name",
         "labels": [
          "COSAPAC",
          "COSAPSI",
          "EMAPAV",
          "EPSAS"
         ],
         "name": "v3",
         "textposition": "inside",
         "type": "pie",
         "uid": "2558b712-cc9b-11e8-bf57-f0761c9f65e1",
         "values": [
          null,
          468621,
          1233970,
          74107562
         ],
         "visible": true
        },
        {
         "domain": {
          "x": [
           0,
           0.3
          ]
         },
         "hole": 0.4,
         "hoverinfo": "label+value+percent+name",
         "labels": [
          "6 DE OCTUBRE",
          "CAPCHI",
          "COMAYO",
          "COOPAGUAB",
          "COOPAGUAS",
          "COOPAPPI",
          "COOPLAN",
          "COOPLIM",
          "COOSIV",
          "COOSPELCAR",
          "COSAJU",
          "COSAP",
          "COSCHAL",
          "COSEPCO",
          "COSEPFA",
          "COSEPUR",
          "COSFAL",
          "COSIMBO",
          "COSMIN",
          "COSMOL",
          "COSMON",
          "COSPAIL",
          "COSPAS",
          "COSPHUL",
          "COSPOL",
          "COSPUGEBUL",
          "COSSAJA",
          "FLORIDA",
          "JOROCHITO",
          "LA GUARDIA",
          "LA PORTEÑA",
          "SAGUAPAC",
          "SAJUBA",
          "SEAPAS"
         ],
         "name": "v1",
         "textposition": "inside",
         "type": "pie",
         "uid": "2558b713-cc9b-11e8-90bd-f0761c9f65e1",
         "values": [
          790840,
          null,
          342144,
          null,
          null,
          null,
          null,
          null,
          1340260,
          null,
          null,
          null,
          null,
          331407,
          null,
          1105920,
          null,
          null,
          null,
          null,
          743934.26,
          null,
          401497.12,
          null,
          null,
          null,
          562460,
          567648,
          null,
          null,
          null,
          null,
          null,
          null
         ],
         "visible": false
        },
        {
         "domain": {
          "x": [
           0.32,
           0.62
          ]
         },
         "hole": 0.4,
         "hoverinfo": "label+value+percent+name",
         "labels": [
          "6 DE OCTUBRE",
          "CAPCHI",
          "COMAYO",
          "COOPAGUAB",
          "COOPAGUAS",
          "COOPAPPI",
          "COOPLAN",
          "COOPLIM",
          "COOSIV",
          "COOSPELCAR",
          "COSAJU",
          "COSAP",
          "COSCHAL",
          "COSEPCO",
          "COSEPFA",
          "COSEPUR",
          "COSFAL",
          "COSIMBO",
          "COSMIN",
          "COSMOL",
          "COSMON",
          "COSPAIL",
          "COSPAS",
          "COSPHUL",
          "COSPOL",
          "COSPUGEBUL",
          "COSSAJA",
          "FLORIDA",
          "JOROCHITO",
          "LA GUARDIA",
          "LA PORTEÑA",
          "SAGUAPAC",
          "SAJUBA",
          "SEAPAS"
         ],
         "name": "v2",
         "textposition": "inside",
         "type": "pie",
         "uid": "2558b714-cc9b-11e8-9652-f0761c9f65e1",
         "values": [
          531163,
          220752,
          486720,
          387543.17,
          8047333.76,
          4015805.43,
          7014731,
          458612.51,
          127575.96,
          2405086.41,
          761444,
          1717569.69,
          1056428.2,
          124416,
          196877.52,
          null,
          908544,
          775179.05,
          1139027,
          7088707,
          null,
          4449983,
          null,
          1151278.13,
          863778,
          1410890.54,
          null,
          90782.11,
          195998.51,
          680581,
          1002801.6,
          75323702,
          4500655.42,
          956721
         ],
         "visible": false
        },
        {
         "domain": {
          "x": [
           0.64,
           0.94
          ]
         },
         "hole": 0.4,
         "hoverinfo": "label+value+percent+name",
         "labels": [
          "6 DE OCTUBRE",
          "CAPCHI",
          "COMAYO",
          "COOPAGUAB",
          "COOPAGUAS",
          "COOPAPPI",
          "COOPLAN",
          "COOPLIM",
          "COOSIV",
          "COOSPELCAR",
          "COSAJU",
          "COSAP",
          "COSCHAL",
          "COSEPCO",
          "COSEPFA",
          "COSEPUR",
          "COSFAL",
          "COSIMBO",
          "COSMIN",
          "COSMOL",
          "COSMON",
          "COSPAIL",
          "COSPAS",
          "COSPHUL",
          "COSPOL",
          "COSPUGEBUL",
          "COSSAJA",
          "FLORIDA",
          "JOROCHITO",
          "LA GUARDIA",
          "LA PORTEÑA",
          "SAGUAPAC",
          "SAJUBA",
          "SEAPAS"
         ],
         "name": "v3",
         "textposition": "inside",
         "type": "pie",
         "uid": "2558b715-cc9b-11e8-9a86-f0761c9f65e1",
         "values": [
          1322003,
          220752,
          786096,
          387543.17,
          8047333.76,
          4015805.43,
          7014731,
          458612.51,
          1266200.76,
          2405086.41,
          761444,
          1717569.69,
          1056428.2,
          331407,
          196877.52,
          1010448,
          908544,
          775179.05,
          1139027,
          7088707,
          601275,
          4449983,
          387384,
          1151278.13,
          863778,
          1410890.54,
          517934,
          567648,
          195998.51,
          680581,
          1002801.6,
          74444931,
          4500655.42,
          956721
         ],
         "visible": false
        },
        {
         "domain": {
          "x": [
           0,
           0.3
          ]
         },
         "hole": 0.4,
         "hoverinfo": "label+value+percent+name",
         "labels": [
          "ASOAPAL",
          "CAPSCH",
          "COLOMI",
          "COOAPASH",
          "EMAPAS",
          "JASAP",
          "SEMAPA"
         ],
         "name": "v1",
         "textposition": "inside",
         "type": "pie",
         "uid": "2558b716-cc9b-11e8-93a4-f0761c9f65e1",
         "values": [
          178178,
          950000,
          292688.64,
          385673,
          411720,
          512460,
          14018295.52
         ],
         "visible": false
        },
        {
         "domain": {
          "x": [
           0.32,
           0.62
          ]
         },
         "hole": 0.4,
         "hoverinfo": "label+value+percent+name",
         "labels": [
          "ASOAPAL",
          "CAPSCH",
          "COLOMI",
          "COOAPASH",
          "EMAPAS",
          "JASAP",
          "SEMAPA"
         ],
         "name": "v2",
         "textposition": "inside",
         "type": "pie",
         "uid": "2558b717-cc9b-11e8-814c-f0761c9f65e1",
         "values": [
          null,
          1753581.6,
          null,
          null,
          954237.79,
          null,
          13104567.78
         ],
         "visible": false
        },
        {
         "domain": {
          "x": [
           0.64,
           0.94
          ]
         },
         "hole": 0.4,
         "hoverinfo": "label+value+percent+name",
         "labels": [
          "ASOAPAL",
          "CAPSCH",
          "COLOMI",
          "COOAPASH",
          "EMAPAS",
          "JASAP",
          "SEMAPA"
         ],
         "name": "v3",
         "textposition": "inside",
         "type": "pie",
         "uid": "2558b718-cc9b-11e8-9d45-f0761c9f65e1",
         "values": [
          null,
          2703581.6,
          null,
          null,
          1337137.39,
          null,
          20937334.63
         ],
         "visible": false
        },
        {
         "domain": {
          "x": [
           0,
           0.3
          ]
         },
         "hole": 0.4,
         "hoverinfo": "label+value+percent+name",
         "labels": [
          "AAPOS",
          "BUSTILLO",
          "CAPU",
          "EMPSAAT",
          "EMSABAV"
         ],
         "name": "v1",
         "textposition": "inside",
         "type": "pie",
         "uid": "2558b719-cc9b-11e8-87ee-f0761c9f65e1",
         "values": [
          7215070,
          2024913.6,
          831797.76,
          330275.23,
          671448.9
         ],
         "visible": false
        },
        {
         "domain": {
          "x": [
           0.32,
           0.62
          ]
         },
         "hole": 0.4,
         "hoverinfo": "label+value+percent+name",
         "labels": [
          "AAPOS",
          "BUSTILLO",
          "CAPU",
          "EMPSAAT",
          "EMSABAV"
         ],
         "name": "v2",
         "textposition": "inside",
         "type": "pie",
         "uid": "2558b71a-cc9b-11e8-bc71-f0761c9f65e1",
         "values": [
          null,
          null,
          10135,
          655603.02,
          772852.64
         ],
         "visible": false
        },
        {
         "domain": {
          "x": [
           0.64,
           0.94
          ]
         },
         "hole": 0.4,
         "hoverinfo": "label+value+percent+name",
         "labels": [
          "AAPOS",
          "BUSTILLO",
          "CAPU",
          "EMPSAAT",
          "EMSABAV"
         ],
         "name": "v3",
         "textposition": "inside",
         "type": "pie",
         "uid": "2558b71b-cc9b-11e8-8afd-f0761c9f65e1",
         "values": [
          6054358,
          1793212.56,
          815161.8,
          985878.25,
          1154474.47
         ],
         "visible": false
        },
        {
         "domain": {
          "x": [
           0,
           0.3
          ]
         },
         "hole": 0.4,
         "hoverinfo": "label+value+percent+name",
         "labels": [
          "CAPAG",
          "COAPASB",
          "COATRI",
          "SAMAPAR",
          "SEMAPAR"
         ],
         "name": "v1",
         "textposition": "inside",
         "type": "pie",
         "uid": "2558b71c-cc9b-11e8-b8da-f0761c9f65e1",
         "values": [
          2207520,
          null,
          null,
          797860.8,
          null
         ],
         "visible": false
        },
        {
         "domain": {
          "x": [
           0.32,
           0.62
          ]
         },
         "hole": 0.4,
         "hoverinfo": "label+value+percent+name",
         "labels": [
          "CAPAG",
          "COAPASB",
          "COATRI",
          "SAMAPAR",
          "SEMAPAR"
         ],
         "name": "v2",
         "textposition": "inside",
         "type": "pie",
         "uid": "2558b71d-cc9b-11e8-8cc3-f0761c9f65e1",
         "values": [
          null,
          null,
          2940448,
          null,
          1018540
         ],
         "visible": false
        },
        {
         "domain": {
          "x": [
           0.64,
           0.94
          ]
         },
         "hole": 0.4,
         "hoverinfo": "label+value+percent+name",
         "labels": [
          "CAPAG",
          "COAPASB",
          "COATRI",
          "SAMAPAR",
          "SEMAPAR"
         ],
         "name": "v3",
         "textposition": "inside",
         "type": "pie",
         "uid": "2558b71e-cc9b-11e8-a64d-f0761c9f65e1",
         "values": [
          2048810,
          null,
          2466628,
          797860.8,
          856792
         ],
         "visible": false
        },
        {
         "domain": {
          "x": [
           0,
           0.3
          ]
         },
         "hole": 0.4,
         "hoverinfo": "label+value+percent+name",
         "labels": [
          "COSAALT",
          "EMAAB",
          "EMAPYC",
          "MANCHACO"
         ],
         "name": "v1",
         "textposition": "inside",
         "type": "pie",
         "uid": "2558b71f-cc9b-11e8-aa53-f0761c9f65e1",
         "values": [
          9711232.67,
          3117624,
          707401.08,
          2922090.6
         ],
         "visible": false
        },
        {
         "domain": {
          "x": [
           0.32,
           0.62
          ]
         },
         "hole": 0.4,
         "hoverinfo": "label+value+percent+name",
         "labels": [
          "COSAALT",
          "EMAAB",
          "EMAPYC",
          "MANCHACO"
         ],
         "name": "v2",
         "textposition": "inside",
         "type": "pie",
         "uid": "2558b720-cc9b-11e8-a9fa-f0761c9f65e1",
         "values": [
          6435782,
          null,
          2346234.78,
          1870680.58
         ],
         "visible": false
        },
        {
         "domain": {
          "x": [
           0.64,
           0.94
          ]
         },
         "hole": 0.4,
         "hoverinfo": "label+value+percent+name",
         "labels": [
          "COSAALT",
          "EMAAB",
          "EMAPYC",
          "MANCHACO"
         ],
         "name": "v3",
         "textposition": "inside",
         "type": "pie",
         "uid": "2558b721-cc9b-11e8-b69d-f0761c9f65e1",
         "values": [
          15137888.91,
          2842650,
          3014919.2,
          4589729.42
         ],
         "visible": false
        },
        {
         "domain": {
          "x": [
           0,
           0.3
          ]
         },
         "hole": 0.4,
         "hoverinfo": "label+value+percent+name",
         "labels": [
          "COSEPP",
          "COSERCA",
          "ELAPAS"
         ],
         "name": "v1",
         "textposition": "inside",
         "type": "pie",
         "uid": "2558b722-cc9b-11e8-b668-f0761c9f65e1",
         "values": [
          116949.3,
          431748,
          11435946.39
         ],
         "visible": false
        },
        {
         "domain": {
          "x": [
           0.32,
           0.62
          ]
         },
         "hole": 0.4,
         "hoverinfo": "label+value+percent+name",
         "labels": [
          "COSEPP",
          "COSERCA",
          "ELAPAS"
         ],
         "name": "v2",
         "textposition": "inside",
         "type": "pie",
         "uid": "2558b723-cc9b-11e8-8a8e-f0761c9f65e1",
         "values": [
          13196,
          982.8,
          null
         ],
         "visible": false
        },
        {
         "domain": {
          "x": [
           0.64,
           0.94
          ]
         },
         "hole": 0.4,
         "hoverinfo": "label+value+percent+name",
         "labels": [
          "COSEPP",
          "COSERCA",
          "ELAPAS"
         ],
         "name": "v3",
         "textposition": "inside",
         "type": "pie",
         "uid": "2558b724-cc9b-11e8-ae40-f0761c9f65e1",
         "values": [
          128725.39,
          416730.8,
          10852426.39
         ],
         "visible": false
        },
        {
         "domain": {
          "x": [
           0,
           0.3
          ]
         },
         "hole": 0.4,
         "hoverinfo": "label+value+percent+name",
         "labels": [
          "EPSA COBIJA"
         ],
         "name": "v1",
         "textposition": "inside",
         "type": "pie",
         "uid": "2558b725-cc9b-11e8-8483-f0761c9f65e1",
         "values": [
          3153600
         ],
         "visible": false
        },
        {
         "domain": {
          "x": [
           0.32,
           0.62
          ]
         },
         "hole": 0.4,
         "hoverinfo": "label+value+percent+name",
         "labels": [
          "EPSA COBIJA"
         ],
         "name": "v2",
         "textposition": "inside",
         "type": "pie",
         "uid": "2558b726-cc9b-11e8-ac6a-f0761c9f65e1",
         "values": [
          null
         ],
         "visible": false
        },
        {
         "domain": {
          "x": [
           0.64,
           0.94
          ]
         },
         "hole": 0.4,
         "hoverinfo": "label+value+percent+name",
         "labels": [
          "EPSA COBIJA"
         ],
         "name": "v3",
         "textposition": "inside",
         "type": "pie",
         "uid": "2558b727-cc9b-11e8-8fb2-f0761c9f65e1",
         "values": [
          2838240
         ],
         "visible": false
        },
        {
         "domain": {
          "x": [
           0,
           0.3
          ]
         },
         "hole": 0.4,
         "hoverinfo": "label+value+percent+name",
         "labels": [
          "COAPAS VINTO",
          "EMAPA",
          "SELA",
          "SMAPA"
         ],
         "name": "v1",
         "textposition": "inside",
         "type": "pie",
         "uid": "2558b728-cc9b-11e8-be45-f0761c9f65e1",
         "values": [
          85480,
          243349.92,
          472628,
          194585.76
         ],
         "visible": false
        },
        {
         "domain": {
          "x": [
           0.32,
           0.62
          ]
         },
         "hole": 0.4,
         "hoverinfo": "label+value+percent+name",
         "labels": [
          "COAPAS VINTO",
          "EMAPA",
          "SELA",
          "SMAPA"
         ],
         "name": "v2",
         "textposition": "inside",
         "type": "pie",
         "uid": "2558b729-cc9b-11e8-b0da-f0761c9f65e1",
         "values": [
          37805.99,
          151404.48,
          11341903.32,
          330436.79
         ],
         "visible": false
        },
        {
         "domain": {
          "x": [
           0.64,
           0.94
          ]
         },
         "hole": 0.4,
         "hoverinfo": "label+value+percent+name",
         "labels": [
          "COAPAS VINTO",
          "EMAPA",
          "SELA",
          "SMAPA"
         ],
         "name": "v3",
         "textposition": "inside",
         "type": "pie",
         "uid": "2558b72a-cc9b-11e8-97b4-f0761c9f65e1",
         "values": [
          123285.99,
          394754.4,
          11716724,
          525022.55
         ],
         "visible": false
        }
       ],
       "layout": {
        "annotations": [
         {
          "font": {
           "size": 20
          },
          "showarrow": false,
          "text": "V1",
          "x": 0.13,
          "y": 0.5
         },
         {
          "font": {
           "size": 20
          },
          "showarrow": false,
          "text": "V2",
          "x": 0.47,
          "y": 0.5
         },
         {
          "font": {
           "size": 20
          },
          "showarrow": false,
          "text": "V3",
          "x": 0.81,
          "y": 0.5
         },
         {
          "font": {
           "size": 20
          },
          "showarrow": false,
          "text": "Fuentes<br>Superficiales",
          "x": 0.07,
          "y": 0
         },
         {
          "font": {
           "size": 20
          },
          "showarrow": false,
          "text": "Fuentes<br>Subterráneas",
          "x": 0.48,
          "y": 0
         },
         {
          "font": {
           "size": 20
          },
          "showarrow": false,
          "text": "Volumen AP<br>Producido",
          "x": 0.87,
          "y": 0
         }
        ],
        "title": "<b>V1</b>: Volumen de agua cruda extraído de la(s) fuente(s) superficial(es)(m3/periodo)<br><b>V2</b>: Volumen de agua cruda extraído de la(s) fuente(s) subterránea(s) (m3/periodo)<br><b>V3</b>: Volumen de agua potable producido (Planta de tratamiento y/o tanque de desinfección)(m3/periodo)",
        "titlefont": {
         "size": 15
        },
        "updatemenus": [
         {
          "active": 0,
          "buttons": [
           {
            "args": [
             {
              "visible": [
               true,
               true,
               true,
               false,
               false,
               false,
               false,
               false,
               false,
               false,
               false,
               false,
               false,
               false,
               false,
               false,
               false,
               false,
               false,
               false,
               false,
               false,
               false,
               false,
               false,
               false,
               false
              ]
             },
             {}
            ],
            "label": "La Paz",
            "method": "update"
           },
           {
            "args": [
             {
              "visible": [
               false,
               false,
               false,
               true,
               true,
               true,
               false,
               false,
               false,
               false,
               false,
               false,
               false,
               false,
               false,
               false,
               false,
               false,
               false,
               false,
               false,
               false,
               false,
               false,
               false,
               false,
               false
              ]
             },
             {}
            ],
            "label": "Santa Cruz",
            "method": "update"
           },
           {
            "args": [
             {
              "visible": [
               false,
               false,
               false,
               false,
               false,
               false,
               true,
               true,
               true,
               false,
               false,
               false,
               false,
               false,
               false,
               false,
               false,
               false,
               false,
               false,
               false,
               false,
               false,
               false,
               false,
               false,
               false
              ]
             },
             {}
            ],
            "label": "Cochabamba",
            "method": "update"
           },
           {
            "args": [
             {
              "visible": [
               false,
               false,
               false,
               false,
               false,
               false,
               false,
               false,
               false,
               true,
               true,
               true,
               false,
               false,
               false,
               false,
               false,
               false,
               false,
               false,
               false,
               false,
               false,
               false,
               false,
               false,
               false
              ]
             },
             {}
            ],
            "label": "Potosí",
            "method": "update"
           },
           {
            "args": [
             {
              "visible": [
               false,
               false,
               false,
               false,
               false,
               false,
               false,
               false,
               false,
               false,
               false,
               false,
               true,
               true,
               true,
               false,
               false,
               false,
               false,
               false,
               false,
               false,
               false,
               false,
               false,
               false,
               false
              ]
             },
             {}
            ],
            "label": "Beni",
            "method": "update"
           },
           {
            "args": [
             {
              "visible": [
               false,
               false,
               false,
               false,
               false,
               false,
               false,
               false,
               false,
               false,
               false,
               false,
               false,
               false,
               false,
               true,
               true,
               true,
               false,
               false,
               false,
               false,
               false,
               false,
               false,
               false,
               false
              ]
             },
             {}
            ],
            "label": "Tarija",
            "method": "update"
           },
           {
            "args": [
             {
              "visible": [
               false,
               false,
               false,
               false,
               false,
               false,
               false,
               false,
               false,
               false,
               false,
               false,
               false,
               false,
               false,
               true,
               true,
               true,
               false,
               false,
               false,
               false,
               false,
               false,
               false,
               false,
               false
              ]
             },
             {}
            ],
            "label": "Chuquisaca",
            "method": "update"
           },
           {
            "args": [
             {
              "visible": [
               false,
               false,
               false,
               false,
               false,
               false,
               false,
               false,
               false,
               false,
               false,
               false,
               false,
               false,
               false,
               false,
               false,
               false,
               false,
               false,
               false,
               true,
               true,
               true,
               false,
               false,
               false
              ]
             },
             {}
            ],
            "label": "Pando",
            "method": "update"
           },
           {
            "args": [
             {
              "visible": [
               false,
               false,
               false,
               false,
               false,
               false,
               false,
               false,
               false,
               false,
               false,
               false,
               false,
               false,
               false,
               false,
               false,
               false,
               false,
               false,
               false,
               false,
               false,
               false,
               true,
               true,
               true
              ]
             },
             {}
            ],
            "label": "Oruro",
            "method": "update"
           }
          ],
          "direction": "up",
          "x": 0.4,
          "xanchor": "left",
          "y": -0.05,
          "yanchor": "top"
         }
        ]
       }
      },
      "text/html": [
       "<div id=\"6a60ee66-2bbf-4ec8-b49b-610bc1dc018b\" style=\"height: 525px; width: 100%;\" class=\"plotly-graph-div\"></div><script type=\"text/javascript\">require([\"plotly\"], function(Plotly) { window.PLOTLYENV=window.PLOTLYENV || {};window.PLOTLYENV.BASE_URL=\"https://plot.ly\";\n",
       "        Plotly.plot(\n",
       "            '6a60ee66-2bbf-4ec8-b49b-610bc1dc018b',\n",
       "            [{\"domain\": {\"x\": [0, 0.3]}, \"hole\": 0.4, \"hoverinfo\": \"label+value+percent+name\", \"labels\": [\"COSAPAC\", \"COSAPSI\", \"EMAPAV\", \"EPSAS\"], \"name\": \"v1\", \"textposition\": \"inside\", \"values\": [4367936.0, 292372.0, null, 72946163.0], \"visible\": true, \"type\": \"pie\", \"uid\": \"2558b710-cc9b-11e8-9709-f0761c9f65e1\"}, {\"domain\": {\"x\": [0.32, 0.62]}, \"hole\": 0.4, \"hoverinfo\": \"label+value+percent+name\", \"labels\": [\"COSAPAC\", \"COSAPSI\", \"EMAPAV\", \"EPSAS\"], \"name\": \"v2\", \"textposition\": \"inside\", \"values\": [null, 176249.0, 1233970.0, 9959827.0], \"visible\": true, \"type\": \"pie\", \"uid\": \"2558b711-cc9b-11e8-a301-f0761c9f65e1\"}, {\"domain\": {\"x\": [0.64, 0.94]}, \"hole\": 0.4, \"hoverinfo\": \"label+value+percent+name\", \"labels\": [\"COSAPAC\", \"COSAPSI\", \"EMAPAV\", \"EPSAS\"], \"name\": \"v3\", \"textposition\": \"inside\", \"values\": [null, 468621.0, 1233970.0, 74107562.0], \"visible\": true, \"type\": \"pie\", \"uid\": \"2558b712-cc9b-11e8-bf57-f0761c9f65e1\"}, {\"domain\": {\"x\": [0, 0.3]}, \"hole\": 0.4, \"hoverinfo\": \"label+value+percent+name\", \"labels\": [\"6 DE OCTUBRE\", \"CAPCHI\", \"COMAYO\", \"COOPAGUAB\", \"COOPAGUAS\", \"COOPAPPI\", \"COOPLAN\", \"COOPLIM\", \"COOSIV\", \"COOSPELCAR\", \"COSAJU\", \"COSAP\", \"COSCHAL\", \"COSEPCO\", \"COSEPFA\", \"COSEPUR\", \"COSFAL\", \"COSIMBO\", \"COSMIN\", \"COSMOL\", \"COSMON\", \"COSPAIL\", \"COSPAS\", \"COSPHUL\", \"COSPOL\", \"COSPUGEBUL\", \"COSSAJA\", \"FLORIDA\", \"JOROCHITO\", \"LA GUARDIA\", \"LA PORTE\\u00d1A\", \"SAGUAPAC\", \"SAJUBA\", \"SEAPAS\"], \"name\": \"v1\", \"textposition\": \"inside\", \"values\": [790840.0, null, 342144.0, null, null, null, null, null, 1340260.0, null, null, null, null, 331407.0, null, 1105920.0, null, null, null, null, 743934.26, null, 401497.12, null, null, null, 562460.0, 567648.0, null, null, null, null, null, null], \"visible\": false, \"type\": \"pie\", \"uid\": \"2558b713-cc9b-11e8-90bd-f0761c9f65e1\"}, {\"domain\": {\"x\": [0.32, 0.62]}, \"hole\": 0.4, \"hoverinfo\": \"label+value+percent+name\", \"labels\": [\"6 DE OCTUBRE\", \"CAPCHI\", \"COMAYO\", \"COOPAGUAB\", \"COOPAGUAS\", \"COOPAPPI\", \"COOPLAN\", \"COOPLIM\", \"COOSIV\", \"COOSPELCAR\", \"COSAJU\", \"COSAP\", \"COSCHAL\", \"COSEPCO\", \"COSEPFA\", \"COSEPUR\", \"COSFAL\", \"COSIMBO\", \"COSMIN\", \"COSMOL\", \"COSMON\", \"COSPAIL\", \"COSPAS\", \"COSPHUL\", \"COSPOL\", \"COSPUGEBUL\", \"COSSAJA\", \"FLORIDA\", \"JOROCHITO\", \"LA GUARDIA\", \"LA PORTE\\u00d1A\", \"SAGUAPAC\", \"SAJUBA\", \"SEAPAS\"], \"name\": \"v2\", \"textposition\": \"inside\", \"values\": [531163.0, 220752.0, 486720.0, 387543.17, 8047333.76, 4015805.43, 7014731.0, 458612.51, 127575.96, 2405086.41, 761444.0, 1717569.69, 1056428.2, 124416.0, 196877.52, null, 908544.0, 775179.05, 1139027.0, 7088707.0, null, 4449983.0, null, 1151278.13, 863778.0, 1410890.54, null, 90782.11, 195998.51, 680581.0, 1002801.6, 75323702.0, 4500655.42, 956721.0], \"visible\": false, \"type\": \"pie\", \"uid\": \"2558b714-cc9b-11e8-9652-f0761c9f65e1\"}, {\"domain\": {\"x\": [0.64, 0.94]}, \"hole\": 0.4, \"hoverinfo\": \"label+value+percent+name\", \"labels\": [\"6 DE OCTUBRE\", \"CAPCHI\", \"COMAYO\", \"COOPAGUAB\", \"COOPAGUAS\", \"COOPAPPI\", \"COOPLAN\", \"COOPLIM\", \"COOSIV\", \"COOSPELCAR\", \"COSAJU\", \"COSAP\", \"COSCHAL\", \"COSEPCO\", \"COSEPFA\", \"COSEPUR\", \"COSFAL\", \"COSIMBO\", \"COSMIN\", \"COSMOL\", \"COSMON\", \"COSPAIL\", \"COSPAS\", \"COSPHUL\", \"COSPOL\", \"COSPUGEBUL\", \"COSSAJA\", \"FLORIDA\", \"JOROCHITO\", \"LA GUARDIA\", \"LA PORTE\\u00d1A\", \"SAGUAPAC\", \"SAJUBA\", \"SEAPAS\"], \"name\": \"v3\", \"textposition\": \"inside\", \"values\": [1322003.0, 220752.0, 786096.0, 387543.17, 8047333.76, 4015805.43, 7014731.0, 458612.51, 1266200.76, 2405086.41, 761444.0, 1717569.69, 1056428.2, 331407.0, 196877.52, 1010448.0, 908544.0, 775179.05, 1139027.0, 7088707.0, 601275.0, 4449983.0, 387384.0, 1151278.13, 863778.0, 1410890.54, 517934.0, 567648.0, 195998.51, 680581.0, 1002801.6, 74444931.0, 4500655.42, 956721.0], \"visible\": false, \"type\": \"pie\", \"uid\": \"2558b715-cc9b-11e8-9a86-f0761c9f65e1\"}, {\"domain\": {\"x\": [0, 0.3]}, \"hole\": 0.4, \"hoverinfo\": \"label+value+percent+name\", \"labels\": [\"ASOAPAL\", \"CAPSCH\", \"COLOMI\", \"COOAPASH\", \"EMAPAS\", \"JASAP\", \"SEMAPA\"], \"name\": \"v1\", \"textposition\": \"inside\", \"values\": [178178.0, 950000.0, 292688.64, 385673.0, 411720.0, 512460.0, 14018295.52], \"visible\": false, \"type\": \"pie\", \"uid\": \"2558b716-cc9b-11e8-93a4-f0761c9f65e1\"}, {\"domain\": {\"x\": [0.32, 0.62]}, \"hole\": 0.4, \"hoverinfo\": \"label+value+percent+name\", \"labels\": [\"ASOAPAL\", \"CAPSCH\", \"COLOMI\", \"COOAPASH\", \"EMAPAS\", \"JASAP\", \"SEMAPA\"], \"name\": \"v2\", \"textposition\": \"inside\", \"values\": [null, 1753581.6, null, null, 954237.79, null, 13104567.78], \"visible\": false, \"type\": \"pie\", \"uid\": \"2558b717-cc9b-11e8-814c-f0761c9f65e1\"}, {\"domain\": {\"x\": [0.64, 0.94]}, \"hole\": 0.4, \"hoverinfo\": \"label+value+percent+name\", \"labels\": [\"ASOAPAL\", \"CAPSCH\", \"COLOMI\", \"COOAPASH\", \"EMAPAS\", \"JASAP\", \"SEMAPA\"], \"name\": \"v3\", \"textposition\": \"inside\", \"values\": [null, 2703581.6, null, null, 1337137.39, null, 20937334.63], \"visible\": false, \"type\": \"pie\", \"uid\": \"2558b718-cc9b-11e8-9d45-f0761c9f65e1\"}, {\"domain\": {\"x\": [0, 0.3]}, \"hole\": 0.4, \"hoverinfo\": \"label+value+percent+name\", \"labels\": [\"AAPOS\", \"BUSTILLO\", \"CAPU\", \"EMPSAAT\", \"EMSABAV\"], \"name\": \"v1\", \"textposition\": \"inside\", \"values\": [7215070.0, 2024913.6, 831797.76, 330275.23, 671448.9], \"visible\": false, \"type\": \"pie\", \"uid\": \"2558b719-cc9b-11e8-87ee-f0761c9f65e1\"}, {\"domain\": {\"x\": [0.32, 0.62]}, \"hole\": 0.4, \"hoverinfo\": \"label+value+percent+name\", \"labels\": [\"AAPOS\", \"BUSTILLO\", \"CAPU\", \"EMPSAAT\", \"EMSABAV\"], \"name\": \"v2\", \"textposition\": \"inside\", \"values\": [null, null, 10135.0, 655603.02, 772852.64], \"visible\": false, \"type\": \"pie\", \"uid\": \"2558b71a-cc9b-11e8-bc71-f0761c9f65e1\"}, {\"domain\": {\"x\": [0.64, 0.94]}, \"hole\": 0.4, \"hoverinfo\": \"label+value+percent+name\", \"labels\": [\"AAPOS\", \"BUSTILLO\", \"CAPU\", \"EMPSAAT\", \"EMSABAV\"], \"name\": \"v3\", \"textposition\": \"inside\", \"values\": [6054358.0, 1793212.56, 815161.8, 985878.25, 1154474.47], \"visible\": false, \"type\": \"pie\", \"uid\": \"2558b71b-cc9b-11e8-8afd-f0761c9f65e1\"}, {\"domain\": {\"x\": [0, 0.3]}, \"hole\": 0.4, \"hoverinfo\": \"label+value+percent+name\", \"labels\": [\"CAPAG\", \"COAPASB\", \"COATRI\", \"SAMAPAR\", \"SEMAPAR\"], \"name\": \"v1\", \"textposition\": \"inside\", \"values\": [2207520.0, null, null, 797860.8, null], \"visible\": false, \"type\": \"pie\", \"uid\": \"2558b71c-cc9b-11e8-b8da-f0761c9f65e1\"}, {\"domain\": {\"x\": [0.32, 0.62]}, \"hole\": 0.4, \"hoverinfo\": \"label+value+percent+name\", \"labels\": [\"CAPAG\", \"COAPASB\", \"COATRI\", \"SAMAPAR\", \"SEMAPAR\"], \"name\": \"v2\", \"textposition\": \"inside\", \"values\": [null, null, 2940448.0, null, 1018540.0], \"visible\": false, \"type\": \"pie\", \"uid\": \"2558b71d-cc9b-11e8-8cc3-f0761c9f65e1\"}, {\"domain\": {\"x\": [0.64, 0.94]}, \"hole\": 0.4, \"hoverinfo\": \"label+value+percent+name\", \"labels\": [\"CAPAG\", \"COAPASB\", \"COATRI\", \"SAMAPAR\", \"SEMAPAR\"], \"name\": \"v3\", \"textposition\": \"inside\", \"values\": [2048810.0, null, 2466628.0, 797860.8, 856792.0], \"visible\": false, \"type\": \"pie\", \"uid\": \"2558b71e-cc9b-11e8-a64d-f0761c9f65e1\"}, {\"domain\": {\"x\": [0, 0.3]}, \"hole\": 0.4, \"hoverinfo\": \"label+value+percent+name\", \"labels\": [\"COSAALT\", \"EMAAB\", \"EMAPYC\", \"MANCHACO\"], \"name\": \"v1\", \"textposition\": \"inside\", \"values\": [9711232.67, 3117624.0, 707401.08, 2922090.6], \"visible\": false, \"type\": \"pie\", \"uid\": \"2558b71f-cc9b-11e8-aa53-f0761c9f65e1\"}, {\"domain\": {\"x\": [0.32, 0.62]}, \"hole\": 0.4, \"hoverinfo\": \"label+value+percent+name\", \"labels\": [\"COSAALT\", \"EMAAB\", \"EMAPYC\", \"MANCHACO\"], \"name\": \"v2\", \"textposition\": \"inside\", \"values\": [6435782.0, null, 2346234.78, 1870680.58], \"visible\": false, \"type\": \"pie\", \"uid\": \"2558b720-cc9b-11e8-a9fa-f0761c9f65e1\"}, {\"domain\": {\"x\": [0.64, 0.94]}, \"hole\": 0.4, \"hoverinfo\": \"label+value+percent+name\", \"labels\": [\"COSAALT\", \"EMAAB\", \"EMAPYC\", \"MANCHACO\"], \"name\": \"v3\", \"textposition\": \"inside\", \"values\": [15137888.91, 2842650.0, 3014919.2, 4589729.42], \"visible\": false, \"type\": \"pie\", \"uid\": \"2558b721-cc9b-11e8-b69d-f0761c9f65e1\"}, {\"domain\": {\"x\": [0, 0.3]}, \"hole\": 0.4, \"hoverinfo\": \"label+value+percent+name\", \"labels\": [\"COSEPP\", \"COSERCA\", \"ELAPAS\"], \"name\": \"v1\", \"textposition\": \"inside\", \"values\": [116949.3, 431748.0, 11435946.39], \"visible\": false, \"type\": \"pie\", \"uid\": \"2558b722-cc9b-11e8-b668-f0761c9f65e1\"}, {\"domain\": {\"x\": [0.32, 0.62]}, \"hole\": 0.4, \"hoverinfo\": \"label+value+percent+name\", \"labels\": [\"COSEPP\", \"COSERCA\", \"ELAPAS\"], \"name\": \"v2\", \"textposition\": \"inside\", \"values\": [13196.0, 982.8, null], \"visible\": false, \"type\": \"pie\", \"uid\": \"2558b723-cc9b-11e8-8a8e-f0761c9f65e1\"}, {\"domain\": {\"x\": [0.64, 0.94]}, \"hole\": 0.4, \"hoverinfo\": \"label+value+percent+name\", \"labels\": [\"COSEPP\", \"COSERCA\", \"ELAPAS\"], \"name\": \"v3\", \"textposition\": \"inside\", \"values\": [128725.39, 416730.8, 10852426.39], \"visible\": false, \"type\": \"pie\", \"uid\": \"2558b724-cc9b-11e8-ae40-f0761c9f65e1\"}, {\"domain\": {\"x\": [0, 0.3]}, \"hole\": 0.4, \"hoverinfo\": \"label+value+percent+name\", \"labels\": [\"EPSA COBIJA\"], \"name\": \"v1\", \"textposition\": \"inside\", \"values\": [3153600.0], \"visible\": false, \"type\": \"pie\", \"uid\": \"2558b725-cc9b-11e8-8483-f0761c9f65e1\"}, {\"domain\": {\"x\": [0.32, 0.62]}, \"hole\": 0.4, \"hoverinfo\": \"label+value+percent+name\", \"labels\": [\"EPSA COBIJA\"], \"name\": \"v2\", \"textposition\": \"inside\", \"values\": [null], \"visible\": false, \"type\": \"pie\", \"uid\": \"2558b726-cc9b-11e8-ac6a-f0761c9f65e1\"}, {\"domain\": {\"x\": [0.64, 0.94]}, \"hole\": 0.4, \"hoverinfo\": \"label+value+percent+name\", \"labels\": [\"EPSA COBIJA\"], \"name\": \"v3\", \"textposition\": \"inside\", \"values\": [2838240.0], \"visible\": false, \"type\": \"pie\", \"uid\": \"2558b727-cc9b-11e8-8fb2-f0761c9f65e1\"}, {\"domain\": {\"x\": [0, 0.3]}, \"hole\": 0.4, \"hoverinfo\": \"label+value+percent+name\", \"labels\": [\"COAPAS VINTO\", \"EMAPA\", \"SELA\", \"SMAPA\"], \"name\": \"v1\", \"textposition\": \"inside\", \"values\": [85480.0, 243349.92, 472628.0, 194585.76], \"visible\": false, \"type\": \"pie\", \"uid\": \"2558b728-cc9b-11e8-be45-f0761c9f65e1\"}, {\"domain\": {\"x\": [0.32, 0.62]}, \"hole\": 0.4, \"hoverinfo\": \"label+value+percent+name\", \"labels\": [\"COAPAS VINTO\", \"EMAPA\", \"SELA\", \"SMAPA\"], \"name\": \"v2\", \"textposition\": \"inside\", \"values\": [37805.99, 151404.48, 11341903.32, 330436.79], \"visible\": false, \"type\": \"pie\", \"uid\": \"2558b729-cc9b-11e8-b0da-f0761c9f65e1\"}, {\"domain\": {\"x\": [0.64, 0.94]}, \"hole\": 0.4, \"hoverinfo\": \"label+value+percent+name\", \"labels\": [\"COAPAS VINTO\", \"EMAPA\", \"SELA\", \"SMAPA\"], \"name\": \"v3\", \"textposition\": \"inside\", \"values\": [123285.99, 394754.4, 11716724.0, 525022.55], \"visible\": false, \"type\": \"pie\", \"uid\": \"2558b72a-cc9b-11e8-97b4-f0761c9f65e1\"}],\n",
       "            {\"annotations\": [{\"font\": {\"size\": 20}, \"showarrow\": false, \"text\": \"V1\", \"x\": 0.13, \"y\": 0.5}, {\"font\": {\"size\": 20}, \"showarrow\": false, \"text\": \"V2\", \"x\": 0.47, \"y\": 0.5}, {\"font\": {\"size\": 20}, \"showarrow\": false, \"text\": \"V3\", \"x\": 0.81, \"y\": 0.5}, {\"font\": {\"size\": 20}, \"showarrow\": false, \"text\": \"Fuentes<br>Superficiales\", \"x\": 0.07, \"y\": 0}, {\"font\": {\"size\": 20}, \"showarrow\": false, \"text\": \"Fuentes<br>Subterr\\u00e1neas\", \"x\": 0.48, \"y\": 0}, {\"font\": {\"size\": 20}, \"showarrow\": false, \"text\": \"Volumen AP<br>Producido\", \"x\": 0.87, \"y\": 0}], \"title\": \"<b>V1</b>: Volumen de agua cruda extra\\u00eddo de la(s) fuente(s) superficial(es)(m3/periodo)<br><b>V2</b>: Volumen de agua cruda extra\\u00eddo de la(s) fuente(s) subterr\\u00e1nea(s) (m3/periodo)<br><b>V3</b>: Volumen de agua potable producido (Planta de tratamiento y/o tanque de desinfecci\\u00f3n)(m3/periodo)\", \"titlefont\": {\"size\": 15}, \"updatemenus\": [{\"active\": 0, \"buttons\": [{\"args\": [{\"visible\": [true, true, true, false, false, false, false, false, false, false, false, false, false, false, false, false, false, false, false, false, false, false, false, false, false, false, false]}, {}], \"label\": \"La Paz\", \"method\": \"update\"}, {\"args\": [{\"visible\": [false, false, false, true, true, true, false, false, false, false, false, false, false, false, false, false, false, false, false, false, false, false, false, false, false, false, false]}, {}], \"label\": \"Santa Cruz\", \"method\": \"update\"}, {\"args\": [{\"visible\": [false, false, false, false, false, false, true, true, true, false, false, false, false, false, false, false, false, false, false, false, false, false, false, false, false, false, false]}, {}], \"label\": \"Cochabamba\", \"method\": \"update\"}, {\"args\": [{\"visible\": [false, false, false, false, false, false, false, false, false, true, true, true, false, false, false, false, false, false, false, false, false, false, false, false, false, false, false]}, {}], \"label\": \"Potos\\u00ed\", \"method\": \"update\"}, {\"args\": [{\"visible\": [false, false, false, false, false, false, false, false, false, false, false, false, true, true, true, false, false, false, false, false, false, false, false, false, false, false, false]}, {}], \"label\": \"Beni\", \"method\": \"update\"}, {\"args\": [{\"visible\": [false, false, false, false, false, false, false, false, false, false, false, false, false, false, false, true, true, true, false, false, false, false, false, false, false, false, false]}, {}], \"label\": \"Tarija\", \"method\": \"update\"}, {\"args\": [{\"visible\": [false, false, false, false, false, false, false, false, false, false, false, false, false, false, false, true, true, true, false, false, false, false, false, false, false, false, false]}, {}], \"label\": \"Chuquisaca\", \"method\": \"update\"}, {\"args\": [{\"visible\": [false, false, false, false, false, false, false, false, false, false, false, false, false, false, false, false, false, false, false, false, false, true, true, true, false, false, false]}, {}], \"label\": \"Pando\", \"method\": \"update\"}, {\"args\": [{\"visible\": [false, false, false, false, false, false, false, false, false, false, false, false, false, false, false, false, false, false, false, false, false, false, false, false, true, true, true]}, {}], \"label\": \"Oruro\", \"method\": \"update\"}], \"direction\": \"up\", \"x\": 0.4, \"xanchor\": \"left\", \"y\": -0.05, \"yanchor\": \"top\"}]},\n",
       "            {\"showLink\": true, \"linkText\": \"Export to plot.ly\"}\n",
       "        ).then(function () {return Plotly.addFrames('6a60ee66-2bbf-4ec8-b49b-610bc1dc018b',{});}).then(function(){Plotly.animate('6a60ee66-2bbf-4ec8-b49b-610bc1dc018b');})\n",
       "        });</script>"
      ],
      "text/vnd.plotly.v1+html": [
       "<div id=\"6a60ee66-2bbf-4ec8-b49b-610bc1dc018b\" style=\"height: 525px; width: 100%;\" class=\"plotly-graph-div\"></div><script type=\"text/javascript\">require([\"plotly\"], function(Plotly) { window.PLOTLYENV=window.PLOTLYENV || {};window.PLOTLYENV.BASE_URL=\"https://plot.ly\";\n",
       "        Plotly.plot(\n",
       "            '6a60ee66-2bbf-4ec8-b49b-610bc1dc018b',\n",
       "            [{\"domain\": {\"x\": [0, 0.3]}, \"hole\": 0.4, \"hoverinfo\": \"label+value+percent+name\", \"labels\": [\"COSAPAC\", \"COSAPSI\", \"EMAPAV\", \"EPSAS\"], \"name\": \"v1\", \"textposition\": \"inside\", \"values\": [4367936.0, 292372.0, null, 72946163.0], \"visible\": true, \"type\": \"pie\", \"uid\": \"2558b710-cc9b-11e8-9709-f0761c9f65e1\"}, {\"domain\": {\"x\": [0.32, 0.62]}, \"hole\": 0.4, \"hoverinfo\": \"label+value+percent+name\", \"labels\": [\"COSAPAC\", \"COSAPSI\", \"EMAPAV\", \"EPSAS\"], \"name\": \"v2\", \"textposition\": \"inside\", \"values\": [null, 176249.0, 1233970.0, 9959827.0], \"visible\": true, \"type\": \"pie\", \"uid\": \"2558b711-cc9b-11e8-a301-f0761c9f65e1\"}, {\"domain\": {\"x\": [0.64, 0.94]}, \"hole\": 0.4, \"hoverinfo\": \"label+value+percent+name\", \"labels\": [\"COSAPAC\", \"COSAPSI\", \"EMAPAV\", \"EPSAS\"], \"name\": \"v3\", \"textposition\": \"inside\", \"values\": [null, 468621.0, 1233970.0, 74107562.0], \"visible\": true, \"type\": \"pie\", \"uid\": \"2558b712-cc9b-11e8-bf57-f0761c9f65e1\"}, {\"domain\": {\"x\": [0, 0.3]}, \"hole\": 0.4, \"hoverinfo\": \"label+value+percent+name\", \"labels\": [\"6 DE OCTUBRE\", \"CAPCHI\", \"COMAYO\", \"COOPAGUAB\", \"COOPAGUAS\", \"COOPAPPI\", \"COOPLAN\", \"COOPLIM\", \"COOSIV\", \"COOSPELCAR\", \"COSAJU\", \"COSAP\", \"COSCHAL\", \"COSEPCO\", \"COSEPFA\", \"COSEPUR\", \"COSFAL\", \"COSIMBO\", \"COSMIN\", \"COSMOL\", \"COSMON\", \"COSPAIL\", \"COSPAS\", \"COSPHUL\", \"COSPOL\", \"COSPUGEBUL\", \"COSSAJA\", \"FLORIDA\", \"JOROCHITO\", \"LA GUARDIA\", \"LA PORTE\\u00d1A\", \"SAGUAPAC\", \"SAJUBA\", \"SEAPAS\"], \"name\": \"v1\", \"textposition\": \"inside\", \"values\": [790840.0, null, 342144.0, null, null, null, null, null, 1340260.0, null, null, null, null, 331407.0, null, 1105920.0, null, null, null, null, 743934.26, null, 401497.12, null, null, null, 562460.0, 567648.0, null, null, null, null, null, null], \"visible\": false, \"type\": \"pie\", \"uid\": \"2558b713-cc9b-11e8-90bd-f0761c9f65e1\"}, {\"domain\": {\"x\": [0.32, 0.62]}, \"hole\": 0.4, \"hoverinfo\": \"label+value+percent+name\", \"labels\": [\"6 DE OCTUBRE\", \"CAPCHI\", \"COMAYO\", \"COOPAGUAB\", \"COOPAGUAS\", \"COOPAPPI\", \"COOPLAN\", \"COOPLIM\", \"COOSIV\", \"COOSPELCAR\", \"COSAJU\", \"COSAP\", \"COSCHAL\", \"COSEPCO\", \"COSEPFA\", \"COSEPUR\", \"COSFAL\", \"COSIMBO\", \"COSMIN\", \"COSMOL\", \"COSMON\", \"COSPAIL\", \"COSPAS\", \"COSPHUL\", \"COSPOL\", \"COSPUGEBUL\", \"COSSAJA\", \"FLORIDA\", \"JOROCHITO\", \"LA GUARDIA\", \"LA PORTE\\u00d1A\", \"SAGUAPAC\", \"SAJUBA\", \"SEAPAS\"], \"name\": \"v2\", \"textposition\": \"inside\", \"values\": [531163.0, 220752.0, 486720.0, 387543.17, 8047333.76, 4015805.43, 7014731.0, 458612.51, 127575.96, 2405086.41, 761444.0, 1717569.69, 1056428.2, 124416.0, 196877.52, null, 908544.0, 775179.05, 1139027.0, 7088707.0, null, 4449983.0, null, 1151278.13, 863778.0, 1410890.54, null, 90782.11, 195998.51, 680581.0, 1002801.6, 75323702.0, 4500655.42, 956721.0], \"visible\": false, \"type\": \"pie\", \"uid\": \"2558b714-cc9b-11e8-9652-f0761c9f65e1\"}, {\"domain\": {\"x\": [0.64, 0.94]}, \"hole\": 0.4, \"hoverinfo\": \"label+value+percent+name\", \"labels\": [\"6 DE OCTUBRE\", \"CAPCHI\", \"COMAYO\", \"COOPAGUAB\", \"COOPAGUAS\", \"COOPAPPI\", \"COOPLAN\", \"COOPLIM\", \"COOSIV\", \"COOSPELCAR\", \"COSAJU\", \"COSAP\", \"COSCHAL\", \"COSEPCO\", \"COSEPFA\", \"COSEPUR\", \"COSFAL\", \"COSIMBO\", \"COSMIN\", \"COSMOL\", \"COSMON\", \"COSPAIL\", \"COSPAS\", \"COSPHUL\", \"COSPOL\", \"COSPUGEBUL\", \"COSSAJA\", \"FLORIDA\", \"JOROCHITO\", \"LA GUARDIA\", \"LA PORTE\\u00d1A\", \"SAGUAPAC\", \"SAJUBA\", \"SEAPAS\"], \"name\": \"v3\", \"textposition\": \"inside\", \"values\": [1322003.0, 220752.0, 786096.0, 387543.17, 8047333.76, 4015805.43, 7014731.0, 458612.51, 1266200.76, 2405086.41, 761444.0, 1717569.69, 1056428.2, 331407.0, 196877.52, 1010448.0, 908544.0, 775179.05, 1139027.0, 7088707.0, 601275.0, 4449983.0, 387384.0, 1151278.13, 863778.0, 1410890.54, 517934.0, 567648.0, 195998.51, 680581.0, 1002801.6, 74444931.0, 4500655.42, 956721.0], \"visible\": false, \"type\": \"pie\", \"uid\": \"2558b715-cc9b-11e8-9a86-f0761c9f65e1\"}, {\"domain\": {\"x\": [0, 0.3]}, \"hole\": 0.4, \"hoverinfo\": \"label+value+percent+name\", \"labels\": [\"ASOAPAL\", \"CAPSCH\", \"COLOMI\", \"COOAPASH\", \"EMAPAS\", \"JASAP\", \"SEMAPA\"], \"name\": \"v1\", \"textposition\": \"inside\", \"values\": [178178.0, 950000.0, 292688.64, 385673.0, 411720.0, 512460.0, 14018295.52], \"visible\": false, \"type\": \"pie\", \"uid\": \"2558b716-cc9b-11e8-93a4-f0761c9f65e1\"}, {\"domain\": {\"x\": [0.32, 0.62]}, \"hole\": 0.4, \"hoverinfo\": \"label+value+percent+name\", \"labels\": [\"ASOAPAL\", \"CAPSCH\", \"COLOMI\", \"COOAPASH\", \"EMAPAS\", \"JASAP\", \"SEMAPA\"], \"name\": \"v2\", \"textposition\": \"inside\", \"values\": [null, 1753581.6, null, null, 954237.79, null, 13104567.78], \"visible\": false, \"type\": \"pie\", \"uid\": \"2558b717-cc9b-11e8-814c-f0761c9f65e1\"}, {\"domain\": {\"x\": [0.64, 0.94]}, \"hole\": 0.4, \"hoverinfo\": \"label+value+percent+name\", \"labels\": [\"ASOAPAL\", \"CAPSCH\", \"COLOMI\", \"COOAPASH\", \"EMAPAS\", \"JASAP\", \"SEMAPA\"], \"name\": \"v3\", \"textposition\": \"inside\", \"values\": [null, 2703581.6, null, null, 1337137.39, null, 20937334.63], \"visible\": false, \"type\": \"pie\", \"uid\": \"2558b718-cc9b-11e8-9d45-f0761c9f65e1\"}, {\"domain\": {\"x\": [0, 0.3]}, \"hole\": 0.4, \"hoverinfo\": \"label+value+percent+name\", \"labels\": [\"AAPOS\", \"BUSTILLO\", \"CAPU\", \"EMPSAAT\", \"EMSABAV\"], \"name\": \"v1\", \"textposition\": \"inside\", \"values\": [7215070.0, 2024913.6, 831797.76, 330275.23, 671448.9], \"visible\": false, \"type\": \"pie\", \"uid\": \"2558b719-cc9b-11e8-87ee-f0761c9f65e1\"}, {\"domain\": {\"x\": [0.32, 0.62]}, \"hole\": 0.4, \"hoverinfo\": \"label+value+percent+name\", \"labels\": [\"AAPOS\", \"BUSTILLO\", \"CAPU\", \"EMPSAAT\", \"EMSABAV\"], \"name\": \"v2\", \"textposition\": \"inside\", \"values\": [null, null, 10135.0, 655603.02, 772852.64], \"visible\": false, \"type\": \"pie\", \"uid\": \"2558b71a-cc9b-11e8-bc71-f0761c9f65e1\"}, {\"domain\": {\"x\": [0.64, 0.94]}, \"hole\": 0.4, \"hoverinfo\": \"label+value+percent+name\", \"labels\": [\"AAPOS\", \"BUSTILLO\", \"CAPU\", \"EMPSAAT\", \"EMSABAV\"], \"name\": \"v3\", \"textposition\": \"inside\", \"values\": [6054358.0, 1793212.56, 815161.8, 985878.25, 1154474.47], \"visible\": false, \"type\": \"pie\", \"uid\": \"2558b71b-cc9b-11e8-8afd-f0761c9f65e1\"}, {\"domain\": {\"x\": [0, 0.3]}, \"hole\": 0.4, \"hoverinfo\": \"label+value+percent+name\", \"labels\": [\"CAPAG\", \"COAPASB\", \"COATRI\", \"SAMAPAR\", \"SEMAPAR\"], \"name\": \"v1\", \"textposition\": \"inside\", \"values\": [2207520.0, null, null, 797860.8, null], \"visible\": false, \"type\": \"pie\", \"uid\": \"2558b71c-cc9b-11e8-b8da-f0761c9f65e1\"}, {\"domain\": {\"x\": [0.32, 0.62]}, \"hole\": 0.4, \"hoverinfo\": \"label+value+percent+name\", \"labels\": [\"CAPAG\", \"COAPASB\", \"COATRI\", \"SAMAPAR\", \"SEMAPAR\"], \"name\": \"v2\", \"textposition\": \"inside\", \"values\": [null, null, 2940448.0, null, 1018540.0], \"visible\": false, \"type\": \"pie\", \"uid\": \"2558b71d-cc9b-11e8-8cc3-f0761c9f65e1\"}, {\"domain\": {\"x\": [0.64, 0.94]}, \"hole\": 0.4, \"hoverinfo\": \"label+value+percent+name\", \"labels\": [\"CAPAG\", \"COAPASB\", \"COATRI\", \"SAMAPAR\", \"SEMAPAR\"], \"name\": \"v3\", \"textposition\": \"inside\", \"values\": [2048810.0, null, 2466628.0, 797860.8, 856792.0], \"visible\": false, \"type\": \"pie\", \"uid\": \"2558b71e-cc9b-11e8-a64d-f0761c9f65e1\"}, {\"domain\": {\"x\": [0, 0.3]}, \"hole\": 0.4, \"hoverinfo\": \"label+value+percent+name\", \"labels\": [\"COSAALT\", \"EMAAB\", \"EMAPYC\", \"MANCHACO\"], \"name\": \"v1\", \"textposition\": \"inside\", \"values\": [9711232.67, 3117624.0, 707401.08, 2922090.6], \"visible\": false, \"type\": \"pie\", \"uid\": \"2558b71f-cc9b-11e8-aa53-f0761c9f65e1\"}, {\"domain\": {\"x\": [0.32, 0.62]}, \"hole\": 0.4, \"hoverinfo\": \"label+value+percent+name\", \"labels\": [\"COSAALT\", \"EMAAB\", \"EMAPYC\", \"MANCHACO\"], \"name\": \"v2\", \"textposition\": \"inside\", \"values\": [6435782.0, null, 2346234.78, 1870680.58], \"visible\": false, \"type\": \"pie\", \"uid\": \"2558b720-cc9b-11e8-a9fa-f0761c9f65e1\"}, {\"domain\": {\"x\": [0.64, 0.94]}, \"hole\": 0.4, \"hoverinfo\": \"label+value+percent+name\", \"labels\": [\"COSAALT\", \"EMAAB\", \"EMAPYC\", \"MANCHACO\"], \"name\": \"v3\", \"textposition\": \"inside\", \"values\": [15137888.91, 2842650.0, 3014919.2, 4589729.42], \"visible\": false, \"type\": \"pie\", \"uid\": \"2558b721-cc9b-11e8-b69d-f0761c9f65e1\"}, {\"domain\": {\"x\": [0, 0.3]}, \"hole\": 0.4, \"hoverinfo\": \"label+value+percent+name\", \"labels\": [\"COSEPP\", \"COSERCA\", \"ELAPAS\"], \"name\": \"v1\", \"textposition\": \"inside\", \"values\": [116949.3, 431748.0, 11435946.39], \"visible\": false, \"type\": \"pie\", \"uid\": \"2558b722-cc9b-11e8-b668-f0761c9f65e1\"}, {\"domain\": {\"x\": [0.32, 0.62]}, \"hole\": 0.4, \"hoverinfo\": \"label+value+percent+name\", \"labels\": [\"COSEPP\", \"COSERCA\", \"ELAPAS\"], \"name\": \"v2\", \"textposition\": \"inside\", \"values\": [13196.0, 982.8, null], \"visible\": false, \"type\": \"pie\", \"uid\": \"2558b723-cc9b-11e8-8a8e-f0761c9f65e1\"}, {\"domain\": {\"x\": [0.64, 0.94]}, \"hole\": 0.4, \"hoverinfo\": \"label+value+percent+name\", \"labels\": [\"COSEPP\", \"COSERCA\", \"ELAPAS\"], \"name\": \"v3\", \"textposition\": \"inside\", \"values\": [128725.39, 416730.8, 10852426.39], \"visible\": false, \"type\": \"pie\", \"uid\": \"2558b724-cc9b-11e8-ae40-f0761c9f65e1\"}, {\"domain\": {\"x\": [0, 0.3]}, \"hole\": 0.4, \"hoverinfo\": \"label+value+percent+name\", \"labels\": [\"EPSA COBIJA\"], \"name\": \"v1\", \"textposition\": \"inside\", \"values\": [3153600.0], \"visible\": false, \"type\": \"pie\", \"uid\": \"2558b725-cc9b-11e8-8483-f0761c9f65e1\"}, {\"domain\": {\"x\": [0.32, 0.62]}, \"hole\": 0.4, \"hoverinfo\": \"label+value+percent+name\", \"labels\": [\"EPSA COBIJA\"], \"name\": \"v2\", \"textposition\": \"inside\", \"values\": [null], \"visible\": false, \"type\": \"pie\", \"uid\": \"2558b726-cc9b-11e8-ac6a-f0761c9f65e1\"}, {\"domain\": {\"x\": [0.64, 0.94]}, \"hole\": 0.4, \"hoverinfo\": \"label+value+percent+name\", \"labels\": [\"EPSA COBIJA\"], \"name\": \"v3\", \"textposition\": \"inside\", \"values\": [2838240.0], \"visible\": false, \"type\": \"pie\", \"uid\": \"2558b727-cc9b-11e8-8fb2-f0761c9f65e1\"}, {\"domain\": {\"x\": [0, 0.3]}, \"hole\": 0.4, \"hoverinfo\": \"label+value+percent+name\", \"labels\": [\"COAPAS VINTO\", \"EMAPA\", \"SELA\", \"SMAPA\"], \"name\": \"v1\", \"textposition\": \"inside\", \"values\": [85480.0, 243349.92, 472628.0, 194585.76], \"visible\": false, \"type\": \"pie\", \"uid\": \"2558b728-cc9b-11e8-be45-f0761c9f65e1\"}, {\"domain\": {\"x\": [0.32, 0.62]}, \"hole\": 0.4, \"hoverinfo\": \"label+value+percent+name\", \"labels\": [\"COAPAS VINTO\", \"EMAPA\", \"SELA\", \"SMAPA\"], \"name\": \"v2\", \"textposition\": \"inside\", \"values\": [37805.99, 151404.48, 11341903.32, 330436.79], \"visible\": false, \"type\": \"pie\", \"uid\": \"2558b729-cc9b-11e8-b0da-f0761c9f65e1\"}, {\"domain\": {\"x\": [0.64, 0.94]}, \"hole\": 0.4, \"hoverinfo\": \"label+value+percent+name\", \"labels\": [\"COAPAS VINTO\", \"EMAPA\", \"SELA\", \"SMAPA\"], \"name\": \"v3\", \"textposition\": \"inside\", \"values\": [123285.99, 394754.4, 11716724.0, 525022.55], \"visible\": false, \"type\": \"pie\", \"uid\": \"2558b72a-cc9b-11e8-97b4-f0761c9f65e1\"}],\n",
       "            {\"annotations\": [{\"font\": {\"size\": 20}, \"showarrow\": false, \"text\": \"V1\", \"x\": 0.13, \"y\": 0.5}, {\"font\": {\"size\": 20}, \"showarrow\": false, \"text\": \"V2\", \"x\": 0.47, \"y\": 0.5}, {\"font\": {\"size\": 20}, \"showarrow\": false, \"text\": \"V3\", \"x\": 0.81, \"y\": 0.5}, {\"font\": {\"size\": 20}, \"showarrow\": false, \"text\": \"Fuentes<br>Superficiales\", \"x\": 0.07, \"y\": 0}, {\"font\": {\"size\": 20}, \"showarrow\": false, \"text\": \"Fuentes<br>Subterr\\u00e1neas\", \"x\": 0.48, \"y\": 0}, {\"font\": {\"size\": 20}, \"showarrow\": false, \"text\": \"Volumen AP<br>Producido\", \"x\": 0.87, \"y\": 0}], \"title\": \"<b>V1</b>: Volumen de agua cruda extra\\u00eddo de la(s) fuente(s) superficial(es)(m3/periodo)<br><b>V2</b>: Volumen de agua cruda extra\\u00eddo de la(s) fuente(s) subterr\\u00e1nea(s) (m3/periodo)<br><b>V3</b>: Volumen de agua potable producido (Planta de tratamiento y/o tanque de desinfecci\\u00f3n)(m3/periodo)\", \"titlefont\": {\"size\": 15}, \"updatemenus\": [{\"active\": 0, \"buttons\": [{\"args\": [{\"visible\": [true, true, true, false, false, false, false, false, false, false, false, false, false, false, false, false, false, false, false, false, false, false, false, false, false, false, false]}, {}], \"label\": \"La Paz\", \"method\": \"update\"}, {\"args\": [{\"visible\": [false, false, false, true, true, true, false, false, false, false, false, false, false, false, false, false, false, false, false, false, false, false, false, false, false, false, false]}, {}], \"label\": \"Santa Cruz\", \"method\": \"update\"}, {\"args\": [{\"visible\": [false, false, false, false, false, false, true, true, true, false, false, false, false, false, false, false, false, false, false, false, false, false, false, false, false, false, false]}, {}], \"label\": \"Cochabamba\", \"method\": \"update\"}, {\"args\": [{\"visible\": [false, false, false, false, false, false, false, false, false, true, true, true, false, false, false, false, false, false, false, false, false, false, false, false, false, false, false]}, {}], \"label\": \"Potos\\u00ed\", \"method\": \"update\"}, {\"args\": [{\"visible\": [false, false, false, false, false, false, false, false, false, false, false, false, true, true, true, false, false, false, false, false, false, false, false, false, false, false, false]}, {}], \"label\": \"Beni\", \"method\": \"update\"}, {\"args\": [{\"visible\": [false, false, false, false, false, false, false, false, false, false, false, false, false, false, false, true, true, true, false, false, false, false, false, false, false, false, false]}, {}], \"label\": \"Tarija\", \"method\": \"update\"}, {\"args\": [{\"visible\": [false, false, false, false, false, false, false, false, false, false, false, false, false, false, false, true, true, true, false, false, false, false, false, false, false, false, false]}, {}], \"label\": \"Chuquisaca\", \"method\": \"update\"}, {\"args\": [{\"visible\": [false, false, false, false, false, false, false, false, false, false, false, false, false, false, false, false, false, false, false, false, false, true, true, true, false, false, false]}, {}], \"label\": \"Pando\", \"method\": \"update\"}, {\"args\": [{\"visible\": [false, false, false, false, false, false, false, false, false, false, false, false, false, false, false, false, false, false, false, false, false, false, false, false, true, true, true]}, {}], \"label\": \"Oruro\", \"method\": \"update\"}], \"direction\": \"up\", \"x\": 0.4, \"xanchor\": \"left\", \"y\": -0.05, \"yanchor\": \"top\"}]},\n",
       "            {\"showLink\": true, \"linkText\": \"Export to plot.ly\"}\n",
       "        ).then(function () {return Plotly.addFrames('6a60ee66-2bbf-4ec8-b49b-610bc1dc018b',{});}).then(function(){Plotly.animate('6a60ee66-2bbf-4ec8-b49b-610bc1dc018b');})\n",
       "        });</script>"
      ]
     },
     "metadata": {},
     "output_type": "display_data"
    }
   ],
   "source": [
    "#hideme\n",
    "iplot(fig1)"
   ]
  },
  {
   "cell_type": "code",
   "execution_count": null,
   "metadata": {
    "slideshow": {
     "slide_type": "skip"
    }
   },
   "outputs": [],
   "source": [
    "categories = ['A', 'B', 'C', 'D']\n",
    "selected_inds = ['ind23','ind27', 'ind28']\n",
    "\n",
    "default_cat = 'A'\n",
    "default_ind = 'ind23'\n",
    "\n",
    "years = [2014, 2015, 2016, 2017]\n",
    "\n",
    "data = []\n",
    "\n",
    "for cat_i, category in enumerate(categories):\n",
    "    for ind_i, indicator in enumerate(selected_inds):\n",
    "        visible = True if cat_i == 0 and ind_i == 0 else False\n",
    "        \n",
    "        for year_i, year in enumerate(years):\n",
    "        \n",
    "            filtered_df = cmdf[(cmdf.category == category) & (cmdf.year == year)]\n",
    "                    \n",
    "            current_bar = go.Bar(\n",
    "                x=filtered_df['code'],\n",
    "                y=filtered_df[indicator],\n",
    "                name=str(year),\n",
    "                text=get_ind_unit(indicator),\n",
    "                opacity=0.8,\n",
    "                marker=dict(color=colors[year_i]),\n",
    "                visible=visible\n",
    "            )\n",
    "            \n",
    "            data.append(current_bar)\n",
    "            \n",
    "def get_visible_list(category, indicator):\n",
    "    category_map = dict(A=0, B=1, C=2, D=3)\n",
    "    indicator_map = dict(ind23=0, ind27=1, ind28=2)\n",
    "    \n",
    "    cat_offset = category_map[category]\n",
    "    ind_offset = indicator_map[indicator]\n",
    "    \n",
    "    offset = (cat_offset * 3) + ind_offset\n",
    "    \n",
    "    base_array = [0 for i in range(12)]\n",
    "    base_array[offset] = 1\n",
    "    \n",
    "    big_true = [True for i in range(4)]\n",
    "    big_false = [False for i in range(4)]\n",
    "    \n",
    "    nested_array = [big_true if x == 1 else big_false for x in base_array]\n",
    "    \n",
    "    return [x for l in nested_array for x in l]\n",
    "\n",
    "def make_x_axis(category):\n",
    "    return dict(\n",
    "        title=f'EPSAs Categoría {category}',\n",
    "        titlefont=dict(\n",
    "            family='Courier New, monospace',\n",
    "            size=18,\n",
    "            color='#7f7f7f'\n",
    "        )\n",
    "    )\n",
    "\n",
    "def make_y_axis(ind_code):\n",
    "    return dict(\n",
    "        title=f'Unidad: {get_ind_unit(ind_code)}',\n",
    "        titlefont=dict(\n",
    "            family='Courier New, monospace',\n",
    "            size=18,\n",
    "            color='#7f7f7f'\n",
    "        )\n",
    "    )\n",
    "\n",
    "def make_title(ind_code):\n",
    "    ind_name = get_ind_name(ind_code)\n",
    "    ind_unit = get_ind_unit(ind_code)\n",
    "    ind_param = '(Parámetro óptimo: 65-75%)' if ind_code == 'ind23' else ''\n",
    "    return f'Indicador {ind_code[3:]}: {ind_name} ({ind_unit}) {ind_param}'\n",
    "    \n",
    "\n",
    "def make_shapes(ind_code):\n",
    "    \n",
    "    special_shapes = [dict(\n",
    "        type= 'rect',\n",
    "        xref= 'paper',\n",
    "        yref= 'y',\n",
    "        x0= 0,\n",
    "        y0= 65,\n",
    "        x1=1,\n",
    "        y1= 75,\n",
    "        fillcolor= colors[0],\n",
    "        opacity= 0.2,\n",
    "        line= {'width': 0,}\n",
    "    )]\n",
    "    \n",
    "    return special_shapes if ind_code == 'ind23' else []\n",
    "\n",
    "    \n",
    "drop_x_map = dict(\n",
    "    ind23=0,\n",
    "    ind27=0.3,\n",
    "    ind28=0.6,\n",
    ")\n",
    "\n",
    "updatemenus = [dict(\n",
    "    active=0,\n",
    "    xanchor='left',\n",
    "    yanchor='top',\n",
    "    direction='up',\n",
    "    x= drop_x_map[ind],\n",
    "    y= -0.25,\n",
    "    buttons = [dict(\n",
    "        label=f'Indicador {ind[3:]} - categoría {cat}',\n",
    "        method='update', # modify both data and layout\n",
    "        args = [\n",
    "            {'visible': get_visible_list(cat, ind)}, # data modification\n",
    "            # layout modification\n",
    "            dict(\n",
    "                title= make_title(ind),\n",
    "                xaxis= make_x_axis(cat),\n",
    "                yaxis= make_y_axis(ind),\n",
    "                shapes= make_shapes(ind),\n",
    "            ),\n",
    "        ],\n",
    "    ) for cat in categories]\n",
    ") for ind in selected_inds]\n",
    "\n",
    "layout = go.Layout(\n",
    "    title= make_title(default_ind),\n",
    "    xaxis= make_x_axis(default_cat),\n",
    "    yaxis= make_y_axis(default_ind),\n",
    "    shapes=make_shapes(default_ind),\n",
    "    updatemenus = updatemenus,\n",
    ")\n",
    "\n",
    "fig2 = go.Figure(data=data, layout=layout)"
   ]
  },
  {
   "cell_type": "code",
   "execution_count": 8,
   "metadata": {
    "slideshow": {
     "slide_type": "slide"
    }
   },
   "outputs": [
    {
     "data": {
      "application/vnd.plotly.v1+json": {
       "data": [
        {
         "marker": {
          "color": "#1f77b4"
         },
         "name": "2014",
         "opacity": 0.8,
         "text": "%",
         "type": "bar",
         "uid": "a4ee21b8-cc9b-11e8-a928-f0761c9f65e1",
         "visible": true,
         "x": [
          "EPSAS",
          "SAGUAPAC",
          "SEMAPA"
         ],
         "y": [
          71.3,
          72.72,
          66.79
         ]
        },
        {
         "marker": {
          "color": "#ff7f0e"
         },
         "name": "2015",
         "opacity": 0.8,
         "text": "%",
         "type": "bar",
         "uid": "a4ee21b9-cc9b-11e8-a3f4-f0761c9f65e1",
         "visible": true,
         "x": [
          "EPSAS",
          "SAGUAPAC",
          "SEMAPA"
         ],
         "y": [
          71.71,
          75.42,
          60.08
         ]
        },
        {
         "marker": {
          "color": "#2ca02c"
         },
         "name": "2016",
         "opacity": 0.8,
         "text": "%",
         "type": "bar",
         "uid": "a4ee21ba-cc9b-11e8-a746-f0761c9f65e1",
         "visible": true,
         "x": [
          "EPSAS",
          "SAGUAPAC",
          "SEMAPA"
         ],
         "y": [
          67.95,
          73.69,
          68.03
         ]
        },
        {
         "marker": {
          "color": "#d62728"
         },
         "name": "2017",
         "opacity": 0.8,
         "text": "%",
         "type": "bar",
         "uid": "a4ee21bb-cc9b-11e8-8f83-f0761c9f65e1",
         "visible": true,
         "x": [
          "EPSAS",
          "SAGUAPAC",
          "SEMAPA"
         ],
         "y": [
          67.94,
          69.86,
          73.72
         ]
        },
        {
         "marker": {
          "color": "#1f77b4"
         },
         "name": "2014",
         "opacity": 0.8,
         "text": "%CUO(Bs.)",
         "type": "bar",
         "uid": "a4ee21bc-cc9b-11e8-95e4-f0761c9f65e1",
         "visible": false,
         "x": [
          "EPSAS",
          "SAGUAPAC",
          "SEMAPA"
         ],
         "y": [
          5.2,
          5.47,
          8.29
         ]
        },
        {
         "marker": {
          "color": "#ff7f0e"
         },
         "name": "2015",
         "opacity": 0.8,
         "text": "%CUO(Bs.)",
         "type": "bar",
         "uid": "a4ee21bd-cc9b-11e8-aa8e-f0761c9f65e1",
         "visible": false,
         "x": [
          "EPSAS",
          "SAGUAPAC",
          "SEMAPA"
         ],
         "y": [
          5.22,
          5.49,
          8.09
         ]
        },
        {
         "marker": {
          "color": "#2ca02c"
         },
         "name": "2016",
         "opacity": 0.8,
         "text": "%CUO(Bs.)",
         "type": "bar",
         "uid": "a4ee21be-cc9b-11e8-9e45-f0761c9f65e1",
         "visible": false,
         "x": [
          "EPSAS",
          "SAGUAPAC",
          "SEMAPA"
         ],
         "y": [
          5.61,
          5.53,
          9.63
         ]
        },
        {
         "marker": {
          "color": "#d62728"
         },
         "name": "2017",
         "opacity": 0.8,
         "text": "%CUO(Bs.)",
         "type": "bar",
         "uid": "a4ee21bf-cc9b-11e8-83be-f0761c9f65e1",
         "visible": false,
         "x": [
          "EPSAS",
          "SAGUAPAC",
          "SEMAPA"
         ],
         "y": [
          5.58,
          5.67,
          10.36
         ]
        },
        {
         "marker": {
          "color": "#1f77b4"
         },
         "name": "2014",
         "opacity": 0.8,
         "text": "%TM(Bs.)",
         "type": "bar",
         "uid": "a4ee21c0-cc9b-11e8-b719-f0761c9f65e1",
         "visible": false,
         "x": [
          "EPSAS",
          "SAGUAPAC",
          "SEMAPA"
         ],
         "y": [
          4.43,
          5.38,
          10.16
         ]
        },
        {
         "marker": {
          "color": "#ff7f0e"
         },
         "name": "2015",
         "opacity": 0.8,
         "text": "%TM(Bs.)",
         "type": "bar",
         "uid": "a4ee21c1-cc9b-11e8-a8d3-f0761c9f65e1",
         "visible": false,
         "x": [
          "EPSAS",
          "SAGUAPAC",
          "SEMAPA"
         ],
         "y": [
          4.47,
          5.52,
          9.84
         ]
        },
        {
         "marker": {
          "color": "#2ca02c"
         },
         "name": "2016",
         "opacity": 0.8,
         "text": "%TM(Bs.)",
         "type": "bar",
         "uid": "a4ee21c2-cc9b-11e8-9025-f0761c9f65e1",
         "visible": false,
         "x": [
          "EPSAS",
          "SAGUAPAC",
          "SEMAPA"
         ],
         "y": [
          4.59,
          5.43,
          12.85
         ]
        },
        {
         "marker": {
          "color": "#d62728"
         },
         "name": "2017",
         "opacity": 0.8,
         "text": "%TM(Bs.)",
         "type": "bar",
         "uid": "a4ee21c3-cc9b-11e8-ae86-f0761c9f65e1",
         "visible": false,
         "x": [
          "EPSAS",
          "SAGUAPAC",
          "SEMAPA"
         ],
         "y": [
          4.75,
          5.45,
          15.03
         ]
        },
        {
         "marker": {
          "color": "#1f77b4"
         },
         "name": "2014",
         "opacity": 0.8,
         "text": "%",
         "type": "bar",
         "uid": "a4ee21c4-cc9b-11e8-bf4e-f0761c9f65e1",
         "visible": false,
         "x": [
          "AAPOS",
          "BUSTILLO",
          "CAPAG",
          "COATRI",
          "COOPAGUAS",
          "COOPAPPI",
          "COOPLAN",
          "COSAALT",
          "COSMOL",
          "COSPAIL",
          "ELAPAS",
          "EMAPAS",
          "EMAPAV",
          "EMAPYC",
          "EPSA COBIJA",
          "MANCHACO",
          "SAJUBA",
          "SELA"
         ],
         "y": [
          80.2,
          128.59,
          107.06,
          124.84,
          96.42,
          90.36,
          90.81,
          80.61,
          111.92,
          80.81,
          80.28,
          110.95,
          87.91,
          86.17,
          125.61,
          118.16,
          74.24,
          68.34
         ]
        },
        {
         "marker": {
          "color": "#ff7f0e"
         },
         "name": "2015",
         "opacity": 0.8,
         "text": "%",
         "type": "bar",
         "uid": "a4ee21c5-cc9b-11e8-a01d-f0761c9f65e1",
         "visible": false,
         "x": [
          "AAPOS",
          "BUSTILLO",
          "CAPAG",
          "COATRI",
          "COOPAGUAS",
          "COOPAPPI",
          "COOPLAN",
          "COSAALT",
          "COSMOL",
          "COSPAIL",
          "ELAPAS",
          "EMAPAS",
          "EMAPAV",
          "EMAPYC",
          "EPSA COBIJA",
          "MANCHACO",
          "SAJUBA",
          "SELA"
         ],
         "y": [
          80.32,
          121.9,
          96.63,
          115.03,
          98.86,
          99.91,
          95.05,
          87.49,
          112.93,
          90.76,
          76.68,
          133.05,
          87.96,
          92.33,
          158.52,
          104.66,
          104.28,
          69.27
         ]
        },
        {
         "marker": {
          "color": "#2ca02c"
         },
         "name": "2016",
         "opacity": 0.8,
         "text": "%",
         "type": "bar",
         "uid": "a4ee21c6-cc9b-11e8-9e1a-f0761c9f65e1",
         "visible": false,
         "x": [
          "AAPOS",
          "BUSTILLO",
          "CAPAG",
          "COATRI",
          "COOPAGUAS",
          "COOPAPPI",
          "COOPLAN",
          "COSAALT",
          "COSMOL",
          "COSPAIL",
          "ELAPAS",
          "EMAPAS",
          "EMAPAV",
          "EMAPYC",
          "EPSA COBIJA",
          "MANCHACO",
          "SAJUBA",
          "SELA"
         ],
         "y": [
          117.44,
          123.54,
          104.9,
          118.34,
          105.7,
          120.19,
          97.59,
          93.62,
          100,
          94.11,
          69.55,
          197.91,
          99.68,
          102.85,
          118.67,
          146.67,
          104.66,
          69.03
         ]
        },
        {
         "marker": {
          "color": "#d62728"
         },
         "name": "2017",
         "opacity": 0.8,
         "text": "%",
         "type": "bar",
         "uid": "a4ee21c7-cc9b-11e8-b559-f0761c9f65e1",
         "visible": false,
         "x": [
          "AAPOS",
          "BUSTILLO",
          "CAPAG",
          "COATRI",
          "COOPAGUAS",
          "COOPAPPI",
          "COOPLAN",
          "COSAALT",
          "COSMOL",
          "COSPAIL",
          "ELAPAS",
          "EMAPAS",
          "EMAPAV",
          "EMAPYC",
          "EPSA COBIJA",
          "MANCHACO",
          "SAJUBA",
          "SELA"
         ],
         "y": [
          98.2,
          93.29,
          104.26,
          124.9,
          100.35,
          101.12,
          102.94,
          83.34,
          99.55,
          96.38,
          70.93,
          90.9,
          107.7,
          101.88,
          110.88,
          117.76,
          98.14,
          74.56
         ]
        },
        {
         "marker": {
          "color": "#1f77b4"
         },
         "name": "2014",
         "opacity": 0.8,
         "text": "%CUO(Bs.)",
         "type": "bar",
         "uid": "a4ee21c8-cc9b-11e8-a3e0-f0761c9f65e1",
         "visible": false,
         "x": [
          "AAPOS",
          "BUSTILLO",
          "CAPAG",
          "COATRI",
          "COOPAGUAS",
          "COOPAPPI",
          "COOPLAN",
          "COSAALT",
          "COSMOL",
          "COSPAIL",
          "ELAPAS",
          "EMAPAS",
          "EMAPAV",
          "EMAPYC",
          "EPSA COBIJA",
          "MANCHACO",
          "SAJUBA",
          "SELA"
         ],
         "y": [
          3.09,
          null,
          2.84,
          4.52,
          3.32,
          2.69,
          3.34,
          3.26,
          3.37,
          3.37,
          5.48,
          6.89,
          2.38,
          5.84,
          2.16,
          2.22,
          2.36,
          4.38
         ]
        },
        {
         "marker": {
          "color": "#ff7f0e"
         },
         "name": "2015",
         "opacity": 0.8,
         "text": "%CUO(Bs.)",
         "type": "bar",
         "uid": "a4ee21c9-cc9b-11e8-b087-f0761c9f65e1",
         "visible": false,
         "x": [
          "AAPOS",
          "BUSTILLO",
          "CAPAG",
          "COATRI",
          "COOPAGUAS",
          "COOPAPPI",
          "COOPLAN",
          "COSAALT",
          "COSMOL",
          "COSPAIL",
          "ELAPAS",
          "EMAPAS",
          "EMAPAV",
          "EMAPYC",
          "EPSA COBIJA",
          "MANCHACO",
          "SAJUBA",
          "SELA"
         ],
         "y": [
          2.73,
          null,
          2.85,
          5.28,
          3.34,
          2.48,
          2.95,
          3.75,
          3.38,
          3.58,
          5.67,
          null,
          2.05,
          5.74,
          null,
          1.35,
          2.23,
          4.59
         ]
        },
        {
         "marker": {
          "color": "#2ca02c"
         },
         "name": "2016",
         "opacity": 0.8,
         "text": "%CUO(Bs.)",
         "type": "bar",
         "uid": "a4ee21ca-cc9b-11e8-860f-f0761c9f65e1",
         "visible": false,
         "x": [
          "AAPOS",
          "BUSTILLO",
          "CAPAG",
          "COATRI",
          "COOPAGUAS",
          "COOPAPPI",
          "COOPLAN",
          "COSAALT",
          "COSMOL",
          "COSPAIL",
          "ELAPAS",
          "EMAPAS",
          "EMAPAV",
          "EMAPYC",
          "EPSA COBIJA",
          "MANCHACO",
          "SAJUBA",
          "SELA"
         ],
         "y": [
          2.69,
          1.1,
          2.4,
          5.83,
          3.18,
          null,
          2.65,
          3.73,
          3.27,
          3.66,
          5.81,
          null,
          2.27,
          5.23,
          1.59,
          1.22,
          2.3,
          4.67
         ]
        },
        {
         "marker": {
          "color": "#d62728"
         },
         "name": "2017",
         "opacity": 0.8,
         "text": "%CUO(Bs.)",
         "type": "bar",
         "uid": "a4ee21cb-cc9b-11e8-a3b2-f0761c9f65e1",
         "visible": false,
         "x": [
          "AAPOS",
          "BUSTILLO",
          "CAPAG",
          "COATRI",
          "COOPAGUAS",
          "COOPAPPI",
          "COOPLAN",
          "COSAALT",
          "COSMOL",
          "COSPAIL",
          "ELAPAS",
          "EMAPAS",
          "EMAPAV",
          "EMAPYC",
          "EPSA COBIJA",
          "MANCHACO",
          "SAJUBA",
          "SELA"
         ],
         "y": [
          3.58,
          1.07,
          2.44,
          5.75,
          3.67,
          2.3,
          2.96,
          3.65,
          3.43,
          3.82,
          5.92,
          3.87,
          2.39,
          5.95,
          1.82,
          1.92,
          2.24,
          4.77
         ]
        },
        {
         "marker": {
          "color": "#1f77b4"
         },
         "name": "2014",
         "opacity": 0.8,
         "text": "%TM(Bs.)",
         "type": "bar",
         "uid": "a4ee21cc-cc9b-11e8-8580-f0761c9f65e1",
         "visible": false,
         "x": [
          "AAPOS",
          "BUSTILLO",
          "CAPAG",
          "COATRI",
          "COOPAGUAS",
          "COOPAPPI",
          "COOPLAN",
          "COSAALT",
          "COSMOL",
          "COSPAIL",
          "ELAPAS",
          "EMAPAS",
          "EMAPAV",
          "EMAPYC",
          "EPSA COBIJA",
          "MANCHACO",
          "SAJUBA",
          "SELA"
         ],
         "y": [
          2.91,
          null,
          3.76,
          7.86,
          3.56,
          4.3,
          3.08,
          3.2,
          5.03,
          3.05,
          6.68,
          8.88,
          2.27,
          6.92,
          2.74,
          4.46,
          2.39,
          3.38
         ]
        },
        {
         "marker": {
          "color": "#ff7f0e"
         },
         "name": "2015",
         "opacity": 0.8,
         "text": "%TM(Bs.)",
         "type": "bar",
         "uid": "a4ee21cd-cc9b-11e8-ba97-f0761c9f65e1",
         "visible": false,
         "x": [
          "AAPOS",
          "BUSTILLO",
          "CAPAG",
          "COATRI",
          "COOPAGUAS",
          "COOPAPPI",
          "COOPLAN",
          "COSAALT",
          "COSMOL",
          "COSPAIL",
          "ELAPAS",
          "EMAPAS",
          "EMAPAV",
          "EMAPYC",
          "EPSA COBIJA",
          "MANCHACO",
          "SAJUBA",
          "SELA"
         ],
         "y": [
          2.87,
          null,
          3.43,
          8.69,
          3.67,
          3.9,
          3.39,
          3.98,
          4.84,
          3.66,
          7.15,
          null,
          2.35,
          7.76,
          null,
          3.05,
          3.01,
          5.16
         ]
        },
        {
         "marker": {
          "color": "#2ca02c"
         },
         "name": "2016",
         "opacity": 0.8,
         "text": "%TM(Bs.)",
         "type": "bar",
         "uid": "a4ee21ce-cc9b-11e8-beb4-f0761c9f65e1",
         "visible": false,
         "x": [
          "AAPOS",
          "BUSTILLO",
          "CAPAG",
          "COATRI",
          "COOPAGUAS",
          "COOPAPPI",
          "COOPLAN",
          "COSAALT",
          "COSMOL",
          "COSPAIL",
          "ELAPAS",
          "EMAPAS",
          "EMAPAV",
          "EMAPYC",
          "EPSA COBIJA",
          "MANCHACO",
          "SAJUBA",
          "SELA"
         ],
         "y": [
          4.07,
          2.17,
          3.52,
          9.08,
          4.17,
          null,
          3.39,
          3.85,
          4.67,
          3.9,
          6.7,
          null,
          3.12,
          7.9,
          2.22,
          3.8,
          3,
          5.02
         ]
        },
        {
         "marker": {
          "color": "#d62728"
         },
         "name": "2017",
         "opacity": 0.8,
         "text": "%TM(Bs.)",
         "type": "bar",
         "uid": "a4ee21cf-cc9b-11e8-8726-f0761c9f65e1",
         "visible": false,
         "x": [
          "AAPOS",
          "BUSTILLO",
          "CAPAG",
          "COATRI",
          "COOPAGUAS",
          "COOPAPPI",
          "COOPLAN",
          "COSAALT",
          "COSMOL",
          "COSPAIL",
          "ELAPAS",
          "EMAPAS",
          "EMAPAV",
          "EMAPYC",
          "EPSA COBIJA",
          "MANCHACO",
          "SAJUBA",
          "SELA"
         ],
         "y": [
          4.64,
          2.19,
          3.34,
          9.74,
          4.23,
          2.58,
          3.65,
          4.06,
          4.73,
          4.16,
          6.9,
          7.29,
          3.43,
          8.21,
          2.39,
          4.4,
          2.93,
          5.3
         ]
        },
        {
         "marker": {
          "color": "#1f77b4"
         },
         "name": "2014",
         "opacity": 0.8,
         "text": "%",
         "type": "bar",
         "uid": "a4ee21d0-cc9b-11e8-b919-f0761c9f65e1",
         "visible": false,
         "x": [
          "CAPU",
          "COMAYO",
          "COOPAGUAB",
          "COOPLIM",
          "COOSIV",
          "COOSPELCAR",
          "COSAJU",
          "COSAP",
          "COSAPAC",
          "COSAPSI",
          "COSCHAL",
          "COSEPA",
          "COSEPA",
          "COSIMBO",
          "COSMIN",
          "COSMON",
          "COSPHUL",
          "COSPUGEBUL",
          "EMAAB",
          "EMAPA",
          "EMPSAAT",
          "EMSABAV",
          "FLORIDA",
          "LA GUARDIA",
          "LA PORTEÑA",
          "SAMAPAR",
          "SEAPAS"
         ],
         "y": [
          90.4,
          null,
          93.3,
          93.64,
          97.69,
          88.32,
          74.27,
          98.29,
          125.56,
          106.23,
          100.18,
          null,
          81.11,
          null,
          85.74,
          88.57,
          97.9,
          104.67,
          176.06,
          120.88,
          93.27,
          92.85,
          95,
          94.92,
          105.41,
          103.28,
          98.63
         ]
        },
        {
         "marker": {
          "color": "#ff7f0e"
         },
         "name": "2015",
         "opacity": 0.8,
         "text": "%",
         "type": "bar",
         "uid": "a4ee21d1-cc9b-11e8-944f-f0761c9f65e1",
         "visible": false,
         "x": [
          "CAPU",
          "COMAYO",
          "COOPAGUAB",
          "COOPLIM",
          "COOSIV",
          "COOSPELCAR",
          "COSAJU",
          "COSAP",
          "COSAPAC",
          "COSAPSI",
          "COSCHAL",
          "COSEPA",
          "COSEPA",
          "COSIMBO",
          "COSMIN",
          "COSMON",
          "COSPHUL",
          "COSPUGEBUL",
          "EMAAB",
          "EMAPA",
          "EMPSAAT",
          "EMSABAV",
          "FLORIDA",
          "LA GUARDIA",
          "LA PORTEÑA",
          "SAMAPAR",
          "SEAPAS"
         ],
         "y": [
          91.9,
          83.74,
          94.97,
          87.38,
          103.66,
          111.8,
          80.18,
          94.5,
          93.14,
          98.73,
          104.14,
          112.24,
          105.78,
          74.06,
          110.87,
          83.28,
          93.68,
          93.47,
          148.01,
          101,
          95.63,
          93.46,
          102.64,
          95.98,
          110.09,
          99.59,
          83.64
         ]
        },
        {
         "marker": {
          "color": "#2ca02c"
         },
         "name": "2016",
         "opacity": 0.8,
         "text": "%",
         "type": "bar",
         "uid": "a4ee21d2-cc9b-11e8-905b-f0761c9f65e1",
         "visible": false,
         "x": [
          "CAPU",
          "COMAYO",
          "COOPAGUAB",
          "COOPLIM",
          "COOSIV",
          "COOSPELCAR",
          "COSAJU",
          "COSAP",
          "COSAPAC",
          "COSAPSI",
          "COSCHAL",
          "COSEPA",
          "COSEPA",
          "COSEPCO",
          "COSEPUR",
          "COSIMBO",
          "COSMIN",
          "COSMON",
          "COSPHUL",
          "COSPUGEBUL",
          "EMAAB",
          "EMAPA",
          "EMPSAAT",
          "EMSABAV",
          "FLORIDA",
          "LA GUARDIA",
          "LA PORTEÑA",
          "SAMAPAR",
          "SEAPAS",
          "SMAPA"
         ],
         "y": [
          84.72,
          93.38,
          89.52,
          79.44,
          154.63,
          97.06,
          81.87,
          93.32,
          90.39,
          95.1,
          95.9,
          107.42,
          104.61,
          120.1,
          108.98,
          143.36,
          107.82,
          79.56,
          91.86,
          99.4,
          129.66,
          113.25,
          87.39,
          87.99,
          84.16,
          91.29,
          114.94,
          89.34,
          77.35,
          null
         ]
        },
        {
         "marker": {
          "color": "#d62728"
         },
         "name": "2017",
         "opacity": 0.8,
         "text": "%",
         "type": "bar",
         "uid": "a4ee21d3-cc9b-11e8-858f-f0761c9f65e1",
         "visible": false,
         "x": [
          "6 DE OCTUBRE",
          "CAPU",
          "COAPASB",
          "COMAYO",
          "COOPAGUAB",
          "COOPLIM",
          "COOSIV",
          "COOSPELCAR",
          "COSAJU",
          "COSAP",
          "COSAPAC",
          "COSAPSI",
          "COSCHAL",
          "COSEPCO",
          "COSEPUR",
          "COSFAL",
          "COSIMBO",
          "COSMIN",
          "COSMON",
          "COSPAS",
          "COSPHUL",
          "COSPOL",
          "COSPUGEBUL",
          "EMAAB",
          "EMAPA",
          "EMPSAAT",
          "EMSABAV",
          "FLORIDA",
          "LA GUARDIA",
          "LA PORTEÑA",
          "SAMAPAR",
          "SEAPAS",
          "SEMAPAR",
          "SMAPA"
         ],
         "y": [
          107.46,
          87.12,
          null,
          89.88,
          94.67,
          82.69,
          145.6,
          105.87,
          86.95,
          93.98,
          107.23,
          102.55,
          92.01,
          103.32,
          99.23,
          67.65,
          123.16,
          84.92,
          79.82,
          96.66,
          90.43,
          89.45,
          79.74,
          118.1,
          99.96,
          107.94,
          87.35,
          104.31,
          101.33,
          108.19,
          83.68,
          82.01,
          138.9,
          146.26
         ]
        },
        {
         "marker": {
          "color": "#1f77b4"
         },
         "name": "2014",
         "opacity": 0.8,
         "text": "%CUO(Bs.)",
         "type": "bar",
         "uid": "a4ee21d4-cc9b-11e8-b5d2-f0761c9f65e1",
         "visible": false,
         "x": [
          "CAPU",
          "COMAYO",
          "COOPAGUAB",
          "COOPLIM",
          "COOSIV",
          "COOSPELCAR",
          "COSAJU",
          "COSAP",
          "COSAPAC",
          "COSAPSI",
          "COSCHAL",
          "COSEPA",
          "COSEPA",
          "COSIMBO",
          "COSMIN",
          "COSMON",
          "COSPHUL",
          "COSPUGEBUL",
          "EMAAB",
          "EMAPA",
          "EMPSAAT",
          "EMSABAV",
          "FLORIDA",
          "LA GUARDIA",
          "LA PORTEÑA",
          "SAMAPAR",
          "SEAPAS"
         ],
         "y": [
          5.75,
          null,
          2.28,
          3.28,
          1.79,
          2.37,
          null,
          2.8,
          null,
          1.47,
          3.35,
          null,
          3.62,
          null,
          2.24,
          3.76,
          5.27,
          2.98,
          1.14,
          null,
          2.53,
          null,
          null,
          2.37,
          null,
          null,
          2.66
         ]
        },
        {
         "marker": {
          "color": "#ff7f0e"
         },
         "name": "2015",
         "opacity": 0.8,
         "text": "%CUO(Bs.)",
         "type": "bar",
         "uid": "a4ee21d5-cc9b-11e8-a14b-f0761c9f65e1",
         "visible": false,
         "x": [
          "CAPU",
          "COMAYO",
          "COOPAGUAB",
          "COOPLIM",
          "COOSIV",
          "COOSPELCAR",
          "COSAJU",
          "COSAP",
          "COSAPAC",
          "COSAPSI",
          "COSCHAL",
          "COSEPA",
          "COSEPA",
          "COSIMBO",
          "COSMIN",
          "COSMON",
          "COSPHUL",
          "COSPUGEBUL",
          "EMAAB",
          "EMAPA",
          "EMPSAAT",
          "EMSABAV",
          "FLORIDA",
          "LA GUARDIA",
          "LA PORTEÑA",
          "SAMAPAR",
          "SEAPAS"
         ],
         "y": [
          2.84,
          null,
          2.78,
          3.28,
          1.93,
          2.41,
          2.79,
          3.35,
          null,
          null,
          3.5,
          null,
          3.04,
          7.26,
          2.42,
          4.2,
          5.75,
          3.45,
          0.9,
          2.16,
          2.52,
          null,
          2.37,
          2.85,
          4.59,
          1.58,
          2.98
         ]
        },
        {
         "marker": {
          "color": "#2ca02c"
         },
         "name": "2016",
         "opacity": 0.8,
         "text": "%CUO(Bs.)",
         "type": "bar",
         "uid": "a4ee21d6-cc9b-11e8-90b8-f0761c9f65e1",
         "visible": false,
         "x": [
          "CAPU",
          "COMAYO",
          "COOPAGUAB",
          "COOPLIM",
          "COOSIV",
          "COOSPELCAR",
          "COSAJU",
          "COSAP",
          "COSAPAC",
          "COSAPSI",
          "COSCHAL",
          "COSEPA",
          "COSEPA",
          "COSEPCO",
          "COSEPUR",
          "COSIMBO",
          "COSMIN",
          "COSMON",
          "COSPHUL",
          "COSPUGEBUL",
          "EMAAB",
          "EMAPA",
          "EMPSAAT",
          "EMSABAV",
          "FLORIDA",
          "LA GUARDIA",
          "LA PORTEÑA",
          "SAMAPAR",
          "SEAPAS",
          "SMAPA"
         ],
         "y": [
          0.59,
          3.12,
          2.76,
          3.39,
          1.9,
          2.44,
          2.83,
          3.02,
          null,
          2.05,
          3.81,
          2.86,
          2.81,
          null,
          1.98,
          2.58,
          2.47,
          4.52,
          5.47,
          2.58,
          0.99,
          1.78,
          2.58,
          1.67,
          2.57,
          3.45,
          4.61,
          1.57,
          3.15,
          null
         ]
        },
        {
         "marker": {
          "color": "#d62728"
         },
         "name": "2017",
         "opacity": 0.8,
         "text": "%CUO(Bs.)",
         "type": "bar",
         "uid": "a4ee21d7-cc9b-11e8-841b-f0761c9f65e1",
         "visible": false,
         "x": [
          "6 DE OCTUBRE",
          "CAPU",
          "COAPASB",
          "COMAYO",
          "COOPAGUAB",
          "COOPLIM",
          "COOSIV",
          "COOSPELCAR",
          "COSAJU",
          "COSAP",
          "COSAPAC",
          "COSAPSI",
          "COSCHAL",
          "COSEPCO",
          "COSEPUR",
          "COSFAL",
          "COSIMBO",
          "COSMIN",
          "COSMON",
          "COSPAS",
          "COSPHUL",
          "COSPOL",
          "COSPUGEBUL",
          "EMAAB",
          "EMAPA",
          "EMPSAAT",
          "EMSABAV",
          "FLORIDA",
          "LA GUARDIA",
          "LA PORTEÑA",
          "SAMAPAR",
          "SEAPAS",
          "SEMAPAR",
          "SMAPA"
         ],
         "y": [
          3.23,
          2.72,
          null,
          3.74,
          2.77,
          3.55,
          1.92,
          2.52,
          2.86,
          3.1,
          0.3,
          2.04,
          3.76,
          6.06,
          1.82,
          2.64,
          2.64,
          2.7,
          4.73,
          6.47,
          5.23,
          2.99,
          3.1,
          0.96,
          1.95,
          2.65,
          3.03,
          2.35,
          3.53,
          4.14,
          1.59,
          3.27,
          4.37,
          null
         ]
        },
        {
         "marker": {
          "color": "#1f77b4"
         },
         "name": "2014",
         "opacity": 0.8,
         "text": "%TM(Bs.)",
         "type": "bar",
         "uid": "a4ee21d8-cc9b-11e8-b642-f0761c9f65e1",
         "visible": false,
         "x": [
          "CAPU",
          "COMAYO",
          "COOPAGUAB",
          "COOPLIM",
          "COOSIV",
          "COOSPELCAR",
          "COSAJU",
          "COSAP",
          "COSAPAC",
          "COSAPSI",
          "COSCHAL",
          "COSEPA",
          "COSEPA",
          "COSIMBO",
          "COSMIN",
          "COSMON",
          "COSPHUL",
          "COSPUGEBUL",
          "EMAAB",
          "EMAPA",
          "EMPSAAT",
          "EMSABAV",
          "FLORIDA",
          "LA GUARDIA",
          "LA PORTEÑA",
          "SAMAPAR",
          "SEAPAS"
         ],
         "y": [
          6.45,
          null,
          4.53,
          4.85,
          3.41,
          2.67,
          null,
          3.3,
          null,
          2.23,
          4.29,
          null,
          3.76,
          null,
          3.67,
          4.92,
          5.76,
          5.3,
          2.05,
          null,
          2.82,
          null,
          null,
          3.59,
          null,
          null,
          3.57
         ]
        },
        {
         "marker": {
          "color": "#ff7f0e"
         },
         "name": "2015",
         "opacity": 0.8,
         "text": "%TM(Bs.)",
         "type": "bar",
         "uid": "a4ee21d9-cc9b-11e8-83a7-f0761c9f65e1",
         "visible": false,
         "x": [
          "CAPU",
          "COMAYO",
          "COOPAGUAB",
          "COOPLIM",
          "COOSIV",
          "COOSPELCAR",
          "COSAJU",
          "COSAP",
          "COSAPAC",
          "COSAPSI",
          "COSCHAL",
          "COSEPA",
          "COSEPA",
          "COSIMBO",
          "COSMIN",
          "COSMON",
          "COSPHUL",
          "COSPUGEBUL",
          "EMAAB",
          "EMAPA",
          "EMPSAAT",
          "EMSABAV",
          "FLORIDA",
          "LA GUARDIA",
          "LA PORTEÑA",
          "SAMAPAR",
          "SEAPAS"
         ],
         "y": [
          3.26,
          null,
          5.6,
          4.43,
          3.83,
          3.61,
          3.65,
          3.94,
          null,
          null,
          4.61,
          null,
          4.28,
          7.05,
          4.22,
          5.06,
          5.84,
          5.94,
          1.59,
          2.4,
          2.89,
          null,
          4.12,
          3.7,
          7.03,
          2.27,
          3.3
         ]
        },
        {
         "marker": {
          "color": "#2ca02c"
         },
         "name": "2016",
         "opacity": 0.8,
         "text": "%TM(Bs.)",
         "type": "bar",
         "uid": "a4ee21da-cc9b-11e8-9d24-f0761c9f65e1",
         "visible": false,
         "x": [
          "CAPU",
          "COMAYO",
          "COOPAGUAB",
          "COOPLIM",
          "COOSIV",
          "COOSPELCAR",
          "COSAJU",
          "COSAP",
          "COSAPAC",
          "COSAPSI",
          "COSCHAL",
          "COSEPA",
          "COSEPA",
          "COSEPCO",
          "COSEPUR",
          "COSIMBO",
          "COSMIN",
          "COSMON",
          "COSPHUL",
          "COSPUGEBUL",
          "EMAAB",
          "EMAPA",
          "EMPSAAT",
          "EMSABAV",
          "FLORIDA",
          "LA GUARDIA",
          "LA PORTEÑA",
          "SAMAPAR",
          "SEAPAS",
          "SMAPA"
         ],
         "y": [
          3.17,
          3.49,
          5.25,
          4.3,
          3.69,
          3.45,
          3.8,
          3.91,
          null,
          2.67,
          4.32,
          3.62,
          4.16,
          null,
          2.58,
          6.04,
          4.26,
          5.07,
          6.15,
          3.8,
          1.56,
          2.79,
          2.81,
          2.01,
          3.74,
          4.25,
          7.13,
          2.11,
          3.26,
          null
         ]
        },
        {
         "marker": {
          "color": "#d62728"
         },
         "name": "2017",
         "opacity": 0.8,
         "text": "%TM(Bs.)",
         "type": "bar",
         "uid": "a4ee21db-cc9b-11e8-9a91-f0761c9f65e1",
         "visible": false,
         "x": [
          "6 DE OCTUBRE",
          "CAPU",
          "COAPASB",
          "COMAYO",
          "COOPAGUAB",
          "COOPLIM",
          "COOSIV",
          "COOSPELCAR",
          "COSAJU",
          "COSAP",
          "COSAPAC",
          "COSAPSI",
          "COSCHAL",
          "COSEPCO",
          "COSEPUR",
          "COSFAL",
          "COSIMBO",
          "COSMIN",
          "COSMON",
          "COSPAS",
          "COSPHUL",
          "COSPOL",
          "COSPUGEBUL",
          "EMAAB",
          "EMAPA",
          "EMPSAAT",
          "EMSABAV",
          "FLORIDA",
          "LA GUARDIA",
          "LA PORTEÑA",
          "SAMAPAR",
          "SEAPAS",
          "SEMAPAR",
          "SMAPA"
         ],
         "y": [
          4.24,
          3.46,
          null,
          4.06,
          3.86,
          4.63,
          3.58,
          3.51,
          3.75,
          4.2,
          0.52,
          2.77,
          4.35,
          6.88,
          2.21,
          3.05,
          5.17,
          3.7,
          5.63,
          6.76,
          6.07,
          3.11,
          3.8,
          1.65,
          null,
          3.33,
          3.35,
          3.81,
          4.63,
          5.36,
          2.05,
          3.53,
          11.95,
          null
         ]
        },
        {
         "marker": {
          "color": "#1f77b4"
         },
         "name": "2014",
         "opacity": 0.8,
         "text": "%",
         "type": "bar",
         "uid": "a4ee21dc-cc9b-11e8-af84-f0761c9f65e1",
         "visible": false,
         "x": [
          "CAPSCH",
          "COAPAS VINTO",
          "COOAPASH",
          "COSEPFA",
          "COSEPP",
          "COSERCA",
          "COSSAJA"
         ],
         "y": [
          77.79,
          87.79,
          null,
          null,
          118.95,
          116.37,
          116.05
         ]
        },
        {
         "marker": {
          "color": "#ff7f0e"
         },
         "name": "2015",
         "opacity": 0.8,
         "text": "%",
         "type": "bar",
         "uid": "a4ee21dd-cc9b-11e8-9d39-f0761c9f65e1",
         "visible": false,
         "x": [
          "CAPSCH",
          "COAPAS VINTO",
          "COOAPASH",
          "COSEPFA",
          "COSEPP",
          "COSERCA",
          "COSSAJA"
         ],
         "y": [
          92.24,
          79.89,
          97.7,
          128.28,
          90.79,
          109.93,
          121.83
         ]
        },
        {
         "marker": {
          "color": "#2ca02c"
         },
         "name": "2016",
         "opacity": 0.8,
         "text": "%",
         "type": "bar",
         "uid": "a4ee21de-cc9b-11e8-93c1-f0761c9f65e1",
         "visible": false,
         "x": [
          "ASOAPAL",
          "CAPCHI",
          "CAPSCH",
          "COAPAS VINTO",
          "COLOMI",
          "COOAPASH",
          "COSAJO",
          "COSEPFA",
          "COSEPP",
          "COSERCA",
          "COSSAJA",
          "JASAP",
          "JOROCHITO"
         ],
         "y": [
          112.28,
          96.71,
          80.51,
          100.77,
          57.81,
          65.92,
          122.61,
          121.72,
          80.88,
          82.26,
          104.19,
          99.79,
          112.43
         ]
        },
        {
         "marker": {
          "color": "#d62728"
         },
         "name": "2017",
         "opacity": 0.8,
         "text": "%",
         "type": "bar",
         "uid": "a4ee21df-cc9b-11e8-a0a8-f0761c9f65e1",
         "visible": false,
         "x": [
          "ASOAPAL",
          "CAPCHI",
          "CAPSCH",
          "COAPAS VINTO",
          "COLOMI",
          "COOAPASH",
          "COSEPFA",
          "COSEPP",
          "COSERCA",
          "COSSAJA",
          "JASAP",
          "JOROCHITO"
         ],
         "y": [
          64.01,
          106.2,
          106.32,
          89.26,
          58.98,
          86.32,
          122.06,
          115.63,
          83.21,
          112.06,
          88.45,
          86.05
         ]
        },
        {
         "marker": {
          "color": "#1f77b4"
         },
         "name": "2014",
         "opacity": 0.8,
         "text": "%CUO(Bs.)",
         "type": "bar",
         "uid": "a4ee21e0-cc9b-11e8-ba41-f0761c9f65e1",
         "visible": false,
         "x": [
          "CAPSCH",
          "COAPAS VINTO",
          "COOAPASH",
          "COSEPFA",
          "COSEPP",
          "COSERCA",
          "COSSAJA"
         ],
         "y": [
          1.85,
          3.67,
          null,
          null,
          null,
          null,
          null
         ]
        },
        {
         "marker": {
          "color": "#ff7f0e"
         },
         "name": "2015",
         "opacity": 0.8,
         "text": "%CUO(Bs.)",
         "type": "bar",
         "uid": "a4ee21e1-cc9b-11e8-a622-f0761c9f65e1",
         "visible": false,
         "x": [
          "CAPSCH",
          "COAPAS VINTO",
          "COOAPASH",
          "COSEPFA",
          "COSEPP",
          "COSERCA",
          "COSSAJA"
         ],
         "y": [
          null,
          3.74,
          null,
          0.97,
          2.72,
          1.15,
          3.09
         ]
        },
        {
         "marker": {
          "color": "#2ca02c"
         },
         "name": "2016",
         "opacity": 0.8,
         "text": "%CUO(Bs.)",
         "type": "bar",
         "uid": "a4ee21e2-cc9b-11e8-a89e-f0761c9f65e1",
         "visible": false,
         "x": [
          "ASOAPAL",
          "CAPCHI",
          "CAPSCH",
          "COAPAS VINTO",
          "COLOMI",
          "COOAPASH",
          "COSAJO",
          "COSEPFA",
          "COSEPP",
          "COSERCA",
          "COSSAJA",
          "JASAP",
          "JOROCHITO"
         ],
         "y": [
          1.28,
          2.36,
          null,
          3.79,
          null,
          null,
          3.14,
          2.13,
          2.73,
          1.03,
          3.07,
          null,
          2.32
         ]
        },
        {
         "marker": {
          "color": "#d62728"
         },
         "name": "2017",
         "opacity": 0.8,
         "text": "%CUO(Bs.)",
         "type": "bar",
         "uid": "a4ee21e3-cc9b-11e8-9614-f0761c9f65e1",
         "visible": false,
         "x": [
          "ASOAPAL",
          "CAPCHI",
          "CAPSCH",
          "COAPAS VINTO",
          "COLOMI",
          "COOAPASH",
          "COSEPFA",
          "COSEPP",
          "COSERCA",
          "COSSAJA",
          "JASAP",
          "JOROCHITO"
         ],
         "y": [
          1.68,
          2.55,
          0.94,
          4.17,
          null,
          null,
          2.43,
          2.97,
          1.63,
          3.11,
          null,
          3.57
         ]
        },
        {
         "marker": {
          "color": "#1f77b4"
         },
         "name": "2014",
         "opacity": 0.8,
         "text": "%TM(Bs.)",
         "type": "bar",
         "uid": "a4ee21e4-cc9b-11e8-b19a-f0761c9f65e1",
         "visible": false,
         "x": [
          "CAPSCH",
          "COAPAS VINTO",
          "COOAPASH",
          "COSEPFA",
          "COSEPP",
          "COSERCA",
          "COSSAJA"
         ],
         "y": [
          1.61,
          4.73,
          null,
          null,
          null,
          null,
          null
         ]
        },
        {
         "marker": {
          "color": "#ff7f0e"
         },
         "name": "2015",
         "opacity": 0.8,
         "text": "%TM(Bs.)",
         "type": "bar",
         "uid": "a4ee21e5-cc9b-11e8-8c64-f0761c9f65e1",
         "visible": false,
         "x": [
          "CAPSCH",
          "COAPAS VINTO",
          "COOAPASH",
          "COSEPFA",
          "COSEPP",
          "COSERCA",
          "COSSAJA"
         ],
         "y": [
          null,
          4.76,
          null,
          1.93,
          3.68,
          1.41,
          4.9
         ]
        },
        {
         "marker": {
          "color": "#2ca02c"
         },
         "name": "2016",
         "opacity": 0.8,
         "text": "%TM(Bs.)",
         "type": "bar",
         "uid": "a4ee21e6-cc9b-11e8-befc-f0761c9f65e1",
         "visible": false,
         "x": [
          "ASOAPAL",
          "CAPCHI",
          "CAPSCH",
          "COAPAS VINTO",
          "COLOMI",
          "COOAPASH",
          "COSAJO",
          "COSEPFA",
          "COSEPP",
          "COSERCA",
          "COSSAJA",
          "JASAP",
          "JOROCHITO"
         ],
         "y": [
          2.45,
          3.68,
          null,
          5.37,
          null,
          null,
          6.38,
          3.81,
          3.49,
          0.98,
          4.63,
          null,
          3.65
         ]
        },
        {
         "marker": {
          "color": "#d62728"
         },
         "name": "2017",
         "opacity": 0.8,
         "text": "%TM(Bs.)",
         "type": "bar",
         "uid": "a4ee21e7-cc9b-11e8-95ff-f0761c9f65e1",
         "visible": false,
         "x": [
          "ASOAPAL",
          "CAPCHI",
          "CAPSCH",
          "COAPAS VINTO",
          "COLOMI",
          "COOAPASH",
          "COSEPFA",
          "COSEPP",
          "COSERCA",
          "COSSAJA",
          "JASAP",
          "JOROCHITO"
         ],
         "y": [
          1.67,
          4.17,
          2.03,
          5.23,
          null,
          null,
          4.29,
          5.87,
          1.52,
          4.82,
          null,
          4.59
         ]
        }
       ],
       "layout": {
        "shapes": [
         {
          "fillcolor": "#1f77b4",
          "line": {
           "width": 0
          },
          "opacity": 0.2,
          "type": "rect",
          "x0": 0,
          "x1": 1,
          "xref": "paper",
          "y0": 65,
          "y1": 75,
          "yref": "y"
         }
        ],
        "title": "Indicador 23: Índice de operación eficiente (%) (Parámetro óptimo: 65-75%)",
        "updatemenus": [
         {
          "active": 0,
          "buttons": [
           {
            "args": [
             {
              "visible": [
               true,
               true,
               true,
               true,
               false,
               false,
               false,
               false,
               false,
               false,
               false,
               false,
               false,
               false,
               false,
               false,
               false,
               false,
               false,
               false,
               false,
               false,
               false,
               false,
               false,
               false,
               false,
               false,
               false,
               false,
               false,
               false,
               false,
               false,
               false,
               false,
               false,
               false,
               false,
               false,
               false,
               false,
               false,
               false,
               false,
               false,
               false,
               false
              ]
             },
             {
              "shapes": [
               {
                "fillcolor": "#1f77b4",
                "line": {
                 "width": 0
                },
                "opacity": 0.2,
                "type": "rect",
                "x0": 0,
                "x1": 1,
                "xref": "paper",
                "y0": 65,
                "y1": 75,
                "yref": "y"
               }
              ],
              "title": "Indicador 23: Índice de operación eficiente (%) (Parámetro óptimo: 65-75%)",
              "xaxis": {
               "title": "EPSAs Categoría A",
               "titlefont": {
                "color": "#7f7f7f",
                "family": "Courier New, monospace",
                "size": 18
               }
              },
              "yaxis": {
               "title": "Unidad: %",
               "titlefont": {
                "color": "#7f7f7f",
                "family": "Courier New, monospace",
                "size": 18
               }
              }
             }
            ],
            "label": "Indicador 23 - categoría A",
            "method": "update"
           },
           {
            "args": [
             {
              "visible": [
               false,
               false,
               false,
               false,
               false,
               false,
               false,
               false,
               false,
               false,
               false,
               false,
               true,
               true,
               true,
               true,
               false,
               false,
               false,
               false,
               false,
               false,
               false,
               false,
               false,
               false,
               false,
               false,
               false,
               false,
               false,
               false,
               false,
               false,
               false,
               false,
               false,
               false,
               false,
               false,
               false,
               false,
               false,
               false,
               false,
               false,
               false,
               false
              ]
             },
             {
              "shapes": [
               {
                "fillcolor": "#1f77b4",
                "line": {
                 "width": 0
                },
                "opacity": 0.2,
                "type": "rect",
                "x0": 0,
                "x1": 1,
                "xref": "paper",
                "y0": 65,
                "y1": 75,
                "yref": "y"
               }
              ],
              "title": "Indicador 23: Índice de operación eficiente (%) (Parámetro óptimo: 65-75%)",
              "xaxis": {
               "title": "EPSAs Categoría B",
               "titlefont": {
                "color": "#7f7f7f",
                "family": "Courier New, monospace",
                "size": 18
               }
              },
              "yaxis": {
               "title": "Unidad: %",
               "titlefont": {
                "color": "#7f7f7f",
                "family": "Courier New, monospace",
                "size": 18
               }
              }
             }
            ],
            "label": "Indicador 23 - categoría B",
            "method": "update"
           },
           {
            "args": [
             {
              "visible": [
               false,
               false,
               false,
               false,
               false,
               false,
               false,
               false,
               false,
               false,
               false,
               false,
               false,
               false,
               false,
               false,
               false,
               false,
               false,
               false,
               false,
               false,
               false,
               false,
               true,
               true,
               true,
               true,
               false,
               false,
               false,
               false,
               false,
               false,
               false,
               false,
               false,
               false,
               false,
               false,
               false,
               false,
               false,
               false,
               false,
               false,
               false,
               false
              ]
             },
             {
              "shapes": [
               {
                "fillcolor": "#1f77b4",
                "line": {
                 "width": 0
                },
                "opacity": 0.2,
                "type": "rect",
                "x0": 0,
                "x1": 1,
                "xref": "paper",
                "y0": 65,
                "y1": 75,
                "yref": "y"
               }
              ],
              "title": "Indicador 23: Índice de operación eficiente (%) (Parámetro óptimo: 65-75%)",
              "xaxis": {
               "title": "EPSAs Categoría C",
               "titlefont": {
                "color": "#7f7f7f",
                "family": "Courier New, monospace",
                "size": 18
               }
              },
              "yaxis": {
               "title": "Unidad: %",
               "titlefont": {
                "color": "#7f7f7f",
                "family": "Courier New, monospace",
                "size": 18
               }
              }
             }
            ],
            "label": "Indicador 23 - categoría C",
            "method": "update"
           },
           {
            "args": [
             {
              "visible": [
               false,
               false,
               false,
               false,
               false,
               false,
               false,
               false,
               false,
               false,
               false,
               false,
               false,
               false,
               false,
               false,
               false,
               false,
               false,
               false,
               false,
               false,
               false,
               false,
               false,
               false,
               false,
               false,
               false,
               false,
               false,
               false,
               false,
               false,
               false,
               false,
               true,
               true,
               true,
               true,
               false,
               false,
               false,
               false,
               false,
               false,
               false,
               false
              ]
             },
             {
              "shapes": [
               {
                "fillcolor": "#1f77b4",
                "line": {
                 "width": 0
                },
                "opacity": 0.2,
                "type": "rect",
                "x0": 0,
                "x1": 1,
                "xref": "paper",
                "y0": 65,
                "y1": 75,
                "yref": "y"
               }
              ],
              "title": "Indicador 23: Índice de operación eficiente (%) (Parámetro óptimo: 65-75%)",
              "xaxis": {
               "title": "EPSAs Categoría D",
               "titlefont": {
                "color": "#7f7f7f",
                "family": "Courier New, monospace",
                "size": 18
               }
              },
              "yaxis": {
               "title": "Unidad: %",
               "titlefont": {
                "color": "#7f7f7f",
                "family": "Courier New, monospace",
                "size": 18
               }
              }
             }
            ],
            "label": "Indicador 23 - categoría D",
            "method": "update"
           }
          ],
          "direction": "up",
          "x": 0,
          "xanchor": "left",
          "y": -0.25,
          "yanchor": "top"
         },
         {
          "active": 0,
          "buttons": [
           {
            "args": [
             {
              "visible": [
               false,
               false,
               false,
               false,
               true,
               true,
               true,
               true,
               false,
               false,
               false,
               false,
               false,
               false,
               false,
               false,
               false,
               false,
               false,
               false,
               false,
               false,
               false,
               false,
               false,
               false,
               false,
               false,
               false,
               false,
               false,
               false,
               false,
               false,
               false,
               false,
               false,
               false,
               false,
               false,
               false,
               false,
               false,
               false,
               false,
               false,
               false,
               false
              ]
             },
             {
              "shapes": [],
              "title": "Indicador 27: Tarifa media (%CUO(Bs.)) ",
              "xaxis": {
               "title": "EPSAs Categoría A",
               "titlefont": {
                "color": "#7f7f7f",
                "family": "Courier New, monospace",
                "size": 18
               }
              },
              "yaxis": {
               "title": "Unidad: %CUO(Bs.)",
               "titlefont": {
                "color": "#7f7f7f",
                "family": "Courier New, monospace",
                "size": 18
               }
              }
             }
            ],
            "label": "Indicador 27 - categoría A",
            "method": "update"
           },
           {
            "args": [
             {
              "visible": [
               false,
               false,
               false,
               false,
               false,
               false,
               false,
               false,
               false,
               false,
               false,
               false,
               false,
               false,
               false,
               false,
               true,
               true,
               true,
               true,
               false,
               false,
               false,
               false,
               false,
               false,
               false,
               false,
               false,
               false,
               false,
               false,
               false,
               false,
               false,
               false,
               false,
               false,
               false,
               false,
               false,
               false,
               false,
               false,
               false,
               false,
               false,
               false
              ]
             },
             {
              "shapes": [],
              "title": "Indicador 27: Tarifa media (%CUO(Bs.)) ",
              "xaxis": {
               "title": "EPSAs Categoría B",
               "titlefont": {
                "color": "#7f7f7f",
                "family": "Courier New, monospace",
                "size": 18
               }
              },
              "yaxis": {
               "title": "Unidad: %CUO(Bs.)",
               "titlefont": {
                "color": "#7f7f7f",
                "family": "Courier New, monospace",
                "size": 18
               }
              }
             }
            ],
            "label": "Indicador 27 - categoría B",
            "method": "update"
           },
           {
            "args": [
             {
              "visible": [
               false,
               false,
               false,
               false,
               false,
               false,
               false,
               false,
               false,
               false,
               false,
               false,
               false,
               false,
               false,
               false,
               false,
               false,
               false,
               false,
               false,
               false,
               false,
               false,
               false,
               false,
               false,
               false,
               true,
               true,
               true,
               true,
               false,
               false,
               false,
               false,
               false,
               false,
               false,
               false,
               false,
               false,
               false,
               false,
               false,
               false,
               false,
               false
              ]
             },
             {
              "shapes": [],
              "title": "Indicador 27: Tarifa media (%CUO(Bs.)) ",
              "xaxis": {
               "title": "EPSAs Categoría C",
               "titlefont": {
                "color": "#7f7f7f",
                "family": "Courier New, monospace",
                "size": 18
               }
              },
              "yaxis": {
               "title": "Unidad: %CUO(Bs.)",
               "titlefont": {
                "color": "#7f7f7f",
                "family": "Courier New, monospace",
                "size": 18
               }
              }
             }
            ],
            "label": "Indicador 27 - categoría C",
            "method": "update"
           },
           {
            "args": [
             {
              "visible": [
               false,
               false,
               false,
               false,
               false,
               false,
               false,
               false,
               false,
               false,
               false,
               false,
               false,
               false,
               false,
               false,
               false,
               false,
               false,
               false,
               false,
               false,
               false,
               false,
               false,
               false,
               false,
               false,
               false,
               false,
               false,
               false,
               false,
               false,
               false,
               false,
               false,
               false,
               false,
               false,
               true,
               true,
               true,
               true,
               false,
               false,
               false,
               false
              ]
             },
             {
              "shapes": [],
              "title": "Indicador 27: Tarifa media (%CUO(Bs.)) ",
              "xaxis": {
               "title": "EPSAs Categoría D",
               "titlefont": {
                "color": "#7f7f7f",
                "family": "Courier New, monospace",
                "size": 18
               }
              },
              "yaxis": {
               "title": "Unidad: %CUO(Bs.)",
               "titlefont": {
                "color": "#7f7f7f",
                "family": "Courier New, monospace",
                "size": 18
               }
              }
             }
            ],
            "label": "Indicador 27 - categoría D",
            "method": "update"
           }
          ],
          "direction": "up",
          "x": 0.3,
          "xanchor": "left",
          "y": -0.25,
          "yanchor": "top"
         },
         {
          "active": 0,
          "buttons": [
           {
            "args": [
             {
              "visible": [
               false,
               false,
               false,
               false,
               false,
               false,
               false,
               false,
               true,
               true,
               true,
               true,
               false,
               false,
               false,
               false,
               false,
               false,
               false,
               false,
               false,
               false,
               false,
               false,
               false,
               false,
               false,
               false,
               false,
               false,
               false,
               false,
               false,
               false,
               false,
               false,
               false,
               false,
               false,
               false,
               false,
               false,
               false,
               false,
               false,
               false,
               false,
               false
              ]
             },
             {
              "shapes": [],
              "title": "Indicador 28: Costo unitario de operación (%TM(Bs.)) ",
              "xaxis": {
               "title": "EPSAs Categoría A",
               "titlefont": {
                "color": "#7f7f7f",
                "family": "Courier New, monospace",
                "size": 18
               }
              },
              "yaxis": {
               "title": "Unidad: %TM(Bs.)",
               "titlefont": {
                "color": "#7f7f7f",
                "family": "Courier New, monospace",
                "size": 18
               }
              }
             }
            ],
            "label": "Indicador 28 - categoría A",
            "method": "update"
           },
           {
            "args": [
             {
              "visible": [
               false,
               false,
               false,
               false,
               false,
               false,
               false,
               false,
               false,
               false,
               false,
               false,
               false,
               false,
               false,
               false,
               false,
               false,
               false,
               false,
               true,
               true,
               true,
               true,
               false,
               false,
               false,
               false,
               false,
               false,
               false,
               false,
               false,
               false,
               false,
               false,
               false,
               false,
               false,
               false,
               false,
               false,
               false,
               false,
               false,
               false,
               false,
               false
              ]
             },
             {
              "shapes": [],
              "title": "Indicador 28: Costo unitario de operación (%TM(Bs.)) ",
              "xaxis": {
               "title": "EPSAs Categoría B",
               "titlefont": {
                "color": "#7f7f7f",
                "family": "Courier New, monospace",
                "size": 18
               }
              },
              "yaxis": {
               "title": "Unidad: %TM(Bs.)",
               "titlefont": {
                "color": "#7f7f7f",
                "family": "Courier New, monospace",
                "size": 18
               }
              }
             }
            ],
            "label": "Indicador 28 - categoría B",
            "method": "update"
           },
           {
            "args": [
             {
              "visible": [
               false,
               false,
               false,
               false,
               false,
               false,
               false,
               false,
               false,
               false,
               false,
               false,
               false,
               false,
               false,
               false,
               false,
               false,
               false,
               false,
               false,
               false,
               false,
               false,
               false,
               false,
               false,
               false,
               false,
               false,
               false,
               false,
               true,
               true,
               true,
               true,
               false,
               false,
               false,
               false,
               false,
               false,
               false,
               false,
               false,
               false,
               false,
               false
              ]
             },
             {
              "shapes": [],
              "title": "Indicador 28: Costo unitario de operación (%TM(Bs.)) ",
              "xaxis": {
               "title": "EPSAs Categoría C",
               "titlefont": {
                "color": "#7f7f7f",
                "family": "Courier New, monospace",
                "size": 18
               }
              },
              "yaxis": {
               "title": "Unidad: %TM(Bs.)",
               "titlefont": {
                "color": "#7f7f7f",
                "family": "Courier New, monospace",
                "size": 18
               }
              }
             }
            ],
            "label": "Indicador 28 - categoría C",
            "method": "update"
           },
           {
            "args": [
             {
              "visible": [
               false,
               false,
               false,
               false,
               false,
               false,
               false,
               false,
               false,
               false,
               false,
               false,
               false,
               false,
               false,
               false,
               false,
               false,
               false,
               false,
               false,
               false,
               false,
               false,
               false,
               false,
               false,
               false,
               false,
               false,
               false,
               false,
               false,
               false,
               false,
               false,
               false,
               false,
               false,
               false,
               false,
               false,
               false,
               false,
               true,
               true,
               true,
               true
              ]
             },
             {
              "shapes": [],
              "title": "Indicador 28: Costo unitario de operación (%TM(Bs.)) ",
              "xaxis": {
               "title": "EPSAs Categoría D",
               "titlefont": {
                "color": "#7f7f7f",
                "family": "Courier New, monospace",
                "size": 18
               }
              },
              "yaxis": {
               "title": "Unidad: %TM(Bs.)",
               "titlefont": {
                "color": "#7f7f7f",
                "family": "Courier New, monospace",
                "size": 18
               }
              }
             }
            ],
            "label": "Indicador 28 - categoría D",
            "method": "update"
           }
          ],
          "direction": "up",
          "x": 0.6,
          "xanchor": "left",
          "y": -0.25,
          "yanchor": "top"
         }
        ],
        "xaxis": {
         "title": "EPSAs Categoría A",
         "titlefont": {
          "color": "#7f7f7f",
          "family": "Courier New, monospace",
          "size": 18
         }
        },
        "yaxis": {
         "title": "Unidad: %",
         "titlefont": {
          "color": "#7f7f7f",
          "family": "Courier New, monospace",
          "size": 18
         }
        }
       }
      },
      "text/html": [
       "<div id=\"7ccfe962-094c-49ab-b9a3-95fb24d11074\" style=\"height: 525px; width: 100%;\" class=\"plotly-graph-div\"></div><script type=\"text/javascript\">require([\"plotly\"], function(Plotly) { window.PLOTLYENV=window.PLOTLYENV || {};window.PLOTLYENV.BASE_URL=\"https://plot.ly\";\n",
       "        Plotly.plot(\n",
       "            '7ccfe962-094c-49ab-b9a3-95fb24d11074',\n",
       "            [{\"marker\": {\"color\": \"#1f77b4\"}, \"name\": \"2014\", \"opacity\": 0.8, \"text\": \"%\", \"visible\": true, \"x\": [\"EPSAS\", \"SAGUAPAC\", \"SEMAPA\"], \"y\": [71.3, 72.72, 66.79], \"type\": \"bar\", \"uid\": \"a4ee21b8-cc9b-11e8-a928-f0761c9f65e1\"}, {\"marker\": {\"color\": \"#ff7f0e\"}, \"name\": \"2015\", \"opacity\": 0.8, \"text\": \"%\", \"visible\": true, \"x\": [\"EPSAS\", \"SAGUAPAC\", \"SEMAPA\"], \"y\": [71.71, 75.42, 60.08], \"type\": \"bar\", \"uid\": \"a4ee21b9-cc9b-11e8-a3f4-f0761c9f65e1\"}, {\"marker\": {\"color\": \"#2ca02c\"}, \"name\": \"2016\", \"opacity\": 0.8, \"text\": \"%\", \"visible\": true, \"x\": [\"EPSAS\", \"SAGUAPAC\", \"SEMAPA\"], \"y\": [67.95, 73.69, 68.03], \"type\": \"bar\", \"uid\": \"a4ee21ba-cc9b-11e8-a746-f0761c9f65e1\"}, {\"marker\": {\"color\": \"#d62728\"}, \"name\": \"2017\", \"opacity\": 0.8, \"text\": \"%\", \"visible\": true, \"x\": [\"EPSAS\", \"SAGUAPAC\", \"SEMAPA\"], \"y\": [67.94, 69.86, 73.72], \"type\": \"bar\", \"uid\": \"a4ee21bb-cc9b-11e8-8f83-f0761c9f65e1\"}, {\"marker\": {\"color\": \"#1f77b4\"}, \"name\": \"2014\", \"opacity\": 0.8, \"text\": \"%CUO(Bs.)\", \"visible\": false, \"x\": [\"EPSAS\", \"SAGUAPAC\", \"SEMAPA\"], \"y\": [5.2, 5.47, 8.29], \"type\": \"bar\", \"uid\": \"a4ee21bc-cc9b-11e8-95e4-f0761c9f65e1\"}, {\"marker\": {\"color\": \"#ff7f0e\"}, \"name\": \"2015\", \"opacity\": 0.8, \"text\": \"%CUO(Bs.)\", \"visible\": false, \"x\": [\"EPSAS\", \"SAGUAPAC\", \"SEMAPA\"], \"y\": [5.22, 5.49, 8.09], \"type\": \"bar\", \"uid\": \"a4ee21bd-cc9b-11e8-aa8e-f0761c9f65e1\"}, {\"marker\": {\"color\": \"#2ca02c\"}, \"name\": \"2016\", \"opacity\": 0.8, \"text\": \"%CUO(Bs.)\", \"visible\": false, \"x\": [\"EPSAS\", \"SAGUAPAC\", \"SEMAPA\"], \"y\": [5.61, 5.53, 9.63], \"type\": \"bar\", \"uid\": \"a4ee21be-cc9b-11e8-9e45-f0761c9f65e1\"}, {\"marker\": {\"color\": \"#d62728\"}, \"name\": \"2017\", \"opacity\": 0.8, \"text\": \"%CUO(Bs.)\", \"visible\": false, \"x\": [\"EPSAS\", \"SAGUAPAC\", \"SEMAPA\"], \"y\": [5.58, 5.67, 10.36], \"type\": \"bar\", \"uid\": \"a4ee21bf-cc9b-11e8-83be-f0761c9f65e1\"}, {\"marker\": {\"color\": \"#1f77b4\"}, \"name\": \"2014\", \"opacity\": 0.8, \"text\": \"%TM(Bs.)\", \"visible\": false, \"x\": [\"EPSAS\", \"SAGUAPAC\", \"SEMAPA\"], \"y\": [4.43, 5.38, 10.16], \"type\": \"bar\", \"uid\": \"a4ee21c0-cc9b-11e8-b719-f0761c9f65e1\"}, {\"marker\": {\"color\": \"#ff7f0e\"}, \"name\": \"2015\", \"opacity\": 0.8, \"text\": \"%TM(Bs.)\", \"visible\": false, \"x\": [\"EPSAS\", \"SAGUAPAC\", \"SEMAPA\"], \"y\": [4.47, 5.52, 9.84], \"type\": \"bar\", \"uid\": \"a4ee21c1-cc9b-11e8-a8d3-f0761c9f65e1\"}, {\"marker\": {\"color\": \"#2ca02c\"}, \"name\": \"2016\", \"opacity\": 0.8, \"text\": \"%TM(Bs.)\", \"visible\": false, \"x\": [\"EPSAS\", \"SAGUAPAC\", \"SEMAPA\"], \"y\": [4.59, 5.43, 12.85], \"type\": \"bar\", \"uid\": \"a4ee21c2-cc9b-11e8-9025-f0761c9f65e1\"}, {\"marker\": {\"color\": \"#d62728\"}, \"name\": \"2017\", \"opacity\": 0.8, \"text\": \"%TM(Bs.)\", \"visible\": false, \"x\": [\"EPSAS\", \"SAGUAPAC\", \"SEMAPA\"], \"y\": [4.75, 5.45, 15.03], \"type\": \"bar\", \"uid\": \"a4ee21c3-cc9b-11e8-ae86-f0761c9f65e1\"}, {\"marker\": {\"color\": \"#1f77b4\"}, \"name\": \"2014\", \"opacity\": 0.8, \"text\": \"%\", \"visible\": false, \"x\": [\"AAPOS\", \"BUSTILLO\", \"CAPAG\", \"COATRI\", \"COOPAGUAS\", \"COOPAPPI\", \"COOPLAN\", \"COSAALT\", \"COSMOL\", \"COSPAIL\", \"ELAPAS\", \"EMAPAS\", \"EMAPAV\", \"EMAPYC\", \"EPSA COBIJA\", \"MANCHACO\", \"SAJUBA\", \"SELA\"], \"y\": [80.2, 128.59, 107.06, 124.84, 96.42, 90.36, 90.81, 80.61, 111.92, 80.81, 80.28, 110.95, 87.91, 86.17, 125.61, 118.16, 74.24, 68.34], \"type\": \"bar\", \"uid\": \"a4ee21c4-cc9b-11e8-bf4e-f0761c9f65e1\"}, {\"marker\": {\"color\": \"#ff7f0e\"}, \"name\": \"2015\", \"opacity\": 0.8, \"text\": \"%\", \"visible\": false, \"x\": [\"AAPOS\", \"BUSTILLO\", \"CAPAG\", \"COATRI\", \"COOPAGUAS\", \"COOPAPPI\", \"COOPLAN\", \"COSAALT\", \"COSMOL\", \"COSPAIL\", \"ELAPAS\", \"EMAPAS\", \"EMAPAV\", \"EMAPYC\", \"EPSA COBIJA\", \"MANCHACO\", \"SAJUBA\", \"SELA\"], \"y\": [80.32, 121.9, 96.63, 115.03, 98.86, 99.91, 95.05, 87.49, 112.93, 90.76, 76.68, 133.05, 87.96, 92.33, 158.52, 104.66, 104.28, 69.27], \"type\": \"bar\", \"uid\": \"a4ee21c5-cc9b-11e8-a01d-f0761c9f65e1\"}, {\"marker\": {\"color\": \"#2ca02c\"}, \"name\": \"2016\", \"opacity\": 0.8, \"text\": \"%\", \"visible\": false, \"x\": [\"AAPOS\", \"BUSTILLO\", \"CAPAG\", \"COATRI\", \"COOPAGUAS\", \"COOPAPPI\", \"COOPLAN\", \"COSAALT\", \"COSMOL\", \"COSPAIL\", \"ELAPAS\", \"EMAPAS\", \"EMAPAV\", \"EMAPYC\", \"EPSA COBIJA\", \"MANCHACO\", \"SAJUBA\", \"SELA\"], \"y\": [117.44, 123.54, 104.9, 118.34, 105.7, 120.19, 97.59, 93.62, 100.0, 94.11, 69.55, 197.91, 99.68, 102.85, 118.67, 146.67, 104.66, 69.03], \"type\": \"bar\", \"uid\": \"a4ee21c6-cc9b-11e8-9e1a-f0761c9f65e1\"}, {\"marker\": {\"color\": \"#d62728\"}, \"name\": \"2017\", \"opacity\": 0.8, \"text\": \"%\", \"visible\": false, \"x\": [\"AAPOS\", \"BUSTILLO\", \"CAPAG\", \"COATRI\", \"COOPAGUAS\", \"COOPAPPI\", \"COOPLAN\", \"COSAALT\", \"COSMOL\", \"COSPAIL\", \"ELAPAS\", \"EMAPAS\", \"EMAPAV\", \"EMAPYC\", \"EPSA COBIJA\", \"MANCHACO\", \"SAJUBA\", \"SELA\"], \"y\": [98.2, 93.29, 104.26, 124.9, 100.35, 101.12, 102.94, 83.34, 99.55, 96.38, 70.93, 90.9, 107.7, 101.88, 110.88, 117.76, 98.14, 74.56], \"type\": \"bar\", \"uid\": \"a4ee21c7-cc9b-11e8-b559-f0761c9f65e1\"}, {\"marker\": {\"color\": \"#1f77b4\"}, \"name\": \"2014\", \"opacity\": 0.8, \"text\": \"%CUO(Bs.)\", \"visible\": false, \"x\": [\"AAPOS\", \"BUSTILLO\", \"CAPAG\", \"COATRI\", \"COOPAGUAS\", \"COOPAPPI\", \"COOPLAN\", \"COSAALT\", \"COSMOL\", \"COSPAIL\", \"ELAPAS\", \"EMAPAS\", \"EMAPAV\", \"EMAPYC\", \"EPSA COBIJA\", \"MANCHACO\", \"SAJUBA\", \"SELA\"], \"y\": [3.09, null, 2.84, 4.52, 3.32, 2.69, 3.34, 3.26, 3.37, 3.37, 5.48, 6.89, 2.38, 5.84, 2.16, 2.22, 2.36, 4.38], \"type\": \"bar\", \"uid\": \"a4ee21c8-cc9b-11e8-a3e0-f0761c9f65e1\"}, {\"marker\": {\"color\": \"#ff7f0e\"}, \"name\": \"2015\", \"opacity\": 0.8, \"text\": \"%CUO(Bs.)\", \"visible\": false, \"x\": [\"AAPOS\", \"BUSTILLO\", \"CAPAG\", \"COATRI\", \"COOPAGUAS\", \"COOPAPPI\", \"COOPLAN\", \"COSAALT\", \"COSMOL\", \"COSPAIL\", \"ELAPAS\", \"EMAPAS\", \"EMAPAV\", \"EMAPYC\", \"EPSA COBIJA\", \"MANCHACO\", \"SAJUBA\", \"SELA\"], \"y\": [2.73, null, 2.85, 5.28, 3.34, 2.48, 2.95, 3.75, 3.38, 3.58, 5.67, null, 2.05, 5.74, null, 1.35, 2.23, 4.59], \"type\": \"bar\", \"uid\": \"a4ee21c9-cc9b-11e8-b087-f0761c9f65e1\"}, {\"marker\": {\"color\": \"#2ca02c\"}, \"name\": \"2016\", \"opacity\": 0.8, \"text\": \"%CUO(Bs.)\", \"visible\": false, \"x\": [\"AAPOS\", \"BUSTILLO\", \"CAPAG\", \"COATRI\", \"COOPAGUAS\", \"COOPAPPI\", \"COOPLAN\", \"COSAALT\", \"COSMOL\", \"COSPAIL\", \"ELAPAS\", \"EMAPAS\", \"EMAPAV\", \"EMAPYC\", \"EPSA COBIJA\", \"MANCHACO\", \"SAJUBA\", \"SELA\"], \"y\": [2.69, 1.1, 2.4, 5.83, 3.18, null, 2.65, 3.73, 3.27, 3.66, 5.81, null, 2.27, 5.23, 1.59, 1.22, 2.3, 4.67], \"type\": \"bar\", \"uid\": \"a4ee21ca-cc9b-11e8-860f-f0761c9f65e1\"}, {\"marker\": {\"color\": \"#d62728\"}, \"name\": \"2017\", \"opacity\": 0.8, \"text\": \"%CUO(Bs.)\", \"visible\": false, \"x\": [\"AAPOS\", \"BUSTILLO\", \"CAPAG\", \"COATRI\", \"COOPAGUAS\", \"COOPAPPI\", \"COOPLAN\", \"COSAALT\", \"COSMOL\", \"COSPAIL\", \"ELAPAS\", \"EMAPAS\", \"EMAPAV\", \"EMAPYC\", \"EPSA COBIJA\", \"MANCHACO\", \"SAJUBA\", \"SELA\"], \"y\": [3.58, 1.07, 2.44, 5.75, 3.67, 2.3, 2.96, 3.65, 3.43, 3.82, 5.92, 3.87, 2.39, 5.95, 1.82, 1.92, 2.24, 4.77], \"type\": \"bar\", \"uid\": \"a4ee21cb-cc9b-11e8-a3b2-f0761c9f65e1\"}, {\"marker\": {\"color\": \"#1f77b4\"}, \"name\": \"2014\", \"opacity\": 0.8, \"text\": \"%TM(Bs.)\", \"visible\": false, \"x\": [\"AAPOS\", \"BUSTILLO\", \"CAPAG\", \"COATRI\", \"COOPAGUAS\", \"COOPAPPI\", \"COOPLAN\", \"COSAALT\", \"COSMOL\", \"COSPAIL\", \"ELAPAS\", \"EMAPAS\", \"EMAPAV\", \"EMAPYC\", \"EPSA COBIJA\", \"MANCHACO\", \"SAJUBA\", \"SELA\"], \"y\": [2.91, null, 3.76, 7.86, 3.56, 4.3, 3.08, 3.2, 5.03, 3.05, 6.68, 8.88, 2.27, 6.92, 2.74, 4.46, 2.39, 3.38], \"type\": \"bar\", \"uid\": \"a4ee21cc-cc9b-11e8-8580-f0761c9f65e1\"}, {\"marker\": {\"color\": \"#ff7f0e\"}, \"name\": \"2015\", \"opacity\": 0.8, \"text\": \"%TM(Bs.)\", \"visible\": false, \"x\": [\"AAPOS\", \"BUSTILLO\", \"CAPAG\", \"COATRI\", \"COOPAGUAS\", \"COOPAPPI\", \"COOPLAN\", \"COSAALT\", \"COSMOL\", \"COSPAIL\", \"ELAPAS\", \"EMAPAS\", \"EMAPAV\", \"EMAPYC\", \"EPSA COBIJA\", \"MANCHACO\", \"SAJUBA\", \"SELA\"], \"y\": [2.87, null, 3.43, 8.69, 3.67, 3.9, 3.39, 3.98, 4.84, 3.66, 7.15, null, 2.35, 7.76, null, 3.05, 3.01, 5.16], \"type\": \"bar\", \"uid\": \"a4ee21cd-cc9b-11e8-ba97-f0761c9f65e1\"}, {\"marker\": {\"color\": \"#2ca02c\"}, \"name\": \"2016\", \"opacity\": 0.8, \"text\": \"%TM(Bs.)\", \"visible\": false, \"x\": [\"AAPOS\", \"BUSTILLO\", \"CAPAG\", \"COATRI\", \"COOPAGUAS\", \"COOPAPPI\", \"COOPLAN\", \"COSAALT\", \"COSMOL\", \"COSPAIL\", \"ELAPAS\", \"EMAPAS\", \"EMAPAV\", \"EMAPYC\", \"EPSA COBIJA\", \"MANCHACO\", \"SAJUBA\", \"SELA\"], \"y\": [4.07, 2.17, 3.52, 9.08, 4.17, null, 3.39, 3.85, 4.67, 3.9, 6.7, null, 3.12, 7.9, 2.22, 3.8, 3.0, 5.02], \"type\": \"bar\", \"uid\": \"a4ee21ce-cc9b-11e8-beb4-f0761c9f65e1\"}, {\"marker\": {\"color\": \"#d62728\"}, \"name\": \"2017\", \"opacity\": 0.8, \"text\": \"%TM(Bs.)\", \"visible\": false, \"x\": [\"AAPOS\", \"BUSTILLO\", \"CAPAG\", \"COATRI\", \"COOPAGUAS\", \"COOPAPPI\", \"COOPLAN\", \"COSAALT\", \"COSMOL\", \"COSPAIL\", \"ELAPAS\", \"EMAPAS\", \"EMAPAV\", \"EMAPYC\", \"EPSA COBIJA\", \"MANCHACO\", \"SAJUBA\", \"SELA\"], \"y\": [4.64, 2.19, 3.34, 9.74, 4.23, 2.58, 3.65, 4.06, 4.73, 4.16, 6.9, 7.29, 3.43, 8.21, 2.39, 4.4, 2.93, 5.3], \"type\": \"bar\", \"uid\": \"a4ee21cf-cc9b-11e8-8726-f0761c9f65e1\"}, {\"marker\": {\"color\": \"#1f77b4\"}, \"name\": \"2014\", \"opacity\": 0.8, \"text\": \"%\", \"visible\": false, \"x\": [\"CAPU\", \"COMAYO\", \"COOPAGUAB\", \"COOPLIM\", \"COOSIV\", \"COOSPELCAR\", \"COSAJU\", \"COSAP\", \"COSAPAC\", \"COSAPSI\", \"COSCHAL\", \"COSEPA\", \"COSEPA\", \"COSIMBO\", \"COSMIN\", \"COSMON\", \"COSPHUL\", \"COSPUGEBUL\", \"EMAAB\", \"EMAPA\", \"EMPSAAT\", \"EMSABAV\", \"FLORIDA\", \"LA GUARDIA\", \"LA PORTE\\u00d1A\", \"SAMAPAR\", \"SEAPAS\"], \"y\": [90.4, null, 93.3, 93.64, 97.69, 88.32, 74.27, 98.29, 125.56, 106.23, 100.18, null, 81.11, null, 85.74, 88.57, 97.9, 104.67, 176.06, 120.88, 93.27, 92.85, 95.0, 94.92, 105.41, 103.28, 98.63], \"type\": \"bar\", \"uid\": \"a4ee21d0-cc9b-11e8-b919-f0761c9f65e1\"}, {\"marker\": {\"color\": \"#ff7f0e\"}, \"name\": \"2015\", \"opacity\": 0.8, \"text\": \"%\", \"visible\": false, \"x\": [\"CAPU\", \"COMAYO\", \"COOPAGUAB\", \"COOPLIM\", \"COOSIV\", \"COOSPELCAR\", \"COSAJU\", \"COSAP\", \"COSAPAC\", \"COSAPSI\", \"COSCHAL\", \"COSEPA\", \"COSEPA\", \"COSIMBO\", \"COSMIN\", \"COSMON\", \"COSPHUL\", \"COSPUGEBUL\", \"EMAAB\", \"EMAPA\", \"EMPSAAT\", \"EMSABAV\", \"FLORIDA\", \"LA GUARDIA\", \"LA PORTE\\u00d1A\", \"SAMAPAR\", \"SEAPAS\"], \"y\": [91.9, 83.74, 94.97, 87.38, 103.66, 111.8, 80.18, 94.5, 93.14, 98.73, 104.14, 112.24, 105.78, 74.06, 110.87, 83.28, 93.68, 93.47, 148.01, 101.0, 95.63, 93.46, 102.64, 95.98, 110.09, 99.59, 83.64], \"type\": \"bar\", \"uid\": \"a4ee21d1-cc9b-11e8-944f-f0761c9f65e1\"}, {\"marker\": {\"color\": \"#2ca02c\"}, \"name\": \"2016\", \"opacity\": 0.8, \"text\": \"%\", \"visible\": false, \"x\": [\"CAPU\", \"COMAYO\", \"COOPAGUAB\", \"COOPLIM\", \"COOSIV\", \"COOSPELCAR\", \"COSAJU\", \"COSAP\", \"COSAPAC\", \"COSAPSI\", \"COSCHAL\", \"COSEPA\", \"COSEPA\", \"COSEPCO\", \"COSEPUR\", \"COSIMBO\", \"COSMIN\", \"COSMON\", \"COSPHUL\", \"COSPUGEBUL\", \"EMAAB\", \"EMAPA\", \"EMPSAAT\", \"EMSABAV\", \"FLORIDA\", \"LA GUARDIA\", \"LA PORTE\\u00d1A\", \"SAMAPAR\", \"SEAPAS\", \"SMAPA\"], \"y\": [84.72, 93.38, 89.52, 79.44, 154.63, 97.06, 81.87, 93.32, 90.39, 95.1, 95.9, 107.42, 104.61, 120.1, 108.98, 143.36, 107.82, 79.56, 91.86, 99.4, 129.66, 113.25, 87.39, 87.99, 84.16, 91.29, 114.94, 89.34, 77.35, null], \"type\": \"bar\", \"uid\": \"a4ee21d2-cc9b-11e8-905b-f0761c9f65e1\"}, {\"marker\": {\"color\": \"#d62728\"}, \"name\": \"2017\", \"opacity\": 0.8, \"text\": \"%\", \"visible\": false, \"x\": [\"6 DE OCTUBRE\", \"CAPU\", \"COAPASB\", \"COMAYO\", \"COOPAGUAB\", \"COOPLIM\", \"COOSIV\", \"COOSPELCAR\", \"COSAJU\", \"COSAP\", \"COSAPAC\", \"COSAPSI\", \"COSCHAL\", \"COSEPCO\", \"COSEPUR\", \"COSFAL\", \"COSIMBO\", \"COSMIN\", \"COSMON\", \"COSPAS\", \"COSPHUL\", \"COSPOL\", \"COSPUGEBUL\", \"EMAAB\", \"EMAPA\", \"EMPSAAT\", \"EMSABAV\", \"FLORIDA\", \"LA GUARDIA\", \"LA PORTE\\u00d1A\", \"SAMAPAR\", \"SEAPAS\", \"SEMAPAR\", \"SMAPA\"], \"y\": [107.46, 87.12, null, 89.88, 94.67, 82.69, 145.6, 105.87, 86.95, 93.98, 107.23, 102.55, 92.01, 103.32, 99.23, 67.65, 123.16, 84.92, 79.82, 96.66, 90.43, 89.45, 79.74, 118.1, 99.96, 107.94, 87.35, 104.31, 101.33, 108.19, 83.68, 82.01, 138.9, 146.26], \"type\": \"bar\", \"uid\": \"a4ee21d3-cc9b-11e8-858f-f0761c9f65e1\"}, {\"marker\": {\"color\": \"#1f77b4\"}, \"name\": \"2014\", \"opacity\": 0.8, \"text\": \"%CUO(Bs.)\", \"visible\": false, \"x\": [\"CAPU\", \"COMAYO\", \"COOPAGUAB\", \"COOPLIM\", \"COOSIV\", \"COOSPELCAR\", \"COSAJU\", \"COSAP\", \"COSAPAC\", \"COSAPSI\", \"COSCHAL\", \"COSEPA\", \"COSEPA\", \"COSIMBO\", \"COSMIN\", \"COSMON\", \"COSPHUL\", \"COSPUGEBUL\", \"EMAAB\", \"EMAPA\", \"EMPSAAT\", \"EMSABAV\", \"FLORIDA\", \"LA GUARDIA\", \"LA PORTE\\u00d1A\", \"SAMAPAR\", \"SEAPAS\"], \"y\": [5.75, null, 2.28, 3.28, 1.79, 2.37, null, 2.8, null, 1.47, 3.35, null, 3.62, null, 2.24, 3.76, 5.27, 2.98, 1.14, null, 2.53, null, null, 2.37, null, null, 2.66], \"type\": \"bar\", \"uid\": \"a4ee21d4-cc9b-11e8-b5d2-f0761c9f65e1\"}, {\"marker\": {\"color\": \"#ff7f0e\"}, \"name\": \"2015\", \"opacity\": 0.8, \"text\": \"%CUO(Bs.)\", \"visible\": false, \"x\": [\"CAPU\", \"COMAYO\", \"COOPAGUAB\", \"COOPLIM\", \"COOSIV\", \"COOSPELCAR\", \"COSAJU\", \"COSAP\", \"COSAPAC\", \"COSAPSI\", \"COSCHAL\", \"COSEPA\", \"COSEPA\", \"COSIMBO\", \"COSMIN\", \"COSMON\", \"COSPHUL\", \"COSPUGEBUL\", \"EMAAB\", \"EMAPA\", \"EMPSAAT\", \"EMSABAV\", \"FLORIDA\", \"LA GUARDIA\", \"LA PORTE\\u00d1A\", \"SAMAPAR\", \"SEAPAS\"], \"y\": [2.84, null, 2.78, 3.28, 1.93, 2.41, 2.79, 3.35, null, null, 3.5, null, 3.04, 7.26, 2.42, 4.2, 5.75, 3.45, 0.9, 2.16, 2.52, null, 2.37, 2.85, 4.59, 1.58, 2.98], \"type\": \"bar\", \"uid\": \"a4ee21d5-cc9b-11e8-a14b-f0761c9f65e1\"}, {\"marker\": {\"color\": \"#2ca02c\"}, \"name\": \"2016\", \"opacity\": 0.8, \"text\": \"%CUO(Bs.)\", \"visible\": false, \"x\": [\"CAPU\", \"COMAYO\", \"COOPAGUAB\", \"COOPLIM\", \"COOSIV\", \"COOSPELCAR\", \"COSAJU\", \"COSAP\", \"COSAPAC\", \"COSAPSI\", \"COSCHAL\", \"COSEPA\", \"COSEPA\", \"COSEPCO\", \"COSEPUR\", \"COSIMBO\", \"COSMIN\", \"COSMON\", \"COSPHUL\", \"COSPUGEBUL\", \"EMAAB\", \"EMAPA\", \"EMPSAAT\", \"EMSABAV\", \"FLORIDA\", \"LA GUARDIA\", \"LA PORTE\\u00d1A\", \"SAMAPAR\", \"SEAPAS\", \"SMAPA\"], \"y\": [0.59, 3.12, 2.76, 3.39, 1.9, 2.44, 2.83, 3.02, null, 2.05, 3.81, 2.86, 2.81, null, 1.98, 2.58, 2.47, 4.52, 5.47, 2.58, 0.99, 1.78, 2.58, 1.67, 2.57, 3.45, 4.61, 1.57, 3.15, null], \"type\": \"bar\", \"uid\": \"a4ee21d6-cc9b-11e8-90b8-f0761c9f65e1\"}, {\"marker\": {\"color\": \"#d62728\"}, \"name\": \"2017\", \"opacity\": 0.8, \"text\": \"%CUO(Bs.)\", \"visible\": false, \"x\": [\"6 DE OCTUBRE\", \"CAPU\", \"COAPASB\", \"COMAYO\", \"COOPAGUAB\", \"COOPLIM\", \"COOSIV\", \"COOSPELCAR\", \"COSAJU\", \"COSAP\", \"COSAPAC\", \"COSAPSI\", \"COSCHAL\", \"COSEPCO\", \"COSEPUR\", \"COSFAL\", \"COSIMBO\", \"COSMIN\", \"COSMON\", \"COSPAS\", \"COSPHUL\", \"COSPOL\", \"COSPUGEBUL\", \"EMAAB\", \"EMAPA\", \"EMPSAAT\", \"EMSABAV\", \"FLORIDA\", \"LA GUARDIA\", \"LA PORTE\\u00d1A\", \"SAMAPAR\", \"SEAPAS\", \"SEMAPAR\", \"SMAPA\"], \"y\": [3.23, 2.72, null, 3.74, 2.77, 3.55, 1.92, 2.52, 2.86, 3.1, 0.3, 2.04, 3.76, 6.06, 1.82, 2.64, 2.64, 2.7, 4.73, 6.47, 5.23, 2.99, 3.1, 0.96, 1.95, 2.65, 3.03, 2.35, 3.53, 4.14, 1.59, 3.27, 4.37, null], \"type\": \"bar\", \"uid\": \"a4ee21d7-cc9b-11e8-841b-f0761c9f65e1\"}, {\"marker\": {\"color\": \"#1f77b4\"}, \"name\": \"2014\", \"opacity\": 0.8, \"text\": \"%TM(Bs.)\", \"visible\": false, \"x\": [\"CAPU\", \"COMAYO\", \"COOPAGUAB\", \"COOPLIM\", \"COOSIV\", \"COOSPELCAR\", \"COSAJU\", \"COSAP\", \"COSAPAC\", \"COSAPSI\", \"COSCHAL\", \"COSEPA\", \"COSEPA\", \"COSIMBO\", \"COSMIN\", \"COSMON\", \"COSPHUL\", \"COSPUGEBUL\", \"EMAAB\", \"EMAPA\", \"EMPSAAT\", \"EMSABAV\", \"FLORIDA\", \"LA GUARDIA\", \"LA PORTE\\u00d1A\", \"SAMAPAR\", \"SEAPAS\"], \"y\": [6.45, null, 4.53, 4.85, 3.41, 2.67, null, 3.3, null, 2.23, 4.29, null, 3.76, null, 3.67, 4.92, 5.76, 5.3, 2.05, null, 2.82, null, null, 3.59, null, null, 3.57], \"type\": \"bar\", \"uid\": \"a4ee21d8-cc9b-11e8-b642-f0761c9f65e1\"}, {\"marker\": {\"color\": \"#ff7f0e\"}, \"name\": \"2015\", \"opacity\": 0.8, \"text\": \"%TM(Bs.)\", \"visible\": false, \"x\": [\"CAPU\", \"COMAYO\", \"COOPAGUAB\", \"COOPLIM\", \"COOSIV\", \"COOSPELCAR\", \"COSAJU\", \"COSAP\", \"COSAPAC\", \"COSAPSI\", \"COSCHAL\", \"COSEPA\", \"COSEPA\", \"COSIMBO\", \"COSMIN\", \"COSMON\", \"COSPHUL\", \"COSPUGEBUL\", \"EMAAB\", \"EMAPA\", \"EMPSAAT\", \"EMSABAV\", \"FLORIDA\", \"LA GUARDIA\", \"LA PORTE\\u00d1A\", \"SAMAPAR\", \"SEAPAS\"], \"y\": [3.26, null, 5.6, 4.43, 3.83, 3.61, 3.65, 3.94, null, null, 4.61, null, 4.28, 7.05, 4.22, 5.06, 5.84, 5.94, 1.59, 2.4, 2.89, null, 4.12, 3.7, 7.03, 2.27, 3.3], \"type\": \"bar\", \"uid\": \"a4ee21d9-cc9b-11e8-83a7-f0761c9f65e1\"}, {\"marker\": {\"color\": \"#2ca02c\"}, \"name\": \"2016\", \"opacity\": 0.8, \"text\": \"%TM(Bs.)\", \"visible\": false, \"x\": [\"CAPU\", \"COMAYO\", \"COOPAGUAB\", \"COOPLIM\", \"COOSIV\", \"COOSPELCAR\", \"COSAJU\", \"COSAP\", \"COSAPAC\", \"COSAPSI\", \"COSCHAL\", \"COSEPA\", \"COSEPA\", \"COSEPCO\", \"COSEPUR\", \"COSIMBO\", \"COSMIN\", \"COSMON\", \"COSPHUL\", \"COSPUGEBUL\", \"EMAAB\", \"EMAPA\", \"EMPSAAT\", \"EMSABAV\", \"FLORIDA\", \"LA GUARDIA\", \"LA PORTE\\u00d1A\", \"SAMAPAR\", \"SEAPAS\", \"SMAPA\"], \"y\": [3.17, 3.49, 5.25, 4.3, 3.69, 3.45, 3.8, 3.91, null, 2.67, 4.32, 3.62, 4.16, null, 2.58, 6.04, 4.26, 5.07, 6.15, 3.8, 1.56, 2.79, 2.81, 2.01, 3.74, 4.25, 7.13, 2.11, 3.26, null], \"type\": \"bar\", \"uid\": \"a4ee21da-cc9b-11e8-9d24-f0761c9f65e1\"}, {\"marker\": {\"color\": \"#d62728\"}, \"name\": \"2017\", \"opacity\": 0.8, \"text\": \"%TM(Bs.)\", \"visible\": false, \"x\": [\"6 DE OCTUBRE\", \"CAPU\", \"COAPASB\", \"COMAYO\", \"COOPAGUAB\", \"COOPLIM\", \"COOSIV\", \"COOSPELCAR\", \"COSAJU\", \"COSAP\", \"COSAPAC\", \"COSAPSI\", \"COSCHAL\", \"COSEPCO\", \"COSEPUR\", \"COSFAL\", \"COSIMBO\", \"COSMIN\", \"COSMON\", \"COSPAS\", \"COSPHUL\", \"COSPOL\", \"COSPUGEBUL\", \"EMAAB\", \"EMAPA\", \"EMPSAAT\", \"EMSABAV\", \"FLORIDA\", \"LA GUARDIA\", \"LA PORTE\\u00d1A\", \"SAMAPAR\", \"SEAPAS\", \"SEMAPAR\", \"SMAPA\"], \"y\": [4.24, 3.46, null, 4.06, 3.86, 4.63, 3.58, 3.51, 3.75, 4.2, 0.52, 2.77, 4.35, 6.88, 2.21, 3.05, 5.17, 3.7, 5.63, 6.76, 6.07, 3.11, 3.8, 1.65, null, 3.33, 3.35, 3.81, 4.63, 5.36, 2.05, 3.53, 11.95, null], \"type\": \"bar\", \"uid\": \"a4ee21db-cc9b-11e8-9a91-f0761c9f65e1\"}, {\"marker\": {\"color\": \"#1f77b4\"}, \"name\": \"2014\", \"opacity\": 0.8, \"text\": \"%\", \"visible\": false, \"x\": [\"CAPSCH\", \"COAPAS VINTO\", \"COOAPASH\", \"COSEPFA\", \"COSEPP\", \"COSERCA\", \"COSSAJA\"], \"y\": [77.79, 87.79, null, null, 118.95, 116.37, 116.05], \"type\": \"bar\", \"uid\": \"a4ee21dc-cc9b-11e8-af84-f0761c9f65e1\"}, {\"marker\": {\"color\": \"#ff7f0e\"}, \"name\": \"2015\", \"opacity\": 0.8, \"text\": \"%\", \"visible\": false, \"x\": [\"CAPSCH\", \"COAPAS VINTO\", \"COOAPASH\", \"COSEPFA\", \"COSEPP\", \"COSERCA\", \"COSSAJA\"], \"y\": [92.24, 79.89, 97.7, 128.28, 90.79, 109.93, 121.83], \"type\": \"bar\", \"uid\": \"a4ee21dd-cc9b-11e8-9d39-f0761c9f65e1\"}, {\"marker\": {\"color\": \"#2ca02c\"}, \"name\": \"2016\", \"opacity\": 0.8, \"text\": \"%\", \"visible\": false, \"x\": [\"ASOAPAL\", \"CAPCHI\", \"CAPSCH\", \"COAPAS VINTO\", \"COLOMI\", \"COOAPASH\", \"COSAJO\", \"COSEPFA\", \"COSEPP\", \"COSERCA\", \"COSSAJA\", \"JASAP\", \"JOROCHITO\"], \"y\": [112.28, 96.71, 80.51, 100.77, 57.81, 65.92, 122.61, 121.72, 80.88, 82.26, 104.19, 99.79, 112.43], \"type\": \"bar\", \"uid\": \"a4ee21de-cc9b-11e8-93c1-f0761c9f65e1\"}, {\"marker\": {\"color\": \"#d62728\"}, \"name\": \"2017\", \"opacity\": 0.8, \"text\": \"%\", \"visible\": false, \"x\": [\"ASOAPAL\", \"CAPCHI\", \"CAPSCH\", \"COAPAS VINTO\", \"COLOMI\", \"COOAPASH\", \"COSEPFA\", \"COSEPP\", \"COSERCA\", \"COSSAJA\", \"JASAP\", \"JOROCHITO\"], \"y\": [64.01, 106.2, 106.32, 89.26, 58.98, 86.32, 122.06, 115.63, 83.21, 112.06, 88.45, 86.05], \"type\": \"bar\", \"uid\": \"a4ee21df-cc9b-11e8-a0a8-f0761c9f65e1\"}, {\"marker\": {\"color\": \"#1f77b4\"}, \"name\": \"2014\", \"opacity\": 0.8, \"text\": \"%CUO(Bs.)\", \"visible\": false, \"x\": [\"CAPSCH\", \"COAPAS VINTO\", \"COOAPASH\", \"COSEPFA\", \"COSEPP\", \"COSERCA\", \"COSSAJA\"], \"y\": [1.85, 3.67, null, null, null, null, null], \"type\": \"bar\", \"uid\": \"a4ee21e0-cc9b-11e8-ba41-f0761c9f65e1\"}, {\"marker\": {\"color\": \"#ff7f0e\"}, \"name\": \"2015\", \"opacity\": 0.8, \"text\": \"%CUO(Bs.)\", \"visible\": false, \"x\": [\"CAPSCH\", \"COAPAS VINTO\", \"COOAPASH\", \"COSEPFA\", \"COSEPP\", \"COSERCA\", \"COSSAJA\"], \"y\": [null, 3.74, null, 0.97, 2.72, 1.15, 3.09], \"type\": \"bar\", \"uid\": \"a4ee21e1-cc9b-11e8-a622-f0761c9f65e1\"}, {\"marker\": {\"color\": \"#2ca02c\"}, \"name\": \"2016\", \"opacity\": 0.8, \"text\": \"%CUO(Bs.)\", \"visible\": false, \"x\": [\"ASOAPAL\", \"CAPCHI\", \"CAPSCH\", \"COAPAS VINTO\", \"COLOMI\", \"COOAPASH\", \"COSAJO\", \"COSEPFA\", \"COSEPP\", \"COSERCA\", \"COSSAJA\", \"JASAP\", \"JOROCHITO\"], \"y\": [1.28, 2.36, null, 3.79, null, null, 3.14, 2.13, 2.73, 1.03, 3.07, null, 2.32], \"type\": \"bar\", \"uid\": \"a4ee21e2-cc9b-11e8-a89e-f0761c9f65e1\"}, {\"marker\": {\"color\": \"#d62728\"}, \"name\": \"2017\", \"opacity\": 0.8, \"text\": \"%CUO(Bs.)\", \"visible\": false, \"x\": [\"ASOAPAL\", \"CAPCHI\", \"CAPSCH\", \"COAPAS VINTO\", \"COLOMI\", \"COOAPASH\", \"COSEPFA\", \"COSEPP\", \"COSERCA\", \"COSSAJA\", \"JASAP\", \"JOROCHITO\"], \"y\": [1.68, 2.55, 0.94, 4.17, null, null, 2.43, 2.97, 1.63, 3.11, null, 3.57], \"type\": \"bar\", \"uid\": \"a4ee21e3-cc9b-11e8-9614-f0761c9f65e1\"}, {\"marker\": {\"color\": \"#1f77b4\"}, \"name\": \"2014\", \"opacity\": 0.8, \"text\": \"%TM(Bs.)\", \"visible\": false, \"x\": [\"CAPSCH\", \"COAPAS VINTO\", \"COOAPASH\", \"COSEPFA\", \"COSEPP\", \"COSERCA\", \"COSSAJA\"], \"y\": [1.61, 4.73, null, null, null, null, null], \"type\": \"bar\", \"uid\": \"a4ee21e4-cc9b-11e8-b19a-f0761c9f65e1\"}, {\"marker\": {\"color\": \"#ff7f0e\"}, \"name\": \"2015\", \"opacity\": 0.8, \"text\": \"%TM(Bs.)\", \"visible\": false, \"x\": [\"CAPSCH\", \"COAPAS VINTO\", \"COOAPASH\", \"COSEPFA\", \"COSEPP\", \"COSERCA\", \"COSSAJA\"], \"y\": [null, 4.76, null, 1.93, 3.68, 1.41, 4.9], \"type\": \"bar\", \"uid\": \"a4ee21e5-cc9b-11e8-8c64-f0761c9f65e1\"}, {\"marker\": {\"color\": \"#2ca02c\"}, \"name\": \"2016\", \"opacity\": 0.8, \"text\": \"%TM(Bs.)\", \"visible\": false, \"x\": [\"ASOAPAL\", \"CAPCHI\", \"CAPSCH\", \"COAPAS VINTO\", \"COLOMI\", \"COOAPASH\", \"COSAJO\", \"COSEPFA\", \"COSEPP\", \"COSERCA\", \"COSSAJA\", \"JASAP\", \"JOROCHITO\"], \"y\": [2.45, 3.68, null, 5.37, null, null, 6.38, 3.81, 3.49, 0.98, 4.63, null, 3.65], \"type\": \"bar\", \"uid\": \"a4ee21e6-cc9b-11e8-befc-f0761c9f65e1\"}, {\"marker\": {\"color\": \"#d62728\"}, \"name\": \"2017\", \"opacity\": 0.8, \"text\": \"%TM(Bs.)\", \"visible\": false, \"x\": [\"ASOAPAL\", \"CAPCHI\", \"CAPSCH\", \"COAPAS VINTO\", \"COLOMI\", \"COOAPASH\", \"COSEPFA\", \"COSEPP\", \"COSERCA\", \"COSSAJA\", \"JASAP\", \"JOROCHITO\"], \"y\": [1.67, 4.17, 2.03, 5.23, null, null, 4.29, 5.87, 1.52, 4.82, null, 4.59], \"type\": \"bar\", \"uid\": \"a4ee21e7-cc9b-11e8-95ff-f0761c9f65e1\"}],\n",
       "            {\"shapes\": [{\"fillcolor\": \"#1f77b4\", \"line\": {\"width\": 0}, \"opacity\": 0.2, \"type\": \"rect\", \"x0\": 0, \"x1\": 1, \"xref\": \"paper\", \"y0\": 65, \"y1\": 75, \"yref\": \"y\"}], \"title\": \"Indicador 23: \\u00cdndice de operaci\\u00f3n eficiente (%) (Par\\u00e1metro \\u00f3ptimo: 65-75%)\", \"updatemenus\": [{\"active\": 0, \"buttons\": [{\"args\": [{\"visible\": [true, true, true, true, false, false, false, false, false, false, false, false, false, false, false, false, false, false, false, false, false, false, false, false, false, false, false, false, false, false, false, false, false, false, false, false, false, false, false, false, false, false, false, false, false, false, false, false]}, {\"title\": \"Indicador 23: \\u00cdndice de operaci\\u00f3n eficiente (%) (Par\\u00e1metro \\u00f3ptimo: 65-75%)\", \"xaxis\": {\"title\": \"EPSAs Categor\\u00eda A\", \"titlefont\": {\"family\": \"Courier New, monospace\", \"size\": 18, \"color\": \"#7f7f7f\"}}, \"yaxis\": {\"title\": \"Unidad: %\", \"titlefont\": {\"family\": \"Courier New, monospace\", \"size\": 18, \"color\": \"#7f7f7f\"}}, \"shapes\": [{\"type\": \"rect\", \"xref\": \"paper\", \"yref\": \"y\", \"x0\": 0, \"y0\": 65, \"x1\": 1, \"y1\": 75, \"fillcolor\": \"#1f77b4\", \"opacity\": 0.2, \"line\": {\"width\": 0}}]}], \"label\": \"Indicador 23 - categor\\u00eda A\", \"method\": \"update\"}, {\"args\": [{\"visible\": [false, false, false, false, false, false, false, false, false, false, false, false, true, true, true, true, false, false, false, false, false, false, false, false, false, false, false, false, false, false, false, false, false, false, false, false, false, false, false, false, false, false, false, false, false, false, false, false]}, {\"title\": \"Indicador 23: \\u00cdndice de operaci\\u00f3n eficiente (%) (Par\\u00e1metro \\u00f3ptimo: 65-75%)\", \"xaxis\": {\"title\": \"EPSAs Categor\\u00eda B\", \"titlefont\": {\"family\": \"Courier New, monospace\", \"size\": 18, \"color\": \"#7f7f7f\"}}, \"yaxis\": {\"title\": \"Unidad: %\", \"titlefont\": {\"family\": \"Courier New, monospace\", \"size\": 18, \"color\": \"#7f7f7f\"}}, \"shapes\": [{\"type\": \"rect\", \"xref\": \"paper\", \"yref\": \"y\", \"x0\": 0, \"y0\": 65, \"x1\": 1, \"y1\": 75, \"fillcolor\": \"#1f77b4\", \"opacity\": 0.2, \"line\": {\"width\": 0}}]}], \"label\": \"Indicador 23 - categor\\u00eda B\", \"method\": \"update\"}, {\"args\": [{\"visible\": [false, false, false, false, false, false, false, false, false, false, false, false, false, false, false, false, false, false, false, false, false, false, false, false, true, true, true, true, false, false, false, false, false, false, false, false, false, false, false, false, false, false, false, false, false, false, false, false]}, {\"title\": \"Indicador 23: \\u00cdndice de operaci\\u00f3n eficiente (%) (Par\\u00e1metro \\u00f3ptimo: 65-75%)\", \"xaxis\": {\"title\": \"EPSAs Categor\\u00eda C\", \"titlefont\": {\"family\": \"Courier New, monospace\", \"size\": 18, \"color\": \"#7f7f7f\"}}, \"yaxis\": {\"title\": \"Unidad: %\", \"titlefont\": {\"family\": \"Courier New, monospace\", \"size\": 18, \"color\": \"#7f7f7f\"}}, \"shapes\": [{\"type\": \"rect\", \"xref\": \"paper\", \"yref\": \"y\", \"x0\": 0, \"y0\": 65, \"x1\": 1, \"y1\": 75, \"fillcolor\": \"#1f77b4\", \"opacity\": 0.2, \"line\": {\"width\": 0}}]}], \"label\": \"Indicador 23 - categor\\u00eda C\", \"method\": \"update\"}, {\"args\": [{\"visible\": [false, false, false, false, false, false, false, false, false, false, false, false, false, false, false, false, false, false, false, false, false, false, false, false, false, false, false, false, false, false, false, false, false, false, false, false, true, true, true, true, false, false, false, false, false, false, false, false]}, {\"title\": \"Indicador 23: \\u00cdndice de operaci\\u00f3n eficiente (%) (Par\\u00e1metro \\u00f3ptimo: 65-75%)\", \"xaxis\": {\"title\": \"EPSAs Categor\\u00eda D\", \"titlefont\": {\"family\": \"Courier New, monospace\", \"size\": 18, \"color\": \"#7f7f7f\"}}, \"yaxis\": {\"title\": \"Unidad: %\", \"titlefont\": {\"family\": \"Courier New, monospace\", \"size\": 18, \"color\": \"#7f7f7f\"}}, \"shapes\": [{\"type\": \"rect\", \"xref\": \"paper\", \"yref\": \"y\", \"x0\": 0, \"y0\": 65, \"x1\": 1, \"y1\": 75, \"fillcolor\": \"#1f77b4\", \"opacity\": 0.2, \"line\": {\"width\": 0}}]}], \"label\": \"Indicador 23 - categor\\u00eda D\", \"method\": \"update\"}], \"direction\": \"up\", \"x\": 0, \"xanchor\": \"left\", \"y\": -0.25, \"yanchor\": \"top\"}, {\"active\": 0, \"buttons\": [{\"args\": [{\"visible\": [false, false, false, false, true, true, true, true, false, false, false, false, false, false, false, false, false, false, false, false, false, false, false, false, false, false, false, false, false, false, false, false, false, false, false, false, false, false, false, false, false, false, false, false, false, false, false, false]}, {\"title\": \"Indicador 27: Tarifa media (%CUO(Bs.)) \", \"xaxis\": {\"title\": \"EPSAs Categor\\u00eda A\", \"titlefont\": {\"family\": \"Courier New, monospace\", \"size\": 18, \"color\": \"#7f7f7f\"}}, \"yaxis\": {\"title\": \"Unidad: %CUO(Bs.)\", \"titlefont\": {\"family\": \"Courier New, monospace\", \"size\": 18, \"color\": \"#7f7f7f\"}}, \"shapes\": []}], \"label\": \"Indicador 27 - categor\\u00eda A\", \"method\": \"update\"}, {\"args\": [{\"visible\": [false, false, false, false, false, false, false, false, false, false, false, false, false, false, false, false, true, true, true, true, false, false, false, false, false, false, false, false, false, false, false, false, false, false, false, false, false, false, false, false, false, false, false, false, false, false, false, false]}, {\"title\": \"Indicador 27: Tarifa media (%CUO(Bs.)) \", \"xaxis\": {\"title\": \"EPSAs Categor\\u00eda B\", \"titlefont\": {\"family\": \"Courier New, monospace\", \"size\": 18, \"color\": \"#7f7f7f\"}}, \"yaxis\": {\"title\": \"Unidad: %CUO(Bs.)\", \"titlefont\": {\"family\": \"Courier New, monospace\", \"size\": 18, \"color\": \"#7f7f7f\"}}, \"shapes\": []}], \"label\": \"Indicador 27 - categor\\u00eda B\", \"method\": \"update\"}, {\"args\": [{\"visible\": [false, false, false, false, false, false, false, false, false, false, false, false, false, false, false, false, false, false, false, false, false, false, false, false, false, false, false, false, true, true, true, true, false, false, false, false, false, false, false, false, false, false, false, false, false, false, false, false]}, {\"title\": \"Indicador 27: Tarifa media (%CUO(Bs.)) \", \"xaxis\": {\"title\": \"EPSAs Categor\\u00eda C\", \"titlefont\": {\"family\": \"Courier New, monospace\", \"size\": 18, \"color\": \"#7f7f7f\"}}, \"yaxis\": {\"title\": \"Unidad: %CUO(Bs.)\", \"titlefont\": {\"family\": \"Courier New, monospace\", \"size\": 18, \"color\": \"#7f7f7f\"}}, \"shapes\": []}], \"label\": \"Indicador 27 - categor\\u00eda C\", \"method\": \"update\"}, {\"args\": [{\"visible\": [false, false, false, false, false, false, false, false, false, false, false, false, false, false, false, false, false, false, false, false, false, false, false, false, false, false, false, false, false, false, false, false, false, false, false, false, false, false, false, false, true, true, true, true, false, false, false, false]}, {\"title\": \"Indicador 27: Tarifa media (%CUO(Bs.)) \", \"xaxis\": {\"title\": \"EPSAs Categor\\u00eda D\", \"titlefont\": {\"family\": \"Courier New, monospace\", \"size\": 18, \"color\": \"#7f7f7f\"}}, \"yaxis\": {\"title\": \"Unidad: %CUO(Bs.)\", \"titlefont\": {\"family\": \"Courier New, monospace\", \"size\": 18, \"color\": \"#7f7f7f\"}}, \"shapes\": []}], \"label\": \"Indicador 27 - categor\\u00eda D\", \"method\": \"update\"}], \"direction\": \"up\", \"x\": 0.3, \"xanchor\": \"left\", \"y\": -0.25, \"yanchor\": \"top\"}, {\"active\": 0, \"buttons\": [{\"args\": [{\"visible\": [false, false, false, false, false, false, false, false, true, true, true, true, false, false, false, false, false, false, false, false, false, false, false, false, false, false, false, false, false, false, false, false, false, false, false, false, false, false, false, false, false, false, false, false, false, false, false, false]}, {\"title\": \"Indicador 28: Costo unitario de operaci\\u00f3n (%TM(Bs.)) \", \"xaxis\": {\"title\": \"EPSAs Categor\\u00eda A\", \"titlefont\": {\"family\": \"Courier New, monospace\", \"size\": 18, \"color\": \"#7f7f7f\"}}, \"yaxis\": {\"title\": \"Unidad: %TM(Bs.)\", \"titlefont\": {\"family\": \"Courier New, monospace\", \"size\": 18, \"color\": \"#7f7f7f\"}}, \"shapes\": []}], \"label\": \"Indicador 28 - categor\\u00eda A\", \"method\": \"update\"}, {\"args\": [{\"visible\": [false, false, false, false, false, false, false, false, false, false, false, false, false, false, false, false, false, false, false, false, true, true, true, true, false, false, false, false, false, false, false, false, false, false, false, false, false, false, false, false, false, false, false, false, false, false, false, false]}, {\"title\": \"Indicador 28: Costo unitario de operaci\\u00f3n (%TM(Bs.)) \", \"xaxis\": {\"title\": \"EPSAs Categor\\u00eda B\", \"titlefont\": {\"family\": \"Courier New, monospace\", \"size\": 18, \"color\": \"#7f7f7f\"}}, \"yaxis\": {\"title\": \"Unidad: %TM(Bs.)\", \"titlefont\": {\"family\": \"Courier New, monospace\", \"size\": 18, \"color\": \"#7f7f7f\"}}, \"shapes\": []}], \"label\": \"Indicador 28 - categor\\u00eda B\", \"method\": \"update\"}, {\"args\": [{\"visible\": [false, false, false, false, false, false, false, false, false, false, false, false, false, false, false, false, false, false, false, false, false, false, false, false, false, false, false, false, false, false, false, false, true, true, true, true, false, false, false, false, false, false, false, false, false, false, false, false]}, {\"title\": \"Indicador 28: Costo unitario de operaci\\u00f3n (%TM(Bs.)) \", \"xaxis\": {\"title\": \"EPSAs Categor\\u00eda C\", \"titlefont\": {\"family\": \"Courier New, monospace\", \"size\": 18, \"color\": \"#7f7f7f\"}}, \"yaxis\": {\"title\": \"Unidad: %TM(Bs.)\", \"titlefont\": {\"family\": \"Courier New, monospace\", \"size\": 18, \"color\": \"#7f7f7f\"}}, \"shapes\": []}], \"label\": \"Indicador 28 - categor\\u00eda C\", \"method\": \"update\"}, {\"args\": [{\"visible\": [false, false, false, false, false, false, false, false, false, false, false, false, false, false, false, false, false, false, false, false, false, false, false, false, false, false, false, false, false, false, false, false, false, false, false, false, false, false, false, false, false, false, false, false, true, true, true, true]}, {\"title\": \"Indicador 28: Costo unitario de operaci\\u00f3n (%TM(Bs.)) \", \"xaxis\": {\"title\": \"EPSAs Categor\\u00eda D\", \"titlefont\": {\"family\": \"Courier New, monospace\", \"size\": 18, \"color\": \"#7f7f7f\"}}, \"yaxis\": {\"title\": \"Unidad: %TM(Bs.)\", \"titlefont\": {\"family\": \"Courier New, monospace\", \"size\": 18, \"color\": \"#7f7f7f\"}}, \"shapes\": []}], \"label\": \"Indicador 28 - categor\\u00eda D\", \"method\": \"update\"}], \"direction\": \"up\", \"x\": 0.6, \"xanchor\": \"left\", \"y\": -0.25, \"yanchor\": \"top\"}], \"xaxis\": {\"title\": \"EPSAs Categor\\u00eda A\", \"titlefont\": {\"color\": \"#7f7f7f\", \"family\": \"Courier New, monospace\", \"size\": 18}}, \"yaxis\": {\"title\": \"Unidad: %\", \"titlefont\": {\"color\": \"#7f7f7f\", \"family\": \"Courier New, monospace\", \"size\": 18}}},\n",
       "            {\"showLink\": true, \"linkText\": \"Export to plot.ly\"}\n",
       "        ).then(function () {return Plotly.addFrames('7ccfe962-094c-49ab-b9a3-95fb24d11074',{});}).then(function(){Plotly.animate('7ccfe962-094c-49ab-b9a3-95fb24d11074');})\n",
       "        });</script>"
      ],
      "text/vnd.plotly.v1+html": [
       "<div id=\"7ccfe962-094c-49ab-b9a3-95fb24d11074\" style=\"height: 525px; width: 100%;\" class=\"plotly-graph-div\"></div><script type=\"text/javascript\">require([\"plotly\"], function(Plotly) { window.PLOTLYENV=window.PLOTLYENV || {};window.PLOTLYENV.BASE_URL=\"https://plot.ly\";\n",
       "        Plotly.plot(\n",
       "            '7ccfe962-094c-49ab-b9a3-95fb24d11074',\n",
       "            [{\"marker\": {\"color\": \"#1f77b4\"}, \"name\": \"2014\", \"opacity\": 0.8, \"text\": \"%\", \"visible\": true, \"x\": [\"EPSAS\", \"SAGUAPAC\", \"SEMAPA\"], \"y\": [71.3, 72.72, 66.79], \"type\": \"bar\", \"uid\": \"a4ee21b8-cc9b-11e8-a928-f0761c9f65e1\"}, {\"marker\": {\"color\": \"#ff7f0e\"}, \"name\": \"2015\", \"opacity\": 0.8, \"text\": \"%\", \"visible\": true, \"x\": [\"EPSAS\", \"SAGUAPAC\", \"SEMAPA\"], \"y\": [71.71, 75.42, 60.08], \"type\": \"bar\", \"uid\": \"a4ee21b9-cc9b-11e8-a3f4-f0761c9f65e1\"}, {\"marker\": {\"color\": \"#2ca02c\"}, \"name\": \"2016\", \"opacity\": 0.8, \"text\": \"%\", \"visible\": true, \"x\": [\"EPSAS\", \"SAGUAPAC\", \"SEMAPA\"], \"y\": [67.95, 73.69, 68.03], \"type\": \"bar\", \"uid\": \"a4ee21ba-cc9b-11e8-a746-f0761c9f65e1\"}, {\"marker\": {\"color\": \"#d62728\"}, \"name\": \"2017\", \"opacity\": 0.8, \"text\": \"%\", \"visible\": true, \"x\": [\"EPSAS\", \"SAGUAPAC\", \"SEMAPA\"], \"y\": [67.94, 69.86, 73.72], \"type\": \"bar\", \"uid\": \"a4ee21bb-cc9b-11e8-8f83-f0761c9f65e1\"}, {\"marker\": {\"color\": \"#1f77b4\"}, \"name\": \"2014\", \"opacity\": 0.8, \"text\": \"%CUO(Bs.)\", \"visible\": false, \"x\": [\"EPSAS\", \"SAGUAPAC\", \"SEMAPA\"], \"y\": [5.2, 5.47, 8.29], \"type\": \"bar\", \"uid\": \"a4ee21bc-cc9b-11e8-95e4-f0761c9f65e1\"}, {\"marker\": {\"color\": \"#ff7f0e\"}, \"name\": \"2015\", \"opacity\": 0.8, \"text\": \"%CUO(Bs.)\", \"visible\": false, \"x\": [\"EPSAS\", \"SAGUAPAC\", \"SEMAPA\"], \"y\": [5.22, 5.49, 8.09], \"type\": \"bar\", \"uid\": \"a4ee21bd-cc9b-11e8-aa8e-f0761c9f65e1\"}, {\"marker\": {\"color\": \"#2ca02c\"}, \"name\": \"2016\", \"opacity\": 0.8, \"text\": \"%CUO(Bs.)\", \"visible\": false, \"x\": [\"EPSAS\", \"SAGUAPAC\", \"SEMAPA\"], \"y\": [5.61, 5.53, 9.63], \"type\": \"bar\", \"uid\": \"a4ee21be-cc9b-11e8-9e45-f0761c9f65e1\"}, {\"marker\": {\"color\": \"#d62728\"}, \"name\": \"2017\", \"opacity\": 0.8, \"text\": \"%CUO(Bs.)\", \"visible\": false, \"x\": [\"EPSAS\", \"SAGUAPAC\", \"SEMAPA\"], \"y\": [5.58, 5.67, 10.36], \"type\": \"bar\", \"uid\": \"a4ee21bf-cc9b-11e8-83be-f0761c9f65e1\"}, {\"marker\": {\"color\": \"#1f77b4\"}, \"name\": \"2014\", \"opacity\": 0.8, \"text\": \"%TM(Bs.)\", \"visible\": false, \"x\": [\"EPSAS\", \"SAGUAPAC\", \"SEMAPA\"], \"y\": [4.43, 5.38, 10.16], \"type\": \"bar\", \"uid\": \"a4ee21c0-cc9b-11e8-b719-f0761c9f65e1\"}, {\"marker\": {\"color\": \"#ff7f0e\"}, \"name\": \"2015\", \"opacity\": 0.8, \"text\": \"%TM(Bs.)\", \"visible\": false, \"x\": [\"EPSAS\", \"SAGUAPAC\", \"SEMAPA\"], \"y\": [4.47, 5.52, 9.84], \"type\": \"bar\", \"uid\": \"a4ee21c1-cc9b-11e8-a8d3-f0761c9f65e1\"}, {\"marker\": {\"color\": \"#2ca02c\"}, \"name\": \"2016\", \"opacity\": 0.8, \"text\": \"%TM(Bs.)\", \"visible\": false, \"x\": [\"EPSAS\", \"SAGUAPAC\", \"SEMAPA\"], \"y\": [4.59, 5.43, 12.85], \"type\": \"bar\", \"uid\": \"a4ee21c2-cc9b-11e8-9025-f0761c9f65e1\"}, {\"marker\": {\"color\": \"#d62728\"}, \"name\": \"2017\", \"opacity\": 0.8, \"text\": \"%TM(Bs.)\", \"visible\": false, \"x\": [\"EPSAS\", \"SAGUAPAC\", \"SEMAPA\"], \"y\": [4.75, 5.45, 15.03], \"type\": \"bar\", \"uid\": \"a4ee21c3-cc9b-11e8-ae86-f0761c9f65e1\"}, {\"marker\": {\"color\": \"#1f77b4\"}, \"name\": \"2014\", \"opacity\": 0.8, \"text\": \"%\", \"visible\": false, \"x\": [\"AAPOS\", \"BUSTILLO\", \"CAPAG\", \"COATRI\", \"COOPAGUAS\", \"COOPAPPI\", \"COOPLAN\", \"COSAALT\", \"COSMOL\", \"COSPAIL\", \"ELAPAS\", \"EMAPAS\", \"EMAPAV\", \"EMAPYC\", \"EPSA COBIJA\", \"MANCHACO\", \"SAJUBA\", \"SELA\"], \"y\": [80.2, 128.59, 107.06, 124.84, 96.42, 90.36, 90.81, 80.61, 111.92, 80.81, 80.28, 110.95, 87.91, 86.17, 125.61, 118.16, 74.24, 68.34], \"type\": \"bar\", \"uid\": \"a4ee21c4-cc9b-11e8-bf4e-f0761c9f65e1\"}, {\"marker\": {\"color\": \"#ff7f0e\"}, \"name\": \"2015\", \"opacity\": 0.8, \"text\": \"%\", \"visible\": false, \"x\": [\"AAPOS\", \"BUSTILLO\", \"CAPAG\", \"COATRI\", \"COOPAGUAS\", \"COOPAPPI\", \"COOPLAN\", \"COSAALT\", \"COSMOL\", \"COSPAIL\", \"ELAPAS\", \"EMAPAS\", \"EMAPAV\", \"EMAPYC\", \"EPSA COBIJA\", \"MANCHACO\", \"SAJUBA\", \"SELA\"], \"y\": [80.32, 121.9, 96.63, 115.03, 98.86, 99.91, 95.05, 87.49, 112.93, 90.76, 76.68, 133.05, 87.96, 92.33, 158.52, 104.66, 104.28, 69.27], \"type\": \"bar\", \"uid\": \"a4ee21c5-cc9b-11e8-a01d-f0761c9f65e1\"}, {\"marker\": {\"color\": \"#2ca02c\"}, \"name\": \"2016\", \"opacity\": 0.8, \"text\": \"%\", \"visible\": false, \"x\": [\"AAPOS\", \"BUSTILLO\", \"CAPAG\", \"COATRI\", \"COOPAGUAS\", \"COOPAPPI\", \"COOPLAN\", \"COSAALT\", \"COSMOL\", \"COSPAIL\", \"ELAPAS\", \"EMAPAS\", \"EMAPAV\", \"EMAPYC\", \"EPSA COBIJA\", \"MANCHACO\", \"SAJUBA\", \"SELA\"], \"y\": [117.44, 123.54, 104.9, 118.34, 105.7, 120.19, 97.59, 93.62, 100.0, 94.11, 69.55, 197.91, 99.68, 102.85, 118.67, 146.67, 104.66, 69.03], \"type\": \"bar\", \"uid\": \"a4ee21c6-cc9b-11e8-9e1a-f0761c9f65e1\"}, {\"marker\": {\"color\": \"#d62728\"}, \"name\": \"2017\", \"opacity\": 0.8, \"text\": \"%\", \"visible\": false, \"x\": [\"AAPOS\", \"BUSTILLO\", \"CAPAG\", \"COATRI\", \"COOPAGUAS\", \"COOPAPPI\", \"COOPLAN\", \"COSAALT\", \"COSMOL\", \"COSPAIL\", \"ELAPAS\", \"EMAPAS\", \"EMAPAV\", \"EMAPYC\", \"EPSA COBIJA\", \"MANCHACO\", \"SAJUBA\", \"SELA\"], \"y\": [98.2, 93.29, 104.26, 124.9, 100.35, 101.12, 102.94, 83.34, 99.55, 96.38, 70.93, 90.9, 107.7, 101.88, 110.88, 117.76, 98.14, 74.56], \"type\": \"bar\", \"uid\": \"a4ee21c7-cc9b-11e8-b559-f0761c9f65e1\"}, {\"marker\": {\"color\": \"#1f77b4\"}, \"name\": \"2014\", \"opacity\": 0.8, \"text\": \"%CUO(Bs.)\", \"visible\": false, \"x\": [\"AAPOS\", \"BUSTILLO\", \"CAPAG\", \"COATRI\", \"COOPAGUAS\", \"COOPAPPI\", \"COOPLAN\", \"COSAALT\", \"COSMOL\", \"COSPAIL\", \"ELAPAS\", \"EMAPAS\", \"EMAPAV\", \"EMAPYC\", \"EPSA COBIJA\", \"MANCHACO\", \"SAJUBA\", \"SELA\"], \"y\": [3.09, null, 2.84, 4.52, 3.32, 2.69, 3.34, 3.26, 3.37, 3.37, 5.48, 6.89, 2.38, 5.84, 2.16, 2.22, 2.36, 4.38], \"type\": \"bar\", \"uid\": \"a4ee21c8-cc9b-11e8-a3e0-f0761c9f65e1\"}, {\"marker\": {\"color\": \"#ff7f0e\"}, \"name\": \"2015\", \"opacity\": 0.8, \"text\": \"%CUO(Bs.)\", \"visible\": false, \"x\": [\"AAPOS\", \"BUSTILLO\", \"CAPAG\", \"COATRI\", \"COOPAGUAS\", \"COOPAPPI\", \"COOPLAN\", \"COSAALT\", \"COSMOL\", \"COSPAIL\", \"ELAPAS\", \"EMAPAS\", \"EMAPAV\", \"EMAPYC\", \"EPSA COBIJA\", \"MANCHACO\", \"SAJUBA\", \"SELA\"], \"y\": [2.73, null, 2.85, 5.28, 3.34, 2.48, 2.95, 3.75, 3.38, 3.58, 5.67, null, 2.05, 5.74, null, 1.35, 2.23, 4.59], \"type\": \"bar\", \"uid\": \"a4ee21c9-cc9b-11e8-b087-f0761c9f65e1\"}, {\"marker\": {\"color\": \"#2ca02c\"}, \"name\": \"2016\", \"opacity\": 0.8, \"text\": \"%CUO(Bs.)\", \"visible\": false, \"x\": [\"AAPOS\", \"BUSTILLO\", \"CAPAG\", \"COATRI\", \"COOPAGUAS\", \"COOPAPPI\", \"COOPLAN\", \"COSAALT\", \"COSMOL\", \"COSPAIL\", \"ELAPAS\", \"EMAPAS\", \"EMAPAV\", \"EMAPYC\", \"EPSA COBIJA\", \"MANCHACO\", \"SAJUBA\", \"SELA\"], \"y\": [2.69, 1.1, 2.4, 5.83, 3.18, null, 2.65, 3.73, 3.27, 3.66, 5.81, null, 2.27, 5.23, 1.59, 1.22, 2.3, 4.67], \"type\": \"bar\", \"uid\": \"a4ee21ca-cc9b-11e8-860f-f0761c9f65e1\"}, {\"marker\": {\"color\": \"#d62728\"}, \"name\": \"2017\", \"opacity\": 0.8, \"text\": \"%CUO(Bs.)\", \"visible\": false, \"x\": [\"AAPOS\", \"BUSTILLO\", \"CAPAG\", \"COATRI\", \"COOPAGUAS\", \"COOPAPPI\", \"COOPLAN\", \"COSAALT\", \"COSMOL\", \"COSPAIL\", \"ELAPAS\", \"EMAPAS\", \"EMAPAV\", \"EMAPYC\", \"EPSA COBIJA\", \"MANCHACO\", \"SAJUBA\", \"SELA\"], \"y\": [3.58, 1.07, 2.44, 5.75, 3.67, 2.3, 2.96, 3.65, 3.43, 3.82, 5.92, 3.87, 2.39, 5.95, 1.82, 1.92, 2.24, 4.77], \"type\": \"bar\", \"uid\": \"a4ee21cb-cc9b-11e8-a3b2-f0761c9f65e1\"}, {\"marker\": {\"color\": \"#1f77b4\"}, \"name\": \"2014\", \"opacity\": 0.8, \"text\": \"%TM(Bs.)\", \"visible\": false, \"x\": [\"AAPOS\", \"BUSTILLO\", \"CAPAG\", \"COATRI\", \"COOPAGUAS\", \"COOPAPPI\", \"COOPLAN\", \"COSAALT\", \"COSMOL\", \"COSPAIL\", \"ELAPAS\", \"EMAPAS\", \"EMAPAV\", \"EMAPYC\", \"EPSA COBIJA\", \"MANCHACO\", \"SAJUBA\", \"SELA\"], \"y\": [2.91, null, 3.76, 7.86, 3.56, 4.3, 3.08, 3.2, 5.03, 3.05, 6.68, 8.88, 2.27, 6.92, 2.74, 4.46, 2.39, 3.38], \"type\": \"bar\", \"uid\": \"a4ee21cc-cc9b-11e8-8580-f0761c9f65e1\"}, {\"marker\": {\"color\": \"#ff7f0e\"}, \"name\": \"2015\", \"opacity\": 0.8, \"text\": \"%TM(Bs.)\", \"visible\": false, \"x\": [\"AAPOS\", \"BUSTILLO\", \"CAPAG\", \"COATRI\", \"COOPAGUAS\", \"COOPAPPI\", \"COOPLAN\", \"COSAALT\", \"COSMOL\", \"COSPAIL\", \"ELAPAS\", \"EMAPAS\", \"EMAPAV\", \"EMAPYC\", \"EPSA COBIJA\", \"MANCHACO\", \"SAJUBA\", \"SELA\"], \"y\": [2.87, null, 3.43, 8.69, 3.67, 3.9, 3.39, 3.98, 4.84, 3.66, 7.15, null, 2.35, 7.76, null, 3.05, 3.01, 5.16], \"type\": \"bar\", \"uid\": \"a4ee21cd-cc9b-11e8-ba97-f0761c9f65e1\"}, {\"marker\": {\"color\": \"#2ca02c\"}, \"name\": \"2016\", \"opacity\": 0.8, \"text\": \"%TM(Bs.)\", \"visible\": false, \"x\": [\"AAPOS\", \"BUSTILLO\", \"CAPAG\", \"COATRI\", \"COOPAGUAS\", \"COOPAPPI\", \"COOPLAN\", \"COSAALT\", \"COSMOL\", \"COSPAIL\", \"ELAPAS\", \"EMAPAS\", \"EMAPAV\", \"EMAPYC\", \"EPSA COBIJA\", \"MANCHACO\", \"SAJUBA\", \"SELA\"], \"y\": [4.07, 2.17, 3.52, 9.08, 4.17, null, 3.39, 3.85, 4.67, 3.9, 6.7, null, 3.12, 7.9, 2.22, 3.8, 3.0, 5.02], \"type\": \"bar\", \"uid\": \"a4ee21ce-cc9b-11e8-beb4-f0761c9f65e1\"}, {\"marker\": {\"color\": \"#d62728\"}, \"name\": \"2017\", \"opacity\": 0.8, \"text\": \"%TM(Bs.)\", \"visible\": false, \"x\": [\"AAPOS\", \"BUSTILLO\", \"CAPAG\", \"COATRI\", \"COOPAGUAS\", \"COOPAPPI\", \"COOPLAN\", \"COSAALT\", \"COSMOL\", \"COSPAIL\", \"ELAPAS\", \"EMAPAS\", \"EMAPAV\", \"EMAPYC\", \"EPSA COBIJA\", \"MANCHACO\", \"SAJUBA\", \"SELA\"], \"y\": [4.64, 2.19, 3.34, 9.74, 4.23, 2.58, 3.65, 4.06, 4.73, 4.16, 6.9, 7.29, 3.43, 8.21, 2.39, 4.4, 2.93, 5.3], \"type\": \"bar\", \"uid\": \"a4ee21cf-cc9b-11e8-8726-f0761c9f65e1\"}, {\"marker\": {\"color\": \"#1f77b4\"}, \"name\": \"2014\", \"opacity\": 0.8, \"text\": \"%\", \"visible\": false, \"x\": [\"CAPU\", \"COMAYO\", \"COOPAGUAB\", \"COOPLIM\", \"COOSIV\", \"COOSPELCAR\", \"COSAJU\", \"COSAP\", \"COSAPAC\", \"COSAPSI\", \"COSCHAL\", \"COSEPA\", \"COSEPA\", \"COSIMBO\", \"COSMIN\", \"COSMON\", \"COSPHUL\", \"COSPUGEBUL\", \"EMAAB\", \"EMAPA\", \"EMPSAAT\", \"EMSABAV\", \"FLORIDA\", \"LA GUARDIA\", \"LA PORTE\\u00d1A\", \"SAMAPAR\", \"SEAPAS\"], \"y\": [90.4, null, 93.3, 93.64, 97.69, 88.32, 74.27, 98.29, 125.56, 106.23, 100.18, null, 81.11, null, 85.74, 88.57, 97.9, 104.67, 176.06, 120.88, 93.27, 92.85, 95.0, 94.92, 105.41, 103.28, 98.63], \"type\": \"bar\", \"uid\": \"a4ee21d0-cc9b-11e8-b919-f0761c9f65e1\"}, {\"marker\": {\"color\": \"#ff7f0e\"}, \"name\": \"2015\", \"opacity\": 0.8, \"text\": \"%\", \"visible\": false, \"x\": [\"CAPU\", \"COMAYO\", \"COOPAGUAB\", \"COOPLIM\", \"COOSIV\", \"COOSPELCAR\", \"COSAJU\", \"COSAP\", \"COSAPAC\", \"COSAPSI\", \"COSCHAL\", \"COSEPA\", \"COSEPA\", \"COSIMBO\", \"COSMIN\", \"COSMON\", \"COSPHUL\", \"COSPUGEBUL\", \"EMAAB\", \"EMAPA\", \"EMPSAAT\", \"EMSABAV\", \"FLORIDA\", \"LA GUARDIA\", \"LA PORTE\\u00d1A\", \"SAMAPAR\", \"SEAPAS\"], \"y\": [91.9, 83.74, 94.97, 87.38, 103.66, 111.8, 80.18, 94.5, 93.14, 98.73, 104.14, 112.24, 105.78, 74.06, 110.87, 83.28, 93.68, 93.47, 148.01, 101.0, 95.63, 93.46, 102.64, 95.98, 110.09, 99.59, 83.64], \"type\": \"bar\", \"uid\": \"a4ee21d1-cc9b-11e8-944f-f0761c9f65e1\"}, {\"marker\": {\"color\": \"#2ca02c\"}, \"name\": \"2016\", \"opacity\": 0.8, \"text\": \"%\", \"visible\": false, \"x\": [\"CAPU\", \"COMAYO\", \"COOPAGUAB\", \"COOPLIM\", \"COOSIV\", \"COOSPELCAR\", \"COSAJU\", \"COSAP\", \"COSAPAC\", \"COSAPSI\", \"COSCHAL\", \"COSEPA\", \"COSEPA\", \"COSEPCO\", \"COSEPUR\", \"COSIMBO\", \"COSMIN\", \"COSMON\", \"COSPHUL\", \"COSPUGEBUL\", \"EMAAB\", \"EMAPA\", \"EMPSAAT\", \"EMSABAV\", \"FLORIDA\", \"LA GUARDIA\", \"LA PORTE\\u00d1A\", \"SAMAPAR\", \"SEAPAS\", \"SMAPA\"], \"y\": [84.72, 93.38, 89.52, 79.44, 154.63, 97.06, 81.87, 93.32, 90.39, 95.1, 95.9, 107.42, 104.61, 120.1, 108.98, 143.36, 107.82, 79.56, 91.86, 99.4, 129.66, 113.25, 87.39, 87.99, 84.16, 91.29, 114.94, 89.34, 77.35, null], \"type\": \"bar\", \"uid\": \"a4ee21d2-cc9b-11e8-905b-f0761c9f65e1\"}, {\"marker\": {\"color\": \"#d62728\"}, \"name\": \"2017\", \"opacity\": 0.8, \"text\": \"%\", \"visible\": false, \"x\": [\"6 DE OCTUBRE\", \"CAPU\", \"COAPASB\", \"COMAYO\", \"COOPAGUAB\", \"COOPLIM\", \"COOSIV\", \"COOSPELCAR\", \"COSAJU\", \"COSAP\", \"COSAPAC\", \"COSAPSI\", \"COSCHAL\", \"COSEPCO\", \"COSEPUR\", \"COSFAL\", \"COSIMBO\", \"COSMIN\", \"COSMON\", \"COSPAS\", \"COSPHUL\", \"COSPOL\", \"COSPUGEBUL\", \"EMAAB\", \"EMAPA\", \"EMPSAAT\", \"EMSABAV\", \"FLORIDA\", \"LA GUARDIA\", \"LA PORTE\\u00d1A\", \"SAMAPAR\", \"SEAPAS\", \"SEMAPAR\", \"SMAPA\"], \"y\": [107.46, 87.12, null, 89.88, 94.67, 82.69, 145.6, 105.87, 86.95, 93.98, 107.23, 102.55, 92.01, 103.32, 99.23, 67.65, 123.16, 84.92, 79.82, 96.66, 90.43, 89.45, 79.74, 118.1, 99.96, 107.94, 87.35, 104.31, 101.33, 108.19, 83.68, 82.01, 138.9, 146.26], \"type\": \"bar\", \"uid\": \"a4ee21d3-cc9b-11e8-858f-f0761c9f65e1\"}, {\"marker\": {\"color\": \"#1f77b4\"}, \"name\": \"2014\", \"opacity\": 0.8, \"text\": \"%CUO(Bs.)\", \"visible\": false, \"x\": [\"CAPU\", \"COMAYO\", \"COOPAGUAB\", \"COOPLIM\", \"COOSIV\", \"COOSPELCAR\", \"COSAJU\", \"COSAP\", \"COSAPAC\", \"COSAPSI\", \"COSCHAL\", \"COSEPA\", \"COSEPA\", \"COSIMBO\", \"COSMIN\", \"COSMON\", \"COSPHUL\", \"COSPUGEBUL\", \"EMAAB\", \"EMAPA\", \"EMPSAAT\", \"EMSABAV\", \"FLORIDA\", \"LA GUARDIA\", \"LA PORTE\\u00d1A\", \"SAMAPAR\", \"SEAPAS\"], \"y\": [5.75, null, 2.28, 3.28, 1.79, 2.37, null, 2.8, null, 1.47, 3.35, null, 3.62, null, 2.24, 3.76, 5.27, 2.98, 1.14, null, 2.53, null, null, 2.37, null, null, 2.66], \"type\": \"bar\", \"uid\": \"a4ee21d4-cc9b-11e8-b5d2-f0761c9f65e1\"}, {\"marker\": {\"color\": \"#ff7f0e\"}, \"name\": \"2015\", \"opacity\": 0.8, \"text\": \"%CUO(Bs.)\", \"visible\": false, \"x\": [\"CAPU\", \"COMAYO\", \"COOPAGUAB\", \"COOPLIM\", \"COOSIV\", \"COOSPELCAR\", \"COSAJU\", \"COSAP\", \"COSAPAC\", \"COSAPSI\", \"COSCHAL\", \"COSEPA\", \"COSEPA\", \"COSIMBO\", \"COSMIN\", \"COSMON\", \"COSPHUL\", \"COSPUGEBUL\", \"EMAAB\", \"EMAPA\", \"EMPSAAT\", \"EMSABAV\", \"FLORIDA\", \"LA GUARDIA\", \"LA PORTE\\u00d1A\", \"SAMAPAR\", \"SEAPAS\"], \"y\": [2.84, null, 2.78, 3.28, 1.93, 2.41, 2.79, 3.35, null, null, 3.5, null, 3.04, 7.26, 2.42, 4.2, 5.75, 3.45, 0.9, 2.16, 2.52, null, 2.37, 2.85, 4.59, 1.58, 2.98], \"type\": \"bar\", \"uid\": \"a4ee21d5-cc9b-11e8-a14b-f0761c9f65e1\"}, {\"marker\": {\"color\": \"#2ca02c\"}, \"name\": \"2016\", \"opacity\": 0.8, \"text\": \"%CUO(Bs.)\", \"visible\": false, \"x\": [\"CAPU\", \"COMAYO\", \"COOPAGUAB\", \"COOPLIM\", \"COOSIV\", \"COOSPELCAR\", \"COSAJU\", \"COSAP\", \"COSAPAC\", \"COSAPSI\", \"COSCHAL\", \"COSEPA\", \"COSEPA\", \"COSEPCO\", \"COSEPUR\", \"COSIMBO\", \"COSMIN\", \"COSMON\", \"COSPHUL\", \"COSPUGEBUL\", \"EMAAB\", \"EMAPA\", \"EMPSAAT\", \"EMSABAV\", \"FLORIDA\", \"LA GUARDIA\", \"LA PORTE\\u00d1A\", \"SAMAPAR\", \"SEAPAS\", \"SMAPA\"], \"y\": [0.59, 3.12, 2.76, 3.39, 1.9, 2.44, 2.83, 3.02, null, 2.05, 3.81, 2.86, 2.81, null, 1.98, 2.58, 2.47, 4.52, 5.47, 2.58, 0.99, 1.78, 2.58, 1.67, 2.57, 3.45, 4.61, 1.57, 3.15, null], \"type\": \"bar\", \"uid\": \"a4ee21d6-cc9b-11e8-90b8-f0761c9f65e1\"}, {\"marker\": {\"color\": \"#d62728\"}, \"name\": \"2017\", \"opacity\": 0.8, \"text\": \"%CUO(Bs.)\", \"visible\": false, \"x\": [\"6 DE OCTUBRE\", \"CAPU\", \"COAPASB\", \"COMAYO\", \"COOPAGUAB\", \"COOPLIM\", \"COOSIV\", \"COOSPELCAR\", \"COSAJU\", \"COSAP\", \"COSAPAC\", \"COSAPSI\", \"COSCHAL\", \"COSEPCO\", \"COSEPUR\", \"COSFAL\", \"COSIMBO\", \"COSMIN\", \"COSMON\", \"COSPAS\", \"COSPHUL\", \"COSPOL\", \"COSPUGEBUL\", \"EMAAB\", \"EMAPA\", \"EMPSAAT\", \"EMSABAV\", \"FLORIDA\", \"LA GUARDIA\", \"LA PORTE\\u00d1A\", \"SAMAPAR\", \"SEAPAS\", \"SEMAPAR\", \"SMAPA\"], \"y\": [3.23, 2.72, null, 3.74, 2.77, 3.55, 1.92, 2.52, 2.86, 3.1, 0.3, 2.04, 3.76, 6.06, 1.82, 2.64, 2.64, 2.7, 4.73, 6.47, 5.23, 2.99, 3.1, 0.96, 1.95, 2.65, 3.03, 2.35, 3.53, 4.14, 1.59, 3.27, 4.37, null], \"type\": \"bar\", \"uid\": \"a4ee21d7-cc9b-11e8-841b-f0761c9f65e1\"}, {\"marker\": {\"color\": \"#1f77b4\"}, \"name\": \"2014\", \"opacity\": 0.8, \"text\": \"%TM(Bs.)\", \"visible\": false, \"x\": [\"CAPU\", \"COMAYO\", \"COOPAGUAB\", \"COOPLIM\", \"COOSIV\", \"COOSPELCAR\", \"COSAJU\", \"COSAP\", \"COSAPAC\", \"COSAPSI\", \"COSCHAL\", \"COSEPA\", \"COSEPA\", \"COSIMBO\", \"COSMIN\", \"COSMON\", \"COSPHUL\", \"COSPUGEBUL\", \"EMAAB\", \"EMAPA\", \"EMPSAAT\", \"EMSABAV\", \"FLORIDA\", \"LA GUARDIA\", \"LA PORTE\\u00d1A\", \"SAMAPAR\", \"SEAPAS\"], \"y\": [6.45, null, 4.53, 4.85, 3.41, 2.67, null, 3.3, null, 2.23, 4.29, null, 3.76, null, 3.67, 4.92, 5.76, 5.3, 2.05, null, 2.82, null, null, 3.59, null, null, 3.57], \"type\": \"bar\", \"uid\": \"a4ee21d8-cc9b-11e8-b642-f0761c9f65e1\"}, {\"marker\": {\"color\": \"#ff7f0e\"}, \"name\": \"2015\", \"opacity\": 0.8, \"text\": \"%TM(Bs.)\", \"visible\": false, \"x\": [\"CAPU\", \"COMAYO\", \"COOPAGUAB\", \"COOPLIM\", \"COOSIV\", \"COOSPELCAR\", \"COSAJU\", \"COSAP\", \"COSAPAC\", \"COSAPSI\", \"COSCHAL\", \"COSEPA\", \"COSEPA\", \"COSIMBO\", \"COSMIN\", \"COSMON\", \"COSPHUL\", \"COSPUGEBUL\", \"EMAAB\", \"EMAPA\", \"EMPSAAT\", \"EMSABAV\", \"FLORIDA\", \"LA GUARDIA\", \"LA PORTE\\u00d1A\", \"SAMAPAR\", \"SEAPAS\"], \"y\": [3.26, null, 5.6, 4.43, 3.83, 3.61, 3.65, 3.94, null, null, 4.61, null, 4.28, 7.05, 4.22, 5.06, 5.84, 5.94, 1.59, 2.4, 2.89, null, 4.12, 3.7, 7.03, 2.27, 3.3], \"type\": \"bar\", \"uid\": \"a4ee21d9-cc9b-11e8-83a7-f0761c9f65e1\"}, {\"marker\": {\"color\": \"#2ca02c\"}, \"name\": \"2016\", \"opacity\": 0.8, \"text\": \"%TM(Bs.)\", \"visible\": false, \"x\": [\"CAPU\", \"COMAYO\", \"COOPAGUAB\", \"COOPLIM\", \"COOSIV\", \"COOSPELCAR\", \"COSAJU\", \"COSAP\", \"COSAPAC\", \"COSAPSI\", \"COSCHAL\", \"COSEPA\", \"COSEPA\", \"COSEPCO\", \"COSEPUR\", \"COSIMBO\", \"COSMIN\", \"COSMON\", \"COSPHUL\", \"COSPUGEBUL\", \"EMAAB\", \"EMAPA\", \"EMPSAAT\", \"EMSABAV\", \"FLORIDA\", \"LA GUARDIA\", \"LA PORTE\\u00d1A\", \"SAMAPAR\", \"SEAPAS\", \"SMAPA\"], \"y\": [3.17, 3.49, 5.25, 4.3, 3.69, 3.45, 3.8, 3.91, null, 2.67, 4.32, 3.62, 4.16, null, 2.58, 6.04, 4.26, 5.07, 6.15, 3.8, 1.56, 2.79, 2.81, 2.01, 3.74, 4.25, 7.13, 2.11, 3.26, null], \"type\": \"bar\", \"uid\": \"a4ee21da-cc9b-11e8-9d24-f0761c9f65e1\"}, {\"marker\": {\"color\": \"#d62728\"}, \"name\": \"2017\", \"opacity\": 0.8, \"text\": \"%TM(Bs.)\", \"visible\": false, \"x\": [\"6 DE OCTUBRE\", \"CAPU\", \"COAPASB\", \"COMAYO\", \"COOPAGUAB\", \"COOPLIM\", \"COOSIV\", \"COOSPELCAR\", \"COSAJU\", \"COSAP\", \"COSAPAC\", \"COSAPSI\", \"COSCHAL\", \"COSEPCO\", \"COSEPUR\", \"COSFAL\", \"COSIMBO\", \"COSMIN\", \"COSMON\", \"COSPAS\", \"COSPHUL\", \"COSPOL\", \"COSPUGEBUL\", \"EMAAB\", \"EMAPA\", \"EMPSAAT\", \"EMSABAV\", \"FLORIDA\", \"LA GUARDIA\", \"LA PORTE\\u00d1A\", \"SAMAPAR\", \"SEAPAS\", \"SEMAPAR\", \"SMAPA\"], \"y\": [4.24, 3.46, null, 4.06, 3.86, 4.63, 3.58, 3.51, 3.75, 4.2, 0.52, 2.77, 4.35, 6.88, 2.21, 3.05, 5.17, 3.7, 5.63, 6.76, 6.07, 3.11, 3.8, 1.65, null, 3.33, 3.35, 3.81, 4.63, 5.36, 2.05, 3.53, 11.95, null], \"type\": \"bar\", \"uid\": \"a4ee21db-cc9b-11e8-9a91-f0761c9f65e1\"}, {\"marker\": {\"color\": \"#1f77b4\"}, \"name\": \"2014\", \"opacity\": 0.8, \"text\": \"%\", \"visible\": false, \"x\": [\"CAPSCH\", \"COAPAS VINTO\", \"COOAPASH\", \"COSEPFA\", \"COSEPP\", \"COSERCA\", \"COSSAJA\"], \"y\": [77.79, 87.79, null, null, 118.95, 116.37, 116.05], \"type\": \"bar\", \"uid\": \"a4ee21dc-cc9b-11e8-af84-f0761c9f65e1\"}, {\"marker\": {\"color\": \"#ff7f0e\"}, \"name\": \"2015\", \"opacity\": 0.8, \"text\": \"%\", \"visible\": false, \"x\": [\"CAPSCH\", \"COAPAS VINTO\", \"COOAPASH\", \"COSEPFA\", \"COSEPP\", \"COSERCA\", \"COSSAJA\"], \"y\": [92.24, 79.89, 97.7, 128.28, 90.79, 109.93, 121.83], \"type\": \"bar\", \"uid\": \"a4ee21dd-cc9b-11e8-9d39-f0761c9f65e1\"}, {\"marker\": {\"color\": \"#2ca02c\"}, \"name\": \"2016\", \"opacity\": 0.8, \"text\": \"%\", \"visible\": false, \"x\": [\"ASOAPAL\", \"CAPCHI\", \"CAPSCH\", \"COAPAS VINTO\", \"COLOMI\", \"COOAPASH\", \"COSAJO\", \"COSEPFA\", \"COSEPP\", \"COSERCA\", \"COSSAJA\", \"JASAP\", \"JOROCHITO\"], \"y\": [112.28, 96.71, 80.51, 100.77, 57.81, 65.92, 122.61, 121.72, 80.88, 82.26, 104.19, 99.79, 112.43], \"type\": \"bar\", \"uid\": \"a4ee21de-cc9b-11e8-93c1-f0761c9f65e1\"}, {\"marker\": {\"color\": \"#d62728\"}, \"name\": \"2017\", \"opacity\": 0.8, \"text\": \"%\", \"visible\": false, \"x\": [\"ASOAPAL\", \"CAPCHI\", \"CAPSCH\", \"COAPAS VINTO\", \"COLOMI\", \"COOAPASH\", \"COSEPFA\", \"COSEPP\", \"COSERCA\", \"COSSAJA\", \"JASAP\", \"JOROCHITO\"], \"y\": [64.01, 106.2, 106.32, 89.26, 58.98, 86.32, 122.06, 115.63, 83.21, 112.06, 88.45, 86.05], \"type\": \"bar\", \"uid\": \"a4ee21df-cc9b-11e8-a0a8-f0761c9f65e1\"}, {\"marker\": {\"color\": \"#1f77b4\"}, \"name\": \"2014\", \"opacity\": 0.8, \"text\": \"%CUO(Bs.)\", \"visible\": false, \"x\": [\"CAPSCH\", \"COAPAS VINTO\", \"COOAPASH\", \"COSEPFA\", \"COSEPP\", \"COSERCA\", \"COSSAJA\"], \"y\": [1.85, 3.67, null, null, null, null, null], \"type\": \"bar\", \"uid\": \"a4ee21e0-cc9b-11e8-ba41-f0761c9f65e1\"}, {\"marker\": {\"color\": \"#ff7f0e\"}, \"name\": \"2015\", \"opacity\": 0.8, \"text\": \"%CUO(Bs.)\", \"visible\": false, \"x\": [\"CAPSCH\", \"COAPAS VINTO\", \"COOAPASH\", \"COSEPFA\", \"COSEPP\", \"COSERCA\", \"COSSAJA\"], \"y\": [null, 3.74, null, 0.97, 2.72, 1.15, 3.09], \"type\": \"bar\", \"uid\": \"a4ee21e1-cc9b-11e8-a622-f0761c9f65e1\"}, {\"marker\": {\"color\": \"#2ca02c\"}, \"name\": \"2016\", \"opacity\": 0.8, \"text\": \"%CUO(Bs.)\", \"visible\": false, \"x\": [\"ASOAPAL\", \"CAPCHI\", \"CAPSCH\", \"COAPAS VINTO\", \"COLOMI\", \"COOAPASH\", \"COSAJO\", \"COSEPFA\", \"COSEPP\", \"COSERCA\", \"COSSAJA\", \"JASAP\", \"JOROCHITO\"], \"y\": [1.28, 2.36, null, 3.79, null, null, 3.14, 2.13, 2.73, 1.03, 3.07, null, 2.32], \"type\": \"bar\", \"uid\": \"a4ee21e2-cc9b-11e8-a89e-f0761c9f65e1\"}, {\"marker\": {\"color\": \"#d62728\"}, \"name\": \"2017\", \"opacity\": 0.8, \"text\": \"%CUO(Bs.)\", \"visible\": false, \"x\": [\"ASOAPAL\", \"CAPCHI\", \"CAPSCH\", \"COAPAS VINTO\", \"COLOMI\", \"COOAPASH\", \"COSEPFA\", \"COSEPP\", \"COSERCA\", \"COSSAJA\", \"JASAP\", \"JOROCHITO\"], \"y\": [1.68, 2.55, 0.94, 4.17, null, null, 2.43, 2.97, 1.63, 3.11, null, 3.57], \"type\": \"bar\", \"uid\": \"a4ee21e3-cc9b-11e8-9614-f0761c9f65e1\"}, {\"marker\": {\"color\": \"#1f77b4\"}, \"name\": \"2014\", \"opacity\": 0.8, \"text\": \"%TM(Bs.)\", \"visible\": false, \"x\": [\"CAPSCH\", \"COAPAS VINTO\", \"COOAPASH\", \"COSEPFA\", \"COSEPP\", \"COSERCA\", \"COSSAJA\"], \"y\": [1.61, 4.73, null, null, null, null, null], \"type\": \"bar\", \"uid\": \"a4ee21e4-cc9b-11e8-b19a-f0761c9f65e1\"}, {\"marker\": {\"color\": \"#ff7f0e\"}, \"name\": \"2015\", \"opacity\": 0.8, \"text\": \"%TM(Bs.)\", \"visible\": false, \"x\": [\"CAPSCH\", \"COAPAS VINTO\", \"COOAPASH\", \"COSEPFA\", \"COSEPP\", \"COSERCA\", \"COSSAJA\"], \"y\": [null, 4.76, null, 1.93, 3.68, 1.41, 4.9], \"type\": \"bar\", \"uid\": \"a4ee21e5-cc9b-11e8-8c64-f0761c9f65e1\"}, {\"marker\": {\"color\": \"#2ca02c\"}, \"name\": \"2016\", \"opacity\": 0.8, \"text\": \"%TM(Bs.)\", \"visible\": false, \"x\": [\"ASOAPAL\", \"CAPCHI\", \"CAPSCH\", \"COAPAS VINTO\", \"COLOMI\", \"COOAPASH\", \"COSAJO\", \"COSEPFA\", \"COSEPP\", \"COSERCA\", \"COSSAJA\", \"JASAP\", \"JOROCHITO\"], \"y\": [2.45, 3.68, null, 5.37, null, null, 6.38, 3.81, 3.49, 0.98, 4.63, null, 3.65], \"type\": \"bar\", \"uid\": \"a4ee21e6-cc9b-11e8-befc-f0761c9f65e1\"}, {\"marker\": {\"color\": \"#d62728\"}, \"name\": \"2017\", \"opacity\": 0.8, \"text\": \"%TM(Bs.)\", \"visible\": false, \"x\": [\"ASOAPAL\", \"CAPCHI\", \"CAPSCH\", \"COAPAS VINTO\", \"COLOMI\", \"COOAPASH\", \"COSEPFA\", \"COSEPP\", \"COSERCA\", \"COSSAJA\", \"JASAP\", \"JOROCHITO\"], \"y\": [1.67, 4.17, 2.03, 5.23, null, null, 4.29, 5.87, 1.52, 4.82, null, 4.59], \"type\": \"bar\", \"uid\": \"a4ee21e7-cc9b-11e8-95ff-f0761c9f65e1\"}],\n",
       "            {\"shapes\": [{\"fillcolor\": \"#1f77b4\", \"line\": {\"width\": 0}, \"opacity\": 0.2, \"type\": \"rect\", \"x0\": 0, \"x1\": 1, \"xref\": \"paper\", \"y0\": 65, \"y1\": 75, \"yref\": \"y\"}], \"title\": \"Indicador 23: \\u00cdndice de operaci\\u00f3n eficiente (%) (Par\\u00e1metro \\u00f3ptimo: 65-75%)\", \"updatemenus\": [{\"active\": 0, \"buttons\": [{\"args\": [{\"visible\": [true, true, true, true, false, false, false, false, false, false, false, false, false, false, false, false, false, false, false, false, false, false, false, false, false, false, false, false, false, false, false, false, false, false, false, false, false, false, false, false, false, false, false, false, false, false, false, false]}, {\"title\": \"Indicador 23: \\u00cdndice de operaci\\u00f3n eficiente (%) (Par\\u00e1metro \\u00f3ptimo: 65-75%)\", \"xaxis\": {\"title\": \"EPSAs Categor\\u00eda A\", \"titlefont\": {\"family\": \"Courier New, monospace\", \"size\": 18, \"color\": \"#7f7f7f\"}}, \"yaxis\": {\"title\": \"Unidad: %\", \"titlefont\": {\"family\": \"Courier New, monospace\", \"size\": 18, \"color\": \"#7f7f7f\"}}, \"shapes\": [{\"type\": \"rect\", \"xref\": \"paper\", \"yref\": \"y\", \"x0\": 0, \"y0\": 65, \"x1\": 1, \"y1\": 75, \"fillcolor\": \"#1f77b4\", \"opacity\": 0.2, \"line\": {\"width\": 0}}]}], \"label\": \"Indicador 23 - categor\\u00eda A\", \"method\": \"update\"}, {\"args\": [{\"visible\": [false, false, false, false, false, false, false, false, false, false, false, false, true, true, true, true, false, false, false, false, false, false, false, false, false, false, false, false, false, false, false, false, false, false, false, false, false, false, false, false, false, false, false, false, false, false, false, false]}, {\"title\": \"Indicador 23: \\u00cdndice de operaci\\u00f3n eficiente (%) (Par\\u00e1metro \\u00f3ptimo: 65-75%)\", \"xaxis\": {\"title\": \"EPSAs Categor\\u00eda B\", \"titlefont\": {\"family\": \"Courier New, monospace\", \"size\": 18, \"color\": \"#7f7f7f\"}}, \"yaxis\": {\"title\": \"Unidad: %\", \"titlefont\": {\"family\": \"Courier New, monospace\", \"size\": 18, \"color\": \"#7f7f7f\"}}, \"shapes\": [{\"type\": \"rect\", \"xref\": \"paper\", \"yref\": \"y\", \"x0\": 0, \"y0\": 65, \"x1\": 1, \"y1\": 75, \"fillcolor\": \"#1f77b4\", \"opacity\": 0.2, \"line\": {\"width\": 0}}]}], \"label\": \"Indicador 23 - categor\\u00eda B\", \"method\": \"update\"}, {\"args\": [{\"visible\": [false, false, false, false, false, false, false, false, false, false, false, false, false, false, false, false, false, false, false, false, false, false, false, false, true, true, true, true, false, false, false, false, false, false, false, false, false, false, false, false, false, false, false, false, false, false, false, false]}, {\"title\": \"Indicador 23: \\u00cdndice de operaci\\u00f3n eficiente (%) (Par\\u00e1metro \\u00f3ptimo: 65-75%)\", \"xaxis\": {\"title\": \"EPSAs Categor\\u00eda C\", \"titlefont\": {\"family\": \"Courier New, monospace\", \"size\": 18, \"color\": \"#7f7f7f\"}}, \"yaxis\": {\"title\": \"Unidad: %\", \"titlefont\": {\"family\": \"Courier New, monospace\", \"size\": 18, \"color\": \"#7f7f7f\"}}, \"shapes\": [{\"type\": \"rect\", \"xref\": \"paper\", \"yref\": \"y\", \"x0\": 0, \"y0\": 65, \"x1\": 1, \"y1\": 75, \"fillcolor\": \"#1f77b4\", \"opacity\": 0.2, \"line\": {\"width\": 0}}]}], \"label\": \"Indicador 23 - categor\\u00eda C\", \"method\": \"update\"}, {\"args\": [{\"visible\": [false, false, false, false, false, false, false, false, false, false, false, false, false, false, false, false, false, false, false, false, false, false, false, false, false, false, false, false, false, false, false, false, false, false, false, false, true, true, true, true, false, false, false, false, false, false, false, false]}, {\"title\": \"Indicador 23: \\u00cdndice de operaci\\u00f3n eficiente (%) (Par\\u00e1metro \\u00f3ptimo: 65-75%)\", \"xaxis\": {\"title\": \"EPSAs Categor\\u00eda D\", \"titlefont\": {\"family\": \"Courier New, monospace\", \"size\": 18, \"color\": \"#7f7f7f\"}}, \"yaxis\": {\"title\": \"Unidad: %\", \"titlefont\": {\"family\": \"Courier New, monospace\", \"size\": 18, \"color\": \"#7f7f7f\"}}, \"shapes\": [{\"type\": \"rect\", \"xref\": \"paper\", \"yref\": \"y\", \"x0\": 0, \"y0\": 65, \"x1\": 1, \"y1\": 75, \"fillcolor\": \"#1f77b4\", \"opacity\": 0.2, \"line\": {\"width\": 0}}]}], \"label\": \"Indicador 23 - categor\\u00eda D\", \"method\": \"update\"}], \"direction\": \"up\", \"x\": 0, \"xanchor\": \"left\", \"y\": -0.25, \"yanchor\": \"top\"}, {\"active\": 0, \"buttons\": [{\"args\": [{\"visible\": [false, false, false, false, true, true, true, true, false, false, false, false, false, false, false, false, false, false, false, false, false, false, false, false, false, false, false, false, false, false, false, false, false, false, false, false, false, false, false, false, false, false, false, false, false, false, false, false]}, {\"title\": \"Indicador 27: Tarifa media (%CUO(Bs.)) \", \"xaxis\": {\"title\": \"EPSAs Categor\\u00eda A\", \"titlefont\": {\"family\": \"Courier New, monospace\", \"size\": 18, \"color\": \"#7f7f7f\"}}, \"yaxis\": {\"title\": \"Unidad: %CUO(Bs.)\", \"titlefont\": {\"family\": \"Courier New, monospace\", \"size\": 18, \"color\": \"#7f7f7f\"}}, \"shapes\": []}], \"label\": \"Indicador 27 - categor\\u00eda A\", \"method\": \"update\"}, {\"args\": [{\"visible\": [false, false, false, false, false, false, false, false, false, false, false, false, false, false, false, false, true, true, true, true, false, false, false, false, false, false, false, false, false, false, false, false, false, false, false, false, false, false, false, false, false, false, false, false, false, false, false, false]}, {\"title\": \"Indicador 27: Tarifa media (%CUO(Bs.)) \", \"xaxis\": {\"title\": \"EPSAs Categor\\u00eda B\", \"titlefont\": {\"family\": \"Courier New, monospace\", \"size\": 18, \"color\": \"#7f7f7f\"}}, \"yaxis\": {\"title\": \"Unidad: %CUO(Bs.)\", \"titlefont\": {\"family\": \"Courier New, monospace\", \"size\": 18, \"color\": \"#7f7f7f\"}}, \"shapes\": []}], \"label\": \"Indicador 27 - categor\\u00eda B\", \"method\": \"update\"}, {\"args\": [{\"visible\": [false, false, false, false, false, false, false, false, false, false, false, false, false, false, false, false, false, false, false, false, false, false, false, false, false, false, false, false, true, true, true, true, false, false, false, false, false, false, false, false, false, false, false, false, false, false, false, false]}, {\"title\": \"Indicador 27: Tarifa media (%CUO(Bs.)) \", \"xaxis\": {\"title\": \"EPSAs Categor\\u00eda C\", \"titlefont\": {\"family\": \"Courier New, monospace\", \"size\": 18, \"color\": \"#7f7f7f\"}}, \"yaxis\": {\"title\": \"Unidad: %CUO(Bs.)\", \"titlefont\": {\"family\": \"Courier New, monospace\", \"size\": 18, \"color\": \"#7f7f7f\"}}, \"shapes\": []}], \"label\": \"Indicador 27 - categor\\u00eda C\", \"method\": \"update\"}, {\"args\": [{\"visible\": [false, false, false, false, false, false, false, false, false, false, false, false, false, false, false, false, false, false, false, false, false, false, false, false, false, false, false, false, false, false, false, false, false, false, false, false, false, false, false, false, true, true, true, true, false, false, false, false]}, {\"title\": \"Indicador 27: Tarifa media (%CUO(Bs.)) \", \"xaxis\": {\"title\": \"EPSAs Categor\\u00eda D\", \"titlefont\": {\"family\": \"Courier New, monospace\", \"size\": 18, \"color\": \"#7f7f7f\"}}, \"yaxis\": {\"title\": \"Unidad: %CUO(Bs.)\", \"titlefont\": {\"family\": \"Courier New, monospace\", \"size\": 18, \"color\": \"#7f7f7f\"}}, \"shapes\": []}], \"label\": \"Indicador 27 - categor\\u00eda D\", \"method\": \"update\"}], \"direction\": \"up\", \"x\": 0.3, \"xanchor\": \"left\", \"y\": -0.25, \"yanchor\": \"top\"}, {\"active\": 0, \"buttons\": [{\"args\": [{\"visible\": [false, false, false, false, false, false, false, false, true, true, true, true, false, false, false, false, false, false, false, false, false, false, false, false, false, false, false, false, false, false, false, false, false, false, false, false, false, false, false, false, false, false, false, false, false, false, false, false]}, {\"title\": \"Indicador 28: Costo unitario de operaci\\u00f3n (%TM(Bs.)) \", \"xaxis\": {\"title\": \"EPSAs Categor\\u00eda A\", \"titlefont\": {\"family\": \"Courier New, monospace\", \"size\": 18, \"color\": \"#7f7f7f\"}}, \"yaxis\": {\"title\": \"Unidad: %TM(Bs.)\", \"titlefont\": {\"family\": \"Courier New, monospace\", \"size\": 18, \"color\": \"#7f7f7f\"}}, \"shapes\": []}], \"label\": \"Indicador 28 - categor\\u00eda A\", \"method\": \"update\"}, {\"args\": [{\"visible\": [false, false, false, false, false, false, false, false, false, false, false, false, false, false, false, false, false, false, false, false, true, true, true, true, false, false, false, false, false, false, false, false, false, false, false, false, false, false, false, false, false, false, false, false, false, false, false, false]}, {\"title\": \"Indicador 28: Costo unitario de operaci\\u00f3n (%TM(Bs.)) \", \"xaxis\": {\"title\": \"EPSAs Categor\\u00eda B\", \"titlefont\": {\"family\": \"Courier New, monospace\", \"size\": 18, \"color\": \"#7f7f7f\"}}, \"yaxis\": {\"title\": \"Unidad: %TM(Bs.)\", \"titlefont\": {\"family\": \"Courier New, monospace\", \"size\": 18, \"color\": \"#7f7f7f\"}}, \"shapes\": []}], \"label\": \"Indicador 28 - categor\\u00eda B\", \"method\": \"update\"}, {\"args\": [{\"visible\": [false, false, false, false, false, false, false, false, false, false, false, false, false, false, false, false, false, false, false, false, false, false, false, false, false, false, false, false, false, false, false, false, true, true, true, true, false, false, false, false, false, false, false, false, false, false, false, false]}, {\"title\": \"Indicador 28: Costo unitario de operaci\\u00f3n (%TM(Bs.)) \", \"xaxis\": {\"title\": \"EPSAs Categor\\u00eda C\", \"titlefont\": {\"family\": \"Courier New, monospace\", \"size\": 18, \"color\": \"#7f7f7f\"}}, \"yaxis\": {\"title\": \"Unidad: %TM(Bs.)\", \"titlefont\": {\"family\": \"Courier New, monospace\", \"size\": 18, \"color\": \"#7f7f7f\"}}, \"shapes\": []}], \"label\": \"Indicador 28 - categor\\u00eda C\", \"method\": \"update\"}, {\"args\": [{\"visible\": [false, false, false, false, false, false, false, false, false, false, false, false, false, false, false, false, false, false, false, false, false, false, false, false, false, false, false, false, false, false, false, false, false, false, false, false, false, false, false, false, false, false, false, false, true, true, true, true]}, {\"title\": \"Indicador 28: Costo unitario de operaci\\u00f3n (%TM(Bs.)) \", \"xaxis\": {\"title\": \"EPSAs Categor\\u00eda D\", \"titlefont\": {\"family\": \"Courier New, monospace\", \"size\": 18, \"color\": \"#7f7f7f\"}}, \"yaxis\": {\"title\": \"Unidad: %TM(Bs.)\", \"titlefont\": {\"family\": \"Courier New, monospace\", \"size\": 18, \"color\": \"#7f7f7f\"}}, \"shapes\": []}], \"label\": \"Indicador 28 - categor\\u00eda D\", \"method\": \"update\"}], \"direction\": \"up\", \"x\": 0.6, \"xanchor\": \"left\", \"y\": -0.25, \"yanchor\": \"top\"}], \"xaxis\": {\"title\": \"EPSAs Categor\\u00eda A\", \"titlefont\": {\"color\": \"#7f7f7f\", \"family\": \"Courier New, monospace\", \"size\": 18}}, \"yaxis\": {\"title\": \"Unidad: %\", \"titlefont\": {\"color\": \"#7f7f7f\", \"family\": \"Courier New, monospace\", \"size\": 18}}},\n",
       "            {\"showLink\": true, \"linkText\": \"Export to plot.ly\"}\n",
       "        ).then(function () {return Plotly.addFrames('7ccfe962-094c-49ab-b9a3-95fb24d11074',{});}).then(function(){Plotly.animate('7ccfe962-094c-49ab-b9a3-95fb24d11074');})\n",
       "        });</script>"
      ]
     },
     "metadata": {},
     "output_type": "display_data"
    }
   ],
   "source": [
    "iplot(fig2)"
   ]
  },
  {
   "cell_type": "code",
   "execution_count": 10,
   "metadata": {
    "slideshow": {
     "slide_type": "skip"
    }
   },
   "outputs": [],
   "source": [
    "import json\n",
    "\n",
    "supply_r = requests.get('https://peridash.ml/api/supply-areas/')\n",
    "\n",
    "supply_json = json.loads(supply_r.text)\n",
    "\n",
    "epsa_jsons = []\n",
    "for feature in supply_json['features']:\n",
    "    epsa_json = dict(\n",
    "        type='FeatureCollection',\n",
    "        features=[feature]\n",
    "    )\n",
    "    epsa_jsons.append(epsa_json)\n",
    "    \n",
    "with open('points.json', encoding='utf8') as f:\n",
    "    points_json = json.load(f)"
   ]
  },
  {
   "cell_type": "code",
   "execution_count": null,
   "metadata": {
    "slideshow": {
     "slide_type": "skip"
    }
   },
   "outputs": [],
   "source": [
    "df = complete_measurements_df\n",
    "\n",
    "val_year = 2017\n",
    "\n",
    "min_value = min(list(df[df.year == val_year].ind8))\n",
    "\n",
    "min_ranges = [0.0, 0.35, 0.5, 0.6, 0.7]\n",
    "max_ranges = [0.35, 0.5, 0.6, 0.7, 1.1]\n",
    "min_colors = [[220,220,220],[106,137,247],[90,120,245],[70,100,245],[40,60,190]]\n",
    "max_colors = [[106,137,247],[90,120,245],[70,100,245],[40,60,190],[5,10,172]]\n",
    "\n",
    "val_label = 'Indicador 8'\n",
    "val_label2 = 'Indicador 9'\n",
    "val_unit = '%'\n",
    "\n",
    "\n",
    "def interpolate(c1, c2, f):\n",
    "    r = c1[0] + (c2[0]-c1[0]) * f\n",
    "    g = c1[1] + (c2[1]-c1[1]) * f\n",
    "    b = c1[2] + (c2[2]-c1[2]) * f\n",
    "    return [r,g,b]\n",
    "\n",
    "def get_layer_code(layer_index):\n",
    "    code = epsa_jsons[layer_index]['features'][0]['properties']['code']\n",
    "    code = code.split('-')[0]\n",
    "    return code\n",
    "\n",
    "def get_layer_color(epsa_code, min_value):\n",
    "    if epsa_code in list(df.code):\n",
    "        percentage = df[(df.code==epsa_code)&(df.year==val_year)].ind8.iloc[0]\n",
    "        if np.isnan(percentage):\n",
    "            percentage = 0 \n",
    "    else:\n",
    "        percentage = 0\n",
    "        \n",
    "    factor = (percentage - min_value)/(100 - min_value) # Biased factor for more contrast\n",
    "    \n",
    "    color1 = min_colors[0]\n",
    "    color2 = min_colors[1]\n",
    "    real_factor = 0.0\n",
    "    for range_min, range_max, c_min, c_max in zip(min_ranges, max_ranges, min_colors, max_colors):\n",
    "        if range_min <= factor < range_max:\n",
    "            color1 = c_min\n",
    "            color2 = c_max\n",
    "            real_factor = (factor - range_min) / (range_max - range_min)\n",
    "    \n",
    "    c = interpolate(color1, color2, real_factor)\n",
    "    color_string = f'rgb({str(c[0])[:6]},{str(c[1])[:6]},{str(c[2])[:6]})'\n",
    "    return(color_string)\n",
    "\n",
    "def get_display_value(epsa_code):\n",
    "    if epsa_code in list(df.code):\n",
    "        val = df[(df.code==epsa_code)&(df.year==val_year)].ind8.iloc[0]\n",
    "        if np.isnan(val):\n",
    "            val = 0.0\n",
    "    else:\n",
    "        val = 0.0\n",
    "    return val\n",
    "\n",
    "def get_display_value2(epsa_code):\n",
    "    if epsa_code in list(df.code):\n",
    "        val = df[(df.code==epsa_code)&(df.year==val_year)].ind9.iloc[0]\n",
    "        if np.isnan(val):\n",
    "            val = 0.0\n",
    "    else:\n",
    "        val = 0.0\n",
    "    return val\n",
    "\n",
    "layers = [\n",
    "    dict(\n",
    "        sourcetype = 'geojson',\n",
    "        source = epsa_jsons[k],\n",
    "#         below = \"water\",\n",
    "        type = 'fill',   \n",
    "        color = get_layer_color(get_layer_code(k), min_value),\n",
    "        opacity = 0.8\n",
    "    ) for k in range(len(epsa_jsons))\n",
    "]\n",
    "\n",
    "p_lats = []\n",
    "p_lons = []\n",
    "p_texts = []\n",
    "\n",
    "for code in list(points_json.keys()):\n",
    "    epsa_p = points_json[code]\n",
    "    n = len(epsa_p['lats'])\n",
    "    p_lats += epsa_p['lats']\n",
    "    p_lons += epsa_p['lons']\n",
    "    \n",
    "    clean_code = code.split('-')[0]\n",
    "    value = get_display_value(clean_code)\n",
    "    value2= get_display_value2(clean_code)\n",
    "    display_text = f'{clean_code}<br>{val_label}: {value} ({val_unit})<br>{val_label2}: {value2} ({val_unit})'\n",
    "    p_texts += [display_text for k in range(n)]\n",
    "    \n",
    "scatter_dict = dict(\n",
    "    type = 'scattermapbox',\n",
    "    mode = 'markers',\n",
    "    \n",
    "    lat = p_lats, \n",
    "    lon = p_lons,\n",
    "    text = p_texts,\n",
    "    \n",
    "    marker = dict(\n",
    "        size = 50,\n",
    "        opacity = 0,\n",
    "        color= 'rgb(37,52,148)'\n",
    "    ),\n",
    "    showlegend = False,\n",
    "    hoverinfo = 'text',\n",
    ")\n",
    "\n",
    "mapbox_access_token = 'pk.eyJ1Ijoic2VyZ2lvLWNodW1hY2Vyby1maSIsImEiOiJjamswOTUzeHkwMDk0M3dvNnJoeTByZGlpIn0.3mmjpLwDrIUcdJTowlCd1A'\n",
    "\n",
    "layout = dict(\n",
    "    title = 'Indicadores de Cobertura',\n",
    "    font = dict(family='Balto'),\n",
    "    autosize = False,\n",
    "    width = 1200,\n",
    "    height = 700,\n",
    "    hovermode = 'closest',\n",
    "\n",
    "    mapbox = dict(\n",
    "        accesstoken = mapbox_access_token,\n",
    "        layers = layers,\n",
    "        bearing = 0,\n",
    "        center = dict( \n",
    "            lat = -17.610907366555434, \n",
    "            lon = -63.13396632812757,\n",
    "        ),\n",
    "        pitch = 0,\n",
    "        zoom = 8,\n",
    "        style = 'light'\n",
    "    ) \n",
    ")\n",
    "\n",
    "fig3 = dict(data=[scatter_dict], layout=layout)\n",
    "\n",
    "import plotly.plotly as py"
   ]
  },
  {
   "cell_type": "code",
   "execution_count": 13,
   "metadata": {
    "slideshow": {
     "slide_type": "slide"
    }
   },
   "outputs": [
    {
     "data": {
      "text/html": [
       "<iframe id=\"igraph\" scrolling=\"no\" style=\"border:none;\" seamless=\"seamless\" src=\"https://plot.ly/~sergiochumacero/60.embed\" height=\"700px\" width=\"1200px\"></iframe>"
      ],
      "text/plain": [
       "<plotly.tools.PlotlyDisplay object>"
      ]
     },
     "execution_count": 13,
     "metadata": {},
     "output_type": "execute_result"
    }
   ],
   "source": [
    "py.iplot(fig3, filename='mapa-coberturas-new')"
   ]
  },
  {
   "cell_type": "code",
   "execution_count": 76,
   "metadata": {
    "slideshow": {
     "slide_type": "skip"
    }
   },
   "outputs": [],
   "source": [
    "num_indicators = 32\n",
    "cmdf = complete_measurements_df\n",
    "ind_list = [f'ind{i+1}' for i in range(num_indicators)]\n",
    "\n",
    "def get_data_rating(epsa_code, year):\n",
    "    filtered_df = cmdf[(cmdf.year == year) & (cmdf.code == epsa_code)][ind_list]\n",
    "    \n",
    "    if len(filtered_df) > 0:\n",
    "        values = list(filtered_df.iloc[0])\n",
    "    else:\n",
    "        values = [math.nan] * len(list(filtered_df))\n",
    "        \n",
    "    num_reported = sum([0 if math.isnan(val) else 1 for val in values])\n",
    "    return num_reported / num_indicators * 100\n",
    "\n",
    "selected_category = 'B'\n",
    "cmdf = complete_measurements_df\n",
    "filtered_df = cmdf[cmdf.category == selected_category]\n",
    "epsa_codes = list(filtered_df.code.unique())\n",
    "years = list(filtered_df.sort_values('year').year.unique())\n",
    "\n",
    "scat1 = go.Scatter(\n",
    "    x= [2014] * len(epsa_codes),\n",
    "    y= list(filtered_df[filtered_df.year == 2014].ind1),\n",
    "    text= epsa_codes,\n",
    "    mode='markers+text',\n",
    "    showlegend=False,\n",
    ")\n",
    "\n",
    "data = [scat1]\n",
    "\n",
    "for epsa_code in epsa_codes:\n",
    "    line_trace = go.Scatter(\n",
    "        x= years,\n",
    "#         y= [get_data_rating(epsa_code, year) for year in years],\n",
    "        y= list(filtered_df[filtered_df.code == epsa_code].sort_values('year').ind1),\n",
    "        mode='lines',\n",
    "        name=epsa_code,\n",
    "#         hoverinfo='none',\n",
    "    )\n",
    "    data.append(line_trace)\n",
    "    \n",
    "layout = dict(\n",
    "    xaxis= dict(\n",
    "        title='Años',\n",
    "        range=[2013.8, 2017.2],\n",
    "        autorange= False,\n",
    "        dtick=1,\n",
    "    ),\n",
    "    yaxis= dict(\n",
    "        title='Porcentaje de variables reportadas (%)',\n",
    "#         dtick=1,\n",
    "#         range=[50,100],\n",
    "#         autorange=False,\n",
    "    ),\n",
    "    title= f'Ranking EPSAS - Porcentaje de variables reportadas<br>Categoría {selected_category}',\n",
    "    updatemenus= [dict(\n",
    "        x=0,\n",
    "        y=0,\n",
    "        type= 'buttons',\n",
    "        buttons=[dict(\n",
    "            label='Animar',\n",
    "            method='animate',\n",
    "            args= [None],\n",
    "        )],\n",
    "    )],\n",
    "    hovermode='closest',\n",
    ")\n",
    "\n",
    "colors = [\n",
    "    '#1f77b4', '#ff7f0e','#2ca02c',\n",
    "    '#d62728', '#9467bd', '#8c564b',\n",
    "    '#e377c2', '#7f7f7f', '#bcbd22','#17becf'\n",
    "]\n",
    "\n",
    "colors = colors * 3\n",
    "\n",
    "frames = [{'data': [go.Scatter(\n",
    "    x=[year]*len(epsa_codes),\n",
    "#     y=[get_data_rating(epsa_code, year) for epsa_code in epsa_codes],\n",
    "    y=list(filtered_df[filtered_df.year == year].ind1),\n",
    "    text=epsa_codes,\n",
    "    textposition='top center',\n",
    "    mode='markers',\n",
    "    marker=dict(symbol='circle', size=20, color=colors[1:]),\n",
    ")]} for year in years]\n",
    "\n",
    "fig4b = go.Figure(data=data, layout=layout, frames=frames)"
   ]
  },
  {
   "cell_type": "code",
   "execution_count": 68,
   "metadata": {
    "slideshow": {
     "slide_type": "slide"
    }
   },
   "outputs": [
    {
     "data": {
      "application/vnd.plotly.v1+json": {
       "data": [
        {
         "mode": "markers+text",
         "showlegend": false,
         "text": [
          "EPSAS",
          "SAGUAPAC",
          "SEMAPA"
         ],
         "type": "scatter",
         "uid": "0218e76e-cca7-11e8-91b3-f0761c9f65e1",
         "x": [
          2014,
          2014,
          2014
         ],
         "y": [
          82.69,
          83.23,
          97.57
         ]
        },
        {
         "mode": "lines",
         "name": "EPSAS",
         "type": "scatter",
         "uid": "0218e76f-cca7-11e8-b17a-f0761c9f65e1",
         "x": [
          2014,
          2015,
          2016,
          2017
         ],
         "y": [
          100,
          100,
          100,
          100
         ]
        },
        {
         "mode": "lines",
         "name": "SAGUAPAC",
         "type": "scatter",
         "uid": "0218e770-cca7-11e8-b259-f0761c9f65e1",
         "x": [
          2014,
          2015,
          2016,
          2017
         ],
         "y": [
          90.625,
          93.75,
          96.875,
          96.875
         ]
        },
        {
         "mode": "lines",
         "name": "SEMAPA",
         "type": "scatter",
         "uid": "0218e771-cca7-11e8-acbb-f0761c9f65e1",
         "x": [
          2014,
          2015,
          2016,
          2017
         ],
         "y": [
          100,
          100,
          100,
          100
         ]
        }
       ],
       "frames": [
        {
         "data": [
          {
           "marker": {
            "color": [
             "#ff7f0e",
             "#2ca02c",
             "#d62728",
             "#9467bd",
             "#8c564b",
             "#e377c2",
             "#7f7f7f",
             "#bcbd22",
             "#17becf",
             "#1f77b4",
             "#ff7f0e",
             "#2ca02c",
             "#d62728",
             "#9467bd",
             "#8c564b",
             "#e377c2",
             "#7f7f7f",
             "#bcbd22",
             "#17becf",
             "#1f77b4",
             "#ff7f0e",
             "#2ca02c",
             "#d62728",
             "#9467bd",
             "#8c564b",
             "#e377c2",
             "#7f7f7f",
             "#bcbd22",
             "#17becf"
            ],
            "size": 20,
            "symbol": "circle"
           },
           "mode": "markers",
           "text": [
            "EPSAS",
            "SAGUAPAC",
            "SEMAPA"
           ],
           "textposition": "top center",
           "type": "scatter",
           "x": [
            2014,
            2014,
            2014
           ],
           "y": [
            100,
            90.625,
            100
           ]
          }
         ]
        },
        {
         "data": [
          {
           "marker": {
            "color": [
             "#ff7f0e",
             "#2ca02c",
             "#d62728",
             "#9467bd",
             "#8c564b",
             "#e377c2",
             "#7f7f7f",
             "#bcbd22",
             "#17becf",
             "#1f77b4",
             "#ff7f0e",
             "#2ca02c",
             "#d62728",
             "#9467bd",
             "#8c564b",
             "#e377c2",
             "#7f7f7f",
             "#bcbd22",
             "#17becf",
             "#1f77b4",
             "#ff7f0e",
             "#2ca02c",
             "#d62728",
             "#9467bd",
             "#8c564b",
             "#e377c2",
             "#7f7f7f",
             "#bcbd22",
             "#17becf"
            ],
            "size": 20,
            "symbol": "circle"
           },
           "mode": "markers",
           "text": [
            "EPSAS",
            "SAGUAPAC",
            "SEMAPA"
           ],
           "textposition": "top center",
           "type": "scatter",
           "x": [
            2015,
            2015,
            2015
           ],
           "y": [
            100,
            93.75,
            100
           ]
          }
         ]
        },
        {
         "data": [
          {
           "marker": {
            "color": [
             "#ff7f0e",
             "#2ca02c",
             "#d62728",
             "#9467bd",
             "#8c564b",
             "#e377c2",
             "#7f7f7f",
             "#bcbd22",
             "#17becf",
             "#1f77b4",
             "#ff7f0e",
             "#2ca02c",
             "#d62728",
             "#9467bd",
             "#8c564b",
             "#e377c2",
             "#7f7f7f",
             "#bcbd22",
             "#17becf",
             "#1f77b4",
             "#ff7f0e",
             "#2ca02c",
             "#d62728",
             "#9467bd",
             "#8c564b",
             "#e377c2",
             "#7f7f7f",
             "#bcbd22",
             "#17becf"
            ],
            "size": 20,
            "symbol": "circle"
           },
           "mode": "markers",
           "text": [
            "EPSAS",
            "SAGUAPAC",
            "SEMAPA"
           ],
           "textposition": "top center",
           "type": "scatter",
           "x": [
            2016,
            2016,
            2016
           ],
           "y": [
            100,
            96.875,
            100
           ]
          }
         ]
        },
        {
         "data": [
          {
           "marker": {
            "color": [
             "#ff7f0e",
             "#2ca02c",
             "#d62728",
             "#9467bd",
             "#8c564b",
             "#e377c2",
             "#7f7f7f",
             "#bcbd22",
             "#17becf",
             "#1f77b4",
             "#ff7f0e",
             "#2ca02c",
             "#d62728",
             "#9467bd",
             "#8c564b",
             "#e377c2",
             "#7f7f7f",
             "#bcbd22",
             "#17becf",
             "#1f77b4",
             "#ff7f0e",
             "#2ca02c",
             "#d62728",
             "#9467bd",
             "#8c564b",
             "#e377c2",
             "#7f7f7f",
             "#bcbd22",
             "#17becf"
            ],
            "size": 20,
            "symbol": "circle"
           },
           "mode": "markers",
           "text": [
            "EPSAS",
            "SAGUAPAC",
            "SEMAPA"
           ],
           "textposition": "top center",
           "type": "scatter",
           "x": [
            2017,
            2017,
            2017
           ],
           "y": [
            100,
            96.875,
            100
           ]
          }
         ]
        }
       ],
       "layout": {
        "hovermode": "closest",
        "title": "Ranking EPSAS - Porcentaje de variables reportadas<br>Categoría A",
        "updatemenus": [
         {
          "buttons": [
           {
            "args": [
             null
            ],
            "label": "Animar",
            "method": "animate"
           }
          ],
          "type": "buttons",
          "x": 0,
          "y": 0
         }
        ],
        "xaxis": {
         "autorange": false,
         "dtick": 1,
         "range": [
          2013.8,
          2017.2
         ],
         "title": "Años"
        },
        "yaxis": {
         "title": "Porcentaje de variables reportadas (%)"
        }
       }
      },
      "text/html": [
       "<div id=\"2fa62d26-18dd-4fbc-914f-ab76b00e1e71\" style=\"height: 525px; width: 100%;\" class=\"plotly-graph-div\"></div><script type=\"text/javascript\">require([\"plotly\"], function(Plotly) { window.PLOTLYENV=window.PLOTLYENV || {};window.PLOTLYENV.BASE_URL=\"https://plot.ly\";\n",
       "        Plotly.plot(\n",
       "            '2fa62d26-18dd-4fbc-914f-ab76b00e1e71',\n",
       "            [{\"mode\": \"markers+text\", \"showlegend\": false, \"text\": [\"EPSAS\", \"SAGUAPAC\", \"SEMAPA\"], \"x\": [2014, 2014, 2014], \"y\": [82.69, 83.23, 97.57], \"type\": \"scatter\", \"uid\": \"0218e76e-cca7-11e8-91b3-f0761c9f65e1\"}, {\"mode\": \"lines\", \"name\": \"EPSAS\", \"x\": [2014, 2015, 2016, 2017], \"y\": [100.0, 100.0, 100.0, 100.0], \"type\": \"scatter\", \"uid\": \"0218e76f-cca7-11e8-b17a-f0761c9f65e1\"}, {\"mode\": \"lines\", \"name\": \"SAGUAPAC\", \"x\": [2014, 2015, 2016, 2017], \"y\": [90.625, 93.75, 96.875, 96.875], \"type\": \"scatter\", \"uid\": \"0218e770-cca7-11e8-b259-f0761c9f65e1\"}, {\"mode\": \"lines\", \"name\": \"SEMAPA\", \"x\": [2014, 2015, 2016, 2017], \"y\": [100.0, 100.0, 100.0, 100.0], \"type\": \"scatter\", \"uid\": \"0218e771-cca7-11e8-acbb-f0761c9f65e1\"}],\n",
       "            {\"hovermode\": \"closest\", \"title\": \"Ranking EPSAS - Porcentaje de variables reportadas<br>Categor\\u00eda A\", \"updatemenus\": [{\"buttons\": [{\"args\": [null], \"label\": \"Animar\", \"method\": \"animate\"}], \"type\": \"buttons\", \"x\": 0, \"y\": 0}], \"xaxis\": {\"autorange\": false, \"dtick\": 1, \"range\": [2013.8, 2017.2], \"title\": \"A\\u00f1os\"}, \"yaxis\": {\"title\": \"Porcentaje de variables reportadas (%)\"}},\n",
       "            {\"showLink\": true, \"linkText\": \"Export to plot.ly\"}\n",
       "        ).then(function () {return Plotly.addFrames('2fa62d26-18dd-4fbc-914f-ab76b00e1e71',[{\"data\": [{\"marker\": {\"color\": [\"#ff7f0e\", \"#2ca02c\", \"#d62728\", \"#9467bd\", \"#8c564b\", \"#e377c2\", \"#7f7f7f\", \"#bcbd22\", \"#17becf\", \"#1f77b4\", \"#ff7f0e\", \"#2ca02c\", \"#d62728\", \"#9467bd\", \"#8c564b\", \"#e377c2\", \"#7f7f7f\", \"#bcbd22\", \"#17becf\", \"#1f77b4\", \"#ff7f0e\", \"#2ca02c\", \"#d62728\", \"#9467bd\", \"#8c564b\", \"#e377c2\", \"#7f7f7f\", \"#bcbd22\", \"#17becf\"], \"size\": 20, \"symbol\": \"circle\"}, \"mode\": \"markers\", \"text\": [\"EPSAS\", \"SAGUAPAC\", \"SEMAPA\"], \"textposition\": \"top center\", \"x\": [2014, 2014, 2014], \"y\": [100.0, 90.625, 100.0], \"type\": \"scatter\"}]}, {\"data\": [{\"marker\": {\"color\": [\"#ff7f0e\", \"#2ca02c\", \"#d62728\", \"#9467bd\", \"#8c564b\", \"#e377c2\", \"#7f7f7f\", \"#bcbd22\", \"#17becf\", \"#1f77b4\", \"#ff7f0e\", \"#2ca02c\", \"#d62728\", \"#9467bd\", \"#8c564b\", \"#e377c2\", \"#7f7f7f\", \"#bcbd22\", \"#17becf\", \"#1f77b4\", \"#ff7f0e\", \"#2ca02c\", \"#d62728\", \"#9467bd\", \"#8c564b\", \"#e377c2\", \"#7f7f7f\", \"#bcbd22\", \"#17becf\"], \"size\": 20, \"symbol\": \"circle\"}, \"mode\": \"markers\", \"text\": [\"EPSAS\", \"SAGUAPAC\", \"SEMAPA\"], \"textposition\": \"top center\", \"x\": [2015, 2015, 2015], \"y\": [100.0, 93.75, 100.0], \"type\": \"scatter\"}]}, {\"data\": [{\"marker\": {\"color\": [\"#ff7f0e\", \"#2ca02c\", \"#d62728\", \"#9467bd\", \"#8c564b\", \"#e377c2\", \"#7f7f7f\", \"#bcbd22\", \"#17becf\", \"#1f77b4\", \"#ff7f0e\", \"#2ca02c\", \"#d62728\", \"#9467bd\", \"#8c564b\", \"#e377c2\", \"#7f7f7f\", \"#bcbd22\", \"#17becf\", \"#1f77b4\", \"#ff7f0e\", \"#2ca02c\", \"#d62728\", \"#9467bd\", \"#8c564b\", \"#e377c2\", \"#7f7f7f\", \"#bcbd22\", \"#17becf\"], \"size\": 20, \"symbol\": \"circle\"}, \"mode\": \"markers\", \"text\": [\"EPSAS\", \"SAGUAPAC\", \"SEMAPA\"], \"textposition\": \"top center\", \"x\": [2016, 2016, 2016], \"y\": [100.0, 96.875, 100.0], \"type\": \"scatter\"}]}, {\"data\": [{\"marker\": {\"color\": [\"#ff7f0e\", \"#2ca02c\", \"#d62728\", \"#9467bd\", \"#8c564b\", \"#e377c2\", \"#7f7f7f\", \"#bcbd22\", \"#17becf\", \"#1f77b4\", \"#ff7f0e\", \"#2ca02c\", \"#d62728\", \"#9467bd\", \"#8c564b\", \"#e377c2\", \"#7f7f7f\", \"#bcbd22\", \"#17becf\", \"#1f77b4\", \"#ff7f0e\", \"#2ca02c\", \"#d62728\", \"#9467bd\", \"#8c564b\", \"#e377c2\", \"#7f7f7f\", \"#bcbd22\", \"#17becf\"], \"size\": 20, \"symbol\": \"circle\"}, \"mode\": \"markers\", \"text\": [\"EPSAS\", \"SAGUAPAC\", \"SEMAPA\"], \"textposition\": \"top center\", \"x\": [2017, 2017, 2017], \"y\": [100.0, 96.875, 100.0], \"type\": \"scatter\"}]}]);}).then(function(){Plotly.animate('2fa62d26-18dd-4fbc-914f-ab76b00e1e71');})\n",
       "        });</script>"
      ],
      "text/vnd.plotly.v1+html": [
       "<div id=\"2fa62d26-18dd-4fbc-914f-ab76b00e1e71\" style=\"height: 525px; width: 100%;\" class=\"plotly-graph-div\"></div><script type=\"text/javascript\">require([\"plotly\"], function(Plotly) { window.PLOTLYENV=window.PLOTLYENV || {};window.PLOTLYENV.BASE_URL=\"https://plot.ly\";\n",
       "        Plotly.plot(\n",
       "            '2fa62d26-18dd-4fbc-914f-ab76b00e1e71',\n",
       "            [{\"mode\": \"markers+text\", \"showlegend\": false, \"text\": [\"EPSAS\", \"SAGUAPAC\", \"SEMAPA\"], \"x\": [2014, 2014, 2014], \"y\": [82.69, 83.23, 97.57], \"type\": \"scatter\", \"uid\": \"0218e76e-cca7-11e8-91b3-f0761c9f65e1\"}, {\"mode\": \"lines\", \"name\": \"EPSAS\", \"x\": [2014, 2015, 2016, 2017], \"y\": [100.0, 100.0, 100.0, 100.0], \"type\": \"scatter\", \"uid\": \"0218e76f-cca7-11e8-b17a-f0761c9f65e1\"}, {\"mode\": \"lines\", \"name\": \"SAGUAPAC\", \"x\": [2014, 2015, 2016, 2017], \"y\": [90.625, 93.75, 96.875, 96.875], \"type\": \"scatter\", \"uid\": \"0218e770-cca7-11e8-b259-f0761c9f65e1\"}, {\"mode\": \"lines\", \"name\": \"SEMAPA\", \"x\": [2014, 2015, 2016, 2017], \"y\": [100.0, 100.0, 100.0, 100.0], \"type\": \"scatter\", \"uid\": \"0218e771-cca7-11e8-acbb-f0761c9f65e1\"}],\n",
       "            {\"hovermode\": \"closest\", \"title\": \"Ranking EPSAS - Porcentaje de variables reportadas<br>Categor\\u00eda A\", \"updatemenus\": [{\"buttons\": [{\"args\": [null], \"label\": \"Animar\", \"method\": \"animate\"}], \"type\": \"buttons\", \"x\": 0, \"y\": 0}], \"xaxis\": {\"autorange\": false, \"dtick\": 1, \"range\": [2013.8, 2017.2], \"title\": \"A\\u00f1os\"}, \"yaxis\": {\"title\": \"Porcentaje de variables reportadas (%)\"}},\n",
       "            {\"showLink\": true, \"linkText\": \"Export to plot.ly\"}\n",
       "        ).then(function () {return Plotly.addFrames('2fa62d26-18dd-4fbc-914f-ab76b00e1e71',[{\"data\": [{\"marker\": {\"color\": [\"#ff7f0e\", \"#2ca02c\", \"#d62728\", \"#9467bd\", \"#8c564b\", \"#e377c2\", \"#7f7f7f\", \"#bcbd22\", \"#17becf\", \"#1f77b4\", \"#ff7f0e\", \"#2ca02c\", \"#d62728\", \"#9467bd\", \"#8c564b\", \"#e377c2\", \"#7f7f7f\", \"#bcbd22\", \"#17becf\", \"#1f77b4\", \"#ff7f0e\", \"#2ca02c\", \"#d62728\", \"#9467bd\", \"#8c564b\", \"#e377c2\", \"#7f7f7f\", \"#bcbd22\", \"#17becf\"], \"size\": 20, \"symbol\": \"circle\"}, \"mode\": \"markers\", \"text\": [\"EPSAS\", \"SAGUAPAC\", \"SEMAPA\"], \"textposition\": \"top center\", \"x\": [2014, 2014, 2014], \"y\": [100.0, 90.625, 100.0], \"type\": \"scatter\"}]}, {\"data\": [{\"marker\": {\"color\": [\"#ff7f0e\", \"#2ca02c\", \"#d62728\", \"#9467bd\", \"#8c564b\", \"#e377c2\", \"#7f7f7f\", \"#bcbd22\", \"#17becf\", \"#1f77b4\", \"#ff7f0e\", \"#2ca02c\", \"#d62728\", \"#9467bd\", \"#8c564b\", \"#e377c2\", \"#7f7f7f\", \"#bcbd22\", \"#17becf\", \"#1f77b4\", \"#ff7f0e\", \"#2ca02c\", \"#d62728\", \"#9467bd\", \"#8c564b\", \"#e377c2\", \"#7f7f7f\", \"#bcbd22\", \"#17becf\"], \"size\": 20, \"symbol\": \"circle\"}, \"mode\": \"markers\", \"text\": [\"EPSAS\", \"SAGUAPAC\", \"SEMAPA\"], \"textposition\": \"top center\", \"x\": [2015, 2015, 2015], \"y\": [100.0, 93.75, 100.0], \"type\": \"scatter\"}]}, {\"data\": [{\"marker\": {\"color\": [\"#ff7f0e\", \"#2ca02c\", \"#d62728\", \"#9467bd\", \"#8c564b\", \"#e377c2\", \"#7f7f7f\", \"#bcbd22\", \"#17becf\", \"#1f77b4\", \"#ff7f0e\", \"#2ca02c\", \"#d62728\", \"#9467bd\", \"#8c564b\", \"#e377c2\", \"#7f7f7f\", \"#bcbd22\", \"#17becf\", \"#1f77b4\", \"#ff7f0e\", \"#2ca02c\", \"#d62728\", \"#9467bd\", \"#8c564b\", \"#e377c2\", \"#7f7f7f\", \"#bcbd22\", \"#17becf\"], \"size\": 20, \"symbol\": \"circle\"}, \"mode\": \"markers\", \"text\": [\"EPSAS\", \"SAGUAPAC\", \"SEMAPA\"], \"textposition\": \"top center\", \"x\": [2016, 2016, 2016], \"y\": [100.0, 96.875, 100.0], \"type\": \"scatter\"}]}, {\"data\": [{\"marker\": {\"color\": [\"#ff7f0e\", \"#2ca02c\", \"#d62728\", \"#9467bd\", \"#8c564b\", \"#e377c2\", \"#7f7f7f\", \"#bcbd22\", \"#17becf\", \"#1f77b4\", \"#ff7f0e\", \"#2ca02c\", \"#d62728\", \"#9467bd\", \"#8c564b\", \"#e377c2\", \"#7f7f7f\", \"#bcbd22\", \"#17becf\", \"#1f77b4\", \"#ff7f0e\", \"#2ca02c\", \"#d62728\", \"#9467bd\", \"#8c564b\", \"#e377c2\", \"#7f7f7f\", \"#bcbd22\", \"#17becf\"], \"size\": 20, \"symbol\": \"circle\"}, \"mode\": \"markers\", \"text\": [\"EPSAS\", \"SAGUAPAC\", \"SEMAPA\"], \"textposition\": \"top center\", \"x\": [2017, 2017, 2017], \"y\": [100.0, 96.875, 100.0], \"type\": \"scatter\"}]}]);}).then(function(){Plotly.animate('2fa62d26-18dd-4fbc-914f-ab76b00e1e71');})\n",
       "        });</script>"
      ]
     },
     "metadata": {},
     "output_type": "display_data"
    }
   ],
   "source": [
    "iplot(fig4a)"
   ]
  },
  {
   "cell_type": "code",
   "execution_count": 77,
   "metadata": {
    "slideshow": {
     "slide_type": "subslide"
    }
   },
   "outputs": [
    {
     "data": {
      "application/vnd.plotly.v1+json": {
       "data": [
        {
         "mode": "markers+text",
         "showlegend": false,
         "text": [
          "AAPOS",
          "BUSTILLO",
          "CAPAG",
          "COATRI",
          "COOPAGUAS",
          "COOPAPPI",
          "COOPLAN",
          "COSAALT",
          "COSMOL",
          "COSPAIL",
          "ELAPAS",
          "EMAPAS",
          "EMAPAV",
          "EMAPYC",
          "EPSA COBIJA",
          "MANCHACO",
          "SAJUBA",
          "SELA"
         ],
         "type": "scatter",
         "uid": "91ce6f22-ccc2-11e8-83e8-f0761c9f65e1",
         "x": [
          2014,
          2014,
          2014,
          2014,
          2014,
          2014,
          2014,
          2014,
          2014,
          2014,
          2014,
          2014,
          2014,
          2014,
          2014,
          2014,
          2014,
          2014
         ],
         "y": [
          98.7,
          61.36,
          35.12,
          116.57,
          88.59,
          133.44,
          80.72,
          62.09,
          56.11,
          61.84,
          68.5,
          null,
          55.48,
          49.56,
          84.83,
          25.52,
          57.23,
          62.53
         ]
        },
        {
         "mode": "lines",
         "name": "AAPOS",
         "type": "scatter",
         "uid": "91ce6f23-ccc2-11e8-b4be-f0761c9f65e1",
         "x": [
          2014,
          2015,
          2016,
          2017
         ],
         "y": [
          98.7,
          105.61,
          73.8,
          58.83
         ]
        },
        {
         "mode": "lines",
         "name": "BUSTILLO",
         "type": "scatter",
         "uid": "91ce6f24-ccc2-11e8-8fcd-f0761c9f65e1",
         "x": [
          2014,
          2015,
          2016,
          2017
         ],
         "y": [
          61.36,
          67.59,
          60.09,
          60.99
         ]
        },
        {
         "mode": "lines",
         "name": "CAPAG",
         "type": "scatter",
         "uid": "91ce6f25-ccc2-11e8-9940-f0761c9f65e1",
         "x": [
          2014,
          2015,
          2016,
          2017
         ],
         "y": [
          35.12,
          37.5,
          37.5,
          35
         ]
        },
        {
         "mode": "lines",
         "name": "COATRI",
         "type": "scatter",
         "uid": "91ce6f26-ccc2-11e8-9efb-f0761c9f65e1",
         "x": [
          2014,
          2015,
          2016,
          2017
         ],
         "y": [
          116.57,
          110.48,
          92.84,
          79.02
         ]
        },
        {
         "mode": "lines",
         "name": "COOPAGUAS",
         "type": "scatter",
         "uid": "91ce6f27-ccc2-11e8-85a8-f0761c9f65e1",
         "x": [
          2014,
          2015,
          2016,
          2017
         ],
         "y": [
          88.59,
          39.76,
          40.31,
          40.59
         ]
        },
        {
         "mode": "lines",
         "name": "COOPAPPI",
         "type": "scatter",
         "uid": "91ce6f28-ccc2-11e8-9534-f0761c9f65e1",
         "x": [
          2014,
          2015,
          2016,
          2017
         ],
         "y": [
          133.44,
          111.71,
          107.96,
          110.46
         ]
        },
        {
         "mode": "lines",
         "name": "COOPLAN",
         "type": "scatter",
         "uid": "91ce6f29-ccc2-11e8-9015-f0761c9f65e1",
         "x": [
          2014,
          2015,
          2016,
          2017
         ],
         "y": [
          80.72,
          82.98,
          84.16,
          88.97
         ]
        },
        {
         "mode": "lines",
         "name": "COSAALT",
         "type": "scatter",
         "uid": "91ce6f2a-ccc2-11e8-aaa3-f0761c9f65e1",
         "x": [
          2014,
          2015,
          2016,
          2017
         ],
         "y": [
          62.09,
          56.96,
          57.08,
          52.59
         ]
        },
        {
         "mode": "lines",
         "name": "COSMOL",
         "type": "scatter",
         "uid": "91ce6f2b-ccc2-11e8-a776-f0761c9f65e1",
         "x": [
          2014,
          2015,
          2016,
          2017
         ],
         "y": [
          56.11,
          69.71,
          69.49,
          63.32
         ]
        },
        {
         "mode": "lines",
         "name": "COSPAIL",
         "type": "scatter",
         "uid": "91ce6f2c-ccc2-11e8-8bdd-f0761c9f65e1",
         "x": [
          2014,
          2015,
          2016,
          2017
         ],
         "y": [
          61.84,
          64.38,
          69.59,
          72.74
         ]
        },
        {
         "mode": "lines",
         "name": "ELAPAS",
         "type": "scatter",
         "uid": "91ce6f2d-ccc2-11e8-b2cf-f0761c9f65e1",
         "x": [
          2014,
          2015,
          2016,
          2017
         ],
         "y": [
          68.5,
          78.93,
          82.5,
          76.99
         ]
        },
        {
         "mode": "lines",
         "name": "EMAPAS",
         "type": "scatter",
         "uid": "91ce6f2e-ccc2-11e8-8d63-f0761c9f65e1",
         "x": [
          2014,
          2015,
          2016,
          2017
         ],
         "y": [
          null,
          38.15,
          30.33,
          35.85
         ]
        },
        {
         "mode": "lines",
         "name": "EMAPAV",
         "type": "scatter",
         "uid": "91ce6f2f-ccc2-11e8-b913-f0761c9f65e1",
         "x": [
          2014,
          2015,
          2016,
          2017
         ],
         "y": [
          55.48,
          63.43,
          56.29,
          62.11
         ]
        },
        {
         "mode": "lines",
         "name": "EMAPYC",
         "type": "scatter",
         "uid": "91ce6f30-ccc2-11e8-a60a-f0761c9f65e1",
         "x": [
          2014,
          2015,
          2016,
          2017
         ],
         "y": [
          49.56,
          50.51,
          51.02,
          48.73
         ]
        },
        {
         "mode": "lines",
         "name": "EPSA COBIJA",
         "type": "scatter",
         "uid": "91ce6f31-ccc2-11e8-b26b-f0761c9f65e1",
         "x": [
          2014,
          2015,
          2016,
          2017
         ],
         "y": [
          84.83,
          101.79,
          89.33,
          89.33
         ]
        },
        {
         "mode": "lines",
         "name": "MANCHACO",
         "type": "scatter",
         "uid": "91ce6f32-ccc2-11e8-9182-f0761c9f65e1",
         "x": [
          2014,
          2015,
          2016,
          2017
         ],
         "y": [
          25.52,
          null,
          25.1,
          20.57
         ]
        },
        {
         "mode": "lines",
         "name": "SAJUBA",
         "type": "scatter",
         "uid": "91ce6f33-ccc2-11e8-8786-f0761c9f65e1",
         "x": [
          2014,
          2015,
          2016,
          2017
         ],
         "y": [
          57.23,
          56.31,
          75.13,
          79.63
         ]
        },
        {
         "mode": "lines",
         "name": "SELA",
         "type": "scatter",
         "uid": "91ce6f34-ccc2-11e8-8e71-f0761c9f65e1",
         "x": [
          2014,
          2015,
          2016,
          2017
         ],
         "y": [
          62.53,
          64.32,
          65.19,
          66.64
         ]
        }
       ],
       "frames": [
        {
         "data": [
          {
           "marker": {
            "color": [
             "#ff7f0e",
             "#2ca02c",
             "#d62728",
             "#9467bd",
             "#8c564b",
             "#e377c2",
             "#7f7f7f",
             "#bcbd22",
             "#17becf",
             "#1f77b4",
             "#ff7f0e",
             "#2ca02c",
             "#d62728",
             "#9467bd",
             "#8c564b",
             "#e377c2",
             "#7f7f7f",
             "#bcbd22",
             "#17becf",
             "#1f77b4",
             "#ff7f0e",
             "#2ca02c",
             "#d62728",
             "#9467bd",
             "#8c564b",
             "#e377c2",
             "#7f7f7f",
             "#bcbd22",
             "#17becf"
            ],
            "size": 20,
            "symbol": "circle"
           },
           "mode": "markers",
           "text": [
            "AAPOS",
            "BUSTILLO",
            "CAPAG",
            "COATRI",
            "COOPAGUAS",
            "COOPAPPI",
            "COOPLAN",
            "COSAALT",
            "COSMOL",
            "COSPAIL",
            "ELAPAS",
            "EMAPAS",
            "EMAPAV",
            "EMAPYC",
            "EPSA COBIJA",
            "MANCHACO",
            "SAJUBA",
            "SELA"
           ],
           "textposition": "top center",
           "type": "scatter",
           "x": [
            2014,
            2014,
            2014,
            2014,
            2014,
            2014,
            2014,
            2014,
            2014,
            2014,
            2014,
            2014,
            2014,
            2014,
            2014,
            2014,
            2014,
            2014
           ],
           "y": [
            98.7,
            61.36,
            35.12,
            116.57,
            88.59,
            133.44,
            80.72,
            62.09,
            56.11,
            61.84,
            68.5,
            null,
            55.48,
            49.56,
            84.83,
            25.52,
            57.23,
            62.53
           ]
          }
         ]
        },
        {
         "data": [
          {
           "marker": {
            "color": [
             "#ff7f0e",
             "#2ca02c",
             "#d62728",
             "#9467bd",
             "#8c564b",
             "#e377c2",
             "#7f7f7f",
             "#bcbd22",
             "#17becf",
             "#1f77b4",
             "#ff7f0e",
             "#2ca02c",
             "#d62728",
             "#9467bd",
             "#8c564b",
             "#e377c2",
             "#7f7f7f",
             "#bcbd22",
             "#17becf",
             "#1f77b4",
             "#ff7f0e",
             "#2ca02c",
             "#d62728",
             "#9467bd",
             "#8c564b",
             "#e377c2",
             "#7f7f7f",
             "#bcbd22",
             "#17becf"
            ],
            "size": 20,
            "symbol": "circle"
           },
           "mode": "markers",
           "text": [
            "AAPOS",
            "BUSTILLO",
            "CAPAG",
            "COATRI",
            "COOPAGUAS",
            "COOPAPPI",
            "COOPLAN",
            "COSAALT",
            "COSMOL",
            "COSPAIL",
            "ELAPAS",
            "EMAPAS",
            "EMAPAV",
            "EMAPYC",
            "EPSA COBIJA",
            "MANCHACO",
            "SAJUBA",
            "SELA"
           ],
           "textposition": "top center",
           "type": "scatter",
           "x": [
            2015,
            2015,
            2015,
            2015,
            2015,
            2015,
            2015,
            2015,
            2015,
            2015,
            2015,
            2015,
            2015,
            2015,
            2015,
            2015,
            2015,
            2015
           ],
           "y": [
            105.61,
            67.59,
            37.5,
            110.48,
            39.76,
            111.71,
            82.98,
            56.96,
            69.71,
            64.38,
            78.93,
            38.15,
            63.43,
            50.51,
            101.79,
            null,
            56.31,
            64.32
           ]
          }
         ]
        },
        {
         "data": [
          {
           "marker": {
            "color": [
             "#ff7f0e",
             "#2ca02c",
             "#d62728",
             "#9467bd",
             "#8c564b",
             "#e377c2",
             "#7f7f7f",
             "#bcbd22",
             "#17becf",
             "#1f77b4",
             "#ff7f0e",
             "#2ca02c",
             "#d62728",
             "#9467bd",
             "#8c564b",
             "#e377c2",
             "#7f7f7f",
             "#bcbd22",
             "#17becf",
             "#1f77b4",
             "#ff7f0e",
             "#2ca02c",
             "#d62728",
             "#9467bd",
             "#8c564b",
             "#e377c2",
             "#7f7f7f",
             "#bcbd22",
             "#17becf"
            ],
            "size": 20,
            "symbol": "circle"
           },
           "mode": "markers",
           "text": [
            "AAPOS",
            "BUSTILLO",
            "CAPAG",
            "COATRI",
            "COOPAGUAS",
            "COOPAPPI",
            "COOPLAN",
            "COSAALT",
            "COSMOL",
            "COSPAIL",
            "ELAPAS",
            "EMAPAS",
            "EMAPAV",
            "EMAPYC",
            "EPSA COBIJA",
            "MANCHACO",
            "SAJUBA",
            "SELA"
           ],
           "textposition": "top center",
           "type": "scatter",
           "x": [
            2016,
            2016,
            2016,
            2016,
            2016,
            2016,
            2016,
            2016,
            2016,
            2016,
            2016,
            2016,
            2016,
            2016,
            2016,
            2016,
            2016,
            2016
           ],
           "y": [
            73.8,
            60.09,
            37.5,
            92.84,
            40.31,
            107.96,
            84.16,
            57.08,
            69.49,
            69.59,
            82.5,
            30.33,
            56.29,
            51.02,
            89.33,
            25.1,
            75.13,
            65.19
           ]
          }
         ]
        },
        {
         "data": [
          {
           "marker": {
            "color": [
             "#ff7f0e",
             "#2ca02c",
             "#d62728",
             "#9467bd",
             "#8c564b",
             "#e377c2",
             "#7f7f7f",
             "#bcbd22",
             "#17becf",
             "#1f77b4",
             "#ff7f0e",
             "#2ca02c",
             "#d62728",
             "#9467bd",
             "#8c564b",
             "#e377c2",
             "#7f7f7f",
             "#bcbd22",
             "#17becf",
             "#1f77b4",
             "#ff7f0e",
             "#2ca02c",
             "#d62728",
             "#9467bd",
             "#8c564b",
             "#e377c2",
             "#7f7f7f",
             "#bcbd22",
             "#17becf"
            ],
            "size": 20,
            "symbol": "circle"
           },
           "mode": "markers",
           "text": [
            "AAPOS",
            "BUSTILLO",
            "CAPAG",
            "COATRI",
            "COOPAGUAS",
            "COOPAPPI",
            "COOPLAN",
            "COSAALT",
            "COSMOL",
            "COSPAIL",
            "ELAPAS",
            "EMAPAS",
            "EMAPAV",
            "EMAPYC",
            "EPSA COBIJA",
            "MANCHACO",
            "SAJUBA",
            "SELA"
           ],
           "textposition": "top center",
           "type": "scatter",
           "x": [
            2017,
            2017,
            2017,
            2017,
            2017,
            2017,
            2017,
            2017,
            2017,
            2017,
            2017,
            2017,
            2017,
            2017,
            2017,
            2017,
            2017,
            2017
           ],
           "y": [
            58.83,
            60.99,
            35,
            79.02,
            40.59,
            110.46,
            88.97,
            52.59,
            63.32,
            72.74,
            76.99,
            35.85,
            62.11,
            48.73,
            89.33,
            20.57,
            79.63,
            66.64
           ]
          }
         ]
        }
       ],
       "layout": {
        "hovermode": "closest",
        "title": "Ranking EPSAS - Porcentaje de variables reportadas<br>Categoría B",
        "updatemenus": [
         {
          "buttons": [
           {
            "args": [
             null
            ],
            "label": "Animar",
            "method": "animate"
           }
          ],
          "type": "buttons",
          "x": 0,
          "y": 0
         }
        ],
        "xaxis": {
         "autorange": false,
         "dtick": 1,
         "range": [
          2013.8,
          2017.2
         ],
         "title": "Años"
        },
        "yaxis": {
         "title": "Porcentaje de variables reportadas (%)"
        }
       }
      },
      "text/html": [
       "<div id=\"d51a0806-2313-4a4a-90bc-2485674a18aa\" style=\"height: 525px; width: 100%;\" class=\"plotly-graph-div\"></div><script type=\"text/javascript\">require([\"plotly\"], function(Plotly) { window.PLOTLYENV=window.PLOTLYENV || {};window.PLOTLYENV.BASE_URL=\"https://plot.ly\";\n",
       "        Plotly.plot(\n",
       "            'd51a0806-2313-4a4a-90bc-2485674a18aa',\n",
       "            [{\"mode\": \"markers+text\", \"showlegend\": false, \"text\": [\"AAPOS\", \"BUSTILLO\", \"CAPAG\", \"COATRI\", \"COOPAGUAS\", \"COOPAPPI\", \"COOPLAN\", \"COSAALT\", \"COSMOL\", \"COSPAIL\", \"ELAPAS\", \"EMAPAS\", \"EMAPAV\", \"EMAPYC\", \"EPSA COBIJA\", \"MANCHACO\", \"SAJUBA\", \"SELA\"], \"x\": [2014, 2014, 2014, 2014, 2014, 2014, 2014, 2014, 2014, 2014, 2014, 2014, 2014, 2014, 2014, 2014, 2014, 2014], \"y\": [98.7, 61.36, 35.12, 116.57, 88.59, 133.44, 80.72, 62.09, 56.11, 61.84, 68.5, null, 55.48, 49.56, 84.83, 25.52, 57.23, 62.53], \"type\": \"scatter\", \"uid\": \"91ce6f22-ccc2-11e8-83e8-f0761c9f65e1\"}, {\"mode\": \"lines\", \"name\": \"AAPOS\", \"x\": [2014, 2015, 2016, 2017], \"y\": [98.7, 105.61, 73.8, 58.83], \"type\": \"scatter\", \"uid\": \"91ce6f23-ccc2-11e8-b4be-f0761c9f65e1\"}, {\"mode\": \"lines\", \"name\": \"BUSTILLO\", \"x\": [2014, 2015, 2016, 2017], \"y\": [61.36, 67.59, 60.09, 60.99], \"type\": \"scatter\", \"uid\": \"91ce6f24-ccc2-11e8-8fcd-f0761c9f65e1\"}, {\"mode\": \"lines\", \"name\": \"CAPAG\", \"x\": [2014, 2015, 2016, 2017], \"y\": [35.12, 37.5, 37.5, 35.0], \"type\": \"scatter\", \"uid\": \"91ce6f25-ccc2-11e8-9940-f0761c9f65e1\"}, {\"mode\": \"lines\", \"name\": \"COATRI\", \"x\": [2014, 2015, 2016, 2017], \"y\": [116.57, 110.48, 92.84, 79.02], \"type\": \"scatter\", \"uid\": \"91ce6f26-ccc2-11e8-9efb-f0761c9f65e1\"}, {\"mode\": \"lines\", \"name\": \"COOPAGUAS\", \"x\": [2014, 2015, 2016, 2017], \"y\": [88.59, 39.76, 40.31, 40.59], \"type\": \"scatter\", \"uid\": \"91ce6f27-ccc2-11e8-85a8-f0761c9f65e1\"}, {\"mode\": \"lines\", \"name\": \"COOPAPPI\", \"x\": [2014, 2015, 2016, 2017], \"y\": [133.44, 111.71, 107.96, 110.46], \"type\": \"scatter\", \"uid\": \"91ce6f28-ccc2-11e8-9534-f0761c9f65e1\"}, {\"mode\": \"lines\", \"name\": \"COOPLAN\", \"x\": [2014, 2015, 2016, 2017], \"y\": [80.72, 82.98, 84.16, 88.97], \"type\": \"scatter\", \"uid\": \"91ce6f29-ccc2-11e8-9015-f0761c9f65e1\"}, {\"mode\": \"lines\", \"name\": \"COSAALT\", \"x\": [2014, 2015, 2016, 2017], \"y\": [62.09, 56.96, 57.08, 52.59], \"type\": \"scatter\", \"uid\": \"91ce6f2a-ccc2-11e8-aaa3-f0761c9f65e1\"}, {\"mode\": \"lines\", \"name\": \"COSMOL\", \"x\": [2014, 2015, 2016, 2017], \"y\": [56.11, 69.71, 69.49, 63.32], \"type\": \"scatter\", \"uid\": \"91ce6f2b-ccc2-11e8-a776-f0761c9f65e1\"}, {\"mode\": \"lines\", \"name\": \"COSPAIL\", \"x\": [2014, 2015, 2016, 2017], \"y\": [61.84, 64.38, 69.59, 72.74], \"type\": \"scatter\", \"uid\": \"91ce6f2c-ccc2-11e8-8bdd-f0761c9f65e1\"}, {\"mode\": \"lines\", \"name\": \"ELAPAS\", \"x\": [2014, 2015, 2016, 2017], \"y\": [68.5, 78.93, 82.5, 76.99], \"type\": \"scatter\", \"uid\": \"91ce6f2d-ccc2-11e8-b2cf-f0761c9f65e1\"}, {\"mode\": \"lines\", \"name\": \"EMAPAS\", \"x\": [2014, 2015, 2016, 2017], \"y\": [null, 38.15, 30.33, 35.85], \"type\": \"scatter\", \"uid\": \"91ce6f2e-ccc2-11e8-8d63-f0761c9f65e1\"}, {\"mode\": \"lines\", \"name\": \"EMAPAV\", \"x\": [2014, 2015, 2016, 2017], \"y\": [55.48, 63.43, 56.29, 62.11], \"type\": \"scatter\", \"uid\": \"91ce6f2f-ccc2-11e8-b913-f0761c9f65e1\"}, {\"mode\": \"lines\", \"name\": \"EMAPYC\", \"x\": [2014, 2015, 2016, 2017], \"y\": [49.56, 50.51, 51.02, 48.73], \"type\": \"scatter\", \"uid\": \"91ce6f30-ccc2-11e8-a60a-f0761c9f65e1\"}, {\"mode\": \"lines\", \"name\": \"EPSA COBIJA\", \"x\": [2014, 2015, 2016, 2017], \"y\": [84.83, 101.79, 89.33, 89.33], \"type\": \"scatter\", \"uid\": \"91ce6f31-ccc2-11e8-b26b-f0761c9f65e1\"}, {\"mode\": \"lines\", \"name\": \"MANCHACO\", \"x\": [2014, 2015, 2016, 2017], \"y\": [25.52, null, 25.1, 20.57], \"type\": \"scatter\", \"uid\": \"91ce6f32-ccc2-11e8-9182-f0761c9f65e1\"}, {\"mode\": \"lines\", \"name\": \"SAJUBA\", \"x\": [2014, 2015, 2016, 2017], \"y\": [57.23, 56.31, 75.13, 79.63], \"type\": \"scatter\", \"uid\": \"91ce6f33-ccc2-11e8-8786-f0761c9f65e1\"}, {\"mode\": \"lines\", \"name\": \"SELA\", \"x\": [2014, 2015, 2016, 2017], \"y\": [62.53, 64.32, 65.19, 66.64], \"type\": \"scatter\", \"uid\": \"91ce6f34-ccc2-11e8-8e71-f0761c9f65e1\"}],\n",
       "            {\"hovermode\": \"closest\", \"title\": \"Ranking EPSAS - Porcentaje de variables reportadas<br>Categor\\u00eda B\", \"updatemenus\": [{\"buttons\": [{\"args\": [null], \"label\": \"Animar\", \"method\": \"animate\"}], \"type\": \"buttons\", \"x\": 0, \"y\": 0}], \"xaxis\": {\"autorange\": false, \"dtick\": 1, \"range\": [2013.8, 2017.2], \"title\": \"A\\u00f1os\"}, \"yaxis\": {\"title\": \"Porcentaje de variables reportadas (%)\"}},\n",
       "            {\"showLink\": true, \"linkText\": \"Export to plot.ly\"}\n",
       "        ).then(function () {return Plotly.addFrames('d51a0806-2313-4a4a-90bc-2485674a18aa',[{\"data\": [{\"marker\": {\"color\": [\"#ff7f0e\", \"#2ca02c\", \"#d62728\", \"#9467bd\", \"#8c564b\", \"#e377c2\", \"#7f7f7f\", \"#bcbd22\", \"#17becf\", \"#1f77b4\", \"#ff7f0e\", \"#2ca02c\", \"#d62728\", \"#9467bd\", \"#8c564b\", \"#e377c2\", \"#7f7f7f\", \"#bcbd22\", \"#17becf\", \"#1f77b4\", \"#ff7f0e\", \"#2ca02c\", \"#d62728\", \"#9467bd\", \"#8c564b\", \"#e377c2\", \"#7f7f7f\", \"#bcbd22\", \"#17becf\"], \"size\": 20, \"symbol\": \"circle\"}, \"mode\": \"markers\", \"text\": [\"AAPOS\", \"BUSTILLO\", \"CAPAG\", \"COATRI\", \"COOPAGUAS\", \"COOPAPPI\", \"COOPLAN\", \"COSAALT\", \"COSMOL\", \"COSPAIL\", \"ELAPAS\", \"EMAPAS\", \"EMAPAV\", \"EMAPYC\", \"EPSA COBIJA\", \"MANCHACO\", \"SAJUBA\", \"SELA\"], \"textposition\": \"top center\", \"x\": [2014, 2014, 2014, 2014, 2014, 2014, 2014, 2014, 2014, 2014, 2014, 2014, 2014, 2014, 2014, 2014, 2014, 2014], \"y\": [98.7, 61.36, 35.12, 116.57, 88.59, 133.44, 80.72, 62.09, 56.11, 61.84, 68.5, null, 55.48, 49.56, 84.83, 25.52, 57.23, 62.53], \"type\": \"scatter\"}]}, {\"data\": [{\"marker\": {\"color\": [\"#ff7f0e\", \"#2ca02c\", \"#d62728\", \"#9467bd\", \"#8c564b\", \"#e377c2\", \"#7f7f7f\", \"#bcbd22\", \"#17becf\", \"#1f77b4\", \"#ff7f0e\", \"#2ca02c\", \"#d62728\", \"#9467bd\", \"#8c564b\", \"#e377c2\", \"#7f7f7f\", \"#bcbd22\", \"#17becf\", \"#1f77b4\", \"#ff7f0e\", \"#2ca02c\", \"#d62728\", \"#9467bd\", \"#8c564b\", \"#e377c2\", \"#7f7f7f\", \"#bcbd22\", \"#17becf\"], \"size\": 20, \"symbol\": \"circle\"}, \"mode\": \"markers\", \"text\": [\"AAPOS\", \"BUSTILLO\", \"CAPAG\", \"COATRI\", \"COOPAGUAS\", \"COOPAPPI\", \"COOPLAN\", \"COSAALT\", \"COSMOL\", \"COSPAIL\", \"ELAPAS\", \"EMAPAS\", \"EMAPAV\", \"EMAPYC\", \"EPSA COBIJA\", \"MANCHACO\", \"SAJUBA\", \"SELA\"], \"textposition\": \"top center\", \"x\": [2015, 2015, 2015, 2015, 2015, 2015, 2015, 2015, 2015, 2015, 2015, 2015, 2015, 2015, 2015, 2015, 2015, 2015], \"y\": [105.61, 67.59, 37.5, 110.48, 39.76, 111.71, 82.98, 56.96, 69.71, 64.38, 78.93, 38.15, 63.43, 50.51, 101.79, null, 56.31, 64.32], \"type\": \"scatter\"}]}, {\"data\": [{\"marker\": {\"color\": [\"#ff7f0e\", \"#2ca02c\", \"#d62728\", \"#9467bd\", \"#8c564b\", \"#e377c2\", \"#7f7f7f\", \"#bcbd22\", \"#17becf\", \"#1f77b4\", \"#ff7f0e\", \"#2ca02c\", \"#d62728\", \"#9467bd\", \"#8c564b\", \"#e377c2\", \"#7f7f7f\", \"#bcbd22\", \"#17becf\", \"#1f77b4\", \"#ff7f0e\", \"#2ca02c\", \"#d62728\", \"#9467bd\", \"#8c564b\", \"#e377c2\", \"#7f7f7f\", \"#bcbd22\", \"#17becf\"], \"size\": 20, \"symbol\": \"circle\"}, \"mode\": \"markers\", \"text\": [\"AAPOS\", \"BUSTILLO\", \"CAPAG\", \"COATRI\", \"COOPAGUAS\", \"COOPAPPI\", \"COOPLAN\", \"COSAALT\", \"COSMOL\", \"COSPAIL\", \"ELAPAS\", \"EMAPAS\", \"EMAPAV\", \"EMAPYC\", \"EPSA COBIJA\", \"MANCHACO\", \"SAJUBA\", \"SELA\"], \"textposition\": \"top center\", \"x\": [2016, 2016, 2016, 2016, 2016, 2016, 2016, 2016, 2016, 2016, 2016, 2016, 2016, 2016, 2016, 2016, 2016, 2016], \"y\": [73.8, 60.09, 37.5, 92.84, 40.31, 107.96, 84.16, 57.08, 69.49, 69.59, 82.5, 30.33, 56.29, 51.02, 89.33, 25.1, 75.13, 65.19], \"type\": \"scatter\"}]}, {\"data\": [{\"marker\": {\"color\": [\"#ff7f0e\", \"#2ca02c\", \"#d62728\", \"#9467bd\", \"#8c564b\", \"#e377c2\", \"#7f7f7f\", \"#bcbd22\", \"#17becf\", \"#1f77b4\", \"#ff7f0e\", \"#2ca02c\", \"#d62728\", \"#9467bd\", \"#8c564b\", \"#e377c2\", \"#7f7f7f\", \"#bcbd22\", \"#17becf\", \"#1f77b4\", \"#ff7f0e\", \"#2ca02c\", \"#d62728\", \"#9467bd\", \"#8c564b\", \"#e377c2\", \"#7f7f7f\", \"#bcbd22\", \"#17becf\"], \"size\": 20, \"symbol\": \"circle\"}, \"mode\": \"markers\", \"text\": [\"AAPOS\", \"BUSTILLO\", \"CAPAG\", \"COATRI\", \"COOPAGUAS\", \"COOPAPPI\", \"COOPLAN\", \"COSAALT\", \"COSMOL\", \"COSPAIL\", \"ELAPAS\", \"EMAPAS\", \"EMAPAV\", \"EMAPYC\", \"EPSA COBIJA\", \"MANCHACO\", \"SAJUBA\", \"SELA\"], \"textposition\": \"top center\", \"x\": [2017, 2017, 2017, 2017, 2017, 2017, 2017, 2017, 2017, 2017, 2017, 2017, 2017, 2017, 2017, 2017, 2017, 2017], \"y\": [58.83, 60.99, 35.0, 79.02, 40.59, 110.46, 88.97, 52.59, 63.32, 72.74, 76.99, 35.85, 62.11, 48.73, 89.33, 20.57, 79.63, 66.64], \"type\": \"scatter\"}]}]);}).then(function(){Plotly.animate('d51a0806-2313-4a4a-90bc-2485674a18aa');})\n",
       "        });</script>"
      ],
      "text/vnd.plotly.v1+html": [
       "<div id=\"d51a0806-2313-4a4a-90bc-2485674a18aa\" style=\"height: 525px; width: 100%;\" class=\"plotly-graph-div\"></div><script type=\"text/javascript\">require([\"plotly\"], function(Plotly) { window.PLOTLYENV=window.PLOTLYENV || {};window.PLOTLYENV.BASE_URL=\"https://plot.ly\";\n",
       "        Plotly.plot(\n",
       "            'd51a0806-2313-4a4a-90bc-2485674a18aa',\n",
       "            [{\"mode\": \"markers+text\", \"showlegend\": false, \"text\": [\"AAPOS\", \"BUSTILLO\", \"CAPAG\", \"COATRI\", \"COOPAGUAS\", \"COOPAPPI\", \"COOPLAN\", \"COSAALT\", \"COSMOL\", \"COSPAIL\", \"ELAPAS\", \"EMAPAS\", \"EMAPAV\", \"EMAPYC\", \"EPSA COBIJA\", \"MANCHACO\", \"SAJUBA\", \"SELA\"], \"x\": [2014, 2014, 2014, 2014, 2014, 2014, 2014, 2014, 2014, 2014, 2014, 2014, 2014, 2014, 2014, 2014, 2014, 2014], \"y\": [98.7, 61.36, 35.12, 116.57, 88.59, 133.44, 80.72, 62.09, 56.11, 61.84, 68.5, null, 55.48, 49.56, 84.83, 25.52, 57.23, 62.53], \"type\": \"scatter\", \"uid\": \"91ce6f22-ccc2-11e8-83e8-f0761c9f65e1\"}, {\"mode\": \"lines\", \"name\": \"AAPOS\", \"x\": [2014, 2015, 2016, 2017], \"y\": [98.7, 105.61, 73.8, 58.83], \"type\": \"scatter\", \"uid\": \"91ce6f23-ccc2-11e8-b4be-f0761c9f65e1\"}, {\"mode\": \"lines\", \"name\": \"BUSTILLO\", \"x\": [2014, 2015, 2016, 2017], \"y\": [61.36, 67.59, 60.09, 60.99], \"type\": \"scatter\", \"uid\": \"91ce6f24-ccc2-11e8-8fcd-f0761c9f65e1\"}, {\"mode\": \"lines\", \"name\": \"CAPAG\", \"x\": [2014, 2015, 2016, 2017], \"y\": [35.12, 37.5, 37.5, 35.0], \"type\": \"scatter\", \"uid\": \"91ce6f25-ccc2-11e8-9940-f0761c9f65e1\"}, {\"mode\": \"lines\", \"name\": \"COATRI\", \"x\": [2014, 2015, 2016, 2017], \"y\": [116.57, 110.48, 92.84, 79.02], \"type\": \"scatter\", \"uid\": \"91ce6f26-ccc2-11e8-9efb-f0761c9f65e1\"}, {\"mode\": \"lines\", \"name\": \"COOPAGUAS\", \"x\": [2014, 2015, 2016, 2017], \"y\": [88.59, 39.76, 40.31, 40.59], \"type\": \"scatter\", \"uid\": \"91ce6f27-ccc2-11e8-85a8-f0761c9f65e1\"}, {\"mode\": \"lines\", \"name\": \"COOPAPPI\", \"x\": [2014, 2015, 2016, 2017], \"y\": [133.44, 111.71, 107.96, 110.46], \"type\": \"scatter\", \"uid\": \"91ce6f28-ccc2-11e8-9534-f0761c9f65e1\"}, {\"mode\": \"lines\", \"name\": \"COOPLAN\", \"x\": [2014, 2015, 2016, 2017], \"y\": [80.72, 82.98, 84.16, 88.97], \"type\": \"scatter\", \"uid\": \"91ce6f29-ccc2-11e8-9015-f0761c9f65e1\"}, {\"mode\": \"lines\", \"name\": \"COSAALT\", \"x\": [2014, 2015, 2016, 2017], \"y\": [62.09, 56.96, 57.08, 52.59], \"type\": \"scatter\", \"uid\": \"91ce6f2a-ccc2-11e8-aaa3-f0761c9f65e1\"}, {\"mode\": \"lines\", \"name\": \"COSMOL\", \"x\": [2014, 2015, 2016, 2017], \"y\": [56.11, 69.71, 69.49, 63.32], \"type\": \"scatter\", \"uid\": \"91ce6f2b-ccc2-11e8-a776-f0761c9f65e1\"}, {\"mode\": \"lines\", \"name\": \"COSPAIL\", \"x\": [2014, 2015, 2016, 2017], \"y\": [61.84, 64.38, 69.59, 72.74], \"type\": \"scatter\", \"uid\": \"91ce6f2c-ccc2-11e8-8bdd-f0761c9f65e1\"}, {\"mode\": \"lines\", \"name\": \"ELAPAS\", \"x\": [2014, 2015, 2016, 2017], \"y\": [68.5, 78.93, 82.5, 76.99], \"type\": \"scatter\", \"uid\": \"91ce6f2d-ccc2-11e8-b2cf-f0761c9f65e1\"}, {\"mode\": \"lines\", \"name\": \"EMAPAS\", \"x\": [2014, 2015, 2016, 2017], \"y\": [null, 38.15, 30.33, 35.85], \"type\": \"scatter\", \"uid\": \"91ce6f2e-ccc2-11e8-8d63-f0761c9f65e1\"}, {\"mode\": \"lines\", \"name\": \"EMAPAV\", \"x\": [2014, 2015, 2016, 2017], \"y\": [55.48, 63.43, 56.29, 62.11], \"type\": \"scatter\", \"uid\": \"91ce6f2f-ccc2-11e8-b913-f0761c9f65e1\"}, {\"mode\": \"lines\", \"name\": \"EMAPYC\", \"x\": [2014, 2015, 2016, 2017], \"y\": [49.56, 50.51, 51.02, 48.73], \"type\": \"scatter\", \"uid\": \"91ce6f30-ccc2-11e8-a60a-f0761c9f65e1\"}, {\"mode\": \"lines\", \"name\": \"EPSA COBIJA\", \"x\": [2014, 2015, 2016, 2017], \"y\": [84.83, 101.79, 89.33, 89.33], \"type\": \"scatter\", \"uid\": \"91ce6f31-ccc2-11e8-b26b-f0761c9f65e1\"}, {\"mode\": \"lines\", \"name\": \"MANCHACO\", \"x\": [2014, 2015, 2016, 2017], \"y\": [25.52, null, 25.1, 20.57], \"type\": \"scatter\", \"uid\": \"91ce6f32-ccc2-11e8-9182-f0761c9f65e1\"}, {\"mode\": \"lines\", \"name\": \"SAJUBA\", \"x\": [2014, 2015, 2016, 2017], \"y\": [57.23, 56.31, 75.13, 79.63], \"type\": \"scatter\", \"uid\": \"91ce6f33-ccc2-11e8-8786-f0761c9f65e1\"}, {\"mode\": \"lines\", \"name\": \"SELA\", \"x\": [2014, 2015, 2016, 2017], \"y\": [62.53, 64.32, 65.19, 66.64], \"type\": \"scatter\", \"uid\": \"91ce6f34-ccc2-11e8-8e71-f0761c9f65e1\"}],\n",
       "            {\"hovermode\": \"closest\", \"title\": \"Ranking EPSAS - Porcentaje de variables reportadas<br>Categor\\u00eda B\", \"updatemenus\": [{\"buttons\": [{\"args\": [null], \"label\": \"Animar\", \"method\": \"animate\"}], \"type\": \"buttons\", \"x\": 0, \"y\": 0}], \"xaxis\": {\"autorange\": false, \"dtick\": 1, \"range\": [2013.8, 2017.2], \"title\": \"A\\u00f1os\"}, \"yaxis\": {\"title\": \"Porcentaje de variables reportadas (%)\"}},\n",
       "            {\"showLink\": true, \"linkText\": \"Export to plot.ly\"}\n",
       "        ).then(function () {return Plotly.addFrames('d51a0806-2313-4a4a-90bc-2485674a18aa',[{\"data\": [{\"marker\": {\"color\": [\"#ff7f0e\", \"#2ca02c\", \"#d62728\", \"#9467bd\", \"#8c564b\", \"#e377c2\", \"#7f7f7f\", \"#bcbd22\", \"#17becf\", \"#1f77b4\", \"#ff7f0e\", \"#2ca02c\", \"#d62728\", \"#9467bd\", \"#8c564b\", \"#e377c2\", \"#7f7f7f\", \"#bcbd22\", \"#17becf\", \"#1f77b4\", \"#ff7f0e\", \"#2ca02c\", \"#d62728\", \"#9467bd\", \"#8c564b\", \"#e377c2\", \"#7f7f7f\", \"#bcbd22\", \"#17becf\"], \"size\": 20, \"symbol\": \"circle\"}, \"mode\": \"markers\", \"text\": [\"AAPOS\", \"BUSTILLO\", \"CAPAG\", \"COATRI\", \"COOPAGUAS\", \"COOPAPPI\", \"COOPLAN\", \"COSAALT\", \"COSMOL\", \"COSPAIL\", \"ELAPAS\", \"EMAPAS\", \"EMAPAV\", \"EMAPYC\", \"EPSA COBIJA\", \"MANCHACO\", \"SAJUBA\", \"SELA\"], \"textposition\": \"top center\", \"x\": [2014, 2014, 2014, 2014, 2014, 2014, 2014, 2014, 2014, 2014, 2014, 2014, 2014, 2014, 2014, 2014, 2014, 2014], \"y\": [98.7, 61.36, 35.12, 116.57, 88.59, 133.44, 80.72, 62.09, 56.11, 61.84, 68.5, null, 55.48, 49.56, 84.83, 25.52, 57.23, 62.53], \"type\": \"scatter\"}]}, {\"data\": [{\"marker\": {\"color\": [\"#ff7f0e\", \"#2ca02c\", \"#d62728\", \"#9467bd\", \"#8c564b\", \"#e377c2\", \"#7f7f7f\", \"#bcbd22\", \"#17becf\", \"#1f77b4\", \"#ff7f0e\", \"#2ca02c\", \"#d62728\", \"#9467bd\", \"#8c564b\", \"#e377c2\", \"#7f7f7f\", \"#bcbd22\", \"#17becf\", \"#1f77b4\", \"#ff7f0e\", \"#2ca02c\", \"#d62728\", \"#9467bd\", \"#8c564b\", \"#e377c2\", \"#7f7f7f\", \"#bcbd22\", \"#17becf\"], \"size\": 20, \"symbol\": \"circle\"}, \"mode\": \"markers\", \"text\": [\"AAPOS\", \"BUSTILLO\", \"CAPAG\", \"COATRI\", \"COOPAGUAS\", \"COOPAPPI\", \"COOPLAN\", \"COSAALT\", \"COSMOL\", \"COSPAIL\", \"ELAPAS\", \"EMAPAS\", \"EMAPAV\", \"EMAPYC\", \"EPSA COBIJA\", \"MANCHACO\", \"SAJUBA\", \"SELA\"], \"textposition\": \"top center\", \"x\": [2015, 2015, 2015, 2015, 2015, 2015, 2015, 2015, 2015, 2015, 2015, 2015, 2015, 2015, 2015, 2015, 2015, 2015], \"y\": [105.61, 67.59, 37.5, 110.48, 39.76, 111.71, 82.98, 56.96, 69.71, 64.38, 78.93, 38.15, 63.43, 50.51, 101.79, null, 56.31, 64.32], \"type\": \"scatter\"}]}, {\"data\": [{\"marker\": {\"color\": [\"#ff7f0e\", \"#2ca02c\", \"#d62728\", \"#9467bd\", \"#8c564b\", \"#e377c2\", \"#7f7f7f\", \"#bcbd22\", \"#17becf\", \"#1f77b4\", \"#ff7f0e\", \"#2ca02c\", \"#d62728\", \"#9467bd\", \"#8c564b\", \"#e377c2\", \"#7f7f7f\", \"#bcbd22\", \"#17becf\", \"#1f77b4\", \"#ff7f0e\", \"#2ca02c\", \"#d62728\", \"#9467bd\", \"#8c564b\", \"#e377c2\", \"#7f7f7f\", \"#bcbd22\", \"#17becf\"], \"size\": 20, \"symbol\": \"circle\"}, \"mode\": \"markers\", \"text\": [\"AAPOS\", \"BUSTILLO\", \"CAPAG\", \"COATRI\", \"COOPAGUAS\", \"COOPAPPI\", \"COOPLAN\", \"COSAALT\", \"COSMOL\", \"COSPAIL\", \"ELAPAS\", \"EMAPAS\", \"EMAPAV\", \"EMAPYC\", \"EPSA COBIJA\", \"MANCHACO\", \"SAJUBA\", \"SELA\"], \"textposition\": \"top center\", \"x\": [2016, 2016, 2016, 2016, 2016, 2016, 2016, 2016, 2016, 2016, 2016, 2016, 2016, 2016, 2016, 2016, 2016, 2016], \"y\": [73.8, 60.09, 37.5, 92.84, 40.31, 107.96, 84.16, 57.08, 69.49, 69.59, 82.5, 30.33, 56.29, 51.02, 89.33, 25.1, 75.13, 65.19], \"type\": \"scatter\"}]}, {\"data\": [{\"marker\": {\"color\": [\"#ff7f0e\", \"#2ca02c\", \"#d62728\", \"#9467bd\", \"#8c564b\", \"#e377c2\", \"#7f7f7f\", \"#bcbd22\", \"#17becf\", \"#1f77b4\", \"#ff7f0e\", \"#2ca02c\", \"#d62728\", \"#9467bd\", \"#8c564b\", \"#e377c2\", \"#7f7f7f\", \"#bcbd22\", \"#17becf\", \"#1f77b4\", \"#ff7f0e\", \"#2ca02c\", \"#d62728\", \"#9467bd\", \"#8c564b\", \"#e377c2\", \"#7f7f7f\", \"#bcbd22\", \"#17becf\"], \"size\": 20, \"symbol\": \"circle\"}, \"mode\": \"markers\", \"text\": [\"AAPOS\", \"BUSTILLO\", \"CAPAG\", \"COATRI\", \"COOPAGUAS\", \"COOPAPPI\", \"COOPLAN\", \"COSAALT\", \"COSMOL\", \"COSPAIL\", \"ELAPAS\", \"EMAPAS\", \"EMAPAV\", \"EMAPYC\", \"EPSA COBIJA\", \"MANCHACO\", \"SAJUBA\", \"SELA\"], \"textposition\": \"top center\", \"x\": [2017, 2017, 2017, 2017, 2017, 2017, 2017, 2017, 2017, 2017, 2017, 2017, 2017, 2017, 2017, 2017, 2017, 2017], \"y\": [58.83, 60.99, 35.0, 79.02, 40.59, 110.46, 88.97, 52.59, 63.32, 72.74, 76.99, 35.85, 62.11, 48.73, 89.33, 20.57, 79.63, 66.64], \"type\": \"scatter\"}]}]);}).then(function(){Plotly.animate('d51a0806-2313-4a4a-90bc-2485674a18aa');})\n",
       "        });</script>"
      ]
     },
     "metadata": {},
     "output_type": "display_data"
    }
   ],
   "source": [
    "iplot(fig4b)"
   ]
  },
  {
   "cell_type": "code",
   "execution_count": 70,
   "metadata": {
    "slideshow": {
     "slide_type": "subslide"
    }
   },
   "outputs": [
    {
     "data": {
      "application/vnd.plotly.v1+json": {
       "data": [
        {
         "mode": "markers+text",
         "showlegend": false,
         "text": [
          "6 DE OCTUBRE",
          "CAPU",
          "COAPASB",
          "COMAYO",
          "COOPAGUAB",
          "COOPLIM",
          "COOSIV",
          "COOSPELCAR",
          "COSAJU",
          "COSAP",
          "COSAPAC",
          "COSAPSI",
          "COSCHAL",
          "COSEPA",
          "COSEPCO",
          "COSEPUR",
          "COSFAL",
          "COSIMBO",
          "COSMIN",
          "COSMON",
          "COSPAS",
          "COSPHUL",
          "COSPOL",
          "COSPUGEBUL",
          "EMAAB",
          "EMAPA",
          "EMPSAAT",
          "EMSABAV",
          "FLORIDA",
          "LA GUARDIA",
          "LA PORTEÑA",
          "SAMAPAR",
          "SEAPAS",
          "SEMAPAR",
          "SMAPA"
         ],
         "type": "scatter",
         "uid": "0e8a1c26-cca7-11e8-a4f9-f0761c9f65e1",
         "x": [
          2014,
          2014,
          2014,
          2014,
          2014,
          2014,
          2014,
          2014,
          2014,
          2014,
          2014,
          2014,
          2014,
          2014,
          2014,
          2014,
          2014,
          2014,
          2014,
          2014,
          2014,
          2014,
          2014,
          2014,
          2014,
          2014,
          2014,
          2014,
          2014,
          2014,
          2014,
          2014,
          2014,
          2014,
          2014
         ],
         "y": [
          44.83,
          null,
          33.8,
          27.24,
          60.43,
          52.18,
          null,
          66.24,
          37.33,
          89.2,
          90.84,
          null,
          56.08,
          null,
          35.51,
          null,
          30.73,
          null,
          63.12,
          null,
          null,
          72.2,
          null,
          107.15,
          null,
          null,
          86.36
         ]
        },
        {
         "mode": "lines",
         "name": "6 DE OCTUBRE",
         "type": "scatter",
         "uid": "0e8a1c27-cca7-11e8-8d92-f0761c9f65e1",
         "x": [
          2014,
          2015,
          2016,
          2017
         ],
         "y": [
          0,
          0,
          0,
          59.375
         ]
        },
        {
         "mode": "lines",
         "name": "CAPU",
         "type": "scatter",
         "uid": "0e8a1c28-cca7-11e8-aa31-f0761c9f65e1",
         "x": [
          2014,
          2015,
          2016,
          2017
         ],
         "y": [
          59.375,
          65.625,
          75,
          65.625
         ]
        },
        {
         "mode": "lines",
         "name": "COAPASB",
         "type": "scatter",
         "uid": "0e8a1c29-cca7-11e8-811d-f0761c9f65e1",
         "x": [
          2014,
          2015,
          2016,
          2017
         ],
         "y": [
          0,
          0,
          0,
          0
         ]
        },
        {
         "mode": "lines",
         "name": "COMAYO",
         "type": "scatter",
         "uid": "0e8a1c2a-cca7-11e8-a694-f0761c9f65e1",
         "x": [
          2014,
          2015,
          2016,
          2017
         ],
         "y": [
          0,
          9.375,
          75,
          93.75
         ]
        },
        {
         "mode": "lines",
         "name": "COOPAGUAB",
         "type": "scatter",
         "uid": "0e8a1c2b-cca7-11e8-8405-f0761c9f65e1",
         "x": [
          2014,
          2015,
          2016,
          2017
         ],
         "y": [
          65.625,
          65.625,
          68.75,
          68.75
         ]
        },
        {
         "mode": "lines",
         "name": "COOPLIM",
         "type": "scatter",
         "uid": "0e8a1c2c-cca7-11e8-94ac-f0761c9f65e1",
         "x": [
          2014,
          2015,
          2016,
          2017
         ],
         "y": [
          78.125,
          78.125,
          78.125,
          78.125
         ]
        },
        {
         "mode": "lines",
         "name": "COOSIV",
         "type": "scatter",
         "uid": "0e8a1c2d-cca7-11e8-abea-f0761c9f65e1",
         "x": [
          2014,
          2015,
          2016,
          2017
         ],
         "y": [
          96.875,
          93.75,
          100,
          100
         ]
        },
        {
         "mode": "lines",
         "name": "COOSPELCAR",
         "type": "scatter",
         "uid": "0e8a1c2e-cca7-11e8-94b1-f0761c9f65e1",
         "x": [
          2014,
          2015,
          2016,
          2017
         ],
         "y": [
          78.125,
          78.125,
          78.125,
          78.125
         ]
        },
        {
         "mode": "lines",
         "name": "COSAJU",
         "type": "scatter",
         "uid": "0e8a1c2f-cca7-11e8-a393-f0761c9f65e1",
         "x": [
          2014,
          2015,
          2016,
          2017
         ],
         "y": [
          12.5,
          78.125,
          68.75,
          78.125
         ]
        },
        {
         "mode": "lines",
         "name": "COSAP",
         "type": "scatter",
         "uid": "0e8a1c30-cca7-11e8-b873-f0761c9f65e1",
         "x": [
          2014,
          2015,
          2016,
          2017
         ],
         "y": [
          53.125,
          59.375,
          78.125,
          75
         ]
        },
        {
         "mode": "lines",
         "name": "COSAPAC",
         "type": "scatter",
         "uid": "0e8a1c31-cca7-11e8-a15c-f0761c9f65e1",
         "x": [
          2014,
          2015,
          2016,
          2017
         ],
         "y": [
          43.75,
          31.25,
          56.25,
          62.5
         ]
        },
        {
         "mode": "lines",
         "name": "COSAPSI",
         "type": "scatter",
         "uid": "0e8a1c32-cca7-11e8-8c2b-f0761c9f65e1",
         "x": [
          2014,
          2015,
          2016,
          2017
         ],
         "y": [
          56.25,
          46.875,
          75,
          78.125
         ]
        },
        {
         "mode": "lines",
         "name": "COSCHAL",
         "type": "scatter",
         "uid": "0e8a1c33-cca7-11e8-8e45-f0761c9f65e1",
         "x": [
          2014,
          2015,
          2016,
          2017
         ],
         "y": [
          84.375,
          87.5,
          84.375,
          87.5
         ]
        },
        {
         "mode": "lines",
         "name": "COSEPA",
         "type": "scatter",
         "uid": "0e8a4330-cca7-11e8-92ee-f0761c9f65e1",
         "x": [
          2014,
          2015,
          2016,
          2017
         ],
         "y": [
          0,
          12.5,
          37.5,
          0
         ]
        },
        {
         "mode": "lines",
         "name": "COSEPCO",
         "type": "scatter",
         "uid": "0e8a4331-cca7-11e8-9378-f0761c9f65e1",
         "x": [
          2014,
          2015,
          2016,
          2017
         ],
         "y": [
          0,
          0,
          53.125,
          71.875
         ]
        },
        {
         "mode": "lines",
         "name": "COSEPUR",
         "type": "scatter",
         "uid": "0e8a4332-cca7-11e8-a1d1-f0761c9f65e1",
         "x": [
          2014,
          2015,
          2016,
          2017
         ],
         "y": [
          0,
          0,
          71.875,
          90.625
         ]
        },
        {
         "mode": "lines",
         "name": "COSFAL",
         "type": "scatter",
         "uid": "0e8a4333-cca7-11e8-b30a-f0761c9f65e1",
         "x": [
          2014,
          2015,
          2016,
          2017
         ],
         "y": [
          0,
          0,
          0,
          75
         ]
        },
        {
         "mode": "lines",
         "name": "COSIMBO",
         "type": "scatter",
         "uid": "0e8a4334-cca7-11e8-a88c-f0761c9f65e1",
         "x": [
          2014,
          2015,
          2016,
          2017
         ],
         "y": [
          0,
          78.125,
          75,
          75
         ]
        },
        {
         "mode": "lines",
         "name": "COSMIN",
         "type": "scatter",
         "uid": "0e8a4335-cca7-11e8-a77d-f0761c9f65e1",
         "x": [
          2014,
          2015,
          2016,
          2017
         ],
         "y": [
          78.125,
          75,
          75,
          87.5
         ]
        },
        {
         "mode": "lines",
         "name": "COSMON",
         "type": "scatter",
         "uid": "0e8a4336-cca7-11e8-bc17-f0761c9f65e1",
         "x": [
          2014,
          2015,
          2016,
          2017
         ],
         "y": [
          90.625,
          81.25,
          93.75,
          96.875
         ]
        },
        {
         "mode": "lines",
         "name": "COSPAS",
         "type": "scatter",
         "uid": "0e8a4337-cca7-11e8-902c-f0761c9f65e1",
         "x": [
          2014,
          2015,
          2016,
          2017
         ],
         "y": [
          0,
          0,
          0,
          71.875
         ]
        },
        {
         "mode": "lines",
         "name": "COSPHUL",
         "type": "scatter",
         "uid": "0e8a4338-cca7-11e8-ba4d-f0761c9f65e1",
         "x": [
          2014,
          2015,
          2016,
          2017
         ],
         "y": [
          75,
          78.125,
          78.125,
          78.125
         ]
        },
        {
         "mode": "lines",
         "name": "COSPOL",
         "type": "scatter",
         "uid": "0e8a4339-cca7-11e8-bdfb-f0761c9f65e1",
         "x": [
          2014,
          2015,
          2016,
          2017
         ],
         "y": [
          0,
          0,
          0,
          93.75
         ]
        },
        {
         "mode": "lines",
         "name": "COSPUGEBUL",
         "type": "scatter",
         "uid": "0e8a433a-cca7-11e8-95dc-f0761c9f65e1",
         "x": [
          2014,
          2015,
          2016,
          2017
         ],
         "y": [
          93.75,
          96.875,
          96.875,
          96.875
         ]
        },
        {
         "mode": "lines",
         "name": "EMAAB",
         "type": "scatter",
         "uid": "0e8a433b-cca7-11e8-9d04-f0761c9f65e1",
         "x": [
          2014,
          2015,
          2016,
          2017
         ],
         "y": [
          78.125,
          78.125,
          84.375,
          84.375
         ]
        },
        {
         "mode": "lines",
         "name": "EMAPA",
         "type": "scatter",
         "uid": "0e8a433c-cca7-11e8-b869-f0761c9f65e1",
         "x": [
          2014,
          2015,
          2016,
          2017
         ],
         "y": [
          25,
          46.875,
          68.75,
          53.125
         ]
        },
        {
         "mode": "lines",
         "name": "EMPSAAT",
         "type": "scatter",
         "uid": "0e8a433d-cca7-11e8-b024-f0761c9f65e1",
         "x": [
          2014,
          2015,
          2016,
          2017
         ],
         "y": [
          31.25,
          62.5,
          78.125,
          75
         ]
        },
        {
         "mode": "lines",
         "name": "EMSABAV",
         "type": "scatter",
         "uid": "0e8a433e-cca7-11e8-855f-f0761c9f65e1",
         "x": [
          2014,
          2015,
          2016,
          2017
         ],
         "y": [
          81.25,
          81.25,
          87.5,
          96.875
         ]
        },
        {
         "mode": "lines",
         "name": "FLORIDA",
         "type": "scatter",
         "uid": "0e8a433f-cca7-11e8-83fa-f0761c9f65e1",
         "x": [
          2014,
          2015,
          2016,
          2017
         ],
         "y": [
          12.5,
          56.25,
          75,
          90.625
         ]
        },
        {
         "mode": "lines",
         "name": "LA GUARDIA",
         "type": "scatter",
         "uid": "0e8a4340-cca7-11e8-944f-f0761c9f65e1",
         "x": [
          2014,
          2015,
          2016,
          2017
         ],
         "y": [
          93.75,
          93.75,
          96.875,
          93.75
         ]
        },
        {
         "mode": "lines",
         "name": "LA PORTEÑA",
         "type": "scatter",
         "uid": "0e8a4341-cca7-11e8-baca-f0761c9f65e1",
         "x": [
          2014,
          2015,
          2016,
          2017
         ],
         "y": [
          9.375,
          68.75,
          68.75,
          71.875
         ]
        },
        {
         "mode": "lines",
         "name": "SAMAPAR",
         "type": "scatter",
         "uid": "0e8a4342-cca7-11e8-9114-f0761c9f65e1",
         "x": [
          2014,
          2015,
          2016,
          2017
         ],
         "y": [
          12.5,
          65.625,
          75,
          71.875
         ]
        },
        {
         "mode": "lines",
         "name": "SEAPAS",
         "type": "scatter",
         "uid": "0e8a4343-cca7-11e8-8570-f0761c9f65e1",
         "x": [
          2014,
          2015,
          2016,
          2017
         ],
         "y": [
          87.5,
          90.625,
          90.625,
          96.875
         ]
        },
        {
         "mode": "lines",
         "name": "SEMAPAR",
         "type": "scatter",
         "uid": "0e8a4344-cca7-11e8-b193-f0761c9f65e1",
         "x": [
          2014,
          2015,
          2016,
          2017
         ],
         "y": [
          0,
          0,
          0,
          65.625
         ]
        },
        {
         "mode": "lines",
         "name": "SMAPA",
         "type": "scatter",
         "uid": "0e8a4345-cca7-11e8-bf91-f0761c9f65e1",
         "x": [
          2014,
          2015,
          2016,
          2017
         ],
         "y": [
          0,
          0,
          46.875,
          37.5
         ]
        }
       ],
       "frames": [
        {
         "data": [
          {
           "marker": {
            "color": [
             "#ff7f0e",
             "#2ca02c",
             "#d62728",
             "#9467bd",
             "#8c564b",
             "#e377c2",
             "#7f7f7f",
             "#bcbd22",
             "#17becf",
             "#1f77b4",
             "#ff7f0e",
             "#2ca02c",
             "#d62728",
             "#9467bd",
             "#8c564b",
             "#e377c2",
             "#7f7f7f",
             "#bcbd22",
             "#17becf",
             "#1f77b4",
             "#ff7f0e",
             "#2ca02c",
             "#d62728",
             "#9467bd",
             "#8c564b",
             "#e377c2",
             "#7f7f7f",
             "#bcbd22",
             "#17becf"
            ],
            "size": 20,
            "symbol": "circle"
           },
           "mode": "markers",
           "text": [
            "6 DE OCTUBRE",
            "CAPU",
            "COAPASB",
            "COMAYO",
            "COOPAGUAB",
            "COOPLIM",
            "COOSIV",
            "COOSPELCAR",
            "COSAJU",
            "COSAP",
            "COSAPAC",
            "COSAPSI",
            "COSCHAL",
            "COSEPA",
            "COSEPCO",
            "COSEPUR",
            "COSFAL",
            "COSIMBO",
            "COSMIN",
            "COSMON",
            "COSPAS",
            "COSPHUL",
            "COSPOL",
            "COSPUGEBUL",
            "EMAAB",
            "EMAPA",
            "EMPSAAT",
            "EMSABAV",
            "FLORIDA",
            "LA GUARDIA",
            "LA PORTEÑA",
            "SAMAPAR",
            "SEAPAS",
            "SEMAPAR",
            "SMAPA"
           ],
           "textposition": "top center",
           "type": "scatter",
           "x": [
            2014,
            2014,
            2014,
            2014,
            2014,
            2014,
            2014,
            2014,
            2014,
            2014,
            2014,
            2014,
            2014,
            2014,
            2014,
            2014,
            2014,
            2014,
            2014,
            2014,
            2014,
            2014,
            2014,
            2014,
            2014,
            2014,
            2014,
            2014,
            2014,
            2014,
            2014,
            2014,
            2014,
            2014,
            2014
           ],
           "y": [
            0,
            59.375,
            0,
            0,
            65.625,
            78.125,
            96.875,
            78.125,
            12.5,
            53.125,
            43.75,
            56.25,
            84.375,
            0,
            0,
            0,
            0,
            0,
            78.125,
            90.625,
            0,
            75,
            0,
            93.75,
            78.125,
            25,
            31.25,
            81.25,
            12.5,
            93.75,
            9.375,
            12.5,
            87.5,
            0,
            0
           ]
          }
         ]
        },
        {
         "data": [
          {
           "marker": {
            "color": [
             "#ff7f0e",
             "#2ca02c",
             "#d62728",
             "#9467bd",
             "#8c564b",
             "#e377c2",
             "#7f7f7f",
             "#bcbd22",
             "#17becf",
             "#1f77b4",
             "#ff7f0e",
             "#2ca02c",
             "#d62728",
             "#9467bd",
             "#8c564b",
             "#e377c2",
             "#7f7f7f",
             "#bcbd22",
             "#17becf",
             "#1f77b4",
             "#ff7f0e",
             "#2ca02c",
             "#d62728",
             "#9467bd",
             "#8c564b",
             "#e377c2",
             "#7f7f7f",
             "#bcbd22",
             "#17becf"
            ],
            "size": 20,
            "symbol": "circle"
           },
           "mode": "markers",
           "text": [
            "6 DE OCTUBRE",
            "CAPU",
            "COAPASB",
            "COMAYO",
            "COOPAGUAB",
            "COOPLIM",
            "COOSIV",
            "COOSPELCAR",
            "COSAJU",
            "COSAP",
            "COSAPAC",
            "COSAPSI",
            "COSCHAL",
            "COSEPA",
            "COSEPCO",
            "COSEPUR",
            "COSFAL",
            "COSIMBO",
            "COSMIN",
            "COSMON",
            "COSPAS",
            "COSPHUL",
            "COSPOL",
            "COSPUGEBUL",
            "EMAAB",
            "EMAPA",
            "EMPSAAT",
            "EMSABAV",
            "FLORIDA",
            "LA GUARDIA",
            "LA PORTEÑA",
            "SAMAPAR",
            "SEAPAS",
            "SEMAPAR",
            "SMAPA"
           ],
           "textposition": "top center",
           "type": "scatter",
           "x": [
            2015,
            2015,
            2015,
            2015,
            2015,
            2015,
            2015,
            2015,
            2015,
            2015,
            2015,
            2015,
            2015,
            2015,
            2015,
            2015,
            2015,
            2015,
            2015,
            2015,
            2015,
            2015,
            2015,
            2015,
            2015,
            2015,
            2015,
            2015,
            2015,
            2015,
            2015,
            2015,
            2015,
            2015,
            2015
           ],
           "y": [
            0,
            65.625,
            0,
            9.375,
            65.625,
            78.125,
            93.75,
            78.125,
            78.125,
            59.375,
            31.25,
            46.875,
            87.5,
            12.5,
            0,
            0,
            0,
            78.125,
            75,
            81.25,
            0,
            78.125,
            0,
            96.875,
            78.125,
            46.875,
            62.5,
            81.25,
            56.25,
            93.75,
            68.75,
            65.625,
            90.625,
            0,
            0
           ]
          }
         ]
        },
        {
         "data": [
          {
           "marker": {
            "color": [
             "#ff7f0e",
             "#2ca02c",
             "#d62728",
             "#9467bd",
             "#8c564b",
             "#e377c2",
             "#7f7f7f",
             "#bcbd22",
             "#17becf",
             "#1f77b4",
             "#ff7f0e",
             "#2ca02c",
             "#d62728",
             "#9467bd",
             "#8c564b",
             "#e377c2",
             "#7f7f7f",
             "#bcbd22",
             "#17becf",
             "#1f77b4",
             "#ff7f0e",
             "#2ca02c",
             "#d62728",
             "#9467bd",
             "#8c564b",
             "#e377c2",
             "#7f7f7f",
             "#bcbd22",
             "#17becf"
            ],
            "size": 20,
            "symbol": "circle"
           },
           "mode": "markers",
           "text": [
            "6 DE OCTUBRE",
            "CAPU",
            "COAPASB",
            "COMAYO",
            "COOPAGUAB",
            "COOPLIM",
            "COOSIV",
            "COOSPELCAR",
            "COSAJU",
            "COSAP",
            "COSAPAC",
            "COSAPSI",
            "COSCHAL",
            "COSEPA",
            "COSEPCO",
            "COSEPUR",
            "COSFAL",
            "COSIMBO",
            "COSMIN",
            "COSMON",
            "COSPAS",
            "COSPHUL",
            "COSPOL",
            "COSPUGEBUL",
            "EMAAB",
            "EMAPA",
            "EMPSAAT",
            "EMSABAV",
            "FLORIDA",
            "LA GUARDIA",
            "LA PORTEÑA",
            "SAMAPAR",
            "SEAPAS",
            "SEMAPAR",
            "SMAPA"
           ],
           "textposition": "top center",
           "type": "scatter",
           "x": [
            2016,
            2016,
            2016,
            2016,
            2016,
            2016,
            2016,
            2016,
            2016,
            2016,
            2016,
            2016,
            2016,
            2016,
            2016,
            2016,
            2016,
            2016,
            2016,
            2016,
            2016,
            2016,
            2016,
            2016,
            2016,
            2016,
            2016,
            2016,
            2016,
            2016,
            2016,
            2016,
            2016,
            2016,
            2016
           ],
           "y": [
            0,
            75,
            0,
            75,
            68.75,
            78.125,
            100,
            78.125,
            68.75,
            78.125,
            56.25,
            75,
            84.375,
            37.5,
            53.125,
            71.875,
            0,
            75,
            75,
            93.75,
            0,
            78.125,
            0,
            96.875,
            84.375,
            68.75,
            78.125,
            87.5,
            75,
            96.875,
            68.75,
            75,
            90.625,
            0,
            46.875
           ]
          }
         ]
        },
        {
         "data": [
          {
           "marker": {
            "color": [
             "#ff7f0e",
             "#2ca02c",
             "#d62728",
             "#9467bd",
             "#8c564b",
             "#e377c2",
             "#7f7f7f",
             "#bcbd22",
             "#17becf",
             "#1f77b4",
             "#ff7f0e",
             "#2ca02c",
             "#d62728",
             "#9467bd",
             "#8c564b",
             "#e377c2",
             "#7f7f7f",
             "#bcbd22",
             "#17becf",
             "#1f77b4",
             "#ff7f0e",
             "#2ca02c",
             "#d62728",
             "#9467bd",
             "#8c564b",
             "#e377c2",
             "#7f7f7f",
             "#bcbd22",
             "#17becf"
            ],
            "size": 20,
            "symbol": "circle"
           },
           "mode": "markers",
           "text": [
            "6 DE OCTUBRE",
            "CAPU",
            "COAPASB",
            "COMAYO",
            "COOPAGUAB",
            "COOPLIM",
            "COOSIV",
            "COOSPELCAR",
            "COSAJU",
            "COSAP",
            "COSAPAC",
            "COSAPSI",
            "COSCHAL",
            "COSEPA",
            "COSEPCO",
            "COSEPUR",
            "COSFAL",
            "COSIMBO",
            "COSMIN",
            "COSMON",
            "COSPAS",
            "COSPHUL",
            "COSPOL",
            "COSPUGEBUL",
            "EMAAB",
            "EMAPA",
            "EMPSAAT",
            "EMSABAV",
            "FLORIDA",
            "LA GUARDIA",
            "LA PORTEÑA",
            "SAMAPAR",
            "SEAPAS",
            "SEMAPAR",
            "SMAPA"
           ],
           "textposition": "top center",
           "type": "scatter",
           "x": [
            2017,
            2017,
            2017,
            2017,
            2017,
            2017,
            2017,
            2017,
            2017,
            2017,
            2017,
            2017,
            2017,
            2017,
            2017,
            2017,
            2017,
            2017,
            2017,
            2017,
            2017,
            2017,
            2017,
            2017,
            2017,
            2017,
            2017,
            2017,
            2017,
            2017,
            2017,
            2017,
            2017,
            2017,
            2017
           ],
           "y": [
            59.375,
            65.625,
            0,
            93.75,
            68.75,
            78.125,
            100,
            78.125,
            78.125,
            75,
            62.5,
            78.125,
            87.5,
            0,
            71.875,
            90.625,
            75,
            75,
            87.5,
            96.875,
            71.875,
            78.125,
            93.75,
            96.875,
            84.375,
            53.125,
            75,
            96.875,
            90.625,
            93.75,
            71.875,
            71.875,
            96.875,
            65.625,
            37.5
           ]
          }
         ]
        }
       ],
       "layout": {
        "hovermode": "closest",
        "title": "Ranking EPSAS - Porcentaje de variables reportadas<br>Categoría C",
        "updatemenus": [
         {
          "buttons": [
           {
            "args": [
             null
            ],
            "label": "Animar",
            "method": "animate"
           }
          ],
          "type": "buttons",
          "x": 0,
          "y": 0
         }
        ],
        "xaxis": {
         "autorange": false,
         "dtick": 1,
         "range": [
          2013.8,
          2017.2
         ],
         "title": "Años"
        },
        "yaxis": {
         "title": "Porcentaje de variables reportadas (%)"
        }
       }
      },
      "text/html": [
       "<div id=\"f10d321a-9130-4041-8495-9fea5b063ac3\" style=\"height: 525px; width: 100%;\" class=\"plotly-graph-div\"></div><script type=\"text/javascript\">require([\"plotly\"], function(Plotly) { window.PLOTLYENV=window.PLOTLYENV || {};window.PLOTLYENV.BASE_URL=\"https://plot.ly\";\n",
       "        Plotly.plot(\n",
       "            'f10d321a-9130-4041-8495-9fea5b063ac3',\n",
       "            [{\"mode\": \"markers+text\", \"showlegend\": false, \"text\": [\"6 DE OCTUBRE\", \"CAPU\", \"COAPASB\", \"COMAYO\", \"COOPAGUAB\", \"COOPLIM\", \"COOSIV\", \"COOSPELCAR\", \"COSAJU\", \"COSAP\", \"COSAPAC\", \"COSAPSI\", \"COSCHAL\", \"COSEPA\", \"COSEPCO\", \"COSEPUR\", \"COSFAL\", \"COSIMBO\", \"COSMIN\", \"COSMON\", \"COSPAS\", \"COSPHUL\", \"COSPOL\", \"COSPUGEBUL\", \"EMAAB\", \"EMAPA\", \"EMPSAAT\", \"EMSABAV\", \"FLORIDA\", \"LA GUARDIA\", \"LA PORTE\\u00d1A\", \"SAMAPAR\", \"SEAPAS\", \"SEMAPAR\", \"SMAPA\"], \"x\": [2014, 2014, 2014, 2014, 2014, 2014, 2014, 2014, 2014, 2014, 2014, 2014, 2014, 2014, 2014, 2014, 2014, 2014, 2014, 2014, 2014, 2014, 2014, 2014, 2014, 2014, 2014, 2014, 2014, 2014, 2014, 2014, 2014, 2014, 2014], \"y\": [44.83, null, 33.8, 27.24, 60.43, 52.18, null, 66.24, 37.33, 89.2, 90.84, null, 56.08, null, 35.51, null, 30.73, null, 63.12, null, null, 72.2, null, 107.15, null, null, 86.36], \"type\": \"scatter\", \"uid\": \"0e8a1c26-cca7-11e8-a4f9-f0761c9f65e1\"}, {\"mode\": \"lines\", \"name\": \"6 DE OCTUBRE\", \"x\": [2014, 2015, 2016, 2017], \"y\": [0.0, 0.0, 0.0, 59.375], \"type\": \"scatter\", \"uid\": \"0e8a1c27-cca7-11e8-8d92-f0761c9f65e1\"}, {\"mode\": \"lines\", \"name\": \"CAPU\", \"x\": [2014, 2015, 2016, 2017], \"y\": [59.375, 65.625, 75.0, 65.625], \"type\": \"scatter\", \"uid\": \"0e8a1c28-cca7-11e8-aa31-f0761c9f65e1\"}, {\"mode\": \"lines\", \"name\": \"COAPASB\", \"x\": [2014, 2015, 2016, 2017], \"y\": [0.0, 0.0, 0.0, 0.0], \"type\": \"scatter\", \"uid\": \"0e8a1c29-cca7-11e8-811d-f0761c9f65e1\"}, {\"mode\": \"lines\", \"name\": \"COMAYO\", \"x\": [2014, 2015, 2016, 2017], \"y\": [0.0, 9.375, 75.0, 93.75], \"type\": \"scatter\", \"uid\": \"0e8a1c2a-cca7-11e8-a694-f0761c9f65e1\"}, {\"mode\": \"lines\", \"name\": \"COOPAGUAB\", \"x\": [2014, 2015, 2016, 2017], \"y\": [65.625, 65.625, 68.75, 68.75], \"type\": \"scatter\", \"uid\": \"0e8a1c2b-cca7-11e8-8405-f0761c9f65e1\"}, {\"mode\": \"lines\", \"name\": \"COOPLIM\", \"x\": [2014, 2015, 2016, 2017], \"y\": [78.125, 78.125, 78.125, 78.125], \"type\": \"scatter\", \"uid\": \"0e8a1c2c-cca7-11e8-94ac-f0761c9f65e1\"}, {\"mode\": \"lines\", \"name\": \"COOSIV\", \"x\": [2014, 2015, 2016, 2017], \"y\": [96.875, 93.75, 100.0, 100.0], \"type\": \"scatter\", \"uid\": \"0e8a1c2d-cca7-11e8-abea-f0761c9f65e1\"}, {\"mode\": \"lines\", \"name\": \"COOSPELCAR\", \"x\": [2014, 2015, 2016, 2017], \"y\": [78.125, 78.125, 78.125, 78.125], \"type\": \"scatter\", \"uid\": \"0e8a1c2e-cca7-11e8-94b1-f0761c9f65e1\"}, {\"mode\": \"lines\", \"name\": \"COSAJU\", \"x\": [2014, 2015, 2016, 2017], \"y\": [12.5, 78.125, 68.75, 78.125], \"type\": \"scatter\", \"uid\": \"0e8a1c2f-cca7-11e8-a393-f0761c9f65e1\"}, {\"mode\": \"lines\", \"name\": \"COSAP\", \"x\": [2014, 2015, 2016, 2017], \"y\": [53.125, 59.375, 78.125, 75.0], \"type\": \"scatter\", \"uid\": \"0e8a1c30-cca7-11e8-b873-f0761c9f65e1\"}, {\"mode\": \"lines\", \"name\": \"COSAPAC\", \"x\": [2014, 2015, 2016, 2017], \"y\": [43.75, 31.25, 56.25, 62.5], \"type\": \"scatter\", \"uid\": \"0e8a1c31-cca7-11e8-a15c-f0761c9f65e1\"}, {\"mode\": \"lines\", \"name\": \"COSAPSI\", \"x\": [2014, 2015, 2016, 2017], \"y\": [56.25, 46.875, 75.0, 78.125], \"type\": \"scatter\", \"uid\": \"0e8a1c32-cca7-11e8-8c2b-f0761c9f65e1\"}, {\"mode\": \"lines\", \"name\": \"COSCHAL\", \"x\": [2014, 2015, 2016, 2017], \"y\": [84.375, 87.5, 84.375, 87.5], \"type\": \"scatter\", \"uid\": \"0e8a1c33-cca7-11e8-8e45-f0761c9f65e1\"}, {\"mode\": \"lines\", \"name\": \"COSEPA\", \"x\": [2014, 2015, 2016, 2017], \"y\": [0.0, 12.5, 37.5, 0.0], \"type\": \"scatter\", \"uid\": \"0e8a4330-cca7-11e8-92ee-f0761c9f65e1\"}, {\"mode\": \"lines\", \"name\": \"COSEPCO\", \"x\": [2014, 2015, 2016, 2017], \"y\": [0.0, 0.0, 53.125, 71.875], \"type\": \"scatter\", \"uid\": \"0e8a4331-cca7-11e8-9378-f0761c9f65e1\"}, {\"mode\": \"lines\", \"name\": \"COSEPUR\", \"x\": [2014, 2015, 2016, 2017], \"y\": [0.0, 0.0, 71.875, 90.625], \"type\": \"scatter\", \"uid\": \"0e8a4332-cca7-11e8-a1d1-f0761c9f65e1\"}, {\"mode\": \"lines\", \"name\": \"COSFAL\", \"x\": [2014, 2015, 2016, 2017], \"y\": [0.0, 0.0, 0.0, 75.0], \"type\": \"scatter\", \"uid\": \"0e8a4333-cca7-11e8-b30a-f0761c9f65e1\"}, {\"mode\": \"lines\", \"name\": \"COSIMBO\", \"x\": [2014, 2015, 2016, 2017], \"y\": [0.0, 78.125, 75.0, 75.0], \"type\": \"scatter\", \"uid\": \"0e8a4334-cca7-11e8-a88c-f0761c9f65e1\"}, {\"mode\": \"lines\", \"name\": \"COSMIN\", \"x\": [2014, 2015, 2016, 2017], \"y\": [78.125, 75.0, 75.0, 87.5], \"type\": \"scatter\", \"uid\": \"0e8a4335-cca7-11e8-a77d-f0761c9f65e1\"}, {\"mode\": \"lines\", \"name\": \"COSMON\", \"x\": [2014, 2015, 2016, 2017], \"y\": [90.625, 81.25, 93.75, 96.875], \"type\": \"scatter\", \"uid\": \"0e8a4336-cca7-11e8-bc17-f0761c9f65e1\"}, {\"mode\": \"lines\", \"name\": \"COSPAS\", \"x\": [2014, 2015, 2016, 2017], \"y\": [0.0, 0.0, 0.0, 71.875], \"type\": \"scatter\", \"uid\": \"0e8a4337-cca7-11e8-902c-f0761c9f65e1\"}, {\"mode\": \"lines\", \"name\": \"COSPHUL\", \"x\": [2014, 2015, 2016, 2017], \"y\": [75.0, 78.125, 78.125, 78.125], \"type\": \"scatter\", \"uid\": \"0e8a4338-cca7-11e8-ba4d-f0761c9f65e1\"}, {\"mode\": \"lines\", \"name\": \"COSPOL\", \"x\": [2014, 2015, 2016, 2017], \"y\": [0.0, 0.0, 0.0, 93.75], \"type\": \"scatter\", \"uid\": \"0e8a4339-cca7-11e8-bdfb-f0761c9f65e1\"}, {\"mode\": \"lines\", \"name\": \"COSPUGEBUL\", \"x\": [2014, 2015, 2016, 2017], \"y\": [93.75, 96.875, 96.875, 96.875], \"type\": \"scatter\", \"uid\": \"0e8a433a-cca7-11e8-95dc-f0761c9f65e1\"}, {\"mode\": \"lines\", \"name\": \"EMAAB\", \"x\": [2014, 2015, 2016, 2017], \"y\": [78.125, 78.125, 84.375, 84.375], \"type\": \"scatter\", \"uid\": \"0e8a433b-cca7-11e8-9d04-f0761c9f65e1\"}, {\"mode\": \"lines\", \"name\": \"EMAPA\", \"x\": [2014, 2015, 2016, 2017], \"y\": [25.0, 46.875, 68.75, 53.125], \"type\": \"scatter\", \"uid\": \"0e8a433c-cca7-11e8-b869-f0761c9f65e1\"}, {\"mode\": \"lines\", \"name\": \"EMPSAAT\", \"x\": [2014, 2015, 2016, 2017], \"y\": [31.25, 62.5, 78.125, 75.0], \"type\": \"scatter\", \"uid\": \"0e8a433d-cca7-11e8-b024-f0761c9f65e1\"}, {\"mode\": \"lines\", \"name\": \"EMSABAV\", \"x\": [2014, 2015, 2016, 2017], \"y\": [81.25, 81.25, 87.5, 96.875], \"type\": \"scatter\", \"uid\": \"0e8a433e-cca7-11e8-855f-f0761c9f65e1\"}, {\"mode\": \"lines\", \"name\": \"FLORIDA\", \"x\": [2014, 2015, 2016, 2017], \"y\": [12.5, 56.25, 75.0, 90.625], \"type\": \"scatter\", \"uid\": \"0e8a433f-cca7-11e8-83fa-f0761c9f65e1\"}, {\"mode\": \"lines\", \"name\": \"LA GUARDIA\", \"x\": [2014, 2015, 2016, 2017], \"y\": [93.75, 93.75, 96.875, 93.75], \"type\": \"scatter\", \"uid\": \"0e8a4340-cca7-11e8-944f-f0761c9f65e1\"}, {\"mode\": \"lines\", \"name\": \"LA PORTE\\u00d1A\", \"x\": [2014, 2015, 2016, 2017], \"y\": [9.375, 68.75, 68.75, 71.875], \"type\": \"scatter\", \"uid\": \"0e8a4341-cca7-11e8-baca-f0761c9f65e1\"}, {\"mode\": \"lines\", \"name\": \"SAMAPAR\", \"x\": [2014, 2015, 2016, 2017], \"y\": [12.5, 65.625, 75.0, 71.875], \"type\": \"scatter\", \"uid\": \"0e8a4342-cca7-11e8-9114-f0761c9f65e1\"}, {\"mode\": \"lines\", \"name\": \"SEAPAS\", \"x\": [2014, 2015, 2016, 2017], \"y\": [87.5, 90.625, 90.625, 96.875], \"type\": \"scatter\", \"uid\": \"0e8a4343-cca7-11e8-8570-f0761c9f65e1\"}, {\"mode\": \"lines\", \"name\": \"SEMAPAR\", \"x\": [2014, 2015, 2016, 2017], \"y\": [0.0, 0.0, 0.0, 65.625], \"type\": \"scatter\", \"uid\": \"0e8a4344-cca7-11e8-b193-f0761c9f65e1\"}, {\"mode\": \"lines\", \"name\": \"SMAPA\", \"x\": [2014, 2015, 2016, 2017], \"y\": [0.0, 0.0, 46.875, 37.5], \"type\": \"scatter\", \"uid\": \"0e8a4345-cca7-11e8-bf91-f0761c9f65e1\"}],\n",
       "            {\"hovermode\": \"closest\", \"title\": \"Ranking EPSAS - Porcentaje de variables reportadas<br>Categor\\u00eda C\", \"updatemenus\": [{\"buttons\": [{\"args\": [null], \"label\": \"Animar\", \"method\": \"animate\"}], \"type\": \"buttons\", \"x\": 0, \"y\": 0}], \"xaxis\": {\"autorange\": false, \"dtick\": 1, \"range\": [2013.8, 2017.2], \"title\": \"A\\u00f1os\"}, \"yaxis\": {\"title\": \"Porcentaje de variables reportadas (%)\"}},\n",
       "            {\"showLink\": true, \"linkText\": \"Export to plot.ly\"}\n",
       "        ).then(function () {return Plotly.addFrames('f10d321a-9130-4041-8495-9fea5b063ac3',[{\"data\": [{\"marker\": {\"color\": [\"#ff7f0e\", \"#2ca02c\", \"#d62728\", \"#9467bd\", \"#8c564b\", \"#e377c2\", \"#7f7f7f\", \"#bcbd22\", \"#17becf\", \"#1f77b4\", \"#ff7f0e\", \"#2ca02c\", \"#d62728\", \"#9467bd\", \"#8c564b\", \"#e377c2\", \"#7f7f7f\", \"#bcbd22\", \"#17becf\", \"#1f77b4\", \"#ff7f0e\", \"#2ca02c\", \"#d62728\", \"#9467bd\", \"#8c564b\", \"#e377c2\", \"#7f7f7f\", \"#bcbd22\", \"#17becf\"], \"size\": 20, \"symbol\": \"circle\"}, \"mode\": \"markers\", \"text\": [\"6 DE OCTUBRE\", \"CAPU\", \"COAPASB\", \"COMAYO\", \"COOPAGUAB\", \"COOPLIM\", \"COOSIV\", \"COOSPELCAR\", \"COSAJU\", \"COSAP\", \"COSAPAC\", \"COSAPSI\", \"COSCHAL\", \"COSEPA\", \"COSEPCO\", \"COSEPUR\", \"COSFAL\", \"COSIMBO\", \"COSMIN\", \"COSMON\", \"COSPAS\", \"COSPHUL\", \"COSPOL\", \"COSPUGEBUL\", \"EMAAB\", \"EMAPA\", \"EMPSAAT\", \"EMSABAV\", \"FLORIDA\", \"LA GUARDIA\", \"LA PORTE\\u00d1A\", \"SAMAPAR\", \"SEAPAS\", \"SEMAPAR\", \"SMAPA\"], \"textposition\": \"top center\", \"x\": [2014, 2014, 2014, 2014, 2014, 2014, 2014, 2014, 2014, 2014, 2014, 2014, 2014, 2014, 2014, 2014, 2014, 2014, 2014, 2014, 2014, 2014, 2014, 2014, 2014, 2014, 2014, 2014, 2014, 2014, 2014, 2014, 2014, 2014, 2014], \"y\": [0.0, 59.375, 0.0, 0.0, 65.625, 78.125, 96.875, 78.125, 12.5, 53.125, 43.75, 56.25, 84.375, 0.0, 0.0, 0.0, 0.0, 0.0, 78.125, 90.625, 0.0, 75.0, 0.0, 93.75, 78.125, 25.0, 31.25, 81.25, 12.5, 93.75, 9.375, 12.5, 87.5, 0.0, 0.0], \"type\": \"scatter\"}]}, {\"data\": [{\"marker\": {\"color\": [\"#ff7f0e\", \"#2ca02c\", \"#d62728\", \"#9467bd\", \"#8c564b\", \"#e377c2\", \"#7f7f7f\", \"#bcbd22\", \"#17becf\", \"#1f77b4\", \"#ff7f0e\", \"#2ca02c\", \"#d62728\", \"#9467bd\", \"#8c564b\", \"#e377c2\", \"#7f7f7f\", \"#bcbd22\", \"#17becf\", \"#1f77b4\", \"#ff7f0e\", \"#2ca02c\", \"#d62728\", \"#9467bd\", \"#8c564b\", \"#e377c2\", \"#7f7f7f\", \"#bcbd22\", \"#17becf\"], \"size\": 20, \"symbol\": \"circle\"}, \"mode\": \"markers\", \"text\": [\"6 DE OCTUBRE\", \"CAPU\", \"COAPASB\", \"COMAYO\", \"COOPAGUAB\", \"COOPLIM\", \"COOSIV\", \"COOSPELCAR\", \"COSAJU\", \"COSAP\", \"COSAPAC\", \"COSAPSI\", \"COSCHAL\", \"COSEPA\", \"COSEPCO\", \"COSEPUR\", \"COSFAL\", \"COSIMBO\", \"COSMIN\", \"COSMON\", \"COSPAS\", \"COSPHUL\", \"COSPOL\", \"COSPUGEBUL\", \"EMAAB\", \"EMAPA\", \"EMPSAAT\", \"EMSABAV\", \"FLORIDA\", \"LA GUARDIA\", \"LA PORTE\\u00d1A\", \"SAMAPAR\", \"SEAPAS\", \"SEMAPAR\", \"SMAPA\"], \"textposition\": \"top center\", \"x\": [2015, 2015, 2015, 2015, 2015, 2015, 2015, 2015, 2015, 2015, 2015, 2015, 2015, 2015, 2015, 2015, 2015, 2015, 2015, 2015, 2015, 2015, 2015, 2015, 2015, 2015, 2015, 2015, 2015, 2015, 2015, 2015, 2015, 2015, 2015], \"y\": [0.0, 65.625, 0.0, 9.375, 65.625, 78.125, 93.75, 78.125, 78.125, 59.375, 31.25, 46.875, 87.5, 12.5, 0.0, 0.0, 0.0, 78.125, 75.0, 81.25, 0.0, 78.125, 0.0, 96.875, 78.125, 46.875, 62.5, 81.25, 56.25, 93.75, 68.75, 65.625, 90.625, 0.0, 0.0], \"type\": \"scatter\"}]}, {\"data\": [{\"marker\": {\"color\": [\"#ff7f0e\", \"#2ca02c\", \"#d62728\", \"#9467bd\", \"#8c564b\", \"#e377c2\", \"#7f7f7f\", \"#bcbd22\", \"#17becf\", \"#1f77b4\", \"#ff7f0e\", \"#2ca02c\", \"#d62728\", \"#9467bd\", \"#8c564b\", \"#e377c2\", \"#7f7f7f\", \"#bcbd22\", \"#17becf\", \"#1f77b4\", \"#ff7f0e\", \"#2ca02c\", \"#d62728\", \"#9467bd\", \"#8c564b\", \"#e377c2\", \"#7f7f7f\", \"#bcbd22\", \"#17becf\"], \"size\": 20, \"symbol\": \"circle\"}, \"mode\": \"markers\", \"text\": [\"6 DE OCTUBRE\", \"CAPU\", \"COAPASB\", \"COMAYO\", \"COOPAGUAB\", \"COOPLIM\", \"COOSIV\", \"COOSPELCAR\", \"COSAJU\", \"COSAP\", \"COSAPAC\", \"COSAPSI\", \"COSCHAL\", \"COSEPA\", \"COSEPCO\", \"COSEPUR\", \"COSFAL\", \"COSIMBO\", \"COSMIN\", \"COSMON\", \"COSPAS\", \"COSPHUL\", \"COSPOL\", \"COSPUGEBUL\", \"EMAAB\", \"EMAPA\", \"EMPSAAT\", \"EMSABAV\", \"FLORIDA\", \"LA GUARDIA\", \"LA PORTE\\u00d1A\", \"SAMAPAR\", \"SEAPAS\", \"SEMAPAR\", \"SMAPA\"], \"textposition\": \"top center\", \"x\": [2016, 2016, 2016, 2016, 2016, 2016, 2016, 2016, 2016, 2016, 2016, 2016, 2016, 2016, 2016, 2016, 2016, 2016, 2016, 2016, 2016, 2016, 2016, 2016, 2016, 2016, 2016, 2016, 2016, 2016, 2016, 2016, 2016, 2016, 2016], \"y\": [0.0, 75.0, 0.0, 75.0, 68.75, 78.125, 100.0, 78.125, 68.75, 78.125, 56.25, 75.0, 84.375, 37.5, 53.125, 71.875, 0.0, 75.0, 75.0, 93.75, 0.0, 78.125, 0.0, 96.875, 84.375, 68.75, 78.125, 87.5, 75.0, 96.875, 68.75, 75.0, 90.625, 0.0, 46.875], \"type\": \"scatter\"}]}, {\"data\": [{\"marker\": {\"color\": [\"#ff7f0e\", \"#2ca02c\", \"#d62728\", \"#9467bd\", \"#8c564b\", \"#e377c2\", \"#7f7f7f\", \"#bcbd22\", \"#17becf\", \"#1f77b4\", \"#ff7f0e\", \"#2ca02c\", \"#d62728\", \"#9467bd\", \"#8c564b\", \"#e377c2\", \"#7f7f7f\", \"#bcbd22\", \"#17becf\", \"#1f77b4\", \"#ff7f0e\", \"#2ca02c\", \"#d62728\", \"#9467bd\", \"#8c564b\", \"#e377c2\", \"#7f7f7f\", \"#bcbd22\", \"#17becf\"], \"size\": 20, \"symbol\": \"circle\"}, \"mode\": \"markers\", \"text\": [\"6 DE OCTUBRE\", \"CAPU\", \"COAPASB\", \"COMAYO\", \"COOPAGUAB\", \"COOPLIM\", \"COOSIV\", \"COOSPELCAR\", \"COSAJU\", \"COSAP\", \"COSAPAC\", \"COSAPSI\", \"COSCHAL\", \"COSEPA\", \"COSEPCO\", \"COSEPUR\", \"COSFAL\", \"COSIMBO\", \"COSMIN\", \"COSMON\", \"COSPAS\", \"COSPHUL\", \"COSPOL\", \"COSPUGEBUL\", \"EMAAB\", \"EMAPA\", \"EMPSAAT\", \"EMSABAV\", \"FLORIDA\", \"LA GUARDIA\", \"LA PORTE\\u00d1A\", \"SAMAPAR\", \"SEAPAS\", \"SEMAPAR\", \"SMAPA\"], \"textposition\": \"top center\", \"x\": [2017, 2017, 2017, 2017, 2017, 2017, 2017, 2017, 2017, 2017, 2017, 2017, 2017, 2017, 2017, 2017, 2017, 2017, 2017, 2017, 2017, 2017, 2017, 2017, 2017, 2017, 2017, 2017, 2017, 2017, 2017, 2017, 2017, 2017, 2017], \"y\": [59.375, 65.625, 0.0, 93.75, 68.75, 78.125, 100.0, 78.125, 78.125, 75.0, 62.5, 78.125, 87.5, 0.0, 71.875, 90.625, 75.0, 75.0, 87.5, 96.875, 71.875, 78.125, 93.75, 96.875, 84.375, 53.125, 75.0, 96.875, 90.625, 93.75, 71.875, 71.875, 96.875, 65.625, 37.5], \"type\": \"scatter\"}]}]);}).then(function(){Plotly.animate('f10d321a-9130-4041-8495-9fea5b063ac3');})\n",
       "        });</script>"
      ],
      "text/vnd.plotly.v1+html": [
       "<div id=\"f10d321a-9130-4041-8495-9fea5b063ac3\" style=\"height: 525px; width: 100%;\" class=\"plotly-graph-div\"></div><script type=\"text/javascript\">require([\"plotly\"], function(Plotly) { window.PLOTLYENV=window.PLOTLYENV || {};window.PLOTLYENV.BASE_URL=\"https://plot.ly\";\n",
       "        Plotly.plot(\n",
       "            'f10d321a-9130-4041-8495-9fea5b063ac3',\n",
       "            [{\"mode\": \"markers+text\", \"showlegend\": false, \"text\": [\"6 DE OCTUBRE\", \"CAPU\", \"COAPASB\", \"COMAYO\", \"COOPAGUAB\", \"COOPLIM\", \"COOSIV\", \"COOSPELCAR\", \"COSAJU\", \"COSAP\", \"COSAPAC\", \"COSAPSI\", \"COSCHAL\", \"COSEPA\", \"COSEPCO\", \"COSEPUR\", \"COSFAL\", \"COSIMBO\", \"COSMIN\", \"COSMON\", \"COSPAS\", \"COSPHUL\", \"COSPOL\", \"COSPUGEBUL\", \"EMAAB\", \"EMAPA\", \"EMPSAAT\", \"EMSABAV\", \"FLORIDA\", \"LA GUARDIA\", \"LA PORTE\\u00d1A\", \"SAMAPAR\", \"SEAPAS\", \"SEMAPAR\", \"SMAPA\"], \"x\": [2014, 2014, 2014, 2014, 2014, 2014, 2014, 2014, 2014, 2014, 2014, 2014, 2014, 2014, 2014, 2014, 2014, 2014, 2014, 2014, 2014, 2014, 2014, 2014, 2014, 2014, 2014, 2014, 2014, 2014, 2014, 2014, 2014, 2014, 2014], \"y\": [44.83, null, 33.8, 27.24, 60.43, 52.18, null, 66.24, 37.33, 89.2, 90.84, null, 56.08, null, 35.51, null, 30.73, null, 63.12, null, null, 72.2, null, 107.15, null, null, 86.36], \"type\": \"scatter\", \"uid\": \"0e8a1c26-cca7-11e8-a4f9-f0761c9f65e1\"}, {\"mode\": \"lines\", \"name\": \"6 DE OCTUBRE\", \"x\": [2014, 2015, 2016, 2017], \"y\": [0.0, 0.0, 0.0, 59.375], \"type\": \"scatter\", \"uid\": \"0e8a1c27-cca7-11e8-8d92-f0761c9f65e1\"}, {\"mode\": \"lines\", \"name\": \"CAPU\", \"x\": [2014, 2015, 2016, 2017], \"y\": [59.375, 65.625, 75.0, 65.625], \"type\": \"scatter\", \"uid\": \"0e8a1c28-cca7-11e8-aa31-f0761c9f65e1\"}, {\"mode\": \"lines\", \"name\": \"COAPASB\", \"x\": [2014, 2015, 2016, 2017], \"y\": [0.0, 0.0, 0.0, 0.0], \"type\": \"scatter\", \"uid\": \"0e8a1c29-cca7-11e8-811d-f0761c9f65e1\"}, {\"mode\": \"lines\", \"name\": \"COMAYO\", \"x\": [2014, 2015, 2016, 2017], \"y\": [0.0, 9.375, 75.0, 93.75], \"type\": \"scatter\", \"uid\": \"0e8a1c2a-cca7-11e8-a694-f0761c9f65e1\"}, {\"mode\": \"lines\", \"name\": \"COOPAGUAB\", \"x\": [2014, 2015, 2016, 2017], \"y\": [65.625, 65.625, 68.75, 68.75], \"type\": \"scatter\", \"uid\": \"0e8a1c2b-cca7-11e8-8405-f0761c9f65e1\"}, {\"mode\": \"lines\", \"name\": \"COOPLIM\", \"x\": [2014, 2015, 2016, 2017], \"y\": [78.125, 78.125, 78.125, 78.125], \"type\": \"scatter\", \"uid\": \"0e8a1c2c-cca7-11e8-94ac-f0761c9f65e1\"}, {\"mode\": \"lines\", \"name\": \"COOSIV\", \"x\": [2014, 2015, 2016, 2017], \"y\": [96.875, 93.75, 100.0, 100.0], \"type\": \"scatter\", \"uid\": \"0e8a1c2d-cca7-11e8-abea-f0761c9f65e1\"}, {\"mode\": \"lines\", \"name\": \"COOSPELCAR\", \"x\": [2014, 2015, 2016, 2017], \"y\": [78.125, 78.125, 78.125, 78.125], \"type\": \"scatter\", \"uid\": \"0e8a1c2e-cca7-11e8-94b1-f0761c9f65e1\"}, {\"mode\": \"lines\", \"name\": \"COSAJU\", \"x\": [2014, 2015, 2016, 2017], \"y\": [12.5, 78.125, 68.75, 78.125], \"type\": \"scatter\", \"uid\": \"0e8a1c2f-cca7-11e8-a393-f0761c9f65e1\"}, {\"mode\": \"lines\", \"name\": \"COSAP\", \"x\": [2014, 2015, 2016, 2017], \"y\": [53.125, 59.375, 78.125, 75.0], \"type\": \"scatter\", \"uid\": \"0e8a1c30-cca7-11e8-b873-f0761c9f65e1\"}, {\"mode\": \"lines\", \"name\": \"COSAPAC\", \"x\": [2014, 2015, 2016, 2017], \"y\": [43.75, 31.25, 56.25, 62.5], \"type\": \"scatter\", \"uid\": \"0e8a1c31-cca7-11e8-a15c-f0761c9f65e1\"}, {\"mode\": \"lines\", \"name\": \"COSAPSI\", \"x\": [2014, 2015, 2016, 2017], \"y\": [56.25, 46.875, 75.0, 78.125], \"type\": \"scatter\", \"uid\": \"0e8a1c32-cca7-11e8-8c2b-f0761c9f65e1\"}, {\"mode\": \"lines\", \"name\": \"COSCHAL\", \"x\": [2014, 2015, 2016, 2017], \"y\": [84.375, 87.5, 84.375, 87.5], \"type\": \"scatter\", \"uid\": \"0e8a1c33-cca7-11e8-8e45-f0761c9f65e1\"}, {\"mode\": \"lines\", \"name\": \"COSEPA\", \"x\": [2014, 2015, 2016, 2017], \"y\": [0.0, 12.5, 37.5, 0.0], \"type\": \"scatter\", \"uid\": \"0e8a4330-cca7-11e8-92ee-f0761c9f65e1\"}, {\"mode\": \"lines\", \"name\": \"COSEPCO\", \"x\": [2014, 2015, 2016, 2017], \"y\": [0.0, 0.0, 53.125, 71.875], \"type\": \"scatter\", \"uid\": \"0e8a4331-cca7-11e8-9378-f0761c9f65e1\"}, {\"mode\": \"lines\", \"name\": \"COSEPUR\", \"x\": [2014, 2015, 2016, 2017], \"y\": [0.0, 0.0, 71.875, 90.625], \"type\": \"scatter\", \"uid\": \"0e8a4332-cca7-11e8-a1d1-f0761c9f65e1\"}, {\"mode\": \"lines\", \"name\": \"COSFAL\", \"x\": [2014, 2015, 2016, 2017], \"y\": [0.0, 0.0, 0.0, 75.0], \"type\": \"scatter\", \"uid\": \"0e8a4333-cca7-11e8-b30a-f0761c9f65e1\"}, {\"mode\": \"lines\", \"name\": \"COSIMBO\", \"x\": [2014, 2015, 2016, 2017], \"y\": [0.0, 78.125, 75.0, 75.0], \"type\": \"scatter\", \"uid\": \"0e8a4334-cca7-11e8-a88c-f0761c9f65e1\"}, {\"mode\": \"lines\", \"name\": \"COSMIN\", \"x\": [2014, 2015, 2016, 2017], \"y\": [78.125, 75.0, 75.0, 87.5], \"type\": \"scatter\", \"uid\": \"0e8a4335-cca7-11e8-a77d-f0761c9f65e1\"}, {\"mode\": \"lines\", \"name\": \"COSMON\", \"x\": [2014, 2015, 2016, 2017], \"y\": [90.625, 81.25, 93.75, 96.875], \"type\": \"scatter\", \"uid\": \"0e8a4336-cca7-11e8-bc17-f0761c9f65e1\"}, {\"mode\": \"lines\", \"name\": \"COSPAS\", \"x\": [2014, 2015, 2016, 2017], \"y\": [0.0, 0.0, 0.0, 71.875], \"type\": \"scatter\", \"uid\": \"0e8a4337-cca7-11e8-902c-f0761c9f65e1\"}, {\"mode\": \"lines\", \"name\": \"COSPHUL\", \"x\": [2014, 2015, 2016, 2017], \"y\": [75.0, 78.125, 78.125, 78.125], \"type\": \"scatter\", \"uid\": \"0e8a4338-cca7-11e8-ba4d-f0761c9f65e1\"}, {\"mode\": \"lines\", \"name\": \"COSPOL\", \"x\": [2014, 2015, 2016, 2017], \"y\": [0.0, 0.0, 0.0, 93.75], \"type\": \"scatter\", \"uid\": \"0e8a4339-cca7-11e8-bdfb-f0761c9f65e1\"}, {\"mode\": \"lines\", \"name\": \"COSPUGEBUL\", \"x\": [2014, 2015, 2016, 2017], \"y\": [93.75, 96.875, 96.875, 96.875], \"type\": \"scatter\", \"uid\": \"0e8a433a-cca7-11e8-95dc-f0761c9f65e1\"}, {\"mode\": \"lines\", \"name\": \"EMAAB\", \"x\": [2014, 2015, 2016, 2017], \"y\": [78.125, 78.125, 84.375, 84.375], \"type\": \"scatter\", \"uid\": \"0e8a433b-cca7-11e8-9d04-f0761c9f65e1\"}, {\"mode\": \"lines\", \"name\": \"EMAPA\", \"x\": [2014, 2015, 2016, 2017], \"y\": [25.0, 46.875, 68.75, 53.125], \"type\": \"scatter\", \"uid\": \"0e8a433c-cca7-11e8-b869-f0761c9f65e1\"}, {\"mode\": \"lines\", \"name\": \"EMPSAAT\", \"x\": [2014, 2015, 2016, 2017], \"y\": [31.25, 62.5, 78.125, 75.0], \"type\": \"scatter\", \"uid\": \"0e8a433d-cca7-11e8-b024-f0761c9f65e1\"}, {\"mode\": \"lines\", \"name\": \"EMSABAV\", \"x\": [2014, 2015, 2016, 2017], \"y\": [81.25, 81.25, 87.5, 96.875], \"type\": \"scatter\", \"uid\": \"0e8a433e-cca7-11e8-855f-f0761c9f65e1\"}, {\"mode\": \"lines\", \"name\": \"FLORIDA\", \"x\": [2014, 2015, 2016, 2017], \"y\": [12.5, 56.25, 75.0, 90.625], \"type\": \"scatter\", \"uid\": \"0e8a433f-cca7-11e8-83fa-f0761c9f65e1\"}, {\"mode\": \"lines\", \"name\": \"LA GUARDIA\", \"x\": [2014, 2015, 2016, 2017], \"y\": [93.75, 93.75, 96.875, 93.75], \"type\": \"scatter\", \"uid\": \"0e8a4340-cca7-11e8-944f-f0761c9f65e1\"}, {\"mode\": \"lines\", \"name\": \"LA PORTE\\u00d1A\", \"x\": [2014, 2015, 2016, 2017], \"y\": [9.375, 68.75, 68.75, 71.875], \"type\": \"scatter\", \"uid\": \"0e8a4341-cca7-11e8-baca-f0761c9f65e1\"}, {\"mode\": \"lines\", \"name\": \"SAMAPAR\", \"x\": [2014, 2015, 2016, 2017], \"y\": [12.5, 65.625, 75.0, 71.875], \"type\": \"scatter\", \"uid\": \"0e8a4342-cca7-11e8-9114-f0761c9f65e1\"}, {\"mode\": \"lines\", \"name\": \"SEAPAS\", \"x\": [2014, 2015, 2016, 2017], \"y\": [87.5, 90.625, 90.625, 96.875], \"type\": \"scatter\", \"uid\": \"0e8a4343-cca7-11e8-8570-f0761c9f65e1\"}, {\"mode\": \"lines\", \"name\": \"SEMAPAR\", \"x\": [2014, 2015, 2016, 2017], \"y\": [0.0, 0.0, 0.0, 65.625], \"type\": \"scatter\", \"uid\": \"0e8a4344-cca7-11e8-b193-f0761c9f65e1\"}, {\"mode\": \"lines\", \"name\": \"SMAPA\", \"x\": [2014, 2015, 2016, 2017], \"y\": [0.0, 0.0, 46.875, 37.5], \"type\": \"scatter\", \"uid\": \"0e8a4345-cca7-11e8-bf91-f0761c9f65e1\"}],\n",
       "            {\"hovermode\": \"closest\", \"title\": \"Ranking EPSAS - Porcentaje de variables reportadas<br>Categor\\u00eda C\", \"updatemenus\": [{\"buttons\": [{\"args\": [null], \"label\": \"Animar\", \"method\": \"animate\"}], \"type\": \"buttons\", \"x\": 0, \"y\": 0}], \"xaxis\": {\"autorange\": false, \"dtick\": 1, \"range\": [2013.8, 2017.2], \"title\": \"A\\u00f1os\"}, \"yaxis\": {\"title\": \"Porcentaje de variables reportadas (%)\"}},\n",
       "            {\"showLink\": true, \"linkText\": \"Export to plot.ly\"}\n",
       "        ).then(function () {return Plotly.addFrames('f10d321a-9130-4041-8495-9fea5b063ac3',[{\"data\": [{\"marker\": {\"color\": [\"#ff7f0e\", \"#2ca02c\", \"#d62728\", \"#9467bd\", \"#8c564b\", \"#e377c2\", \"#7f7f7f\", \"#bcbd22\", \"#17becf\", \"#1f77b4\", \"#ff7f0e\", \"#2ca02c\", \"#d62728\", \"#9467bd\", \"#8c564b\", \"#e377c2\", \"#7f7f7f\", \"#bcbd22\", \"#17becf\", \"#1f77b4\", \"#ff7f0e\", \"#2ca02c\", \"#d62728\", \"#9467bd\", \"#8c564b\", \"#e377c2\", \"#7f7f7f\", \"#bcbd22\", \"#17becf\"], \"size\": 20, \"symbol\": \"circle\"}, \"mode\": \"markers\", \"text\": [\"6 DE OCTUBRE\", \"CAPU\", \"COAPASB\", \"COMAYO\", \"COOPAGUAB\", \"COOPLIM\", \"COOSIV\", \"COOSPELCAR\", \"COSAJU\", \"COSAP\", \"COSAPAC\", \"COSAPSI\", \"COSCHAL\", \"COSEPA\", \"COSEPCO\", \"COSEPUR\", \"COSFAL\", \"COSIMBO\", \"COSMIN\", \"COSMON\", \"COSPAS\", \"COSPHUL\", \"COSPOL\", \"COSPUGEBUL\", \"EMAAB\", \"EMAPA\", \"EMPSAAT\", \"EMSABAV\", \"FLORIDA\", \"LA GUARDIA\", \"LA PORTE\\u00d1A\", \"SAMAPAR\", \"SEAPAS\", \"SEMAPAR\", \"SMAPA\"], \"textposition\": \"top center\", \"x\": [2014, 2014, 2014, 2014, 2014, 2014, 2014, 2014, 2014, 2014, 2014, 2014, 2014, 2014, 2014, 2014, 2014, 2014, 2014, 2014, 2014, 2014, 2014, 2014, 2014, 2014, 2014, 2014, 2014, 2014, 2014, 2014, 2014, 2014, 2014], \"y\": [0.0, 59.375, 0.0, 0.0, 65.625, 78.125, 96.875, 78.125, 12.5, 53.125, 43.75, 56.25, 84.375, 0.0, 0.0, 0.0, 0.0, 0.0, 78.125, 90.625, 0.0, 75.0, 0.0, 93.75, 78.125, 25.0, 31.25, 81.25, 12.5, 93.75, 9.375, 12.5, 87.5, 0.0, 0.0], \"type\": \"scatter\"}]}, {\"data\": [{\"marker\": {\"color\": [\"#ff7f0e\", \"#2ca02c\", \"#d62728\", \"#9467bd\", \"#8c564b\", \"#e377c2\", \"#7f7f7f\", \"#bcbd22\", \"#17becf\", \"#1f77b4\", \"#ff7f0e\", \"#2ca02c\", \"#d62728\", \"#9467bd\", \"#8c564b\", \"#e377c2\", \"#7f7f7f\", \"#bcbd22\", \"#17becf\", \"#1f77b4\", \"#ff7f0e\", \"#2ca02c\", \"#d62728\", \"#9467bd\", \"#8c564b\", \"#e377c2\", \"#7f7f7f\", \"#bcbd22\", \"#17becf\"], \"size\": 20, \"symbol\": \"circle\"}, \"mode\": \"markers\", \"text\": [\"6 DE OCTUBRE\", \"CAPU\", \"COAPASB\", \"COMAYO\", \"COOPAGUAB\", \"COOPLIM\", \"COOSIV\", \"COOSPELCAR\", \"COSAJU\", \"COSAP\", \"COSAPAC\", \"COSAPSI\", \"COSCHAL\", \"COSEPA\", \"COSEPCO\", \"COSEPUR\", \"COSFAL\", \"COSIMBO\", \"COSMIN\", \"COSMON\", \"COSPAS\", \"COSPHUL\", \"COSPOL\", \"COSPUGEBUL\", \"EMAAB\", \"EMAPA\", \"EMPSAAT\", \"EMSABAV\", \"FLORIDA\", \"LA GUARDIA\", \"LA PORTE\\u00d1A\", \"SAMAPAR\", \"SEAPAS\", \"SEMAPAR\", \"SMAPA\"], \"textposition\": \"top center\", \"x\": [2015, 2015, 2015, 2015, 2015, 2015, 2015, 2015, 2015, 2015, 2015, 2015, 2015, 2015, 2015, 2015, 2015, 2015, 2015, 2015, 2015, 2015, 2015, 2015, 2015, 2015, 2015, 2015, 2015, 2015, 2015, 2015, 2015, 2015, 2015], \"y\": [0.0, 65.625, 0.0, 9.375, 65.625, 78.125, 93.75, 78.125, 78.125, 59.375, 31.25, 46.875, 87.5, 12.5, 0.0, 0.0, 0.0, 78.125, 75.0, 81.25, 0.0, 78.125, 0.0, 96.875, 78.125, 46.875, 62.5, 81.25, 56.25, 93.75, 68.75, 65.625, 90.625, 0.0, 0.0], \"type\": \"scatter\"}]}, {\"data\": [{\"marker\": {\"color\": [\"#ff7f0e\", \"#2ca02c\", \"#d62728\", \"#9467bd\", \"#8c564b\", \"#e377c2\", \"#7f7f7f\", \"#bcbd22\", \"#17becf\", \"#1f77b4\", \"#ff7f0e\", \"#2ca02c\", \"#d62728\", \"#9467bd\", \"#8c564b\", \"#e377c2\", \"#7f7f7f\", \"#bcbd22\", \"#17becf\", \"#1f77b4\", \"#ff7f0e\", \"#2ca02c\", \"#d62728\", \"#9467bd\", \"#8c564b\", \"#e377c2\", \"#7f7f7f\", \"#bcbd22\", \"#17becf\"], \"size\": 20, \"symbol\": \"circle\"}, \"mode\": \"markers\", \"text\": [\"6 DE OCTUBRE\", \"CAPU\", \"COAPASB\", \"COMAYO\", \"COOPAGUAB\", \"COOPLIM\", \"COOSIV\", \"COOSPELCAR\", \"COSAJU\", \"COSAP\", \"COSAPAC\", \"COSAPSI\", \"COSCHAL\", \"COSEPA\", \"COSEPCO\", \"COSEPUR\", \"COSFAL\", \"COSIMBO\", \"COSMIN\", \"COSMON\", \"COSPAS\", \"COSPHUL\", \"COSPOL\", \"COSPUGEBUL\", \"EMAAB\", \"EMAPA\", \"EMPSAAT\", \"EMSABAV\", \"FLORIDA\", \"LA GUARDIA\", \"LA PORTE\\u00d1A\", \"SAMAPAR\", \"SEAPAS\", \"SEMAPAR\", \"SMAPA\"], \"textposition\": \"top center\", \"x\": [2016, 2016, 2016, 2016, 2016, 2016, 2016, 2016, 2016, 2016, 2016, 2016, 2016, 2016, 2016, 2016, 2016, 2016, 2016, 2016, 2016, 2016, 2016, 2016, 2016, 2016, 2016, 2016, 2016, 2016, 2016, 2016, 2016, 2016, 2016], \"y\": [0.0, 75.0, 0.0, 75.0, 68.75, 78.125, 100.0, 78.125, 68.75, 78.125, 56.25, 75.0, 84.375, 37.5, 53.125, 71.875, 0.0, 75.0, 75.0, 93.75, 0.0, 78.125, 0.0, 96.875, 84.375, 68.75, 78.125, 87.5, 75.0, 96.875, 68.75, 75.0, 90.625, 0.0, 46.875], \"type\": \"scatter\"}]}, {\"data\": [{\"marker\": {\"color\": [\"#ff7f0e\", \"#2ca02c\", \"#d62728\", \"#9467bd\", \"#8c564b\", \"#e377c2\", \"#7f7f7f\", \"#bcbd22\", \"#17becf\", \"#1f77b4\", \"#ff7f0e\", \"#2ca02c\", \"#d62728\", \"#9467bd\", \"#8c564b\", \"#e377c2\", \"#7f7f7f\", \"#bcbd22\", \"#17becf\", \"#1f77b4\", \"#ff7f0e\", \"#2ca02c\", \"#d62728\", \"#9467bd\", \"#8c564b\", \"#e377c2\", \"#7f7f7f\", \"#bcbd22\", \"#17becf\"], \"size\": 20, \"symbol\": \"circle\"}, \"mode\": \"markers\", \"text\": [\"6 DE OCTUBRE\", \"CAPU\", \"COAPASB\", \"COMAYO\", \"COOPAGUAB\", \"COOPLIM\", \"COOSIV\", \"COOSPELCAR\", \"COSAJU\", \"COSAP\", \"COSAPAC\", \"COSAPSI\", \"COSCHAL\", \"COSEPA\", \"COSEPCO\", \"COSEPUR\", \"COSFAL\", \"COSIMBO\", \"COSMIN\", \"COSMON\", \"COSPAS\", \"COSPHUL\", \"COSPOL\", \"COSPUGEBUL\", \"EMAAB\", \"EMAPA\", \"EMPSAAT\", \"EMSABAV\", \"FLORIDA\", \"LA GUARDIA\", \"LA PORTE\\u00d1A\", \"SAMAPAR\", \"SEAPAS\", \"SEMAPAR\", \"SMAPA\"], \"textposition\": \"top center\", \"x\": [2017, 2017, 2017, 2017, 2017, 2017, 2017, 2017, 2017, 2017, 2017, 2017, 2017, 2017, 2017, 2017, 2017, 2017, 2017, 2017, 2017, 2017, 2017, 2017, 2017, 2017, 2017, 2017, 2017, 2017, 2017, 2017, 2017, 2017, 2017], \"y\": [59.375, 65.625, 0.0, 93.75, 68.75, 78.125, 100.0, 78.125, 78.125, 75.0, 62.5, 78.125, 87.5, 0.0, 71.875, 90.625, 75.0, 75.0, 87.5, 96.875, 71.875, 78.125, 93.75, 96.875, 84.375, 53.125, 75.0, 96.875, 90.625, 93.75, 71.875, 71.875, 96.875, 65.625, 37.5], \"type\": \"scatter\"}]}]);}).then(function(){Plotly.animate('f10d321a-9130-4041-8495-9fea5b063ac3');})\n",
       "        });</script>"
      ]
     },
     "metadata": {},
     "output_type": "display_data"
    }
   ],
   "source": [
    "iplot(fig4c)"
   ]
  },
  {
   "cell_type": "code",
   "execution_count": 71,
   "metadata": {
    "slideshow": {
     "slide_type": "subslide"
    }
   },
   "outputs": [
    {
     "data": {
      "application/vnd.plotly.v1+json": {
       "data": [
        {
         "mode": "markers+text",
         "showlegend": false,
         "text": [
          "ASOAPAL",
          "CAPCHI",
          "CAPSCH",
          "COAPAS VINTO",
          "COLOMI",
          "COOAPASH",
          "COSAJO",
          "COSEPFA",
          "COSEPP",
          "COSERCA",
          "COSSAJA",
          "JASAP",
          "JOROCHITO"
         ],
         "type": "scatter",
         "uid": "190344fe-cca7-11e8-bc48-f0761c9f65e1",
         "x": [
          2014,
          2014,
          2014,
          2014,
          2014,
          2014,
          2014,
          2014,
          2014,
          2014,
          2014,
          2014,
          2014
         ],
         "y": [
          null,
          27,
          null,
          null,
          null,
          null,
          null
         ]
        },
        {
         "mode": "lines",
         "name": "ASOAPAL",
         "type": "scatter",
         "uid": "19036c10-cca7-11e8-b844-f0761c9f65e1",
         "x": [
          2014,
          2015,
          2016,
          2017
         ],
         "y": [
          0,
          0,
          28.125,
          56.25
         ]
        },
        {
         "mode": "lines",
         "name": "CAPCHI",
         "type": "scatter",
         "uid": "19036c11-cca7-11e8-b857-f0761c9f65e1",
         "x": [
          2014,
          2015,
          2016,
          2017
         ],
         "y": [
          0,
          0,
          43.75,
          65.625
         ]
        },
        {
         "mode": "lines",
         "name": "CAPSCH",
         "type": "scatter",
         "uid": "19036c12-cca7-11e8-9141-f0761c9f65e1",
         "x": [
          2014,
          2015,
          2016,
          2017
         ],
         "y": [
          31.25,
          40.625,
          40.625,
          90.625
         ]
        },
        {
         "mode": "lines",
         "name": "COAPAS VINTO",
         "type": "scatter",
         "uid": "19036c13-cca7-11e8-aaa6-f0761c9f65e1",
         "x": [
          2014,
          2015,
          2016,
          2017
         ],
         "y": [
          68.75,
          68.75,
          68.75,
          65.625
         ]
        },
        {
         "mode": "lines",
         "name": "COLOMI",
         "type": "scatter",
         "uid": "19036c14-cca7-11e8-bbdb-f0761c9f65e1",
         "x": [
          2014,
          2015,
          2016,
          2017
         ],
         "y": [
          0,
          0,
          18.75,
          50
         ]
        },
        {
         "mode": "lines",
         "name": "COOAPASH",
         "type": "scatter",
         "uid": "19036c15-cca7-11e8-b943-f0761c9f65e1",
         "x": [
          2014,
          2015,
          2016,
          2017
         ],
         "y": [
          0,
          21.875,
          18.75,
          71.875
         ]
        },
        {
         "mode": "lines",
         "name": "COSAJO",
         "type": "scatter",
         "uid": "19036c16-cca7-11e8-ac00-f0761c9f65e1",
         "x": [
          2014,
          2015,
          2016,
          2017
         ],
         "y": [
          0,
          0,
          75,
          0
         ]
        },
        {
         "mode": "lines",
         "name": "COSEPFA",
         "type": "scatter",
         "uid": "19036c17-cca7-11e8-91c4-f0761c9f65e1",
         "x": [
          2014,
          2015,
          2016,
          2017
         ],
         "y": [
          0,
          75,
          78.125,
          75
         ]
        },
        {
         "mode": "lines",
         "name": "COSEPP",
         "type": "scatter",
         "uid": "19036c18-cca7-11e8-8813-f0761c9f65e1",
         "x": [
          2014,
          2015,
          2016,
          2017
         ],
         "y": [
          18.75,
          68.75,
          68.75,
          65.625
         ]
        },
        {
         "mode": "lines",
         "name": "COSERCA",
         "type": "scatter",
         "uid": "19036c19-cca7-11e8-99cc-f0761c9f65e1",
         "x": [
          2014,
          2015,
          2016,
          2017
         ],
         "y": [
          25,
          31.25,
          59.375,
          68.75
         ]
        },
        {
         "mode": "lines",
         "name": "COSSAJA",
         "type": "scatter",
         "uid": "19036c1a-cca7-11e8-ba77-f0761c9f65e1",
         "x": [
          2014,
          2015,
          2016,
          2017
         ],
         "y": [
          12.5,
          65.625,
          62.5,
          62.5
         ]
        },
        {
         "mode": "lines",
         "name": "JASAP",
         "type": "scatter",
         "uid": "19036c1b-cca7-11e8-b8b5-f0761c9f65e1",
         "x": [
          2014,
          2015,
          2016,
          2017
         ],
         "y": [
          0,
          0,
          21.875,
          28.125
         ]
        },
        {
         "mode": "lines",
         "name": "JOROCHITO",
         "type": "scatter",
         "uid": "19036c1c-cca7-11e8-a443-f0761c9f65e1",
         "x": [
          2014,
          2015,
          2016,
          2017
         ],
         "y": [
          0,
          0,
          65.625,
          75
         ]
        }
       ],
       "frames": [
        {
         "data": [
          {
           "marker": {
            "color": [
             "#ff7f0e",
             "#2ca02c",
             "#d62728",
             "#9467bd",
             "#8c564b",
             "#e377c2",
             "#7f7f7f",
             "#bcbd22",
             "#17becf",
             "#1f77b4",
             "#ff7f0e",
             "#2ca02c",
             "#d62728",
             "#9467bd",
             "#8c564b",
             "#e377c2",
             "#7f7f7f",
             "#bcbd22",
             "#17becf",
             "#1f77b4",
             "#ff7f0e",
             "#2ca02c",
             "#d62728",
             "#9467bd",
             "#8c564b",
             "#e377c2",
             "#7f7f7f",
             "#bcbd22",
             "#17becf"
            ],
            "size": 20,
            "symbol": "circle"
           },
           "mode": "markers",
           "text": [
            "ASOAPAL",
            "CAPCHI",
            "CAPSCH",
            "COAPAS VINTO",
            "COLOMI",
            "COOAPASH",
            "COSAJO",
            "COSEPFA",
            "COSEPP",
            "COSERCA",
            "COSSAJA",
            "JASAP",
            "JOROCHITO"
           ],
           "textposition": "top center",
           "type": "scatter",
           "x": [
            2014,
            2014,
            2014,
            2014,
            2014,
            2014,
            2014,
            2014,
            2014,
            2014,
            2014,
            2014,
            2014
           ],
           "y": [
            0,
            0,
            31.25,
            68.75,
            0,
            0,
            0,
            0,
            18.75,
            25,
            12.5,
            0,
            0
           ]
          }
         ]
        },
        {
         "data": [
          {
           "marker": {
            "color": [
             "#ff7f0e",
             "#2ca02c",
             "#d62728",
             "#9467bd",
             "#8c564b",
             "#e377c2",
             "#7f7f7f",
             "#bcbd22",
             "#17becf",
             "#1f77b4",
             "#ff7f0e",
             "#2ca02c",
             "#d62728",
             "#9467bd",
             "#8c564b",
             "#e377c2",
             "#7f7f7f",
             "#bcbd22",
             "#17becf",
             "#1f77b4",
             "#ff7f0e",
             "#2ca02c",
             "#d62728",
             "#9467bd",
             "#8c564b",
             "#e377c2",
             "#7f7f7f",
             "#bcbd22",
             "#17becf"
            ],
            "size": 20,
            "symbol": "circle"
           },
           "mode": "markers",
           "text": [
            "ASOAPAL",
            "CAPCHI",
            "CAPSCH",
            "COAPAS VINTO",
            "COLOMI",
            "COOAPASH",
            "COSAJO",
            "COSEPFA",
            "COSEPP",
            "COSERCA",
            "COSSAJA",
            "JASAP",
            "JOROCHITO"
           ],
           "textposition": "top center",
           "type": "scatter",
           "x": [
            2015,
            2015,
            2015,
            2015,
            2015,
            2015,
            2015,
            2015,
            2015,
            2015,
            2015,
            2015,
            2015
           ],
           "y": [
            0,
            0,
            40.625,
            68.75,
            0,
            21.875,
            0,
            75,
            68.75,
            31.25,
            65.625,
            0,
            0
           ]
          }
         ]
        },
        {
         "data": [
          {
           "marker": {
            "color": [
             "#ff7f0e",
             "#2ca02c",
             "#d62728",
             "#9467bd",
             "#8c564b",
             "#e377c2",
             "#7f7f7f",
             "#bcbd22",
             "#17becf",
             "#1f77b4",
             "#ff7f0e",
             "#2ca02c",
             "#d62728",
             "#9467bd",
             "#8c564b",
             "#e377c2",
             "#7f7f7f",
             "#bcbd22",
             "#17becf",
             "#1f77b4",
             "#ff7f0e",
             "#2ca02c",
             "#d62728",
             "#9467bd",
             "#8c564b",
             "#e377c2",
             "#7f7f7f",
             "#bcbd22",
             "#17becf"
            ],
            "size": 20,
            "symbol": "circle"
           },
           "mode": "markers",
           "text": [
            "ASOAPAL",
            "CAPCHI",
            "CAPSCH",
            "COAPAS VINTO",
            "COLOMI",
            "COOAPASH",
            "COSAJO",
            "COSEPFA",
            "COSEPP",
            "COSERCA",
            "COSSAJA",
            "JASAP",
            "JOROCHITO"
           ],
           "textposition": "top center",
           "type": "scatter",
           "x": [
            2016,
            2016,
            2016,
            2016,
            2016,
            2016,
            2016,
            2016,
            2016,
            2016,
            2016,
            2016,
            2016
           ],
           "y": [
            28.125,
            43.75,
            40.625,
            68.75,
            18.75,
            18.75,
            75,
            78.125,
            68.75,
            59.375,
            62.5,
            21.875,
            65.625
           ]
          }
         ]
        },
        {
         "data": [
          {
           "marker": {
            "color": [
             "#ff7f0e",
             "#2ca02c",
             "#d62728",
             "#9467bd",
             "#8c564b",
             "#e377c2",
             "#7f7f7f",
             "#bcbd22",
             "#17becf",
             "#1f77b4",
             "#ff7f0e",
             "#2ca02c",
             "#d62728",
             "#9467bd",
             "#8c564b",
             "#e377c2",
             "#7f7f7f",
             "#bcbd22",
             "#17becf",
             "#1f77b4",
             "#ff7f0e",
             "#2ca02c",
             "#d62728",
             "#9467bd",
             "#8c564b",
             "#e377c2",
             "#7f7f7f",
             "#bcbd22",
             "#17becf"
            ],
            "size": 20,
            "symbol": "circle"
           },
           "mode": "markers",
           "text": [
            "ASOAPAL",
            "CAPCHI",
            "CAPSCH",
            "COAPAS VINTO",
            "COLOMI",
            "COOAPASH",
            "COSAJO",
            "COSEPFA",
            "COSEPP",
            "COSERCA",
            "COSSAJA",
            "JASAP",
            "JOROCHITO"
           ],
           "textposition": "top center",
           "type": "scatter",
           "x": [
            2017,
            2017,
            2017,
            2017,
            2017,
            2017,
            2017,
            2017,
            2017,
            2017,
            2017,
            2017,
            2017
           ],
           "y": [
            56.25,
            65.625,
            90.625,
            65.625,
            50,
            71.875,
            0,
            75,
            65.625,
            68.75,
            62.5,
            28.125,
            75
           ]
          }
         ]
        }
       ],
       "layout": {
        "hovermode": "closest",
        "title": "Ranking EPSAS - Porcentaje de variables reportadas<br>Categoría D",
        "updatemenus": [
         {
          "buttons": [
           {
            "args": [
             null
            ],
            "label": "Animar",
            "method": "animate"
           }
          ],
          "type": "buttons",
          "x": 0,
          "y": 0
         }
        ],
        "xaxis": {
         "autorange": false,
         "dtick": 1,
         "range": [
          2013.8,
          2017.2
         ],
         "title": "Años"
        },
        "yaxis": {
         "title": "Porcentaje de variables reportadas (%)"
        }
       }
      },
      "text/html": [
       "<div id=\"48f8ace8-b927-4ee5-9300-e56c689d0d4c\" style=\"height: 525px; width: 100%;\" class=\"plotly-graph-div\"></div><script type=\"text/javascript\">require([\"plotly\"], function(Plotly) { window.PLOTLYENV=window.PLOTLYENV || {};window.PLOTLYENV.BASE_URL=\"https://plot.ly\";\n",
       "        Plotly.plot(\n",
       "            '48f8ace8-b927-4ee5-9300-e56c689d0d4c',\n",
       "            [{\"mode\": \"markers+text\", \"showlegend\": false, \"text\": [\"ASOAPAL\", \"CAPCHI\", \"CAPSCH\", \"COAPAS VINTO\", \"COLOMI\", \"COOAPASH\", \"COSAJO\", \"COSEPFA\", \"COSEPP\", \"COSERCA\", \"COSSAJA\", \"JASAP\", \"JOROCHITO\"], \"x\": [2014, 2014, 2014, 2014, 2014, 2014, 2014, 2014, 2014, 2014, 2014, 2014, 2014], \"y\": [null, 27.0, null, null, null, null, null], \"type\": \"scatter\", \"uid\": \"190344fe-cca7-11e8-bc48-f0761c9f65e1\"}, {\"mode\": \"lines\", \"name\": \"ASOAPAL\", \"x\": [2014, 2015, 2016, 2017], \"y\": [0.0, 0.0, 28.125, 56.25], \"type\": \"scatter\", \"uid\": \"19036c10-cca7-11e8-b844-f0761c9f65e1\"}, {\"mode\": \"lines\", \"name\": \"CAPCHI\", \"x\": [2014, 2015, 2016, 2017], \"y\": [0.0, 0.0, 43.75, 65.625], \"type\": \"scatter\", \"uid\": \"19036c11-cca7-11e8-b857-f0761c9f65e1\"}, {\"mode\": \"lines\", \"name\": \"CAPSCH\", \"x\": [2014, 2015, 2016, 2017], \"y\": [31.25, 40.625, 40.625, 90.625], \"type\": \"scatter\", \"uid\": \"19036c12-cca7-11e8-9141-f0761c9f65e1\"}, {\"mode\": \"lines\", \"name\": \"COAPAS VINTO\", \"x\": [2014, 2015, 2016, 2017], \"y\": [68.75, 68.75, 68.75, 65.625], \"type\": \"scatter\", \"uid\": \"19036c13-cca7-11e8-aaa6-f0761c9f65e1\"}, {\"mode\": \"lines\", \"name\": \"COLOMI\", \"x\": [2014, 2015, 2016, 2017], \"y\": [0.0, 0.0, 18.75, 50.0], \"type\": \"scatter\", \"uid\": \"19036c14-cca7-11e8-bbdb-f0761c9f65e1\"}, {\"mode\": \"lines\", \"name\": \"COOAPASH\", \"x\": [2014, 2015, 2016, 2017], \"y\": [0.0, 21.875, 18.75, 71.875], \"type\": \"scatter\", \"uid\": \"19036c15-cca7-11e8-b943-f0761c9f65e1\"}, {\"mode\": \"lines\", \"name\": \"COSAJO\", \"x\": [2014, 2015, 2016, 2017], \"y\": [0.0, 0.0, 75.0, 0.0], \"type\": \"scatter\", \"uid\": \"19036c16-cca7-11e8-ac00-f0761c9f65e1\"}, {\"mode\": \"lines\", \"name\": \"COSEPFA\", \"x\": [2014, 2015, 2016, 2017], \"y\": [0.0, 75.0, 78.125, 75.0], \"type\": \"scatter\", \"uid\": \"19036c17-cca7-11e8-91c4-f0761c9f65e1\"}, {\"mode\": \"lines\", \"name\": \"COSEPP\", \"x\": [2014, 2015, 2016, 2017], \"y\": [18.75, 68.75, 68.75, 65.625], \"type\": \"scatter\", \"uid\": \"19036c18-cca7-11e8-8813-f0761c9f65e1\"}, {\"mode\": \"lines\", \"name\": \"COSERCA\", \"x\": [2014, 2015, 2016, 2017], \"y\": [25.0, 31.25, 59.375, 68.75], \"type\": \"scatter\", \"uid\": \"19036c19-cca7-11e8-99cc-f0761c9f65e1\"}, {\"mode\": \"lines\", \"name\": \"COSSAJA\", \"x\": [2014, 2015, 2016, 2017], \"y\": [12.5, 65.625, 62.5, 62.5], \"type\": \"scatter\", \"uid\": \"19036c1a-cca7-11e8-ba77-f0761c9f65e1\"}, {\"mode\": \"lines\", \"name\": \"JASAP\", \"x\": [2014, 2015, 2016, 2017], \"y\": [0.0, 0.0, 21.875, 28.125], \"type\": \"scatter\", \"uid\": \"19036c1b-cca7-11e8-b8b5-f0761c9f65e1\"}, {\"mode\": \"lines\", \"name\": \"JOROCHITO\", \"x\": [2014, 2015, 2016, 2017], \"y\": [0.0, 0.0, 65.625, 75.0], \"type\": \"scatter\", \"uid\": \"19036c1c-cca7-11e8-a443-f0761c9f65e1\"}],\n",
       "            {\"hovermode\": \"closest\", \"title\": \"Ranking EPSAS - Porcentaje de variables reportadas<br>Categor\\u00eda D\", \"updatemenus\": [{\"buttons\": [{\"args\": [null], \"label\": \"Animar\", \"method\": \"animate\"}], \"type\": \"buttons\", \"x\": 0, \"y\": 0}], \"xaxis\": {\"autorange\": false, \"dtick\": 1, \"range\": [2013.8, 2017.2], \"title\": \"A\\u00f1os\"}, \"yaxis\": {\"title\": \"Porcentaje de variables reportadas (%)\"}},\n",
       "            {\"showLink\": true, \"linkText\": \"Export to plot.ly\"}\n",
       "        ).then(function () {return Plotly.addFrames('48f8ace8-b927-4ee5-9300-e56c689d0d4c',[{\"data\": [{\"marker\": {\"color\": [\"#ff7f0e\", \"#2ca02c\", \"#d62728\", \"#9467bd\", \"#8c564b\", \"#e377c2\", \"#7f7f7f\", \"#bcbd22\", \"#17becf\", \"#1f77b4\", \"#ff7f0e\", \"#2ca02c\", \"#d62728\", \"#9467bd\", \"#8c564b\", \"#e377c2\", \"#7f7f7f\", \"#bcbd22\", \"#17becf\", \"#1f77b4\", \"#ff7f0e\", \"#2ca02c\", \"#d62728\", \"#9467bd\", \"#8c564b\", \"#e377c2\", \"#7f7f7f\", \"#bcbd22\", \"#17becf\"], \"size\": 20, \"symbol\": \"circle\"}, \"mode\": \"markers\", \"text\": [\"ASOAPAL\", \"CAPCHI\", \"CAPSCH\", \"COAPAS VINTO\", \"COLOMI\", \"COOAPASH\", \"COSAJO\", \"COSEPFA\", \"COSEPP\", \"COSERCA\", \"COSSAJA\", \"JASAP\", \"JOROCHITO\"], \"textposition\": \"top center\", \"x\": [2014, 2014, 2014, 2014, 2014, 2014, 2014, 2014, 2014, 2014, 2014, 2014, 2014], \"y\": [0.0, 0.0, 31.25, 68.75, 0.0, 0.0, 0.0, 0.0, 18.75, 25.0, 12.5, 0.0, 0.0], \"type\": \"scatter\"}]}, {\"data\": [{\"marker\": {\"color\": [\"#ff7f0e\", \"#2ca02c\", \"#d62728\", \"#9467bd\", \"#8c564b\", \"#e377c2\", \"#7f7f7f\", \"#bcbd22\", \"#17becf\", \"#1f77b4\", \"#ff7f0e\", \"#2ca02c\", \"#d62728\", \"#9467bd\", \"#8c564b\", \"#e377c2\", \"#7f7f7f\", \"#bcbd22\", \"#17becf\", \"#1f77b4\", \"#ff7f0e\", \"#2ca02c\", \"#d62728\", \"#9467bd\", \"#8c564b\", \"#e377c2\", \"#7f7f7f\", \"#bcbd22\", \"#17becf\"], \"size\": 20, \"symbol\": \"circle\"}, \"mode\": \"markers\", \"text\": [\"ASOAPAL\", \"CAPCHI\", \"CAPSCH\", \"COAPAS VINTO\", \"COLOMI\", \"COOAPASH\", \"COSAJO\", \"COSEPFA\", \"COSEPP\", \"COSERCA\", \"COSSAJA\", \"JASAP\", \"JOROCHITO\"], \"textposition\": \"top center\", \"x\": [2015, 2015, 2015, 2015, 2015, 2015, 2015, 2015, 2015, 2015, 2015, 2015, 2015], \"y\": [0.0, 0.0, 40.625, 68.75, 0.0, 21.875, 0.0, 75.0, 68.75, 31.25, 65.625, 0.0, 0.0], \"type\": \"scatter\"}]}, {\"data\": [{\"marker\": {\"color\": [\"#ff7f0e\", \"#2ca02c\", \"#d62728\", \"#9467bd\", \"#8c564b\", \"#e377c2\", \"#7f7f7f\", \"#bcbd22\", \"#17becf\", \"#1f77b4\", \"#ff7f0e\", \"#2ca02c\", \"#d62728\", \"#9467bd\", \"#8c564b\", \"#e377c2\", \"#7f7f7f\", \"#bcbd22\", \"#17becf\", \"#1f77b4\", \"#ff7f0e\", \"#2ca02c\", \"#d62728\", \"#9467bd\", \"#8c564b\", \"#e377c2\", \"#7f7f7f\", \"#bcbd22\", \"#17becf\"], \"size\": 20, \"symbol\": \"circle\"}, \"mode\": \"markers\", \"text\": [\"ASOAPAL\", \"CAPCHI\", \"CAPSCH\", \"COAPAS VINTO\", \"COLOMI\", \"COOAPASH\", \"COSAJO\", \"COSEPFA\", \"COSEPP\", \"COSERCA\", \"COSSAJA\", \"JASAP\", \"JOROCHITO\"], \"textposition\": \"top center\", \"x\": [2016, 2016, 2016, 2016, 2016, 2016, 2016, 2016, 2016, 2016, 2016, 2016, 2016], \"y\": [28.125, 43.75, 40.625, 68.75, 18.75, 18.75, 75.0, 78.125, 68.75, 59.375, 62.5, 21.875, 65.625], \"type\": \"scatter\"}]}, {\"data\": [{\"marker\": {\"color\": [\"#ff7f0e\", \"#2ca02c\", \"#d62728\", \"#9467bd\", \"#8c564b\", \"#e377c2\", \"#7f7f7f\", \"#bcbd22\", \"#17becf\", \"#1f77b4\", \"#ff7f0e\", \"#2ca02c\", \"#d62728\", \"#9467bd\", \"#8c564b\", \"#e377c2\", \"#7f7f7f\", \"#bcbd22\", \"#17becf\", \"#1f77b4\", \"#ff7f0e\", \"#2ca02c\", \"#d62728\", \"#9467bd\", \"#8c564b\", \"#e377c2\", \"#7f7f7f\", \"#bcbd22\", \"#17becf\"], \"size\": 20, \"symbol\": \"circle\"}, \"mode\": \"markers\", \"text\": [\"ASOAPAL\", \"CAPCHI\", \"CAPSCH\", \"COAPAS VINTO\", \"COLOMI\", \"COOAPASH\", \"COSAJO\", \"COSEPFA\", \"COSEPP\", \"COSERCA\", \"COSSAJA\", \"JASAP\", \"JOROCHITO\"], \"textposition\": \"top center\", \"x\": [2017, 2017, 2017, 2017, 2017, 2017, 2017, 2017, 2017, 2017, 2017, 2017, 2017], \"y\": [56.25, 65.625, 90.625, 65.625, 50.0, 71.875, 0.0, 75.0, 65.625, 68.75, 62.5, 28.125, 75.0], \"type\": \"scatter\"}]}]);}).then(function(){Plotly.animate('48f8ace8-b927-4ee5-9300-e56c689d0d4c');})\n",
       "        });</script>"
      ],
      "text/vnd.plotly.v1+html": [
       "<div id=\"48f8ace8-b927-4ee5-9300-e56c689d0d4c\" style=\"height: 525px; width: 100%;\" class=\"plotly-graph-div\"></div><script type=\"text/javascript\">require([\"plotly\"], function(Plotly) { window.PLOTLYENV=window.PLOTLYENV || {};window.PLOTLYENV.BASE_URL=\"https://plot.ly\";\n",
       "        Plotly.plot(\n",
       "            '48f8ace8-b927-4ee5-9300-e56c689d0d4c',\n",
       "            [{\"mode\": \"markers+text\", \"showlegend\": false, \"text\": [\"ASOAPAL\", \"CAPCHI\", \"CAPSCH\", \"COAPAS VINTO\", \"COLOMI\", \"COOAPASH\", \"COSAJO\", \"COSEPFA\", \"COSEPP\", \"COSERCA\", \"COSSAJA\", \"JASAP\", \"JOROCHITO\"], \"x\": [2014, 2014, 2014, 2014, 2014, 2014, 2014, 2014, 2014, 2014, 2014, 2014, 2014], \"y\": [null, 27.0, null, null, null, null, null], \"type\": \"scatter\", \"uid\": \"190344fe-cca7-11e8-bc48-f0761c9f65e1\"}, {\"mode\": \"lines\", \"name\": \"ASOAPAL\", \"x\": [2014, 2015, 2016, 2017], \"y\": [0.0, 0.0, 28.125, 56.25], \"type\": \"scatter\", \"uid\": \"19036c10-cca7-11e8-b844-f0761c9f65e1\"}, {\"mode\": \"lines\", \"name\": \"CAPCHI\", \"x\": [2014, 2015, 2016, 2017], \"y\": [0.0, 0.0, 43.75, 65.625], \"type\": \"scatter\", \"uid\": \"19036c11-cca7-11e8-b857-f0761c9f65e1\"}, {\"mode\": \"lines\", \"name\": \"CAPSCH\", \"x\": [2014, 2015, 2016, 2017], \"y\": [31.25, 40.625, 40.625, 90.625], \"type\": \"scatter\", \"uid\": \"19036c12-cca7-11e8-9141-f0761c9f65e1\"}, {\"mode\": \"lines\", \"name\": \"COAPAS VINTO\", \"x\": [2014, 2015, 2016, 2017], \"y\": [68.75, 68.75, 68.75, 65.625], \"type\": \"scatter\", \"uid\": \"19036c13-cca7-11e8-aaa6-f0761c9f65e1\"}, {\"mode\": \"lines\", \"name\": \"COLOMI\", \"x\": [2014, 2015, 2016, 2017], \"y\": [0.0, 0.0, 18.75, 50.0], \"type\": \"scatter\", \"uid\": \"19036c14-cca7-11e8-bbdb-f0761c9f65e1\"}, {\"mode\": \"lines\", \"name\": \"COOAPASH\", \"x\": [2014, 2015, 2016, 2017], \"y\": [0.0, 21.875, 18.75, 71.875], \"type\": \"scatter\", \"uid\": \"19036c15-cca7-11e8-b943-f0761c9f65e1\"}, {\"mode\": \"lines\", \"name\": \"COSAJO\", \"x\": [2014, 2015, 2016, 2017], \"y\": [0.0, 0.0, 75.0, 0.0], \"type\": \"scatter\", \"uid\": \"19036c16-cca7-11e8-ac00-f0761c9f65e1\"}, {\"mode\": \"lines\", \"name\": \"COSEPFA\", \"x\": [2014, 2015, 2016, 2017], \"y\": [0.0, 75.0, 78.125, 75.0], \"type\": \"scatter\", \"uid\": \"19036c17-cca7-11e8-91c4-f0761c9f65e1\"}, {\"mode\": \"lines\", \"name\": \"COSEPP\", \"x\": [2014, 2015, 2016, 2017], \"y\": [18.75, 68.75, 68.75, 65.625], \"type\": \"scatter\", \"uid\": \"19036c18-cca7-11e8-8813-f0761c9f65e1\"}, {\"mode\": \"lines\", \"name\": \"COSERCA\", \"x\": [2014, 2015, 2016, 2017], \"y\": [25.0, 31.25, 59.375, 68.75], \"type\": \"scatter\", \"uid\": \"19036c19-cca7-11e8-99cc-f0761c9f65e1\"}, {\"mode\": \"lines\", \"name\": \"COSSAJA\", \"x\": [2014, 2015, 2016, 2017], \"y\": [12.5, 65.625, 62.5, 62.5], \"type\": \"scatter\", \"uid\": \"19036c1a-cca7-11e8-ba77-f0761c9f65e1\"}, {\"mode\": \"lines\", \"name\": \"JASAP\", \"x\": [2014, 2015, 2016, 2017], \"y\": [0.0, 0.0, 21.875, 28.125], \"type\": \"scatter\", \"uid\": \"19036c1b-cca7-11e8-b8b5-f0761c9f65e1\"}, {\"mode\": \"lines\", \"name\": \"JOROCHITO\", \"x\": [2014, 2015, 2016, 2017], \"y\": [0.0, 0.0, 65.625, 75.0], \"type\": \"scatter\", \"uid\": \"19036c1c-cca7-11e8-a443-f0761c9f65e1\"}],\n",
       "            {\"hovermode\": \"closest\", \"title\": \"Ranking EPSAS - Porcentaje de variables reportadas<br>Categor\\u00eda D\", \"updatemenus\": [{\"buttons\": [{\"args\": [null], \"label\": \"Animar\", \"method\": \"animate\"}], \"type\": \"buttons\", \"x\": 0, \"y\": 0}], \"xaxis\": {\"autorange\": false, \"dtick\": 1, \"range\": [2013.8, 2017.2], \"title\": \"A\\u00f1os\"}, \"yaxis\": {\"title\": \"Porcentaje de variables reportadas (%)\"}},\n",
       "            {\"showLink\": true, \"linkText\": \"Export to plot.ly\"}\n",
       "        ).then(function () {return Plotly.addFrames('48f8ace8-b927-4ee5-9300-e56c689d0d4c',[{\"data\": [{\"marker\": {\"color\": [\"#ff7f0e\", \"#2ca02c\", \"#d62728\", \"#9467bd\", \"#8c564b\", \"#e377c2\", \"#7f7f7f\", \"#bcbd22\", \"#17becf\", \"#1f77b4\", \"#ff7f0e\", \"#2ca02c\", \"#d62728\", \"#9467bd\", \"#8c564b\", \"#e377c2\", \"#7f7f7f\", \"#bcbd22\", \"#17becf\", \"#1f77b4\", \"#ff7f0e\", \"#2ca02c\", \"#d62728\", \"#9467bd\", \"#8c564b\", \"#e377c2\", \"#7f7f7f\", \"#bcbd22\", \"#17becf\"], \"size\": 20, \"symbol\": \"circle\"}, \"mode\": \"markers\", \"text\": [\"ASOAPAL\", \"CAPCHI\", \"CAPSCH\", \"COAPAS VINTO\", \"COLOMI\", \"COOAPASH\", \"COSAJO\", \"COSEPFA\", \"COSEPP\", \"COSERCA\", \"COSSAJA\", \"JASAP\", \"JOROCHITO\"], \"textposition\": \"top center\", \"x\": [2014, 2014, 2014, 2014, 2014, 2014, 2014, 2014, 2014, 2014, 2014, 2014, 2014], \"y\": [0.0, 0.0, 31.25, 68.75, 0.0, 0.0, 0.0, 0.0, 18.75, 25.0, 12.5, 0.0, 0.0], \"type\": \"scatter\"}]}, {\"data\": [{\"marker\": {\"color\": [\"#ff7f0e\", \"#2ca02c\", \"#d62728\", \"#9467bd\", \"#8c564b\", \"#e377c2\", \"#7f7f7f\", \"#bcbd22\", \"#17becf\", \"#1f77b4\", \"#ff7f0e\", \"#2ca02c\", \"#d62728\", \"#9467bd\", \"#8c564b\", \"#e377c2\", \"#7f7f7f\", \"#bcbd22\", \"#17becf\", \"#1f77b4\", \"#ff7f0e\", \"#2ca02c\", \"#d62728\", \"#9467bd\", \"#8c564b\", \"#e377c2\", \"#7f7f7f\", \"#bcbd22\", \"#17becf\"], \"size\": 20, \"symbol\": \"circle\"}, \"mode\": \"markers\", \"text\": [\"ASOAPAL\", \"CAPCHI\", \"CAPSCH\", \"COAPAS VINTO\", \"COLOMI\", \"COOAPASH\", \"COSAJO\", \"COSEPFA\", \"COSEPP\", \"COSERCA\", \"COSSAJA\", \"JASAP\", \"JOROCHITO\"], \"textposition\": \"top center\", \"x\": [2015, 2015, 2015, 2015, 2015, 2015, 2015, 2015, 2015, 2015, 2015, 2015, 2015], \"y\": [0.0, 0.0, 40.625, 68.75, 0.0, 21.875, 0.0, 75.0, 68.75, 31.25, 65.625, 0.0, 0.0], \"type\": \"scatter\"}]}, {\"data\": [{\"marker\": {\"color\": [\"#ff7f0e\", \"#2ca02c\", \"#d62728\", \"#9467bd\", \"#8c564b\", \"#e377c2\", \"#7f7f7f\", \"#bcbd22\", \"#17becf\", \"#1f77b4\", \"#ff7f0e\", \"#2ca02c\", \"#d62728\", \"#9467bd\", \"#8c564b\", \"#e377c2\", \"#7f7f7f\", \"#bcbd22\", \"#17becf\", \"#1f77b4\", \"#ff7f0e\", \"#2ca02c\", \"#d62728\", \"#9467bd\", \"#8c564b\", \"#e377c2\", \"#7f7f7f\", \"#bcbd22\", \"#17becf\"], \"size\": 20, \"symbol\": \"circle\"}, \"mode\": \"markers\", \"text\": [\"ASOAPAL\", \"CAPCHI\", \"CAPSCH\", \"COAPAS VINTO\", \"COLOMI\", \"COOAPASH\", \"COSAJO\", \"COSEPFA\", \"COSEPP\", \"COSERCA\", \"COSSAJA\", \"JASAP\", \"JOROCHITO\"], \"textposition\": \"top center\", \"x\": [2016, 2016, 2016, 2016, 2016, 2016, 2016, 2016, 2016, 2016, 2016, 2016, 2016], \"y\": [28.125, 43.75, 40.625, 68.75, 18.75, 18.75, 75.0, 78.125, 68.75, 59.375, 62.5, 21.875, 65.625], \"type\": \"scatter\"}]}, {\"data\": [{\"marker\": {\"color\": [\"#ff7f0e\", \"#2ca02c\", \"#d62728\", \"#9467bd\", \"#8c564b\", \"#e377c2\", \"#7f7f7f\", \"#bcbd22\", \"#17becf\", \"#1f77b4\", \"#ff7f0e\", \"#2ca02c\", \"#d62728\", \"#9467bd\", \"#8c564b\", \"#e377c2\", \"#7f7f7f\", \"#bcbd22\", \"#17becf\", \"#1f77b4\", \"#ff7f0e\", \"#2ca02c\", \"#d62728\", \"#9467bd\", \"#8c564b\", \"#e377c2\", \"#7f7f7f\", \"#bcbd22\", \"#17becf\"], \"size\": 20, \"symbol\": \"circle\"}, \"mode\": \"markers\", \"text\": [\"ASOAPAL\", \"CAPCHI\", \"CAPSCH\", \"COAPAS VINTO\", \"COLOMI\", \"COOAPASH\", \"COSAJO\", \"COSEPFA\", \"COSEPP\", \"COSERCA\", \"COSSAJA\", \"JASAP\", \"JOROCHITO\"], \"textposition\": \"top center\", \"x\": [2017, 2017, 2017, 2017, 2017, 2017, 2017, 2017, 2017, 2017, 2017, 2017, 2017], \"y\": [56.25, 65.625, 90.625, 65.625, 50.0, 71.875, 0.0, 75.0, 65.625, 68.75, 62.5, 28.125, 75.0], \"type\": \"scatter\"}]}]);}).then(function(){Plotly.animate('48f8ace8-b927-4ee5-9300-e56c689d0d4c');})\n",
       "        });</script>"
      ]
     },
     "metadata": {},
     "output_type": "display_data"
    }
   ],
   "source": [
    "iplot(fig4d)"
   ]
  },
  {
   "cell_type": "code",
   "execution_count": 59,
   "metadata": {
    "slideshow": {
     "slide_type": "skip"
    }
   },
   "outputs": [
    {
     "data": {
      "text/plain": [
       "nan"
      ]
     },
     "execution_count": 59,
     "metadata": {},
     "output_type": "execute_result"
    }
   ],
   "source": [
    "# filtered_df = cmdf[(cmdf.year == years[0]) & (cmdf.code == epsa_codes[0])][ind_list]\n",
    "\n",
    "# len(list(filtered_df))\n",
    "\n",
    "# list(cmdf[(cmdf.year == years[0]) & (cmdf.code == epsa_codes[0])][['ind1']].iloc(0))\n",
    "\n",
    "math.nan"
   ]
  }
 ],
 "metadata": {
  "celltoolbar": "Slideshow",
  "kernelspec": {
   "display_name": "Python 3",
   "language": "python",
   "name": "python3"
  },
  "language_info": {
   "codemirror_mode": {
    "name": "ipython",
    "version": 3
   },
   "file_extension": ".py",
   "mimetype": "text/x-python",
   "name": "python",
   "nbconvert_exporter": "python",
   "pygments_lexer": "ipython3",
   "version": "3.6.5"
  }
 },
 "nbformat": 4,
 "nbformat_minor": 2
}
