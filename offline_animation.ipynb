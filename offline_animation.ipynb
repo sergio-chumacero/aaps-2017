{
 "cells": [
  {
   "cell_type": "markdown",
   "metadata": {},
   "source": [
    "# EPSA Animated Plot\n",
    "\n",
    "Let's work on creating our animated scatter plot.\n",
    "\n",
    "The idea is to add a slider for the years to the scatter plot as well as 'stop/start' buttons together with smooth transitions of the dots resulting in a powerful animation showing the development of the EPSA over the years with respect to two indicators/variables. In the process we may add a third dimension in the form of the size of the dots corresponding to a different meassurement. Let's also don't forget the color of the dots will correspond to the category of the EPSA.\n",
    "\n",
    "#### Plotly Offline\n",
    "\n",
    "The use of plotly's servers is limited both by the hour and the day, based on number of requests, so it is better to work offline to generate the code and once you are satisfied with the results, commit them to the cloud. To do this is necessary to import a couple packages from **plotly.offline**."
   ]
  },
  {
   "cell_type": "code",
   "execution_count": 2,
   "metadata": {},
   "outputs": [
    {
     "name": "stdout",
     "output_type": "stream",
     "text": [
      "3.1.1\n"
     ]
    },
    {
     "data": {
      "text/html": [
       "<script>requirejs.config({paths: { 'plotly': ['https://cdn.plot.ly/plotly-latest.min']},});if(!window.Plotly) {{require(['plotly'],function(plotly) {window.Plotly=plotly;});}}</script>"
      ],
      "text/vnd.plotly.v1+html": [
       "<script>requirejs.config({paths: { 'plotly': ['https://cdn.plot.ly/plotly-latest.min']},});if(!window.Plotly) {{require(['plotly'],function(plotly) {window.Plotly=plotly;});}}</script>"
      ]
     },
     "metadata": {},
     "output_type": "display_data"
    }
   ],
   "source": [
    "from plotly import __version__\n",
    "from plotly.offline import download_plotlyjs, init_notebook_mode, plot, iplot\n",
    "import plotly.graph_objs as go\n",
    "\n",
    "print (__version__) # requires version >= 1.9.0\n",
    "\n",
    "init_notebook_mode(connected=True)\n",
    "# iplot([{\"x\": [1, 2, 3], \"y\": [3, 1, 6]}])"
   ]
  },
  {
   "cell_type": "markdown",
   "metadata": {},
   "source": [
    "#### Collecting the Data\n",
    "\n",
    "As always, we should start by getting our data ready for usage.\n",
    "In this case, this process involves retrieving the data from our API and building the dataframes."
   ]
  },
  {
   "cell_type": "code",
   "execution_count": 3,
   "metadata": {},
   "outputs": [],
   "source": [
    "import requests\n",
    "import pandas as pd\n",
    "\n",
    "# API requests\n",
    "reports_r = requests.get('https://peridash.ml/api/reports')\n",
    "measurements_r = requests.get('https://peridash.ml/api/measurements')\n",
    "epsas_r = requests.get('https://peridash.ml/api/epsas')\n",
    "\n",
    "# Builiding the Dataframes\n",
    "reports_df = pd.read_json(reports_r.text)\n",
    "measurements_df = pd.read_json(measurements_r.text)\n",
    "epsas_df = pd.read_json(epsas_r.text)\n",
    "\n",
    "# Merging the Tables\n",
    "complete_reports_df = pd.merge(reports_df, epsas_df, left_on='epsa', right_on='url')\n",
    "complete_measurements_df = pd.merge(measurements_df, epsas_df, left_on='epsa', right_on='url')"
   ]
  },
  {
   "cell_type": "markdown",
   "metadata": {},
   "source": [
    "#### Crating the Grid\n",
    "\n",
    "Next, we should create the **Plotly Grid** that will feed our animated plot. A plotly grid consists of multiple columns with unique headers. It's basically a simple way to organize lists of values for usage. The structure of the headers is important, as these will be used to access the columns later on.\n",
    "\n",
    "**Note**: As it turns out Grid only works with plotly online, also icreate_animations is not a part of plotly.offline. So for offline animations we have to use a work-around using pandas for feeding the data and use iplot instead."
   ]
  },
  {
   "cell_type": "code",
   "execution_count": 93,
   "metadata": {},
   "outputs": [
    {
     "data": {
      "text/plain": [
       "'https://plot.ly/~sergiochumacero/42/'"
      ]
     },
     "execution_count": 93,
     "metadata": {},
     "output_type": "execute_result"
    }
   ],
   "source": [
    "import plotly.plotly as py\n",
    "from plotly.grid_objs import Grid, Column\n",
    "\n",
    "years = ['2014', '2015', '2016',]\n",
    "categories = ['A', 'B', 'C', 'D']\n",
    "plane_dimensions = ['v3', 'v22']\n",
    "size_dimension = 'v22'\n",
    "\n",
    "\n",
    "custom_colors = {\n",
    "    'A': 'rgb(171, 99, 250)',\n",
    "    'B': 'rgb(230, 99, 250)',\n",
    "    'C': 'rgb(99, 110, 250)',\n",
    "    'D': 'rgb(25, 211, 243)',\n",
    "#     'Oceania': 'rgb(50, 170, 255)'\n",
    "}\n",
    "\n",
    "rdf = complete_reports_df\n",
    "mdf = complete_measurements_df\n",
    "\n",
    "columns = []\n",
    "\n",
    "grid_data = {}\n",
    "\n",
    "for year in years:\n",
    "    for category in categories:\n",
    "        filtered_rdf = rdf[(rdf.year == int(year)) & (rdf.category == category)]\n",
    "#         filtered_mdf = mdf[(mdf.year == int(year)) & (mdf.category == category)]\n",
    "        \n",
    "        for dim in plane_dimensions:\n",
    "            column_name = f'{year}_{category}_{dim}'\n",
    "            column_data = list(filtered_rdf[dim])\n",
    "            column = Column(column_data, column_name)\n",
    "            columns.append(column)\n",
    "            grid_data[column_name] = list(filtered_rdf[dim])\n",
    "             \n",
    "        \n",
    "#         column_name = f'{year}_{category}_{size_dimension}'\n",
    "#         column_data = list(filtered_rdf[size_dimension])\n",
    "#         column = Column(column_data, column_name)\n",
    "#         columns.append(column)\n",
    "        \n",
    "        column_name = f'{year}_{category}_codes'\n",
    "        column_data = list(filtered_rdf['code'])\n",
    "        column = Column(column_data, column_name)\n",
    "        columns.append(column)\n",
    "        \n",
    "grid = Grid(columns)\n",
    "py.grid_ops.upload(grid, 'animated_variables_grid')"
   ]
  },
  {
   "cell_type": "markdown",
   "metadata": {},
   "source": [
    "#### Creating the Figure\n",
    "\n",
    "With the grid in place, it's time to define the figure that will be used for generating the plot. Plotly is *declarative* in nature, which basically means that all we need to do is specify what we want, feed the data and let plotly work its magic. Tools of the declarative type have the advantage of being very high level, thus doing a lot of work for us, but for this to happen we have to familiarize ourselves with the specifics of the system at hand in contrast to lower level tools which allow for more flexibility.\n",
    "\n",
    "The basic structure of the a figure is the following:"
   ]
  },
  {
   "cell_type": "code",
   "execution_count": 117,
   "metadata": {},
   "outputs": [],
   "source": [
    "figure = {\n",
    "    'data': [],\n",
    "    'frames': [],\n",
    "    'layout': {},\n",
    "}"
   ]
  },
  {
   "cell_type": "markdown",
   "metadata": {},
   "source": [
    "A figure is a dictionary where:\n",
    "\n",
    "The key **data** is a list of dictionaries with references to the values for the x and y dimensions. It also contains information about the type of the data (in our case 'markers') as well as some styling information."
   ]
  },
  {
   "cell_type": "code",
   "execution_count": 118,
   "metadata": {},
   "outputs": [],
   "source": [
    "custom_colors = {\n",
    "    'A': 'rgb(171, 99, 250)',\n",
    "    'B': 'rgb(230, 99, 250)',\n",
    "    'C': 'rgb(99, 110, 250)',\n",
    "    'D': 'rgb(25, 211, 243)',\n",
    "#     'Oceania': 'rgb(50, 170, 255)'\n",
    "}\n",
    "\n",
    "\n",
    "for category in categories:\n",
    "    data_dict = {\n",
    "        'xsrc': grid.get_column_reference(f'2014_{category}_{plane_dimensions[0]}'),\n",
    "        'ysrc': grid.get_column_reference(f'2014_{category}_{plane_dimensions[1]}'),\n",
    "        'mode': 'markers',\n",
    "        'marker': {'color': custom_colors[category]},\n",
    "        'marker': {\n",
    "            'sizemode': 'area',\n",
    "            'sizeref': 500,\n",
    "            'sizesrc': grid.get_column_reference(f'2014_{category}_{size_dimension}'),\n",
    "            'color': custom_colors[category],\n",
    "        },\n",
    "        'textsrc': grid.get_column_reference(f'2014_{category}_codes'),\n",
    "        'name': 'Categoría: ' + category,\n",
    "    }\n",
    "    figure['data'].append(data_dict)"
   ]
  },
  {
   "cell_type": "markdown",
   "metadata": {},
   "source": [
    "The key **frames** is a list of dictionaries, each one similar to a 'data' dictionary. These are going to be the steps of the animation."
   ]
  },
  {
   "cell_type": "code",
   "execution_count": 119,
   "metadata": {},
   "outputs": [],
   "source": [
    "def create_frame(year):\n",
    "    frame_data = []\n",
    "    for category in categories:\n",
    "        year_cat_dict = {\n",
    "            'xsrc': grid.get_column_reference(f'{year}_{category}_{plane_dimensions[0]}'),\n",
    "            'ysrc': grid.get_column_reference(f'{year}_{category}_{plane_dimensions[1]}'),\n",
    "            'mode': 'markers',\n",
    "            'marker': {\n",
    "                'sizemode': 'area',\n",
    "                'sizeref': 500,\n",
    "                'sizesrc': grid.get_column_reference(f'{year}_{category}_{size_dimension}'),\n",
    "                'color': custom_colors[category],\n",
    "            },\n",
    "            'textsrc': grid.get_column_reference(f'{year}_{category}_codes'),\n",
    "            'name': 'Categoría: ' + category,\n",
    "        }\n",
    "        frame_data.append(year_cat_dict)\n",
    "        \n",
    "    return dict(data=frame_data, name=year)\n",
    "\n",
    "figure['frames'] = [create_frame(year) for year in years]"
   ]
  },
  {
   "cell_type": "markdown",
   "metadata": {},
   "source": [
    "Finally, the key **layout** is a dictonary specifying different layout settings like title, ranges, labels and buttons."
   ]
  },
  {
   "cell_type": "code",
   "execution_count": 120,
   "metadata": {},
   "outputs": [],
   "source": [
    "animation_settings = dict(\n",
    "    frame={'duration': 700, 'redraw': False},\n",
    "    fromcurrent=True,\n",
    "    transition={'duration': 700, 'easing':'cubic-in-out'},\n",
    ")\n",
    "\n",
    "steps = []\n",
    "for year in years:\n",
    "    step = dict(\n",
    "        method = 'animate',  \n",
    "        args = [[year], animation_settings],\n",
    "        label= year\n",
    "    )\n",
    "    steps.append(step)\n",
    "\n",
    "figure['layout']['sliders'] = [dict(\n",
    "    active = 0,\n",
    "    currentvalue = {\n",
    "        'prefix': 'Año: ',\n",
    "        'font': {'size': 20},\n",
    "        'visible': True,\n",
    "        'xanchor': 'right'\n",
    "    },\n",
    "    steps = steps,\n",
    "    yanchor= 'top',\n",
    "    xanchor= 'left',\n",
    "    pad= {'b': 10, 't': 50},\n",
    "    len= 0.9,\n",
    "    x= 0.1,\n",
    "    y= 0,\n",
    ")]\n",
    "\n",
    "figure['layout']['updatemenus'] = [{\n",
    "    'buttons': [{\n",
    "        'args': [years, animation_settings],\n",
    "        'label': 'Animar',\n",
    "        'method': 'animate',\n",
    "    }],\n",
    "    'direction': 'left',\n",
    "    'pad': {'r': 10, 't': 87},\n",
    "    'showactive': False,\n",
    "    'type': 'buttons',\n",
    "    'x': 0.1,\n",
    "    'xanchor': 'right',\n",
    "    'y': 0,\n",
    "    'yanchor': 'top'\n",
    "}]\n",
    "\n",
    "x_ind = plane_dimensions[0][1:]\n",
    "y_ind = plane_dimensions[1][1:]\n",
    "\n",
    "figure['layout']['hovermode'] = 'closest'\n",
    "figure['layout']['xaxis'] = {'title': f'Variable {x_ind}: {vdf[vdf.var_id==int(x_ind)][\"name\"].iloc[0]} ({vdf[vdf.var_id==int(x_ind)][\"unit\"].iloc[0]})'}\n",
    "figure['layout']['yaxis'] = {'title': f'Variable {y_ind}: {vdf[vdf.var_id==int(y_ind)][\"name\"].iloc[0]} ({vdf[vdf.var_id==int(y_ind)][\"unit\"].iloc[0]})'}\n",
    "figure['layout']['height'] = 700\n",
    "figure['layout']['width'] = 1000\n",
    "figure['layout']['plot_bgcolor'] = '#dfe8f3'\n",
    "figure['layout']['dragmode'] = 'lasso'\n",
    "figure['layout']['title'] = 'Variables a través de los años'"
   ]
  },
  {
   "cell_type": "markdown",
   "metadata": {},
   "source": [
    "To create the plot online, all we need to do now is run the following command."
   ]
  },
  {
   "cell_type": "code",
   "execution_count": 121,
   "metadata": {},
   "outputs": [
    {
     "data": {
      "text/html": [
       "<iframe id=\"igraph\" scrolling=\"no\" style=\"border:none;\" seamless=\"seamless\" src=\"https://plot.ly/~sergiochumacero/46.embed\" height=\"700px\" width=\"1000px\"></iframe>"
      ],
      "text/plain": [
       "<plotly.tools.PlotlyDisplay object>"
      ]
     },
     "execution_count": 121,
     "metadata": {},
     "output_type": "execute_result"
    }
   ],
   "source": [
    "import plotly.plotly as py\n",
    "py.icreate_animations(figure, filename='animated_variables_2')"
   ]
  },
  {
   "cell_type": "markdown",
   "metadata": {},
   "source": [
    "But before commiting our plot to the cloud, we will create an offline version to tinker around and experiment without worrying about the server API request limit.\n",
    "\n",
    "The first step for this is to use a raw dictionary instead of a plotly grid."
   ]
  },
  {
   "cell_type": "code",
   "execution_count": 114,
   "metadata": {},
   "outputs": [],
   "source": [
    "years = ['2014', '2015', '2016',]\n",
    "categories = ['A', 'B', 'C', 'D']\n",
    "plane_dimensions = ['v3', 'v22']\n",
    "size_dimension = 'v22'\n",
    "\n",
    "\n",
    "custom_colors = {\n",
    "    'A': 'rgb(171, 99, 250)',\n",
    "    'B': 'rgb(230, 99, 250)',\n",
    "    'C': 'rgb(99, 110, 250)',\n",
    "    'D': 'rgb(25, 211, 243)',\n",
    "#     'Oceania': 'rgb(50, 170, 255)'\n",
    "}\n",
    "\n",
    "rdf = complete_reports_df\n",
    "mdf = complete_measurements_df\n",
    "\n",
    "# columns = []\n",
    "\n",
    "grid_data = {}\n",
    "\n",
    "for year in years:\n",
    "    for category in categories:\n",
    "        filtered_rdf = rdf[(rdf.year == int(year)) & (rdf.category == category)]\n",
    "        filtered_mdf = mdf[(mdf.year == int(year)) & (mdf.category == category)]\n",
    "        \n",
    "        for dim in plane_dimensions:\n",
    "            column_name = f'{year}_{category}_{dim}'\n",
    "            grid_data[column_name] = list(filtered_rdf[dim])\n",
    "             \n",
    "        grid_data[f'{year}_{category}_{size_dimension}'] = list(filtered_rdf[var])\n",
    "        grid_data[f'{year}_{category}_codes'] = list(filtered_rdf['code'])\n",
    "#             columns.append(column_name)\n",
    "#             column = Column(column_data, column_name)\n",
    "#             columns.append(column)\n",
    "        \n",
    "# pandas_grid = pd.DataFrame(pandas_grid_data, columns=columns)"
   ]
  },
  {
   "cell_type": "code",
   "execution_count": 39,
   "metadata": {},
   "outputs": [
    {
     "data": {
      "text/plain": [
       "['epsa',\n",
       " 'url_x',\n",
       " 'v1',\n",
       " 'v10',\n",
       " 'v10_type',\n",
       " 'v11',\n",
       " 'v11_type',\n",
       " 'v12',\n",
       " 'v12_type',\n",
       " 'v13',\n",
       " 'v13_type',\n",
       " 'v14',\n",
       " 'v14_type',\n",
       " 'v15',\n",
       " 'v15_type',\n",
       " 'v16',\n",
       " 'v16_type',\n",
       " 'v17',\n",
       " 'v17_type',\n",
       " 'v18',\n",
       " 'v18_type',\n",
       " 'v19',\n",
       " 'v19_type',\n",
       " 'v1_type',\n",
       " 'v2',\n",
       " 'v20',\n",
       " 'v20_type',\n",
       " 'v21',\n",
       " 'v21_type',\n",
       " 'v22',\n",
       " 'v22_type',\n",
       " 'v23',\n",
       " 'v23_type',\n",
       " 'v24',\n",
       " 'v24_type',\n",
       " 'v25',\n",
       " 'v25_type',\n",
       " 'v26',\n",
       " 'v26_type',\n",
       " 'v27',\n",
       " 'v27_type',\n",
       " 'v28',\n",
       " 'v28_type',\n",
       " 'v29',\n",
       " 'v29_type',\n",
       " 'v2_type',\n",
       " 'v3',\n",
       " 'v30',\n",
       " 'v30_type',\n",
       " 'v31',\n",
       " 'v31_type',\n",
       " 'v32',\n",
       " 'v32_type',\n",
       " 'v33',\n",
       " 'v33_type',\n",
       " 'v34',\n",
       " 'v34_type',\n",
       " 'v35',\n",
       " 'v35_type',\n",
       " 'v36',\n",
       " 'v36_type',\n",
       " 'v37',\n",
       " 'v37_type',\n",
       " 'v38',\n",
       " 'v38_type',\n",
       " 'v39',\n",
       " 'v39_type',\n",
       " 'v3_type',\n",
       " 'v4',\n",
       " 'v40',\n",
       " 'v40_type',\n",
       " 'v41',\n",
       " 'v41_type',\n",
       " 'v42',\n",
       " 'v42_type',\n",
       " 'v43',\n",
       " 'v43_type',\n",
       " 'v44',\n",
       " 'v44_type',\n",
       " 'v45',\n",
       " 'v45_type',\n",
       " 'v46',\n",
       " 'v46_type',\n",
       " 'v47',\n",
       " 'v47_type',\n",
       " 'v48',\n",
       " 'v48_type',\n",
       " 'v49',\n",
       " 'v49_type',\n",
       " 'v4_type',\n",
       " 'v5',\n",
       " 'v50',\n",
       " 'v50_type',\n",
       " 'v51',\n",
       " 'v51_type',\n",
       " 'v5_type',\n",
       " 'v6',\n",
       " 'v6_type',\n",
       " 'v7',\n",
       " 'v7_type',\n",
       " 'v8',\n",
       " 'v8_type',\n",
       " 'v9',\n",
       " 'v9_type',\n",
       " 'year',\n",
       " 'category',\n",
       " 'cities',\n",
       " 'code',\n",
       " 'name',\n",
       " 'state',\n",
       " 'url_y']"
      ]
     },
     "execution_count": 39,
     "metadata": {},
     "output_type": "execute_result"
    }
   ],
   "source": [
    "list(rdf)"
   ]
  },
  {
   "cell_type": "markdown",
   "metadata": {},
   "source": [
    "Now we can modify our figure definition to use the data of the raw dictionary instead of grid references."
   ]
  },
  {
   "cell_type": "code",
   "execution_count": 43,
   "metadata": {},
   "outputs": [],
   "source": [
    "import numpy as np\n",
    "\n",
    "figure = {\n",
    "    'data': [],\n",
    "    'frames': [],\n",
    "    'layout': {},\n",
    "}\n",
    "\n",
    "for category in categories:\n",
    "    data_dict = {\n",
    "        'x': grid_data[f'2014_{category}_ind8'],\n",
    "        'y': grid_data[f'2014_{category}_ind9'],\n",
    "        'mode': 'markers',\n",
    "        'marker': {\n",
    "            'color': custom_colors[category]\n",
    "        },\n",
    "        'marker': {\n",
    "            'sizemode': 'area',\n",
    "            'sizeref': 500,\n",
    "            'size': grid_data[f'2014_{category}_v22'],\n",
    "#             'color': custom_colors[category]\n",
    "        },\n",
    "    }\n",
    "    figure['data'].append(data_dict)\n",
    "    \n",
    "def create_frame(year):\n",
    "    frame_data = []\n",
    "    for category in categories:\n",
    "        year_cat_dict = {\n",
    "            'x': grid_data[f'{year}_{category}_ind8'],\n",
    "            'y': grid_data[f'{year}_{category}_ind9'],\n",
    "            'mode': 'markers',\n",
    "            'marker': {\n",
    "                'sizemode': 'area',\n",
    "                'sizeref': 500,\n",
    "                'size': grid_data[f'{year}_{category}_v22'],\n",
    "                'color': custom_colors[category]\n",
    "            }\n",
    "        }\n",
    "        frame_data.append(year_cat_dict)\n",
    "        \n",
    "    return dict(data=frame_data)\n",
    "\n",
    "figure['frames'] = [create_frame(year) for year in years]\n",
    "\n",
    "\n",
    "figure['layout'] = dict(\n",
    "    title='Variables a través de los años',\n",
    "    \n",
    "#     sliders= [{\n",
    "#         'args': [\n",
    "#             'transition', {\n",
    "#                 'duration': 400,\n",
    "#                 'easing': 'cubic-in-out'\n",
    "#             }\n",
    "#         ],\n",
    "#         'initialvalue': '2014',\n",
    "#         'plotlycommand': 'animate',\n",
    "#         'values': years,\n",
    "#         'visible': True,\n",
    "#     }],\n",
    "    \n",
    "    updatemenus= [{\n",
    "        'buttons': [{\n",
    "            'args': [None],\n",
    "            'label': 'Play',\n",
    "            'method': 'animate',\n",
    "        }, {\n",
    "            'args': [None],\n",
    "            'label': 'Pause',\n",
    "            'method': 'animate',\n",
    "        }],\n",
    "        'showactive': False,\n",
    "        'type': 'buttons',\n",
    "    }]\n",
    ")\n",
    "\n",
    "figure['layout']['sliders'] = [dict()]\n",
    "\n",
    "# figure['layout']['sliders'] = [dict(\n",
    "#     visible=True,\n",
    "#     active=0,\n",
    "#     yanchor='top',\n",
    "#     xanchor='left',\n",
    "#     currentvalue={\n",
    "#         'font': {'size':20},\n",
    "#         'prefix': 'text-before',\n",
    "#         'visible': True,\n",
    "#         'xanchor': 'right',\n",
    "#     },\n",
    "#     transition={\n",
    "#         'duration': 300, 'easing': 'cubic-in-out'},\n",
    "#     pad={\n",
    "#         'b': 10,\n",
    "#         't': 50,\n",
    "#     },\n",
    "#     steps=[dict(\n",
    "#         method='animate',\n",
    "#         label='some-label',\n",
    "#         value='2014',\n",
    "#         args=[{\n",
    "#             'frame': {'duration':300, 'redraw': False},\n",
    "#             'mode': 'immediate',\n",
    "#         }]\n",
    "#     )]\n",
    "# )]\n",
    "\n",
    "# {\n",
    "#     'method': 'animate',\n",
    "#     'label': 'label-for-frame',\n",
    "#     'value': 'value-for-frame(defaults to label)',\n",
    "#     'args': [{'frame': {'duration': 300, 'redraw': False},\n",
    "#          'mode': 'immediate'}\n",
    "#     ],\n",
    "# }\n",
    "\n",
    "# figure['layout']['sliders] = \n",
    "#     'active': 0,\n",
    "#     'yanchor': 'top',\n",
    "#     'xanchor': 'left',\n",
    "#     'currentvalue': {\n",
    "#         'font': {'size': 20},\n",
    "#         'prefix': 'text-before-value-on-display',\n",
    "#         'visible': True,\n",
    "#         'xanchor': 'right'\n",
    "#     },\n",
    "#     'transition': {'duration': 300, 'easing': 'cubic-in-out'},\n",
    "#     'pad': {'b': 10, 't': 50},\n",
    "#     'len': 0.9,\n",
    "#     'x': 0.1,\n",
    "#     'y': 0,\n",
    "# #     'steps': [...]\n"
   ]
  },
  {
   "cell_type": "markdown",
   "metadata": {},
   "source": [
    "Now we can plot our animated plot using 'iplot' offline! Success! Now we can tinker with styling all we want."
   ]
  },
  {
   "cell_type": "code",
   "execution_count": 44,
   "metadata": {},
   "outputs": [
    {
     "data": {
      "application/vnd.plotly.v1+json": {
       "data": [
        {
         "marker": {
          "size": [
           2217437,
           1408130,
           563622
          ],
          "sizemode": "area",
          "sizeref": 500
         },
         "mode": "markers",
         "type": "scatter",
         "uid": "ead00b90-b513-11e8-8d81-f0761c9f65e1",
         "x": [
          91.49,
          98.24,
          62.42
         ],
         "y": [
          68.12,
          63.03,
          73.35
         ]
        },
        {
         "marker": {
          "size": [
           198560,
           50816,
           51820,
           74736,
           154416,
           74830,
           195178,
           226690,
           131908,
           93089,
           301592,
           101427,
           50043,
           68141,
           55193,
           54611,
           99228,
           269191
          ],
          "sizemode": "area",
          "sizeref": 500
         },
         "mode": "markers",
         "type": "scatter",
         "uid": "ead00b91-b513-11e8-8e75-f0761c9f65e1",
         "x": [
          94.8,
          75.91,
          81.21,
          80.42,
          90.79,
          93.39,
          81.98,
          97.87,
          97.65,
          94.27,
          88,
          null,
          88,
          88,
          76.46,
          95.77,
          90.82,
          93.42
         ],
         "y": [
          87.1,
          57.58,
          16.4,
          28.58,
          60.35,
          33.6,
          null,
          86.48,
          40.65,
          37.46,
          87.36,
          39.1,
          67.14,
          82.14,
          null,
          61.45,
          null,
          null
         ]
        },
        {
         "marker": {
          "size": [
           29672,
           12635,
           12829,
           15481,
           34400,
           43445,
           15995,
           37289,
           23880,
           10215,
           27190,
           24800,
           25447,
           14265,
           20720,
           18128,
           20710,
           37114,
           42556,
           24677,
           24065,
           45048,
           10472,
           15950,
           23292,
           14157,
           33446
          ],
          "sizemode": "area",
          "sizeref": 500
         },
         "mode": "markers",
         "type": "scatter",
         "uid": "ead00b92-b513-11e8-a175-f0761c9f65e1",
         "x": [
          91.8,
          null,
          67.58,
          90.92,
          70.35,
          82.91,
          null,
          70.84,
          96.53,
          75.62,
          72.53,
          null,
          99.98,
          null,
          87.23,
          97.9,
          96.93,
          90.13,
          84.13,
          46.54,
          95.31,
          92.85,
          null,
          94.1,
          null,
          null,
          96.56
         ],
         "y": [
          null,
          null,
          null,
          null,
          22.6,
          null,
          null,
          15.61,
          57.31,
          19.63,
          73.7,
          null,
          47.55,
          null,
          null,
          67.08,
          null,
          24.33,
          66.46,
          61.19,
          94.3,
          82.78,
          null,
          14.24,
          null,
          null,
          45.81
         ]
        },
        {
         "marker": {
          "size": [
           9230,
           8949,
           7611,
           6686,
           6825,
           7554,
           10000
          ],
          "sizemode": "area",
          "sizeref": 500
         },
         "mode": "markers",
         "type": "scatter",
         "uid": "ead00b93-b513-11e8-8c7f-f0761c9f65e1",
         "x": [
          null,
          92.05,
          null,
          null,
          null,
          98.37,
          null
         ],
         "y": [
          null,
          null,
          null,
          null,
          null,
          82.81,
          null
         ]
        }
       ],
       "frames": [
        {
         "data": [
          {
           "marker": {
            "color": "rgb(171, 99, 250)",
            "size": [
             2217437,
             1408130,
             563622
            ],
            "sizemode": "area",
            "sizeref": 500
           },
           "mode": "markers",
           "type": "scatter",
           "x": [
            91.49,
            98.24,
            62.42
           ],
           "y": [
            68.12,
            63.03,
            73.35
           ]
          },
          {
           "marker": {
            "color": "rgb(230, 99, 250)",
            "size": [
             198560,
             50816,
             51820,
             74736,
             154416,
             74830,
             195178,
             226690,
             131908,
             93089,
             301592,
             101427,
             50043,
             68141,
             55193,
             54611,
             99228,
             269191
            ],
            "sizemode": "area",
            "sizeref": 500
           },
           "mode": "markers",
           "type": "scatter",
           "x": [
            94.8,
            75.91,
            81.21,
            80.42,
            90.79,
            93.39,
            81.98,
            97.87,
            97.65,
            94.27,
            88,
            null,
            88,
            88,
            76.46,
            95.77,
            90.82,
            93.42
           ],
           "y": [
            87.1,
            57.58,
            16.4,
            28.58,
            60.35,
            33.6,
            null,
            86.48,
            40.65,
            37.46,
            87.36,
            39.1,
            67.14,
            82.14,
            null,
            61.45,
            null,
            null
           ]
          },
          {
           "marker": {
            "color": "rgb(99, 110, 250)",
            "size": [
             29672,
             12635,
             12829,
             15481,
             34400,
             43445,
             15995,
             37289,
             23880,
             10215,
             27190,
             24800,
             25447,
             14265,
             20720,
             18128,
             20710,
             37114,
             42556,
             24677,
             24065,
             45048,
             10472,
             15950,
             23292,
             14157,
             33446
            ],
            "sizemode": "area",
            "sizeref": 500
           },
           "mode": "markers",
           "type": "scatter",
           "x": [
            91.8,
            null,
            67.58,
            90.92,
            70.35,
            82.91,
            null,
            70.84,
            96.53,
            75.62,
            72.53,
            null,
            99.98,
            null,
            87.23,
            97.9,
            96.93,
            90.13,
            84.13,
            46.54,
            95.31,
            92.85,
            null,
            94.1,
            null,
            null,
            96.56
           ],
           "y": [
            null,
            null,
            null,
            null,
            22.6,
            null,
            null,
            15.61,
            57.31,
            19.63,
            73.7,
            null,
            47.55,
            null,
            null,
            67.08,
            null,
            24.33,
            66.46,
            61.19,
            94.3,
            82.78,
            null,
            14.24,
            null,
            null,
            45.81
           ]
          },
          {
           "marker": {
            "color": "rgb(25, 211, 243)",
            "size": [
             9230,
             8949,
             7611,
             6686,
             6825,
             7554,
             10000
            ],
            "sizemode": "area",
            "sizeref": 500
           },
           "mode": "markers",
           "type": "scatter",
           "x": [
            null,
            92.05,
            null,
            null,
            null,
            98.37,
            null
           ],
           "y": [
            null,
            null,
            null,
            null,
            null,
            82.81,
            null
           ]
          }
         ]
        },
        {
         "data": [
          {
           "marker": {
            "color": "rgb(171, 99, 250)",
            "size": [
             2292942,
             1485577,
             572851
            ],
            "sizemode": "area",
            "sizeref": 500
           },
           "mode": "markers",
           "type": "scatter",
           "x": [
            95.12,
            96.62,
            62.33
           ],
           "y": [
            67.77,
            61.97,
            73.6
           ]
          },
          {
           "marker": {
            "color": "rgb(230, 99, 250)",
            "size": [
             202035,
             53331,
             53084,
             74486,
             159605,
             78572,
             203278,
             234292,
             136049,
             98389,
             275061,
             107127,
             52340,
             68720,
             58482,
             55802,
             102810,
             275983
            ],
            "sizemode": "area",
            "sizeref": 500
           },
           "mode": "markers",
           "type": "scatter",
           "x": [
            97.27,
            73.49,
            82.09,
            82.33,
            90.97,
            93.9,
            84.61,
            98.37,
            98.27,
            92.4,
            91.12,
            67.1,
            89.61,
            91.57,
            73.42,
            94.38,
            91.44,
            96.91
           ],
           "y": [
            87.82,
            56.02,
            16.83,
            30.46,
            59.29,
            32,
            null,
            86.96,
            39.48,
            35.99,
            90.46,
            47.71,
            66.74,
            82.32,
            null,
            57.37,
            null,
            null
           ]
          },
          {
           "marker": {
            "color": "rgb(99, 110, 250)",
            "size": [
             31245,
             13267,
             13429,
             16255,
             35122,
             46138,
             20415,
             38035,
             25462,
             10573,
             27494,
             28971,
             30239,
             18402,
             21248,
             18491,
             21381,
             39080,
             43284,
             30000,
             24259,
             46489,
             10535,
             16939,
             23000,
             14582,
             35205
            ],
            "sizemode": "area",
            "sizeref": 500
           },
           "mode": "markers",
           "type": "scatter",
           "x": [
            87.39,
            null,
            67.65,
            82.1,
            71.42,
            86.11,
            96.57,
            74.77,
            92.59,
            76.89,
            72.59,
            null,
            99.08,
            78.93,
            96.39,
            98.75,
            98.66,
            91.75,
            84.27,
            41.43,
            97.59,
            94.6,
            50.03,
            92.86,
            83.83,
            95.01,
            96.37
           ],
           "y": [
            null,
            null,
            null,
            null,
            22.52,
            null,
            null,
            15.3,
            55.31,
            20.48,
            63.87,
            null,
            44.04,
            null,
            null,
            70.07,
            null,
            23.57,
            66.61,
            50.28,
            96.46,
            82.46,
            43.48,
            22.99,
            null,
            83.97,
            46.85
           ]
          },
          {
           "marker": {
            "color": "rgb(25, 211, 243)",
            "size": [
             9536,
             9234,
             7872,
             8075,
             7063,
             7850,
             9558
            ],
            "sizemode": "area",
            "sizeref": 500
           },
           "mode": "markers",
           "type": "scatter",
           "x": [
            88.61,
            94.74,
            92.29,
            91.47,
            89.98,
            98.61,
            77.37
           ],
           "y": [
            6.61,
            null,
            58.75,
            null,
            66.83,
            80.83,
            null
           ]
          }
         ]
        },
        {
         "data": [
          {
           "marker": {
            "color": "rgb(171, 99, 250)",
            "size": [
             2336119,
             1537572,
             581675
            ],
            "sizemode": "area",
            "sizeref": 500
           },
           "mode": "markers",
           "type": "scatter",
           "x": [
            97.52,
            96.91,
            66.67
           ],
           "y": [
            70.77,
            60.93,
            84.08
           ]
          },
          {
           "marker": {
            "color": "rgb(230, 99, 250)",
            "size": [
             205570,
             53692.13,
             54380,
             76330,
             164115,
             80458,
             163705,
             241255,
             143848,
             101060,
             278018,
             113147,
             54743,
             69304,
             62032,
             57521,
             107124,
             282850
            ],
            "sizemode": "area",
            "sizeref": 500
           },
           "mode": "markers",
           "type": "scatter",
           "x": [
            98.05,
            84.35,
            81.71,
            81.15,
            91.69,
            93.98,
            95.43,
            99.43,
            97.02,
            93.61,
            98.89,
            null,
            91.29,
            91.2,
            71.62,
            94.8,
            89.95,
            97.53
           ],
           "y": [
            88.61,
            57.68,
            17.2,
            40.14,
            58.22,
            31.25,
            null,
            87.32,
            37.44,
            36.56,
            98.19,
            null,
            66.31,
            81.86,
            null,
            58.37,
            null,
            null
           ]
          },
          {
           "marker": {
            "color": "rgb(99, 110, 250)",
            "size": [
             32340,
             15027,
             14006,
             16956,
             35859.56,
             48749,
             23584.23,
             38788,
             26735,
             10945,
             28109.87,
             28408,
             32557,
             18800,
             15766,
             19384,
             21552,
             18860,
             21436,
             43294,
             31512,
             26429,
             24455,
             47884,
             10703,
             18212,
             28373,
             15006,
             37057,
             31218
            ],
            "sizemode": "area",
            "sizeref": 500
           },
           "mode": "markers",
           "type": "scatter",
           "x": [
            88.27,
            97.96,
            66.97,
            83.57,
            71.72,
            92.6,
            91.04,
            79.35,
            92.95,
            77.8,
            71.72,
            86.46,
            97.13,
            48.43,
            88.57,
            86.49,
            98.53,
            99.66,
            100,
            87.61,
            91.65,
            48.05,
            99.75,
            89.5,
            50.93,
            90.84,
            71.6,
            97.53,
            94.78,
            96.14
           ],
           "y": [
            null,
            21.06,
            null,
            null,
            22.3,
            null,
            null,
            16.15,
            62.37,
            29.6,
            63.82,
            null,
            39.19,
            14.89,
            43.41,
            null,
            null,
            71.54,
            null,
            21.65,
            75.13,
            61.33,
            98.45,
            74.89,
            43.08,
            27.78,
            null,
            41.12,
            45.24,
            55.46
           ]
          },
          {
           "marker": {
            "color": "rgb(25, 211, 243)",
            "size": [
             8520,
             5294.8,
             9834,
             9516,
             7306,
             8084,
             4025,
             8140,
             7310,
             8500,
             9968,
             4805,
             4509
            ],
            "sizemode": "area",
            "sizeref": 500
           },
           "mode": "markers",
           "type": "scatter",
           "x": [
            59.8,
            92.17,
            90.1,
            98.61,
            87.87,
            92.22,
            92.35,
            92.36,
            89.88,
            96.76,
            77.85,
            92.3,
            98.89
           ],
           "y": [
            48.24,
            null,
            42,
            null,
            85.48,
            75.4,
            null,
            null,
            65.8,
            75.92,
            null,
            62.43,
            null
           ]
          }
         ]
        }
       ],
       "layout": {
        "sliders": [
         {
          "active": 0,
          "currentvalue": {
           "font": {
            "size": 20
           },
           "prefix": "text-before",
           "visible": true,
           "xanchor": "right"
          },
          "pad": {
           "b": 10,
           "t": 50
          },
          "steps": [
           {
            "args": [
             {
              "frame": {
               "duration": 300,
               "redraw": false
              },
              "mode": "immediate"
             }
            ],
            "label": "some-label",
            "method": "animate",
            "value": "2014"
           }
          ],
          "transition": {
           "duration": 300,
           "easing": "cubic-in-out"
          },
          "visible": true,
          "xanchor": "left",
          "yanchor": "top"
         }
        ],
        "title": "Variables a través de los años",
        "updatemenus": [
         {
          "buttons": [
           {
            "args": [
             null
            ],
            "label": "Play",
            "method": "animate"
           },
           {
            "args": [
             null
            ],
            "label": "Pause",
            "method": "animate"
           }
          ],
          "showactive": false,
          "type": "buttons"
         }
        ]
       }
      },
      "text/html": [
       "<div id=\"01e6de7a-8ffc-462e-bb7f-3c1d64e2c793\" style=\"height: 525px; width: 100%;\" class=\"plotly-graph-div\"></div><script type=\"text/javascript\">require([\"plotly\"], function(Plotly) { window.PLOTLYENV=window.PLOTLYENV || {};window.PLOTLYENV.BASE_URL=\"https://plot.ly\";\n",
       "        Plotly.plot(\n",
       "            '01e6de7a-8ffc-462e-bb7f-3c1d64e2c793',\n",
       "            [{\"marker\": {\"size\": [2217437.0, 1408130.0, 563622.0], \"sizemode\": \"area\", \"sizeref\": 500}, \"mode\": \"markers\", \"x\": [91.49, 98.24, 62.42], \"y\": [68.12, 63.03, 73.35], \"type\": \"scatter\", \"uid\": \"eb04ef5c-b513-11e8-a7c2-f0761c9f65e1\"}, {\"marker\": {\"size\": [198560.0, 50816.0, 51820.0, 74736.0, 154416.0, 74830.0, 195178.0, 226690.0, 131908.0, 93089.0, 301592.0, 101427.0, 50043.0, 68141.0, 55193.0, 54611.0, 99228.0, 269191.0], \"sizemode\": \"area\", \"sizeref\": 500}, \"mode\": \"markers\", \"x\": [94.8, 75.91, 81.21, 80.42, 90.79, 93.39, 81.98, 97.87, 97.65, 94.27, 88.0, null, 88.0, 88.0, 76.46, 95.77, 90.82, 93.42], \"y\": [87.1, 57.58, 16.4, 28.58, 60.35, 33.6, null, 86.48, 40.65, 37.46, 87.36, 39.1, 67.14, 82.14, null, 61.45, null, null], \"type\": \"scatter\", \"uid\": \"eb04ef5d-b513-11e8-8e5c-f0761c9f65e1\"}, {\"marker\": {\"size\": [29672.0, 12635.0, 12829.0, 15481.0, 34400.0, 43445.0, 15995.0, 37289.0, 23880.0, 10215.0, 27190.0, 24800.0, 25447.0, 14265.0, 20720.0, 18128.0, 20710.0, 37114.0, 42556.0, 24677.0, 24065.0, 45048.0, 10472.0, 15950.0, 23292.0, 14157.0, 33446.0], \"sizemode\": \"area\", \"sizeref\": 500}, \"mode\": \"markers\", \"x\": [91.8, null, 67.58, 90.92, 70.35, 82.91, null, 70.84, 96.53, 75.62, 72.53, null, 99.98, null, 87.23, 97.9, 96.93, 90.13, 84.13, 46.54, 95.31, 92.85, null, 94.1, null, null, 96.56], \"y\": [null, null, null, null, 22.6, null, null, 15.61, 57.31, 19.63, 73.7, null, 47.55, null, null, 67.08, null, 24.33, 66.46, 61.19, 94.3, 82.78, null, 14.24, null, null, 45.81], \"type\": \"scatter\", \"uid\": \"eb04ef5e-b513-11e8-aec3-f0761c9f65e1\"}, {\"marker\": {\"size\": [9230.0, 8949.0, 7611.0, 6686.0, 6825.0, 7554.0, 10000.0], \"sizemode\": \"area\", \"sizeref\": 500}, \"mode\": \"markers\", \"x\": [null, 92.05, null, null, null, 98.37, null], \"y\": [null, null, null, null, null, 82.81, null], \"type\": \"scatter\", \"uid\": \"eb04ef5f-b513-11e8-a182-f0761c9f65e1\"}],\n",
       "            {\"sliders\": [{\"active\": 0, \"currentvalue\": {\"font\": {\"size\": 20}, \"prefix\": \"text-before\", \"visible\": true, \"xanchor\": \"right\"}, \"pad\": {\"b\": 10, \"t\": 50}, \"steps\": [{\"args\": [{\"frame\": {\"duration\": 300, \"redraw\": false}, \"mode\": \"immediate\"}], \"label\": \"some-label\", \"method\": \"animate\", \"value\": \"2014\"}], \"transition\": {\"duration\": 300, \"easing\": \"cubic-in-out\"}, \"visible\": true, \"xanchor\": \"left\", \"yanchor\": \"top\"}], \"title\": \"Variables a trav\\u00e9s de los a\\u00f1os\", \"updatemenus\": [{\"buttons\": [{\"args\": [null], \"label\": \"Play\", \"method\": \"animate\"}, {\"args\": [null], \"label\": \"Pause\", \"method\": \"animate\"}], \"showactive\": false, \"type\": \"buttons\"}]},\n",
       "            {\"showLink\": true, \"linkText\": \"Export to plot.ly\"}\n",
       "        ).then(function () {return Plotly.addFrames('01e6de7a-8ffc-462e-bb7f-3c1d64e2c793',[{\"data\": [{\"marker\": {\"color\": \"rgb(171, 99, 250)\", \"size\": [2217437.0, 1408130.0, 563622.0], \"sizemode\": \"area\", \"sizeref\": 500}, \"mode\": \"markers\", \"x\": [91.49, 98.24, 62.42], \"y\": [68.12, 63.03, 73.35], \"type\": \"scatter\"}, {\"marker\": {\"color\": \"rgb(230, 99, 250)\", \"size\": [198560.0, 50816.0, 51820.0, 74736.0, 154416.0, 74830.0, 195178.0, 226690.0, 131908.0, 93089.0, 301592.0, 101427.0, 50043.0, 68141.0, 55193.0, 54611.0, 99228.0, 269191.0], \"sizemode\": \"area\", \"sizeref\": 500}, \"mode\": \"markers\", \"x\": [94.8, 75.91, 81.21, 80.42, 90.79, 93.39, 81.98, 97.87, 97.65, 94.27, 88.0, null, 88.0, 88.0, 76.46, 95.77, 90.82, 93.42], \"y\": [87.1, 57.58, 16.4, 28.58, 60.35, 33.6, null, 86.48, 40.65, 37.46, 87.36, 39.1, 67.14, 82.14, null, 61.45, null, null], \"type\": \"scatter\"}, {\"marker\": {\"color\": \"rgb(99, 110, 250)\", \"size\": [29672.0, 12635.0, 12829.0, 15481.0, 34400.0, 43445.0, 15995.0, 37289.0, 23880.0, 10215.0, 27190.0, 24800.0, 25447.0, 14265.0, 20720.0, 18128.0, 20710.0, 37114.0, 42556.0, 24677.0, 24065.0, 45048.0, 10472.0, 15950.0, 23292.0, 14157.0, 33446.0], \"sizemode\": \"area\", \"sizeref\": 500}, \"mode\": \"markers\", \"x\": [91.8, null, 67.58, 90.92, 70.35, 82.91, null, 70.84, 96.53, 75.62, 72.53, null, 99.98, null, 87.23, 97.9, 96.93, 90.13, 84.13, 46.54, 95.31, 92.85, null, 94.1, null, null, 96.56], \"y\": [null, null, null, null, 22.6, null, null, 15.61, 57.31, 19.63, 73.7, null, 47.55, null, null, 67.08, null, 24.33, 66.46, 61.19, 94.3, 82.78, null, 14.24, null, null, 45.81], \"type\": \"scatter\"}, {\"marker\": {\"color\": \"rgb(25, 211, 243)\", \"size\": [9230.0, 8949.0, 7611.0, 6686.0, 6825.0, 7554.0, 10000.0], \"sizemode\": \"area\", \"sizeref\": 500}, \"mode\": \"markers\", \"x\": [null, 92.05, null, null, null, 98.37, null], \"y\": [null, null, null, null, null, 82.81, null], \"type\": \"scatter\"}]}, {\"data\": [{\"marker\": {\"color\": \"rgb(171, 99, 250)\", \"size\": [2292942.0, 1485577.0, 572851.0], \"sizemode\": \"area\", \"sizeref\": 500}, \"mode\": \"markers\", \"x\": [95.12, 96.62, 62.33], \"y\": [67.77, 61.97, 73.6], \"type\": \"scatter\"}, {\"marker\": {\"color\": \"rgb(230, 99, 250)\", \"size\": [202035.0, 53331.0, 53084.0, 74486.0, 159605.0, 78572.0, 203278.0, 234292.0, 136049.0, 98389.0, 275061.0, 107127.0, 52340.0, 68720.0, 58482.0, 55802.0, 102810.0, 275983.0], \"sizemode\": \"area\", \"sizeref\": 500}, \"mode\": \"markers\", \"x\": [97.27, 73.49, 82.09, 82.33, 90.97, 93.9, 84.61, 98.37, 98.27, 92.4, 91.12, 67.1, 89.61, 91.57, 73.42, 94.38, 91.44, 96.91], \"y\": [87.82, 56.02, 16.83, 30.46, 59.29, 32.0, null, 86.96, 39.48, 35.99, 90.46, 47.71, 66.74, 82.32, null, 57.37, null, null], \"type\": \"scatter\"}, {\"marker\": {\"color\": \"rgb(99, 110, 250)\", \"size\": [31245.0, 13267.0, 13429.0, 16255.0, 35122.0, 46138.0, 20415.0, 38035.0, 25462.0, 10573.0, 27494.0, 28971.0, 30239.0, 18402.0, 21248.0, 18491.0, 21381.0, 39080.0, 43284.0, 30000.0, 24259.0, 46489.0, 10535.0, 16939.0, 23000.0, 14582.0, 35205.0], \"sizemode\": \"area\", \"sizeref\": 500}, \"mode\": \"markers\", \"x\": [87.39, null, 67.65, 82.1, 71.42, 86.11, 96.57, 74.77, 92.59, 76.89, 72.59, null, 99.08, 78.93, 96.39, 98.75, 98.66, 91.75, 84.27, 41.43, 97.59, 94.6, 50.03, 92.86, 83.83, 95.01, 96.37], \"y\": [null, null, null, null, 22.52, null, null, 15.3, 55.31, 20.48, 63.87, null, 44.04, null, null, 70.07, null, 23.57, 66.61, 50.28, 96.46, 82.46, 43.48, 22.99, null, 83.97, 46.85], \"type\": \"scatter\"}, {\"marker\": {\"color\": \"rgb(25, 211, 243)\", \"size\": [9536.0, 9234.0, 7872.0, 8075.0, 7063.0, 7850.0, 9558.0], \"sizemode\": \"area\", \"sizeref\": 500}, \"mode\": \"markers\", \"x\": [88.61, 94.74, 92.29, 91.47, 89.98, 98.61, 77.37], \"y\": [6.61, null, 58.75, null, 66.83, 80.83, null], \"type\": \"scatter\"}]}, {\"data\": [{\"marker\": {\"color\": \"rgb(171, 99, 250)\", \"size\": [2336119.0, 1537572.0, 581675.0], \"sizemode\": \"area\", \"sizeref\": 500}, \"mode\": \"markers\", \"x\": [97.52, 96.91, 66.67], \"y\": [70.77, 60.93, 84.08], \"type\": \"scatter\"}, {\"marker\": {\"color\": \"rgb(230, 99, 250)\", \"size\": [205570.0, 53692.13, 54380.0, 76330.0, 164115.0, 80458.0, 163705.0, 241255.0, 143848.0, 101060.0, 278018.0, 113147.0, 54743.0, 69304.0, 62032.0, 57521.0, 107124.0, 282850.0], \"sizemode\": \"area\", \"sizeref\": 500}, \"mode\": \"markers\", \"x\": [98.05, 84.35, 81.71, 81.15, 91.69, 93.98, 95.43, 99.43, 97.02, 93.61, 98.89, null, 91.29, 91.2, 71.62, 94.8, 89.95, 97.53], \"y\": [88.61, 57.68, 17.2, 40.14, 58.22, 31.25, null, 87.32, 37.44, 36.56, 98.19, null, 66.31, 81.86, null, 58.37, null, null], \"type\": \"scatter\"}, {\"marker\": {\"color\": \"rgb(99, 110, 250)\", \"size\": [32340.0, 15027.0, 14006.0, 16956.0, 35859.56, 48749.0, 23584.23, 38788.0, 26735.0, 10945.0, 28109.87, 28408.0, 32557.0, 18800.0, 15766.0, 19384.0, 21552.0, 18860.0, 21436.0, 43294.0, 31512.0, 26429.0, 24455.0, 47884.0, 10703.0, 18212.0, 28373.0, 15006.0, 37057.0, 31218.0], \"sizemode\": \"area\", \"sizeref\": 500}, \"mode\": \"markers\", \"x\": [88.27, 97.96, 66.97, 83.57, 71.72, 92.6, 91.04, 79.35, 92.95, 77.8, 71.72, 86.46, 97.13, 48.43, 88.57, 86.49, 98.53, 99.66, 100.0, 87.61, 91.65, 48.05, 99.75, 89.5, 50.93, 90.84, 71.6, 97.53, 94.78, 96.14], \"y\": [null, 21.06, null, null, 22.3, null, null, 16.15, 62.37, 29.6, 63.82, null, 39.19, 14.89, 43.41, null, null, 71.54, null, 21.65, 75.13, 61.33, 98.45, 74.89, 43.08, 27.78, null, 41.12, 45.24, 55.46], \"type\": \"scatter\"}, {\"marker\": {\"color\": \"rgb(25, 211, 243)\", \"size\": [8520.0, 5294.8, 9834.0, 9516.0, 7306.0, 8084.0, 4025.0, 8140.0, 7310.0, 8500.0, 9968.0, 4805.0, 4509.0], \"sizemode\": \"area\", \"sizeref\": 500}, \"mode\": \"markers\", \"x\": [59.8, 92.17, 90.1, 98.61, 87.87, 92.22, 92.35, 92.36, 89.88, 96.76, 77.85, 92.3, 98.89], \"y\": [48.24, null, 42.0, null, 85.48, 75.4, null, null, 65.8, 75.92, null, 62.43, null], \"type\": \"scatter\"}]}]);}).then(function(){Plotly.animate('01e6de7a-8ffc-462e-bb7f-3c1d64e2c793');})\n",
       "        });</script>"
      ],
      "text/vnd.plotly.v1+html": [
       "<div id=\"01e6de7a-8ffc-462e-bb7f-3c1d64e2c793\" style=\"height: 525px; width: 100%;\" class=\"plotly-graph-div\"></div><script type=\"text/javascript\">require([\"plotly\"], function(Plotly) { window.PLOTLYENV=window.PLOTLYENV || {};window.PLOTLYENV.BASE_URL=\"https://plot.ly\";\n",
       "        Plotly.plot(\n",
       "            '01e6de7a-8ffc-462e-bb7f-3c1d64e2c793',\n",
       "            [{\"marker\": {\"size\": [2217437.0, 1408130.0, 563622.0], \"sizemode\": \"area\", \"sizeref\": 500}, \"mode\": \"markers\", \"x\": [91.49, 98.24, 62.42], \"y\": [68.12, 63.03, 73.35], \"type\": \"scatter\", \"uid\": \"eb04ef5c-b513-11e8-a7c2-f0761c9f65e1\"}, {\"marker\": {\"size\": [198560.0, 50816.0, 51820.0, 74736.0, 154416.0, 74830.0, 195178.0, 226690.0, 131908.0, 93089.0, 301592.0, 101427.0, 50043.0, 68141.0, 55193.0, 54611.0, 99228.0, 269191.0], \"sizemode\": \"area\", \"sizeref\": 500}, \"mode\": \"markers\", \"x\": [94.8, 75.91, 81.21, 80.42, 90.79, 93.39, 81.98, 97.87, 97.65, 94.27, 88.0, null, 88.0, 88.0, 76.46, 95.77, 90.82, 93.42], \"y\": [87.1, 57.58, 16.4, 28.58, 60.35, 33.6, null, 86.48, 40.65, 37.46, 87.36, 39.1, 67.14, 82.14, null, 61.45, null, null], \"type\": \"scatter\", \"uid\": \"eb04ef5d-b513-11e8-8e5c-f0761c9f65e1\"}, {\"marker\": {\"size\": [29672.0, 12635.0, 12829.0, 15481.0, 34400.0, 43445.0, 15995.0, 37289.0, 23880.0, 10215.0, 27190.0, 24800.0, 25447.0, 14265.0, 20720.0, 18128.0, 20710.0, 37114.0, 42556.0, 24677.0, 24065.0, 45048.0, 10472.0, 15950.0, 23292.0, 14157.0, 33446.0], \"sizemode\": \"area\", \"sizeref\": 500}, \"mode\": \"markers\", \"x\": [91.8, null, 67.58, 90.92, 70.35, 82.91, null, 70.84, 96.53, 75.62, 72.53, null, 99.98, null, 87.23, 97.9, 96.93, 90.13, 84.13, 46.54, 95.31, 92.85, null, 94.1, null, null, 96.56], \"y\": [null, null, null, null, 22.6, null, null, 15.61, 57.31, 19.63, 73.7, null, 47.55, null, null, 67.08, null, 24.33, 66.46, 61.19, 94.3, 82.78, null, 14.24, null, null, 45.81], \"type\": \"scatter\", \"uid\": \"eb04ef5e-b513-11e8-aec3-f0761c9f65e1\"}, {\"marker\": {\"size\": [9230.0, 8949.0, 7611.0, 6686.0, 6825.0, 7554.0, 10000.0], \"sizemode\": \"area\", \"sizeref\": 500}, \"mode\": \"markers\", \"x\": [null, 92.05, null, null, null, 98.37, null], \"y\": [null, null, null, null, null, 82.81, null], \"type\": \"scatter\", \"uid\": \"eb04ef5f-b513-11e8-a182-f0761c9f65e1\"}],\n",
       "            {\"sliders\": [{\"active\": 0, \"currentvalue\": {\"font\": {\"size\": 20}, \"prefix\": \"text-before\", \"visible\": true, \"xanchor\": \"right\"}, \"pad\": {\"b\": 10, \"t\": 50}, \"steps\": [{\"args\": [{\"frame\": {\"duration\": 300, \"redraw\": false}, \"mode\": \"immediate\"}], \"label\": \"some-label\", \"method\": \"animate\", \"value\": \"2014\"}], \"transition\": {\"duration\": 300, \"easing\": \"cubic-in-out\"}, \"visible\": true, \"xanchor\": \"left\", \"yanchor\": \"top\"}], \"title\": \"Variables a trav\\u00e9s de los a\\u00f1os\", \"updatemenus\": [{\"buttons\": [{\"args\": [null], \"label\": \"Play\", \"method\": \"animate\"}, {\"args\": [null], \"label\": \"Pause\", \"method\": \"animate\"}], \"showactive\": false, \"type\": \"buttons\"}]},\n",
       "            {\"showLink\": true, \"linkText\": \"Export to plot.ly\"}\n",
       "        ).then(function () {return Plotly.addFrames('01e6de7a-8ffc-462e-bb7f-3c1d64e2c793',[{\"data\": [{\"marker\": {\"color\": \"rgb(171, 99, 250)\", \"size\": [2217437.0, 1408130.0, 563622.0], \"sizemode\": \"area\", \"sizeref\": 500}, \"mode\": \"markers\", \"x\": [91.49, 98.24, 62.42], \"y\": [68.12, 63.03, 73.35], \"type\": \"scatter\"}, {\"marker\": {\"color\": \"rgb(230, 99, 250)\", \"size\": [198560.0, 50816.0, 51820.0, 74736.0, 154416.0, 74830.0, 195178.0, 226690.0, 131908.0, 93089.0, 301592.0, 101427.0, 50043.0, 68141.0, 55193.0, 54611.0, 99228.0, 269191.0], \"sizemode\": \"area\", \"sizeref\": 500}, \"mode\": \"markers\", \"x\": [94.8, 75.91, 81.21, 80.42, 90.79, 93.39, 81.98, 97.87, 97.65, 94.27, 88.0, null, 88.0, 88.0, 76.46, 95.77, 90.82, 93.42], \"y\": [87.1, 57.58, 16.4, 28.58, 60.35, 33.6, null, 86.48, 40.65, 37.46, 87.36, 39.1, 67.14, 82.14, null, 61.45, null, null], \"type\": \"scatter\"}, {\"marker\": {\"color\": \"rgb(99, 110, 250)\", \"size\": [29672.0, 12635.0, 12829.0, 15481.0, 34400.0, 43445.0, 15995.0, 37289.0, 23880.0, 10215.0, 27190.0, 24800.0, 25447.0, 14265.0, 20720.0, 18128.0, 20710.0, 37114.0, 42556.0, 24677.0, 24065.0, 45048.0, 10472.0, 15950.0, 23292.0, 14157.0, 33446.0], \"sizemode\": \"area\", \"sizeref\": 500}, \"mode\": \"markers\", \"x\": [91.8, null, 67.58, 90.92, 70.35, 82.91, null, 70.84, 96.53, 75.62, 72.53, null, 99.98, null, 87.23, 97.9, 96.93, 90.13, 84.13, 46.54, 95.31, 92.85, null, 94.1, null, null, 96.56], \"y\": [null, null, null, null, 22.6, null, null, 15.61, 57.31, 19.63, 73.7, null, 47.55, null, null, 67.08, null, 24.33, 66.46, 61.19, 94.3, 82.78, null, 14.24, null, null, 45.81], \"type\": \"scatter\"}, {\"marker\": {\"color\": \"rgb(25, 211, 243)\", \"size\": [9230.0, 8949.0, 7611.0, 6686.0, 6825.0, 7554.0, 10000.0], \"sizemode\": \"area\", \"sizeref\": 500}, \"mode\": \"markers\", \"x\": [null, 92.05, null, null, null, 98.37, null], \"y\": [null, null, null, null, null, 82.81, null], \"type\": \"scatter\"}]}, {\"data\": [{\"marker\": {\"color\": \"rgb(171, 99, 250)\", \"size\": [2292942.0, 1485577.0, 572851.0], \"sizemode\": \"area\", \"sizeref\": 500}, \"mode\": \"markers\", \"x\": [95.12, 96.62, 62.33], \"y\": [67.77, 61.97, 73.6], \"type\": \"scatter\"}, {\"marker\": {\"color\": \"rgb(230, 99, 250)\", \"size\": [202035.0, 53331.0, 53084.0, 74486.0, 159605.0, 78572.0, 203278.0, 234292.0, 136049.0, 98389.0, 275061.0, 107127.0, 52340.0, 68720.0, 58482.0, 55802.0, 102810.0, 275983.0], \"sizemode\": \"area\", \"sizeref\": 500}, \"mode\": \"markers\", \"x\": [97.27, 73.49, 82.09, 82.33, 90.97, 93.9, 84.61, 98.37, 98.27, 92.4, 91.12, 67.1, 89.61, 91.57, 73.42, 94.38, 91.44, 96.91], \"y\": [87.82, 56.02, 16.83, 30.46, 59.29, 32.0, null, 86.96, 39.48, 35.99, 90.46, 47.71, 66.74, 82.32, null, 57.37, null, null], \"type\": \"scatter\"}, {\"marker\": {\"color\": \"rgb(99, 110, 250)\", \"size\": [31245.0, 13267.0, 13429.0, 16255.0, 35122.0, 46138.0, 20415.0, 38035.0, 25462.0, 10573.0, 27494.0, 28971.0, 30239.0, 18402.0, 21248.0, 18491.0, 21381.0, 39080.0, 43284.0, 30000.0, 24259.0, 46489.0, 10535.0, 16939.0, 23000.0, 14582.0, 35205.0], \"sizemode\": \"area\", \"sizeref\": 500}, \"mode\": \"markers\", \"x\": [87.39, null, 67.65, 82.1, 71.42, 86.11, 96.57, 74.77, 92.59, 76.89, 72.59, null, 99.08, 78.93, 96.39, 98.75, 98.66, 91.75, 84.27, 41.43, 97.59, 94.6, 50.03, 92.86, 83.83, 95.01, 96.37], \"y\": [null, null, null, null, 22.52, null, null, 15.3, 55.31, 20.48, 63.87, null, 44.04, null, null, 70.07, null, 23.57, 66.61, 50.28, 96.46, 82.46, 43.48, 22.99, null, 83.97, 46.85], \"type\": \"scatter\"}, {\"marker\": {\"color\": \"rgb(25, 211, 243)\", \"size\": [9536.0, 9234.0, 7872.0, 8075.0, 7063.0, 7850.0, 9558.0], \"sizemode\": \"area\", \"sizeref\": 500}, \"mode\": \"markers\", \"x\": [88.61, 94.74, 92.29, 91.47, 89.98, 98.61, 77.37], \"y\": [6.61, null, 58.75, null, 66.83, 80.83, null], \"type\": \"scatter\"}]}, {\"data\": [{\"marker\": {\"color\": \"rgb(171, 99, 250)\", \"size\": [2336119.0, 1537572.0, 581675.0], \"sizemode\": \"area\", \"sizeref\": 500}, \"mode\": \"markers\", \"x\": [97.52, 96.91, 66.67], \"y\": [70.77, 60.93, 84.08], \"type\": \"scatter\"}, {\"marker\": {\"color\": \"rgb(230, 99, 250)\", \"size\": [205570.0, 53692.13, 54380.0, 76330.0, 164115.0, 80458.0, 163705.0, 241255.0, 143848.0, 101060.0, 278018.0, 113147.0, 54743.0, 69304.0, 62032.0, 57521.0, 107124.0, 282850.0], \"sizemode\": \"area\", \"sizeref\": 500}, \"mode\": \"markers\", \"x\": [98.05, 84.35, 81.71, 81.15, 91.69, 93.98, 95.43, 99.43, 97.02, 93.61, 98.89, null, 91.29, 91.2, 71.62, 94.8, 89.95, 97.53], \"y\": [88.61, 57.68, 17.2, 40.14, 58.22, 31.25, null, 87.32, 37.44, 36.56, 98.19, null, 66.31, 81.86, null, 58.37, null, null], \"type\": \"scatter\"}, {\"marker\": {\"color\": \"rgb(99, 110, 250)\", \"size\": [32340.0, 15027.0, 14006.0, 16956.0, 35859.56, 48749.0, 23584.23, 38788.0, 26735.0, 10945.0, 28109.87, 28408.0, 32557.0, 18800.0, 15766.0, 19384.0, 21552.0, 18860.0, 21436.0, 43294.0, 31512.0, 26429.0, 24455.0, 47884.0, 10703.0, 18212.0, 28373.0, 15006.0, 37057.0, 31218.0], \"sizemode\": \"area\", \"sizeref\": 500}, \"mode\": \"markers\", \"x\": [88.27, 97.96, 66.97, 83.57, 71.72, 92.6, 91.04, 79.35, 92.95, 77.8, 71.72, 86.46, 97.13, 48.43, 88.57, 86.49, 98.53, 99.66, 100.0, 87.61, 91.65, 48.05, 99.75, 89.5, 50.93, 90.84, 71.6, 97.53, 94.78, 96.14], \"y\": [null, 21.06, null, null, 22.3, null, null, 16.15, 62.37, 29.6, 63.82, null, 39.19, 14.89, 43.41, null, null, 71.54, null, 21.65, 75.13, 61.33, 98.45, 74.89, 43.08, 27.78, null, 41.12, 45.24, 55.46], \"type\": \"scatter\"}, {\"marker\": {\"color\": \"rgb(25, 211, 243)\", \"size\": [8520.0, 5294.8, 9834.0, 9516.0, 7306.0, 8084.0, 4025.0, 8140.0, 7310.0, 8500.0, 9968.0, 4805.0, 4509.0], \"sizemode\": \"area\", \"sizeref\": 500}, \"mode\": \"markers\", \"x\": [59.8, 92.17, 90.1, 98.61, 87.87, 92.22, 92.35, 92.36, 89.88, 96.76, 77.85, 92.3, 98.89], \"y\": [48.24, null, 42.0, null, 85.48, 75.4, null, null, 65.8, 75.92, null, 62.43, null], \"type\": \"scatter\"}]}]);}).then(function(){Plotly.animate('01e6de7a-8ffc-462e-bb7f-3c1d64e2c793');})\n",
       "        });</script>"
      ]
     },
     "metadata": {},
     "output_type": "display_data"
    }
   ],
   "source": [
    "iplot(figure)"
   ]
  },
  {
   "cell_type": "code",
   "execution_count": 55,
   "metadata": {},
   "outputs": [],
   "source": [
    "variables_r = requests.get('https://peridash.ml/api/variables')\n",
    "variables_df = pd.read_json(variables_r.text)"
   ]
  },
  {
   "cell_type": "code",
   "execution_count": 71,
   "metadata": {},
   "outputs": [
    {
     "data": {
      "text/plain": [
       "'m3/periodo'"
      ]
     },
     "execution_count": 71,
     "metadata": {},
     "output_type": "execute_result"
    }
   ],
   "source": [
    "vdf = variables_df\n",
    "\n",
    "# vdf[vdf.var_id==3].name.iloc[0]\n",
    "\n",
    "vdf[vdf.var_id==3].unit.iloc[0]"
   ]
  },
  {
   "cell_type": "code",
   "execution_count": 115,
   "metadata": {},
   "outputs": [
    {
     "data": {
      "application/vnd.plotly.v1+json": {
       "data": [
        {
         "marker": {
          "color": "rgb(171, 99, 250)",
          "size": [
           2217437,
           1408130,
           563622
          ],
          "sizemode": "area",
          "sizeref": 500
         },
         "mode": "markers",
         "name": "Categoría: A",
         "text": [
          "EPSAS",
          "SAGUAPAC",
          "SEMAPA"
         ],
         "type": "scatter",
         "uid": "12087f64-b607-11e8-8ebe-f0761c9f65e1",
         "x": [
          74836680,
          70660663,
          29559736.14
         ],
         "y": [
          2217437,
          1408130,
          563622
         ]
        },
        {
         "marker": {
          "color": "rgb(230, 99, 250)",
          "size": [
           198560,
           50816,
           51820,
           74736,
           154416,
           74830,
           195178,
           226690,
           131908,
           93089,
           301592,
           101427,
           50043,
           68141,
           55193,
           54611,
           99228,
           269191
          ],
          "sizemode": "area",
          "sizeref": 500
         },
         "mode": "markers",
         "name": "Categoría: B",
         "text": [
          "AAPOS",
          "BUSTILLO",
          "CAPAG",
          "COATRI",
          "COOPAGUAS",
          "COOPAPPI",
          "COOPLAN",
          "COSAALT",
          "COSMOL",
          "COSPAIL",
          "ELAPAS",
          "EMAPAS",
          "EMAPAV",
          "EMAPYC",
          "EPSA COBIJA",
          "MANCHACO",
          "SAJUBA",
          "SELA"
         ],
         "type": "scatter",
         "uid": "12087f65-b607-11e8-ad37-f0761c9f65e1",
         "x": [
          9443501.2,
          1786963,
          1927200,
          3126989,
          7427191,
          4847703.63,
          6363799,
          15781087.58,
          6856509.02,
          3783505.91,
          9178866,
          null,
          1102217,
          3049154,
          2995920,
          3688625.48,
          3975603.4,
          11027404.74
         ],
         "y": [
          198560,
          50816,
          51820,
          74736,
          154416,
          74830,
          195178,
          226690,
          131908,
          93089,
          301592,
          101427,
          50043,
          68141,
          55193,
          54611,
          99228,
          269191
         ]
        },
        {
         "marker": {
          "color": "rgb(99, 110, 250)",
          "size": [
           29672,
           12635,
           12829,
           15481,
           34400,
           43445,
           15995,
           37289,
           23880,
           10215,
           27190,
           24800,
           25447,
           14265,
           20720,
           18128,
           20710,
           37114,
           42556,
           24677,
           24065,
           45048,
           10472,
           15950,
           23292,
           14157,
           33446
          ],
          "sizemode": "area",
          "sizeref": 500
         },
         "mode": "markers",
         "name": "Categoría: C",
         "text": [
          "CAPU",
          "COMAYO",
          "COOPAGUAB",
          "COOPLIM",
          "COOSIV",
          "COOSPELCAR",
          "COSAJU",
          "COSAP",
          "COSAPAC",
          "COSAPSI",
          "COSCHAL",
          "COSEPA",
          "COSEPA",
          "COSIMBO",
          "COSMIN",
          "COSMON",
          "COSPHUL",
          "COSPUGEBUL",
          "EMAAB",
          "EMAPA",
          "EMPSAAT",
          "EMSABAV",
          "FLORIDA",
          "LA GUARDIA",
          "LA PORTEÑA",
          "SAMAPAR",
          "SEAPAS"
         ],
         "type": "scatter",
         "uid": "12087f66-b607-11e8-84a8-f0761c9f65e1",
         "x": [
          476461.44,
          null,
          405016.56,
          387584,
          1311160.18,
          1563349,
          null,
          1629399,
          1684839.43,
          506328,
          1010727.5,
          null,
          1538736,
          null,
          830839.98,
          592722,
          1044104.6,
          1126494,
          2579803.2,
          null,
          null,
          1867122.86,
          null,
          652186.2,
          null,
          null,
          1225569.32
         ],
         "y": [
          29672,
          12635,
          12829,
          15481,
          34400,
          43445,
          15995,
          37289,
          23880,
          10215,
          27190,
          24800,
          25447,
          14265,
          20720,
          18128,
          20710,
          37114,
          42556,
          24677,
          24065,
          45048,
          10472,
          15950,
          23292,
          14157,
          33446
         ]
        },
        {
         "marker": {
          "color": "rgb(25, 211, 243)",
          "size": [
           9230,
           8949,
           7611,
           6686,
           6825,
           7554,
           10000
          ],
          "sizemode": "area",
          "sizeref": 500
         },
         "mode": "markers",
         "name": "Categoría: D",
         "text": [
          "CAPSCH",
          "COAPAS VINTO",
          "COOAPASH",
          "COSEPFA",
          "COSEPP",
          "COSERCA",
          "COSSAJA"
         ],
         "type": "scatter",
         "uid": "1208a66c-b607-11e8-a77b-f0761c9f65e1",
         "x": [
          null,
          137429.1,
          null,
          null,
          null,
          null,
          null
         ],
         "y": [
          9230,
          8949,
          7611,
          6686,
          6825,
          7554,
          10000
         ]
        }
       ],
       "frames": [
        {
         "data": [
          {
           "marker": {
            "color": "rgb(171, 99, 250)",
            "size": [
             2217437,
             1408130,
             563622
            ],
            "sizemode": "area",
            "sizeref": 500
           },
           "mode": "markers",
           "name": "Categoría: A",
           "text": [
            "EPSAS",
            "SAGUAPAC",
            "SEMAPA"
           ],
           "type": "scatter",
           "x": [
            74836680,
            70660663,
            29559736.14
           ],
           "y": [
            2217437,
            1408130,
            563622
           ]
          },
          {
           "marker": {
            "color": "rgb(230, 99, 250)",
            "size": [
             198560,
             50816,
             51820,
             74736,
             154416,
             74830,
             195178,
             226690,
             131908,
             93089,
             301592,
             101427,
             50043,
             68141,
             55193,
             54611,
             99228,
             269191
            ],
            "sizemode": "area",
            "sizeref": 500
           },
           "mode": "markers",
           "name": "Categoría: B",
           "text": [
            "AAPOS",
            "BUSTILLO",
            "CAPAG",
            "COATRI",
            "COOPAGUAS",
            "COOPAPPI",
            "COOPLAN",
            "COSAALT",
            "COSMOL",
            "COSPAIL",
            "ELAPAS",
            "EMAPAS",
            "EMAPAV",
            "EMAPYC",
            "EPSA COBIJA",
            "MANCHACO",
            "SAJUBA",
            "SELA"
           ],
           "type": "scatter",
           "x": [
            9443501.2,
            1786963,
            1927200,
            3126989,
            7427191,
            4847703.63,
            6363799,
            15781087.58,
            6856509.02,
            3783505.91,
            9178866,
            null,
            1102217,
            3049154,
            2995920,
            3688625.48,
            3975603.4,
            11027404.74
           ],
           "y": [
            198560,
            50816,
            51820,
            74736,
            154416,
            74830,
            195178,
            226690,
            131908,
            93089,
            301592,
            101427,
            50043,
            68141,
            55193,
            54611,
            99228,
            269191
           ]
          },
          {
           "marker": {
            "color": "rgb(99, 110, 250)",
            "size": [
             29672,
             12635,
             12829,
             15481,
             34400,
             43445,
             15995,
             37289,
             23880,
             10215,
             27190,
             24800,
             25447,
             14265,
             20720,
             18128,
             20710,
             37114,
             42556,
             24677,
             24065,
             45048,
             10472,
             15950,
             23292,
             14157,
             33446
            ],
            "sizemode": "area",
            "sizeref": 500
           },
           "mode": "markers",
           "name": "Categoría: C",
           "text": [
            "CAPU",
            "COMAYO",
            "COOPAGUAB",
            "COOPLIM",
            "COOSIV",
            "COOSPELCAR",
            "COSAJU",
            "COSAP",
            "COSAPAC",
            "COSAPSI",
            "COSCHAL",
            "COSEPA",
            "COSEPA",
            "COSIMBO",
            "COSMIN",
            "COSMON",
            "COSPHUL",
            "COSPUGEBUL",
            "EMAAB",
            "EMAPA",
            "EMPSAAT",
            "EMSABAV",
            "FLORIDA",
            "LA GUARDIA",
            "LA PORTEÑA",
            "SAMAPAR",
            "SEAPAS"
           ],
           "type": "scatter",
           "x": [
            476461.44,
            null,
            405016.56,
            387584,
            1311160.18,
            1563349,
            null,
            1629399,
            1684839.43,
            506328,
            1010727.5,
            null,
            1538736,
            null,
            830839.98,
            592722,
            1044104.6,
            1126494,
            2579803.2,
            null,
            null,
            1867122.86,
            null,
            652186.2,
            null,
            null,
            1225569.32
           ],
           "y": [
            29672,
            12635,
            12829,
            15481,
            34400,
            43445,
            15995,
            37289,
            23880,
            10215,
            27190,
            24800,
            25447,
            14265,
            20720,
            18128,
            20710,
            37114,
            42556,
            24677,
            24065,
            45048,
            10472,
            15950,
            23292,
            14157,
            33446
           ]
          },
          {
           "marker": {
            "color": "rgb(25, 211, 243)",
            "size": [
             9230,
             8949,
             7611,
             6686,
             6825,
             7554,
             10000
            ],
            "sizemode": "area",
            "sizeref": 500
           },
           "mode": "markers",
           "name": "Categoría: D",
           "text": [
            "CAPSCH",
            "COAPAS VINTO",
            "COOAPASH",
            "COSEPFA",
            "COSEPP",
            "COSERCA",
            "COSSAJA"
           ],
           "type": "scatter",
           "x": [
            null,
            137429.1,
            null,
            null,
            null,
            null,
            null
           ],
           "y": [
            9230,
            8949,
            7611,
            6686,
            6825,
            7554,
            10000
           ]
          }
         ],
         "name": "2014"
        },
        {
         "data": [
          {
           "marker": {
            "color": "rgb(171, 99, 250)",
            "size": [
             2292942,
             1485577,
             572851
            ],
            "sizemode": "area",
            "sizeref": 500
           },
           "mode": "markers",
           "name": "Categoría: A",
           "text": [
            "EPSAS",
            "SAGUAPAC",
            "SEMAPA"
           ],
           "type": "scatter",
           "x": [
            77330993,
            73129325,
            28373209.12
           ],
           "y": [
            2292942,
            1485577,
            572851
           ]
          },
          {
           "marker": {
            "color": "rgb(230, 99, 250)",
            "size": [
             202035,
             53331,
             53084,
             74486,
             159605,
             78572,
             203278,
             234292,
             136049,
             98389,
             275061,
             107127,
             52340,
             68720,
             58482,
             55802,
             102810,
             275983
            ],
            "sizemode": "area",
            "sizeref": 500
           },
           "mode": "markers",
           "name": "Categoría: B",
           "text": [
            "AAPOS",
            "BUSTILLO",
            "CAPAG",
            "COATRI",
            "COOPAGUAS",
            "COOPAPPI",
            "COOPLAN",
            "COSAALT",
            "COSMOL",
            "COSPAIL",
            "ELAPAS",
            "EMAPAS",
            "EMAPAV",
            "EMAPYC",
            "EPSA COBIJA",
            "MANCHACO",
            "SAJUBA",
            "SELA"
           ],
           "type": "scatter",
           "x": [
            9490852.8,
            2246279.04,
            2215639,
            2960171,
            7881284,
            4058522.45,
            6542079,
            14315726.74,
            7804258.24,
            3938716.18,
            10400068,
            1453411.8,
            1260274,
            3049370.51,
            3006326,
            null,
            3942185.17,
            11311977
           ],
           "y": [
            202035,
            53331,
            53084,
            74486,
            159605,
            78572,
            203278,
            234292,
            136049,
            98389,
            275061,
            107127,
            52340,
            68720,
            58482,
            55802,
            102810,
            275983
           ]
          },
          {
           "marker": {
            "color": "rgb(99, 110, 250)",
            "size": [
             31245,
             13267,
             13429,
             16255,
             35122,
             46138,
             20415,
             38035,
             25462,
             10573,
             27494,
             28971,
             30239,
             18402,
             21248,
             18491,
             21381,
             39080,
             43284,
             30000,
             24259,
             46489,
             10535,
             16939,
             23000,
             14582,
             35205
            ],
            "sizemode": "area",
            "sizeref": 500
           },
           "mode": "markers",
           "name": "Categoría: C",
           "text": [
            "CAPU",
            "COMAYO",
            "COOPAGUAB",
            "COOPLIM",
            "COOSIV",
            "COOSPELCAR",
            "COSAJU",
            "COSAP",
            "COSAPAC",
            "COSAPSI",
            "COSCHAL",
            "COSEPA",
            "COSEPA",
            "COSIMBO",
            "COSMIN",
            "COSMON",
            "COSPHUL",
            "COSPUGEBUL",
            "EMAAB",
            "EMAPA",
            "EMPSAAT",
            "EMSABAV",
            "FLORIDA",
            "LA GUARDIA",
            "LA PORTEÑA",
            "SAMAPAR",
            "SEAPAS"
           ],
           "type": "scatter",
           "x": [
            649956.96,
            null,
            395176,
            405526,
            1318757,
            2204500.35,
            740613,
            1713984,
            null,
            452404.41,
            1055415.6,
            1480734,
            null,
            409521.6,
            926727,
            692049,
            1033140.52,
            1275096.34,
            2317896,
            null,
            1174716,
            1651972.45,
            null,
            702187.25,
            763413.12,
            788400,
            861837
           ],
           "y": [
            31245,
            13267,
            13429,
            16255,
            35122,
            46138,
            20415,
            38035,
            25462,
            10573,
            27494,
            28971,
            30239,
            18402,
            21248,
            18491,
            21381,
            39080,
            43284,
            30000,
            24259,
            46489,
            10535,
            16939,
            23000,
            14582,
            35205
           ]
          },
          {
           "marker": {
            "color": "rgb(25, 211, 243)",
            "size": [
             9536,
             9234,
             7872,
             8075,
             7063,
             7850,
             9558
            ],
            "sizemode": "area",
            "sizeref": 500
           },
           "mode": "markers",
           "name": "Categoría: D",
           "text": [
            "CAPSCH",
            "COAPAS VINTO",
            "COOAPASH",
            "COSEPFA",
            "COSEPP",
            "COSERCA",
            "COSSAJA"
           ],
           "type": "scatter",
           "x": [
            null,
            147559.53,
            null,
            210468.67,
            197373.95,
            null,
            321141.6
           ],
           "y": [
            9536,
            9234,
            7872,
            8075,
            7063,
            7850,
            9558
           ]
          }
         ],
         "name": "2015"
        },
        {
         "data": [
          {
           "marker": {
            "color": "rgb(171, 99, 250)",
            "size": [
             2336119,
             1537572,
             581675
            ],
            "sizemode": "area",
            "sizeref": 500
           },
           "mode": "markers",
           "name": "Categoría: A",
           "text": [
            "EPSAS",
            "SAGUAPAC",
            "SEMAPA"
           ],
           "type": "scatter",
           "x": [
            76911778,
            74796574,
            22908181.39
           ],
           "y": [
            2336119,
            1537572,
            581675
           ]
          },
          {
           "marker": {
            "color": "rgb(230, 99, 250)",
            "size": [
             205570,
             53692.13,
             54380,
             76330,
             164115,
             80458,
             163705,
             241255,
             143848,
             101060,
             278018,
             113147,
             54743,
             69304,
             62032,
             57521,
             107124,
             282850
            ],
            "sizemode": "area",
            "sizeref": 500
           },
           "mode": "markers",
           "name": "Categoría: B",
           "text": [
            "AAPOS",
            "BUSTILLO",
            "CAPAG",
            "COATRI",
            "COOPAGUAS",
            "COOPAPPI",
            "COOPLAN",
            "COSAALT",
            "COSMOL",
            "COSPAIL",
            "ELAPAS",
            "EMAPAS",
            "EMAPAV",
            "EMAPYC",
            "EPSA COBIJA",
            "MANCHACO",
            "SAJUBA",
            "SELA"
           ],
           "type": "scatter",
           "x": [
            7870795.2,
            1721213.71,
            2166790,
            2837270,
            7990485,
            3922140.58,
            6635334,
            14447528.16,
            7779911.2,
            4257545,
            11293211,
            1155698,
            1118359,
            3089024.4,
            2918160,
            4162752,
            4246325.6,
            11507094
           ],
           "y": [
            205570,
            53692.13,
            54380,
            76330,
            164115,
            80458,
            163705,
            241255,
            143848,
            101060,
            278018,
            113147,
            54743,
            69304,
            62032,
            57521,
            107124,
            282850
           ]
          },
          {
           "marker": {
            "color": "rgb(99, 110, 250)",
            "size": [
             32340,
             15027,
             14006,
             16956,
             35859.56,
             48749,
             23584.23,
             38788,
             26735,
             10945,
             28109.87,
             28408,
             32557,
             18800,
             15766,
             19384,
             21552,
             18860,
             21436,
             43294,
             31512,
             26429,
             24455,
             47884,
             10703,
             18212,
             28373,
             15006,
             37057,
             31218
            ],
            "sizemode": "area",
            "sizeref": 500
           },
           "mode": "markers",
           "name": "Categoría: C",
           "text": [
            "CAPU",
            "COMAYO",
            "COOPAGUAB",
            "COOPLIM",
            "COOSIV",
            "COOSPELCAR",
            "COSAJU",
            "COSAP",
            "COSAPAC",
            "COSAPSI",
            "COSCHAL",
            "COSEPA",
            "COSEPA",
            "COSEPCO",
            "COSEPUR",
            "COSIMBO",
            "COSMIN",
            "COSMON",
            "COSPHUL",
            "COSPUGEBUL",
            "EMAAB",
            "EMAPA",
            "EMPSAAT",
            "EMSABAV",
            "FLORIDA",
            "LA GUARDIA",
            "LA PORTEÑA",
            "SAMAPAR",
            "SEAPAS",
            "SMAPA"
           ],
           "type": "scatter",
           "x": [
            627830,
            750000,
            402567.19,
            428145,
            1445775,
            2047609,
            801124,
            1882527,
            2325768,
            415205.2,
            1072638.6,
            null,
            1604515,
            258574,
            1013504,
            534999.6,
            951041,
            713463,
            1005508.8,
            1327935.8,
            2903785,
            339841.44,
            1062816,
            1686005.45,
            303912,
            680767,
            961812,
            889315,
            925562,
            527703.42
           ],
           "y": [
            32340,
            15027,
            14006,
            16956,
            35859.56,
            48749,
            23584.23,
            38788,
            26735,
            10945,
            28109.87,
            28408,
            32557,
            18800,
            15766,
            19384,
            21552,
            18860,
            21436,
            43294,
            31512,
            26429,
            24455,
            47884,
            10703,
            18212,
            28373,
            15006,
            37057,
            31218
           ]
          },
          {
           "marker": {
            "color": "rgb(25, 211, 243)",
            "size": [
             8520,
             5294.8,
             9834,
             9516,
             7306,
             8084,
             4025,
             8140,
             7310,
             8500,
             9968,
             4805,
             4509
            ],
            "sizemode": "area",
            "sizeref": 500
           },
           "mode": "markers",
           "name": "Categoría: D",
           "text": [
            "ASOAPAL",
            "CAPCHI",
            "CAPSCH",
            "COAPAS VINTO",
            "COLOMI",
            "COOAPASH",
            "COSAJO",
            "COSEPFA",
            "COSEPP",
            "COSERCA",
            "COSSAJA",
            "JASAP",
            "JOROCHITO"
           ],
           "type": "scatter",
           "x": [
            null,
            null,
            null,
            133546.28,
            null,
            null,
            161618,
            214976.16,
            164371.64,
            500803,
            488808,
            null,
            251806
           ],
           "y": [
            8520,
            5294.8,
            9834,
            9516,
            7306,
            8084,
            4025,
            8140,
            7310,
            8500,
            9968,
            4805,
            4509
           ]
          }
         ],
         "name": "2016"
        }
       ],
       "layout": {
        "dragmode": "lasso",
        "height": 700,
        "hovermode": "closest",
        "plot_bgcolor": "#dfe8f3",
        "sliders": [
         {
          "active": 0,
          "currentvalue": {
           "font": {
            "size": 20
           },
           "prefix": "Año: ",
           "visible": true,
           "xanchor": "right"
          },
          "len": 0.9,
          "pad": {
           "b": 10,
           "t": 50
          },
          "steps": [
           {
            "args": [
             [
              "2014"
             ],
             {
              "frame": {
               "duration": 700,
               "redraw": false
              },
              "fromcurrent": true,
              "transition": {
               "duration": 700,
               "easing": "cubic-in-out"
              }
             }
            ],
            "label": "2014",
            "method": "animate"
           },
           {
            "args": [
             [
              "2015"
             ],
             {
              "frame": {
               "duration": 700,
               "redraw": false
              },
              "fromcurrent": true,
              "transition": {
               "duration": 700,
               "easing": "cubic-in-out"
              }
             }
            ],
            "label": "2015",
            "method": "animate"
           },
           {
            "args": [
             [
              "2016"
             ],
             {
              "frame": {
               "duration": 700,
               "redraw": false
              },
              "fromcurrent": true,
              "transition": {
               "duration": 700,
               "easing": "cubic-in-out"
              }
             }
            ],
            "label": "2016",
            "method": "animate"
           }
          ],
          "x": 0.1,
          "xanchor": "left",
          "y": 0,
          "yanchor": "top"
         }
        ],
        "updatemenus": [
         {
          "buttons": [
           {
            "args": [
             [
              "2014",
              "2015",
              "2016"
             ],
             {
              "frame": {
               "duration": 700,
               "redraw": false
              },
              "fromcurrent": true,
              "transition": {
               "duration": 700,
               "easing": "cubic-in-out"
              }
             }
            ],
            "label": "Animar",
            "method": "animate"
           }
          ],
          "direction": "left",
          "pad": {
           "r": 10,
           "t": 87
          },
          "showactive": false,
          "type": "buttons",
          "x": 0.1,
          "xanchor": "right",
          "y": 0,
          "yanchor": "top"
         }
        ],
        "width": 1000,
        "xaxis": {
         "title": "Variable 3: Volumen de agua potable producido (Planta de tratamiento y/o tanque de desinfección) (m3/periodo)"
        },
        "yaxis": {
         "title": "Variable 22: Población total (Del área de servicio autorizado) (hab.)"
        }
       }
      },
      "text/html": [
       "<div id=\"ec37531e-5cbe-47ec-b4f8-b5a3619ac4c1\" style=\"height: 700px; width: 1000px;\" class=\"plotly-graph-div\"></div><script type=\"text/javascript\">require([\"plotly\"], function(Plotly) { window.PLOTLYENV=window.PLOTLYENV || {};window.PLOTLYENV.BASE_URL=\"https://plot.ly\";\n",
       "        Plotly.plot(\n",
       "            'ec37531e-5cbe-47ec-b4f8-b5a3619ac4c1',\n",
       "            [{\"marker\": {\"color\": \"rgb(171, 99, 250)\", \"size\": [2217437.0, 1408130.0, 563622.0], \"sizemode\": \"area\", \"sizeref\": 500}, \"mode\": \"markers\", \"name\": \"Categor\\u00eda: A\", \"text\": [\"EPSAS\", \"SAGUAPAC\", \"SEMAPA\"], \"x\": [74836680.0, 70660663.0, 29559736.14], \"y\": [2217437.0, 1408130.0, 563622.0], \"type\": \"scatter\", \"uid\": \"1227266e-b607-11e8-9f12-f0761c9f65e1\"}, {\"marker\": {\"color\": \"rgb(230, 99, 250)\", \"size\": [198560.0, 50816.0, 51820.0, 74736.0, 154416.0, 74830.0, 195178.0, 226690.0, 131908.0, 93089.0, 301592.0, 101427.0, 50043.0, 68141.0, 55193.0, 54611.0, 99228.0, 269191.0], \"sizemode\": \"area\", \"sizeref\": 500}, \"mode\": \"markers\", \"name\": \"Categor\\u00eda: B\", \"text\": [\"AAPOS\", \"BUSTILLO\", \"CAPAG\", \"COATRI\", \"COOPAGUAS\", \"COOPAPPI\", \"COOPLAN\", \"COSAALT\", \"COSMOL\", \"COSPAIL\", \"ELAPAS\", \"EMAPAS\", \"EMAPAV\", \"EMAPYC\", \"EPSA COBIJA\", \"MANCHACO\", \"SAJUBA\", \"SELA\"], \"x\": [9443501.2, 1786963.0, 1927200.0, 3126989.0, 7427191.0, 4847703.63, 6363799.0, 15781087.58, 6856509.02, 3783505.91, 9178866.0, null, 1102217.0, 3049154.0, 2995920.0, 3688625.48, 3975603.4, 11027404.74], \"y\": [198560.0, 50816.0, 51820.0, 74736.0, 154416.0, 74830.0, 195178.0, 226690.0, 131908.0, 93089.0, 301592.0, 101427.0, 50043.0, 68141.0, 55193.0, 54611.0, 99228.0, 269191.0], \"type\": \"scatter\", \"uid\": \"1227266f-b607-11e8-a89a-f0761c9f65e1\"}, {\"marker\": {\"color\": \"rgb(99, 110, 250)\", \"size\": [29672.0, 12635.0, 12829.0, 15481.0, 34400.0, 43445.0, 15995.0, 37289.0, 23880.0, 10215.0, 27190.0, 24800.0, 25447.0, 14265.0, 20720.0, 18128.0, 20710.0, 37114.0, 42556.0, 24677.0, 24065.0, 45048.0, 10472.0, 15950.0, 23292.0, 14157.0, 33446.0], \"sizemode\": \"area\", \"sizeref\": 500}, \"mode\": \"markers\", \"name\": \"Categor\\u00eda: C\", \"text\": [\"CAPU\", \"COMAYO\", \"COOPAGUAB\", \"COOPLIM\", \"COOSIV\", \"COOSPELCAR\", \"COSAJU\", \"COSAP\", \"COSAPAC\", \"COSAPSI\", \"COSCHAL\", \"COSEPA\", \"COSEPA\", \"COSIMBO\", \"COSMIN\", \"COSMON\", \"COSPHUL\", \"COSPUGEBUL\", \"EMAAB\", \"EMAPA\", \"EMPSAAT\", \"EMSABAV\", \"FLORIDA\", \"LA GUARDIA\", \"LA PORTE\\u00d1A\", \"SAMAPAR\", \"SEAPAS\"], \"x\": [476461.44, null, 405016.56, 387584.0, 1311160.18, 1563349.0, null, 1629399.0, 1684839.43, 506328.0, 1010727.5, null, 1538736.0, null, 830839.98, 592722.0, 1044104.6, 1126494.0, 2579803.2, null, null, 1867122.86, null, 652186.2, null, null, 1225569.32], \"y\": [29672.0, 12635.0, 12829.0, 15481.0, 34400.0, 43445.0, 15995.0, 37289.0, 23880.0, 10215.0, 27190.0, 24800.0, 25447.0, 14265.0, 20720.0, 18128.0, 20710.0, 37114.0, 42556.0, 24677.0, 24065.0, 45048.0, 10472.0, 15950.0, 23292.0, 14157.0, 33446.0], \"type\": \"scatter\", \"uid\": \"12272670-b607-11e8-b4ea-f0761c9f65e1\"}, {\"marker\": {\"color\": \"rgb(25, 211, 243)\", \"size\": [9230.0, 8949.0, 7611.0, 6686.0, 6825.0, 7554.0, 10000.0], \"sizemode\": \"area\", \"sizeref\": 500}, \"mode\": \"markers\", \"name\": \"Categor\\u00eda: D\", \"text\": [\"CAPSCH\", \"COAPAS VINTO\", \"COOAPASH\", \"COSEPFA\", \"COSEPP\", \"COSERCA\", \"COSSAJA\"], \"x\": [null, 137429.1, null, null, null, null, null], \"y\": [9230.0, 8949.0, 7611.0, 6686.0, 6825.0, 7554.0, 10000.0], \"type\": \"scatter\", \"uid\": \"12272671-b607-11e8-b43c-f0761c9f65e1\"}],\n",
       "            {\"dragmode\": \"lasso\", \"height\": 700, \"hovermode\": \"closest\", \"plot_bgcolor\": \"#dfe8f3\", \"sliders\": [{\"active\": 0, \"currentvalue\": {\"font\": {\"size\": 20}, \"prefix\": \"A\\u00f1o: \", \"visible\": true, \"xanchor\": \"right\"}, \"len\": 0.9, \"pad\": {\"b\": 10, \"t\": 50}, \"steps\": [{\"args\": [[\"2014\"], {\"frame\": {\"duration\": 700, \"redraw\": false}, \"fromcurrent\": true, \"transition\": {\"duration\": 700, \"easing\": \"cubic-in-out\"}}], \"label\": \"2014\", \"method\": \"animate\"}, {\"args\": [[\"2015\"], {\"frame\": {\"duration\": 700, \"redraw\": false}, \"fromcurrent\": true, \"transition\": {\"duration\": 700, \"easing\": \"cubic-in-out\"}}], \"label\": \"2015\", \"method\": \"animate\"}, {\"args\": [[\"2016\"], {\"frame\": {\"duration\": 700, \"redraw\": false}, \"fromcurrent\": true, \"transition\": {\"duration\": 700, \"easing\": \"cubic-in-out\"}}], \"label\": \"2016\", \"method\": \"animate\"}], \"x\": 0.1, \"xanchor\": \"left\", \"y\": 0, \"yanchor\": \"top\"}], \"updatemenus\": [{\"buttons\": [{\"args\": [[\"2014\", \"2015\", \"2016\"], {\"frame\": {\"duration\": 700, \"redraw\": false}, \"fromcurrent\": true, \"transition\": {\"duration\": 700, \"easing\": \"cubic-in-out\"}}], \"label\": \"Animar\", \"method\": \"animate\"}], \"direction\": \"left\", \"pad\": {\"r\": 10, \"t\": 87}, \"showactive\": false, \"type\": \"buttons\", \"x\": 0.1, \"xanchor\": \"right\", \"y\": 0, \"yanchor\": \"top\"}], \"width\": 1000, \"xaxis\": {\"title\": \"Variable 3: Volumen de agua potable producido (Planta de tratamiento y/o tanque de desinfecci\\u00f3n) (m3/periodo)\"}, \"yaxis\": {\"title\": \"Variable 22: Poblaci\\u00f3n total (Del \\u00e1rea de servicio autorizado) (hab.)\"}},\n",
       "            {\"showLink\": true, \"linkText\": \"Export to plot.ly\"}\n",
       "        ).then(function () {return Plotly.addFrames('ec37531e-5cbe-47ec-b4f8-b5a3619ac4c1',[{\"data\": [{\"marker\": {\"color\": \"rgb(171, 99, 250)\", \"size\": [2217437.0, 1408130.0, 563622.0], \"sizemode\": \"area\", \"sizeref\": 500}, \"mode\": \"markers\", \"name\": \"Categor\\u00eda: A\", \"text\": [\"EPSAS\", \"SAGUAPAC\", \"SEMAPA\"], \"x\": [74836680.0, 70660663.0, 29559736.14], \"y\": [2217437.0, 1408130.0, 563622.0], \"type\": \"scatter\"}, {\"marker\": {\"color\": \"rgb(230, 99, 250)\", \"size\": [198560.0, 50816.0, 51820.0, 74736.0, 154416.0, 74830.0, 195178.0, 226690.0, 131908.0, 93089.0, 301592.0, 101427.0, 50043.0, 68141.0, 55193.0, 54611.0, 99228.0, 269191.0], \"sizemode\": \"area\", \"sizeref\": 500}, \"mode\": \"markers\", \"name\": \"Categor\\u00eda: B\", \"text\": [\"AAPOS\", \"BUSTILLO\", \"CAPAG\", \"COATRI\", \"COOPAGUAS\", \"COOPAPPI\", \"COOPLAN\", \"COSAALT\", \"COSMOL\", \"COSPAIL\", \"ELAPAS\", \"EMAPAS\", \"EMAPAV\", \"EMAPYC\", \"EPSA COBIJA\", \"MANCHACO\", \"SAJUBA\", \"SELA\"], \"x\": [9443501.2, 1786963.0, 1927200.0, 3126989.0, 7427191.0, 4847703.63, 6363799.0, 15781087.58, 6856509.02, 3783505.91, 9178866.0, null, 1102217.0, 3049154.0, 2995920.0, 3688625.48, 3975603.4, 11027404.74], \"y\": [198560.0, 50816.0, 51820.0, 74736.0, 154416.0, 74830.0, 195178.0, 226690.0, 131908.0, 93089.0, 301592.0, 101427.0, 50043.0, 68141.0, 55193.0, 54611.0, 99228.0, 269191.0], \"type\": \"scatter\"}, {\"marker\": {\"color\": \"rgb(99, 110, 250)\", \"size\": [29672.0, 12635.0, 12829.0, 15481.0, 34400.0, 43445.0, 15995.0, 37289.0, 23880.0, 10215.0, 27190.0, 24800.0, 25447.0, 14265.0, 20720.0, 18128.0, 20710.0, 37114.0, 42556.0, 24677.0, 24065.0, 45048.0, 10472.0, 15950.0, 23292.0, 14157.0, 33446.0], \"sizemode\": \"area\", \"sizeref\": 500}, \"mode\": \"markers\", \"name\": \"Categor\\u00eda: C\", \"text\": [\"CAPU\", \"COMAYO\", \"COOPAGUAB\", \"COOPLIM\", \"COOSIV\", \"COOSPELCAR\", \"COSAJU\", \"COSAP\", \"COSAPAC\", \"COSAPSI\", \"COSCHAL\", \"COSEPA\", \"COSEPA\", \"COSIMBO\", \"COSMIN\", \"COSMON\", \"COSPHUL\", \"COSPUGEBUL\", \"EMAAB\", \"EMAPA\", \"EMPSAAT\", \"EMSABAV\", \"FLORIDA\", \"LA GUARDIA\", \"LA PORTE\\u00d1A\", \"SAMAPAR\", \"SEAPAS\"], \"x\": [476461.44, null, 405016.56, 387584.0, 1311160.18, 1563349.0, null, 1629399.0, 1684839.43, 506328.0, 1010727.5, null, 1538736.0, null, 830839.98, 592722.0, 1044104.6, 1126494.0, 2579803.2, null, null, 1867122.86, null, 652186.2, null, null, 1225569.32], \"y\": [29672.0, 12635.0, 12829.0, 15481.0, 34400.0, 43445.0, 15995.0, 37289.0, 23880.0, 10215.0, 27190.0, 24800.0, 25447.0, 14265.0, 20720.0, 18128.0, 20710.0, 37114.0, 42556.0, 24677.0, 24065.0, 45048.0, 10472.0, 15950.0, 23292.0, 14157.0, 33446.0], \"type\": \"scatter\"}, {\"marker\": {\"color\": \"rgb(25, 211, 243)\", \"size\": [9230.0, 8949.0, 7611.0, 6686.0, 6825.0, 7554.0, 10000.0], \"sizemode\": \"area\", \"sizeref\": 500}, \"mode\": \"markers\", \"name\": \"Categor\\u00eda: D\", \"text\": [\"CAPSCH\", \"COAPAS VINTO\", \"COOAPASH\", \"COSEPFA\", \"COSEPP\", \"COSERCA\", \"COSSAJA\"], \"x\": [null, 137429.1, null, null, null, null, null], \"y\": [9230.0, 8949.0, 7611.0, 6686.0, 6825.0, 7554.0, 10000.0], \"type\": \"scatter\"}], \"name\": \"2014\"}, {\"data\": [{\"marker\": {\"color\": \"rgb(171, 99, 250)\", \"size\": [2292942.0, 1485577.0, 572851.0], \"sizemode\": \"area\", \"sizeref\": 500}, \"mode\": \"markers\", \"name\": \"Categor\\u00eda: A\", \"text\": [\"EPSAS\", \"SAGUAPAC\", \"SEMAPA\"], \"x\": [77330993.0, 73129325.0, 28373209.12], \"y\": [2292942.0, 1485577.0, 572851.0], \"type\": \"scatter\"}, {\"marker\": {\"color\": \"rgb(230, 99, 250)\", \"size\": [202035.0, 53331.0, 53084.0, 74486.0, 159605.0, 78572.0, 203278.0, 234292.0, 136049.0, 98389.0, 275061.0, 107127.0, 52340.0, 68720.0, 58482.0, 55802.0, 102810.0, 275983.0], \"sizemode\": \"area\", \"sizeref\": 500}, \"mode\": \"markers\", \"name\": \"Categor\\u00eda: B\", \"text\": [\"AAPOS\", \"BUSTILLO\", \"CAPAG\", \"COATRI\", \"COOPAGUAS\", \"COOPAPPI\", \"COOPLAN\", \"COSAALT\", \"COSMOL\", \"COSPAIL\", \"ELAPAS\", \"EMAPAS\", \"EMAPAV\", \"EMAPYC\", \"EPSA COBIJA\", \"MANCHACO\", \"SAJUBA\", \"SELA\"], \"x\": [9490852.8, 2246279.04, 2215639.0, 2960171.0, 7881284.0, 4058522.45, 6542079.0, 14315726.74, 7804258.24, 3938716.18, 10400068.0, 1453411.8, 1260274.0, 3049370.51, 3006326.0, null, 3942185.17, 11311977.0], \"y\": [202035.0, 53331.0, 53084.0, 74486.0, 159605.0, 78572.0, 203278.0, 234292.0, 136049.0, 98389.0, 275061.0, 107127.0, 52340.0, 68720.0, 58482.0, 55802.0, 102810.0, 275983.0], \"type\": \"scatter\"}, {\"marker\": {\"color\": \"rgb(99, 110, 250)\", \"size\": [31245.0, 13267.0, 13429.0, 16255.0, 35122.0, 46138.0, 20415.0, 38035.0, 25462.0, 10573.0, 27494.0, 28971.0, 30239.0, 18402.0, 21248.0, 18491.0, 21381.0, 39080.0, 43284.0, 30000.0, 24259.0, 46489.0, 10535.0, 16939.0, 23000.0, 14582.0, 35205.0], \"sizemode\": \"area\", \"sizeref\": 500}, \"mode\": \"markers\", \"name\": \"Categor\\u00eda: C\", \"text\": [\"CAPU\", \"COMAYO\", \"COOPAGUAB\", \"COOPLIM\", \"COOSIV\", \"COOSPELCAR\", \"COSAJU\", \"COSAP\", \"COSAPAC\", \"COSAPSI\", \"COSCHAL\", \"COSEPA\", \"COSEPA\", \"COSIMBO\", \"COSMIN\", \"COSMON\", \"COSPHUL\", \"COSPUGEBUL\", \"EMAAB\", \"EMAPA\", \"EMPSAAT\", \"EMSABAV\", \"FLORIDA\", \"LA GUARDIA\", \"LA PORTE\\u00d1A\", \"SAMAPAR\", \"SEAPAS\"], \"x\": [649956.96, null, 395176.0, 405526.0, 1318757.0, 2204500.35, 740613.0, 1713984.0, null, 452404.41, 1055415.6, 1480734.0, null, 409521.6, 926727.0, 692049.0, 1033140.52, 1275096.34, 2317896.0, null, 1174716.0, 1651972.45, null, 702187.25, 763413.12, 788400.0, 861837.0], \"y\": [31245.0, 13267.0, 13429.0, 16255.0, 35122.0, 46138.0, 20415.0, 38035.0, 25462.0, 10573.0, 27494.0, 28971.0, 30239.0, 18402.0, 21248.0, 18491.0, 21381.0, 39080.0, 43284.0, 30000.0, 24259.0, 46489.0, 10535.0, 16939.0, 23000.0, 14582.0, 35205.0], \"type\": \"scatter\"}, {\"marker\": {\"color\": \"rgb(25, 211, 243)\", \"size\": [9536.0, 9234.0, 7872.0, 8075.0, 7063.0, 7850.0, 9558.0], \"sizemode\": \"area\", \"sizeref\": 500}, \"mode\": \"markers\", \"name\": \"Categor\\u00eda: D\", \"text\": [\"CAPSCH\", \"COAPAS VINTO\", \"COOAPASH\", \"COSEPFA\", \"COSEPP\", \"COSERCA\", \"COSSAJA\"], \"x\": [null, 147559.53, null, 210468.67, 197373.95, null, 321141.6], \"y\": [9536.0, 9234.0, 7872.0, 8075.0, 7063.0, 7850.0, 9558.0], \"type\": \"scatter\"}], \"name\": \"2015\"}, {\"data\": [{\"marker\": {\"color\": \"rgb(171, 99, 250)\", \"size\": [2336119.0, 1537572.0, 581675.0], \"sizemode\": \"area\", \"sizeref\": 500}, \"mode\": \"markers\", \"name\": \"Categor\\u00eda: A\", \"text\": [\"EPSAS\", \"SAGUAPAC\", \"SEMAPA\"], \"x\": [76911778.0, 74796574.0, 22908181.39], \"y\": [2336119.0, 1537572.0, 581675.0], \"type\": \"scatter\"}, {\"marker\": {\"color\": \"rgb(230, 99, 250)\", \"size\": [205570.0, 53692.13, 54380.0, 76330.0, 164115.0, 80458.0, 163705.0, 241255.0, 143848.0, 101060.0, 278018.0, 113147.0, 54743.0, 69304.0, 62032.0, 57521.0, 107124.0, 282850.0], \"sizemode\": \"area\", \"sizeref\": 500}, \"mode\": \"markers\", \"name\": \"Categor\\u00eda: B\", \"text\": [\"AAPOS\", \"BUSTILLO\", \"CAPAG\", \"COATRI\", \"COOPAGUAS\", \"COOPAPPI\", \"COOPLAN\", \"COSAALT\", \"COSMOL\", \"COSPAIL\", \"ELAPAS\", \"EMAPAS\", \"EMAPAV\", \"EMAPYC\", \"EPSA COBIJA\", \"MANCHACO\", \"SAJUBA\", \"SELA\"], \"x\": [7870795.2, 1721213.71, 2166790.0, 2837270.0, 7990485.0, 3922140.58, 6635334.0, 14447528.16, 7779911.2, 4257545.0, 11293211.0, 1155698.0, 1118359.0, 3089024.4, 2918160.0, 4162752.0, 4246325.6, 11507094.0], \"y\": [205570.0, 53692.13, 54380.0, 76330.0, 164115.0, 80458.0, 163705.0, 241255.0, 143848.0, 101060.0, 278018.0, 113147.0, 54743.0, 69304.0, 62032.0, 57521.0, 107124.0, 282850.0], \"type\": \"scatter\"}, {\"marker\": {\"color\": \"rgb(99, 110, 250)\", \"size\": [32340.0, 15027.0, 14006.0, 16956.0, 35859.56, 48749.0, 23584.23, 38788.0, 26735.0, 10945.0, 28109.87, 28408.0, 32557.0, 18800.0, 15766.0, 19384.0, 21552.0, 18860.0, 21436.0, 43294.0, 31512.0, 26429.0, 24455.0, 47884.0, 10703.0, 18212.0, 28373.0, 15006.0, 37057.0, 31218.0], \"sizemode\": \"area\", \"sizeref\": 500}, \"mode\": \"markers\", \"name\": \"Categor\\u00eda: C\", \"text\": [\"CAPU\", \"COMAYO\", \"COOPAGUAB\", \"COOPLIM\", \"COOSIV\", \"COOSPELCAR\", \"COSAJU\", \"COSAP\", \"COSAPAC\", \"COSAPSI\", \"COSCHAL\", \"COSEPA\", \"COSEPA\", \"COSEPCO\", \"COSEPUR\", \"COSIMBO\", \"COSMIN\", \"COSMON\", \"COSPHUL\", \"COSPUGEBUL\", \"EMAAB\", \"EMAPA\", \"EMPSAAT\", \"EMSABAV\", \"FLORIDA\", \"LA GUARDIA\", \"LA PORTE\\u00d1A\", \"SAMAPAR\", \"SEAPAS\", \"SMAPA\"], \"x\": [627830.0, 750000.0, 402567.19, 428145.0, 1445775.0, 2047609.0, 801124.0, 1882527.0, 2325768.0, 415205.2, 1072638.6, null, 1604515.0, 258574.0, 1013504.0, 534999.6, 951041.0, 713463.0, 1005508.8, 1327935.8, 2903785.0, 339841.44, 1062816.0, 1686005.45, 303912.0, 680767.0, 961812.0, 889315.0, 925562.0, 527703.42], \"y\": [32340.0, 15027.0, 14006.0, 16956.0, 35859.56, 48749.0, 23584.23, 38788.0, 26735.0, 10945.0, 28109.87, 28408.0, 32557.0, 18800.0, 15766.0, 19384.0, 21552.0, 18860.0, 21436.0, 43294.0, 31512.0, 26429.0, 24455.0, 47884.0, 10703.0, 18212.0, 28373.0, 15006.0, 37057.0, 31218.0], \"type\": \"scatter\"}, {\"marker\": {\"color\": \"rgb(25, 211, 243)\", \"size\": [8520.0, 5294.8, 9834.0, 9516.0, 7306.0, 8084.0, 4025.0, 8140.0, 7310.0, 8500.0, 9968.0, 4805.0, 4509.0], \"sizemode\": \"area\", \"sizeref\": 500}, \"mode\": \"markers\", \"name\": \"Categor\\u00eda: D\", \"text\": [\"ASOAPAL\", \"CAPCHI\", \"CAPSCH\", \"COAPAS VINTO\", \"COLOMI\", \"COOAPASH\", \"COSAJO\", \"COSEPFA\", \"COSEPP\", \"COSERCA\", \"COSSAJA\", \"JASAP\", \"JOROCHITO\"], \"x\": [null, null, null, 133546.28, null, null, 161618.0, 214976.16, 164371.64, 500803.0, 488808.0, null, 251806.0], \"y\": [8520.0, 5294.8, 9834.0, 9516.0, 7306.0, 8084.0, 4025.0, 8140.0, 7310.0, 8500.0, 9968.0, 4805.0, 4509.0], \"type\": \"scatter\"}], \"name\": \"2016\"}]);}).then(function(){Plotly.animate('ec37531e-5cbe-47ec-b4f8-b5a3619ac4c1');})\n",
       "        });</script>"
      ],
      "text/vnd.plotly.v1+html": [
       "<div id=\"ec37531e-5cbe-47ec-b4f8-b5a3619ac4c1\" style=\"height: 700px; width: 1000px;\" class=\"plotly-graph-div\"></div><script type=\"text/javascript\">require([\"plotly\"], function(Plotly) { window.PLOTLYENV=window.PLOTLYENV || {};window.PLOTLYENV.BASE_URL=\"https://plot.ly\";\n",
       "        Plotly.plot(\n",
       "            'ec37531e-5cbe-47ec-b4f8-b5a3619ac4c1',\n",
       "            [{\"marker\": {\"color\": \"rgb(171, 99, 250)\", \"size\": [2217437.0, 1408130.0, 563622.0], \"sizemode\": \"area\", \"sizeref\": 500}, \"mode\": \"markers\", \"name\": \"Categor\\u00eda: A\", \"text\": [\"EPSAS\", \"SAGUAPAC\", \"SEMAPA\"], \"x\": [74836680.0, 70660663.0, 29559736.14], \"y\": [2217437.0, 1408130.0, 563622.0], \"type\": \"scatter\", \"uid\": \"1227266e-b607-11e8-9f12-f0761c9f65e1\"}, {\"marker\": {\"color\": \"rgb(230, 99, 250)\", \"size\": [198560.0, 50816.0, 51820.0, 74736.0, 154416.0, 74830.0, 195178.0, 226690.0, 131908.0, 93089.0, 301592.0, 101427.0, 50043.0, 68141.0, 55193.0, 54611.0, 99228.0, 269191.0], \"sizemode\": \"area\", \"sizeref\": 500}, \"mode\": \"markers\", \"name\": \"Categor\\u00eda: B\", \"text\": [\"AAPOS\", \"BUSTILLO\", \"CAPAG\", \"COATRI\", \"COOPAGUAS\", \"COOPAPPI\", \"COOPLAN\", \"COSAALT\", \"COSMOL\", \"COSPAIL\", \"ELAPAS\", \"EMAPAS\", \"EMAPAV\", \"EMAPYC\", \"EPSA COBIJA\", \"MANCHACO\", \"SAJUBA\", \"SELA\"], \"x\": [9443501.2, 1786963.0, 1927200.0, 3126989.0, 7427191.0, 4847703.63, 6363799.0, 15781087.58, 6856509.02, 3783505.91, 9178866.0, null, 1102217.0, 3049154.0, 2995920.0, 3688625.48, 3975603.4, 11027404.74], \"y\": [198560.0, 50816.0, 51820.0, 74736.0, 154416.0, 74830.0, 195178.0, 226690.0, 131908.0, 93089.0, 301592.0, 101427.0, 50043.0, 68141.0, 55193.0, 54611.0, 99228.0, 269191.0], \"type\": \"scatter\", \"uid\": \"1227266f-b607-11e8-a89a-f0761c9f65e1\"}, {\"marker\": {\"color\": \"rgb(99, 110, 250)\", \"size\": [29672.0, 12635.0, 12829.0, 15481.0, 34400.0, 43445.0, 15995.0, 37289.0, 23880.0, 10215.0, 27190.0, 24800.0, 25447.0, 14265.0, 20720.0, 18128.0, 20710.0, 37114.0, 42556.0, 24677.0, 24065.0, 45048.0, 10472.0, 15950.0, 23292.0, 14157.0, 33446.0], \"sizemode\": \"area\", \"sizeref\": 500}, \"mode\": \"markers\", \"name\": \"Categor\\u00eda: C\", \"text\": [\"CAPU\", \"COMAYO\", \"COOPAGUAB\", \"COOPLIM\", \"COOSIV\", \"COOSPELCAR\", \"COSAJU\", \"COSAP\", \"COSAPAC\", \"COSAPSI\", \"COSCHAL\", \"COSEPA\", \"COSEPA\", \"COSIMBO\", \"COSMIN\", \"COSMON\", \"COSPHUL\", \"COSPUGEBUL\", \"EMAAB\", \"EMAPA\", \"EMPSAAT\", \"EMSABAV\", \"FLORIDA\", \"LA GUARDIA\", \"LA PORTE\\u00d1A\", \"SAMAPAR\", \"SEAPAS\"], \"x\": [476461.44, null, 405016.56, 387584.0, 1311160.18, 1563349.0, null, 1629399.0, 1684839.43, 506328.0, 1010727.5, null, 1538736.0, null, 830839.98, 592722.0, 1044104.6, 1126494.0, 2579803.2, null, null, 1867122.86, null, 652186.2, null, null, 1225569.32], \"y\": [29672.0, 12635.0, 12829.0, 15481.0, 34400.0, 43445.0, 15995.0, 37289.0, 23880.0, 10215.0, 27190.0, 24800.0, 25447.0, 14265.0, 20720.0, 18128.0, 20710.0, 37114.0, 42556.0, 24677.0, 24065.0, 45048.0, 10472.0, 15950.0, 23292.0, 14157.0, 33446.0], \"type\": \"scatter\", \"uid\": \"12272670-b607-11e8-b4ea-f0761c9f65e1\"}, {\"marker\": {\"color\": \"rgb(25, 211, 243)\", \"size\": [9230.0, 8949.0, 7611.0, 6686.0, 6825.0, 7554.0, 10000.0], \"sizemode\": \"area\", \"sizeref\": 500}, \"mode\": \"markers\", \"name\": \"Categor\\u00eda: D\", \"text\": [\"CAPSCH\", \"COAPAS VINTO\", \"COOAPASH\", \"COSEPFA\", \"COSEPP\", \"COSERCA\", \"COSSAJA\"], \"x\": [null, 137429.1, null, null, null, null, null], \"y\": [9230.0, 8949.0, 7611.0, 6686.0, 6825.0, 7554.0, 10000.0], \"type\": \"scatter\", \"uid\": \"12272671-b607-11e8-b43c-f0761c9f65e1\"}],\n",
       "            {\"dragmode\": \"lasso\", \"height\": 700, \"hovermode\": \"closest\", \"plot_bgcolor\": \"#dfe8f3\", \"sliders\": [{\"active\": 0, \"currentvalue\": {\"font\": {\"size\": 20}, \"prefix\": \"A\\u00f1o: \", \"visible\": true, \"xanchor\": \"right\"}, \"len\": 0.9, \"pad\": {\"b\": 10, \"t\": 50}, \"steps\": [{\"args\": [[\"2014\"], {\"frame\": {\"duration\": 700, \"redraw\": false}, \"fromcurrent\": true, \"transition\": {\"duration\": 700, \"easing\": \"cubic-in-out\"}}], \"label\": \"2014\", \"method\": \"animate\"}, {\"args\": [[\"2015\"], {\"frame\": {\"duration\": 700, \"redraw\": false}, \"fromcurrent\": true, \"transition\": {\"duration\": 700, \"easing\": \"cubic-in-out\"}}], \"label\": \"2015\", \"method\": \"animate\"}, {\"args\": [[\"2016\"], {\"frame\": {\"duration\": 700, \"redraw\": false}, \"fromcurrent\": true, \"transition\": {\"duration\": 700, \"easing\": \"cubic-in-out\"}}], \"label\": \"2016\", \"method\": \"animate\"}], \"x\": 0.1, \"xanchor\": \"left\", \"y\": 0, \"yanchor\": \"top\"}], \"updatemenus\": [{\"buttons\": [{\"args\": [[\"2014\", \"2015\", \"2016\"], {\"frame\": {\"duration\": 700, \"redraw\": false}, \"fromcurrent\": true, \"transition\": {\"duration\": 700, \"easing\": \"cubic-in-out\"}}], \"label\": \"Animar\", \"method\": \"animate\"}], \"direction\": \"left\", \"pad\": {\"r\": 10, \"t\": 87}, \"showactive\": false, \"type\": \"buttons\", \"x\": 0.1, \"xanchor\": \"right\", \"y\": 0, \"yanchor\": \"top\"}], \"width\": 1000, \"xaxis\": {\"title\": \"Variable 3: Volumen de agua potable producido (Planta de tratamiento y/o tanque de desinfecci\\u00f3n) (m3/periodo)\"}, \"yaxis\": {\"title\": \"Variable 22: Poblaci\\u00f3n total (Del \\u00e1rea de servicio autorizado) (hab.)\"}},\n",
       "            {\"showLink\": true, \"linkText\": \"Export to plot.ly\"}\n",
       "        ).then(function () {return Plotly.addFrames('ec37531e-5cbe-47ec-b4f8-b5a3619ac4c1',[{\"data\": [{\"marker\": {\"color\": \"rgb(171, 99, 250)\", \"size\": [2217437.0, 1408130.0, 563622.0], \"sizemode\": \"area\", \"sizeref\": 500}, \"mode\": \"markers\", \"name\": \"Categor\\u00eda: A\", \"text\": [\"EPSAS\", \"SAGUAPAC\", \"SEMAPA\"], \"x\": [74836680.0, 70660663.0, 29559736.14], \"y\": [2217437.0, 1408130.0, 563622.0], \"type\": \"scatter\"}, {\"marker\": {\"color\": \"rgb(230, 99, 250)\", \"size\": [198560.0, 50816.0, 51820.0, 74736.0, 154416.0, 74830.0, 195178.0, 226690.0, 131908.0, 93089.0, 301592.0, 101427.0, 50043.0, 68141.0, 55193.0, 54611.0, 99228.0, 269191.0], \"sizemode\": \"area\", \"sizeref\": 500}, \"mode\": \"markers\", \"name\": \"Categor\\u00eda: B\", \"text\": [\"AAPOS\", \"BUSTILLO\", \"CAPAG\", \"COATRI\", \"COOPAGUAS\", \"COOPAPPI\", \"COOPLAN\", \"COSAALT\", \"COSMOL\", \"COSPAIL\", \"ELAPAS\", \"EMAPAS\", \"EMAPAV\", \"EMAPYC\", \"EPSA COBIJA\", \"MANCHACO\", \"SAJUBA\", \"SELA\"], \"x\": [9443501.2, 1786963.0, 1927200.0, 3126989.0, 7427191.0, 4847703.63, 6363799.0, 15781087.58, 6856509.02, 3783505.91, 9178866.0, null, 1102217.0, 3049154.0, 2995920.0, 3688625.48, 3975603.4, 11027404.74], \"y\": [198560.0, 50816.0, 51820.0, 74736.0, 154416.0, 74830.0, 195178.0, 226690.0, 131908.0, 93089.0, 301592.0, 101427.0, 50043.0, 68141.0, 55193.0, 54611.0, 99228.0, 269191.0], \"type\": \"scatter\"}, {\"marker\": {\"color\": \"rgb(99, 110, 250)\", \"size\": [29672.0, 12635.0, 12829.0, 15481.0, 34400.0, 43445.0, 15995.0, 37289.0, 23880.0, 10215.0, 27190.0, 24800.0, 25447.0, 14265.0, 20720.0, 18128.0, 20710.0, 37114.0, 42556.0, 24677.0, 24065.0, 45048.0, 10472.0, 15950.0, 23292.0, 14157.0, 33446.0], \"sizemode\": \"area\", \"sizeref\": 500}, \"mode\": \"markers\", \"name\": \"Categor\\u00eda: C\", \"text\": [\"CAPU\", \"COMAYO\", \"COOPAGUAB\", \"COOPLIM\", \"COOSIV\", \"COOSPELCAR\", \"COSAJU\", \"COSAP\", \"COSAPAC\", \"COSAPSI\", \"COSCHAL\", \"COSEPA\", \"COSEPA\", \"COSIMBO\", \"COSMIN\", \"COSMON\", \"COSPHUL\", \"COSPUGEBUL\", \"EMAAB\", \"EMAPA\", \"EMPSAAT\", \"EMSABAV\", \"FLORIDA\", \"LA GUARDIA\", \"LA PORTE\\u00d1A\", \"SAMAPAR\", \"SEAPAS\"], \"x\": [476461.44, null, 405016.56, 387584.0, 1311160.18, 1563349.0, null, 1629399.0, 1684839.43, 506328.0, 1010727.5, null, 1538736.0, null, 830839.98, 592722.0, 1044104.6, 1126494.0, 2579803.2, null, null, 1867122.86, null, 652186.2, null, null, 1225569.32], \"y\": [29672.0, 12635.0, 12829.0, 15481.0, 34400.0, 43445.0, 15995.0, 37289.0, 23880.0, 10215.0, 27190.0, 24800.0, 25447.0, 14265.0, 20720.0, 18128.0, 20710.0, 37114.0, 42556.0, 24677.0, 24065.0, 45048.0, 10472.0, 15950.0, 23292.0, 14157.0, 33446.0], \"type\": \"scatter\"}, {\"marker\": {\"color\": \"rgb(25, 211, 243)\", \"size\": [9230.0, 8949.0, 7611.0, 6686.0, 6825.0, 7554.0, 10000.0], \"sizemode\": \"area\", \"sizeref\": 500}, \"mode\": \"markers\", \"name\": \"Categor\\u00eda: D\", \"text\": [\"CAPSCH\", \"COAPAS VINTO\", \"COOAPASH\", \"COSEPFA\", \"COSEPP\", \"COSERCA\", \"COSSAJA\"], \"x\": [null, 137429.1, null, null, null, null, null], \"y\": [9230.0, 8949.0, 7611.0, 6686.0, 6825.0, 7554.0, 10000.0], \"type\": \"scatter\"}], \"name\": \"2014\"}, {\"data\": [{\"marker\": {\"color\": \"rgb(171, 99, 250)\", \"size\": [2292942.0, 1485577.0, 572851.0], \"sizemode\": \"area\", \"sizeref\": 500}, \"mode\": \"markers\", \"name\": \"Categor\\u00eda: A\", \"text\": [\"EPSAS\", \"SAGUAPAC\", \"SEMAPA\"], \"x\": [77330993.0, 73129325.0, 28373209.12], \"y\": [2292942.0, 1485577.0, 572851.0], \"type\": \"scatter\"}, {\"marker\": {\"color\": \"rgb(230, 99, 250)\", \"size\": [202035.0, 53331.0, 53084.0, 74486.0, 159605.0, 78572.0, 203278.0, 234292.0, 136049.0, 98389.0, 275061.0, 107127.0, 52340.0, 68720.0, 58482.0, 55802.0, 102810.0, 275983.0], \"sizemode\": \"area\", \"sizeref\": 500}, \"mode\": \"markers\", \"name\": \"Categor\\u00eda: B\", \"text\": [\"AAPOS\", \"BUSTILLO\", \"CAPAG\", \"COATRI\", \"COOPAGUAS\", \"COOPAPPI\", \"COOPLAN\", \"COSAALT\", \"COSMOL\", \"COSPAIL\", \"ELAPAS\", \"EMAPAS\", \"EMAPAV\", \"EMAPYC\", \"EPSA COBIJA\", \"MANCHACO\", \"SAJUBA\", \"SELA\"], \"x\": [9490852.8, 2246279.04, 2215639.0, 2960171.0, 7881284.0, 4058522.45, 6542079.0, 14315726.74, 7804258.24, 3938716.18, 10400068.0, 1453411.8, 1260274.0, 3049370.51, 3006326.0, null, 3942185.17, 11311977.0], \"y\": [202035.0, 53331.0, 53084.0, 74486.0, 159605.0, 78572.0, 203278.0, 234292.0, 136049.0, 98389.0, 275061.0, 107127.0, 52340.0, 68720.0, 58482.0, 55802.0, 102810.0, 275983.0], \"type\": \"scatter\"}, {\"marker\": {\"color\": \"rgb(99, 110, 250)\", \"size\": [31245.0, 13267.0, 13429.0, 16255.0, 35122.0, 46138.0, 20415.0, 38035.0, 25462.0, 10573.0, 27494.0, 28971.0, 30239.0, 18402.0, 21248.0, 18491.0, 21381.0, 39080.0, 43284.0, 30000.0, 24259.0, 46489.0, 10535.0, 16939.0, 23000.0, 14582.0, 35205.0], \"sizemode\": \"area\", \"sizeref\": 500}, \"mode\": \"markers\", \"name\": \"Categor\\u00eda: C\", \"text\": [\"CAPU\", \"COMAYO\", \"COOPAGUAB\", \"COOPLIM\", \"COOSIV\", \"COOSPELCAR\", \"COSAJU\", \"COSAP\", \"COSAPAC\", \"COSAPSI\", \"COSCHAL\", \"COSEPA\", \"COSEPA\", \"COSIMBO\", \"COSMIN\", \"COSMON\", \"COSPHUL\", \"COSPUGEBUL\", \"EMAAB\", \"EMAPA\", \"EMPSAAT\", \"EMSABAV\", \"FLORIDA\", \"LA GUARDIA\", \"LA PORTE\\u00d1A\", \"SAMAPAR\", \"SEAPAS\"], \"x\": [649956.96, null, 395176.0, 405526.0, 1318757.0, 2204500.35, 740613.0, 1713984.0, null, 452404.41, 1055415.6, 1480734.0, null, 409521.6, 926727.0, 692049.0, 1033140.52, 1275096.34, 2317896.0, null, 1174716.0, 1651972.45, null, 702187.25, 763413.12, 788400.0, 861837.0], \"y\": [31245.0, 13267.0, 13429.0, 16255.0, 35122.0, 46138.0, 20415.0, 38035.0, 25462.0, 10573.0, 27494.0, 28971.0, 30239.0, 18402.0, 21248.0, 18491.0, 21381.0, 39080.0, 43284.0, 30000.0, 24259.0, 46489.0, 10535.0, 16939.0, 23000.0, 14582.0, 35205.0], \"type\": \"scatter\"}, {\"marker\": {\"color\": \"rgb(25, 211, 243)\", \"size\": [9536.0, 9234.0, 7872.0, 8075.0, 7063.0, 7850.0, 9558.0], \"sizemode\": \"area\", \"sizeref\": 500}, \"mode\": \"markers\", \"name\": \"Categor\\u00eda: D\", \"text\": [\"CAPSCH\", \"COAPAS VINTO\", \"COOAPASH\", \"COSEPFA\", \"COSEPP\", \"COSERCA\", \"COSSAJA\"], \"x\": [null, 147559.53, null, 210468.67, 197373.95, null, 321141.6], \"y\": [9536.0, 9234.0, 7872.0, 8075.0, 7063.0, 7850.0, 9558.0], \"type\": \"scatter\"}], \"name\": \"2015\"}, {\"data\": [{\"marker\": {\"color\": \"rgb(171, 99, 250)\", \"size\": [2336119.0, 1537572.0, 581675.0], \"sizemode\": \"area\", \"sizeref\": 500}, \"mode\": \"markers\", \"name\": \"Categor\\u00eda: A\", \"text\": [\"EPSAS\", \"SAGUAPAC\", \"SEMAPA\"], \"x\": [76911778.0, 74796574.0, 22908181.39], \"y\": [2336119.0, 1537572.0, 581675.0], \"type\": \"scatter\"}, {\"marker\": {\"color\": \"rgb(230, 99, 250)\", \"size\": [205570.0, 53692.13, 54380.0, 76330.0, 164115.0, 80458.0, 163705.0, 241255.0, 143848.0, 101060.0, 278018.0, 113147.0, 54743.0, 69304.0, 62032.0, 57521.0, 107124.0, 282850.0], \"sizemode\": \"area\", \"sizeref\": 500}, \"mode\": \"markers\", \"name\": \"Categor\\u00eda: B\", \"text\": [\"AAPOS\", \"BUSTILLO\", \"CAPAG\", \"COATRI\", \"COOPAGUAS\", \"COOPAPPI\", \"COOPLAN\", \"COSAALT\", \"COSMOL\", \"COSPAIL\", \"ELAPAS\", \"EMAPAS\", \"EMAPAV\", \"EMAPYC\", \"EPSA COBIJA\", \"MANCHACO\", \"SAJUBA\", \"SELA\"], \"x\": [7870795.2, 1721213.71, 2166790.0, 2837270.0, 7990485.0, 3922140.58, 6635334.0, 14447528.16, 7779911.2, 4257545.0, 11293211.0, 1155698.0, 1118359.0, 3089024.4, 2918160.0, 4162752.0, 4246325.6, 11507094.0], \"y\": [205570.0, 53692.13, 54380.0, 76330.0, 164115.0, 80458.0, 163705.0, 241255.0, 143848.0, 101060.0, 278018.0, 113147.0, 54743.0, 69304.0, 62032.0, 57521.0, 107124.0, 282850.0], \"type\": \"scatter\"}, {\"marker\": {\"color\": \"rgb(99, 110, 250)\", \"size\": [32340.0, 15027.0, 14006.0, 16956.0, 35859.56, 48749.0, 23584.23, 38788.0, 26735.0, 10945.0, 28109.87, 28408.0, 32557.0, 18800.0, 15766.0, 19384.0, 21552.0, 18860.0, 21436.0, 43294.0, 31512.0, 26429.0, 24455.0, 47884.0, 10703.0, 18212.0, 28373.0, 15006.0, 37057.0, 31218.0], \"sizemode\": \"area\", \"sizeref\": 500}, \"mode\": \"markers\", \"name\": \"Categor\\u00eda: C\", \"text\": [\"CAPU\", \"COMAYO\", \"COOPAGUAB\", \"COOPLIM\", \"COOSIV\", \"COOSPELCAR\", \"COSAJU\", \"COSAP\", \"COSAPAC\", \"COSAPSI\", \"COSCHAL\", \"COSEPA\", \"COSEPA\", \"COSEPCO\", \"COSEPUR\", \"COSIMBO\", \"COSMIN\", \"COSMON\", \"COSPHUL\", \"COSPUGEBUL\", \"EMAAB\", \"EMAPA\", \"EMPSAAT\", \"EMSABAV\", \"FLORIDA\", \"LA GUARDIA\", \"LA PORTE\\u00d1A\", \"SAMAPAR\", \"SEAPAS\", \"SMAPA\"], \"x\": [627830.0, 750000.0, 402567.19, 428145.0, 1445775.0, 2047609.0, 801124.0, 1882527.0, 2325768.0, 415205.2, 1072638.6, null, 1604515.0, 258574.0, 1013504.0, 534999.6, 951041.0, 713463.0, 1005508.8, 1327935.8, 2903785.0, 339841.44, 1062816.0, 1686005.45, 303912.0, 680767.0, 961812.0, 889315.0, 925562.0, 527703.42], \"y\": [32340.0, 15027.0, 14006.0, 16956.0, 35859.56, 48749.0, 23584.23, 38788.0, 26735.0, 10945.0, 28109.87, 28408.0, 32557.0, 18800.0, 15766.0, 19384.0, 21552.0, 18860.0, 21436.0, 43294.0, 31512.0, 26429.0, 24455.0, 47884.0, 10703.0, 18212.0, 28373.0, 15006.0, 37057.0, 31218.0], \"type\": \"scatter\"}, {\"marker\": {\"color\": \"rgb(25, 211, 243)\", \"size\": [8520.0, 5294.8, 9834.0, 9516.0, 7306.0, 8084.0, 4025.0, 8140.0, 7310.0, 8500.0, 9968.0, 4805.0, 4509.0], \"sizemode\": \"area\", \"sizeref\": 500}, \"mode\": \"markers\", \"name\": \"Categor\\u00eda: D\", \"text\": [\"ASOAPAL\", \"CAPCHI\", \"CAPSCH\", \"COAPAS VINTO\", \"COLOMI\", \"COOAPASH\", \"COSAJO\", \"COSEPFA\", \"COSEPP\", \"COSERCA\", \"COSSAJA\", \"JASAP\", \"JOROCHITO\"], \"x\": [null, null, null, 133546.28, null, null, 161618.0, 214976.16, 164371.64, 500803.0, 488808.0, null, 251806.0], \"y\": [8520.0, 5294.8, 9834.0, 9516.0, 7306.0, 8084.0, 4025.0, 8140.0, 7310.0, 8500.0, 9968.0, 4805.0, 4509.0], \"type\": \"scatter\"}], \"name\": \"2016\"}]);}).then(function(){Plotly.animate('ec37531e-5cbe-47ec-b4f8-b5a3619ac4c1');})\n",
       "        });</script>"
      ]
     },
     "metadata": {},
     "output_type": "display_data"
    }
   ],
   "source": [
    "import numpy as np\n",
    "from plotly.offline import iplot\n",
    "# import plotly.plotly as py\n",
    "\n",
    "\n",
    "figure = dict(data=[], layout={}, frames=[])\n",
    "animation_settings = dict(\n",
    "    frame={'duration': 700, 'redraw': False},\n",
    "    fromcurrent=True,\n",
    "    transition={'duration': 700, 'easing':'cubic-in-out'},\n",
    ")\n",
    "\n",
    "for category in categories:\n",
    "    data_dict = {\n",
    "        'x': grid_data[f'2014_{category}_{plane_dimensions[0]}'],\n",
    "        'y': grid_data[f'2014_{category}_{plane_dimensions[1]}'],\n",
    "        'mode': 'markers',\n",
    "        'marker': {\n",
    "            'color': custom_colors[category]\n",
    "        },\n",
    "        'marker': {\n",
    "            'sizemode': 'area',\n",
    "            'sizeref': 500,\n",
    "            'size': grid_data[f'2014_{category}_{size_dimension}'],\n",
    "            'color': custom_colors[category],\n",
    "        },\n",
    "        'text': grid_data[f'2014_{category}_codes'],\n",
    "        'name': 'Categoría: ' + category,\n",
    "    }\n",
    "    figure['data'].append(data_dict)\n",
    "\n",
    "steps = []\n",
    "for year in years:\n",
    "    step = dict(\n",
    "        method = 'animate',  \n",
    "        args = [[year], animation_settings],\n",
    "        label= year\n",
    "    )\n",
    "    steps.append(step)\n",
    "\n",
    "figure['layout']['sliders'] = [dict(\n",
    "    active = 0,\n",
    "    currentvalue = {\n",
    "        'prefix': 'Año: ',\n",
    "        'font': {'size': 20},\n",
    "        'visible': True,\n",
    "        'xanchor': 'right'\n",
    "    },\n",
    "    steps = steps,\n",
    "    yanchor= 'top',\n",
    "    xanchor= 'left',\n",
    "    pad= {'b': 10, 't': 50},\n",
    "    len= 0.9,\n",
    "    x= 0.1,\n",
    "    y= 0,\n",
    ")]\n",
    "\n",
    "figure['layout']['updatemenus'] = [{\n",
    "    'buttons': [{\n",
    "        'args': [years, animation_settings],\n",
    "        'label': 'Animar',\n",
    "        'method': 'animate',\n",
    "    }],\n",
    "    'direction': 'left',\n",
    "    'pad': {'r': 10, 't': 87},\n",
    "    'showactive': False,\n",
    "    'type': 'buttons',\n",
    "    'x': 0.1,\n",
    "    'xanchor': 'right',\n",
    "    'y': 0,\n",
    "    'yanchor': 'top'\n",
    "}]\n",
    "\n",
    "x_ind = plane_dimensions[0][1:]\n",
    "y_ind = plane_dimensions[1][1:]\n",
    "\n",
    "figure['layout']['hovermode'] = 'closest'\n",
    "figure['layout']['xaxis'] = {'title': f'Variable {x_ind}: {vdf[vdf.var_id==int(x_ind)][\"name\"].iloc[0]} ({vdf[vdf.var_id==int(x_ind)][\"unit\"].iloc[0]})'}\n",
    "figure['layout']['yaxis'] = {'title': f'Variable {y_ind}: {vdf[vdf.var_id==int(y_ind)][\"name\"].iloc[0]} ({vdf[vdf.var_id==int(y_ind)][\"unit\"].iloc[0]})'}\n",
    "figure['layout']['height'] = 700\n",
    "figure['layout']['width'] = 1000\n",
    "figure['layout']['plot_bgcolor'] = '#dfe8f3'\n",
    "figure['layout']['dragmode'] = 'lasso'\n",
    "\n",
    "def create_frame(year):\n",
    "    frame_data = []\n",
    "    for category in categories:\n",
    "        year_cat_dict = {\n",
    "            'x': grid_data[f'{year}_{category}_{plane_dimensions[0]}'],\n",
    "            'y': grid_data[f'{year}_{category}_{plane_dimensions[1]}'],\n",
    "            'mode': 'markers',\n",
    "            'marker': {\n",
    "                'sizemode': 'area',\n",
    "                'sizeref': 500,\n",
    "                'size': grid_data[f'{year}_{category}_{size_dimension}'],\n",
    "                'color': custom_colors[category],\n",
    "            },\n",
    "            'text': grid_data[f'{year}_{category}_codes'],\n",
    "            'name': 'Categoría: ' + category,\n",
    "        }\n",
    "        frame_data.append(year_cat_dict)\n",
    "        \n",
    "    return dict(data=frame_data, name=year)\n",
    "\n",
    "figure['frames'] = [create_frame(year) for year in years]\n",
    "\n",
    "\n",
    "iplot(figure)"
   ]
  }
 ],
 "metadata": {
  "kernelspec": {
   "display_name": "Python 3",
   "language": "python",
   "name": "python3"
  },
  "language_info": {
   "codemirror_mode": {
    "name": "ipython",
    "version": 3
   },
   "file_extension": ".py",
   "mimetype": "text/x-python",
   "name": "python",
   "nbconvert_exporter": "python",
   "pygments_lexer": "ipython3",
   "version": "3.6.5"
  }
 },
 "nbformat": 4,
 "nbformat_minor": 2
}
